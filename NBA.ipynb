{
 "cells": [
  {
   "cell_type": "code",
   "execution_count": 9,
   "metadata": {},
   "outputs": [
    {
     "name": "stdout",
     "output_type": "stream",
     "text": [
      "2017-18\n"
     ]
    }
   ],
   "source": [
    "from nba_py.constants import CURRENT_SEASON\n",
    "from nba_py import game\n",
    "print(CURRENT_SEASON)"
   ]
  },
  {
   "cell_type": "code",
   "execution_count": 10,
   "metadata": {},
   "outputs": [
    {
     "name": "stdout",
     "output_type": "stream",
     "text": [
      "         GAME_DATE_EST  GAME_SEQUENCE     GAME_ID     TEAM_ID  \\\n",
      "0  2016-12-25T00:00:00              2  0021600457  1610612739   \n",
      "1  2016-12-25T00:00:00              2  0021600457  1610612744   \n",
      "\n",
      "  TEAM_ABBREVIATION TEAM_CITY_NAME TEAM_NICKNAME TEAM_WINS_LOSSES  PTS_QTR1  \\\n",
      "0               CLE      Cleveland     Cavaliers             23-6        25   \n",
      "1               GSW   Golden State      Warriors             27-5        27   \n",
      "\n",
      "   PTS_QTR2 ...   PTS_OT2  PTS_OT3  PTS_OT4  PTS_OT5  PTS_OT6  PTS_OT7  \\\n",
      "0        27 ...         0        0        0        0        0        0   \n",
      "1        28 ...         0        0        0        0        0        0   \n",
      "\n",
      "   PTS_OT8  PTS_OT9  PTS_OT10  PTS  \n",
      "0        0        0         0  109  \n",
      "1        0        0         0  108  \n",
      "\n",
      "[2 rows x 23 columns]\n"
     ]
    }
   ],
   "source": [
    "boxscore_summary = game.BoxscoreSummary(\"0021600457\")\n",
    "print(boxscore_summary.line_score())\n"
   ]
  },
  {
   "cell_type": "code",
   "execution_count": null,
   "metadata": {
    "collapsed": true
   },
   "outputs": [],
   "source": []
  }
 ],
 "metadata": {
  "kernelspec": {
   "display_name": "Python 3",
   "language": "python",
   "name": "python3"
  },
  "language_info": {
   "codemirror_mode": {
    "name": "ipython",
    "version": 3
   },
   "file_extension": ".py",
   "mimetype": "text/x-python",
   "name": "python",
   "nbconvert_exporter": "python",
   "pygments_lexer": "ipython3",
   "version": "3.6.3"
  }
 },
 "nbformat": 4,
 "nbformat_minor": 2
}
