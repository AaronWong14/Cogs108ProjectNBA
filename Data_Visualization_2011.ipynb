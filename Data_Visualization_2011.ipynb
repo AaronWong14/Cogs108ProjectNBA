{
 "cells": [
  {
   "cell_type": "code",
   "execution_count": 1,
   "metadata": {
    "collapsed": true
   },
   "outputs": [],
   "source": [
    "# Imports - these are all the imports needed for the assignment\n",
    "%matplotlib inline\n",
    "from scipy import stats\n",
    "import numpy.ma as ma\n",
    "from scipy.stats import mstats\n",
    "\n",
    "import numpy as np\n",
    "import pandas as pd\n",
    "import matplotlib.pyplot as plt"
   ]
  },
  {
   "cell_type": "code",
   "execution_count": 2,
   "metadata": {
    "collapsed": true
   },
   "outputs": [],
   "source": [
    "# 1a) Load the nba csv files\n",
    "\n",
    "# YOUR CODE HERE\n",
    "df_2011 = pd.read_csv('clean_players_2011.csv')"
   ]
  },
  {
   "cell_type": "code",
   "execution_count": 3,
   "metadata": {},
   "outputs": [
    {
     "data": {
      "text/html": [
       "<div>\n",
       "<style>\n",
       "    .dataframe thead tr:only-child th {\n",
       "        text-align: right;\n",
       "    }\n",
       "\n",
       "    .dataframe thead th {\n",
       "        text-align: left;\n",
       "    }\n",
       "\n",
       "    .dataframe tbody tr th {\n",
       "        vertical-align: top;\n",
       "    }\n",
       "</style>\n",
       "<table border=\"1\" class=\"dataframe\">\n",
       "  <thead>\n",
       "    <tr style=\"text-align: right;\">\n",
       "      <th></th>\n",
       "      <th>Unnamed: 0</th>\n",
       "      <th>PLAYER_ID</th>\n",
       "      <th>PLAYER_NAME</th>\n",
       "      <th>TEAM_ID</th>\n",
       "      <th>TEAM_ABBREVIATION</th>\n",
       "      <th>AGE</th>\n",
       "      <th>GP</th>\n",
       "      <th>W</th>\n",
       "      <th>L</th>\n",
       "      <th>W_PCT</th>\n",
       "      <th>...</th>\n",
       "      <th>FTA</th>\n",
       "      <th>FT_PCT</th>\n",
       "      <th>OREB</th>\n",
       "      <th>DREB</th>\n",
       "      <th>REB</th>\n",
       "      <th>AST</th>\n",
       "      <th>TOV</th>\n",
       "      <th>STL</th>\n",
       "      <th>BLK</th>\n",
       "      <th>PTS</th>\n",
       "    </tr>\n",
       "  </thead>\n",
       "  <tbody>\n",
       "    <tr>\n",
       "      <th>0</th>\n",
       "      <td>0</td>\n",
       "      <td>201985</td>\n",
       "      <td>AJ Price</td>\n",
       "      <td>1610612754</td>\n",
       "      <td>IND</td>\n",
       "      <td>25.0</td>\n",
       "      <td>44</td>\n",
       "      <td>27</td>\n",
       "      <td>17</td>\n",
       "      <td>0.614</td>\n",
       "      <td>...</td>\n",
       "      <td>0.8</td>\n",
       "      <td>0.800</td>\n",
       "      <td>0.3</td>\n",
       "      <td>1.1</td>\n",
       "      <td>1.4</td>\n",
       "      <td>2.0</td>\n",
       "      <td>0.7</td>\n",
       "      <td>0.5</td>\n",
       "      <td>0.0</td>\n",
       "      <td>3.9</td>\n",
       "    </tr>\n",
       "    <tr>\n",
       "      <th>1</th>\n",
       "      <td>1</td>\n",
       "      <td>201189</td>\n",
       "      <td>Aaron Gray</td>\n",
       "      <td>1610612761</td>\n",
       "      <td>TOR</td>\n",
       "      <td>27.0</td>\n",
       "      <td>49</td>\n",
       "      <td>17</td>\n",
       "      <td>32</td>\n",
       "      <td>0.347</td>\n",
       "      <td>...</td>\n",
       "      <td>1.0</td>\n",
       "      <td>0.532</td>\n",
       "      <td>1.7</td>\n",
       "      <td>4.0</td>\n",
       "      <td>5.7</td>\n",
       "      <td>0.6</td>\n",
       "      <td>1.0</td>\n",
       "      <td>0.4</td>\n",
       "      <td>0.3</td>\n",
       "      <td>3.9</td>\n",
       "    </tr>\n",
       "    <tr>\n",
       "      <th>2</th>\n",
       "      <td>2</td>\n",
       "      <td>1733</td>\n",
       "      <td>Al Harrington</td>\n",
       "      <td>1610612743</td>\n",
       "      <td>DEN</td>\n",
       "      <td>32.0</td>\n",
       "      <td>64</td>\n",
       "      <td>36</td>\n",
       "      <td>28</td>\n",
       "      <td>0.563</td>\n",
       "      <td>...</td>\n",
       "      <td>2.8</td>\n",
       "      <td>0.676</td>\n",
       "      <td>1.1</td>\n",
       "      <td>5.0</td>\n",
       "      <td>6.1</td>\n",
       "      <td>1.4</td>\n",
       "      <td>1.8</td>\n",
       "      <td>0.9</td>\n",
       "      <td>0.2</td>\n",
       "      <td>14.2</td>\n",
       "    </tr>\n",
       "    <tr>\n",
       "      <th>3</th>\n",
       "      <td>3</td>\n",
       "      <td>201143</td>\n",
       "      <td>Al Horford</td>\n",
       "      <td>1610612737</td>\n",
       "      <td>ATL</td>\n",
       "      <td>26.0</td>\n",
       "      <td>11</td>\n",
       "      <td>7</td>\n",
       "      <td>4</td>\n",
       "      <td>0.636</td>\n",
       "      <td>...</td>\n",
       "      <td>2.7</td>\n",
       "      <td>0.733</td>\n",
       "      <td>2.4</td>\n",
       "      <td>4.6</td>\n",
       "      <td>7.0</td>\n",
       "      <td>2.2</td>\n",
       "      <td>1.5</td>\n",
       "      <td>0.9</td>\n",
       "      <td>1.3</td>\n",
       "      <td>12.4</td>\n",
       "    </tr>\n",
       "    <tr>\n",
       "      <th>4</th>\n",
       "      <td>4</td>\n",
       "      <td>2744</td>\n",
       "      <td>Al Jefferson</td>\n",
       "      <td>1610612762</td>\n",
       "      <td>UTA</td>\n",
       "      <td>27.0</td>\n",
       "      <td>61</td>\n",
       "      <td>32</td>\n",
       "      <td>29</td>\n",
       "      <td>0.525</td>\n",
       "      <td>...</td>\n",
       "      <td>2.9</td>\n",
       "      <td>0.774</td>\n",
       "      <td>2.2</td>\n",
       "      <td>7.4</td>\n",
       "      <td>9.6</td>\n",
       "      <td>2.2</td>\n",
       "      <td>1.0</td>\n",
       "      <td>0.8</td>\n",
       "      <td>1.7</td>\n",
       "      <td>19.2</td>\n",
       "    </tr>\n",
       "    <tr>\n",
       "      <th>5</th>\n",
       "      <td>5</td>\n",
       "      <td>202329</td>\n",
       "      <td>Al-Farouq Aminu</td>\n",
       "      <td>1610612740</td>\n",
       "      <td>NOH</td>\n",
       "      <td>21.0</td>\n",
       "      <td>66</td>\n",
       "      <td>21</td>\n",
       "      <td>45</td>\n",
       "      <td>0.318</td>\n",
       "      <td>...</td>\n",
       "      <td>1.7</td>\n",
       "      <td>0.754</td>\n",
       "      <td>1.4</td>\n",
       "      <td>3.2</td>\n",
       "      <td>4.7</td>\n",
       "      <td>1.0</td>\n",
       "      <td>1.4</td>\n",
       "      <td>0.9</td>\n",
       "      <td>0.5</td>\n",
       "      <td>6.0</td>\n",
       "    </tr>\n",
       "    <tr>\n",
       "      <th>6</th>\n",
       "      <td>6</td>\n",
       "      <td>101187</td>\n",
       "      <td>Alan Anderson</td>\n",
       "      <td>1610612761</td>\n",
       "      <td>TOR</td>\n",
       "      <td>29.0</td>\n",
       "      <td>17</td>\n",
       "      <td>7</td>\n",
       "      <td>10</td>\n",
       "      <td>0.412</td>\n",
       "      <td>...</td>\n",
       "      <td>2.0</td>\n",
       "      <td>0.853</td>\n",
       "      <td>0.5</td>\n",
       "      <td>1.5</td>\n",
       "      <td>2.0</td>\n",
       "      <td>1.5</td>\n",
       "      <td>1.5</td>\n",
       "      <td>0.3</td>\n",
       "      <td>0.2</td>\n",
       "      <td>9.6</td>\n",
       "    </tr>\n",
       "    <tr>\n",
       "      <th>7</th>\n",
       "      <td>7</td>\n",
       "      <td>202692</td>\n",
       "      <td>Alec Burks</td>\n",
       "      <td>1610612762</td>\n",
       "      <td>UTA</td>\n",
       "      <td>20.0</td>\n",
       "      <td>59</td>\n",
       "      <td>33</td>\n",
       "      <td>26</td>\n",
       "      <td>0.559</td>\n",
       "      <td>...</td>\n",
       "      <td>2.4</td>\n",
       "      <td>0.727</td>\n",
       "      <td>1.0</td>\n",
       "      <td>1.3</td>\n",
       "      <td>2.2</td>\n",
       "      <td>0.9</td>\n",
       "      <td>0.9</td>\n",
       "      <td>0.5</td>\n",
       "      <td>0.1</td>\n",
       "      <td>7.2</td>\n",
       "    </tr>\n",
       "    <tr>\n",
       "      <th>8</th>\n",
       "      <td>8</td>\n",
       "      <td>202087</td>\n",
       "      <td>Alonzo Gee</td>\n",
       "      <td>1610612739</td>\n",
       "      <td>CLE</td>\n",
       "      <td>25.0</td>\n",
       "      <td>63</td>\n",
       "      <td>20</td>\n",
       "      <td>43</td>\n",
       "      <td>0.317</td>\n",
       "      <td>...</td>\n",
       "      <td>3.4</td>\n",
       "      <td>0.788</td>\n",
       "      <td>1.6</td>\n",
       "      <td>3.5</td>\n",
       "      <td>5.1</td>\n",
       "      <td>1.8</td>\n",
       "      <td>1.8</td>\n",
       "      <td>1.3</td>\n",
       "      <td>0.3</td>\n",
       "      <td>10.6</td>\n",
       "    </tr>\n",
       "    <tr>\n",
       "      <th>9</th>\n",
       "      <td>9</td>\n",
       "      <td>2405</td>\n",
       "      <td>Amar'e Stoudemire</td>\n",
       "      <td>1610612752</td>\n",
       "      <td>NYK</td>\n",
       "      <td>29.0</td>\n",
       "      <td>47</td>\n",
       "      <td>22</td>\n",
       "      <td>25</td>\n",
       "      <td>0.468</td>\n",
       "      <td>...</td>\n",
       "      <td>5.2</td>\n",
       "      <td>0.765</td>\n",
       "      <td>2.3</td>\n",
       "      <td>5.6</td>\n",
       "      <td>7.8</td>\n",
       "      <td>1.1</td>\n",
       "      <td>2.4</td>\n",
       "      <td>0.8</td>\n",
       "      <td>1.0</td>\n",
       "      <td>17.5</td>\n",
       "    </tr>\n",
       "    <tr>\n",
       "      <th>10</th>\n",
       "      <td>10</td>\n",
       "      <td>101161</td>\n",
       "      <td>Amir Johnson</td>\n",
       "      <td>1610612761</td>\n",
       "      <td>TOR</td>\n",
       "      <td>25.0</td>\n",
       "      <td>64</td>\n",
       "      <td>22</td>\n",
       "      <td>42</td>\n",
       "      <td>0.344</td>\n",
       "      <td>...</td>\n",
       "      <td>1.3</td>\n",
       "      <td>0.690</td>\n",
       "      <td>2.3</td>\n",
       "      <td>4.0</td>\n",
       "      <td>6.4</td>\n",
       "      <td>1.2</td>\n",
       "      <td>1.5</td>\n",
       "      <td>0.5</td>\n",
       "      <td>1.1</td>\n",
       "      <td>7.1</td>\n",
       "    </tr>\n",
       "    <tr>\n",
       "      <th>11</th>\n",
       "      <td>11</td>\n",
       "      <td>2760</td>\n",
       "      <td>Anderson Varejao</td>\n",
       "      <td>1610612739</td>\n",
       "      <td>CLE</td>\n",
       "      <td>29.0</td>\n",
       "      <td>25</td>\n",
       "      <td>10</td>\n",
       "      <td>15</td>\n",
       "      <td>0.400</td>\n",
       "      <td>...</td>\n",
       "      <td>2.6</td>\n",
       "      <td>0.672</td>\n",
       "      <td>4.4</td>\n",
       "      <td>7.1</td>\n",
       "      <td>11.5</td>\n",
       "      <td>1.7</td>\n",
       "      <td>1.8</td>\n",
       "      <td>1.4</td>\n",
       "      <td>0.7</td>\n",
       "      <td>10.8</td>\n",
       "    </tr>\n",
       "    <tr>\n",
       "      <th>12</th>\n",
       "      <td>12</td>\n",
       "      <td>101154</td>\n",
       "      <td>Andray Blatche</td>\n",
       "      <td>1610612764</td>\n",
       "      <td>WAS</td>\n",
       "      <td>25.0</td>\n",
       "      <td>26</td>\n",
       "      <td>7</td>\n",
       "      <td>19</td>\n",
       "      <td>0.269</td>\n",
       "      <td>...</td>\n",
       "      <td>1.9</td>\n",
       "      <td>0.673</td>\n",
       "      <td>1.6</td>\n",
       "      <td>4.2</td>\n",
       "      <td>5.8</td>\n",
       "      <td>1.1</td>\n",
       "      <td>1.4</td>\n",
       "      <td>0.8</td>\n",
       "      <td>0.7</td>\n",
       "      <td>8.5</td>\n",
       "    </tr>\n",
       "    <tr>\n",
       "      <th>13</th>\n",
       "      <td>13</td>\n",
       "      <td>2765</td>\n",
       "      <td>Andre Emmett</td>\n",
       "      <td>1610612751</td>\n",
       "      <td>NJN</td>\n",
       "      <td>29.0</td>\n",
       "      <td>6</td>\n",
       "      <td>2</td>\n",
       "      <td>4</td>\n",
       "      <td>0.333</td>\n",
       "      <td>...</td>\n",
       "      <td>1.3</td>\n",
       "      <td>0.625</td>\n",
       "      <td>0.3</td>\n",
       "      <td>0.7</td>\n",
       "      <td>1.0</td>\n",
       "      <td>0.2</td>\n",
       "      <td>0.3</td>\n",
       "      <td>0.3</td>\n",
       "      <td>0.2</td>\n",
       "      <td>2.2</td>\n",
       "    </tr>\n",
       "    <tr>\n",
       "      <th>14</th>\n",
       "      <td>14</td>\n",
       "      <td>2738</td>\n",
       "      <td>Andre Iguodala</td>\n",
       "      <td>1610612755</td>\n",
       "      <td>PHI</td>\n",
       "      <td>28.0</td>\n",
       "      <td>62</td>\n",
       "      <td>33</td>\n",
       "      <td>29</td>\n",
       "      <td>0.532</td>\n",
       "      <td>...</td>\n",
       "      <td>3.2</td>\n",
       "      <td>0.617</td>\n",
       "      <td>0.9</td>\n",
       "      <td>5.2</td>\n",
       "      <td>6.1</td>\n",
       "      <td>5.5</td>\n",
       "      <td>1.9</td>\n",
       "      <td>1.7</td>\n",
       "      <td>0.5</td>\n",
       "      <td>12.4</td>\n",
       "    </tr>\n",
       "    <tr>\n",
       "      <th>15</th>\n",
       "      <td>15</td>\n",
       "      <td>1889</td>\n",
       "      <td>Andre Miller</td>\n",
       "      <td>1610612743</td>\n",
       "      <td>DEN</td>\n",
       "      <td>36.0</td>\n",
       "      <td>66</td>\n",
       "      <td>38</td>\n",
       "      <td>28</td>\n",
       "      <td>0.576</td>\n",
       "      <td>...</td>\n",
       "      <td>2.6</td>\n",
       "      <td>0.811</td>\n",
       "      <td>0.8</td>\n",
       "      <td>2.5</td>\n",
       "      <td>3.3</td>\n",
       "      <td>6.7</td>\n",
       "      <td>2.7</td>\n",
       "      <td>1.0</td>\n",
       "      <td>0.1</td>\n",
       "      <td>9.7</td>\n",
       "    </tr>\n",
       "    <tr>\n",
       "      <th>16</th>\n",
       "      <td>16</td>\n",
       "      <td>200745</td>\n",
       "      <td>Andrea Bargnani</td>\n",
       "      <td>1610612761</td>\n",
       "      <td>TOR</td>\n",
       "      <td>26.0</td>\n",
       "      <td>31</td>\n",
       "      <td>13</td>\n",
       "      <td>18</td>\n",
       "      <td>0.419</td>\n",
       "      <td>...</td>\n",
       "      <td>5.6</td>\n",
       "      <td>0.873</td>\n",
       "      <td>0.8</td>\n",
       "      <td>4.8</td>\n",
       "      <td>5.5</td>\n",
       "      <td>2.0</td>\n",
       "      <td>2.2</td>\n",
       "      <td>0.6</td>\n",
       "      <td>0.5</td>\n",
       "      <td>19.5</td>\n",
       "    </tr>\n",
       "    <tr>\n",
       "      <th>17</th>\n",
       "      <td>17</td>\n",
       "      <td>2804</td>\n",
       "      <td>Andres Nocioni</td>\n",
       "      <td>1610612755</td>\n",
       "      <td>PHI</td>\n",
       "      <td>32.0</td>\n",
       "      <td>11</td>\n",
       "      <td>9</td>\n",
       "      <td>2</td>\n",
       "      <td>0.818</td>\n",
       "      <td>...</td>\n",
       "      <td>1.0</td>\n",
       "      <td>0.545</td>\n",
       "      <td>0.1</td>\n",
       "      <td>1.2</td>\n",
       "      <td>1.3</td>\n",
       "      <td>0.1</td>\n",
       "      <td>0.5</td>\n",
       "      <td>0.1</td>\n",
       "      <td>0.1</td>\n",
       "      <td>1.5</td>\n",
       "    </tr>\n",
       "    <tr>\n",
       "      <th>18</th>\n",
       "      <td>18</td>\n",
       "      <td>101106</td>\n",
       "      <td>Andrew Bogut</td>\n",
       "      <td>1610612749</td>\n",
       "      <td>MIL</td>\n",
       "      <td>27.0</td>\n",
       "      <td>12</td>\n",
       "      <td>7</td>\n",
       "      <td>5</td>\n",
       "      <td>0.583</td>\n",
       "      <td>...</td>\n",
       "      <td>1.9</td>\n",
       "      <td>0.609</td>\n",
       "      <td>1.8</td>\n",
       "      <td>6.5</td>\n",
       "      <td>8.3</td>\n",
       "      <td>2.6</td>\n",
       "      <td>2.0</td>\n",
       "      <td>1.0</td>\n",
       "      <td>2.0</td>\n",
       "      <td>11.3</td>\n",
       "    </tr>\n",
       "    <tr>\n",
       "      <th>19</th>\n",
       "      <td>19</td>\n",
       "      <td>101115</td>\n",
       "      <td>Andrew Bynum</td>\n",
       "      <td>1610612747</td>\n",
       "      <td>LAL</td>\n",
       "      <td>24.0</td>\n",
       "      <td>60</td>\n",
       "      <td>38</td>\n",
       "      <td>22</td>\n",
       "      <td>0.633</td>\n",
       "      <td>...</td>\n",
       "      <td>5.6</td>\n",
       "      <td>0.692</td>\n",
       "      <td>3.2</td>\n",
       "      <td>8.6</td>\n",
       "      <td>11.8</td>\n",
       "      <td>1.4</td>\n",
       "      <td>2.5</td>\n",
       "      <td>0.5</td>\n",
       "      <td>1.9</td>\n",
       "      <td>18.7</td>\n",
       "    </tr>\n",
       "    <tr>\n",
       "      <th>20</th>\n",
       "      <td>20</td>\n",
       "      <td>202726</td>\n",
       "      <td>Andrew Goudelock</td>\n",
       "      <td>1610612747</td>\n",
       "      <td>LAL</td>\n",
       "      <td>23.0</td>\n",
       "      <td>40</td>\n",
       "      <td>24</td>\n",
       "      <td>16</td>\n",
       "      <td>0.600</td>\n",
       "      <td>...</td>\n",
       "      <td>0.3</td>\n",
       "      <td>0.917</td>\n",
       "      <td>0.1</td>\n",
       "      <td>0.7</td>\n",
       "      <td>0.8</td>\n",
       "      <td>0.5</td>\n",
       "      <td>0.5</td>\n",
       "      <td>0.1</td>\n",
       "      <td>0.0</td>\n",
       "      <td>4.4</td>\n",
       "    </tr>\n",
       "    <tr>\n",
       "      <th>21</th>\n",
       "      <td>21</td>\n",
       "      <td>2740</td>\n",
       "      <td>Andris Biedrins</td>\n",
       "      <td>1610612744</td>\n",
       "      <td>GSW</td>\n",
       "      <td>26.0</td>\n",
       "      <td>47</td>\n",
       "      <td>17</td>\n",
       "      <td>30</td>\n",
       "      <td>0.362</td>\n",
       "      <td>...</td>\n",
       "      <td>0.2</td>\n",
       "      <td>0.111</td>\n",
       "      <td>1.0</td>\n",
       "      <td>2.8</td>\n",
       "      <td>3.7</td>\n",
       "      <td>0.3</td>\n",
       "      <td>0.3</td>\n",
       "      <td>0.5</td>\n",
       "      <td>1.0</td>\n",
       "      <td>1.7</td>\n",
       "    </tr>\n",
       "    <tr>\n",
       "      <th>22</th>\n",
       "      <td>22</td>\n",
       "      <td>1712</td>\n",
       "      <td>Antawn Jamison</td>\n",
       "      <td>1610612739</td>\n",
       "      <td>CLE</td>\n",
       "      <td>36.0</td>\n",
       "      <td>65</td>\n",
       "      <td>20</td>\n",
       "      <td>45</td>\n",
       "      <td>0.308</td>\n",
       "      <td>...</td>\n",
       "      <td>4.2</td>\n",
       "      <td>0.683</td>\n",
       "      <td>1.9</td>\n",
       "      <td>4.4</td>\n",
       "      <td>6.3</td>\n",
       "      <td>2.0</td>\n",
       "      <td>1.4</td>\n",
       "      <td>0.8</td>\n",
       "      <td>0.7</td>\n",
       "      <td>17.2</td>\n",
       "    </tr>\n",
       "    <tr>\n",
       "      <th>23</th>\n",
       "      <td>23</td>\n",
       "      <td>1853</td>\n",
       "      <td>Anthony Carter</td>\n",
       "      <td>1610612761</td>\n",
       "      <td>TOR</td>\n",
       "      <td>37.0</td>\n",
       "      <td>24</td>\n",
       "      <td>5</td>\n",
       "      <td>19</td>\n",
       "      <td>0.208</td>\n",
       "      <td>...</td>\n",
       "      <td>0.4</td>\n",
       "      <td>0.800</td>\n",
       "      <td>0.2</td>\n",
       "      <td>1.2</td>\n",
       "      <td>1.4</td>\n",
       "      <td>1.4</td>\n",
       "      <td>0.7</td>\n",
       "      <td>0.3</td>\n",
       "      <td>0.2</td>\n",
       "      <td>2.0</td>\n",
       "    </tr>\n",
       "    <tr>\n",
       "      <th>24</th>\n",
       "      <td>24</td>\n",
       "      <td>201627</td>\n",
       "      <td>Anthony Morrow</td>\n",
       "      <td>1610612751</td>\n",
       "      <td>NJN</td>\n",
       "      <td>26.0</td>\n",
       "      <td>62</td>\n",
       "      <td>20</td>\n",
       "      <td>42</td>\n",
       "      <td>0.323</td>\n",
       "      <td>...</td>\n",
       "      <td>1.7</td>\n",
       "      <td>0.933</td>\n",
       "      <td>0.5</td>\n",
       "      <td>1.5</td>\n",
       "      <td>2.0</td>\n",
       "      <td>1.0</td>\n",
       "      <td>1.1</td>\n",
       "      <td>0.7</td>\n",
       "      <td>0.1</td>\n",
       "      <td>12.0</td>\n",
       "    </tr>\n",
       "    <tr>\n",
       "      <th>25</th>\n",
       "      <td>25</td>\n",
       "      <td>1515</td>\n",
       "      <td>Anthony Parker</td>\n",
       "      <td>1610612739</td>\n",
       "      <td>CLE</td>\n",
       "      <td>37.0</td>\n",
       "      <td>51</td>\n",
       "      <td>15</td>\n",
       "      <td>36</td>\n",
       "      <td>0.294</td>\n",
       "      <td>...</td>\n",
       "      <td>1.1</td>\n",
       "      <td>0.625</td>\n",
       "      <td>0.2</td>\n",
       "      <td>2.5</td>\n",
       "      <td>2.7</td>\n",
       "      <td>2.4</td>\n",
       "      <td>1.0</td>\n",
       "      <td>0.7</td>\n",
       "      <td>0.1</td>\n",
       "      <td>7.2</td>\n",
       "    </tr>\n",
       "    <tr>\n",
       "      <th>26</th>\n",
       "      <td>26</td>\n",
       "      <td>201576</td>\n",
       "      <td>Anthony Randolph</td>\n",
       "      <td>1610612750</td>\n",
       "      <td>MIN</td>\n",
       "      <td>22.0</td>\n",
       "      <td>34</td>\n",
       "      <td>10</td>\n",
       "      <td>24</td>\n",
       "      <td>0.294</td>\n",
       "      <td>...</td>\n",
       "      <td>2.5</td>\n",
       "      <td>0.762</td>\n",
       "      <td>1.2</td>\n",
       "      <td>2.4</td>\n",
       "      <td>3.6</td>\n",
       "      <td>0.6</td>\n",
       "      <td>1.2</td>\n",
       "      <td>0.4</td>\n",
       "      <td>1.0</td>\n",
       "      <td>7.4</td>\n",
       "    </tr>\n",
       "    <tr>\n",
       "      <th>27</th>\n",
       "      <td>27</td>\n",
       "      <td>201229</td>\n",
       "      <td>Anthony Tolliver</td>\n",
       "      <td>1610612750</td>\n",
       "      <td>MIN</td>\n",
       "      <td>27.0</td>\n",
       "      <td>51</td>\n",
       "      <td>17</td>\n",
       "      <td>34</td>\n",
       "      <td>0.333</td>\n",
       "      <td>...</td>\n",
       "      <td>1.1</td>\n",
       "      <td>0.745</td>\n",
       "      <td>1.0</td>\n",
       "      <td>2.0</td>\n",
       "      <td>3.0</td>\n",
       "      <td>0.4</td>\n",
       "      <td>0.7</td>\n",
       "      <td>0.4</td>\n",
       "      <td>0.4</td>\n",
       "      <td>4.1</td>\n",
       "    </tr>\n",
       "    <tr>\n",
       "      <th>28</th>\n",
       "      <td>28</td>\n",
       "      <td>202356</td>\n",
       "      <td>Armon Johnson</td>\n",
       "      <td>1610612751</td>\n",
       "      <td>NJN</td>\n",
       "      <td>23.0</td>\n",
       "      <td>9</td>\n",
       "      <td>2</td>\n",
       "      <td>7</td>\n",
       "      <td>0.222</td>\n",
       "      <td>...</td>\n",
       "      <td>0.7</td>\n",
       "      <td>1.000</td>\n",
       "      <td>0.1</td>\n",
       "      <td>1.3</td>\n",
       "      <td>1.4</td>\n",
       "      <td>1.2</td>\n",
       "      <td>0.7</td>\n",
       "      <td>0.6</td>\n",
       "      <td>0.0</td>\n",
       "      <td>5.2</td>\n",
       "    </tr>\n",
       "    <tr>\n",
       "      <th>29</th>\n",
       "      <td>29</td>\n",
       "      <td>201167</td>\n",
       "      <td>Arron Afflalo</td>\n",
       "      <td>1610612743</td>\n",
       "      <td>DEN</td>\n",
       "      <td>26.0</td>\n",
       "      <td>62</td>\n",
       "      <td>36</td>\n",
       "      <td>26</td>\n",
       "      <td>0.581</td>\n",
       "      <td>...</td>\n",
       "      <td>4.0</td>\n",
       "      <td>0.798</td>\n",
       "      <td>0.6</td>\n",
       "      <td>2.5</td>\n",
       "      <td>3.2</td>\n",
       "      <td>2.4</td>\n",
       "      <td>1.4</td>\n",
       "      <td>0.6</td>\n",
       "      <td>0.2</td>\n",
       "      <td>15.2</td>\n",
       "    </tr>\n",
       "    <tr>\n",
       "      <th>...</th>\n",
       "      <td>...</td>\n",
       "      <td>...</td>\n",
       "      <td>...</td>\n",
       "      <td>...</td>\n",
       "      <td>...</td>\n",
       "      <td>...</td>\n",
       "      <td>...</td>\n",
       "      <td>...</td>\n",
       "      <td>...</td>\n",
       "      <td>...</td>\n",
       "      <td>...</td>\n",
       "      <td>...</td>\n",
       "      <td>...</td>\n",
       "      <td>...</td>\n",
       "      <td>...</td>\n",
       "      <td>...</td>\n",
       "      <td>...</td>\n",
       "      <td>...</td>\n",
       "      <td>...</td>\n",
       "      <td>...</td>\n",
       "      <td>...</td>\n",
       "    </tr>\n",
       "    <tr>\n",
       "      <th>448</th>\n",
       "      <td>448</td>\n",
       "      <td>2566</td>\n",
       "      <td>Travis Outlaw</td>\n",
       "      <td>1610612758</td>\n",
       "      <td>SAC</td>\n",
       "      <td>27.0</td>\n",
       "      <td>39</td>\n",
       "      <td>15</td>\n",
       "      <td>24</td>\n",
       "      <td>0.385</td>\n",
       "      <td>...</td>\n",
       "      <td>1.2</td>\n",
       "      <td>0.674</td>\n",
       "      <td>0.5</td>\n",
       "      <td>1.1</td>\n",
       "      <td>1.6</td>\n",
       "      <td>0.4</td>\n",
       "      <td>0.5</td>\n",
       "      <td>0.5</td>\n",
       "      <td>0.5</td>\n",
       "      <td>4.3</td>\n",
       "    </tr>\n",
       "    <tr>\n",
       "      <th>449</th>\n",
       "      <td>449</td>\n",
       "      <td>2772</td>\n",
       "      <td>Trevor Ariza</td>\n",
       "      <td>1610612740</td>\n",
       "      <td>NOH</td>\n",
       "      <td>27.0</td>\n",
       "      <td>41</td>\n",
       "      <td>12</td>\n",
       "      <td>29</td>\n",
       "      <td>0.293</td>\n",
       "      <td>...</td>\n",
       "      <td>2.5</td>\n",
       "      <td>0.775</td>\n",
       "      <td>1.0</td>\n",
       "      <td>4.2</td>\n",
       "      <td>5.2</td>\n",
       "      <td>3.3</td>\n",
       "      <td>1.9</td>\n",
       "      <td>1.7</td>\n",
       "      <td>0.6</td>\n",
       "      <td>10.8</td>\n",
       "    </tr>\n",
       "    <tr>\n",
       "      <th>450</th>\n",
       "      <td>450</td>\n",
       "      <td>202344</td>\n",
       "      <td>Trevor Booker</td>\n",
       "      <td>1610612764</td>\n",
       "      <td>WAS</td>\n",
       "      <td>24.0</td>\n",
       "      <td>50</td>\n",
       "      <td>12</td>\n",
       "      <td>38</td>\n",
       "      <td>0.240</td>\n",
       "      <td>...</td>\n",
       "      <td>1.9</td>\n",
       "      <td>0.602</td>\n",
       "      <td>2.4</td>\n",
       "      <td>4.1</td>\n",
       "      <td>6.5</td>\n",
       "      <td>0.8</td>\n",
       "      <td>1.2</td>\n",
       "      <td>1.0</td>\n",
       "      <td>0.9</td>\n",
       "      <td>8.4</td>\n",
       "    </tr>\n",
       "    <tr>\n",
       "      <th>451</th>\n",
       "      <td>451</td>\n",
       "      <td>201234</td>\n",
       "      <td>Trey Johnson</td>\n",
       "      <td>1610612740</td>\n",
       "      <td>NOH</td>\n",
       "      <td>27.0</td>\n",
       "      <td>11</td>\n",
       "      <td>2</td>\n",
       "      <td>9</td>\n",
       "      <td>0.182</td>\n",
       "      <td>...</td>\n",
       "      <td>0.5</td>\n",
       "      <td>1.000</td>\n",
       "      <td>0.3</td>\n",
       "      <td>0.8</td>\n",
       "      <td>1.1</td>\n",
       "      <td>0.4</td>\n",
       "      <td>0.5</td>\n",
       "      <td>0.1</td>\n",
       "      <td>0.0</td>\n",
       "      <td>1.9</td>\n",
       "    </tr>\n",
       "    <tr>\n",
       "      <th>452</th>\n",
       "      <td>452</td>\n",
       "      <td>202717</td>\n",
       "      <td>Trey Thompkins</td>\n",
       "      <td>1610612746</td>\n",
       "      <td>LAC</td>\n",
       "      <td>22.0</td>\n",
       "      <td>24</td>\n",
       "      <td>16</td>\n",
       "      <td>8</td>\n",
       "      <td>0.667</td>\n",
       "      <td>...</td>\n",
       "      <td>0.3</td>\n",
       "      <td>0.714</td>\n",
       "      <td>0.2</td>\n",
       "      <td>0.8</td>\n",
       "      <td>1.0</td>\n",
       "      <td>0.1</td>\n",
       "      <td>0.3</td>\n",
       "      <td>0.1</td>\n",
       "      <td>0.1</td>\n",
       "      <td>2.4</td>\n",
       "    </tr>\n",
       "    <tr>\n",
       "      <th>453</th>\n",
       "      <td>453</td>\n",
       "      <td>202684</td>\n",
       "      <td>Tristan Thompson</td>\n",
       "      <td>1610612739</td>\n",
       "      <td>CLE</td>\n",
       "      <td>21.0</td>\n",
       "      <td>60</td>\n",
       "      <td>18</td>\n",
       "      <td>42</td>\n",
       "      <td>0.300</td>\n",
       "      <td>...</td>\n",
       "      <td>3.2</td>\n",
       "      <td>0.552</td>\n",
       "      <td>3.1</td>\n",
       "      <td>3.4</td>\n",
       "      <td>6.5</td>\n",
       "      <td>0.5</td>\n",
       "      <td>1.4</td>\n",
       "      <td>0.5</td>\n",
       "      <td>1.0</td>\n",
       "      <td>8.2</td>\n",
       "    </tr>\n",
       "    <tr>\n",
       "      <th>454</th>\n",
       "      <td>454</td>\n",
       "      <td>2211</td>\n",
       "      <td>Troy Murphy</td>\n",
       "      <td>1610612747</td>\n",
       "      <td>LAL</td>\n",
       "      <td>32.0</td>\n",
       "      <td>59</td>\n",
       "      <td>34</td>\n",
       "      <td>25</td>\n",
       "      <td>0.576</td>\n",
       "      <td>...</td>\n",
       "      <td>0.2</td>\n",
       "      <td>0.667</td>\n",
       "      <td>0.7</td>\n",
       "      <td>2.6</td>\n",
       "      <td>3.2</td>\n",
       "      <td>0.9</td>\n",
       "      <td>0.4</td>\n",
       "      <td>0.3</td>\n",
       "      <td>0.3</td>\n",
       "      <td>3.2</td>\n",
       "    </tr>\n",
       "    <tr>\n",
       "      <th>455</th>\n",
       "      <td>455</td>\n",
       "      <td>201951</td>\n",
       "      <td>Ty Lawson</td>\n",
       "      <td>1610612743</td>\n",
       "      <td>DEN</td>\n",
       "      <td>24.0</td>\n",
       "      <td>61</td>\n",
       "      <td>36</td>\n",
       "      <td>25</td>\n",
       "      <td>0.590</td>\n",
       "      <td>...</td>\n",
       "      <td>3.5</td>\n",
       "      <td>0.824</td>\n",
       "      <td>0.9</td>\n",
       "      <td>2.8</td>\n",
       "      <td>3.7</td>\n",
       "      <td>6.6</td>\n",
       "      <td>2.4</td>\n",
       "      <td>1.3</td>\n",
       "      <td>0.1</td>\n",
       "      <td>16.4</td>\n",
       "    </tr>\n",
       "    <tr>\n",
       "      <th>456</th>\n",
       "      <td>456</td>\n",
       "      <td>201946</td>\n",
       "      <td>Tyler Hansbrough</td>\n",
       "      <td>1610612754</td>\n",
       "      <td>IND</td>\n",
       "      <td>26.0</td>\n",
       "      <td>66</td>\n",
       "      <td>42</td>\n",
       "      <td>24</td>\n",
       "      <td>0.636</td>\n",
       "      <td>...</td>\n",
       "      <td>4.2</td>\n",
       "      <td>0.813</td>\n",
       "      <td>1.7</td>\n",
       "      <td>2.7</td>\n",
       "      <td>4.4</td>\n",
       "      <td>0.5</td>\n",
       "      <td>1.0</td>\n",
       "      <td>0.8</td>\n",
       "      <td>0.1</td>\n",
       "      <td>9.3</td>\n",
       "    </tr>\n",
       "    <tr>\n",
       "      <th>457</th>\n",
       "      <td>457</td>\n",
       "      <td>202715</td>\n",
       "      <td>Tyler Honeycutt</td>\n",
       "      <td>1610612758</td>\n",
       "      <td>SAC</td>\n",
       "      <td>21.0</td>\n",
       "      <td>15</td>\n",
       "      <td>5</td>\n",
       "      <td>10</td>\n",
       "      <td>0.333</td>\n",
       "      <td>...</td>\n",
       "      <td>0.3</td>\n",
       "      <td>0.600</td>\n",
       "      <td>0.2</td>\n",
       "      <td>0.7</td>\n",
       "      <td>0.9</td>\n",
       "      <td>0.5</td>\n",
       "      <td>0.1</td>\n",
       "      <td>0.3</td>\n",
       "      <td>0.2</td>\n",
       "      <td>1.3</td>\n",
       "    </tr>\n",
       "    <tr>\n",
       "      <th>458</th>\n",
       "      <td>458</td>\n",
       "      <td>201936</td>\n",
       "      <td>Tyreke Evans</td>\n",
       "      <td>1610612758</td>\n",
       "      <td>SAC</td>\n",
       "      <td>22.0</td>\n",
       "      <td>63</td>\n",
       "      <td>19</td>\n",
       "      <td>44</td>\n",
       "      <td>0.302</td>\n",
       "      <td>...</td>\n",
       "      <td>4.1</td>\n",
       "      <td>0.779</td>\n",
       "      <td>1.0</td>\n",
       "      <td>3.6</td>\n",
       "      <td>4.6</td>\n",
       "      <td>4.5</td>\n",
       "      <td>2.7</td>\n",
       "      <td>1.3</td>\n",
       "      <td>0.5</td>\n",
       "      <td>16.5</td>\n",
       "    </tr>\n",
       "    <tr>\n",
       "      <th>459</th>\n",
       "      <td>459</td>\n",
       "      <td>200748</td>\n",
       "      <td>Tyrus Thomas</td>\n",
       "      <td>1610612766</td>\n",
       "      <td>CHA</td>\n",
       "      <td>25.0</td>\n",
       "      <td>54</td>\n",
       "      <td>5</td>\n",
       "      <td>49</td>\n",
       "      <td>0.093</td>\n",
       "      <td>...</td>\n",
       "      <td>1.5</td>\n",
       "      <td>0.759</td>\n",
       "      <td>0.9</td>\n",
       "      <td>2.8</td>\n",
       "      <td>3.7</td>\n",
       "      <td>0.6</td>\n",
       "      <td>1.0</td>\n",
       "      <td>0.7</td>\n",
       "      <td>1.1</td>\n",
       "      <td>5.6</td>\n",
       "    </tr>\n",
       "    <tr>\n",
       "      <th>460</th>\n",
       "      <td>460</td>\n",
       "      <td>2199</td>\n",
       "      <td>Tyson Chandler</td>\n",
       "      <td>1610612752</td>\n",
       "      <td>NYK</td>\n",
       "      <td>29.0</td>\n",
       "      <td>62</td>\n",
       "      <td>34</td>\n",
       "      <td>28</td>\n",
       "      <td>0.548</td>\n",
       "      <td>...</td>\n",
       "      <td>5.1</td>\n",
       "      <td>0.689</td>\n",
       "      <td>3.4</td>\n",
       "      <td>6.5</td>\n",
       "      <td>9.9</td>\n",
       "      <td>0.9</td>\n",
       "      <td>1.6</td>\n",
       "      <td>0.9</td>\n",
       "      <td>1.4</td>\n",
       "      <td>11.3</td>\n",
       "    </tr>\n",
       "    <tr>\n",
       "      <th>461</th>\n",
       "      <td>461</td>\n",
       "      <td>2617</td>\n",
       "      <td>Udonis Haslem</td>\n",
       "      <td>1610612748</td>\n",
       "      <td>MIA</td>\n",
       "      <td>32.0</td>\n",
       "      <td>64</td>\n",
       "      <td>44</td>\n",
       "      <td>20</td>\n",
       "      <td>0.688</td>\n",
       "      <td>...</td>\n",
       "      <td>1.6</td>\n",
       "      <td>0.814</td>\n",
       "      <td>1.8</td>\n",
       "      <td>5.5</td>\n",
       "      <td>7.3</td>\n",
       "      <td>0.7</td>\n",
       "      <td>0.9</td>\n",
       "      <td>0.5</td>\n",
       "      <td>0.4</td>\n",
       "      <td>6.0</td>\n",
       "    </tr>\n",
       "    <tr>\n",
       "      <th>462</th>\n",
       "      <td>462</td>\n",
       "      <td>202731</td>\n",
       "      <td>Vernon Macklin</td>\n",
       "      <td>1610612765</td>\n",
       "      <td>DET</td>\n",
       "      <td>25.0</td>\n",
       "      <td>23</td>\n",
       "      <td>5</td>\n",
       "      <td>18</td>\n",
       "      <td>0.217</td>\n",
       "      <td>...</td>\n",
       "      <td>0.6</td>\n",
       "      <td>0.571</td>\n",
       "      <td>0.6</td>\n",
       "      <td>0.9</td>\n",
       "      <td>1.5</td>\n",
       "      <td>0.2</td>\n",
       "      <td>0.1</td>\n",
       "      <td>0.2</td>\n",
       "      <td>0.2</td>\n",
       "      <td>2.0</td>\n",
       "    </tr>\n",
       "    <tr>\n",
       "      <th>463</th>\n",
       "      <td>463</td>\n",
       "      <td>1713</td>\n",
       "      <td>Vince Carter</td>\n",
       "      <td>1610612742</td>\n",
       "      <td>DAL</td>\n",
       "      <td>35.0</td>\n",
       "      <td>61</td>\n",
       "      <td>33</td>\n",
       "      <td>28</td>\n",
       "      <td>0.541</td>\n",
       "      <td>...</td>\n",
       "      <td>1.9</td>\n",
       "      <td>0.826</td>\n",
       "      <td>0.5</td>\n",
       "      <td>2.8</td>\n",
       "      <td>3.4</td>\n",
       "      <td>2.3</td>\n",
       "      <td>1.4</td>\n",
       "      <td>0.9</td>\n",
       "      <td>0.4</td>\n",
       "      <td>10.1</td>\n",
       "    </tr>\n",
       "    <tr>\n",
       "      <th>464</th>\n",
       "      <td>464</td>\n",
       "      <td>2209</td>\n",
       "      <td>Vladimir Radmanovic</td>\n",
       "      <td>1610612737</td>\n",
       "      <td>ATL</td>\n",
       "      <td>31.0</td>\n",
       "      <td>49</td>\n",
       "      <td>30</td>\n",
       "      <td>19</td>\n",
       "      <td>0.612</td>\n",
       "      <td>...</td>\n",
       "      <td>0.6</td>\n",
       "      <td>0.759</td>\n",
       "      <td>0.7</td>\n",
       "      <td>2.2</td>\n",
       "      <td>2.9</td>\n",
       "      <td>1.1</td>\n",
       "      <td>0.7</td>\n",
       "      <td>0.4</td>\n",
       "      <td>0.3</td>\n",
       "      <td>4.5</td>\n",
       "    </tr>\n",
       "    <tr>\n",
       "      <th>465</th>\n",
       "      <td>465</td>\n",
       "      <td>101144</td>\n",
       "      <td>Von Wafer</td>\n",
       "      <td>1610612753</td>\n",
       "      <td>ORL</td>\n",
       "      <td>26.0</td>\n",
       "      <td>33</td>\n",
       "      <td>19</td>\n",
       "      <td>14</td>\n",
       "      <td>0.576</td>\n",
       "      <td>...</td>\n",
       "      <td>1.6</td>\n",
       "      <td>0.704</td>\n",
       "      <td>0.2</td>\n",
       "      <td>1.2</td>\n",
       "      <td>1.4</td>\n",
       "      <td>0.9</td>\n",
       "      <td>1.1</td>\n",
       "      <td>0.3</td>\n",
       "      <td>0.1</td>\n",
       "      <td>5.9</td>\n",
       "    </tr>\n",
       "    <tr>\n",
       "      <th>466</th>\n",
       "      <td>466</td>\n",
       "      <td>201041</td>\n",
       "      <td>Walker Russell</td>\n",
       "      <td>1610612765</td>\n",
       "      <td>DET</td>\n",
       "      <td>29.0</td>\n",
       "      <td>28</td>\n",
       "      <td>12</td>\n",
       "      <td>16</td>\n",
       "      <td>0.429</td>\n",
       "      <td>...</td>\n",
       "      <td>0.8</td>\n",
       "      <td>0.636</td>\n",
       "      <td>0.3</td>\n",
       "      <td>0.7</td>\n",
       "      <td>0.9</td>\n",
       "      <td>2.1</td>\n",
       "      <td>1.2</td>\n",
       "      <td>0.6</td>\n",
       "      <td>0.0</td>\n",
       "      <td>3.0</td>\n",
       "    </tr>\n",
       "    <tr>\n",
       "      <th>467</th>\n",
       "      <td>467</td>\n",
       "      <td>201961</td>\n",
       "      <td>Wayne Ellington</td>\n",
       "      <td>1610612750</td>\n",
       "      <td>MIN</td>\n",
       "      <td>24.0</td>\n",
       "      <td>51</td>\n",
       "      <td>19</td>\n",
       "      <td>32</td>\n",
       "      <td>0.373</td>\n",
       "      <td>...</td>\n",
       "      <td>0.8</td>\n",
       "      <td>0.800</td>\n",
       "      <td>0.3</td>\n",
       "      <td>1.7</td>\n",
       "      <td>1.9</td>\n",
       "      <td>0.6</td>\n",
       "      <td>0.5</td>\n",
       "      <td>0.5</td>\n",
       "      <td>0.2</td>\n",
       "      <td>6.1</td>\n",
       "    </tr>\n",
       "    <tr>\n",
       "      <th>468</th>\n",
       "      <td>468</td>\n",
       "      <td>202325</td>\n",
       "      <td>Wesley Johnson</td>\n",
       "      <td>1610612750</td>\n",
       "      <td>MIN</td>\n",
       "      <td>24.0</td>\n",
       "      <td>65</td>\n",
       "      <td>26</td>\n",
       "      <td>39</td>\n",
       "      <td>0.400</td>\n",
       "      <td>...</td>\n",
       "      <td>0.5</td>\n",
       "      <td>0.706</td>\n",
       "      <td>0.4</td>\n",
       "      <td>2.4</td>\n",
       "      <td>2.7</td>\n",
       "      <td>0.9</td>\n",
       "      <td>0.9</td>\n",
       "      <td>0.5</td>\n",
       "      <td>0.7</td>\n",
       "      <td>6.0</td>\n",
       "    </tr>\n",
       "    <tr>\n",
       "      <th>469</th>\n",
       "      <td>469</td>\n",
       "      <td>202083</td>\n",
       "      <td>Wesley Matthews</td>\n",
       "      <td>1610612757</td>\n",
       "      <td>POR</td>\n",
       "      <td>25.0</td>\n",
       "      <td>66</td>\n",
       "      <td>28</td>\n",
       "      <td>38</td>\n",
       "      <td>0.424</td>\n",
       "      <td>...</td>\n",
       "      <td>2.6</td>\n",
       "      <td>0.860</td>\n",
       "      <td>0.8</td>\n",
       "      <td>2.5</td>\n",
       "      <td>3.4</td>\n",
       "      <td>1.7</td>\n",
       "      <td>1.1</td>\n",
       "      <td>1.5</td>\n",
       "      <td>0.2</td>\n",
       "      <td>13.7</td>\n",
       "    </tr>\n",
       "    <tr>\n",
       "      <th>470</th>\n",
       "      <td>470</td>\n",
       "      <td>101198</td>\n",
       "      <td>Will Bynum</td>\n",
       "      <td>1610612765</td>\n",
       "      <td>DET</td>\n",
       "      <td>29.0</td>\n",
       "      <td>36</td>\n",
       "      <td>14</td>\n",
       "      <td>22</td>\n",
       "      <td>0.389</td>\n",
       "      <td>...</td>\n",
       "      <td>1.8</td>\n",
       "      <td>0.766</td>\n",
       "      <td>0.3</td>\n",
       "      <td>1.3</td>\n",
       "      <td>1.6</td>\n",
       "      <td>1.8</td>\n",
       "      <td>1.5</td>\n",
       "      <td>0.6</td>\n",
       "      <td>0.1</td>\n",
       "      <td>5.7</td>\n",
       "    </tr>\n",
       "    <tr>\n",
       "      <th>471</th>\n",
       "      <td>471</td>\n",
       "      <td>2584</td>\n",
       "      <td>Willie Green</td>\n",
       "      <td>1610612737</td>\n",
       "      <td>ATL</td>\n",
       "      <td>30.0</td>\n",
       "      <td>53</td>\n",
       "      <td>32</td>\n",
       "      <td>21</td>\n",
       "      <td>0.604</td>\n",
       "      <td>...</td>\n",
       "      <td>1.1</td>\n",
       "      <td>0.857</td>\n",
       "      <td>0.3</td>\n",
       "      <td>1.2</td>\n",
       "      <td>1.5</td>\n",
       "      <td>0.8</td>\n",
       "      <td>0.6</td>\n",
       "      <td>0.4</td>\n",
       "      <td>0.1</td>\n",
       "      <td>7.6</td>\n",
       "    </tr>\n",
       "    <tr>\n",
       "      <th>472</th>\n",
       "      <td>472</td>\n",
       "      <td>201163</td>\n",
       "      <td>Wilson Chandler</td>\n",
       "      <td>1610612743</td>\n",
       "      <td>DEN</td>\n",
       "      <td>25.0</td>\n",
       "      <td>8</td>\n",
       "      <td>4</td>\n",
       "      <td>4</td>\n",
       "      <td>0.500</td>\n",
       "      <td>...</td>\n",
       "      <td>1.5</td>\n",
       "      <td>0.833</td>\n",
       "      <td>0.8</td>\n",
       "      <td>4.4</td>\n",
       "      <td>5.1</td>\n",
       "      <td>2.1</td>\n",
       "      <td>2.3</td>\n",
       "      <td>0.8</td>\n",
       "      <td>0.8</td>\n",
       "      <td>9.4</td>\n",
       "    </tr>\n",
       "    <tr>\n",
       "      <th>473</th>\n",
       "      <td>473</td>\n",
       "      <td>202333</td>\n",
       "      <td>Xavier Henry</td>\n",
       "      <td>1610612740</td>\n",
       "      <td>NOH</td>\n",
       "      <td>21.0</td>\n",
       "      <td>45</td>\n",
       "      <td>18</td>\n",
       "      <td>27</td>\n",
       "      <td>0.400</td>\n",
       "      <td>...</td>\n",
       "      <td>1.9</td>\n",
       "      <td>0.612</td>\n",
       "      <td>0.5</td>\n",
       "      <td>1.8</td>\n",
       "      <td>2.4</td>\n",
       "      <td>0.8</td>\n",
       "      <td>0.8</td>\n",
       "      <td>0.6</td>\n",
       "      <td>0.2</td>\n",
       "      <td>5.3</td>\n",
       "    </tr>\n",
       "    <tr>\n",
       "      <th>474</th>\n",
       "      <td>474</td>\n",
       "      <td>202918</td>\n",
       "      <td>Xavier Silas</td>\n",
       "      <td>1610612755</td>\n",
       "      <td>PHI</td>\n",
       "      <td>24.0</td>\n",
       "      <td>2</td>\n",
       "      <td>1</td>\n",
       "      <td>1</td>\n",
       "      <td>0.500</td>\n",
       "      <td>...</td>\n",
       "      <td>1.5</td>\n",
       "      <td>0.667</td>\n",
       "      <td>1.0</td>\n",
       "      <td>1.0</td>\n",
       "      <td>2.0</td>\n",
       "      <td>1.5</td>\n",
       "      <td>1.5</td>\n",
       "      <td>0.0</td>\n",
       "      <td>0.0</td>\n",
       "      <td>5.5</td>\n",
       "    </tr>\n",
       "    <tr>\n",
       "      <th>475</th>\n",
       "      <td>475</td>\n",
       "      <td>201146</td>\n",
       "      <td>Yi Jianlian</td>\n",
       "      <td>1610612742</td>\n",
       "      <td>DAL</td>\n",
       "      <td>24.0</td>\n",
       "      <td>30</td>\n",
       "      <td>15</td>\n",
       "      <td>15</td>\n",
       "      <td>0.500</td>\n",
       "      <td>...</td>\n",
       "      <td>0.7</td>\n",
       "      <td>0.667</td>\n",
       "      <td>0.4</td>\n",
       "      <td>1.2</td>\n",
       "      <td>1.6</td>\n",
       "      <td>0.2</td>\n",
       "      <td>0.5</td>\n",
       "      <td>0.2</td>\n",
       "      <td>0.3</td>\n",
       "      <td>2.6</td>\n",
       "    </tr>\n",
       "    <tr>\n",
       "      <th>476</th>\n",
       "      <td>476</td>\n",
       "      <td>2216</td>\n",
       "      <td>Zach Randolph</td>\n",
       "      <td>1610612763</td>\n",
       "      <td>MEM</td>\n",
       "      <td>30.0</td>\n",
       "      <td>28</td>\n",
       "      <td>17</td>\n",
       "      <td>11</td>\n",
       "      <td>0.607</td>\n",
       "      <td>...</td>\n",
       "      <td>3.1</td>\n",
       "      <td>0.659</td>\n",
       "      <td>2.8</td>\n",
       "      <td>5.3</td>\n",
       "      <td>8.0</td>\n",
       "      <td>1.7</td>\n",
       "      <td>1.4</td>\n",
       "      <td>0.8</td>\n",
       "      <td>0.1</td>\n",
       "      <td>11.6</td>\n",
       "    </tr>\n",
       "    <tr>\n",
       "      <th>477</th>\n",
       "      <td>477</td>\n",
       "      <td>2585</td>\n",
       "      <td>Zaza Pachulia</td>\n",
       "      <td>1610612737</td>\n",
       "      <td>ATL</td>\n",
       "      <td>28.0</td>\n",
       "      <td>58</td>\n",
       "      <td>34</td>\n",
       "      <td>24</td>\n",
       "      <td>0.586</td>\n",
       "      <td>...</td>\n",
       "      <td>2.7</td>\n",
       "      <td>0.741</td>\n",
       "      <td>2.7</td>\n",
       "      <td>5.2</td>\n",
       "      <td>7.9</td>\n",
       "      <td>1.4</td>\n",
       "      <td>1.4</td>\n",
       "      <td>0.9</td>\n",
       "      <td>0.5</td>\n",
       "      <td>7.8</td>\n",
       "    </tr>\n",
       "  </tbody>\n",
       "</table>\n",
       "<p>478 rows × 28 columns</p>\n",
       "</div>"
      ],
      "text/plain": [
       "     Unnamed: 0  PLAYER_ID          PLAYER_NAME     TEAM_ID TEAM_ABBREVIATION  \\\n",
       "0             0     201985             AJ Price  1610612754               IND   \n",
       "1             1     201189           Aaron Gray  1610612761               TOR   \n",
       "2             2       1733        Al Harrington  1610612743               DEN   \n",
       "3             3     201143           Al Horford  1610612737               ATL   \n",
       "4             4       2744         Al Jefferson  1610612762               UTA   \n",
       "5             5     202329      Al-Farouq Aminu  1610612740               NOH   \n",
       "6             6     101187        Alan Anderson  1610612761               TOR   \n",
       "7             7     202692           Alec Burks  1610612762               UTA   \n",
       "8             8     202087           Alonzo Gee  1610612739               CLE   \n",
       "9             9       2405    Amar'e Stoudemire  1610612752               NYK   \n",
       "10           10     101161         Amir Johnson  1610612761               TOR   \n",
       "11           11       2760     Anderson Varejao  1610612739               CLE   \n",
       "12           12     101154       Andray Blatche  1610612764               WAS   \n",
       "13           13       2765         Andre Emmett  1610612751               NJN   \n",
       "14           14       2738       Andre Iguodala  1610612755               PHI   \n",
       "15           15       1889         Andre Miller  1610612743               DEN   \n",
       "16           16     200745      Andrea Bargnani  1610612761               TOR   \n",
       "17           17       2804       Andres Nocioni  1610612755               PHI   \n",
       "18           18     101106         Andrew Bogut  1610612749               MIL   \n",
       "19           19     101115         Andrew Bynum  1610612747               LAL   \n",
       "20           20     202726     Andrew Goudelock  1610612747               LAL   \n",
       "21           21       2740      Andris Biedrins  1610612744               GSW   \n",
       "22           22       1712       Antawn Jamison  1610612739               CLE   \n",
       "23           23       1853       Anthony Carter  1610612761               TOR   \n",
       "24           24     201627       Anthony Morrow  1610612751               NJN   \n",
       "25           25       1515       Anthony Parker  1610612739               CLE   \n",
       "26           26     201576     Anthony Randolph  1610612750               MIN   \n",
       "27           27     201229     Anthony Tolliver  1610612750               MIN   \n",
       "28           28     202356        Armon Johnson  1610612751               NJN   \n",
       "29           29     201167        Arron Afflalo  1610612743               DEN   \n",
       "..          ...        ...                  ...         ...               ...   \n",
       "448         448       2566        Travis Outlaw  1610612758               SAC   \n",
       "449         449       2772         Trevor Ariza  1610612740               NOH   \n",
       "450         450     202344        Trevor Booker  1610612764               WAS   \n",
       "451         451     201234         Trey Johnson  1610612740               NOH   \n",
       "452         452     202717       Trey Thompkins  1610612746               LAC   \n",
       "453         453     202684     Tristan Thompson  1610612739               CLE   \n",
       "454         454       2211          Troy Murphy  1610612747               LAL   \n",
       "455         455     201951            Ty Lawson  1610612743               DEN   \n",
       "456         456     201946     Tyler Hansbrough  1610612754               IND   \n",
       "457         457     202715      Tyler Honeycutt  1610612758               SAC   \n",
       "458         458     201936         Tyreke Evans  1610612758               SAC   \n",
       "459         459     200748         Tyrus Thomas  1610612766               CHA   \n",
       "460         460       2199       Tyson Chandler  1610612752               NYK   \n",
       "461         461       2617        Udonis Haslem  1610612748               MIA   \n",
       "462         462     202731       Vernon Macklin  1610612765               DET   \n",
       "463         463       1713         Vince Carter  1610612742               DAL   \n",
       "464         464       2209  Vladimir Radmanovic  1610612737               ATL   \n",
       "465         465     101144            Von Wafer  1610612753               ORL   \n",
       "466         466     201041       Walker Russell  1610612765               DET   \n",
       "467         467     201961      Wayne Ellington  1610612750               MIN   \n",
       "468         468     202325       Wesley Johnson  1610612750               MIN   \n",
       "469         469     202083      Wesley Matthews  1610612757               POR   \n",
       "470         470     101198           Will Bynum  1610612765               DET   \n",
       "471         471       2584         Willie Green  1610612737               ATL   \n",
       "472         472     201163      Wilson Chandler  1610612743               DEN   \n",
       "473         473     202333         Xavier Henry  1610612740               NOH   \n",
       "474         474     202918         Xavier Silas  1610612755               PHI   \n",
       "475         475     201146          Yi Jianlian  1610612742               DAL   \n",
       "476         476       2216        Zach Randolph  1610612763               MEM   \n",
       "477         477       2585        Zaza Pachulia  1610612737               ATL   \n",
       "\n",
       "      AGE  GP   W   L  W_PCT  ...   FTA  FT_PCT  OREB  DREB   REB  AST  TOV  \\\n",
       "0    25.0  44  27  17  0.614  ...   0.8   0.800   0.3   1.1   1.4  2.0  0.7   \n",
       "1    27.0  49  17  32  0.347  ...   1.0   0.532   1.7   4.0   5.7  0.6  1.0   \n",
       "2    32.0  64  36  28  0.563  ...   2.8   0.676   1.1   5.0   6.1  1.4  1.8   \n",
       "3    26.0  11   7   4  0.636  ...   2.7   0.733   2.4   4.6   7.0  2.2  1.5   \n",
       "4    27.0  61  32  29  0.525  ...   2.9   0.774   2.2   7.4   9.6  2.2  1.0   \n",
       "5    21.0  66  21  45  0.318  ...   1.7   0.754   1.4   3.2   4.7  1.0  1.4   \n",
       "6    29.0  17   7  10  0.412  ...   2.0   0.853   0.5   1.5   2.0  1.5  1.5   \n",
       "7    20.0  59  33  26  0.559  ...   2.4   0.727   1.0   1.3   2.2  0.9  0.9   \n",
       "8    25.0  63  20  43  0.317  ...   3.4   0.788   1.6   3.5   5.1  1.8  1.8   \n",
       "9    29.0  47  22  25  0.468  ...   5.2   0.765   2.3   5.6   7.8  1.1  2.4   \n",
       "10   25.0  64  22  42  0.344  ...   1.3   0.690   2.3   4.0   6.4  1.2  1.5   \n",
       "11   29.0  25  10  15  0.400  ...   2.6   0.672   4.4   7.1  11.5  1.7  1.8   \n",
       "12   25.0  26   7  19  0.269  ...   1.9   0.673   1.6   4.2   5.8  1.1  1.4   \n",
       "13   29.0   6   2   4  0.333  ...   1.3   0.625   0.3   0.7   1.0  0.2  0.3   \n",
       "14   28.0  62  33  29  0.532  ...   3.2   0.617   0.9   5.2   6.1  5.5  1.9   \n",
       "15   36.0  66  38  28  0.576  ...   2.6   0.811   0.8   2.5   3.3  6.7  2.7   \n",
       "16   26.0  31  13  18  0.419  ...   5.6   0.873   0.8   4.8   5.5  2.0  2.2   \n",
       "17   32.0  11   9   2  0.818  ...   1.0   0.545   0.1   1.2   1.3  0.1  0.5   \n",
       "18   27.0  12   7   5  0.583  ...   1.9   0.609   1.8   6.5   8.3  2.6  2.0   \n",
       "19   24.0  60  38  22  0.633  ...   5.6   0.692   3.2   8.6  11.8  1.4  2.5   \n",
       "20   23.0  40  24  16  0.600  ...   0.3   0.917   0.1   0.7   0.8  0.5  0.5   \n",
       "21   26.0  47  17  30  0.362  ...   0.2   0.111   1.0   2.8   3.7  0.3  0.3   \n",
       "22   36.0  65  20  45  0.308  ...   4.2   0.683   1.9   4.4   6.3  2.0  1.4   \n",
       "23   37.0  24   5  19  0.208  ...   0.4   0.800   0.2   1.2   1.4  1.4  0.7   \n",
       "24   26.0  62  20  42  0.323  ...   1.7   0.933   0.5   1.5   2.0  1.0  1.1   \n",
       "25   37.0  51  15  36  0.294  ...   1.1   0.625   0.2   2.5   2.7  2.4  1.0   \n",
       "26   22.0  34  10  24  0.294  ...   2.5   0.762   1.2   2.4   3.6  0.6  1.2   \n",
       "27   27.0  51  17  34  0.333  ...   1.1   0.745   1.0   2.0   3.0  0.4  0.7   \n",
       "28   23.0   9   2   7  0.222  ...   0.7   1.000   0.1   1.3   1.4  1.2  0.7   \n",
       "29   26.0  62  36  26  0.581  ...   4.0   0.798   0.6   2.5   3.2  2.4  1.4   \n",
       "..    ...  ..  ..  ..    ...  ...   ...     ...   ...   ...   ...  ...  ...   \n",
       "448  27.0  39  15  24  0.385  ...   1.2   0.674   0.5   1.1   1.6  0.4  0.5   \n",
       "449  27.0  41  12  29  0.293  ...   2.5   0.775   1.0   4.2   5.2  3.3  1.9   \n",
       "450  24.0  50  12  38  0.240  ...   1.9   0.602   2.4   4.1   6.5  0.8  1.2   \n",
       "451  27.0  11   2   9  0.182  ...   0.5   1.000   0.3   0.8   1.1  0.4  0.5   \n",
       "452  22.0  24  16   8  0.667  ...   0.3   0.714   0.2   0.8   1.0  0.1  0.3   \n",
       "453  21.0  60  18  42  0.300  ...   3.2   0.552   3.1   3.4   6.5  0.5  1.4   \n",
       "454  32.0  59  34  25  0.576  ...   0.2   0.667   0.7   2.6   3.2  0.9  0.4   \n",
       "455  24.0  61  36  25  0.590  ...   3.5   0.824   0.9   2.8   3.7  6.6  2.4   \n",
       "456  26.0  66  42  24  0.636  ...   4.2   0.813   1.7   2.7   4.4  0.5  1.0   \n",
       "457  21.0  15   5  10  0.333  ...   0.3   0.600   0.2   0.7   0.9  0.5  0.1   \n",
       "458  22.0  63  19  44  0.302  ...   4.1   0.779   1.0   3.6   4.6  4.5  2.7   \n",
       "459  25.0  54   5  49  0.093  ...   1.5   0.759   0.9   2.8   3.7  0.6  1.0   \n",
       "460  29.0  62  34  28  0.548  ...   5.1   0.689   3.4   6.5   9.9  0.9  1.6   \n",
       "461  32.0  64  44  20  0.688  ...   1.6   0.814   1.8   5.5   7.3  0.7  0.9   \n",
       "462  25.0  23   5  18  0.217  ...   0.6   0.571   0.6   0.9   1.5  0.2  0.1   \n",
       "463  35.0  61  33  28  0.541  ...   1.9   0.826   0.5   2.8   3.4  2.3  1.4   \n",
       "464  31.0  49  30  19  0.612  ...   0.6   0.759   0.7   2.2   2.9  1.1  0.7   \n",
       "465  26.0  33  19  14  0.576  ...   1.6   0.704   0.2   1.2   1.4  0.9  1.1   \n",
       "466  29.0  28  12  16  0.429  ...   0.8   0.636   0.3   0.7   0.9  2.1  1.2   \n",
       "467  24.0  51  19  32  0.373  ...   0.8   0.800   0.3   1.7   1.9  0.6  0.5   \n",
       "468  24.0  65  26  39  0.400  ...   0.5   0.706   0.4   2.4   2.7  0.9  0.9   \n",
       "469  25.0  66  28  38  0.424  ...   2.6   0.860   0.8   2.5   3.4  1.7  1.1   \n",
       "470  29.0  36  14  22  0.389  ...   1.8   0.766   0.3   1.3   1.6  1.8  1.5   \n",
       "471  30.0  53  32  21  0.604  ...   1.1   0.857   0.3   1.2   1.5  0.8  0.6   \n",
       "472  25.0   8   4   4  0.500  ...   1.5   0.833   0.8   4.4   5.1  2.1  2.3   \n",
       "473  21.0  45  18  27  0.400  ...   1.9   0.612   0.5   1.8   2.4  0.8  0.8   \n",
       "474  24.0   2   1   1  0.500  ...   1.5   0.667   1.0   1.0   2.0  1.5  1.5   \n",
       "475  24.0  30  15  15  0.500  ...   0.7   0.667   0.4   1.2   1.6  0.2  0.5   \n",
       "476  30.0  28  17  11  0.607  ...   3.1   0.659   2.8   5.3   8.0  1.7  1.4   \n",
       "477  28.0  58  34  24  0.586  ...   2.7   0.741   2.7   5.2   7.9  1.4  1.4   \n",
       "\n",
       "     STL  BLK   PTS  \n",
       "0    0.5  0.0   3.9  \n",
       "1    0.4  0.3   3.9  \n",
       "2    0.9  0.2  14.2  \n",
       "3    0.9  1.3  12.4  \n",
       "4    0.8  1.7  19.2  \n",
       "5    0.9  0.5   6.0  \n",
       "6    0.3  0.2   9.6  \n",
       "7    0.5  0.1   7.2  \n",
       "8    1.3  0.3  10.6  \n",
       "9    0.8  1.0  17.5  \n",
       "10   0.5  1.1   7.1  \n",
       "11   1.4  0.7  10.8  \n",
       "12   0.8  0.7   8.5  \n",
       "13   0.3  0.2   2.2  \n",
       "14   1.7  0.5  12.4  \n",
       "15   1.0  0.1   9.7  \n",
       "16   0.6  0.5  19.5  \n",
       "17   0.1  0.1   1.5  \n",
       "18   1.0  2.0  11.3  \n",
       "19   0.5  1.9  18.7  \n",
       "20   0.1  0.0   4.4  \n",
       "21   0.5  1.0   1.7  \n",
       "22   0.8  0.7  17.2  \n",
       "23   0.3  0.2   2.0  \n",
       "24   0.7  0.1  12.0  \n",
       "25   0.7  0.1   7.2  \n",
       "26   0.4  1.0   7.4  \n",
       "27   0.4  0.4   4.1  \n",
       "28   0.6  0.0   5.2  \n",
       "29   0.6  0.2  15.2  \n",
       "..   ...  ...   ...  \n",
       "448  0.5  0.5   4.3  \n",
       "449  1.7  0.6  10.8  \n",
       "450  1.0  0.9   8.4  \n",
       "451  0.1  0.0   1.9  \n",
       "452  0.1  0.1   2.4  \n",
       "453  0.5  1.0   8.2  \n",
       "454  0.3  0.3   3.2  \n",
       "455  1.3  0.1  16.4  \n",
       "456  0.8  0.1   9.3  \n",
       "457  0.3  0.2   1.3  \n",
       "458  1.3  0.5  16.5  \n",
       "459  0.7  1.1   5.6  \n",
       "460  0.9  1.4  11.3  \n",
       "461  0.5  0.4   6.0  \n",
       "462  0.2  0.2   2.0  \n",
       "463  0.9  0.4  10.1  \n",
       "464  0.4  0.3   4.5  \n",
       "465  0.3  0.1   5.9  \n",
       "466  0.6  0.0   3.0  \n",
       "467  0.5  0.2   6.1  \n",
       "468  0.5  0.7   6.0  \n",
       "469  1.5  0.2  13.7  \n",
       "470  0.6  0.1   5.7  \n",
       "471  0.4  0.1   7.6  \n",
       "472  0.8  0.8   9.4  \n",
       "473  0.6  0.2   5.3  \n",
       "474  0.0  0.0   5.5  \n",
       "475  0.2  0.3   2.6  \n",
       "476  0.8  0.1  11.6  \n",
       "477  0.9  0.5   7.8  \n",
       "\n",
       "[478 rows x 28 columns]"
      ]
     },
     "execution_count": 3,
     "metadata": {},
     "output_type": "execute_result"
    }
   ],
   "source": [
    "df_2011"
   ]
  },
  {
   "cell_type": "code",
   "execution_count": 4,
   "metadata": {},
   "outputs": [
    {
     "data": {
      "text/plain": [
       "<matplotlib.axes._subplots.AxesSubplot at 0x1a12bb22e8>"
      ]
     },
     "execution_count": 4,
     "metadata": {},
     "output_type": "execute_result"
    },
    {
     "data": {
      "image/png": "[encoded data removed]",
      "text/plain": [
       "<matplotlib.figure.Figure at 0x1a12bb2c88>"
      ]
     },
     "metadata": {},
     "output_type": "display_data"
    }
   ],
   "source": [
    "df_2011['PTS'].plot.hist(bins=40)"
   ]
  },
  {
   "cell_type": "code",
   "execution_count": 5,
   "metadata": {},
   "outputs": [
    {
     "data": {
      "text/plain": [
       "Index(['PLAYER_ID', 'PLAYER_NAME', 'TEAM_ID', 'TEAM_ABBREVIATION', 'AGE', 'GP',\n",
       "       'W', 'L', 'W_PCT', 'MIN', 'FGM', 'FGA', 'FG_PCT', 'FG3M', 'FG3A',\n",
       "       'FG3_PCT', 'FTM', 'FTA', 'FT_PCT', 'OREB', 'DREB', 'REB', 'AST', 'TOV',\n",
       "       'STL', 'BLK', 'PTS'],\n",
       "      dtype='object')"
      ]
     },
     "execution_count": 5,
     "metadata": {},
     "output_type": "execute_result"
    }
   ],
   "source": [
    "df_2011.columns[1:]\n",
    "#pts_2016 = df_2016.as_matrix(columns=df_2016.columns[27:])\n",
    "#x = pts_2016 #The array needs to be larger than 20, just an example\n",
    "#mx = ma.masked_array(x)\n",
    "#z,pval = mstats.normaltest(mx)\n",
    "\n",
    "#if(pval < 0.055):\n",
    "#   print(\"Not normal distribution\")"
   ]
  },
  {
   "cell_type": "code",
   "execution_count": 6,
   "metadata": {},
   "outputs": [
    {
     "name": "stdout",
     "output_type": "stream",
     "text": [
      "58.9262954144 1.60072796152e-13\n",
      "PTS Is Normal Dist\n"
     ]
    }
   ],
   "source": [
    "z,pval = mstats.normaltest(df_2011['PTS'])\n",
    "print(z, pval)\n",
    "if(pval < 0.001):\n",
    "    print('PTS Is Normal Dist')\n",
    "else:\n",
    "    print('PTS Is not Normal Dist')"
   ]
  },
  {
   "cell_type": "code",
   "execution_count": 7,
   "metadata": {},
   "outputs": [
    {
     "data": {
      "text/plain": [
       "<matplotlib.axes._subplots.AxesSubplot at 0x10cc3a710>"
      ]
     },
     "execution_count": 7,
     "metadata": {},
     "output_type": "execute_result"
    },
    {
     "data": {
      "image/png": "[encoded data removed]",
      "text/plain": [
       "<matplotlib.figure.Figure at 0x10cc0deb8>"
      ]
     },
     "metadata": {},
     "output_type": "display_data"
    }
   ],
   "source": [
    "df_2011['BLK'].plot.hist(bins=10)"
   ]
  },
  {
   "cell_type": "code",
   "execution_count": 8,
   "metadata": {},
   "outputs": [
    {
     "name": "stdout",
     "output_type": "stream",
     "text": [
      "235.151578944 8.65931278047e-52\n",
      "BLK Is Normal Dist\n"
     ]
    }
   ],
   "source": [
    "z,pval = mstats.normaltest(df_2011['BLK'])\n",
    "print(z, pval)\n",
    "if(pval < 0.001):\n",
    "    print('BLK Is Normal Dist')\n",
    "else:\n",
    "    print('BLK Is not Normal Dist')"
   ]
  },
  {
   "cell_type": "code",
   "execution_count": 9,
   "metadata": {},
   "outputs": [
    {
     "data": {
      "text/plain": [
       "<matplotlib.axes._subplots.AxesSubplot at 0x10cc6fc88>"
      ]
     },
     "execution_count": 9,
     "metadata": {},
     "output_type": "execute_result"
    },
    {
     "data": {
      "image/png": "[encoded data removed]",
      "text/plain": [
       "<matplotlib.figure.Figure at 0x10ccd8a20>"
      ]
     },
     "metadata": {},
     "output_type": "display_data"
    }
   ],
   "source": [
    "df_2011['STL'].plot.hist(bins=15)"
   ]
  },
  {
   "cell_type": "code",
   "execution_count": 10,
   "metadata": {},
   "outputs": [
    {
     "name": "stdout",
     "output_type": "stream",
     "text": [
      "72.1656014034 2.13520099738e-16\n",
      "STL Is Normal Dist\n"
     ]
    }
   ],
   "source": [
    "z,pval = mstats.normaltest(df_2011['STL'])\n",
    "print(z, pval)\n",
    "if(pval < 0.001):\n",
    "    print('STL Is Normal Dist')\n",
    "else:\n",
    "    print('STL Is not Normal Dist')"
   ]
  },
  {
   "cell_type": "code",
   "execution_count": 11,
   "metadata": {},
   "outputs": [
    {
     "data": {
      "text/plain": [
       "<matplotlib.axes._subplots.AxesSubplot at 0x1a1b12f2b0>"
      ]
     },
     "execution_count": 11,
     "metadata": {},
     "output_type": "execute_result"
    },
    {
     "data": {
      "image/png": "[encoded data removed]",
      "text/plain": [
       "<matplotlib.figure.Figure at 0x1a1b117e80>"
      ]
     },
     "metadata": {},
     "output_type": "display_data"
    }
   ],
   "source": [
    "df_2011['TOV'].plot.hist(bins=12)"
   ]
  },
  {
   "cell_type": "code",
   "execution_count": 12,
   "metadata": {},
   "outputs": [
    {
     "name": "stdout",
     "output_type": "stream",
     "text": [
      "66.3650323722 3.88164956455e-15\n",
      "TOV Is Normal Dist\n"
     ]
    }
   ],
   "source": [
    "z,pval = mstats.normaltest(df_2011['TOV'])\n",
    "print(z, pval)\n",
    "if(pval < 0.001):\n",
    "    print('TOV Is Normal Dist')\n",
    "else:\n",
    "    print('TOV Is not Normal Dist')"
   ]
  },
  {
   "cell_type": "code",
   "execution_count": 13,
   "metadata": {},
   "outputs": [
    {
     "data": {
      "text/plain": [
       "<matplotlib.axes._subplots.AxesSubplot at 0x1a1b211940>"
      ]
     },
     "execution_count": 13,
     "metadata": {},
     "output_type": "execute_result"
    },
    {
     "data": {
      "image/png": "[encoded data removed]",
      "text/plain": [
       "<matplotlib.figure.Figure at 0x1a1b1f7470>"
      ]
     },
     "metadata": {},
     "output_type": "display_data"
    }
   ],
   "source": [
    "df_2011['AST'].plot.hist(bins=20)"
   ]
  },
  {
   "cell_type": "code",
   "execution_count": 14,
   "metadata": {},
   "outputs": [
    {
     "name": "stdout",
     "output_type": "stream",
     "text": [
      "217.224691201 6.7648417113e-48\n",
      "AST Is Normal Dist\n"
     ]
    }
   ],
   "source": [
    "z,pval = mstats.normaltest(df_2011['AST'])\n",
    "print(z, pval)\n",
    "if(pval < 0.001):\n",
    "    print('AST Is Normal Dist')\n",
    "else:\n",
    "    print('AST Is not Normal Dist')"
   ]
  },
  {
   "cell_type": "code",
   "execution_count": 15,
   "metadata": {},
   "outputs": [
    {
     "data": {
      "text/plain": [
       "<matplotlib.axes._subplots.AxesSubplot at 0x1a1b23fc88>"
      ]
     },
     "execution_count": 15,
     "metadata": {},
     "output_type": "execute_result"
    },
    {
     "data": {
      "image/png": "[encoded data removed]",
      "text/plain": [
       "<matplotlib.figure.Figure at 0x1a1b368b38>"
      ]
     },
     "metadata": {},
     "output_type": "display_data"
    }
   ],
   "source": [
    "df_2011['REB'].plot.hist(bins=25)"
   ]
  },
  {
   "cell_type": "code",
   "execution_count": 16,
   "metadata": {},
   "outputs": [
    {
     "name": "stdout",
     "output_type": "stream",
     "text": [
      "114.20614871 1.58653591552e-25\n",
      "REB Is Normal Dist\n"
     ]
    }
   ],
   "source": [
    "z,pval = mstats.normaltest(df_2011['REB'])\n",
    "print(z, pval)\n",
    "if(pval < 0.001):\n",
    "    print('REB Is Normal Dist')\n",
    "else:\n",
    "    print('REB Is not Normal Dist')"
   ]
  },
  {
   "cell_type": "code",
   "execution_count": 17,
   "metadata": {},
   "outputs": [
    {
     "data": {
      "text/plain": [
       "<matplotlib.axes._subplots.AxesSubplot at 0x1a1b553da0>"
      ]
     },
     "execution_count": 17,
     "metadata": {},
     "output_type": "execute_result"
    },
    {
     "data": {
      "image/png": "[encoded data removed]",
      "text/plain": [
       "<matplotlib.figure.Figure at 0x1a1b46fc18>"
      ]
     },
     "metadata": {},
     "output_type": "display_data"
    }
   ],
   "source": [
    "df_2011['DREB'].plot.hist(bins=25)"
   ]
  },
  {
   "cell_type": "code",
   "execution_count": 18,
   "metadata": {},
   "outputs": [
    {
     "name": "stdout",
     "output_type": "stream",
     "text": [
      "113.987253462 1.77003725418e-25\n",
      "DREB Is Normal Dist\n"
     ]
    }
   ],
   "source": [
    "z,pval = mstats.normaltest(df_2011['DREB'])\n",
    "print(z, pval)\n",
    "if(pval < 0.001):\n",
    "    print('DREB Is Normal Dist')\n",
    "else:\n",
    "    print('DREB Is not Normal Dist')"
   ]
  },
  {
   "cell_type": "code",
   "execution_count": 19,
   "metadata": {},
   "outputs": [
    {
     "data": {
      "text/plain": [
       "<matplotlib.axes._subplots.AxesSubplot at 0x1a1b593ba8>"
      ]
     },
     "execution_count": 19,
     "metadata": {},
     "output_type": "execute_result"
    },
    {
     "data": {
      "image/png": "[encoded data removed]",
      "text/plain": [
       "<matplotlib.figure.Figure at 0x1a1b670a90>"
      ]
     },
     "metadata": {},
     "output_type": "display_data"
    }
   ],
   "source": [
    "df_2011['OREB'].plot.hist(bins=20)"
   ]
  },
  {
   "cell_type": "code",
   "execution_count": 20,
   "metadata": {},
   "outputs": [
    {
     "name": "stdout",
     "output_type": "stream",
     "text": [
      "130.404464399 4.81981476756e-29\n",
      "OREB Is Normal Dist\n"
     ]
    }
   ],
   "source": [
    "z,pval = mstats.normaltest(df_2011['OREB'])\n",
    "print(z, pval)\n",
    "if(pval < 0.001):\n",
    "    print('OREB Is Normal Dist')\n",
    "else:\n",
    "    print('OREB Is not Normal Dist')"
   ]
  },
  {
   "cell_type": "code",
   "execution_count": 21,
   "metadata": {},
   "outputs": [
    {
     "data": {
      "text/plain": [
       "<matplotlib.axes._subplots.AxesSubplot at 0x1a1b6ea7b8>"
      ]
     },
     "execution_count": 21,
     "metadata": {},
     "output_type": "execute_result"
    },
    {
     "data": {
      "image/png": "[encoded data removed]",
      "text/plain": [
       "<matplotlib.figure.Figure at 0x1a1b6f6d68>"
      ]
     },
     "metadata": {},
     "output_type": "display_data"
    }
   ],
   "source": [
    "df_2011['FT_PCT'].plot.hist(bins=15)"
   ]
  },
  {
   "cell_type": "code",
   "execution_count": 22,
   "metadata": {},
   "outputs": [
    {
     "name": "stdout",
     "output_type": "stream",
     "text": [
      "188.98100548 9.18958856835e-42\n",
      "FT_PCT Is Normal Dist\n"
     ]
    }
   ],
   "source": [
    "z,pval = mstats.normaltest(df_2011['FT_PCT'])\n",
    "print(z, pval)\n",
    "if(pval < 0.001):\n",
    "    print('FT_PCT Is Normal Dist')\n",
    "else:\n",
    "    print('FT_PCT Is not Normal Dist')"
   ]
  },
  {
   "cell_type": "code",
   "execution_count": 23,
   "metadata": {},
   "outputs": [
    {
     "data": {
      "text/plain": [
       "<matplotlib.axes._subplots.AxesSubplot at 0x1a1b8bad68>"
      ]
     },
     "execution_count": 23,
     "metadata": {},
     "output_type": "execute_result"
    },
    {
     "data": {
      "image/png": "[encoded data removed]",
      "text/plain": [
       "<matplotlib.figure.Figure at 0x1a1b7ff8d0>"
      ]
     },
     "metadata": {},
     "output_type": "display_data"
    }
   ],
   "source": [
    "df_2011['FTA'].plot.hist(bins=15)"
   ]
  },
  {
   "cell_type": "code",
   "execution_count": 24,
   "metadata": {},
   "outputs": [
    {
     "name": "stdout",
     "output_type": "stream",
     "text": [
      "159.200336509 2.69206888545e-35\n",
      "FTA Is Normal Dist\n"
     ]
    }
   ],
   "source": [
    "z,pval = mstats.normaltest(df_2011['FTA'])\n",
    "print(z, pval)\n",
    "if(pval < 0.001):\n",
    "    print('FTA Is Normal Dist')\n",
    "else:\n",
    "    print('FTA Is not Normal Dist')"
   ]
  },
  {
   "cell_type": "code",
   "execution_count": 25,
   "metadata": {},
   "outputs": [
    {
     "data": {
      "text/plain": [
       "<matplotlib.axes._subplots.AxesSubplot at 0x1a1b8faa20>"
      ]
     },
     "execution_count": 25,
     "metadata": {},
     "output_type": "execute_result"
    },
    {
     "data": {
      "image/png": "[encoded data removed]",
      "text/plain": [
       "<matplotlib.figure.Figure at 0x1a1b922ba8>"
      ]
     },
     "metadata": {},
     "output_type": "display_data"
    }
   ],
   "source": [
    "df_2011['FTM'].plot.hist(bins=15)"
   ]
  },
  {
   "cell_type": "code",
   "execution_count": 26,
   "metadata": {},
   "outputs": [
    {
     "name": "stdout",
     "output_type": "stream",
     "text": [
      "144.863491727 3.493755082e-32\n",
      "FTM Is Normal Dist\n"
     ]
    }
   ],
   "source": [
    "z,pval = mstats.normaltest(df_2011['FTM'])\n",
    "print(z, pval)\n",
    "if(pval < 0.001):\n",
    "    print('FTM Is Normal Dist')\n",
    "else:\n",
    "    print('FTM Is not Normal Dist')"
   ]
  },
  {
   "cell_type": "code",
   "execution_count": 27,
   "metadata": {},
   "outputs": [
    {
     "data": {
      "text/plain": [
       "<matplotlib.axes._subplots.AxesSubplot at 0x1a1ba0ccc0>"
      ]
     },
     "execution_count": 27,
     "metadata": {},
     "output_type": "execute_result"
    },
    {
     "data": {
      "image/png": "[encoded data removed]",
      "text/plain": [
       "<matplotlib.figure.Figure at 0x1a1b664ba8>"
      ]
     },
     "metadata": {},
     "output_type": "display_data"
    }
   ],
   "source": [
    "df_2011['FG3_PCT'].plot.hist(bins=10)"
   ]
  },
  {
   "cell_type": "code",
   "execution_count": 28,
   "metadata": {},
   "outputs": [
    {
     "name": "stdout",
     "output_type": "stream",
     "text": [
      "13.4279663952 0.00121381959933\n",
      "FG3_PCT Is not Normal Dist\n"
     ]
    }
   ],
   "source": [
    "z,pval = mstats.normaltest(df_2011['FG3_PCT'])\n",
    "print(z, pval)\n",
    "if(pval < 0.001):\n",
    "    print('FG3_PCT Is Normal Dist')\n",
    "else:\n",
    "    print('FG3_PCT Is not Normal Dist')"
   ]
  },
  {
   "cell_type": "code",
   "execution_count": 29,
   "metadata": {},
   "outputs": [
    {
     "data": {
      "text/plain": [
       "<matplotlib.axes._subplots.AxesSubplot at 0x1a1bb533c8>"
      ]
     },
     "execution_count": 29,
     "metadata": {},
     "output_type": "execute_result"
    },
    {
     "data": {
      "image/png": "[encoded data removed]",
      "text/plain": [
       "<matplotlib.figure.Figure at 0x1a1ba3d828>"
      ]
     },
     "metadata": {},
     "output_type": "display_data"
    }
   ],
   "source": [
    "df_2011['FG3A'].plot.hist(bins=15)"
   ]
  },
  {
   "cell_type": "code",
   "execution_count": 30,
   "metadata": {},
   "outputs": [
    {
     "name": "stdout",
     "output_type": "stream",
     "text": [
      "47.7304546707 4.31979819726e-11\n",
      "FG3A Is Normal Dist\n"
     ]
    }
   ],
   "source": [
    "z,pval = mstats.normaltest(df_2011['FG3A'])\n",
    "print(z, pval)\n",
    "if(pval < 0.001):\n",
    "    print('FG3A Is Normal Dist')\n",
    "else:\n",
    "    print('FG3A Is not Normal Dist')"
   ]
  },
  {
   "cell_type": "code",
   "execution_count": 31,
   "metadata": {},
   "outputs": [
    {
     "data": {
      "text/plain": [
       "<matplotlib.axes._subplots.AxesSubplot at 0x1a1bc5e5c0>"
      ]
     },
     "execution_count": 31,
     "metadata": {},
     "output_type": "execute_result"
    },
    {
     "data": {
      "image/png": "[encoded data removed]",
      "text/plain": [
       "<matplotlib.figure.Figure at 0x1a1bb150f0>"
      ]
     },
     "metadata": {},
     "output_type": "display_data"
    }
   ],
   "source": [
    "df_2011['FG3M'].plot.hist(bins=15)"
   ]
  },
  {
   "cell_type": "code",
   "execution_count": 32,
   "metadata": {},
   "outputs": [
    {
     "name": "stdout",
     "output_type": "stream",
     "text": [
      "62.4239915413 2.78485423099e-14\n",
      "FG3M Is Normal Dist\n"
     ]
    }
   ],
   "source": [
    "z,pval = mstats.normaltest(df_2011['FG3M'])\n",
    "print(z, pval)\n",
    "if(pval < 0.001):\n",
    "    print('FG3M Is Normal Dist')\n",
    "else:\n",
    "    print('FG3M Is not Normal Dist')"
   ]
  },
  {
   "cell_type": "code",
   "execution_count": 33,
   "metadata": {},
   "outputs": [
    {
     "data": {
      "text/plain": [
       "<matplotlib.axes._subplots.AxesSubplot at 0x1a1bd86b70>"
      ]
     },
     "execution_count": 33,
     "metadata": {},
     "output_type": "execute_result"
    },
    {
     "data": {
      "image/png": "[encoded data removed]",
      "text/plain": [
       "<matplotlib.figure.Figure at 0x1a1bd917f0>"
      ]
     },
     "metadata": {},
     "output_type": "display_data"
    }
   ],
   "source": [
    "df_2011['FG_PCT'].plot.hist(bins=12)"
   ]
  },
  {
   "cell_type": "code",
   "execution_count": 34,
   "metadata": {},
   "outputs": [
    {
     "name": "stdout",
     "output_type": "stream",
     "text": [
      "145.768716156 2.2219049152e-32\n",
      "FG_PCT Is Normal Dist\n"
     ]
    }
   ],
   "source": [
    "z,pval = mstats.normaltest(df_2011['FG_PCT'])\n",
    "print(z, pval)\n",
    "if(pval < 0.001):\n",
    "    print('FG_PCT Is Normal Dist')\n",
    "else:\n",
    "    print('FG_PCT Is not Normal Dist')"
   ]
  },
  {
   "cell_type": "code",
   "execution_count": 35,
   "metadata": {},
   "outputs": [
    {
     "data": {
      "text/plain": [
       "<matplotlib.axes._subplots.AxesSubplot at 0x1a1be93c50>"
      ]
     },
     "execution_count": 35,
     "metadata": {},
     "output_type": "execute_result"
    },
    {
     "data": {
      "image/png": "[encoded data removed]",
      "text/plain": [
       "<matplotlib.figure.Figure at 0x1a1be41cc0>"
      ]
     },
     "metadata": {},
     "output_type": "display_data"
    }
   ],
   "source": [
    "df_2011['FGA'].plot.hist(bins=15)"
   ]
  },
  {
   "cell_type": "code",
   "execution_count": 36,
   "metadata": {},
   "outputs": [
    {
     "name": "stdout",
     "output_type": "stream",
     "text": [
      "43.5340654347 3.52125764956e-10\n",
      "FGA Is Normal Dist\n"
     ]
    }
   ],
   "source": [
    "z,pval = mstats.normaltest(df_2011['FGA'])\n",
    "print(z, pval)\n",
    "if(pval < 0.001):\n",
    "    print('FGA Is Normal Dist')\n",
    "else:\n",
    "    print('FGA Is not Normal Dist')"
   ]
  },
  {
   "cell_type": "code",
   "execution_count": 37,
   "metadata": {},
   "outputs": [
    {
     "data": {
      "text/plain": [
       "<matplotlib.axes._subplots.AxesSubplot at 0x1a1c07dc18>"
      ]
     },
     "execution_count": 37,
     "metadata": {},
     "output_type": "execute_result"
    },
    {
     "data": {
      "image/png": "[encoded data removed]",
      "text/plain": [
       "<matplotlib.figure.Figure at 0x1a1c083a20>"
      ]
     },
     "metadata": {},
     "output_type": "display_data"
    }
   ],
   "source": [
    "df_2011['FGM'].plot.hist(bins=25)"
   ]
  },
  {
   "cell_type": "code",
   "execution_count": 38,
   "metadata": {},
   "outputs": [
    {
     "name": "stdout",
     "output_type": "stream",
     "text": [
      "51.5863453632 6.28300540897e-12\n",
      "FGM Is Normal Dist\n"
     ]
    }
   ],
   "source": [
    "z,pval = mstats.normaltest(df_2011['FGM'])\n",
    "print(z, pval)\n",
    "if(pval < 0.001):\n",
    "    print('FGM Is Normal Dist')\n",
    "else:\n",
    "    print('FGM Is not Normal Dist')"
   ]
  },
  {
   "cell_type": "code",
   "execution_count": 39,
   "metadata": {},
   "outputs": [
    {
     "data": {
      "text/plain": [
       "<matplotlib.axes._subplots.AxesSubplot at 0x1a1c1a1c18>"
      ]
     },
     "execution_count": 39,
     "metadata": {},
     "output_type": "execute_result"
    },
    {
     "data": {
      "image/png": "[encoded data removed]",
      "text/plain": [
       "<matplotlib.figure.Figure at 0x1a1bfa95c0>"
      ]
     },
     "metadata": {},
     "output_type": "display_data"
    }
   ],
   "source": [
    "df_2011['MIN'].plot.hist(bins=25)"
   ]
  },
  {
   "cell_type": "code",
   "execution_count": 40,
   "metadata": {},
   "outputs": [
    {
     "name": "stdout",
     "output_type": "stream",
     "text": [
      "88.8729557493 5.02901422225e-20\n",
      "MIN Is Normal Dist\n"
     ]
    }
   ],
   "source": [
    "z,pval = mstats.normaltest(df_2011['MIN'])\n",
    "print(z, pval)\n",
    "if(pval < 0.001):\n",
    "    print('MIN Is Normal Dist')\n",
    "else:\n",
    "    print('MIN Is not Normal Dist')"
   ]
  },
  {
   "cell_type": "code",
   "execution_count": null,
   "metadata": {
    "collapsed": true
   },
   "outputs": [],
   "source": []
  }
 ],
 "metadata": {
  "kernelspec": {
   "display_name": "Python 3",
   "language": "python",
   "name": "python3"
  },
  "language_info": {
   "codemirror_mode": {
    "name": "ipython",
    "version": 3
   },
   "file_extension": ".py",
   "mimetype": "text/x-python",
   "name": "python",
   "nbconvert_exporter": "python",
   "pygments_lexer": "ipython3",
   "version": "3.6.3"
  }
 },
 "nbformat": 4,
 "nbformat_minor": 2
}
