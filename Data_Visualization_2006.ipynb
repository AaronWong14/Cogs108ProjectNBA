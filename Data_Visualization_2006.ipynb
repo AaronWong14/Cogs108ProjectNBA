{
 "cells": [
  {
   "cell_type": "code",
   "execution_count": 1,
   "metadata": {
    "collapsed": true
   },
   "outputs": [],
   "source": [
    "# Imports - these are all the imports needed for the assignment\n",
    "%matplotlib inline\n",
    "from scipy import stats\n",
    "import numpy.ma as ma\n",
    "from scipy.stats import mstats\n",
    "\n",
    "import numpy as np\n",
    "import pandas as pd\n",
    "import matplotlib.pyplot as plt"
   ]
  },
  {
   "cell_type": "code",
   "execution_count": 2,
   "metadata": {
    "collapsed": true
   },
   "outputs": [],
   "source": [
    "# 1a) Load the nba csv files\n",
    "\n",
    "# YOUR CODE HERE\n",
    "df_2006 = pd.read_csv('clean_players_2006.csv')"
   ]
  },
  {
   "cell_type": "code",
   "execution_count": 3,
   "metadata": {},
   "outputs": [
    {
     "data": {
      "text/html": [
       "<div>\n",
       "<style>\n",
       "    .dataframe thead tr:only-child th {\n",
       "        text-align: right;\n",
       "    }\n",
       "\n",
       "    .dataframe thead th {\n",
       "        text-align: left;\n",
       "    }\n",
       "\n",
       "    .dataframe tbody tr th {\n",
       "        vertical-align: top;\n",
       "    }\n",
       "</style>\n",
       "<table border=\"1\" class=\"dataframe\">\n",
       "  <thead>\n",
       "    <tr style=\"text-align: right;\">\n",
       "      <th></th>\n",
       "      <th>Unnamed: 0</th>\n",
       "      <th>PLAYER_ID</th>\n",
       "      <th>PLAYER_NAME</th>\n",
       "      <th>TEAM_ID</th>\n",
       "      <th>TEAM_ABBREVIATION</th>\n",
       "      <th>AGE</th>\n",
       "      <th>GP</th>\n",
       "      <th>W</th>\n",
       "      <th>L</th>\n",
       "      <th>W_PCT</th>\n",
       "      <th>...</th>\n",
       "      <th>FTA</th>\n",
       "      <th>FT_PCT</th>\n",
       "      <th>OREB</th>\n",
       "      <th>DREB</th>\n",
       "      <th>REB</th>\n",
       "      <th>AST</th>\n",
       "      <th>TOV</th>\n",
       "      <th>STL</th>\n",
       "      <th>BLK</th>\n",
       "      <th>PTS</th>\n",
       "    </tr>\n",
       "  </thead>\n",
       "  <tbody>\n",
       "    <tr>\n",
       "      <th>0</th>\n",
       "      <td>0</td>\n",
       "      <td>243</td>\n",
       "      <td>Aaron McKie</td>\n",
       "      <td>1610612747</td>\n",
       "      <td>LAL</td>\n",
       "      <td>34.0</td>\n",
       "      <td>10</td>\n",
       "      <td>4</td>\n",
       "      <td>6</td>\n",
       "      <td>0.400</td>\n",
       "      <td>...</td>\n",
       "      <td>0.0</td>\n",
       "      <td>0.000</td>\n",
       "      <td>0.1</td>\n",
       "      <td>1.7</td>\n",
       "      <td>1.8</td>\n",
       "      <td>1.3</td>\n",
       "      <td>0.8</td>\n",
       "      <td>0.4</td>\n",
       "      <td>0.0</td>\n",
       "      <td>2.2</td>\n",
       "    </tr>\n",
       "    <tr>\n",
       "      <th>1</th>\n",
       "      <td>1</td>\n",
       "      <td>1425</td>\n",
       "      <td>Aaron Williams</td>\n",
       "      <td>1610612746</td>\n",
       "      <td>LAC</td>\n",
       "      <td>35.0</td>\n",
       "      <td>38</td>\n",
       "      <td>15</td>\n",
       "      <td>23</td>\n",
       "      <td>0.395</td>\n",
       "      <td>...</td>\n",
       "      <td>0.6</td>\n",
       "      <td>0.818</td>\n",
       "      <td>0.7</td>\n",
       "      <td>1.5</td>\n",
       "      <td>2.2</td>\n",
       "      <td>0.2</td>\n",
       "      <td>0.5</td>\n",
       "      <td>0.2</td>\n",
       "      <td>0.4</td>\n",
       "      <td>2.0</td>\n",
       "    </tr>\n",
       "    <tr>\n",
       "      <th>2</th>\n",
       "      <td>2</td>\n",
       "      <td>200747</td>\n",
       "      <td>Adam Morrison</td>\n",
       "      <td>1610612766</td>\n",
       "      <td>CHA</td>\n",
       "      <td>22.0</td>\n",
       "      <td>78</td>\n",
       "      <td>30</td>\n",
       "      <td>48</td>\n",
       "      <td>0.385</td>\n",
       "      <td>...</td>\n",
       "      <td>2.2</td>\n",
       "      <td>0.710</td>\n",
       "      <td>0.7</td>\n",
       "      <td>2.3</td>\n",
       "      <td>2.9</td>\n",
       "      <td>2.1</td>\n",
       "      <td>1.7</td>\n",
       "      <td>0.4</td>\n",
       "      <td>0.1</td>\n",
       "      <td>11.8</td>\n",
       "    </tr>\n",
       "    <tr>\n",
       "      <th>3</th>\n",
       "      <td>3</td>\n",
       "      <td>1502</td>\n",
       "      <td>Adonal Foyle</td>\n",
       "      <td>1610612744</td>\n",
       "      <td>GSW</td>\n",
       "      <td>32.0</td>\n",
       "      <td>48</td>\n",
       "      <td>19</td>\n",
       "      <td>29</td>\n",
       "      <td>0.396</td>\n",
       "      <td>...</td>\n",
       "      <td>0.5</td>\n",
       "      <td>0.440</td>\n",
       "      <td>1.1</td>\n",
       "      <td>1.6</td>\n",
       "      <td>2.6</td>\n",
       "      <td>0.4</td>\n",
       "      <td>0.5</td>\n",
       "      <td>0.2</td>\n",
       "      <td>1.0</td>\n",
       "      <td>2.2</td>\n",
       "    </tr>\n",
       "    <tr>\n",
       "      <th>4</th>\n",
       "      <td>4</td>\n",
       "      <td>1559</td>\n",
       "      <td>Adrian Griffin</td>\n",
       "      <td>1610612741</td>\n",
       "      <td>CHI</td>\n",
       "      <td>32.0</td>\n",
       "      <td>54</td>\n",
       "      <td>32</td>\n",
       "      <td>22</td>\n",
       "      <td>0.593</td>\n",
       "      <td>...</td>\n",
       "      <td>0.4</td>\n",
       "      <td>0.789</td>\n",
       "      <td>0.7</td>\n",
       "      <td>1.3</td>\n",
       "      <td>2.0</td>\n",
       "      <td>1.1</td>\n",
       "      <td>0.7</td>\n",
       "      <td>0.6</td>\n",
       "      <td>0.1</td>\n",
       "      <td>2.5</td>\n",
       "    </tr>\n",
       "    <tr>\n",
       "      <th>5</th>\n",
       "      <td>5</td>\n",
       "      <td>1733</td>\n",
       "      <td>Al Harrington</td>\n",
       "      <td>1610612744</td>\n",
       "      <td>GSW</td>\n",
       "      <td>27.0</td>\n",
       "      <td>78</td>\n",
       "      <td>42</td>\n",
       "      <td>36</td>\n",
       "      <td>0.538</td>\n",
       "      <td>...</td>\n",
       "      <td>3.1</td>\n",
       "      <td>0.694</td>\n",
       "      <td>1.9</td>\n",
       "      <td>4.4</td>\n",
       "      <td>6.4</td>\n",
       "      <td>1.9</td>\n",
       "      <td>2.2</td>\n",
       "      <td>0.8</td>\n",
       "      <td>0.3</td>\n",
       "      <td>16.5</td>\n",
       "    </tr>\n",
       "    <tr>\n",
       "      <th>6</th>\n",
       "      <td>6</td>\n",
       "      <td>2744</td>\n",
       "      <td>Al Jefferson</td>\n",
       "      <td>1610612738</td>\n",
       "      <td>BOS</td>\n",
       "      <td>22.0</td>\n",
       "      <td>69</td>\n",
       "      <td>20</td>\n",
       "      <td>49</td>\n",
       "      <td>0.290</td>\n",
       "      <td>...</td>\n",
       "      <td>4.3</td>\n",
       "      <td>0.681</td>\n",
       "      <td>3.4</td>\n",
       "      <td>7.5</td>\n",
       "      <td>11.0</td>\n",
       "      <td>1.3</td>\n",
       "      <td>2.0</td>\n",
       "      <td>0.7</td>\n",
       "      <td>1.5</td>\n",
       "      <td>16.0</td>\n",
       "    </tr>\n",
       "    <tr>\n",
       "      <th>7</th>\n",
       "      <td>7</td>\n",
       "      <td>101187</td>\n",
       "      <td>Alan Anderson</td>\n",
       "      <td>1610612766</td>\n",
       "      <td>CHA</td>\n",
       "      <td>24.0</td>\n",
       "      <td>17</td>\n",
       "      <td>7</td>\n",
       "      <td>10</td>\n",
       "      <td>0.412</td>\n",
       "      <td>...</td>\n",
       "      <td>1.4</td>\n",
       "      <td>0.826</td>\n",
       "      <td>0.6</td>\n",
       "      <td>1.2</td>\n",
       "      <td>1.9</td>\n",
       "      <td>1.2</td>\n",
       "      <td>1.3</td>\n",
       "      <td>0.4</td>\n",
       "      <td>0.0</td>\n",
       "      <td>5.8</td>\n",
       "    </tr>\n",
       "    <tr>\n",
       "      <th>8</th>\n",
       "      <td>8</td>\n",
       "      <td>673</td>\n",
       "      <td>Alan Henderson</td>\n",
       "      <td>1610612755</td>\n",
       "      <td>PHI</td>\n",
       "      <td>34.0</td>\n",
       "      <td>38</td>\n",
       "      <td>9</td>\n",
       "      <td>29</td>\n",
       "      <td>0.237</td>\n",
       "      <td>...</td>\n",
       "      <td>1.2</td>\n",
       "      <td>0.702</td>\n",
       "      <td>1.3</td>\n",
       "      <td>1.6</td>\n",
       "      <td>2.8</td>\n",
       "      <td>0.3</td>\n",
       "      <td>0.3</td>\n",
       "      <td>0.2</td>\n",
       "      <td>0.3</td>\n",
       "      <td>3.1</td>\n",
       "    </tr>\n",
       "    <tr>\n",
       "      <th>9</th>\n",
       "      <td>9</td>\n",
       "      <td>200792</td>\n",
       "      <td>Alexander Johnson</td>\n",
       "      <td>1610612763</td>\n",
       "      <td>MEM</td>\n",
       "      <td>24.0</td>\n",
       "      <td>59</td>\n",
       "      <td>15</td>\n",
       "      <td>44</td>\n",
       "      <td>0.254</td>\n",
       "      <td>...</td>\n",
       "      <td>2.0</td>\n",
       "      <td>0.661</td>\n",
       "      <td>0.8</td>\n",
       "      <td>2.2</td>\n",
       "      <td>3.1</td>\n",
       "      <td>0.3</td>\n",
       "      <td>0.8</td>\n",
       "      <td>0.4</td>\n",
       "      <td>0.6</td>\n",
       "      <td>4.4</td>\n",
       "    </tr>\n",
       "    <tr>\n",
       "      <th>10</th>\n",
       "      <td>10</td>\n",
       "      <td>200810</td>\n",
       "      <td>Allan Ray</td>\n",
       "      <td>1610612738</td>\n",
       "      <td>BOS</td>\n",
       "      <td>23.0</td>\n",
       "      <td>47</td>\n",
       "      <td>9</td>\n",
       "      <td>38</td>\n",
       "      <td>0.191</td>\n",
       "      <td>...</td>\n",
       "      <td>1.2</td>\n",
       "      <td>0.764</td>\n",
       "      <td>0.4</td>\n",
       "      <td>1.1</td>\n",
       "      <td>1.5</td>\n",
       "      <td>0.9</td>\n",
       "      <td>0.9</td>\n",
       "      <td>0.4</td>\n",
       "      <td>0.1</td>\n",
       "      <td>6.2</td>\n",
       "    </tr>\n",
       "    <tr>\n",
       "      <th>11</th>\n",
       "      <td>11</td>\n",
       "      <td>947</td>\n",
       "      <td>Allen Iverson</td>\n",
       "      <td>1610612743</td>\n",
       "      <td>DEN</td>\n",
       "      <td>32.0</td>\n",
       "      <td>65</td>\n",
       "      <td>31</td>\n",
       "      <td>34</td>\n",
       "      <td>0.477</td>\n",
       "      <td>...</td>\n",
       "      <td>9.4</td>\n",
       "      <td>0.795</td>\n",
       "      <td>0.4</td>\n",
       "      <td>2.6</td>\n",
       "      <td>3.0</td>\n",
       "      <td>7.2</td>\n",
       "      <td>4.1</td>\n",
       "      <td>1.9</td>\n",
       "      <td>0.2</td>\n",
       "      <td>26.3</td>\n",
       "    </tr>\n",
       "    <tr>\n",
       "      <th>12</th>\n",
       "      <td>12</td>\n",
       "      <td>297</td>\n",
       "      <td>Alonzo Mourning</td>\n",
       "      <td>1610612748</td>\n",
       "      <td>MIA</td>\n",
       "      <td>37.0</td>\n",
       "      <td>77</td>\n",
       "      <td>43</td>\n",
       "      <td>34</td>\n",
       "      <td>0.558</td>\n",
       "      <td>...</td>\n",
       "      <td>4.0</td>\n",
       "      <td>0.601</td>\n",
       "      <td>1.6</td>\n",
       "      <td>2.9</td>\n",
       "      <td>4.5</td>\n",
       "      <td>0.2</td>\n",
       "      <td>1.7</td>\n",
       "      <td>0.2</td>\n",
       "      <td>2.3</td>\n",
       "      <td>8.6</td>\n",
       "    </tr>\n",
       "    <tr>\n",
       "      <th>13</th>\n",
       "      <td>13</td>\n",
       "      <td>1541</td>\n",
       "      <td>Alvin Williams</td>\n",
       "      <td>1610612746</td>\n",
       "      <td>LAC</td>\n",
       "      <td>32.0</td>\n",
       "      <td>2</td>\n",
       "      <td>2</td>\n",
       "      <td>0</td>\n",
       "      <td>1.000</td>\n",
       "      <td>...</td>\n",
       "      <td>2.0</td>\n",
       "      <td>0.500</td>\n",
       "      <td>0.5</td>\n",
       "      <td>0.0</td>\n",
       "      <td>0.5</td>\n",
       "      <td>1.5</td>\n",
       "      <td>1.5</td>\n",
       "      <td>1.0</td>\n",
       "      <td>0.0</td>\n",
       "      <td>1.0</td>\n",
       "    </tr>\n",
       "    <tr>\n",
       "      <th>14</th>\n",
       "      <td>14</td>\n",
       "      <td>2405</td>\n",
       "      <td>Amar'e Stoudemire</td>\n",
       "      <td>1610612756</td>\n",
       "      <td>PHX</td>\n",
       "      <td>24.0</td>\n",
       "      <td>82</td>\n",
       "      <td>61</td>\n",
       "      <td>21</td>\n",
       "      <td>0.744</td>\n",
       "      <td>...</td>\n",
       "      <td>7.1</td>\n",
       "      <td>0.781</td>\n",
       "      <td>2.7</td>\n",
       "      <td>6.9</td>\n",
       "      <td>9.6</td>\n",
       "      <td>1.0</td>\n",
       "      <td>2.8</td>\n",
       "      <td>1.0</td>\n",
       "      <td>1.3</td>\n",
       "      <td>20.4</td>\n",
       "    </tr>\n",
       "    <tr>\n",
       "      <th>15</th>\n",
       "      <td>15</td>\n",
       "      <td>101161</td>\n",
       "      <td>Amir Johnson</td>\n",
       "      <td>1610612765</td>\n",
       "      <td>DET</td>\n",
       "      <td>20.0</td>\n",
       "      <td>8</td>\n",
       "      <td>3</td>\n",
       "      <td>5</td>\n",
       "      <td>0.375</td>\n",
       "      <td>...</td>\n",
       "      <td>1.8</td>\n",
       "      <td>0.786</td>\n",
       "      <td>1.9</td>\n",
       "      <td>2.8</td>\n",
       "      <td>4.6</td>\n",
       "      <td>0.4</td>\n",
       "      <td>1.1</td>\n",
       "      <td>0.6</td>\n",
       "      <td>1.6</td>\n",
       "      <td>5.9</td>\n",
       "    </tr>\n",
       "    <tr>\n",
       "      <th>16</th>\n",
       "      <td>16</td>\n",
       "      <td>2760</td>\n",
       "      <td>Anderson Varejao</td>\n",
       "      <td>1610612739</td>\n",
       "      <td>CLE</td>\n",
       "      <td>24.0</td>\n",
       "      <td>81</td>\n",
       "      <td>49</td>\n",
       "      <td>32</td>\n",
       "      <td>0.605</td>\n",
       "      <td>...</td>\n",
       "      <td>3.3</td>\n",
       "      <td>0.616</td>\n",
       "      <td>2.4</td>\n",
       "      <td>4.4</td>\n",
       "      <td>6.7</td>\n",
       "      <td>0.9</td>\n",
       "      <td>0.8</td>\n",
       "      <td>0.9</td>\n",
       "      <td>0.6</td>\n",
       "      <td>6.8</td>\n",
       "    </tr>\n",
       "    <tr>\n",
       "      <th>17</th>\n",
       "      <td>17</td>\n",
       "      <td>101154</td>\n",
       "      <td>Andray Blatche</td>\n",
       "      <td>1610612764</td>\n",
       "      <td>WAS</td>\n",
       "      <td>20.0</td>\n",
       "      <td>56</td>\n",
       "      <td>27</td>\n",
       "      <td>29</td>\n",
       "      <td>0.482</td>\n",
       "      <td>...</td>\n",
       "      <td>0.9</td>\n",
       "      <td>0.612</td>\n",
       "      <td>1.4</td>\n",
       "      <td>2.0</td>\n",
       "      <td>3.4</td>\n",
       "      <td>0.7</td>\n",
       "      <td>0.9</td>\n",
       "      <td>0.3</td>\n",
       "      <td>0.6</td>\n",
       "      <td>3.7</td>\n",
       "    </tr>\n",
       "    <tr>\n",
       "      <th>18</th>\n",
       "      <td>18</td>\n",
       "      <td>2857</td>\n",
       "      <td>Andre Barrett</td>\n",
       "      <td>1610612741</td>\n",
       "      <td>CHI</td>\n",
       "      <td>25.0</td>\n",
       "      <td>6</td>\n",
       "      <td>5</td>\n",
       "      <td>1</td>\n",
       "      <td>0.833</td>\n",
       "      <td>...</td>\n",
       "      <td>0.0</td>\n",
       "      <td>0.000</td>\n",
       "      <td>0.2</td>\n",
       "      <td>0.7</td>\n",
       "      <td>0.8</td>\n",
       "      <td>1.2</td>\n",
       "      <td>0.7</td>\n",
       "      <td>0.0</td>\n",
       "      <td>0.0</td>\n",
       "      <td>1.3</td>\n",
       "    </tr>\n",
       "    <tr>\n",
       "      <th>19</th>\n",
       "      <td>19</td>\n",
       "      <td>2810</td>\n",
       "      <td>Andre Brown</td>\n",
       "      <td>1610612760</td>\n",
       "      <td>SEA</td>\n",
       "      <td>26.0</td>\n",
       "      <td>38</td>\n",
       "      <td>16</td>\n",
       "      <td>22</td>\n",
       "      <td>0.421</td>\n",
       "      <td>...</td>\n",
       "      <td>0.4</td>\n",
       "      <td>0.600</td>\n",
       "      <td>0.7</td>\n",
       "      <td>1.3</td>\n",
       "      <td>1.9</td>\n",
       "      <td>0.1</td>\n",
       "      <td>0.8</td>\n",
       "      <td>0.2</td>\n",
       "      <td>0.1</td>\n",
       "      <td>2.4</td>\n",
       "    </tr>\n",
       "    <tr>\n",
       "      <th>20</th>\n",
       "      <td>20</td>\n",
       "      <td>2738</td>\n",
       "      <td>Andre Iguodala</td>\n",
       "      <td>1610612755</td>\n",
       "      <td>PHI</td>\n",
       "      <td>23.0</td>\n",
       "      <td>76</td>\n",
       "      <td>30</td>\n",
       "      <td>46</td>\n",
       "      <td>0.395</td>\n",
       "      <td>...</td>\n",
       "      <td>7.3</td>\n",
       "      <td>0.820</td>\n",
       "      <td>1.0</td>\n",
       "      <td>4.7</td>\n",
       "      <td>5.7</td>\n",
       "      <td>5.7</td>\n",
       "      <td>3.4</td>\n",
       "      <td>2.0</td>\n",
       "      <td>0.4</td>\n",
       "      <td>18.2</td>\n",
       "    </tr>\n",
       "    <tr>\n",
       "      <th>21</th>\n",
       "      <td>21</td>\n",
       "      <td>1889</td>\n",
       "      <td>Andre Miller</td>\n",
       "      <td>1610612755</td>\n",
       "      <td>PHI</td>\n",
       "      <td>31.0</td>\n",
       "      <td>80</td>\n",
       "      <td>43</td>\n",
       "      <td>37</td>\n",
       "      <td>0.538</td>\n",
       "      <td>...</td>\n",
       "      <td>3.5</td>\n",
       "      <td>0.784</td>\n",
       "      <td>1.2</td>\n",
       "      <td>3.2</td>\n",
       "      <td>4.4</td>\n",
       "      <td>7.8</td>\n",
       "      <td>2.8</td>\n",
       "      <td>1.4</td>\n",
       "      <td>0.1</td>\n",
       "      <td>13.4</td>\n",
       "    </tr>\n",
       "    <tr>\n",
       "      <th>22</th>\n",
       "      <td>22</td>\n",
       "      <td>200745</td>\n",
       "      <td>Andrea Bargnani</td>\n",
       "      <td>1610612761</td>\n",
       "      <td>TOR</td>\n",
       "      <td>21.0</td>\n",
       "      <td>65</td>\n",
       "      <td>35</td>\n",
       "      <td>30</td>\n",
       "      <td>0.538</td>\n",
       "      <td>...</td>\n",
       "      <td>2.2</td>\n",
       "      <td>0.824</td>\n",
       "      <td>0.8</td>\n",
       "      <td>3.1</td>\n",
       "      <td>3.9</td>\n",
       "      <td>0.8</td>\n",
       "      <td>1.6</td>\n",
       "      <td>0.5</td>\n",
       "      <td>0.8</td>\n",
       "      <td>11.6</td>\n",
       "    </tr>\n",
       "    <tr>\n",
       "      <th>23</th>\n",
       "      <td>23</td>\n",
       "      <td>2601</td>\n",
       "      <td>Andreas Glyniadakis</td>\n",
       "      <td>1610612760</td>\n",
       "      <td>SEA</td>\n",
       "      <td>25.0</td>\n",
       "      <td>13</td>\n",
       "      <td>3</td>\n",
       "      <td>10</td>\n",
       "      <td>0.231</td>\n",
       "      <td>...</td>\n",
       "      <td>0.2</td>\n",
       "      <td>0.500</td>\n",
       "      <td>0.2</td>\n",
       "      <td>0.5</td>\n",
       "      <td>0.6</td>\n",
       "      <td>0.1</td>\n",
       "      <td>0.7</td>\n",
       "      <td>0.0</td>\n",
       "      <td>0.0</td>\n",
       "      <td>1.3</td>\n",
       "    </tr>\n",
       "    <tr>\n",
       "      <th>24</th>\n",
       "      <td>24</td>\n",
       "      <td>1905</td>\n",
       "      <td>Andrei Kirilenko</td>\n",
       "      <td>1610612762</td>\n",
       "      <td>UTA</td>\n",
       "      <td>26.0</td>\n",
       "      <td>70</td>\n",
       "      <td>44</td>\n",
       "      <td>26</td>\n",
       "      <td>0.629</td>\n",
       "      <td>...</td>\n",
       "      <td>3.4</td>\n",
       "      <td>0.728</td>\n",
       "      <td>1.3</td>\n",
       "      <td>3.4</td>\n",
       "      <td>4.7</td>\n",
       "      <td>2.9</td>\n",
       "      <td>1.9</td>\n",
       "      <td>1.1</td>\n",
       "      <td>2.1</td>\n",
       "      <td>8.3</td>\n",
       "    </tr>\n",
       "    <tr>\n",
       "      <th>25</th>\n",
       "      <td>25</td>\n",
       "      <td>2804</td>\n",
       "      <td>Andres Nocioni</td>\n",
       "      <td>1610612741</td>\n",
       "      <td>CHI</td>\n",
       "      <td>27.0</td>\n",
       "      <td>53</td>\n",
       "      <td>31</td>\n",
       "      <td>22</td>\n",
       "      <td>0.585</td>\n",
       "      <td>...</td>\n",
       "      <td>2.7</td>\n",
       "      <td>0.848</td>\n",
       "      <td>0.8</td>\n",
       "      <td>4.9</td>\n",
       "      <td>5.7</td>\n",
       "      <td>1.1</td>\n",
       "      <td>2.0</td>\n",
       "      <td>0.5</td>\n",
       "      <td>0.5</td>\n",
       "      <td>14.1</td>\n",
       "    </tr>\n",
       "    <tr>\n",
       "      <th>26</th>\n",
       "      <td>26</td>\n",
       "      <td>101106</td>\n",
       "      <td>Andrew Bogut</td>\n",
       "      <td>1610612749</td>\n",
       "      <td>MIL</td>\n",
       "      <td>22.0</td>\n",
       "      <td>66</td>\n",
       "      <td>25</td>\n",
       "      <td>41</td>\n",
       "      <td>0.379</td>\n",
       "      <td>...</td>\n",
       "      <td>2.9</td>\n",
       "      <td>0.577</td>\n",
       "      <td>2.5</td>\n",
       "      <td>6.3</td>\n",
       "      <td>8.8</td>\n",
       "      <td>3.0</td>\n",
       "      <td>2.3</td>\n",
       "      <td>0.7</td>\n",
       "      <td>0.5</td>\n",
       "      <td>12.3</td>\n",
       "    </tr>\n",
       "    <tr>\n",
       "      <th>27</th>\n",
       "      <td>27</td>\n",
       "      <td>101115</td>\n",
       "      <td>Andrew Bynum</td>\n",
       "      <td>1610612747</td>\n",
       "      <td>LAL</td>\n",
       "      <td>19.0</td>\n",
       "      <td>82</td>\n",
       "      <td>42</td>\n",
       "      <td>40</td>\n",
       "      <td>0.512</td>\n",
       "      <td>...</td>\n",
       "      <td>2.6</td>\n",
       "      <td>0.668</td>\n",
       "      <td>1.7</td>\n",
       "      <td>4.2</td>\n",
       "      <td>5.9</td>\n",
       "      <td>1.1</td>\n",
       "      <td>1.4</td>\n",
       "      <td>0.1</td>\n",
       "      <td>1.6</td>\n",
       "      <td>7.8</td>\n",
       "    </tr>\n",
       "    <tr>\n",
       "      <th>28</th>\n",
       "      <td>28</td>\n",
       "      <td>2740</td>\n",
       "      <td>Andris Biedrins</td>\n",
       "      <td>1610612744</td>\n",
       "      <td>GSW</td>\n",
       "      <td>21.0</td>\n",
       "      <td>82</td>\n",
       "      <td>42</td>\n",
       "      <td>40</td>\n",
       "      <td>0.512</td>\n",
       "      <td>...</td>\n",
       "      <td>2.0</td>\n",
       "      <td>0.521</td>\n",
       "      <td>3.1</td>\n",
       "      <td>6.2</td>\n",
       "      <td>9.3</td>\n",
       "      <td>1.1</td>\n",
       "      <td>1.5</td>\n",
       "      <td>0.8</td>\n",
       "      <td>1.7</td>\n",
       "      <td>9.5</td>\n",
       "    </tr>\n",
       "    <tr>\n",
       "      <th>29</th>\n",
       "      <td>29</td>\n",
       "      <td>1712</td>\n",
       "      <td>Antawn Jamison</td>\n",
       "      <td>1610612764</td>\n",
       "      <td>WAS</td>\n",
       "      <td>31.0</td>\n",
       "      <td>70</td>\n",
       "      <td>37</td>\n",
       "      <td>33</td>\n",
       "      <td>0.529</td>\n",
       "      <td>...</td>\n",
       "      <td>4.4</td>\n",
       "      <td>0.736</td>\n",
       "      <td>1.9</td>\n",
       "      <td>6.1</td>\n",
       "      <td>8.0</td>\n",
       "      <td>1.9</td>\n",
       "      <td>1.5</td>\n",
       "      <td>1.1</td>\n",
       "      <td>0.5</td>\n",
       "      <td>19.8</td>\n",
       "    </tr>\n",
       "    <tr>\n",
       "      <th>...</th>\n",
       "      <td>...</td>\n",
       "      <td>...</td>\n",
       "      <td>...</td>\n",
       "      <td>...</td>\n",
       "      <td>...</td>\n",
       "      <td>...</td>\n",
       "      <td>...</td>\n",
       "      <td>...</td>\n",
       "      <td>...</td>\n",
       "      <td>...</td>\n",
       "      <td>...</td>\n",
       "      <td>...</td>\n",
       "      <td>...</td>\n",
       "      <td>...</td>\n",
       "      <td>...</td>\n",
       "      <td>...</td>\n",
       "      <td>...</td>\n",
       "      <td>...</td>\n",
       "      <td>...</td>\n",
       "      <td>...</td>\n",
       "      <td>...</td>\n",
       "    </tr>\n",
       "    <tr>\n",
       "      <th>428</th>\n",
       "      <td>428</td>\n",
       "      <td>1503</td>\n",
       "      <td>Tracy McGrady</td>\n",
       "      <td>1610612745</td>\n",
       "      <td>HOU</td>\n",
       "      <td>28.0</td>\n",
       "      <td>71</td>\n",
       "      <td>50</td>\n",
       "      <td>21</td>\n",
       "      <td>0.704</td>\n",
       "      <td>...</td>\n",
       "      <td>6.9</td>\n",
       "      <td>0.707</td>\n",
       "      <td>0.8</td>\n",
       "      <td>4.5</td>\n",
       "      <td>5.3</td>\n",
       "      <td>6.5</td>\n",
       "      <td>3.0</td>\n",
       "      <td>1.3</td>\n",
       "      <td>0.5</td>\n",
       "      <td>24.6</td>\n",
       "    </tr>\n",
       "    <tr>\n",
       "      <th>429</th>\n",
       "      <td>429</td>\n",
       "      <td>101143</td>\n",
       "      <td>Travis Diener</td>\n",
       "      <td>1610612753</td>\n",
       "      <td>ORL</td>\n",
       "      <td>25.0</td>\n",
       "      <td>26</td>\n",
       "      <td>12</td>\n",
       "      <td>14</td>\n",
       "      <td>0.462</td>\n",
       "      <td>...</td>\n",
       "      <td>0.6</td>\n",
       "      <td>0.800</td>\n",
       "      <td>0.1</td>\n",
       "      <td>0.6</td>\n",
       "      <td>0.7</td>\n",
       "      <td>1.3</td>\n",
       "      <td>0.5</td>\n",
       "      <td>0.2</td>\n",
       "      <td>0.0</td>\n",
       "      <td>3.8</td>\n",
       "    </tr>\n",
       "    <tr>\n",
       "      <th>430</th>\n",
       "      <td>430</td>\n",
       "      <td>2566</td>\n",
       "      <td>Travis Outlaw</td>\n",
       "      <td>1610612757</td>\n",
       "      <td>POR</td>\n",
       "      <td>22.0</td>\n",
       "      <td>67</td>\n",
       "      <td>25</td>\n",
       "      <td>42</td>\n",
       "      <td>0.373</td>\n",
       "      <td>...</td>\n",
       "      <td>2.7</td>\n",
       "      <td>0.790</td>\n",
       "      <td>1.0</td>\n",
       "      <td>2.3</td>\n",
       "      <td>3.2</td>\n",
       "      <td>0.8</td>\n",
       "      <td>1.0</td>\n",
       "      <td>0.9</td>\n",
       "      <td>1.1</td>\n",
       "      <td>9.6</td>\n",
       "    </tr>\n",
       "    <tr>\n",
       "      <th>431</th>\n",
       "      <td>431</td>\n",
       "      <td>2239</td>\n",
       "      <td>Trenton Hassell</td>\n",
       "      <td>1610612750</td>\n",
       "      <td>MIN</td>\n",
       "      <td>28.0</td>\n",
       "      <td>76</td>\n",
       "      <td>28</td>\n",
       "      <td>48</td>\n",
       "      <td>0.368</td>\n",
       "      <td>...</td>\n",
       "      <td>1.2</td>\n",
       "      <td>0.783</td>\n",
       "      <td>1.1</td>\n",
       "      <td>2.1</td>\n",
       "      <td>3.2</td>\n",
       "      <td>2.7</td>\n",
       "      <td>1.1</td>\n",
       "      <td>0.3</td>\n",
       "      <td>0.3</td>\n",
       "      <td>6.7</td>\n",
       "    </tr>\n",
       "    <tr>\n",
       "      <th>432</th>\n",
       "      <td>432</td>\n",
       "      <td>2772</td>\n",
       "      <td>Trevor Ariza</td>\n",
       "      <td>1610612753</td>\n",
       "      <td>ORL</td>\n",
       "      <td>21.0</td>\n",
       "      <td>57</td>\n",
       "      <td>32</td>\n",
       "      <td>25</td>\n",
       "      <td>0.561</td>\n",
       "      <td>...</td>\n",
       "      <td>3.0</td>\n",
       "      <td>0.620</td>\n",
       "      <td>1.7</td>\n",
       "      <td>2.6</td>\n",
       "      <td>4.4</td>\n",
       "      <td>1.1</td>\n",
       "      <td>1.5</td>\n",
       "      <td>1.0</td>\n",
       "      <td>0.3</td>\n",
       "      <td>8.9</td>\n",
       "    </tr>\n",
       "    <tr>\n",
       "      <th>433</th>\n",
       "      <td>433</td>\n",
       "      <td>1607</td>\n",
       "      <td>Troy Hudson</td>\n",
       "      <td>1610612750</td>\n",
       "      <td>MIN</td>\n",
       "      <td>31.0</td>\n",
       "      <td>34</td>\n",
       "      <td>14</td>\n",
       "      <td>20</td>\n",
       "      <td>0.412</td>\n",
       "      <td>...</td>\n",
       "      <td>0.9</td>\n",
       "      <td>0.813</td>\n",
       "      <td>0.2</td>\n",
       "      <td>1.2</td>\n",
       "      <td>1.4</td>\n",
       "      <td>2.1</td>\n",
       "      <td>1.2</td>\n",
       "      <td>0.4</td>\n",
       "      <td>0.1</td>\n",
       "      <td>5.9</td>\n",
       "    </tr>\n",
       "    <tr>\n",
       "      <th>434</th>\n",
       "      <td>434</td>\n",
       "      <td>2211</td>\n",
       "      <td>Troy Murphy</td>\n",
       "      <td>1610612754</td>\n",
       "      <td>IND</td>\n",
       "      <td>27.0</td>\n",
       "      <td>68</td>\n",
       "      <td>24</td>\n",
       "      <td>44</td>\n",
       "      <td>0.353</td>\n",
       "      <td>...</td>\n",
       "      <td>2.1</td>\n",
       "      <td>0.745</td>\n",
       "      <td>1.5</td>\n",
       "      <td>4.6</td>\n",
       "      <td>6.1</td>\n",
       "      <td>1.9</td>\n",
       "      <td>1.1</td>\n",
       "      <td>0.7</td>\n",
       "      <td>0.6</td>\n",
       "      <td>10.3</td>\n",
       "    </tr>\n",
       "    <tr>\n",
       "      <th>435</th>\n",
       "      <td>435</td>\n",
       "      <td>1731</td>\n",
       "      <td>Tyronn Lue</td>\n",
       "      <td>1610612737</td>\n",
       "      <td>ATL</td>\n",
       "      <td>30.0</td>\n",
       "      <td>56</td>\n",
       "      <td>22</td>\n",
       "      <td>34</td>\n",
       "      <td>0.393</td>\n",
       "      <td>...</td>\n",
       "      <td>2.9</td>\n",
       "      <td>0.883</td>\n",
       "      <td>0.3</td>\n",
       "      <td>1.5</td>\n",
       "      <td>1.9</td>\n",
       "      <td>3.6</td>\n",
       "      <td>1.5</td>\n",
       "      <td>0.4</td>\n",
       "      <td>0.0</td>\n",
       "      <td>11.4</td>\n",
       "    </tr>\n",
       "    <tr>\n",
       "      <th>436</th>\n",
       "      <td>436</td>\n",
       "      <td>200748</td>\n",
       "      <td>Tyrus Thomas</td>\n",
       "      <td>1610612741</td>\n",
       "      <td>CHI</td>\n",
       "      <td>20.0</td>\n",
       "      <td>72</td>\n",
       "      <td>44</td>\n",
       "      <td>28</td>\n",
       "      <td>0.611</td>\n",
       "      <td>...</td>\n",
       "      <td>2.4</td>\n",
       "      <td>0.606</td>\n",
       "      <td>1.2</td>\n",
       "      <td>2.5</td>\n",
       "      <td>3.7</td>\n",
       "      <td>0.6</td>\n",
       "      <td>1.3</td>\n",
       "      <td>0.6</td>\n",
       "      <td>1.1</td>\n",
       "      <td>5.2</td>\n",
       "    </tr>\n",
       "    <tr>\n",
       "      <th>437</th>\n",
       "      <td>437</td>\n",
       "      <td>2199</td>\n",
       "      <td>Tyson Chandler</td>\n",
       "      <td>1610612740</td>\n",
       "      <td>NOK</td>\n",
       "      <td>24.0</td>\n",
       "      <td>73</td>\n",
       "      <td>34</td>\n",
       "      <td>39</td>\n",
       "      <td>0.466</td>\n",
       "      <td>...</td>\n",
       "      <td>2.8</td>\n",
       "      <td>0.527</td>\n",
       "      <td>4.4</td>\n",
       "      <td>8.0</td>\n",
       "      <td>12.4</td>\n",
       "      <td>0.9</td>\n",
       "      <td>1.7</td>\n",
       "      <td>0.5</td>\n",
       "      <td>1.8</td>\n",
       "      <td>9.5</td>\n",
       "    </tr>\n",
       "    <tr>\n",
       "      <th>438</th>\n",
       "      <td>438</td>\n",
       "      <td>2617</td>\n",
       "      <td>Udonis Haslem</td>\n",
       "      <td>1610612748</td>\n",
       "      <td>MIA</td>\n",
       "      <td>27.0</td>\n",
       "      <td>79</td>\n",
       "      <td>43</td>\n",
       "      <td>36</td>\n",
       "      <td>0.544</td>\n",
       "      <td>...</td>\n",
       "      <td>2.6</td>\n",
       "      <td>0.680</td>\n",
       "      <td>2.4</td>\n",
       "      <td>5.9</td>\n",
       "      <td>8.3</td>\n",
       "      <td>1.2</td>\n",
       "      <td>1.4</td>\n",
       "      <td>0.6</td>\n",
       "      <td>0.3</td>\n",
       "      <td>10.7</td>\n",
       "    </tr>\n",
       "    <tr>\n",
       "      <th>439</th>\n",
       "      <td>439</td>\n",
       "      <td>101166</td>\n",
       "      <td>Uros Slokar</td>\n",
       "      <td>1610612761</td>\n",
       "      <td>TOR</td>\n",
       "      <td>24.0</td>\n",
       "      <td>20</td>\n",
       "      <td>9</td>\n",
       "      <td>11</td>\n",
       "      <td>0.450</td>\n",
       "      <td>...</td>\n",
       "      <td>0.7</td>\n",
       "      <td>0.692</td>\n",
       "      <td>0.4</td>\n",
       "      <td>0.4</td>\n",
       "      <td>0.7</td>\n",
       "      <td>0.1</td>\n",
       "      <td>0.5</td>\n",
       "      <td>0.1</td>\n",
       "      <td>0.1</td>\n",
       "      <td>1.9</td>\n",
       "    </tr>\n",
       "    <tr>\n",
       "      <th>440</th>\n",
       "      <td>440</td>\n",
       "      <td>2779</td>\n",
       "      <td>Vassilis Spanoulis</td>\n",
       "      <td>1610612745</td>\n",
       "      <td>HOU</td>\n",
       "      <td>24.0</td>\n",
       "      <td>31</td>\n",
       "      <td>21</td>\n",
       "      <td>10</td>\n",
       "      <td>0.677</td>\n",
       "      <td>...</td>\n",
       "      <td>1.4</td>\n",
       "      <td>0.810</td>\n",
       "      <td>0.2</td>\n",
       "      <td>0.5</td>\n",
       "      <td>0.7</td>\n",
       "      <td>0.9</td>\n",
       "      <td>0.9</td>\n",
       "      <td>0.2</td>\n",
       "      <td>0.0</td>\n",
       "      <td>2.7</td>\n",
       "    </tr>\n",
       "    <tr>\n",
       "      <th>441</th>\n",
       "      <td>441</td>\n",
       "      <td>2751</td>\n",
       "      <td>Viktor Khryapa</td>\n",
       "      <td>1610612741</td>\n",
       "      <td>CHI</td>\n",
       "      <td>24.0</td>\n",
       "      <td>33</td>\n",
       "      <td>19</td>\n",
       "      <td>14</td>\n",
       "      <td>0.576</td>\n",
       "      <td>...</td>\n",
       "      <td>0.8</td>\n",
       "      <td>0.731</td>\n",
       "      <td>0.6</td>\n",
       "      <td>1.1</td>\n",
       "      <td>1.7</td>\n",
       "      <td>0.6</td>\n",
       "      <td>0.5</td>\n",
       "      <td>0.3</td>\n",
       "      <td>0.0</td>\n",
       "      <td>2.2</td>\n",
       "    </tr>\n",
       "    <tr>\n",
       "      <th>442</th>\n",
       "      <td>442</td>\n",
       "      <td>1713</td>\n",
       "      <td>Vince Carter</td>\n",
       "      <td>1610612751</td>\n",
       "      <td>NJN</td>\n",
       "      <td>30.0</td>\n",
       "      <td>82</td>\n",
       "      <td>41</td>\n",
       "      <td>41</td>\n",
       "      <td>0.500</td>\n",
       "      <td>...</td>\n",
       "      <td>7.0</td>\n",
       "      <td>0.802</td>\n",
       "      <td>1.4</td>\n",
       "      <td>4.6</td>\n",
       "      <td>6.0</td>\n",
       "      <td>4.8</td>\n",
       "      <td>2.6</td>\n",
       "      <td>1.0</td>\n",
       "      <td>0.4</td>\n",
       "      <td>25.2</td>\n",
       "    </tr>\n",
       "    <tr>\n",
       "      <th>443</th>\n",
       "      <td>443</td>\n",
       "      <td>958</td>\n",
       "      <td>Vitaly Potapenko</td>\n",
       "      <td>1610612758</td>\n",
       "      <td>SAC</td>\n",
       "      <td>32.0</td>\n",
       "      <td>3</td>\n",
       "      <td>1</td>\n",
       "      <td>2</td>\n",
       "      <td>0.333</td>\n",
       "      <td>...</td>\n",
       "      <td>0.0</td>\n",
       "      <td>0.000</td>\n",
       "      <td>0.0</td>\n",
       "      <td>0.7</td>\n",
       "      <td>0.7</td>\n",
       "      <td>0.0</td>\n",
       "      <td>0.7</td>\n",
       "      <td>0.0</td>\n",
       "      <td>0.0</td>\n",
       "      <td>0.0</td>\n",
       "    </tr>\n",
       "    <tr>\n",
       "      <th>444</th>\n",
       "      <td>444</td>\n",
       "      <td>2209</td>\n",
       "      <td>Vladimir Radmanovic</td>\n",
       "      <td>1610612747</td>\n",
       "      <td>LAL</td>\n",
       "      <td>26.0</td>\n",
       "      <td>55</td>\n",
       "      <td>31</td>\n",
       "      <td>24</td>\n",
       "      <td>0.564</td>\n",
       "      <td>...</td>\n",
       "      <td>1.3</td>\n",
       "      <td>0.726</td>\n",
       "      <td>1.0</td>\n",
       "      <td>2.3</td>\n",
       "      <td>3.3</td>\n",
       "      <td>1.2</td>\n",
       "      <td>1.3</td>\n",
       "      <td>0.5</td>\n",
       "      <td>0.3</td>\n",
       "      <td>6.6</td>\n",
       "    </tr>\n",
       "    <tr>\n",
       "      <th>445</th>\n",
       "      <td>445</td>\n",
       "      <td>101144</td>\n",
       "      <td>Von Wafer</td>\n",
       "      <td>1610612746</td>\n",
       "      <td>LAC</td>\n",
       "      <td>21.0</td>\n",
       "      <td>1</td>\n",
       "      <td>1</td>\n",
       "      <td>0</td>\n",
       "      <td>1.000</td>\n",
       "      <td>...</td>\n",
       "      <td>0.0</td>\n",
       "      <td>0.000</td>\n",
       "      <td>0.0</td>\n",
       "      <td>0.0</td>\n",
       "      <td>0.0</td>\n",
       "      <td>0.0</td>\n",
       "      <td>0.0</td>\n",
       "      <td>0.0</td>\n",
       "      <td>0.0</td>\n",
       "      <td>0.0</td>\n",
       "    </tr>\n",
       "    <tr>\n",
       "      <th>446</th>\n",
       "      <td>446</td>\n",
       "      <td>1887</td>\n",
       "      <td>Wally Szczerbiak</td>\n",
       "      <td>1610612738</td>\n",
       "      <td>BOS</td>\n",
       "      <td>30.0</td>\n",
       "      <td>32</td>\n",
       "      <td>11</td>\n",
       "      <td>21</td>\n",
       "      <td>0.344</td>\n",
       "      <td>...</td>\n",
       "      <td>3.9</td>\n",
       "      <td>0.897</td>\n",
       "      <td>0.5</td>\n",
       "      <td>2.6</td>\n",
       "      <td>3.1</td>\n",
       "      <td>1.7</td>\n",
       "      <td>1.7</td>\n",
       "      <td>0.6</td>\n",
       "      <td>0.1</td>\n",
       "      <td>15.0</td>\n",
       "    </tr>\n",
       "    <tr>\n",
       "      <th>447</th>\n",
       "      <td>447</td>\n",
       "      <td>200835</td>\n",
       "      <td>Walter Herrmann</td>\n",
       "      <td>1610612766</td>\n",
       "      <td>CHA</td>\n",
       "      <td>28.0</td>\n",
       "      <td>48</td>\n",
       "      <td>19</td>\n",
       "      <td>29</td>\n",
       "      <td>0.396</td>\n",
       "      <td>...</td>\n",
       "      <td>1.1</td>\n",
       "      <td>0.774</td>\n",
       "      <td>0.6</td>\n",
       "      <td>2.3</td>\n",
       "      <td>2.9</td>\n",
       "      <td>0.5</td>\n",
       "      <td>0.7</td>\n",
       "      <td>0.4</td>\n",
       "      <td>0.1</td>\n",
       "      <td>9.2</td>\n",
       "    </tr>\n",
       "    <tr>\n",
       "      <th>448</th>\n",
       "      <td>448</td>\n",
       "      <td>101134</td>\n",
       "      <td>Wayne Simien</td>\n",
       "      <td>1610612748</td>\n",
       "      <td>MIA</td>\n",
       "      <td>24.0</td>\n",
       "      <td>8</td>\n",
       "      <td>1</td>\n",
       "      <td>7</td>\n",
       "      <td>0.125</td>\n",
       "      <td>...</td>\n",
       "      <td>0.9</td>\n",
       "      <td>0.714</td>\n",
       "      <td>0.6</td>\n",
       "      <td>0.8</td>\n",
       "      <td>1.4</td>\n",
       "      <td>0.5</td>\n",
       "      <td>0.4</td>\n",
       "      <td>0.3</td>\n",
       "      <td>0.0</td>\n",
       "      <td>2.9</td>\n",
       "    </tr>\n",
       "    <tr>\n",
       "      <th>449</th>\n",
       "      <td>449</td>\n",
       "      <td>200807</td>\n",
       "      <td>Will Blalock</td>\n",
       "      <td>1610612765</td>\n",
       "      <td>DET</td>\n",
       "      <td>23.0</td>\n",
       "      <td>14</td>\n",
       "      <td>8</td>\n",
       "      <td>6</td>\n",
       "      <td>0.571</td>\n",
       "      <td>...</td>\n",
       "      <td>0.4</td>\n",
       "      <td>1.000</td>\n",
       "      <td>0.4</td>\n",
       "      <td>0.6</td>\n",
       "      <td>1.1</td>\n",
       "      <td>1.2</td>\n",
       "      <td>0.9</td>\n",
       "      <td>0.4</td>\n",
       "      <td>0.0</td>\n",
       "      <td>1.8</td>\n",
       "    </tr>\n",
       "    <tr>\n",
       "      <th>450</th>\n",
       "      <td>450</td>\n",
       "      <td>101215</td>\n",
       "      <td>Will Conroy</td>\n",
       "      <td>1610612746</td>\n",
       "      <td>LAC</td>\n",
       "      <td>24.0</td>\n",
       "      <td>7</td>\n",
       "      <td>1</td>\n",
       "      <td>6</td>\n",
       "      <td>0.143</td>\n",
       "      <td>...</td>\n",
       "      <td>0.6</td>\n",
       "      <td>0.000</td>\n",
       "      <td>0.4</td>\n",
       "      <td>0.6</td>\n",
       "      <td>1.0</td>\n",
       "      <td>1.3</td>\n",
       "      <td>0.3</td>\n",
       "      <td>0.0</td>\n",
       "      <td>0.0</td>\n",
       "      <td>0.0</td>\n",
       "    </tr>\n",
       "    <tr>\n",
       "      <th>451</th>\n",
       "      <td>451</td>\n",
       "      <td>2584</td>\n",
       "      <td>Willie Green</td>\n",
       "      <td>1610612755</td>\n",
       "      <td>PHI</td>\n",
       "      <td>25.0</td>\n",
       "      <td>74</td>\n",
       "      <td>31</td>\n",
       "      <td>43</td>\n",
       "      <td>0.419</td>\n",
       "      <td>...</td>\n",
       "      <td>1.5</td>\n",
       "      <td>0.667</td>\n",
       "      <td>0.6</td>\n",
       "      <td>1.6</td>\n",
       "      <td>2.1</td>\n",
       "      <td>1.5</td>\n",
       "      <td>1.4</td>\n",
       "      <td>0.8</td>\n",
       "      <td>0.1</td>\n",
       "      <td>11.3</td>\n",
       "    </tr>\n",
       "    <tr>\n",
       "      <th>452</th>\n",
       "      <td>452</td>\n",
       "      <td>200821</td>\n",
       "      <td>Yakhouba Diawara</td>\n",
       "      <td>1610612743</td>\n",
       "      <td>DEN</td>\n",
       "      <td>24.0</td>\n",
       "      <td>64</td>\n",
       "      <td>33</td>\n",
       "      <td>31</td>\n",
       "      <td>0.516</td>\n",
       "      <td>...</td>\n",
       "      <td>0.8</td>\n",
       "      <td>0.660</td>\n",
       "      <td>0.4</td>\n",
       "      <td>1.3</td>\n",
       "      <td>1.7</td>\n",
       "      <td>0.9</td>\n",
       "      <td>0.6</td>\n",
       "      <td>0.5</td>\n",
       "      <td>0.1</td>\n",
       "      <td>4.4</td>\n",
       "    </tr>\n",
       "    <tr>\n",
       "      <th>453</th>\n",
       "      <td>453</td>\n",
       "      <td>2397</td>\n",
       "      <td>Yao Ming</td>\n",
       "      <td>1610612745</td>\n",
       "      <td>HOU</td>\n",
       "      <td>26.0</td>\n",
       "      <td>48</td>\n",
       "      <td>32</td>\n",
       "      <td>16</td>\n",
       "      <td>0.667</td>\n",
       "      <td>...</td>\n",
       "      <td>8.6</td>\n",
       "      <td>0.862</td>\n",
       "      <td>2.1</td>\n",
       "      <td>7.3</td>\n",
       "      <td>9.4</td>\n",
       "      <td>2.0</td>\n",
       "      <td>3.5</td>\n",
       "      <td>0.4</td>\n",
       "      <td>2.0</td>\n",
       "      <td>25.0</td>\n",
       "    </tr>\n",
       "    <tr>\n",
       "      <th>454</th>\n",
       "      <td>454</td>\n",
       "      <td>101117</td>\n",
       "      <td>Yaroslav Korolev</td>\n",
       "      <td>1610612746</td>\n",
       "      <td>LAC</td>\n",
       "      <td>20.0</td>\n",
       "      <td>10</td>\n",
       "      <td>6</td>\n",
       "      <td>4</td>\n",
       "      <td>0.600</td>\n",
       "      <td>...</td>\n",
       "      <td>0.6</td>\n",
       "      <td>0.500</td>\n",
       "      <td>0.1</td>\n",
       "      <td>0.2</td>\n",
       "      <td>0.3</td>\n",
       "      <td>0.4</td>\n",
       "      <td>0.1</td>\n",
       "      <td>0.3</td>\n",
       "      <td>0.0</td>\n",
       "      <td>1.2</td>\n",
       "    </tr>\n",
       "    <tr>\n",
       "      <th>455</th>\n",
       "      <td>455</td>\n",
       "      <td>2216</td>\n",
       "      <td>Zach Randolph</td>\n",
       "      <td>1610612757</td>\n",
       "      <td>POR</td>\n",
       "      <td>25.0</td>\n",
       "      <td>68</td>\n",
       "      <td>25</td>\n",
       "      <td>43</td>\n",
       "      <td>0.368</td>\n",
       "      <td>...</td>\n",
       "      <td>7.1</td>\n",
       "      <td>0.819</td>\n",
       "      <td>2.9</td>\n",
       "      <td>7.2</td>\n",
       "      <td>10.1</td>\n",
       "      <td>2.2</td>\n",
       "      <td>3.2</td>\n",
       "      <td>0.8</td>\n",
       "      <td>0.2</td>\n",
       "      <td>23.6</td>\n",
       "    </tr>\n",
       "    <tr>\n",
       "      <th>456</th>\n",
       "      <td>456</td>\n",
       "      <td>2585</td>\n",
       "      <td>Zaza Pachulia</td>\n",
       "      <td>1610612737</td>\n",
       "      <td>ATL</td>\n",
       "      <td>23.0</td>\n",
       "      <td>72</td>\n",
       "      <td>26</td>\n",
       "      <td>46</td>\n",
       "      <td>0.361</td>\n",
       "      <td>...</td>\n",
       "      <td>5.2</td>\n",
       "      <td>0.786</td>\n",
       "      <td>2.8</td>\n",
       "      <td>4.2</td>\n",
       "      <td>6.9</td>\n",
       "      <td>1.5</td>\n",
       "      <td>2.3</td>\n",
       "      <td>1.1</td>\n",
       "      <td>0.5</td>\n",
       "      <td>12.2</td>\n",
       "    </tr>\n",
       "    <tr>\n",
       "      <th>457</th>\n",
       "      <td>457</td>\n",
       "      <td>980</td>\n",
       "      <td>Zydrunas Ilgauskas</td>\n",
       "      <td>1610612739</td>\n",
       "      <td>CLE</td>\n",
       "      <td>32.0</td>\n",
       "      <td>78</td>\n",
       "      <td>48</td>\n",
       "      <td>30</td>\n",
       "      <td>0.615</td>\n",
       "      <td>...</td>\n",
       "      <td>2.5</td>\n",
       "      <td>0.807</td>\n",
       "      <td>3.1</td>\n",
       "      <td>4.6</td>\n",
       "      <td>7.7</td>\n",
       "      <td>1.6</td>\n",
       "      <td>1.8</td>\n",
       "      <td>0.6</td>\n",
       "      <td>1.3</td>\n",
       "      <td>11.9</td>\n",
       "    </tr>\n",
       "  </tbody>\n",
       "</table>\n",
       "<p>458 rows × 28 columns</p>\n",
       "</div>"
      ],
      "text/plain": [
       "     Unnamed: 0  PLAYER_ID          PLAYER_NAME     TEAM_ID TEAM_ABBREVIATION  \\\n",
       "0             0        243          Aaron McKie  1610612747               LAL   \n",
       "1             1       1425       Aaron Williams  1610612746               LAC   \n",
       "2             2     200747        Adam Morrison  1610612766               CHA   \n",
       "3             3       1502         Adonal Foyle  1610612744               GSW   \n",
       "4             4       1559       Adrian Griffin  1610612741               CHI   \n",
       "5             5       1733        Al Harrington  1610612744               GSW   \n",
       "6             6       2744         Al Jefferson  1610612738               BOS   \n",
       "7             7     101187        Alan Anderson  1610612766               CHA   \n",
       "8             8        673       Alan Henderson  1610612755               PHI   \n",
       "9             9     200792    Alexander Johnson  1610612763               MEM   \n",
       "10           10     200810            Allan Ray  1610612738               BOS   \n",
       "11           11        947        Allen Iverson  1610612743               DEN   \n",
       "12           12        297      Alonzo Mourning  1610612748               MIA   \n",
       "13           13       1541       Alvin Williams  1610612746               LAC   \n",
       "14           14       2405    Amar'e Stoudemire  1610612756               PHX   \n",
       "15           15     101161         Amir Johnson  1610612765               DET   \n",
       "16           16       2760     Anderson Varejao  1610612739               CLE   \n",
       "17           17     101154       Andray Blatche  1610612764               WAS   \n",
       "18           18       2857        Andre Barrett  1610612741               CHI   \n",
       "19           19       2810          Andre Brown  1610612760               SEA   \n",
       "20           20       2738       Andre Iguodala  1610612755               PHI   \n",
       "21           21       1889         Andre Miller  1610612755               PHI   \n",
       "22           22     200745      Andrea Bargnani  1610612761               TOR   \n",
       "23           23       2601  Andreas Glyniadakis  1610612760               SEA   \n",
       "24           24       1905     Andrei Kirilenko  1610612762               UTA   \n",
       "25           25       2804       Andres Nocioni  1610612741               CHI   \n",
       "26           26     101106         Andrew Bogut  1610612749               MIL   \n",
       "27           27     101115         Andrew Bynum  1610612747               LAL   \n",
       "28           28       2740      Andris Biedrins  1610612744               GSW   \n",
       "29           29       1712       Antawn Jamison  1610612764               WAS   \n",
       "..          ...        ...                  ...         ...               ...   \n",
       "428         428       1503        Tracy McGrady  1610612745               HOU   \n",
       "429         429     101143        Travis Diener  1610612753               ORL   \n",
       "430         430       2566        Travis Outlaw  1610612757               POR   \n",
       "431         431       2239      Trenton Hassell  1610612750               MIN   \n",
       "432         432       2772         Trevor Ariza  1610612753               ORL   \n",
       "433         433       1607          Troy Hudson  1610612750               MIN   \n",
       "434         434       2211          Troy Murphy  1610612754               IND   \n",
       "435         435       1731           Tyronn Lue  1610612737               ATL   \n",
       "436         436     200748         Tyrus Thomas  1610612741               CHI   \n",
       "437         437       2199       Tyson Chandler  1610612740               NOK   \n",
       "438         438       2617        Udonis Haslem  1610612748               MIA   \n",
       "439         439     101166          Uros Slokar  1610612761               TOR   \n",
       "440         440       2779   Vassilis Spanoulis  1610612745               HOU   \n",
       "441         441       2751       Viktor Khryapa  1610612741               CHI   \n",
       "442         442       1713         Vince Carter  1610612751               NJN   \n",
       "443         443        958     Vitaly Potapenko  1610612758               SAC   \n",
       "444         444       2209  Vladimir Radmanovic  1610612747               LAL   \n",
       "445         445     101144            Von Wafer  1610612746               LAC   \n",
       "446         446       1887     Wally Szczerbiak  1610612738               BOS   \n",
       "447         447     200835      Walter Herrmann  1610612766               CHA   \n",
       "448         448     101134         Wayne Simien  1610612748               MIA   \n",
       "449         449     200807         Will Blalock  1610612765               DET   \n",
       "450         450     101215          Will Conroy  1610612746               LAC   \n",
       "451         451       2584         Willie Green  1610612755               PHI   \n",
       "452         452     200821     Yakhouba Diawara  1610612743               DEN   \n",
       "453         453       2397             Yao Ming  1610612745               HOU   \n",
       "454         454     101117     Yaroslav Korolev  1610612746               LAC   \n",
       "455         455       2216        Zach Randolph  1610612757               POR   \n",
       "456         456       2585        Zaza Pachulia  1610612737               ATL   \n",
       "457         457        980   Zydrunas Ilgauskas  1610612739               CLE   \n",
       "\n",
       "      AGE  GP   W   L  W_PCT  ...   FTA  FT_PCT  OREB  DREB   REB  AST  TOV  \\\n",
       "0    34.0  10   4   6  0.400  ...   0.0   0.000   0.1   1.7   1.8  1.3  0.8   \n",
       "1    35.0  38  15  23  0.395  ...   0.6   0.818   0.7   1.5   2.2  0.2  0.5   \n",
       "2    22.0  78  30  48  0.385  ...   2.2   0.710   0.7   2.3   2.9  2.1  1.7   \n",
       "3    32.0  48  19  29  0.396  ...   0.5   0.440   1.1   1.6   2.6  0.4  0.5   \n",
       "4    32.0  54  32  22  0.593  ...   0.4   0.789   0.7   1.3   2.0  1.1  0.7   \n",
       "5    27.0  78  42  36  0.538  ...   3.1   0.694   1.9   4.4   6.4  1.9  2.2   \n",
       "6    22.0  69  20  49  0.290  ...   4.3   0.681   3.4   7.5  11.0  1.3  2.0   \n",
       "7    24.0  17   7  10  0.412  ...   1.4   0.826   0.6   1.2   1.9  1.2  1.3   \n",
       "8    34.0  38   9  29  0.237  ...   1.2   0.702   1.3   1.6   2.8  0.3  0.3   \n",
       "9    24.0  59  15  44  0.254  ...   2.0   0.661   0.8   2.2   3.1  0.3  0.8   \n",
       "10   23.0  47   9  38  0.191  ...   1.2   0.764   0.4   1.1   1.5  0.9  0.9   \n",
       "11   32.0  65  31  34  0.477  ...   9.4   0.795   0.4   2.6   3.0  7.2  4.1   \n",
       "12   37.0  77  43  34  0.558  ...   4.0   0.601   1.6   2.9   4.5  0.2  1.7   \n",
       "13   32.0   2   2   0  1.000  ...   2.0   0.500   0.5   0.0   0.5  1.5  1.5   \n",
       "14   24.0  82  61  21  0.744  ...   7.1   0.781   2.7   6.9   9.6  1.0  2.8   \n",
       "15   20.0   8   3   5  0.375  ...   1.8   0.786   1.9   2.8   4.6  0.4  1.1   \n",
       "16   24.0  81  49  32  0.605  ...   3.3   0.616   2.4   4.4   6.7  0.9  0.8   \n",
       "17   20.0  56  27  29  0.482  ...   0.9   0.612   1.4   2.0   3.4  0.7  0.9   \n",
       "18   25.0   6   5   1  0.833  ...   0.0   0.000   0.2   0.7   0.8  1.2  0.7   \n",
       "19   26.0  38  16  22  0.421  ...   0.4   0.600   0.7   1.3   1.9  0.1  0.8   \n",
       "20   23.0  76  30  46  0.395  ...   7.3   0.820   1.0   4.7   5.7  5.7  3.4   \n",
       "21   31.0  80  43  37  0.538  ...   3.5   0.784   1.2   3.2   4.4  7.8  2.8   \n",
       "22   21.0  65  35  30  0.538  ...   2.2   0.824   0.8   3.1   3.9  0.8  1.6   \n",
       "23   25.0  13   3  10  0.231  ...   0.2   0.500   0.2   0.5   0.6  0.1  0.7   \n",
       "24   26.0  70  44  26  0.629  ...   3.4   0.728   1.3   3.4   4.7  2.9  1.9   \n",
       "25   27.0  53  31  22  0.585  ...   2.7   0.848   0.8   4.9   5.7  1.1  2.0   \n",
       "26   22.0  66  25  41  0.379  ...   2.9   0.577   2.5   6.3   8.8  3.0  2.3   \n",
       "27   19.0  82  42  40  0.512  ...   2.6   0.668   1.7   4.2   5.9  1.1  1.4   \n",
       "28   21.0  82  42  40  0.512  ...   2.0   0.521   3.1   6.2   9.3  1.1  1.5   \n",
       "29   31.0  70  37  33  0.529  ...   4.4   0.736   1.9   6.1   8.0  1.9  1.5   \n",
       "..    ...  ..  ..  ..    ...  ...   ...     ...   ...   ...   ...  ...  ...   \n",
       "428  28.0  71  50  21  0.704  ...   6.9   0.707   0.8   4.5   5.3  6.5  3.0   \n",
       "429  25.0  26  12  14  0.462  ...   0.6   0.800   0.1   0.6   0.7  1.3  0.5   \n",
       "430  22.0  67  25  42  0.373  ...   2.7   0.790   1.0   2.3   3.2  0.8  1.0   \n",
       "431  28.0  76  28  48  0.368  ...   1.2   0.783   1.1   2.1   3.2  2.7  1.1   \n",
       "432  21.0  57  32  25  0.561  ...   3.0   0.620   1.7   2.6   4.4  1.1  1.5   \n",
       "433  31.0  34  14  20  0.412  ...   0.9   0.813   0.2   1.2   1.4  2.1  1.2   \n",
       "434  27.0  68  24  44  0.353  ...   2.1   0.745   1.5   4.6   6.1  1.9  1.1   \n",
       "435  30.0  56  22  34  0.393  ...   2.9   0.883   0.3   1.5   1.9  3.6  1.5   \n",
       "436  20.0  72  44  28  0.611  ...   2.4   0.606   1.2   2.5   3.7  0.6  1.3   \n",
       "437  24.0  73  34  39  0.466  ...   2.8   0.527   4.4   8.0  12.4  0.9  1.7   \n",
       "438  27.0  79  43  36  0.544  ...   2.6   0.680   2.4   5.9   8.3  1.2  1.4   \n",
       "439  24.0  20   9  11  0.450  ...   0.7   0.692   0.4   0.4   0.7  0.1  0.5   \n",
       "440  24.0  31  21  10  0.677  ...   1.4   0.810   0.2   0.5   0.7  0.9  0.9   \n",
       "441  24.0  33  19  14  0.576  ...   0.8   0.731   0.6   1.1   1.7  0.6  0.5   \n",
       "442  30.0  82  41  41  0.500  ...   7.0   0.802   1.4   4.6   6.0  4.8  2.6   \n",
       "443  32.0   3   1   2  0.333  ...   0.0   0.000   0.0   0.7   0.7  0.0  0.7   \n",
       "444  26.0  55  31  24  0.564  ...   1.3   0.726   1.0   2.3   3.3  1.2  1.3   \n",
       "445  21.0   1   1   0  1.000  ...   0.0   0.000   0.0   0.0   0.0  0.0  0.0   \n",
       "446  30.0  32  11  21  0.344  ...   3.9   0.897   0.5   2.6   3.1  1.7  1.7   \n",
       "447  28.0  48  19  29  0.396  ...   1.1   0.774   0.6   2.3   2.9  0.5  0.7   \n",
       "448  24.0   8   1   7  0.125  ...   0.9   0.714   0.6   0.8   1.4  0.5  0.4   \n",
       "449  23.0  14   8   6  0.571  ...   0.4   1.000   0.4   0.6   1.1  1.2  0.9   \n",
       "450  24.0   7   1   6  0.143  ...   0.6   0.000   0.4   0.6   1.0  1.3  0.3   \n",
       "451  25.0  74  31  43  0.419  ...   1.5   0.667   0.6   1.6   2.1  1.5  1.4   \n",
       "452  24.0  64  33  31  0.516  ...   0.8   0.660   0.4   1.3   1.7  0.9  0.6   \n",
       "453  26.0  48  32  16  0.667  ...   8.6   0.862   2.1   7.3   9.4  2.0  3.5   \n",
       "454  20.0  10   6   4  0.600  ...   0.6   0.500   0.1   0.2   0.3  0.4  0.1   \n",
       "455  25.0  68  25  43  0.368  ...   7.1   0.819   2.9   7.2  10.1  2.2  3.2   \n",
       "456  23.0  72  26  46  0.361  ...   5.2   0.786   2.8   4.2   6.9  1.5  2.3   \n",
       "457  32.0  78  48  30  0.615  ...   2.5   0.807   3.1   4.6   7.7  1.6  1.8   \n",
       "\n",
       "     STL  BLK   PTS  \n",
       "0    0.4  0.0   2.2  \n",
       "1    0.2  0.4   2.0  \n",
       "2    0.4  0.1  11.8  \n",
       "3    0.2  1.0   2.2  \n",
       "4    0.6  0.1   2.5  \n",
       "5    0.8  0.3  16.5  \n",
       "6    0.7  1.5  16.0  \n",
       "7    0.4  0.0   5.8  \n",
       "8    0.2  0.3   3.1  \n",
       "9    0.4  0.6   4.4  \n",
       "10   0.4  0.1   6.2  \n",
       "11   1.9  0.2  26.3  \n",
       "12   0.2  2.3   8.6  \n",
       "13   1.0  0.0   1.0  \n",
       "14   1.0  1.3  20.4  \n",
       "15   0.6  1.6   5.9  \n",
       "16   0.9  0.6   6.8  \n",
       "17   0.3  0.6   3.7  \n",
       "18   0.0  0.0   1.3  \n",
       "19   0.2  0.1   2.4  \n",
       "20   2.0  0.4  18.2  \n",
       "21   1.4  0.1  13.4  \n",
       "22   0.5  0.8  11.6  \n",
       "23   0.0  0.0   1.3  \n",
       "24   1.1  2.1   8.3  \n",
       "25   0.5  0.5  14.1  \n",
       "26   0.7  0.5  12.3  \n",
       "27   0.1  1.6   7.8  \n",
       "28   0.8  1.7   9.5  \n",
       "29   1.1  0.5  19.8  \n",
       "..   ...  ...   ...  \n",
       "428  1.3  0.5  24.6  \n",
       "429  0.2  0.0   3.8  \n",
       "430  0.9  1.1   9.6  \n",
       "431  0.3  0.3   6.7  \n",
       "432  1.0  0.3   8.9  \n",
       "433  0.4  0.1   5.9  \n",
       "434  0.7  0.6  10.3  \n",
       "435  0.4  0.0  11.4  \n",
       "436  0.6  1.1   5.2  \n",
       "437  0.5  1.8   9.5  \n",
       "438  0.6  0.3  10.7  \n",
       "439  0.1  0.1   1.9  \n",
       "440  0.2  0.0   2.7  \n",
       "441  0.3  0.0   2.2  \n",
       "442  1.0  0.4  25.2  \n",
       "443  0.0  0.0   0.0  \n",
       "444  0.5  0.3   6.6  \n",
       "445  0.0  0.0   0.0  \n",
       "446  0.6  0.1  15.0  \n",
       "447  0.4  0.1   9.2  \n",
       "448  0.3  0.0   2.9  \n",
       "449  0.4  0.0   1.8  \n",
       "450  0.0  0.0   0.0  \n",
       "451  0.8  0.1  11.3  \n",
       "452  0.5  0.1   4.4  \n",
       "453  0.4  2.0  25.0  \n",
       "454  0.3  0.0   1.2  \n",
       "455  0.8  0.2  23.6  \n",
       "456  1.1  0.5  12.2  \n",
       "457  0.6  1.3  11.9  \n",
       "\n",
       "[458 rows x 28 columns]"
      ]
     },
     "execution_count": 3,
     "metadata": {},
     "output_type": "execute_result"
    }
   ],
   "source": [
    "df_2006"
   ]
  },
  {
   "cell_type": "code",
   "execution_count": 4,
   "metadata": {},
   "outputs": [
    {
     "data": {
      "text/plain": [
       "<matplotlib.axes._subplots.AxesSubplot at 0x113c29320>"
      ]
     },
     "execution_count": 4,
     "metadata": {},
     "output_type": "execute_result"
    },
    {
     "data": {
      "image/png": "[encoded data removed]",
      "text/plain": [
       "<matplotlib.figure.Figure at 0x113c29cf8>"
      ]
     },
     "metadata": {},
     "output_type": "display_data"
    }
   ],
   "source": [
    "df_2006['PTS'].plot.hist(bins=40)"
   ]
  },
  {
   "cell_type": "code",
   "execution_count": 5,
   "metadata": {},
   "outputs": [
    {
     "data": {
      "text/plain": [
       "Index(['PLAYER_ID', 'PLAYER_NAME', 'TEAM_ID', 'TEAM_ABBREVIATION', 'AGE', 'GP',\n",
       "       'W', 'L', 'W_PCT', 'MIN', 'FGM', 'FGA', 'FG_PCT', 'FG3M', 'FG3A',\n",
       "       'FG3_PCT', 'FTM', 'FTA', 'FT_PCT', 'OREB', 'DREB', 'REB', 'AST', 'TOV',\n",
       "       'STL', 'BLK', 'PTS'],\n",
       "      dtype='object')"
      ]
     },
     "execution_count": 5,
     "metadata": {},
     "output_type": "execute_result"
    }
   ],
   "source": [
    "df_2006.columns[1:]\n",
    "#pts_2016 = df_2016.as_matrix(columns=df_2016.columns[27:])\n",
    "#x = pts_2016 #The array needs to be larger than 20, just an example\n",
    "#mx = ma.masked_array(x)\n",
    "#z,pval = mstats.normaltest(mx)\n",
    "\n",
    "#if(pval < 0.055):\n",
    "#   print(\"Not normal distribution\")"
   ]
  },
  {
   "cell_type": "code",
   "execution_count": 6,
   "metadata": {},
   "outputs": [
    {
     "name": "stdout",
     "output_type": "stream",
     "text": [
      "71.8951743708 2.44433793371e-16\n",
      "PTS Is Normal Dist\n"
     ]
    }
   ],
   "source": [
    "z,pval = mstats.normaltest(df_2006['PTS'])\n",
    "print(z, pval)\n",
    "if(pval < 0.001):\n",
    "    print('PTS Is Normal Dist')\n",
    "else:\n",
    "    print('PTS Is not Normal Dist')"
   ]
  },
  {
   "cell_type": "code",
   "execution_count": 7,
   "metadata": {},
   "outputs": [
    {
     "data": {
      "text/plain": [
       "<matplotlib.axes._subplots.AxesSubplot at 0x113ce6e80>"
      ]
     },
     "execution_count": 7,
     "metadata": {},
     "output_type": "execute_result"
    },
    {
     "data": {
      "image/png": "[encoded data removed]",
      "text/plain": [
       "<matplotlib.figure.Figure at 0x10e613ac8>"
      ]
     },
     "metadata": {},
     "output_type": "display_data"
    }
   ],
   "source": [
    "df_2006['BLK'].plot.hist(bins=10)"
   ]
  },
  {
   "cell_type": "code",
   "execution_count": 8,
   "metadata": {},
   "outputs": [
    {
     "name": "stdout",
     "output_type": "stream",
     "text": [
      "254.323191815 5.94867972639e-56\n",
      "BLK Is Normal Dist\n"
     ]
    }
   ],
   "source": [
    "z,pval = mstats.normaltest(df_2006['BLK'])\n",
    "print(z, pval)\n",
    "if(pval < 0.001):\n",
    "    print('BLK Is Normal Dist')\n",
    "else:\n",
    "    print('BLK Is not Normal Dist')"
   ]
  },
  {
   "cell_type": "code",
   "execution_count": 9,
   "metadata": {},
   "outputs": [
    {
     "data": {
      "text/plain": [
       "<matplotlib.axes._subplots.AxesSubplot at 0x10e613160>"
      ]
     },
     "execution_count": 9,
     "metadata": {},
     "output_type": "execute_result"
    },
    {
     "data": {
      "image/png": "[encoded data removed]",
      "text/plain": [
       "<matplotlib.figure.Figure at 0x10e67a9b0>"
      ]
     },
     "metadata": {},
     "output_type": "display_data"
    }
   ],
   "source": [
    "df_2006['STL'].plot.hist(bins=15)"
   ]
  },
  {
   "cell_type": "code",
   "execution_count": 10,
   "metadata": {},
   "outputs": [
    {
     "name": "stdout",
     "output_type": "stream",
     "text": [
      "68.5084569564 1.32916100082e-15\n",
      "STL Is Normal Dist\n"
     ]
    }
   ],
   "source": [
    "z,pval = mstats.normaltest(df_2006['STL'])\n",
    "print(z, pval)\n",
    "if(pval < 0.001):\n",
    "    print('STL Is Normal Dist')\n",
    "else:\n",
    "    print('STL Is not Normal Dist')"
   ]
  },
  {
   "cell_type": "code",
   "execution_count": 11,
   "metadata": {},
   "outputs": [
    {
     "data": {
      "text/plain": [
       "<matplotlib.axes._subplots.AxesSubplot at 0x1140a8780>"
      ]
     },
     "execution_count": 11,
     "metadata": {},
     "output_type": "execute_result"
    },
    {
     "data": {
      "image/png": "[encoded data removed]",
      "text/plain": [
       "<matplotlib.figure.Figure at 0x10e66f0b8>"
      ]
     },
     "metadata": {},
     "output_type": "display_data"
    }
   ],
   "source": [
    "df_2006['TOV'].plot.hist(bins=12)"
   ]
  },
  {
   "cell_type": "code",
   "execution_count": 12,
   "metadata": {},
   "outputs": [
    {
     "name": "stdout",
     "output_type": "stream",
     "text": [
      "57.3619241181 3.49958415953e-13\n",
      "TOV Is Normal Dist\n"
     ]
    }
   ],
   "source": [
    "z,pval = mstats.normaltest(df_2006['TOV'])\n",
    "print(z, pval)\n",
    "if(pval < 0.001):\n",
    "    print('TOV Is Normal Dist')\n",
    "else:\n",
    "    print('TOV Is not Normal Dist')"
   ]
  },
  {
   "cell_type": "code",
   "execution_count": 13,
   "metadata": {},
   "outputs": [
    {
     "data": {
      "text/plain": [
       "<matplotlib.axes._subplots.AxesSubplot at 0x11419fef0>"
      ]
     },
     "execution_count": 13,
     "metadata": {},
     "output_type": "execute_result"
    },
    {
     "data": {
      "image/png": "[encoded data removed]",
      "text/plain": [
       "<matplotlib.figure.Figure at 0x114228320>"
      ]
     },
     "metadata": {},
     "output_type": "display_data"
    }
   ],
   "source": [
    "df_2006['AST'].plot.hist(bins=20)"
   ]
  },
  {
   "cell_type": "code",
   "execution_count": 14,
   "metadata": {},
   "outputs": [
    {
     "name": "stdout",
     "output_type": "stream",
     "text": [
      "174.968402347 1.01413127613e-38\n",
      "AST Is Normal Dist\n"
     ]
    }
   ],
   "source": [
    "z,pval = mstats.normaltest(df_2006['AST'])\n",
    "print(z, pval)\n",
    "if(pval < 0.001):\n",
    "    print('AST Is Normal Dist')\n",
    "else:\n",
    "    print('AST Is not Normal Dist')"
   ]
  },
  {
   "cell_type": "code",
   "execution_count": 15,
   "metadata": {},
   "outputs": [
    {
     "data": {
      "text/plain": [
       "<matplotlib.axes._subplots.AxesSubplot at 0x1143c2c88>"
      ]
     },
     "execution_count": 15,
     "metadata": {},
     "output_type": "execute_result"
    },
    {
     "data": {
      "image/png": "[encoded data removed]",
      "text/plain": [
       "<matplotlib.figure.Figure at 0x11439ec88>"
      ]
     },
     "metadata": {},
     "output_type": "display_data"
    }
   ],
   "source": [
    "df_2006['REB'].plot.hist(bins=25)"
   ]
  },
  {
   "cell_type": "code",
   "execution_count": 16,
   "metadata": {},
   "outputs": [
    {
     "name": "stdout",
     "output_type": "stream",
     "text": [
      "97.7971652305 5.80250331572e-22\n",
      "REB Is Normal Dist\n"
     ]
    }
   ],
   "source": [
    "z,pval = mstats.normaltest(df_2006['REB'])\n",
    "print(z, pval)\n",
    "if(pval < 0.001):\n",
    "    print('REB Is Normal Dist')\n",
    "else:\n",
    "    print('REB Is not Normal Dist')"
   ]
  },
  {
   "cell_type": "code",
   "execution_count": 17,
   "metadata": {},
   "outputs": [
    {
     "data": {
      "text/plain": [
       "<matplotlib.axes._subplots.AxesSubplot at 0x114403a58>"
      ]
     },
     "execution_count": 17,
     "metadata": {},
     "output_type": "execute_result"
    },
    {
     "data": {
      "image/png": "[encoded data removed]",
      "text/plain": [
       "<matplotlib.figure.Figure at 0x1a1cf7c978>"
      ]
     },
     "metadata": {},
     "output_type": "display_data"
    }
   ],
   "source": [
    "df_2006['DREB'].plot.hist(bins=25)"
   ]
  },
  {
   "cell_type": "code",
   "execution_count": 18,
   "metadata": {},
   "outputs": [
    {
     "name": "stdout",
     "output_type": "stream",
     "text": [
      "103.553266954 3.26357644131e-23\n",
      "DREB Is Normal Dist\n"
     ]
    }
   ],
   "source": [
    "z,pval = mstats.normaltest(df_2006['DREB'])\n",
    "print(z, pval)\n",
    "if(pval < 0.001):\n",
    "    print('DREB Is Normal Dist')\n",
    "else:\n",
    "    print('DREB Is not Normal Dist')"
   ]
  },
  {
   "cell_type": "code",
   "execution_count": 19,
   "metadata": {},
   "outputs": [
    {
     "data": {
      "text/plain": [
       "<matplotlib.axes._subplots.AxesSubplot at 0x1a1d098f28>"
      ]
     },
     "execution_count": 19,
     "metadata": {},
     "output_type": "execute_result"
    },
    {
     "data": {
      "image/png": "[encoded data removed]",
      "text/plain": [
       "<matplotlib.figure.Figure at 0x1141ac320>"
      ]
     },
     "metadata": {},
     "output_type": "display_data"
    }
   ],
   "source": [
    "df_2006['OREB'].plot.hist(bins=20)"
   ]
  },
  {
   "cell_type": "code",
   "execution_count": 20,
   "metadata": {},
   "outputs": [
    {
     "name": "stdout",
     "output_type": "stream",
     "text": [
      "109.63980985 1.55602937935e-24\n",
      "OREB Is Normal Dist\n"
     ]
    }
   ],
   "source": [
    "z,pval = mstats.normaltest(df_2006['OREB'])\n",
    "print(z, pval)\n",
    "if(pval < 0.001):\n",
    "    print('OREB Is Normal Dist')\n",
    "else:\n",
    "    print('OREB Is not Normal Dist')"
   ]
  },
  {
   "cell_type": "code",
   "execution_count": 21,
   "metadata": {},
   "outputs": [
    {
     "data": {
      "text/plain": [
       "<matplotlib.axes._subplots.AxesSubplot at 0x1a1d0dd320>"
      ]
     },
     "execution_count": 21,
     "metadata": {},
     "output_type": "execute_result"
    },
    {
     "data": {
      "image/png": "[encoded data removed]",
      "text/plain": [
       "<matplotlib.figure.Figure at 0x1a1d0d3400>"
      ]
     },
     "metadata": {},
     "output_type": "display_data"
    }
   ],
   "source": [
    "df_2006['FT_PCT'].plot.hist(bins=15)"
   ]
  },
  {
   "cell_type": "code",
   "execution_count": 22,
   "metadata": {},
   "outputs": [
    {
     "name": "stdout",
     "output_type": "stream",
     "text": [
      "192.458067966 1.61533105404e-42\n",
      "FT_PCT Is Normal Dist\n"
     ]
    }
   ],
   "source": [
    "z,pval = mstats.normaltest(df_2006['FT_PCT'])\n",
    "print(z, pval)\n",
    "if(pval < 0.001):\n",
    "    print('FT_PCT Is Normal Dist')\n",
    "else:\n",
    "    print('FT_PCT Is not Normal Dist')"
   ]
  },
  {
   "cell_type": "code",
   "execution_count": 23,
   "metadata": {},
   "outputs": [
    {
     "data": {
      "text/plain": [
       "<matplotlib.axes._subplots.AxesSubplot at 0x1a1d1fbda0>"
      ]
     },
     "execution_count": 23,
     "metadata": {},
     "output_type": "execute_result"
    },
    {
     "data": {
      "image/png": "[encoded data removed]",
      "text/plain": [
       "<matplotlib.figure.Figure at 0x1a1d1e47f0>"
      ]
     },
     "metadata": {},
     "output_type": "display_data"
    }
   ],
   "source": [
    "df_2006['FTA'].plot.hist(bins=15)"
   ]
  },
  {
   "cell_type": "code",
   "execution_count": 24,
   "metadata": {},
   "outputs": [
    {
     "name": "stdout",
     "output_type": "stream",
     "text": [
      "148.756247416 4.98874492899e-33\n",
      "FTA Is Normal Dist\n"
     ]
    }
   ],
   "source": [
    "z,pval = mstats.normaltest(df_2006['FTA'])\n",
    "print(z, pval)\n",
    "if(pval < 0.001):\n",
    "    print('FTA Is Normal Dist')\n",
    "else:\n",
    "    print('FTA Is not Normal Dist')"
   ]
  },
  {
   "cell_type": "code",
   "execution_count": 25,
   "metadata": {},
   "outputs": [
    {
     "data": {
      "text/plain": [
       "<matplotlib.axes._subplots.AxesSubplot at 0x1a1d1ba128>"
      ]
     },
     "execution_count": 25,
     "metadata": {},
     "output_type": "execute_result"
    },
    {
     "data": {
      "image/png": "[encoded data removed]",
      "text/plain": [
       "<matplotlib.figure.Figure at 0x1a1d1e4908>"
      ]
     },
     "metadata": {},
     "output_type": "display_data"
    }
   ],
   "source": [
    "df_2006['FTM'].plot.hist(bins=15)"
   ]
  },
  {
   "cell_type": "code",
   "execution_count": 26,
   "metadata": {},
   "outputs": [
    {
     "name": "stdout",
     "output_type": "stream",
     "text": [
      "171.35806169 6.16693951776e-38\n",
      "FTM Is Normal Dist\n"
     ]
    }
   ],
   "source": [
    "z,pval = mstats.normaltest(df_2006['FTM'])\n",
    "print(z, pval)\n",
    "if(pval < 0.001):\n",
    "    print('FTM Is Normal Dist')\n",
    "else:\n",
    "    print('FTM Is not Normal Dist')"
   ]
  },
  {
   "cell_type": "code",
   "execution_count": 27,
   "metadata": {},
   "outputs": [
    {
     "data": {
      "text/plain": [
       "<matplotlib.axes._subplots.AxesSubplot at 0x1a1cf834a8>"
      ]
     },
     "execution_count": 27,
     "metadata": {},
     "output_type": "execute_result"
    },
    {
     "data": {
      "image/png": "[encoded data removed]",
      "text/plain": [
       "<matplotlib.figure.Figure at 0x1a1d1d7e48>"
      ]
     },
     "metadata": {},
     "output_type": "display_data"
    }
   ],
   "source": [
    "df_2006['FG3_PCT'].plot.hist(bins=10)"
   ]
  },
  {
   "cell_type": "code",
   "execution_count": 28,
   "metadata": {},
   "outputs": [
    {
     "name": "stdout",
     "output_type": "stream",
     "text": [
      "9.53846778496 0.00848687953225\n",
      "FG3_PCT Is not Normal Dist\n"
     ]
    }
   ],
   "source": [
    "z,pval = mstats.normaltest(df_2006['FG3_PCT'])\n",
    "print(z, pval)\n",
    "if(pval < 0.001):\n",
    "    print('FG3_PCT Is Normal Dist')\n",
    "else:\n",
    "    print('FG3_PCT Is not Normal Dist')"
   ]
  },
  {
   "cell_type": "code",
   "execution_count": 29,
   "metadata": {},
   "outputs": [
    {
     "data": {
      "text/plain": [
       "<matplotlib.axes._subplots.AxesSubplot at 0x1a1d622c18>"
      ]
     },
     "execution_count": 29,
     "metadata": {},
     "output_type": "execute_result"
    },
    {
     "data": {
      "image/png": "[encoded data removed]",
      "text/plain": [
       "<matplotlib.figure.Figure at 0x1a1d320f28>"
      ]
     },
     "metadata": {},
     "output_type": "display_data"
    }
   ],
   "source": [
    "df_2006['FG3A'].plot.hist(bins=15)"
   ]
  },
  {
   "cell_type": "code",
   "execution_count": 30,
   "metadata": {},
   "outputs": [
    {
     "name": "stdout",
     "output_type": "stream",
     "text": [
      "93.1638874214 5.8846263231e-21\n",
      "FG3A Is Normal Dist\n"
     ]
    }
   ],
   "source": [
    "z,pval = mstats.normaltest(df_2006['FG3A'])\n",
    "print(z, pval)\n",
    "if(pval < 0.001):\n",
    "    print('FG3A Is Normal Dist')\n",
    "else:\n",
    "    print('FG3A Is not Normal Dist')"
   ]
  },
  {
   "cell_type": "code",
   "execution_count": 31,
   "metadata": {},
   "outputs": [
    {
     "data": {
      "text/plain": [
       "<matplotlib.axes._subplots.AxesSubplot at 0x1a1d7408d0>"
      ]
     },
     "execution_count": 31,
     "metadata": {},
     "output_type": "execute_result"
    },
    {
     "data": {
      "image/png": "[encoded data removed]",
      "text/plain": [
       "<matplotlib.figure.Figure at 0x1a1d626908>"
      ]
     },
     "metadata": {},
     "output_type": "display_data"
    }
   ],
   "source": [
    "df_2006['FG3M'].plot.hist(bins=15)"
   ]
  },
  {
   "cell_type": "code",
   "execution_count": 32,
   "metadata": {},
   "outputs": [
    {
     "name": "stdout",
     "output_type": "stream",
     "text": [
      "105.881419436 1.01892425724e-23\n",
      "FG3M Is Normal Dist\n"
     ]
    }
   ],
   "source": [
    "z,pval = mstats.normaltest(df_2006['FG3M'])\n",
    "print(z, pval)\n",
    "if(pval < 0.001):\n",
    "    print('FG3M Is Normal Dist')\n",
    "else:\n",
    "    print('FG3M Is not Normal Dist')"
   ]
  },
  {
   "cell_type": "code",
   "execution_count": 33,
   "metadata": {},
   "outputs": [
    {
     "data": {
      "text/plain": [
       "<matplotlib.axes._subplots.AxesSubplot at 0x1a1d8197f0>"
      ]
     },
     "execution_count": 33,
     "metadata": {},
     "output_type": "execute_result"
    },
    {
     "data": {
      "image/png": "[encoded data removed]",
      "text/plain": [
       "<matplotlib.figure.Figure at 0x1a1d740320>"
      ]
     },
     "metadata": {},
     "output_type": "display_data"
    }
   ],
   "source": [
    "df_2006['FG_PCT'].plot.hist(bins=12)"
   ]
  },
  {
   "cell_type": "code",
   "execution_count": 34,
   "metadata": {},
   "outputs": [
    {
     "name": "stdout",
     "output_type": "stream",
     "text": [
      "151.629186659 1.18615233794e-33\n",
      "FG_PCT Is Normal Dist\n"
     ]
    }
   ],
   "source": [
    "z,pval = mstats.normaltest(df_2006['FG_PCT'])\n",
    "print(z, pval)\n",
    "if(pval < 0.001):\n",
    "    print('FG_PCT Is Normal Dist')\n",
    "else:\n",
    "    print('FG_PCT Is not Normal Dist')"
   ]
  },
  {
   "cell_type": "code",
   "execution_count": 35,
   "metadata": {},
   "outputs": [
    {
     "data": {
      "text/plain": [
       "<matplotlib.axes._subplots.AxesSubplot at 0x1a1d824160>"
      ]
     },
     "execution_count": 35,
     "metadata": {},
     "output_type": "execute_result"
    },
    {
     "data": {
      "image/png": "[encoded data removed]",
      "text/plain": [
       "<matplotlib.figure.Figure at 0x1a1d897ef0>"
      ]
     },
     "metadata": {},
     "output_type": "display_data"
    }
   ],
   "source": [
    "df_2006['FGA'].plot.hist(bins=15)"
   ]
  },
  {
   "cell_type": "code",
   "execution_count": 36,
   "metadata": {},
   "outputs": [
    {
     "name": "stdout",
     "output_type": "stream",
     "text": [
      "56.1588317441 6.38652522261e-13\n",
      "FGA Is Normal Dist\n"
     ]
    }
   ],
   "source": [
    "z,pval = mstats.normaltest(df_2006['FGA'])\n",
    "print(z, pval)\n",
    "if(pval < 0.001):\n",
    "    print('FGA Is Normal Dist')\n",
    "else:\n",
    "    print('FGA Is not Normal Dist')"
   ]
  },
  {
   "cell_type": "code",
   "execution_count": 37,
   "metadata": {},
   "outputs": [
    {
     "data": {
      "text/plain": [
       "<matplotlib.axes._subplots.AxesSubplot at 0x1a1d9cda20>"
      ]
     },
     "execution_count": 37,
     "metadata": {},
     "output_type": "execute_result"
    },
    {
     "data": {
      "image/png": "[encoded data removed]",
      "text/plain": [
       "<matplotlib.figure.Figure at 0x1a1d9c6320>"
      ]
     },
     "metadata": {},
     "output_type": "display_data"
    }
   ],
   "source": [
    "df_2006['FGM'].plot.hist(bins=25)"
   ]
  },
  {
   "cell_type": "code",
   "execution_count": 38,
   "metadata": {},
   "outputs": [
    {
     "name": "stdout",
     "output_type": "stream",
     "text": [
      "56.5232062123 5.32281927965e-13\n",
      "FGM Is Normal Dist\n"
     ]
    }
   ],
   "source": [
    "z,pval = mstats.normaltest(df_2006['FGM'])\n",
    "print(z, pval)\n",
    "if(pval < 0.001):\n",
    "    print('FGM Is Normal Dist')\n",
    "else:\n",
    "    print('FGM Is not Normal Dist')"
   ]
  },
  {
   "cell_type": "code",
   "execution_count": 39,
   "metadata": {},
   "outputs": [
    {
     "data": {
      "text/plain": [
       "<matplotlib.axes._subplots.AxesSubplot at 0x1a1dafa630>"
      ]
     },
     "execution_count": 39,
     "metadata": {},
     "output_type": "execute_result"
    },
    {
     "data": {
      "image/png": "[encoded data removed]",
      "text/plain": [
       "<matplotlib.figure.Figure at 0x1a1d8b4470>"
      ]
     },
     "metadata": {},
     "output_type": "display_data"
    }
   ],
   "source": [
    "df_2006['MIN'].plot.hist(bins=25)"
   ]
  },
  {
   "cell_type": "code",
   "execution_count": 40,
   "metadata": {},
   "outputs": [
    {
     "name": "stdout",
     "output_type": "stream",
     "text": [
      "221.295495614 8.83677286754e-49\n",
      "MIN Is Normal Dist\n"
     ]
    }
   ],
   "source": [
    "z,pval = mstats.normaltest(df_2006['MIN'])\n",
    "print(z, pval)\n",
    "if(pval < 0.001):\n",
    "    print('MIN Is Normal Dist')\n",
    "else:\n",
    "    print('MIN Is not Normal Dist')"
   ]
  },
  {
   "cell_type": "code",
   "execution_count": null,
   "metadata": {
    "collapsed": true
   },
   "outputs": [],
   "source": []
  }
 ],
 "metadata": {
  "kernelspec": {
   "display_name": "Python 3",
   "language": "python",
   "name": "python3"
  },
  "language_info": {
   "codemirror_mode": {
    "name": "ipython",
    "version": 3
   },
   "file_extension": ".py",
   "mimetype": "text/x-python",
   "name": "python",
   "nbconvert_exporter": "python",
   "pygments_lexer": "ipython3",
   "version": "3.6.3"
  }
 },
 "nbformat": 4,
 "nbformat_minor": 2
}
