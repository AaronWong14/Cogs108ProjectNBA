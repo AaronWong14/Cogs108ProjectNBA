{
 "cells": [
  {
   "cell_type": "markdown",
   "metadata": {},
   "source": [
    "# Team\n",
    "Aaron Wong - A92048617 - Data Cleaning/Analysis\n",
    "Kevin Ramos - A12884910 - Data Cleaning/Analysis\n",
    "Rajiv Sancheti - A13602097 - Data Visualization/Write-up\n",
    "Rachel Reyes - A13736589 - Data Visualization\n",
    "Jonathan Wells - A14733230 - Statistical Analysis/Cleaning\n",
    "Anmol Arora - A13939947 - ???? "
   ]
  },
  {
   "cell_type": "code",
   "execution_count": null,
   "metadata": {
    "collapsed": true
   },
   "outputs": [],
   "source": []
  }
 ],
 "metadata": {
  "kernelspec": {
   "display_name": "Python 3",
   "language": "python",
   "name": "python3"
  },
  "language_info": {
   "codemirror_mode": {
    "name": "ipython",
    "version": 3
   },
   "file_extension": ".py",
   "mimetype": "text/x-python",
   "name": "python",
   "nbconvert_exporter": "python",
   "pygments_lexer": "ipython3",
   "version": "3.6.3"
  }
 },
 "nbformat": 4,
 "nbformat_minor": 2
}
