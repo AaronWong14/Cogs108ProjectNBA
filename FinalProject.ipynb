{
 "cells": [
  {
   "cell_type": "markdown",
   "metadata": {},
   "source": [
    "# Team\n",
    "Aaron Wong - A92048617 - Data Cleaning/Analysis/Consolidation\n",
    "<br>\n",
    "Kevin Ramos - A12884910 - Data Cleaning/Analysis\n",
    "<br>\n",
    "Rajiv Sancheti - A13602097 - Data Visualization/Write-Up\n",
    "<br>\n",
    "Rachel Reyes - A13736589 - Data Visualization/Write-Up/Analysis\n",
    "<br>\n",
    "Jonathan Wells - A14733230 - Statistical Analysis/Cleaning\n",
    "<br>\n",
    "Anmol Arora - A13939947 - Data Visualization/Write-Up/Analysis"
   ]
  },
  {
   "cell_type": "markdown",
   "metadata": {
    "collapsed": true
   },
   "source": [
    "# Introduction and Background\n",
    "__Description:__ \n",
    "\n",
    "__Research Question:__\n",
    "\n",
    "__Hypothesis:__\n",
    "\n"
   ]
  },
  {
   "cell_type": "markdown",
   "metadata": {},
   "source": [
    "# Data Description\n",
    "\n",
    "\n"
   ]
  },
  {
   "cell_type": "markdown",
   "metadata": {},
   "source": [
    "Here are the packages we imported to allow our code to work."
   ]
  },
  {
   "cell_type": "code",
   "execution_count": 6,
   "metadata": {
    "collapsed": true
   },
   "outputs": [],
   "source": [
    "import nba_py\n",
    "import pandas as pd\n",
    "\n",
    "from nba_py import game, player, constants, team, _api_scrape, _get_json\n",
    "from nba_py.player import PlayerList, PlayerCareer\n",
    "from nba_py.league import PlayerStats\n",
    "#from nba_py.league import TeamStats\n",
    "from nba_py.team import TeamCommonRoster\n",
    "\n",
    "%matplotlib inline\n",
    "from scipy import stats\n",
    "from scipy.stats import kstest, normaltest\n",
    "\n",
    "import scipy\n",
    "import math\n",
    "import numpy as np\n",
    "import matplotlib.pyplot as plt\n",
    "\n",
    "from scipy.stats import pearsonr"
   ]
  },
  {
   "cell_type": "code",
   "execution_count": 2,
   "metadata": {},
   "outputs": [
    {
     "data": {
      "text/plain": [
       "\"\\nclass TeamStats:\\n    _endpoint = 'leaguedashteamstats'\\n\\n    def __init__(self,\\n                 conference=constants.Conference.Default,\\n                 date_from=constants.DateFrom.Default,\\n                 date_to=constants.DateTo.Default,\\n                 division=constants.Division.Default,\\n                 game_scope=constants.Game_Scope.Default,\\n                 game_segment=constants.GameSegment.Default,\\n                 last_n_games=constants.LastNGames.Default,\\n                 league_id=constants.League.Default,\\n                 location=constants.Location.Default,\\n                 measure_type=constants.MeasureType.Default,\\n                 month=constants.Month.Default,\\n                 opponent_team_id=constants.OpponentTeamID.Default,\\n                 outcome=constants.Outcome.Default,\\n                 playoff_round=constants.PlayoffRound.Default,\\n                 pace_adjust=constants.PaceAdjust.Default,\\n                 per_mode=constants.PerMode.Default,\\n                 period=constants.Period.Default,\\n                 player_experience=constants.PlayerExperience.Default,\\n                 player_position=constants.PlayerPosition.Default,\\n                 plus_minus=constants.PlusMinus.Default,\\n                 rank=constants.Rank.Default,\\n                 season=constants.CURRENT_SEASON,\\n                 season_segment=constants.SeasonSegment.Default,\\n                 season_type=constants.SeasonType.Default,\\n                 shot_clock_range=constants.ShotClockRange.Default,\\n                 starter_bench=constants.StarterBench.Default,\\n                 team_id=constants.TeamID.Default,\\n                 vs_conference=constants.VsConference.Default,\\n                 vs_division=constants.VsDivision.Default\\n                 ):\\n        self.json = _get_json(endpoint=self._endpoint,\\n                              params={'LeagueID': league_id,\\n                                      'SeasonType': season_type,\\n                                      'MeasureType': measure_type,\\n                                      'PerMode': per_mode,\\n                                      'PlusMinus': plus_minus,\\n                                      'PaceAdjust': pace_adjust,\\n                                      'Rank': rank,\\n                                      'Season': season,\\n                                      'PORound': playoff_round,\\n                                      'Outcome': outcome,\\n                                      'Location': location,\\n                                      'Month': month,\\n                                      'SeasonSegment': season_segment,\\n                                      'DateFrom': date_from,\\n                                      'DateTo': date_to,\\n                                      'OpponentTeamID': opponent_team_id,\\n                                      'VsConference': vs_conference,\\n                                      'VsDivision': vs_division,\\n                                      'TeamID': team_id,\\n                                      'Conference': conference,\\n                                      'Division': division,\\n                                      'GameSegment': game_segment,\\n                                      'Period': period,\\n                                      'ShotClockRange': shot_clock_range,\\n                                      'LastNGames': last_n_games,\\n                                      'GameScope': game_scope,\\n                                      'PlayerExperience': player_experience,\\n                                      'PlayerPosition': player_position,\\n                                      'StarterBench': starter_bench,\\n                                      })\\n\\n    def overall(self):\\n        return _api_scrape(self.json, 0)\\n\""
      ]
     },
     "execution_count": 2,
     "metadata": {},
     "output_type": "execute_result"
    }
   ],
   "source": [
    "#For some reason, TeamStats from nba_py.league doesn't work, so we need to import the code here\n",
    "'''\n",
    "class TeamStats:\n",
    "    _endpoint = 'leaguedashteamstats'\n",
    "\n",
    "    def __init__(self,\n",
    "                 conference=constants.Conference.Default,\n",
    "                 date_from=constants.DateFrom.Default,\n",
    "                 date_to=constants.DateTo.Default,\n",
    "                 division=constants.Division.Default,\n",
    "                 game_scope=constants.Game_Scope.Default,\n",
    "                 game_segment=constants.GameSegment.Default,\n",
    "                 last_n_games=constants.LastNGames.Default,\n",
    "                 league_id=constants.League.Default,\n",
    "                 location=constants.Location.Default,\n",
    "                 measure_type=constants.MeasureType.Default,\n",
    "                 month=constants.Month.Default,\n",
    "                 opponent_team_id=constants.OpponentTeamID.Default,\n",
    "                 outcome=constants.Outcome.Default,\n",
    "                 playoff_round=constants.PlayoffRound.Default,\n",
    "                 pace_adjust=constants.PaceAdjust.Default,\n",
    "                 per_mode=constants.PerMode.Default,\n",
    "                 period=constants.Period.Default,\n",
    "                 player_experience=constants.PlayerExperience.Default,\n",
    "                 player_position=constants.PlayerPosition.Default,\n",
    "                 plus_minus=constants.PlusMinus.Default,\n",
    "                 rank=constants.Rank.Default,\n",
    "                 season=constants.CURRENT_SEASON,\n",
    "                 season_segment=constants.SeasonSegment.Default,\n",
    "                 season_type=constants.SeasonType.Default,\n",
    "                 shot_clock_range=constants.ShotClockRange.Default,\n",
    "                 starter_bench=constants.StarterBench.Default,\n",
    "                 team_id=constants.TeamID.Default,\n",
    "                 vs_conference=constants.VsConference.Default,\n",
    "                 vs_division=constants.VsDivision.Default\n",
    "                 ):\n",
    "        self.json = _get_json(endpoint=self._endpoint,\n",
    "                              params={'LeagueID': league_id,\n",
    "                                      'SeasonType': season_type,\n",
    "                                      'MeasureType': measure_type,\n",
    "                                      'PerMode': per_mode,\n",
    "                                      'PlusMinus': plus_minus,\n",
    "                                      'PaceAdjust': pace_adjust,\n",
    "                                      'Rank': rank,\n",
    "                                      'Season': season,\n",
    "                                      'PORound': playoff_round,\n",
    "                                      'Outcome': outcome,\n",
    "                                      'Location': location,\n",
    "                                      'Month': month,\n",
    "                                      'SeasonSegment': season_segment,\n",
    "                                      'DateFrom': date_from,\n",
    "                                      'DateTo': date_to,\n",
    "                                      'OpponentTeamID': opponent_team_id,\n",
    "                                      'VsConference': vs_conference,\n",
    "                                      'VsDivision': vs_division,\n",
    "                                      'TeamID': team_id,\n",
    "                                      'Conference': conference,\n",
    "                                      'Division': division,\n",
    "                                      'GameSegment': game_segment,\n",
    "                                      'Period': period,\n",
    "                                      'ShotClockRange': shot_clock_range,\n",
    "                                      'LastNGames': last_n_games,\n",
    "                                      'GameScope': game_scope,\n",
    "                                      'PlayerExperience': player_experience,\n",
    "                                      'PlayerPosition': player_position,\n",
    "                                      'StarterBench': starter_bench,\n",
    "                                      })\n",
    "\n",
    "    def overall(self):\n",
    "        return _api_scrape(self.json, 0)\n",
    "'''"
   ]
  },
  {
   "cell_type": "code",
   "execution_count": 3,
   "metadata": {
    "collapsed": true
   },
   "outputs": [],
   "source": [
    "# Get every player from 2000-2001 to 2016-2017\n",
    "# We break everything into each year since it will be easier to scrape data from the web that way\n",
    "\n",
    "df_players2000 = PlayerStats(season ='2000-01')\n",
    "\n",
    "#df_players2016.overall()"
   ]
  },
  {
   "cell_type": "code",
   "execution_count": 4,
   "metadata": {
    "collapsed": true
   },
   "outputs": [],
   "source": [
    "df_players2001 = PlayerStats(season ='2001-02')"
   ]
  },
  {
   "cell_type": "code",
   "execution_count": 5,
   "metadata": {},
   "outputs": [
    {
     "ename": "ConnectionError",
     "evalue": "('Connection aborted.', RemoteDisconnected('Remote end closed connection without response',))",
     "output_type": "error",
     "traceback": [
      "\u001b[0;31m---------------------------------------------------------------------------\u001b[0m",
      "\u001b[0;31mRemoteDisconnected\u001b[0m                        Traceback (most recent call last)",
      "\u001b[0;32m~/anaconda3/lib/python3.6/site-packages/urllib3/connectionpool.py\u001b[0m in \u001b[0;36murlopen\u001b[0;34m(self, method, url, body, headers, retries, redirect, assert_same_host, timeout, pool_timeout, release_conn, chunked, body_pos, **response_kw)\u001b[0m\n\u001b[1;32m    600\u001b[0m                                                   \u001b[0mbody\u001b[0m\u001b[0;34m=\u001b[0m\u001b[0mbody\u001b[0m\u001b[0;34m,\u001b[0m \u001b[0mheaders\u001b[0m\u001b[0;34m=\u001b[0m\u001b[0mheaders\u001b[0m\u001b[0;34m,\u001b[0m\u001b[0;34m\u001b[0m\u001b[0m\n\u001b[0;32m--> 601\u001b[0;31m                                                   chunked=chunked)\n\u001b[0m\u001b[1;32m    602\u001b[0m \u001b[0;34m\u001b[0m\u001b[0m\n",
      "\u001b[0;32m~/anaconda3/lib/python3.6/site-packages/urllib3/connectionpool.py\u001b[0m in \u001b[0;36m_make_request\u001b[0;34m(self, conn, method, url, timeout, chunked, **httplib_request_kw)\u001b[0m\n\u001b[1;32m    386\u001b[0m                     \u001b[0;31m# otherwise it looks like a programming error was the cause.\u001b[0m\u001b[0;34m\u001b[0m\u001b[0;34m\u001b[0m\u001b[0m\n\u001b[0;32m--> 387\u001b[0;31m                     \u001b[0msix\u001b[0m\u001b[0;34m.\u001b[0m\u001b[0mraise_from\u001b[0m\u001b[0;34m(\u001b[0m\u001b[0me\u001b[0m\u001b[0;34m,\u001b[0m \u001b[0;32mNone\u001b[0m\u001b[0;34m)\u001b[0m\u001b[0;34m\u001b[0m\u001b[0m\n\u001b[0m\u001b[1;32m    388\u001b[0m         \u001b[0;32mexcept\u001b[0m \u001b[0;34m(\u001b[0m\u001b[0mSocketTimeout\u001b[0m\u001b[0;34m,\u001b[0m \u001b[0mBaseSSLError\u001b[0m\u001b[0;34m,\u001b[0m \u001b[0mSocketError\u001b[0m\u001b[0;34m)\u001b[0m \u001b[0;32mas\u001b[0m \u001b[0me\u001b[0m\u001b[0;34m:\u001b[0m\u001b[0;34m\u001b[0m\u001b[0m\n",
      "\u001b[0;32m~/anaconda3/lib/python3.6/site-packages/urllib3/packages/six.py\u001b[0m in \u001b[0;36mraise_from\u001b[0;34m(value, from_value)\u001b[0m\n",
      "\u001b[0;32m~/anaconda3/lib/python3.6/site-packages/urllib3/connectionpool.py\u001b[0m in \u001b[0;36m_make_request\u001b[0;34m(self, conn, method, url, timeout, chunked, **httplib_request_kw)\u001b[0m\n\u001b[1;32m    382\u001b[0m                 \u001b[0;32mtry\u001b[0m\u001b[0;34m:\u001b[0m\u001b[0;34m\u001b[0m\u001b[0m\n\u001b[0;32m--> 383\u001b[0;31m                     \u001b[0mhttplib_response\u001b[0m \u001b[0;34m=\u001b[0m \u001b[0mconn\u001b[0m\u001b[0;34m.\u001b[0m\u001b[0mgetresponse\u001b[0m\u001b[0;34m(\u001b[0m\u001b[0;34m)\u001b[0m\u001b[0;34m\u001b[0m\u001b[0m\n\u001b[0m\u001b[1;32m    384\u001b[0m                 \u001b[0;32mexcept\u001b[0m \u001b[0mException\u001b[0m \u001b[0;32mas\u001b[0m \u001b[0me\u001b[0m\u001b[0;34m:\u001b[0m\u001b[0;34m\u001b[0m\u001b[0m\n",
      "\u001b[0;32m~/anaconda3/lib/python3.6/http/client.py\u001b[0m in \u001b[0;36mgetresponse\u001b[0;34m(self)\u001b[0m\n\u001b[1;32m   1330\u001b[0m             \u001b[0;32mtry\u001b[0m\u001b[0;34m:\u001b[0m\u001b[0;34m\u001b[0m\u001b[0m\n\u001b[0;32m-> 1331\u001b[0;31m                 \u001b[0mresponse\u001b[0m\u001b[0;34m.\u001b[0m\u001b[0mbegin\u001b[0m\u001b[0;34m(\u001b[0m\u001b[0;34m)\u001b[0m\u001b[0;34m\u001b[0m\u001b[0m\n\u001b[0m\u001b[1;32m   1332\u001b[0m             \u001b[0;32mexcept\u001b[0m \u001b[0mConnectionError\u001b[0m\u001b[0;34m:\u001b[0m\u001b[0;34m\u001b[0m\u001b[0m\n",
      "\u001b[0;32m~/anaconda3/lib/python3.6/http/client.py\u001b[0m in \u001b[0;36mbegin\u001b[0;34m(self)\u001b[0m\n\u001b[1;32m    296\u001b[0m         \u001b[0;32mwhile\u001b[0m \u001b[0;32mTrue\u001b[0m\u001b[0;34m:\u001b[0m\u001b[0;34m\u001b[0m\u001b[0m\n\u001b[0;32m--> 297\u001b[0;31m             \u001b[0mversion\u001b[0m\u001b[0;34m,\u001b[0m \u001b[0mstatus\u001b[0m\u001b[0;34m,\u001b[0m \u001b[0mreason\u001b[0m \u001b[0;34m=\u001b[0m \u001b[0mself\u001b[0m\u001b[0;34m.\u001b[0m\u001b[0m_read_status\u001b[0m\u001b[0;34m(\u001b[0m\u001b[0;34m)\u001b[0m\u001b[0;34m\u001b[0m\u001b[0m\n\u001b[0m\u001b[1;32m    298\u001b[0m             \u001b[0;32mif\u001b[0m \u001b[0mstatus\u001b[0m \u001b[0;34m!=\u001b[0m \u001b[0mCONTINUE\u001b[0m\u001b[0;34m:\u001b[0m\u001b[0;34m\u001b[0m\u001b[0m\n",
      "\u001b[0;32m~/anaconda3/lib/python3.6/http/client.py\u001b[0m in \u001b[0;36m_read_status\u001b[0;34m(self)\u001b[0m\n\u001b[1;32m    265\u001b[0m             \u001b[0;31m# sending a valid response.\u001b[0m\u001b[0;34m\u001b[0m\u001b[0;34m\u001b[0m\u001b[0m\n\u001b[0;32m--> 266\u001b[0;31m             raise RemoteDisconnected(\"Remote end closed connection without\"\n\u001b[0m\u001b[1;32m    267\u001b[0m                                      \" response\")\n",
      "\u001b[0;31mRemoteDisconnected\u001b[0m: Remote end closed connection without response",
      "\nDuring handling of the above exception, another exception occurred:\n",
      "\u001b[0;31mProtocolError\u001b[0m                             Traceback (most recent call last)",
      "\u001b[0;32m~/anaconda3/lib/python3.6/site-packages/requests/adapters.py\u001b[0m in \u001b[0;36msend\u001b[0;34m(self, request, stream, timeout, verify, cert, proxies)\u001b[0m\n\u001b[1;32m    439\u001b[0m                     \u001b[0mretries\u001b[0m\u001b[0;34m=\u001b[0m\u001b[0mself\u001b[0m\u001b[0;34m.\u001b[0m\u001b[0mmax_retries\u001b[0m\u001b[0;34m,\u001b[0m\u001b[0;34m\u001b[0m\u001b[0m\n\u001b[0;32m--> 440\u001b[0;31m                     \u001b[0mtimeout\u001b[0m\u001b[0;34m=\u001b[0m\u001b[0mtimeout\u001b[0m\u001b[0;34m\u001b[0m\u001b[0m\n\u001b[0m\u001b[1;32m    441\u001b[0m                 )\n",
      "\u001b[0;32m~/anaconda3/lib/python3.6/site-packages/urllib3/connectionpool.py\u001b[0m in \u001b[0;36murlopen\u001b[0;34m(self, method, url, body, headers, retries, redirect, assert_same_host, timeout, pool_timeout, release_conn, chunked, body_pos, **response_kw)\u001b[0m\n\u001b[1;32m    638\u001b[0m             retries = retries.increment(method, url, error=e, _pool=self,\n\u001b[0;32m--> 639\u001b[0;31m                                         _stacktrace=sys.exc_info()[2])\n\u001b[0m\u001b[1;32m    640\u001b[0m             \u001b[0mretries\u001b[0m\u001b[0;34m.\u001b[0m\u001b[0msleep\u001b[0m\u001b[0;34m(\u001b[0m\u001b[0;34m)\u001b[0m\u001b[0;34m\u001b[0m\u001b[0m\n",
      "\u001b[0;32m~/anaconda3/lib/python3.6/site-packages/urllib3/util/retry.py\u001b[0m in \u001b[0;36mincrement\u001b[0;34m(self, method, url, response, error, _pool, _stacktrace)\u001b[0m\n\u001b[1;32m    356\u001b[0m             \u001b[0;32mif\u001b[0m \u001b[0mread\u001b[0m \u001b[0;32mis\u001b[0m \u001b[0;32mFalse\u001b[0m \u001b[0;32mor\u001b[0m \u001b[0;32mnot\u001b[0m \u001b[0mself\u001b[0m\u001b[0;34m.\u001b[0m\u001b[0m_is_method_retryable\u001b[0m\u001b[0;34m(\u001b[0m\u001b[0mmethod\u001b[0m\u001b[0;34m)\u001b[0m\u001b[0;34m:\u001b[0m\u001b[0;34m\u001b[0m\u001b[0m\n\u001b[0;32m--> 357\u001b[0;31m                 \u001b[0;32mraise\u001b[0m \u001b[0msix\u001b[0m\u001b[0;34m.\u001b[0m\u001b[0mreraise\u001b[0m\u001b[0;34m(\u001b[0m\u001b[0mtype\u001b[0m\u001b[0;34m(\u001b[0m\u001b[0merror\u001b[0m\u001b[0;34m)\u001b[0m\u001b[0;34m,\u001b[0m \u001b[0merror\u001b[0m\u001b[0;34m,\u001b[0m \u001b[0m_stacktrace\u001b[0m\u001b[0;34m)\u001b[0m\u001b[0;34m\u001b[0m\u001b[0m\n\u001b[0m\u001b[1;32m    358\u001b[0m             \u001b[0;32melif\u001b[0m \u001b[0mread\u001b[0m \u001b[0;32mis\u001b[0m \u001b[0;32mnot\u001b[0m \u001b[0;32mNone\u001b[0m\u001b[0;34m:\u001b[0m\u001b[0;34m\u001b[0m\u001b[0m\n",
      "\u001b[0;32m~/anaconda3/lib/python3.6/site-packages/urllib3/packages/six.py\u001b[0m in \u001b[0;36mreraise\u001b[0;34m(tp, value, tb)\u001b[0m\n\u001b[1;32m    684\u001b[0m         \u001b[0;32mif\u001b[0m \u001b[0mvalue\u001b[0m\u001b[0;34m.\u001b[0m\u001b[0m__traceback__\u001b[0m \u001b[0;32mis\u001b[0m \u001b[0;32mnot\u001b[0m \u001b[0mtb\u001b[0m\u001b[0;34m:\u001b[0m\u001b[0;34m\u001b[0m\u001b[0m\n\u001b[0;32m--> 685\u001b[0;31m             \u001b[0;32mraise\u001b[0m \u001b[0mvalue\u001b[0m\u001b[0;34m.\u001b[0m\u001b[0mwith_traceback\u001b[0m\u001b[0;34m(\u001b[0m\u001b[0mtb\u001b[0m\u001b[0;34m)\u001b[0m\u001b[0;34m\u001b[0m\u001b[0m\n\u001b[0m\u001b[1;32m    686\u001b[0m         \u001b[0;32mraise\u001b[0m \u001b[0mvalue\u001b[0m\u001b[0;34m\u001b[0m\u001b[0m\n",
      "\u001b[0;32m~/anaconda3/lib/python3.6/site-packages/urllib3/connectionpool.py\u001b[0m in \u001b[0;36murlopen\u001b[0;34m(self, method, url, body, headers, retries, redirect, assert_same_host, timeout, pool_timeout, release_conn, chunked, body_pos, **response_kw)\u001b[0m\n\u001b[1;32m    600\u001b[0m                                                   \u001b[0mbody\u001b[0m\u001b[0;34m=\u001b[0m\u001b[0mbody\u001b[0m\u001b[0;34m,\u001b[0m \u001b[0mheaders\u001b[0m\u001b[0;34m=\u001b[0m\u001b[0mheaders\u001b[0m\u001b[0;34m,\u001b[0m\u001b[0;34m\u001b[0m\u001b[0m\n\u001b[0;32m--> 601\u001b[0;31m                                                   chunked=chunked)\n\u001b[0m\u001b[1;32m    602\u001b[0m \u001b[0;34m\u001b[0m\u001b[0m\n",
      "\u001b[0;32m~/anaconda3/lib/python3.6/site-packages/urllib3/connectionpool.py\u001b[0m in \u001b[0;36m_make_request\u001b[0;34m(self, conn, method, url, timeout, chunked, **httplib_request_kw)\u001b[0m\n\u001b[1;32m    386\u001b[0m                     \u001b[0;31m# otherwise it looks like a programming error was the cause.\u001b[0m\u001b[0;34m\u001b[0m\u001b[0;34m\u001b[0m\u001b[0m\n\u001b[0;32m--> 387\u001b[0;31m                     \u001b[0msix\u001b[0m\u001b[0;34m.\u001b[0m\u001b[0mraise_from\u001b[0m\u001b[0;34m(\u001b[0m\u001b[0me\u001b[0m\u001b[0;34m,\u001b[0m \u001b[0;32mNone\u001b[0m\u001b[0;34m)\u001b[0m\u001b[0;34m\u001b[0m\u001b[0m\n\u001b[0m\u001b[1;32m    388\u001b[0m         \u001b[0;32mexcept\u001b[0m \u001b[0;34m(\u001b[0m\u001b[0mSocketTimeout\u001b[0m\u001b[0;34m,\u001b[0m \u001b[0mBaseSSLError\u001b[0m\u001b[0;34m,\u001b[0m \u001b[0mSocketError\u001b[0m\u001b[0;34m)\u001b[0m \u001b[0;32mas\u001b[0m \u001b[0me\u001b[0m\u001b[0;34m:\u001b[0m\u001b[0;34m\u001b[0m\u001b[0m\n",
      "\u001b[0;32m~/anaconda3/lib/python3.6/site-packages/urllib3/packages/six.py\u001b[0m in \u001b[0;36mraise_from\u001b[0;34m(value, from_value)\u001b[0m\n",
      "\u001b[0;32m~/anaconda3/lib/python3.6/site-packages/urllib3/connectionpool.py\u001b[0m in \u001b[0;36m_make_request\u001b[0;34m(self, conn, method, url, timeout, chunked, **httplib_request_kw)\u001b[0m\n\u001b[1;32m    382\u001b[0m                 \u001b[0;32mtry\u001b[0m\u001b[0;34m:\u001b[0m\u001b[0;34m\u001b[0m\u001b[0m\n\u001b[0;32m--> 383\u001b[0;31m                     \u001b[0mhttplib_response\u001b[0m \u001b[0;34m=\u001b[0m \u001b[0mconn\u001b[0m\u001b[0;34m.\u001b[0m\u001b[0mgetresponse\u001b[0m\u001b[0;34m(\u001b[0m\u001b[0;34m)\u001b[0m\u001b[0;34m\u001b[0m\u001b[0m\n\u001b[0m\u001b[1;32m    384\u001b[0m                 \u001b[0;32mexcept\u001b[0m \u001b[0mException\u001b[0m \u001b[0;32mas\u001b[0m \u001b[0me\u001b[0m\u001b[0;34m:\u001b[0m\u001b[0;34m\u001b[0m\u001b[0m\n",
      "\u001b[0;32m~/anaconda3/lib/python3.6/http/client.py\u001b[0m in \u001b[0;36mgetresponse\u001b[0;34m(self)\u001b[0m\n\u001b[1;32m   1330\u001b[0m             \u001b[0;32mtry\u001b[0m\u001b[0;34m:\u001b[0m\u001b[0;34m\u001b[0m\u001b[0m\n\u001b[0;32m-> 1331\u001b[0;31m                 \u001b[0mresponse\u001b[0m\u001b[0;34m.\u001b[0m\u001b[0mbegin\u001b[0m\u001b[0;34m(\u001b[0m\u001b[0;34m)\u001b[0m\u001b[0;34m\u001b[0m\u001b[0m\n\u001b[0m\u001b[1;32m   1332\u001b[0m             \u001b[0;32mexcept\u001b[0m \u001b[0mConnectionError\u001b[0m\u001b[0;34m:\u001b[0m\u001b[0;34m\u001b[0m\u001b[0m\n",
      "\u001b[0;32m~/anaconda3/lib/python3.6/http/client.py\u001b[0m in \u001b[0;36mbegin\u001b[0;34m(self)\u001b[0m\n\u001b[1;32m    296\u001b[0m         \u001b[0;32mwhile\u001b[0m \u001b[0;32mTrue\u001b[0m\u001b[0;34m:\u001b[0m\u001b[0;34m\u001b[0m\u001b[0m\n\u001b[0;32m--> 297\u001b[0;31m             \u001b[0mversion\u001b[0m\u001b[0;34m,\u001b[0m \u001b[0mstatus\u001b[0m\u001b[0;34m,\u001b[0m \u001b[0mreason\u001b[0m \u001b[0;34m=\u001b[0m \u001b[0mself\u001b[0m\u001b[0;34m.\u001b[0m\u001b[0m_read_status\u001b[0m\u001b[0;34m(\u001b[0m\u001b[0;34m)\u001b[0m\u001b[0;34m\u001b[0m\u001b[0m\n\u001b[0m\u001b[1;32m    298\u001b[0m             \u001b[0;32mif\u001b[0m \u001b[0mstatus\u001b[0m \u001b[0;34m!=\u001b[0m \u001b[0mCONTINUE\u001b[0m\u001b[0;34m:\u001b[0m\u001b[0;34m\u001b[0m\u001b[0m\n",
      "\u001b[0;32m~/anaconda3/lib/python3.6/http/client.py\u001b[0m in \u001b[0;36m_read_status\u001b[0;34m(self)\u001b[0m\n\u001b[1;32m    265\u001b[0m             \u001b[0;31m# sending a valid response.\u001b[0m\u001b[0;34m\u001b[0m\u001b[0;34m\u001b[0m\u001b[0m\n\u001b[0;32m--> 266\u001b[0;31m             raise RemoteDisconnected(\"Remote end closed connection without\"\n\u001b[0m\u001b[1;32m    267\u001b[0m                                      \" response\")\n",
      "\u001b[0;31mProtocolError\u001b[0m: ('Connection aborted.', RemoteDisconnected('Remote end closed connection without response',))",
      "\nDuring handling of the above exception, another exception occurred:\n",
      "\u001b[0;31mConnectionError\u001b[0m                           Traceback (most recent call last)",
      "\u001b[0;32m<ipython-input-5-7753ca3d117b>\u001b[0m in \u001b[0;36m<module>\u001b[0;34m()\u001b[0m\n\u001b[0;32m----> 1\u001b[0;31m \u001b[0mdf_players2002\u001b[0m \u001b[0;34m=\u001b[0m \u001b[0mPlayerStats\u001b[0m\u001b[0;34m(\u001b[0m\u001b[0mseason\u001b[0m \u001b[0;34m=\u001b[0m\u001b[0;34m'2002-03'\u001b[0m\u001b[0;34m)\u001b[0m\u001b[0;34m\u001b[0m\u001b[0m\n\u001b[0m",
      "\u001b[0;32m~/anaconda3/lib/python3.6/site-packages/nba_py/league.py\u001b[0m in \u001b[0;36m__init__\u001b[0;34m(self, season_type, measure_type, per_mode, plus_minus, pace_adjust, rank, season, playoff_round, outcome, location, month, season_segment, date_from, date_to, opponent_team_id, vs_conference, vs_division, team_id, conference, division, game_segment, period, shot_clock_range, last_n_games, game_scope, player_experience, player_position, starter_bench, draft_year, draft_pick, college, country, height, weight)\u001b[0m\n\u001b[1;32m    180\u001b[0m                                       \u001b[0;34m'Country'\u001b[0m\u001b[0;34m:\u001b[0m \u001b[0mcountry\u001b[0m\u001b[0;34m,\u001b[0m\u001b[0;34m\u001b[0m\u001b[0m\n\u001b[1;32m    181\u001b[0m                                       \u001b[0;34m'Height'\u001b[0m\u001b[0;34m:\u001b[0m \u001b[0mheight\u001b[0m\u001b[0;34m,\u001b[0m\u001b[0;34m\u001b[0m\u001b[0m\n\u001b[0;32m--> 182\u001b[0;31m                                       \u001b[0;34m'Weight'\u001b[0m\u001b[0;34m:\u001b[0m \u001b[0mweight\u001b[0m\u001b[0;34m\u001b[0m\u001b[0m\n\u001b[0m\u001b[1;32m    183\u001b[0m                                       })\n\u001b[1;32m    184\u001b[0m \u001b[0;34m\u001b[0m\u001b[0m\n",
      "\u001b[0;32m~/anaconda3/lib/python3.6/site-packages/nba_py/__init__.py\u001b[0m in \u001b[0;36m_get_json\u001b[0;34m(endpoint, params, referer)\u001b[0m\n\u001b[1;32m     81\u001b[0m     \u001b[0mh\u001b[0m\u001b[0;34m[\u001b[0m\u001b[0;34m'referer'\u001b[0m\u001b[0;34m]\u001b[0m \u001b[0;34m=\u001b[0m \u001b[0;34m'http://stats.nba.com/{ref}/'\u001b[0m\u001b[0;34m.\u001b[0m\u001b[0mformat\u001b[0m\u001b[0;34m(\u001b[0m\u001b[0mref\u001b[0m\u001b[0;34m=\u001b[0m\u001b[0mreferer\u001b[0m\u001b[0;34m)\u001b[0m\u001b[0;34m\u001b[0m\u001b[0m\n\u001b[1;32m     82\u001b[0m     _get = get(BASE_URL.format(endpoint=endpoint), params=params,\n\u001b[0;32m---> 83\u001b[0;31m                headers=h)\n\u001b[0m\u001b[1;32m     84\u001b[0m     \u001b[0;31m# print _get.url\u001b[0m\u001b[0;34m\u001b[0m\u001b[0;34m\u001b[0m\u001b[0m\n\u001b[1;32m     85\u001b[0m     \u001b[0m_get\u001b[0m\u001b[0;34m.\u001b[0m\u001b[0mraise_for_status\u001b[0m\u001b[0;34m(\u001b[0m\u001b[0;34m)\u001b[0m\u001b[0;34m\u001b[0m\u001b[0m\n",
      "\u001b[0;32m~/anaconda3/lib/python3.6/site-packages/requests/api.py\u001b[0m in \u001b[0;36mget\u001b[0;34m(url, params, **kwargs)\u001b[0m\n\u001b[1;32m     70\u001b[0m \u001b[0;34m\u001b[0m\u001b[0m\n\u001b[1;32m     71\u001b[0m     \u001b[0mkwargs\u001b[0m\u001b[0;34m.\u001b[0m\u001b[0msetdefault\u001b[0m\u001b[0;34m(\u001b[0m\u001b[0;34m'allow_redirects'\u001b[0m\u001b[0;34m,\u001b[0m \u001b[0;32mTrue\u001b[0m\u001b[0;34m)\u001b[0m\u001b[0;34m\u001b[0m\u001b[0m\n\u001b[0;32m---> 72\u001b[0;31m     \u001b[0;32mreturn\u001b[0m \u001b[0mrequest\u001b[0m\u001b[0;34m(\u001b[0m\u001b[0;34m'get'\u001b[0m\u001b[0;34m,\u001b[0m \u001b[0murl\u001b[0m\u001b[0;34m,\u001b[0m \u001b[0mparams\u001b[0m\u001b[0;34m=\u001b[0m\u001b[0mparams\u001b[0m\u001b[0;34m,\u001b[0m \u001b[0;34m**\u001b[0m\u001b[0mkwargs\u001b[0m\u001b[0;34m)\u001b[0m\u001b[0;34m\u001b[0m\u001b[0m\n\u001b[0m\u001b[1;32m     73\u001b[0m \u001b[0;34m\u001b[0m\u001b[0m\n\u001b[1;32m     74\u001b[0m \u001b[0;34m\u001b[0m\u001b[0m\n",
      "\u001b[0;32m~/anaconda3/lib/python3.6/site-packages/requests/api.py\u001b[0m in \u001b[0;36mrequest\u001b[0;34m(method, url, **kwargs)\u001b[0m\n\u001b[1;32m     56\u001b[0m     \u001b[0;31m# cases, and look like a memory leak in others.\u001b[0m\u001b[0;34m\u001b[0m\u001b[0;34m\u001b[0m\u001b[0m\n\u001b[1;32m     57\u001b[0m     \u001b[0;32mwith\u001b[0m \u001b[0msessions\u001b[0m\u001b[0;34m.\u001b[0m\u001b[0mSession\u001b[0m\u001b[0;34m(\u001b[0m\u001b[0;34m)\u001b[0m \u001b[0;32mas\u001b[0m \u001b[0msession\u001b[0m\u001b[0;34m:\u001b[0m\u001b[0;34m\u001b[0m\u001b[0m\n\u001b[0;32m---> 58\u001b[0;31m         \u001b[0;32mreturn\u001b[0m \u001b[0msession\u001b[0m\u001b[0;34m.\u001b[0m\u001b[0mrequest\u001b[0m\u001b[0;34m(\u001b[0m\u001b[0mmethod\u001b[0m\u001b[0;34m=\u001b[0m\u001b[0mmethod\u001b[0m\u001b[0;34m,\u001b[0m \u001b[0murl\u001b[0m\u001b[0;34m=\u001b[0m\u001b[0murl\u001b[0m\u001b[0;34m,\u001b[0m \u001b[0;34m**\u001b[0m\u001b[0mkwargs\u001b[0m\u001b[0;34m)\u001b[0m\u001b[0;34m\u001b[0m\u001b[0m\n\u001b[0m\u001b[1;32m     59\u001b[0m \u001b[0;34m\u001b[0m\u001b[0m\n\u001b[1;32m     60\u001b[0m \u001b[0;34m\u001b[0m\u001b[0m\n",
      "\u001b[0;32m~/anaconda3/lib/python3.6/site-packages/requests/sessions.py\u001b[0m in \u001b[0;36mrequest\u001b[0;34m(self, method, url, params, data, headers, cookies, files, auth, timeout, allow_redirects, proxies, hooks, stream, verify, cert, json)\u001b[0m\n\u001b[1;32m    506\u001b[0m         }\n\u001b[1;32m    507\u001b[0m         \u001b[0msend_kwargs\u001b[0m\u001b[0;34m.\u001b[0m\u001b[0mupdate\u001b[0m\u001b[0;34m(\u001b[0m\u001b[0msettings\u001b[0m\u001b[0;34m)\u001b[0m\u001b[0;34m\u001b[0m\u001b[0m\n\u001b[0;32m--> 508\u001b[0;31m         \u001b[0mresp\u001b[0m \u001b[0;34m=\u001b[0m \u001b[0mself\u001b[0m\u001b[0;34m.\u001b[0m\u001b[0msend\u001b[0m\u001b[0;34m(\u001b[0m\u001b[0mprep\u001b[0m\u001b[0;34m,\u001b[0m \u001b[0;34m**\u001b[0m\u001b[0msend_kwargs\u001b[0m\u001b[0;34m)\u001b[0m\u001b[0;34m\u001b[0m\u001b[0m\n\u001b[0m\u001b[1;32m    509\u001b[0m \u001b[0;34m\u001b[0m\u001b[0m\n\u001b[1;32m    510\u001b[0m         \u001b[0;32mreturn\u001b[0m \u001b[0mresp\u001b[0m\u001b[0;34m\u001b[0m\u001b[0m\n",
      "\u001b[0;32m~/anaconda3/lib/python3.6/site-packages/requests/sessions.py\u001b[0m in \u001b[0;36msend\u001b[0;34m(self, request, **kwargs)\u001b[0m\n\u001b[1;32m    616\u001b[0m \u001b[0;34m\u001b[0m\u001b[0m\n\u001b[1;32m    617\u001b[0m         \u001b[0;31m# Send the request\u001b[0m\u001b[0;34m\u001b[0m\u001b[0;34m\u001b[0m\u001b[0m\n\u001b[0;32m--> 618\u001b[0;31m         \u001b[0mr\u001b[0m \u001b[0;34m=\u001b[0m \u001b[0madapter\u001b[0m\u001b[0;34m.\u001b[0m\u001b[0msend\u001b[0m\u001b[0;34m(\u001b[0m\u001b[0mrequest\u001b[0m\u001b[0;34m,\u001b[0m \u001b[0;34m**\u001b[0m\u001b[0mkwargs\u001b[0m\u001b[0;34m)\u001b[0m\u001b[0;34m\u001b[0m\u001b[0m\n\u001b[0m\u001b[1;32m    619\u001b[0m \u001b[0;34m\u001b[0m\u001b[0m\n\u001b[1;32m    620\u001b[0m         \u001b[0;31m# Total elapsed time of the request (approximately)\u001b[0m\u001b[0;34m\u001b[0m\u001b[0;34m\u001b[0m\u001b[0m\n",
      "\u001b[0;32m~/anaconda3/lib/python3.6/site-packages/requests/adapters.py\u001b[0m in \u001b[0;36msend\u001b[0;34m(self, request, stream, timeout, verify, cert, proxies)\u001b[0m\n\u001b[1;32m    488\u001b[0m \u001b[0;34m\u001b[0m\u001b[0m\n\u001b[1;32m    489\u001b[0m         \u001b[0;32mexcept\u001b[0m \u001b[0;34m(\u001b[0m\u001b[0mProtocolError\u001b[0m\u001b[0;34m,\u001b[0m \u001b[0msocket\u001b[0m\u001b[0;34m.\u001b[0m\u001b[0merror\u001b[0m\u001b[0;34m)\u001b[0m \u001b[0;32mas\u001b[0m \u001b[0merr\u001b[0m\u001b[0;34m:\u001b[0m\u001b[0;34m\u001b[0m\u001b[0m\n\u001b[0;32m--> 490\u001b[0;31m             \u001b[0;32mraise\u001b[0m \u001b[0mConnectionError\u001b[0m\u001b[0;34m(\u001b[0m\u001b[0merr\u001b[0m\u001b[0;34m,\u001b[0m \u001b[0mrequest\u001b[0m\u001b[0;34m=\u001b[0m\u001b[0mrequest\u001b[0m\u001b[0;34m)\u001b[0m\u001b[0;34m\u001b[0m\u001b[0m\n\u001b[0m\u001b[1;32m    491\u001b[0m \u001b[0;34m\u001b[0m\u001b[0m\n\u001b[1;32m    492\u001b[0m         \u001b[0;32mexcept\u001b[0m \u001b[0mMaxRetryError\u001b[0m \u001b[0;32mas\u001b[0m \u001b[0me\u001b[0m\u001b[0;34m:\u001b[0m\u001b[0;34m\u001b[0m\u001b[0m\n",
      "\u001b[0;31mConnectionError\u001b[0m: ('Connection aborted.', RemoteDisconnected('Remote end closed connection without response',))"
     ]
    }
   ],
   "source": [
    "df_players2002 = PlayerStats(season ='2002-03')"
   ]
  },
  {
   "cell_type": "code",
   "execution_count": null,
   "metadata": {
    "collapsed": true
   },
   "outputs": [],
   "source": [
    "df_players2003 = PlayerStats(season ='2003-04')"
   ]
  },
  {
   "cell_type": "code",
   "execution_count": null,
   "metadata": {
    "collapsed": true
   },
   "outputs": [],
   "source": [
    "df_players2004 = PlayerStats(season ='2004-05')"
   ]
  },
  {
   "cell_type": "code",
   "execution_count": null,
   "metadata": {
    "collapsed": true
   },
   "outputs": [],
   "source": [
    "df_players2005 = PlayerStats(season ='2005-06')"
   ]
  },
  {
   "cell_type": "code",
   "execution_count": null,
   "metadata": {
    "collapsed": true
   },
   "outputs": [],
   "source": [
    "df_players2006 = PlayerStats(season ='2006-07')"
   ]
  },
  {
   "cell_type": "code",
   "execution_count": null,
   "metadata": {
    "collapsed": true
   },
   "outputs": [],
   "source": [
    "df_players2007 = PlayerStats(season ='2007-08')"
   ]
  },
  {
   "cell_type": "code",
   "execution_count": null,
   "metadata": {
    "collapsed": true
   },
   "outputs": [],
   "source": [
    "df_players2008 = PlayerStats(season ='2008-09')"
   ]
  },
  {
   "cell_type": "code",
   "execution_count": null,
   "metadata": {
    "collapsed": true
   },
   "outputs": [],
   "source": [
    "df_players2009 = PlayerStats(season ='2009-10')"
   ]
  },
  {
   "cell_type": "code",
   "execution_count": null,
   "metadata": {
    "collapsed": true
   },
   "outputs": [],
   "source": [
    "df_players2010 = PlayerStats(season ='2010-11')"
   ]
  },
  {
   "cell_type": "code",
   "execution_count": null,
   "metadata": {
    "collapsed": true
   },
   "outputs": [],
   "source": [
    "df_players2011 = PlayerStats(season ='2011-12')"
   ]
  },
  {
   "cell_type": "code",
   "execution_count": null,
   "metadata": {
    "collapsed": true
   },
   "outputs": [],
   "source": [
    "df_players2012 = PlayerStats(season ='2012-13')"
   ]
  },
  {
   "cell_type": "code",
   "execution_count": null,
   "metadata": {
    "collapsed": true
   },
   "outputs": [],
   "source": [
    "df_players2013 = PlayerStats(season ='2013-14')"
   ]
  },
  {
   "cell_type": "code",
   "execution_count": null,
   "metadata": {
    "collapsed": true
   },
   "outputs": [],
   "source": [
    "df_players2014 = PlayerStats(season ='2014-15')"
   ]
  },
  {
   "cell_type": "code",
   "execution_count": null,
   "metadata": {
    "collapsed": true
   },
   "outputs": [],
   "source": [
    "df_players2015 = PlayerStats(season ='2015-16')"
   ]
  },
  {
   "cell_type": "code",
   "execution_count": null,
   "metadata": {
    "collapsed": true
   },
   "outputs": [],
   "source": [
    "df_players2016 = PlayerStats(season ='2016-17')"
   ]
  },
  {
   "cell_type": "code",
   "execution_count": null,
   "metadata": {
    "collapsed": true
   },
   "outputs": [],
   "source": [
    "#Now let's import every single roster from every year. We hard coded this since we data for every team for every year\n",
    "#individually\n",
    "\n",
    "#2000 rosters for all the teams\n",
    "df_Hawks2000 = TeamCommonRoster(team_id = '1610612737', season = '2000-01')\n",
    "df_Celtics2000 = TeamCommonRoster(team_id = '1610612738', season = '2000-01')\n",
    "df_Nets2000 = TeamCommonRoster(team_id = '1610612751', season = '2000-01')\n",
    "df_Hornets2000 = TeamCommonRoster(team_id = '1610612766', season = '2000-01')\n",
    "df_Bulls2000 = TeamCommonRoster(team_id = '1610612741', season = '2000-01')\n",
    "df_Cavaliers2000 = TeamCommonRoster(team_id = '1610612739', season = '2000-01')\n",
    "df_Mavericks2000 = TeamCommonRoster(team_id = '1610612742', season = '2000-01')\n",
    "df_Nuggets2000 = TeamCommonRoster(team_id = '1610612743', season = '2000-01')\n",
    "df_Pistons2000 = TeamCommonRoster(team_id = '1610612765', season = '2000-01')\n",
    "df_Warriors2000 = TeamCommonRoster(team_id = '1610612744', season = '2000-01')\n",
    "df_Rockets2000 = TeamCommonRoster(team_id = '1610612745', season = '2000-01')\n",
    "df_Pacers2000 = TeamCommonRoster(team_id = '1610612754', season = '2000-01')\n",
    "df_Clippers2000 = TeamCommonRoster(team_id = '1610612746', season = '2000-01')\n",
    "df_Clippers2000 = TeamCommonRoster(team_id = '1610612746', season = '2000-01')\n",
    "df_Lakers2000 = TeamCommonRoster(team_id = '1610612747', season = '2000-01')\n",
    "df_Heat2000 = TeamCommonRoster(team_id = '1610612748', season = '2000-01')\n",
    "df_Bucks2000 = TeamCommonRoster(team_id = '1610612749', season = '2000-01')\n",
    "df_Timberwolves2000 = TeamCommonRoster(team_id = '1610612750', season = '2000-01')\n",
    "df_Pelicans2000 = TeamCommonRoster(team_id = '1610612740', season = '2000-01')\n",
    "df_Knicks2000 = TeamCommonRoster(team_id = '1610612752', season = '2000-01')\n",
    "df_Thunder2000 = TeamCommonRoster(team_id = '1610612760', season = '2000-01')\n",
    "df_Magic2000 = TeamCommonRoster(team_id = '1610612753', season = '2000-01')\n",
    "df_Sixers2000 = TeamCommonRoster(team_id = '1610612755', season = '2000-01')\n",
    "df_Suns2000 = TeamCommonRoster(team_id = '1610612756', season = '2000-01')\n",
    "df_TrailBlazers2000 = TeamCommonRoster(team_id = '1610612757', season = '2000-01')\n",
    "df_Kings2000 = TeamCommonRoster(team_id = '1610612758', season = '2000-01')\n",
    "df_Spurs2000 = TeamCommonRoster(team_id = '1610612759', season = '2000-01')\n",
    "df_Raptors2000 = TeamCommonRoster(team_id = '1610612761', season = '2000-01')\n",
    "df_Jazz2000 = TeamCommonRoster(team_id = '1610612762', season = '2000-01')\n",
    "df_Wizards2000 = TeamCommonRoster(team_id = '1610612764', season = '2000-01')"
   ]
  },
  {
   "cell_type": "code",
   "execution_count": null,
   "metadata": {
    "collapsed": true
   },
   "outputs": [],
   "source": [
    "#df_Wizards2000.roster()"
   ]
  },
  {
   "cell_type": "code",
   "execution_count": null,
   "metadata": {
    "collapsed": true
   },
   "outputs": [],
   "source": [
    "#2001 rosters for all the teams\n",
    "\n",
    "\n",
    "df_Hawks2001 = TeamCommonRoster(team_id = '1610612737', season = '2001-02')\n",
    "df_Celtics2001 = TeamCommonRoster(team_id = '1610612738', season = '2001-02')\n",
    "df_Nets2001 = TeamCommonRoster(team_id = '1610612751', season = '2001-02')\n",
    "df_Hornets2001 = TeamCommonRoster(team_id = '1610612766', season = '2001-02')\n",
    "df_Bulls2001 = TeamCommonRoster(team_id = '1610612741', season = '2001-02')\n",
    "df_Cavaliers2001 = TeamCommonRoster(team_id = '1610612739', season = '2001-02')\n",
    "df_Mavericks2001 = TeamCommonRoster(team_id = '1610612742', season = '2001-02')\n",
    "df_Nuggets2001 = TeamCommonRoster(team_id = '1610612743', season = '2001-02')\n",
    "df_Pistons2001 = TeamCommonRoster(team_id = '1610612765', season = '2001-02')\n",
    "df_Warriors2001 = TeamCommonRoster(team_id = '1610612744', season = '2001-02')\n",
    "df_Rockets2001 = TeamCommonRoster(team_id = '1610612745', season = '2001-02')\n",
    "df_Pacers2001 = TeamCommonRoster(team_id = '1610612754', season = '2001-02')\n",
    "df_Clippers2001 = TeamCommonRoster(team_id = '1610612746', season = '2001-02')\n",
    "df_Lakers2001 = TeamCommonRoster(team_id = '1610612747', season = '2000-01')\n",
    "df_Grizzlies2001 = TeamCommonRoster(team_id = '1610612763', season = '2001-02')\n",
    "df_Heat2001 = TeamCommonRoster(team_id = '1610612748', season = '2001-02')\n",
    "df_Bucks2001 = TeamCommonRoster(team_id = '1610612749', season = '2001-02')\n",
    "df_Timberwolves2001 = TeamCommonRoster(team_id = '1610612750', season = '2001-02')\n",
    "df_Pelicans2001 = TeamCommonRoster(team_id = '1610612740', season = '2001-02')\n",
    "df_Knicks2001 = TeamCommonRoster(team_id = '1610612752', season = '2001-02')\n",
    "df_Thunder2001 = TeamCommonRoster(team_id = '1610612760', season = '2001-02')\n",
    "df_Magic2001 = TeamCommonRoster(team_id = '1610612753', season = '2001-02')\n",
    "df_Sixers2001 = TeamCommonRoster(team_id = '1610612755', season = '2001-02')\n",
    "df_Suns2001 = TeamCommonRoster(team_id = '1610612756', season = '2001-02')\n",
    "df_TrailBlazers2001 = TeamCommonRoster(team_id = '1610612757', season = '2001-02')\n",
    "df_Kings2001 = TeamCommonRoster(team_id = '1610612758', season = '2001-02')\n",
    "df_Spurs2001 = TeamCommonRoster(team_id = '1610612759', season = '2001-02')\n",
    "df_Raptors2001 = TeamCommonRoster(team_id = '1610612761', season = '2001-02')\n",
    "df_Jazz2001 = TeamCommonRoster(team_id = '1610612762', season = '2001-02')\n",
    "df_Wizards2001 = TeamCommonRoster(team_id = '1610612764', season = '2001-02')"
   ]
  },
  {
   "cell_type": "code",
   "execution_count": null,
   "metadata": {
    "collapsed": true
   },
   "outputs": [],
   "source": [
    "#df_Wizards2001.roster()"
   ]
  },
  {
   "cell_type": "code",
   "execution_count": null,
   "metadata": {
    "collapsed": true
   },
   "outputs": [],
   "source": [
    "#2002 rosters for all the teams\n",
    "\n",
    "df_Hawks2002 = TeamCommonRoster(team_id = '1610612737', season = '2002-03')\n",
    "df_Celtics2002 = TeamCommonRoster(team_id = '1610612738', season = '2002-03')\n",
    "df_Nets2002 = TeamCommonRoster(team_id = '1610612751', season = '2002-03')\n",
    "df_Hornets2002 = TeamCommonRoster(team_id = '1610612766', season = '2002-03')\n",
    "df_Bulls2002 = TeamCommonRoster(team_id = '1610612741', season = '2002-03')\n",
    "df_Cavaliers2002 = TeamCommonRoster(team_id = '1610612739', season = '2002-03')\n",
    "df_Mavericks2002 = TeamCommonRoster(team_id = '1610612742', season = '2002-03')\n",
    "df_Nuggets2002 = TeamCommonRoster(team_id = '1610612743', season = '2002-03')\n",
    "df_Pistons2002 = TeamCommonRoster(team_id = '1610612765', season = '2002-03')\n",
    "df_Warriors2002 = TeamCommonRoster(team_id = '1610612744', season = '2002-03')\n",
    "df_Rockets2002 = TeamCommonRoster(team_id = '1610612745', season = '2002-03')\n",
    "df_Pacers2002 = TeamCommonRoster(team_id = '1610612754', season = '2002-03')\n",
    "df_Clippers2002 = TeamCommonRoster(team_id = '1610612746', season = '2002-03')\n",
    "df_Lakers2002 = TeamCommonRoster(team_id = '1610612747', season = '2002-03')\n",
    "df_Grizzlies2002 = TeamCommonRoster(team_id = '1610612763', season = '2002-03')\n",
    "df_Heat2002 = TeamCommonRoster(team_id = '1610612748', season = '2002-03')\n",
    "df_Bucks2002 = TeamCommonRoster(team_id = '1610612749', season = '2002-03')\n",
    "df_Timberwolves2002 = TeamCommonRoster(team_id = '1610612750', season = '2002-03')\n",
    "df_Pelicans2002 = TeamCommonRoster(team_id = '1610612740', season = '2002-03')\n",
    "df_Knicks2002 = TeamCommonRoster(team_id = '1610612752', season = '2002-03')\n",
    "df_Thunder2002 = TeamCommonRoster(team_id = '1610612760', season = '2002-03')\n",
    "df_Magic2002 = TeamCommonRoster(team_id = '1610612753', season = '2002-03')\n",
    "df_Sixers2002 = TeamCommonRoster(team_id = '1610612755', season = '2002-03')\n",
    "df_Suns2002 = TeamCommonRoster(team_id = '1610612756', season = '2002-03')\n",
    "df_TrailBlazers2002 = TeamCommonRoster(team_id = '1610612757', season = '2002-03')\n",
    "df_Kings2002 = TeamCommonRoster(team_id = '1610612758', season = '2002-03')\n",
    "df_Spurs2002 = TeamCommonRoster(team_id = '1610612759', season = '2002-03')\n",
    "df_Raptors2002 = TeamCommonRoster(team_id = '1610612761', season = '2002-03')\n",
    "df_Jazz2002 = TeamCommonRoster(team_id = '1610612762', season = '2002-03')\n",
    "df_Wizards2002 = TeamCommonRoster(team_id = '1610612764', season = '2002-03')"
   ]
  },
  {
   "cell_type": "code",
   "execution_count": null,
   "metadata": {
    "collapsed": true
   },
   "outputs": [],
   "source": [
    "#df_Wizards2002.roster()"
   ]
  },
  {
   "cell_type": "code",
   "execution_count": null,
   "metadata": {
    "collapsed": true
   },
   "outputs": [],
   "source": [
    "\n",
    "#2003 rosters for all the \n",
    "\n",
    "\n",
    "df_Hawks2003 = TeamCommonRoster(team_id = '1610612737', season = '2003-04')\n",
    "df_Celtics2003 = TeamCommonRoster(team_id = '1610612738', season = '2003-04')\n",
    "df_Nets2003 = TeamCommonRoster(team_id = '1610612751', season = '2003-04')\n",
    "df_Hornets2003 = TeamCommonRoster(team_id = '1610612766', season = '2003-04')\n",
    "df_Bulls2003 = TeamCommonRoster(team_id = '1610612741', season = '2003-04')\n",
    "df_Cavaliers2003 = TeamCommonRoster(team_id = '1610612739', season = '2003-04')\n",
    "df_Mavericks2003 = TeamCommonRoster(team_id = '1610612742', season = '2003-04')\n",
    "df_Nuggets2003 = TeamCommonRoster(team_id = '1610612743', season = '2003-04')\n",
    "df_Pistons2003 = TeamCommonRoster(team_id = '1610612765', season = '2003-04')\n",
    "df_Warriors2003 = TeamCommonRoster(team_id = '1610612744', season = '2003-04')\n",
    "df_Rockets2003 = TeamCommonRoster(team_id = '1610612745', season = '2003-04')\n",
    "df_Pacers2003 = TeamCommonRoster(team_id = '1610612754', season = '2003-04')\n",
    "df_Clippers2003 = TeamCommonRoster(team_id = '1610612746', season = '2003-04')\n",
    "df_Lakers2003 = TeamCommonRoster(team_id = '1610612747', season = '2003-04')\n",
    "df_Grizzlies2003 = TeamCommonRoster(team_id = '1610612763', season = '2003-04')\n",
    "df_Heat2003 = TeamCommonRoster(team_id = '1610612748', season = '2003-04')\n",
    "df_Bucks2003 = TeamCommonRoster(team_id = '1610612749', season = '2003-04')\n",
    "df_Timberwolves2003 = TeamCommonRoster(team_id = '1610612750', season = '2003-04')\n",
    "df_Pelicans2003 = TeamCommonRoster(team_id = '1610612740', season = '2003-04')\n",
    "df_Knicks2003 = TeamCommonRoster(team_id = '1610612752', season = '2003-04')\n",
    "df_Thunder2003 = TeamCommonRoster(team_id = '1610612760', season = '2003-04')\n",
    "df_Magic2003 = TeamCommonRoster(team_id = '1610612753', season = '2003-04')\n",
    "df_Sixers2003 = TeamCommonRoster(team_id = '1610612755', season = '2003-04')\n",
    "df_Suns2003 = TeamCommonRoster(team_id = '1610612756', season = '2003-04')\n",
    "df_TrailBlazers2003 = TeamCommonRoster(team_id = '1610612757', season = '2003-04')\n",
    "df_Kings2003 = TeamCommonRoster(team_id = '1610612758', season = '2003-04')\n",
    "df_Spurs2003 = TeamCommonRoster(team_id = '1610612759', season = '2003-04')\n",
    "df_Raptors2003 = TeamCommonRoster(team_id = '1610612761', season = '2003-04')\n",
    "df_Jazz2003 = TeamCommonRoster(team_id = '1610612762', season = '2003-04')\n",
    "df_Wizards2003 = TeamCommonRoster(team_id = '1610612764', season = '2003-04')"
   ]
  },
  {
   "cell_type": "code",
   "execution_count": null,
   "metadata": {
    "collapsed": true
   },
   "outputs": [],
   "source": [
    "#2004 rosters for all the teams\n",
    "\n",
    "\n",
    "df_Hawks2004 = TeamCommonRoster(team_id = '1610612737', season = '2004-05')\n",
    "df_Celtics2004 = TeamCommonRoster(team_id = '1610612738', season = '2004-05')\n",
    "df_Nets2004 = TeamCommonRoster(team_id = '1610612751', season = '2004-05')\n",
    "df_Hornets2004 = TeamCommonRoster(team_id = '1610612766', season = '2004-05')\n",
    "df_Bulls2004 = TeamCommonRoster(team_id = '1610612741', season = '2004-05')\n",
    "df_Cavaliers2004 = TeamCommonRoster(team_id = '1610612739', season = '2004-05')\n",
    "df_Mavericks2004 = TeamCommonRoster(team_id = '1610612742', season = '2004-05')\n",
    "df_Nuggets2004 = TeamCommonRoster(team_id = '1610612743', season = '2004-05')\n",
    "df_Pistons2004 = TeamCommonRoster(team_id = '1610612765', season = '2004-05')\n",
    "df_Warriors2004 = TeamCommonRoster(team_id = '1610612744', season = '2004-05')\n",
    "df_Rockets2004 = TeamCommonRoster(team_id = '1610612745', season = '2004-05')\n",
    "df_Pacers2004 = TeamCommonRoster(team_id = '1610612754', season = '2004-05')\n",
    "df_Clippers2004 = TeamCommonRoster(team_id = '1610612746', season = '2004-05')\n",
    "df_Lakers2004 = TeamCommonRoster(team_id = '1610612747', season = '2004-05')\n",
    "df_Grizzlies2004 = TeamCommonRoster(team_id = '1610612763', season = '2004-05')\n",
    "df_Heat2004 = TeamCommonRoster(team_id = '1610612748', season = '2004-05')\n",
    "df_Bucks2004 = TeamCommonRoster(team_id = '1610612749', season = '2004-05')\n",
    "df_Timberwolves2004 = TeamCommonRoster(team_id = '1610612750', season = '2004-05')\n",
    "df_Pelicans2004 = TeamCommonRoster(team_id = '1610612740', season = '2004-05')\n",
    "df_Knicks2004 = TeamCommonRoster(team_id = '1610612752', season = '2004-05')\n",
    "df_Thunder2004 = TeamCommonRoster(team_id = '1610612760', season = '2004-05')\n",
    "df_Magic2004 = TeamCommonRoster(team_id = '1610612753', season = '2004-05')\n",
    "df_Sixers2004 = TeamCommonRoster(team_id = '1610612755', season = '2004-05')\n",
    "df_Suns2004 = TeamCommonRoster(team_id = '1610612756', season = '2004-05')\n",
    "df_TrailBlazers2004 = TeamCommonRoster(team_id = '1610612757', season = '2004-05')\n",
    "df_Kings2004 = TeamCommonRoster(team_id = '1610612758', season = '2004-05')\n",
    "df_Spurs2004 = TeamCommonRoster(team_id = '1610612759', season = '2004-05')\n",
    "df_Raptors2004 = TeamCommonRoster(team_id = '1610612761', season = '2004-05')\n",
    "df_Jazz2004 = TeamCommonRoster(team_id = '1610612762', season = '2004-05')\n",
    "df_Wizards2004 = TeamCommonRoster(team_id = '1610612764', season = '2004-05')"
   ]
  },
  {
   "cell_type": "code",
   "execution_count": null,
   "metadata": {
    "collapsed": true
   },
   "outputs": [],
   "source": [
    "#2005 rosters for all the teams\n",
    "\n",
    "df_Hawks2005 = TeamCommonRoster(team_id = '1610612737', season = '2005-06')\n",
    "df_Celtics2005 = TeamCommonRoster(team_id = '1610612738', season = '2005-06')\n",
    "df_Hawks2005 = TeamCommonRoster(team_id = '1610612739', season = '2005-06')\n",
    "df_Nets2005 = TeamCommonRoster(team_id = '1610612751', season = '2005-06')\n",
    "df_Hornets2005 = TeamCommonRoster(team_id = '1610612766', season = '2005-06')\n",
    "df_Bulls2005 = TeamCommonRoster(team_id = '1610612741', season = '2005-06')\n",
    "df_Cavaliers2005 = TeamCommonRoster(team_id = '1610612739', season = '2005-06')\n",
    "df_Mavericks2005 = TeamCommonRoster(team_id = '1610612742', season = '2005-06')\n",
    "df_Nuggets2005 = TeamCommonRoster(team_id = '1610612743', season = '2005-06')\n",
    "df_Pistons2005 = TeamCommonRoster(team_id = '1610612765', season = '2005-06')\n",
    "df_Warriors2005 = TeamCommonRoster(team_id = '1610612744', season = '2005-06')\n",
    "df_Rockets2005 = TeamCommonRoster(team_id = '1610612745', season = '2005-06')\n",
    "df_Pacers2005 = TeamCommonRoster(team_id = '1610612754', season = '2005-06')\n",
    "df_Clippers2005 = TeamCommonRoster(team_id = '1610612746', season = '2005-06')\n",
    "df_Lakers2005 = TeamCommonRoster(team_id = '1610612747', season = '2005-06')\n",
    "df_Grizzlies2005 = TeamCommonRoster(team_id = '1610612763', season = '2005-06')\n",
    "df_Heat2005 = TeamCommonRoster(team_id = '1610612748', season = '2005-06')\n",
    "df_Bucks2005 = TeamCommonRoster(team_id = '1610612749', season = '2005-06')\n",
    "df_Timberwolves2005 = TeamCommonRoster(team_id = '1610612750', season = '2005-06')\n",
    "df_Pelicans2005 = TeamCommonRoster(team_id = '1610612740', season = '2005-06')\n",
    "df_Knicks2005 = TeamCommonRoster(team_id = '1610612752', season = '2005-06')\n",
    "df_Thunder2005 = TeamCommonRoster(team_id = '1610612760', season = '2005-06')\n",
    "df_Magic2005 = TeamCommonRoster(team_id = '1610612753', season = '2005-06')\n",
    "df_Sixers2005 = TeamCommonRoster(team_id = '1610612755', season = '2005-06')\n",
    "df_Suns2005 = TeamCommonRoster(team_id = '1610612756', season = '2005-06')\n",
    "df_TrailBlazers2005 = TeamCommonRoster(team_id = '1610612757', season = '2005-06')\n",
    "df_Kings2005 = TeamCommonRoster(team_id = '1610612758', season = '2005-06')\n",
    "df_Spurs2005 = TeamCommonRoster(team_id = '1610612759', season = '2005-06')\n",
    "df_Raptors2005 = TeamCommonRoster(team_id = '1610612761', season = '2005-06')\n",
    "df_Jazz2005 = TeamCommonRoster(team_id = '1610612762', season = '2005-06')\n",
    "df_Wizards2005 = TeamCommonRoster(team_id = '1610612764', season = '2005-06')"
   ]
  },
  {
   "cell_type": "code",
   "execution_count": null,
   "metadata": {
    "collapsed": true
   },
   "outputs": [],
   "source": [
    "#2006 rosters for all the teams\n",
    "\n",
    "\n",
    "df_Hawks2006 = TeamCommonRoster(team_id = '1610612737', season = '2006-07')\n",
    "df_Celtics2006 = TeamCommonRoster(team_id = '1610612738', season = '2006-07')\n",
    "df_Nets2006 = TeamCommonRoster(team_id = '1610612751', season = '2006-07')\n",
    "df_Hornets2006 = TeamCommonRoster(team_id = '1610612766', season = '2006-07')\n",
    "df_Bulls2006 = TeamCommonRoster(team_id = '1610612741', season = '2006-07')\n",
    "df_Cavaliers2006 = TeamCommonRoster(team_id = '1610612739', season = '2006-07')\n",
    "df_Mavericks2006 = TeamCommonRoster(team_id = '1610612742', season = '2006-07')\n",
    "df_Nuggets2006 = TeamCommonRoster(team_id = '1610612743', season = '2006-07')\n",
    "df_Pistons2006 = TeamCommonRoster(team_id = '1610612765', season = '2006-07')\n",
    "df_Warriors2006 = TeamCommonRoster(team_id = '1610612744', season = '2006-07')\n",
    "df_Rockets2006 = TeamCommonRoster(team_id = '1610612745', season = '2006-07')\n",
    "df_Pacers2006 = TeamCommonRoster(team_id = '1610612754', season = '2006-07')\n",
    "df_Clippers2006 = TeamCommonRoster(team_id = '1610612746', season = '2006-07')\n",
    "df_Grizzlies2006 = TeamCommonRoster(team_id = '1610612763', season = '2006-07')\n",
    "df_Lakers2006 = TeamCommonRoster(team_id = '1610612747', season = '2006-07')\n",
    "df_Heat2006 = TeamCommonRoster(team_id = '1610612748', season = '2006-07')\n",
    "df_Bucks2006 = TeamCommonRoster(team_id = '1610612749', season = '2006-07')\n",
    "df_Timberwolves2006 = TeamCommonRoster(team_id = '1610612750', season = '2006-07')\n",
    "df_Pelicans2006 = TeamCommonRoster(team_id = '1610612740', season = '2006-07')\n",
    "df_Knicks2006 = TeamCommonRoster(team_id = '1610612752', season = '2006-07')\n",
    "df_Thunder2006 = TeamCommonRoster(team_id = '1610612760', season = '2006-07')\n",
    "df_Magic2006 = TeamCommonRoster(team_id = '1610612753', season = '2006-07')\n",
    "df_Sixers2006 = TeamCommonRoster(team_id = '1610612755', season = '2006-07')\n",
    "df_Suns2006 = TeamCommonRoster(team_id = '1610612756', season = '2006-07')\n",
    "df_TrailBlazers2006 = TeamCommonRoster(team_id = '1610612757', season = '2006-07')\n",
    "df_Kings2006 = TeamCommonRoster(team_id = '1610612758', season = '2006-07')\n",
    "df_Spurs2006 = TeamCommonRoster(team_id = '1610612759', season = '2006-07')\n",
    "df_Raptors2006 = TeamCommonRoster(team_id = '1610612761', season = '2006-07')\n",
    "df_Jazz2006 = TeamCommonRoster(team_id = '1610612762', season = '2006-07')\n",
    "df_Wizards2006 = TeamCommonRoster(team_id = '1610612764', season = '2006-07')"
   ]
  },
  {
   "cell_type": "code",
   "execution_count": null,
   "metadata": {
    "collapsed": true
   },
   "outputs": [],
   "source": [
    "#2007 rosters for all the teams\n",
    "\n",
    "\n",
    "df_Hawks2007 = TeamCommonRoster(team_id = '1610612737', season = '2007-08')\n",
    "df_Celtics2007 = TeamCommonRoster(team_id = '1610612738', season = '2007-08')\n",
    "df_Nets2007 = TeamCommonRoster(team_id = '1610612751', season = '2007-08')\n",
    "df_Hornets2007 = TeamCommonRoster(team_id = '1610612766', season = '2007-08')\n",
    "df_Bulls2007 = TeamCommonRoster(team_id = '1610612741', season = '2007-08')\n",
    "df_Cavaliers2007 = TeamCommonRoster(team_id = '1610612739', season = '2007-08')\n",
    "df_Mavericks2007 = TeamCommonRoster(team_id = '1610612742', season = '2007-08')\n",
    "df_Nuggets2007 = TeamCommonRoster(team_id = '1610612743', season = '2007-08')\n",
    "df_Pistons2007 = TeamCommonRoster(team_id = '1610612765', season = '2007-08')\n",
    "df_Warriors2007 = TeamCommonRoster(team_id = '1610612744', season = '2007-08')\n",
    "df_Rockets2007 = TeamCommonRoster(team_id = '1610612745', season = '2007-08')\n",
    "df_Pacers2007 = TeamCommonRoster(team_id = '1610612754', season = '2007-08')\n",
    "df_Clippers2007 = TeamCommonRoster(team_id = '1610612746', season = '2007-08')\n",
    "df_Lakers2007 = TeamCommonRoster(team_id = '1610612747', season = '2007-08')\n",
    "df_Grizzlies2007 = TeamCommonRoster(team_id = '1610612763', season = '2007-08')\n",
    "df_Heat2007 = TeamCommonRoster(team_id = '1610612748', season = '2007-08')\n",
    "df_Bucks2007 = TeamCommonRoster(team_id = '1610612749', season = '2007-08')\n",
    "df_Timberwolves2007 = TeamCommonRoster(team_id = '1610612750', season = '2007-08')\n",
    "df_Pelicans2007 = TeamCommonRoster(team_id = '1610612740', season = '2007-08')\n",
    "df_Knicks2007 = TeamCommonRoster(team_id = '1610612752', season = '2007-08')\n",
    "df_Thunder2007 = TeamCommonRoster(team_id = '1610612760', season = '2007-08')\n",
    "df_Magic2007 = TeamCommonRoster(team_id = '1610612753', season = '2007-08')\n",
    "df_Sixers2007 = TeamCommonRoster(team_id = '1610612755', season = '2007-08')\n",
    "df_Suns2007 = TeamCommonRoster(team_id = '1610612756', season = '2007-08')\n",
    "df_TrailBlazers2007 = TeamCommonRoster(team_id = '1610612757', season = '2007-08')\n",
    "df_Kings2007 = TeamCommonRoster(team_id = '1610612758', season = '2007-08')\n",
    "df_Spurs2007 = TeamCommonRoster(team_id = '1610612759', season = '2007-08')\n",
    "df_Raptors2007 = TeamCommonRoster(team_id = '1610612761', season = '2007-08')\n",
    "df_Jazz2007 = TeamCommonRoster(team_id = '1610612762', season = '2007-08')\n",
    "df_Wizards2007 = TeamCommonRoster(team_id = '1610612764', season = '2007-08')"
   ]
  },
  {
   "cell_type": "code",
   "execution_count": null,
   "metadata": {
    "collapsed": true
   },
   "outputs": [],
   "source": [
    "#2008 rosters for all the teams\n",
    "\n",
    "\n",
    "df_Hawks2008 = TeamCommonRoster(team_id = '1610612737', season = '2008-09')\n",
    "df_Celtics2008 = TeamCommonRoster(team_id = '1610612738', season = '2008-09')\n",
    "df_Nets2008 = TeamCommonRoster(team_id = '1610612751', season = '2008-09')\n",
    "df_Hornets2008 = TeamCommonRoster(team_id = '1610612766', season = '2008-09')\n",
    "df_Bulls2008 = TeamCommonRoster(team_id = '1610612741', season = '2008-09')\n",
    "df_Cavaliers2008 = TeamCommonRoster(team_id = '1610612739', season = '2008-09')\n",
    "df_Mavericks2008 = TeamCommonRoster(team_id = '1610612742', season = '2008-09')\n",
    "df_Nuggets2008 = TeamCommonRoster(team_id = '1610612743', season = '2008-09')\n",
    "df_Pistons2008 = TeamCommonRoster(team_id = '1610612765', season = '2008-09')\n",
    "df_Warriors2008 = TeamCommonRoster(team_id = '1610612744', season = '2008-09')\n",
    "df_Rockets2008 = TeamCommonRoster(team_id = '1610612745', season = '2008-09')\n",
    "df_Pacers2008 = TeamCommonRoster(team_id = '1610612754', season = '2008-09')\n",
    "df_Clippers2008 = TeamCommonRoster(team_id = '1610612746', season = '2008-09')\n",
    "df_Lakers2008 = TeamCommonRoster(team_id = '1610612747', season = '2008-09')\n",
    "df_Grizzlies2008 = TeamCommonRoster(team_id = '1610612763', season = '2008-09')\n",
    "df_Heat2008 = TeamCommonRoster(team_id = '1610612748', season = '2008-09')\n",
    "df_Bucks2008 = TeamCommonRoster(team_id = '1610612749', season = '2008-09')\n",
    "df_Timberwolves2008 = TeamCommonRoster(team_id = '1610612750', season = '2008-09')\n",
    "df_Pelicans2008 = TeamCommonRoster(team_id = '1610612740', season = '2008-09')\n",
    "df_Knicks2008 = TeamCommonRoster(team_id = '1610612752', season = '2008-09')\n",
    "df_Thunder2008 = TeamCommonRoster(team_id = '1610612760', season = '2008-09')\n",
    "df_Magic2008 = TeamCommonRoster(team_id = '1610612753', season = '2008-09')\n",
    "df_Sixers2008 = TeamCommonRoster(team_id = '1610612755', season = '2008-09')\n",
    "df_Suns2008 = TeamCommonRoster(team_id = '1610612756', season = '2008-09')\n",
    "df_TrailBlazers2008 = TeamCommonRoster(team_id = '1610612757', season = '2008-09')\n",
    "df_Kings2008 = TeamCommonRoster(team_id = '1610612758', season = '2008-09')\n",
    "df_Spurs2008 = TeamCommonRoster(team_id = '1610612759', season = '2008-09')\n",
    "df_Raptors2008 = TeamCommonRoster(team_id = '1610612761', season = '2008-09')\n",
    "df_Jazz2008 = TeamCommonRoster(team_id = '1610612762', season = '2008-09')\n",
    "df_Wizards2008 = TeamCommonRoster(team_id = '1610612764', season = '2008-09')"
   ]
  },
  {
   "cell_type": "code",
   "execution_count": null,
   "metadata": {
    "collapsed": true
   },
   "outputs": [],
   "source": [
    "#2009 rosters for all the teams\n",
    "\n",
    "\n",
    "df_Hawks2009 = TeamCommonRoster(team_id = '1610612737', season = '2009-10')\n",
    "df_Celtics2009 = TeamCommonRoster(team_id = '1610612738', season = '2009-10')\n",
    "df_Nets2009 = TeamCommonRoster(team_id = '1610612751', season = '2009-10')\n",
    "df_Hornets2009 = TeamCommonRoster(team_id = '1610612766', season = '2009-10')\n",
    "df_Bulls2009 = TeamCommonRoster(team_id = '1610612741', season = '2009-10')\n",
    "df_Cavaliers2009 = TeamCommonRoster(team_id = '1610612739', season = '2009-10')\n",
    "df_Mavericks2009 = TeamCommonRoster(team_id = '1610612742', season = '2009-10')\n",
    "df_Nuggets2009 = TeamCommonRoster(team_id = '1610612743', season = '2009-10')\n",
    "df_Pistons2009 = TeamCommonRoster(team_id = '1610612765', season = '2009-10')\n",
    "df_Warriors2009 = TeamCommonRoster(team_id = '1610612744', season = '2009-10')\n",
    "df_Rockets2009 = TeamCommonRoster(team_id = '1610612745', season = '2009-10')\n",
    "df_Pacers2009 = TeamCommonRoster(team_id = '1610612754', season = '2009-10')\n",
    "df_Clippers2009 = TeamCommonRoster(team_id = '1610612746', season = '2009-10')\n",
    "df_Lakers2009 = TeamCommonRoster(team_id = '1610612747', season = '2009-10')\n",
    "df_Grizzlies2009 = TeamCommonRoster(team_id = '1610612763', season = '2009-10')\n",
    "df_Heat2009 = TeamCommonRoster(team_id = '1610612748', season = '2009-10')\n",
    "df_Bucks2009 = TeamCommonRoster(team_id = '1610612749', season = '2009-10')\n",
    "df_Timberwolves2009 = TeamCommonRoster(team_id = '1610612750', season = '2009-10')\n",
    "df_Pelicans2009 = TeamCommonRoster(team_id = '1610612740', season = '2009-10')\n",
    "df_Knicks2009 = TeamCommonRoster(team_id = '1610612752', season = '2009-10')\n",
    "df_Thunder2009 = TeamCommonRoster(team_id = '1610612760', season = '2009-10')\n",
    "df_Magic2009 = TeamCommonRoster(team_id = '1610612753', season = '2009-10')\n",
    "df_Sixers2009 = TeamCommonRoster(team_id = '1610612755', season = '2009-10')\n",
    "df_Suns2009 = TeamCommonRoster(team_id = '1610612756', season = '2009-10')\n",
    "df_TrailBlazers2009 = TeamCommonRoster(team_id = '1610612757', season = '2009-10')\n",
    "df_Kings2009 = TeamCommonRoster(team_id = '1610612758', season = '2009-10')\n",
    "df_Spurs2009 = TeamCommonRoster(team_id = '1610612759', season = '2009-10')\n",
    "df_Raptors2009 = TeamCommonRoster(team_id = '1610612761', season = '2009-10')\n",
    "df_Jazz2009 = TeamCommonRoster(team_id = '1610612762', season = '2009-10')\n",
    "df_Wizards2009 = TeamCommonRoster(team_id = '1610612764', season = '2009-10')"
   ]
  },
  {
   "cell_type": "code",
   "execution_count": null,
   "metadata": {
    "collapsed": true
   },
   "outputs": [],
   "source": [
    "#2010 rosters for all the teams\n",
    "\n",
    "\n",
    "df_Hawks2010 = TeamCommonRoster(team_id = '1610612737', season = '2010-11')\n",
    "df_Celtics2010 = TeamCommonRoster(team_id = '1610612738', season = '2010-11')\n",
    "df_Nets2010 = TeamCommonRoster(team_id = '1610612751', season = '2010-11')\n",
    "df_Hornets2010 = TeamCommonRoster(team_id = '1610612766', season = '2010-11')\n",
    "df_Bulls2010 = TeamCommonRoster(team_id = '1610612741', season = '2010-11')\n",
    "df_Cavaliers2010 = TeamCommonRoster(team_id = '1610612739', season = '2010-11')\n",
    "df_Mavericks2010 = TeamCommonRoster(team_id = '1610612742', season = '2010-11')\n",
    "df_Nuggets2010 = TeamCommonRoster(team_id = '1610612743', season = '2010-11')\n",
    "df_Pistons2010 = TeamCommonRoster(team_id = '1610612765', season = '2010-11')\n",
    "df_Warriors2010 = TeamCommonRoster(team_id = '1610612744', season = '2010-11')\n",
    "df_Rockets2010 = TeamCommonRoster(team_id = '1610612745', season = '2010-11')\n",
    "df_Pacers2010 = TeamCommonRoster(team_id = '1610612754', season = '2010-11')\n",
    "df_Clippers2010 = TeamCommonRoster(team_id = '1610612746', season = '2010-11')\n",
    "df_Lakers2010 = TeamCommonRoster(team_id = '1610612747', season = '2010-11')\n",
    "df_Grizzlies2010 = TeamCommonRoster(team_id = '1610612763', season = '2010-11')\n",
    "df_Heat2010 = TeamCommonRoster(team_id = '1610612748', season = '2010-11')\n",
    "df_Bucks2010 = TeamCommonRoster(team_id = '1610612749', season = '2010-11')\n",
    "df_Timberwolves2010 = TeamCommonRoster(team_id = '1610612750', season = '2010-11')\n",
    "df_Pelicans2010 = TeamCommonRoster(team_id = '1610612740', season = '2010-11')\n",
    "df_Knicks2010 = TeamCommonRoster(team_id = '1610612752', season = '2010-11')\n",
    "df_Thunder2010 = TeamCommonRoster(team_id = '1610612760', season = '2010-11')\n",
    "df_Magic2010 = TeamCommonRoster(team_id = '1610612753', season = '2010-11')\n",
    "df_Sixers2010 = TeamCommonRoster(team_id = '1610612755', season = '2010-11')\n",
    "df_Suns2010 = TeamCommonRoster(team_id = '1610612756', season = '2010-11')\n",
    "df_TrailBlazers2010 = TeamCommonRoster(team_id = '1610612757', season = '2010-11')\n",
    "df_Kings2010 = TeamCommonRoster(team_id = '1610612758', season = '2010-11')\n",
    "df_Spurs2010 = TeamCommonRoster(team_id = '1610612759', season = '2010-11')\n",
    "df_Raptors2010 = TeamCommonRoster(team_id = '1610612761', season = '2010-11')\n",
    "df_Jazz2010 = TeamCommonRoster(team_id = '1610612762', season = '2010-11')\n",
    "df_Wizards2010 = TeamCommonRoster(team_id = '1610612764', season = '2010-11')"
   ]
  },
  {
   "cell_type": "code",
   "execution_count": null,
   "metadata": {
    "collapsed": true
   },
   "outputs": [],
   "source": [
    "#2011 rosters for all the teams\n",
    "\n",
    "\n",
    "df_Hawks2011 = TeamCommonRoster(team_id = '1610612737', season = '2011-12')\n",
    "df_Celtics2011 = TeamCommonRoster(team_id = '1610612738', season = '2011-12')\n",
    "df_Nets2011 = TeamCommonRoster(team_id = '1610612751', season = '2011-12')\n",
    "df_Hornets2011 = TeamCommonRoster(team_id = '1610612766', season = '2011-12')\n",
    "df_Bulls2011 = TeamCommonRoster(team_id = '1610612741', season = '2011-12')\n",
    "df_Cavaliers2011 = TeamCommonRoster(team_id = '1610612739', season = '2011-12')\n",
    "df_Mavericks2011 = TeamCommonRoster(team_id = '1610612742', season = '2011-12')\n",
    "df_Nuggets2011 = TeamCommonRoster(team_id = '1610612743', season = '2011-12')\n",
    "df_Pistons2011 = TeamCommonRoster(team_id = '1610612765', season = '2011-12')\n",
    "df_Warriors2011 = TeamCommonRoster(team_id = '1610612744', season = '2011-12')\n",
    "df_Rockets2011 = TeamCommonRoster(team_id = '1610612745', season = '2011-12')\n",
    "df_Pacers2011 = TeamCommonRoster(team_id = '1610612754', season = '2011-12')\n",
    "df_Clippers2011 = TeamCommonRoster(team_id = '1610612746', season = '2011-12')\n",
    "df_Lakers2011 = TeamCommonRoster(team_id = '1610612747', season = '2011-12')\n",
    "df_Grizzlies2011 = TeamCommonRoster(team_id = '1610612763', season = '2011-12')\n",
    "df_Heat2011 = TeamCommonRoster(team_id = '1610612748', season = '2011-12')\n",
    "df_Bucks2011 = TeamCommonRoster(team_id = '1610612749', season = '2011-12')\n",
    "df_Timberwolves2011 = TeamCommonRoster(team_id = '1610612750', season = '2011-12')\n",
    "df_Pelicans2011 = TeamCommonRoster(team_id = '1610612740', season = '2011-12')\n",
    "df_Knicks2011 = TeamCommonRoster(team_id = '1610612752', season = '2011-12')\n",
    "df_Thunder2011 = TeamCommonRoster(team_id = '1610612760', season = '2011-12')\n",
    "df_Magic2011 = TeamCommonRoster(team_id = '1610612753', season = '2011-12')\n",
    "df_Sixers2011 = TeamCommonRoster(team_id = '1610612755', season = '2011-12')\n",
    "df_Suns2011 = TeamCommonRoster(team_id = '1610612756', season = '2011-12')\n",
    "df_TrailBlazers2011 = TeamCommonRoster(team_id = '1610612757', season = '2011-12')\n",
    "df_Kings2011 = TeamCommonRoster(team_id = '1610612758', season = '2011-12')\n",
    "df_Spurs2011 = TeamCommonRoster(team_id = '1610612759', season = '2011-12')\n",
    "df_Raptors2011 = TeamCommonRoster(team_id = '1610612761', season = '2011-12')\n",
    "df_Jazz2011 = TeamCommonRoster(team_id = '1610612762', season = '2011-12')\n",
    "df_Wizards2011 = TeamCommonRoster(team_id = '1610612764', season = '2011-12')"
   ]
  },
  {
   "cell_type": "code",
   "execution_count": null,
   "metadata": {
    "collapsed": true
   },
   "outputs": [],
   "source": [
    "#2012 rosters for all the teams\n",
    "\n",
    "\n",
    "df_Hawks2012 = TeamCommonRoster(team_id = '1610612737', season = '2012-13')\n",
    "df_Celtics2012 = TeamCommonRoster(team_id = '1610612738', season = '2012-13')\n",
    "df_Nets2012 = TeamCommonRoster(team_id = '1610612751', season = '2012-13')\n",
    "df_Hornets2012 = TeamCommonRoster(team_id = '1610612766', season = '2012-13')\n",
    "df_Bulls2012 = TeamCommonRoster(team_id = '1610612741', season = '2012-13')\n",
    "df_Cavaliers2012 = TeamCommonRoster(team_id = '1610612739', season = '2012-13')\n",
    "df_Mavericks2012 = TeamCommonRoster(team_id = '1610612742', season = '2012-13')\n",
    "df_Nuggets2012 = TeamCommonRoster(team_id = '1610612743', season = '2012-13')\n",
    "df_Pistons2012 = TeamCommonRoster(team_id = '1610612765', season = '2012-13')\n",
    "df_Warriors2012 = TeamCommonRoster(team_id = '1610612744', season = '2012-13')\n",
    "df_Rockets2012 = TeamCommonRoster(team_id = '1610612745', season = '2012-13')\n",
    "df_Pacers2012 = TeamCommonRoster(team_id = '1610612754', season = '2012-13')\n",
    "df_Clippers2012 = TeamCommonRoster(team_id = '1610612746', season = '2012-13')\n",
    "df_Lakers2012 = TeamCommonRoster(team_id = '1610612747', season = '2012-13')\n",
    "df_Grizzlies2012 = TeamCommonRoster(team_id = '1610612763', season = '2012-13')\n",
    "df_Heat2012 = TeamCommonRoster(team_id = '1610612748', season = '2012-13')\n",
    "df_Bucks2012 = TeamCommonRoster(team_id = '1610612749', season = '2012-13')\n",
    "df_Timberwolves2012 = TeamCommonRoster(team_id = '1610612750', season = '2012-13')\n",
    "df_Pelicans2012 = TeamCommonRoster(team_id = '1610612740', season = '2012-13')\n",
    "df_Knicks2012 = TeamCommonRoster(team_id = '1610612752', season = '2012-13')\n",
    "df_Thunder2012 = TeamCommonRoster(team_id = '1610612760', season = '2012-13')\n",
    "df_Magic2012 = TeamCommonRoster(team_id = '1610612753', season = '2012-13')\n",
    "df_Sixers2012 = TeamCommonRoster(team_id = '1610612755', season = '2012-13')\n",
    "df_Suns2012 = TeamCommonRoster(team_id = '1610612756', season = '2012-13')\n",
    "df_TrailBlazers2012 = TeamCommonRoster(team_id = '1610612757', season = '2012-13')\n",
    "df_Kings2012 = TeamCommonRoster(team_id = '1610612758', season = '2012-13')\n",
    "df_Spurs2012 = TeamCommonRoster(team_id = '1610612759', season = '2012-13')\n",
    "df_Raptors2012 = TeamCommonRoster(team_id = '1610612761', season = '2012-13')\n",
    "df_Jazz2012 = TeamCommonRoster(team_id = '1610612762', season = '2012-13')\n",
    "df_Wizards2012 = TeamCommonRoster(team_id = '1610612764', season = '2012-13')"
   ]
  },
  {
   "cell_type": "code",
   "execution_count": null,
   "metadata": {
    "collapsed": true
   },
   "outputs": [],
   "source": [
    "#2013 rosters for all the teams\n",
    "\n",
    "\n",
    "df_Hawks2013 = TeamCommonRoster(team_id = '1610612737', season = '2013-14')\n",
    "df_Celtics2013 = TeamCommonRoster(team_id = '1610612738', season = '2013-14')\n",
    "df_Nets2013 = TeamCommonRoster(team_id = '1610612751', season = '2013-14')\n",
    "df_Hornets2013 = TeamCommonRoster(team_id = '1610612766', season = '2013-14')\n",
    "df_Bulls2013 = TeamCommonRoster(team_id = '1610612741', season = '2013-14')\n",
    "df_Cavaliers2013 = TeamCommonRoster(team_id = '1610612739', season = '2013-14')\n",
    "df_Mavericks2013 = TeamCommonRoster(team_id = '1610612742', season = '2013-14')\n",
    "df_Nuggets2013 = TeamCommonRoster(team_id = '1610612743', season = '2013-14')\n",
    "df_Pistons2013 = TeamCommonRoster(team_id = '1610612765', season = '2013-14')\n",
    "df_Warriors2013 = TeamCommonRoster(team_id = '1610612744', season = '2013-14')\n",
    "df_Rockets2013 = TeamCommonRoster(team_id = '1610612745', season = '2013-14')\n",
    "df_Pacers2013 = TeamCommonRoster(team_id = '1610612754', season = '2013-14')\n",
    "df_Clippers2013 = TeamCommonRoster(team_id = '1610612746', season = '2013-14')\n",
    "df_Lakers2013 = TeamCommonRoster(team_id = '1610612747', season = '2013-14')\n",
    "df_Grizzlies2013 = TeamCommonRoster(team_id = '1610612763', season = '2013-14')\n",
    "df_Heat2013 = TeamCommonRoster(team_id = '1610612748', season = '2013-14')\n",
    "df_Bucks2013 = TeamCommonRoster(team_id = '1610612749', season = '2013-14')\n",
    "df_Timberwolves2013 = TeamCommonRoster(team_id = '1610612750', season = '2013-14')\n",
    "df_Pelicans2013 = TeamCommonRoster(team_id = '1610612740', season = '2013-14')\n",
    "df_Knicks2013 = TeamCommonRoster(team_id = '1610612752', season = '2013-14')\n",
    "df_Thunder2013 = TeamCommonRoster(team_id = '1610612760', season = '2013-14')\n",
    "df_Magic2013 = TeamCommonRoster(team_id = '1610612753', season = '2013-14')\n",
    "df_Sixers2013 = TeamCommonRoster(team_id = '1610612755', season = '2013-14')\n",
    "df_Suns2013 = TeamCommonRoster(team_id = '1610612756', season = '2013-14')\n",
    "df_TrailBlazers2013 = TeamCommonRoster(team_id = '1610612757', season = '2013-14')\n",
    "df_Kings2013 = TeamCommonRoster(team_id = '1610612758', season = '2013-14')\n",
    "df_Spurs2013 = TeamCommonRoster(team_id = '1610612759', season = '2013-14')\n",
    "df_Raptors2013 = TeamCommonRoster(team_id = '1610612761', season = '2013-14')\n",
    "df_Jazz2013 = TeamCommonRoster(team_id = '1610612762', season = '2013-14')\n",
    "df_Wizards2013 = TeamCommonRoster(team_id = '1610612764', season = '2013-14')"
   ]
  },
  {
   "cell_type": "code",
   "execution_count": null,
   "metadata": {
    "collapsed": true
   },
   "outputs": [],
   "source": [
    "#df_Wizards2013.roster()"
   ]
  },
  {
   "cell_type": "code",
   "execution_count": null,
   "metadata": {
    "collapsed": true
   },
   "outputs": [],
   "source": [
    "#2014 rosters for all the teams\n",
    "\n",
    "df_Hawks2014 = TeamCommonRoster(team_id = '1610612737', season = '2014-15')\n",
    "df_Celtics2014 = TeamCommonRoster(team_id = '1610612738', season = '2014-15')\n",
    "df_Nets2014 = TeamCommonRoster(team_id = '1610612751', season = '2014-15')\n",
    "df_Hornets2014 = TeamCommonRoster(team_id = '1610612766', season = '2014-15')\n",
    "df_Bulls2014 = TeamCommonRoster(team_id = '1610612741', season = '2014-15')\n",
    "df_Cavaliers2014 = TeamCommonRoster(team_id = '1610612739', season = '2014-15')\n",
    "df_Mavericks2014 = TeamCommonRoster(team_id = '1610612742', season = '2014-15')\n",
    "df_Nuggets2014 = TeamCommonRoster(team_id = '1610612743', season = '2014-15')\n",
    "df_Pistons2014 = TeamCommonRoster(team_id = '1610612765', season = '2014-15')\n",
    "df_Warriors2014 = TeamCommonRoster(team_id = '1610612744', season = '2014-15')\n",
    "df_Rockets2014 = TeamCommonRoster(team_id = '1610612745', season = '2014-15')\n",
    "df_Pacers2014 = TeamCommonRoster(team_id = '1610612754', season = '2014-15')\n",
    "df_Clippers2014 = TeamCommonRoster(team_id = '1610612746', season = '2014-15')\n",
    "df_Lakers2014 = TeamCommonRoster(team_id = '1610612747', season = '2014-15')\n",
    "df_Grizzlies2014 = TeamCommonRoster(team_id = '1610612763', season = '2014-15')\n",
    "df_Heat2014 = TeamCommonRoster(team_id = '1610612748', season = '2014-15')\n",
    "df_Bucks2014 = TeamCommonRoster(team_id = '1610612749', season = '2014-15')\n",
    "df_Timberwolves2014 = TeamCommonRoster(team_id = '1610612750', season = '2014-15')\n",
    "df_Pelicans2014 = TeamCommonRoster(team_id = '1610612740', season = '2014-15')\n",
    "df_Knicks2014 = TeamCommonRoster(team_id = '1610612752', season = '2014-15')\n",
    "df_Thunder2014 = TeamCommonRoster(team_id = '1610612760', season = '2014-15')\n",
    "df_Magic2014 = TeamCommonRoster(team_id = '1610612753', season = '2014-15')\n",
    "df_Sixers2014 = TeamCommonRoster(team_id = '1610612755', season = '2014-15')\n",
    "df_Suns2014 = TeamCommonRoster(team_id = '1610612756', season = '2014-15')\n",
    "df_TrailBlazers2014 = TeamCommonRoster(team_id = '1610612757', season = '2014-15')\n",
    "df_Kings2014 = TeamCommonRoster(team_id = '1610612758', season = '2014-15')\n",
    "df_Spurs2014 = TeamCommonRoster(team_id = '1610612759', season = '2014-15')\n",
    "df_Raptors2014 = TeamCommonRoster(team_id = '1610612761', season = '2014-15')\n",
    "df_Jazz2014 = TeamCommonRoster(team_id = '1610612762', season = '2014-15')\n",
    "df_Wizards2014 = TeamCommonRoster(team_id = '1610612764', season = '2014-15')"
   ]
  },
  {
   "cell_type": "code",
   "execution_count": null,
   "metadata": {
    "collapsed": true
   },
   "outputs": [],
   "source": [
    "#2015 rosters for all the teams\n",
    "\n",
    "df_Hawks2013 = TeamCommonRoster(team_id = '1610612737', season = '2015-16')\n",
    "df_Celtics2015 = TeamCommonRoster(team_id = '1610612738', season = '2015-16')\n",
    "df_Nets2015 = TeamCommonRoster(team_id = '1610612751', season = '2015-16')\n",
    "df_Hornets2015 = TeamCommonRoster(team_id = '1610612766', season = '2015-16')\n",
    "df_Bulls2015 = TeamCommonRoster(team_id = '1610612741', season = '2015-16')\n",
    "df_Cavaliers2015 = TeamCommonRoster(team_id = '1610612739', season = '2015-16')\n",
    "df_Mavericks2015 = TeamCommonRoster(team_id = '1610612742', season = '2015-16')\n",
    "df_Nuggets2015 = TeamCommonRoster(team_id = '1610612743', season = '2015-16')\n",
    "df_Pistons2015 = TeamCommonRoster(team_id = '1610612765', season = '2015-16')\n",
    "df_Warriors2015 = TeamCommonRoster(team_id = '1610612744', season = '2015-16')\n",
    "df_Rockets2015 = TeamCommonRoster(team_id = '1610612745', season = '2015-16')\n",
    "df_Pacers2015 = TeamCommonRoster(team_id = '1610612754', season = '2015-16')\n",
    "df_Clippers2015 = TeamCommonRoster(team_id = '1610612746', season = '2015-16')\n",
    "df_Lakers2015 = TeamCommonRoster(team_id = '1610612747', season = '2015-16')\n",
    "df_Grizzlies2015 = TeamCommonRoster(team_id = '1610612763', season = '2015-16')\n",
    "df_Heat2015 = TeamCommonRoster(team_id = '1610612748', season = '2015-16')\n",
    "df_Bucks2015 = TeamCommonRoster(team_id = '1610612749', season = '2015-16')\n",
    "df_Timberwolves2015 = TeamCommonRoster(team_id = '1610612750', season = '2015-16')\n",
    "df_Pelicans2015 = TeamCommonRoster(team_id = '1610612740', season = '2015-16')\n",
    "df_Knicks2015 = TeamCommonRoster(team_id = '1610612752', season = '2015-16')\n",
    "df_Thunder2015 = TeamCommonRoster(team_id = '1610612760', season = '2015-16')\n",
    "df_Magic2015 = TeamCommonRoster(team_id = '1610612753', season = '2015-16')\n",
    "df_Sixers2015 = TeamCommonRoster(team_id = '1610612755', season = '2015-16')\n",
    "df_Suns2015 = TeamCommonRoster(team_id = '1610612756', season = '2015-16')\n",
    "df_TrailBlazers2015 = TeamCommonRoster(team_id = '1610612757', season = '2015-16')\n",
    "df_Kings2015 = TeamCommonRoster(team_id = '1610612758', season = '2015-16')\n",
    "df_Spurs2015 = TeamCommonRoster(team_id = '1610612759', season = '2015-16')\n",
    "df_Raptors2015 = TeamCommonRoster(team_id = '1610612761', season = '2015-16')\n",
    "df_Jazz2015 = TeamCommonRoster(team_id = '1610612762', season = '2015-16')\n",
    "df_Wizards2015 = TeamCommonRoster(team_id = '1610612764', season = '2015-16')\n"
   ]
  },
  {
   "cell_type": "code",
   "execution_count": null,
   "metadata": {
    "collapsed": true
   },
   "outputs": [],
   "source": [
    "#2016 rosters for all the teams\n",
    "\n",
    "df_Hawks2016 = TeamCommonRoster(team_id = '1610612737', season = '2016-17')\n",
    "df_Celtics2016 = TeamCommonRoster(team_id = '1610612738', season = '2016-17')\n",
    "df_Nets2016 = TeamCommonRoster(team_id = '1610612751', season = '2016-17')\n",
    "df_Hornets2016 = TeamCommonRoster(team_id = '1610612766', season = '2016-17')\n",
    "df_Bulls2016 = TeamCommonRoster(team_id = '1610612741', season = '2016-17')\n",
    "df_Cavaliers2016 = TeamCommonRoster(team_id = '1610612739', season = '2016-17')\n",
    "df_Mavericks2016 = TeamCommonRoster(team_id = '1610612742', season = '2016-17')\n",
    "df_Nuggets2016 = TeamCommonRoster(team_id = '1610612743', season = '2016-17')\n",
    "df_Pistons2016 = TeamCommonRoster(team_id = '1610612765', season = '2016-17')\n",
    "df_Warriors2016 = TeamCommonRoster(team_id = '1610612744', season = '2016-17')\n",
    "df_Rockets2016 = TeamCommonRoster(team_id = '1610612745', season = '2016-17')\n",
    "df_Pacers2016 = TeamCommonRoster(team_id = '1610612754', season = '2016-17')\n",
    "df_Clippers2016 = TeamCommonRoster(team_id = '1610612746', season = '2016-17')\n",
    "df_Lakers2016 = TeamCommonRoster(team_id = '1610612747', season = '2016-17')\n",
    "df_Grizzlies2016 = TeamCommonRoster(team_id = '1610612763', season = '2016-17')\n",
    "df_Heat2016 = TeamCommonRoster(team_id = '1610612748', season = '2016-17')\n",
    "df_Bucks2016 = TeamCommonRoster(team_id = '1610612749', season = '2016-17')\n",
    "df_Timberwolves2016 = TeamCommonRoster(team_id = '1610612750', season = '2016-17')\n",
    "df_Pelicans2016 = TeamCommonRoster(team_id = '1610612740', season = '2016-17')\n",
    "df_Knicks2016 = TeamCommonRoster(team_id = '1610612752', season = '2016-17')\n",
    "df_Thunder2016 = TeamCommonRoster(team_id = '1610612760', season = '2016-17')\n",
    "df_Magic2016 = TeamCommonRoster(team_id = '1610612753', season = '2016-17')\n",
    "df_Sixers2016 = TeamCommonRoster(team_id = '1610612755', season = '2016-17')\n",
    "df_Suns2016 = TeamCommonRoster(team_id = '1610612756', season = '2016-17')\n",
    "df_TrailBlazers2016 = TeamCommonRoster(team_id = '1610612757', season = '2016-17')\n",
    "df_Kings2016 = TeamCommonRoster(team_id = '1610612758', season = '2016-17')\n",
    "df_Spurs2016 = TeamCommonRoster(team_id = '1610612759', season = '2016-17')\n",
    "df_Raptors2016 = TeamCommonRoster(team_id = '1610612761', season = '2016-17')\n",
    "df_Jazz2016 = TeamCommonRoster(team_id = '1610612762', season = '2016-17')\n",
    "df_Wizards2016 = TeamCommonRoster(team_id = '1610612764', season = '2016-17')"
   ]
  },
  {
   "cell_type": "code",
   "execution_count": null,
   "metadata": {
    "collapsed": true
   },
   "outputs": [],
   "source": []
  },
  {
   "cell_type": "markdown",
   "metadata": {},
   "source": [
    "# Data Cleaning/Pre-processing\n",
    "\n"
   ]
  },
  {
   "cell_type": "code",
   "execution_count": null,
   "metadata": {
    "collapsed": true
   },
   "outputs": [],
   "source": [
    "# now lets store all the teams in a list to make our lives much easier\n",
    "TEAMS = ['1610612737','1610612738','1610612751','1610612766','1610612741', \n",
    "         '1610612739', '1610612742' , '1610612743', '1610612765','1610612744',\n",
    "         '1610612745', '1610612754', '1610612746', '1610612747', '1610612763', \n",
    "         '1610612748', '1610612749', '1610612750', '1610612740', '1610612752',\n",
    "         '1610612760', '1610612753', '1610612755', '1610612756', '1610612757', \n",
    "         '1610612758', '1610612759', '1610612761', '1610612762', '1610612764']\n"
   ]
  },
  {
   "cell_type": "code",
   "execution_count": null,
   "metadata": {
    "collapsed": true
   },
   "outputs": [],
   "source": [
    "#for each roster, we will be cleaning it as well as saving it to a csv file\n",
    "\n",
    "roster2000 = []\n",
    "#for team in TEAMS: #takes too long\n",
    "    #roster2000.append(TeamCommonRoster(team_id = team, season = '2000-01').roster())\n",
    "df_players2000 = df_players2000.overall()\n",
    "df_players2000 = df_players2000[df_players2000['GP'] >= 7]\n",
    "df_players2000 = df_players2000[df_players2000['MIN'] >= 5]\n",
    "for i, row in df_players2000.iterrows():\n",
    "    row['PTS'] = row['PTS']/row['MIN']\n",
    "    row['AST'] = row['AST']/row['MIN']\n",
    "    row['REB'] = row['REB']/row['MIN']\n",
    "    row['STL'] = row['STL']/row['MIN']\n",
    "    row['TOV'] = row['TOV']/row['MIN']\n",
    "rosterClean2000 = pd.DataFrame(df_players2000)\n",
    "rosterClean2000.to_csv('clean_players_2000.csv')\n",
    "    "
   ]
  },
  {
   "cell_type": "code",
   "execution_count": null,
   "metadata": {
    "collapsed": true
   },
   "outputs": [],
   "source": [
    "df_players2001 = df_players2001.overall()\n",
    "df_players2001 = df_players2001[df_players2001['GP'] >= 7]\n",
    "df_players2001 = df_players2001[df_players2001['MIN'] >= 5]\n",
    "for i, row in df_players2001.iterrows():\n",
    "    row['PTS'] = row['PTS']/row['MIN']\n",
    "    row['AST'] = row['AST']/row['MIN']\n",
    "    row['REB'] = row['REB']/row['MIN']\n",
    "    row['STL'] = row['STL']/row['MIN']\n",
    "    row['TOV'] = row['TOV']/row['MIN']\n",
    "rosterClean2001 = pd.DataFrame(df_players2001)\n",
    "rosterClean2001.to_csv('clean_players_2001.csv')"
   ]
  },
  {
   "cell_type": "code",
   "execution_count": null,
   "metadata": {
    "collapsed": true
   },
   "outputs": [],
   "source": [
    "df_players2002 = df_players2002.overall()\n",
    "df_players2002 = df_players2002[df_players2002['GP'] >= 7]\n",
    "df_players2002 = df_players2002[df_players2002['MIN'] >= 5]\n",
    "for i, row in df_players2002.iterrows():\n",
    "    row['PTS'] = row['PTS']/row['MIN']\n",
    "    row['AST'] = row['AST']/row['MIN']\n",
    "    row['REB'] = row['REB']/row['MIN']\n",
    "    row['STL'] = row['STL']/row['MIN']\n",
    "    row['TOV'] = row['TOV']/row['MIN']\n",
    "rosterClean2002 = pd.DataFrame(df_players2002)\n",
    "rosterClean2002.to_csv('clean_players_2002.csv')"
   ]
  },
  {
   "cell_type": "code",
   "execution_count": null,
   "metadata": {
    "collapsed": true
   },
   "outputs": [],
   "source": [
    "df_players2003 = df_players2003.overall()\n",
    "df_players2003 = df_players2003[df_players2003['GP'] >= 7]\n",
    "df_players2003 = df_players2003[df_players2003['MIN'] >= 5]\n",
    "for i, row in df_players2003.iterrows():\n",
    "    row['PTS'] = row['PTS']/row['MIN']\n",
    "    row['AST'] = row['AST']/row['MIN']\n",
    "    row['REB'] = row['REB']/row['MIN']\n",
    "    row['STL'] = row['STL']/row['MIN']\n",
    "    row['TOV'] = row['TOV']/row['MIN']\n",
    "rosterClean2003 = pd.DataFrame(df_players2003)\n",
    "rosterClean2003.to_csv('clean_players_2003.csv')"
   ]
  },
  {
   "cell_type": "code",
   "execution_count": null,
   "metadata": {
    "collapsed": true
   },
   "outputs": [],
   "source": [
    "df_players2004 = df_players2004.overall()\n",
    "df_players2004 = df_players2004[df_players2004['GP'] >= 7]\n",
    "df_players2004 = df_players2004[df_players2004['MIN'] >= 5]\n",
    "for i, row in df_players2004.iterrows():\n",
    "    row['PTS'] = row['PTS']/row['MIN']\n",
    "    row['AST'] = row['AST']/row['MIN']\n",
    "    row['REB'] = row['REB']/row['MIN']\n",
    "    row['STL'] = row['STL']/row['MIN']\n",
    "    row['TOV'] = row['TOV']/row['MIN']\n",
    "rosterClean2004 = pd.DataFrame(df_players2004)\n",
    "rosterClean2004.to_csv('clean_players_2004.csv')"
   ]
  },
  {
   "cell_type": "code",
   "execution_count": null,
   "metadata": {
    "collapsed": true
   },
   "outputs": [],
   "source": [
    "df_players2005 = df_players2005.overall()\n",
    "df_players2005 = df_players2005[df_players2005['GP'] >= 7]\n",
    "df_players2005 = df_players2005[df_players2005['MIN'] >= 5]\n",
    "for i, row in df_players2005.iterrows():\n",
    "    row['PTS'] = row['PTS']/row['MIN']\n",
    "    row['AST'] = row['AST']/row['MIN']\n",
    "    row['REB'] = row['REB']/row['MIN']\n",
    "    row['STL'] = row['STL']/row['MIN']\n",
    "    row['TOV'] = row['TOV']/row['MIN']\n",
    "rosterClean2005 = pd.DataFrame(df_players2005)\n",
    "rosterClean2005.to_csv('clean_players_2005.csv')"
   ]
  },
  {
   "cell_type": "code",
   "execution_count": null,
   "metadata": {
    "collapsed": true
   },
   "outputs": [],
   "source": [
    "df_players2006 = df_players2006.overall()\n",
    "df_players2006 = df_players2006[df_players2006['GP'] >= 7]\n",
    "df_players2006 = df_players2006[df_players2006['MIN'] >= 5]\n",
    "for i, row in df_players2006.iterrows():\n",
    "    row['PTS'] = row['PTS']/row['MIN']\n",
    "    row['AST'] = row['AST']/row['MIN']\n",
    "    row['REB'] = row['REB']/row['MIN']\n",
    "    row['STL'] = row['STL']/row['MIN']\n",
    "    row['TOV'] = row['TOV']/row['MIN']\n",
    "rosterClean2006 = pd.DataFrame(df_players2006)\n",
    "rosterClean2006.to_csv('clean_players_2006.csv')"
   ]
  },
  {
   "cell_type": "code",
   "execution_count": null,
   "metadata": {
    "collapsed": true
   },
   "outputs": [],
   "source": [
    "df_players2007 = df_players2007.overall()\n",
    "df_players2007 = df_players2007[df_players2007['GP'] >= 7]\n",
    "df_players2007 = df_players2007[df_players2007['MIN'] >= 5]\n",
    "for i, row in df_players2007.iterrows():\n",
    "    row['PTS'] = row['PTS']/row['MIN']\n",
    "    row['AST'] = row['AST']/row['MIN']\n",
    "    row['REB'] = row['REB']/row['MIN']\n",
    "    row['STL'] = row['STL']/row['MIN']\n",
    "    row['TOV'] = row['TOV']/row['MIN']\n",
    "rosterClean2007 = pd.DataFrame(df_players2007)\n",
    "rosterClean2007.to_csv('clean_players_2007.csv')"
   ]
  },
  {
   "cell_type": "code",
   "execution_count": null,
   "metadata": {
    "collapsed": true
   },
   "outputs": [],
   "source": [
    "df_players2008 = df_players2008.overall()\n",
    "df_players2008 = df_players2008[df_players2008['GP'] >= 7]\n",
    "df_players2008 = df_players2008[df_players2008['MIN'] >= 5]\n",
    "for i, row in df_players2008.iterrows():\n",
    "    row['PTS'] = row['PTS']/row['MIN']\n",
    "    row['AST'] = row['AST']/row['MIN']\n",
    "    row['REB'] = row['REB']/row['MIN']\n",
    "    row['STL'] = row['STL']/row['MIN']\n",
    "    row['TOV'] = row['TOV']/row['MIN']\n",
    "rosterClean2008 = pd.DataFrame(df_players2008)\n",
    "rosterClean2008.to_csv('clean_players_2008.csv')"
   ]
  },
  {
   "cell_type": "code",
   "execution_count": null,
   "metadata": {
    "collapsed": true
   },
   "outputs": [],
   "source": [
    "df_players2009 = df_players2009.overall()\n",
    "df_players2009 = df_players2009[df_players2009['GP'] >= 7]\n",
    "df_players2009 = df_players2009[df_players2009['MIN'] >= 5]\n",
    "for i, row in df_players2009.iterrows():\n",
    "    row['PTS'] = row['PTS']/row['MIN']\n",
    "    row['AST'] = row['AST']/row['MIN']\n",
    "    row['REB'] = row['REB']/row['MIN']\n",
    "    row['STL'] = row['STL']/row['MIN']\n",
    "    row['TOV'] = row['TOV']/row['MIN']\n",
    "rosterClean2009 = pd.DataFrame(df_players2009)\n",
    "rosterClean2009.to_csv('clean_players_2009.csv')"
   ]
  },
  {
   "cell_type": "code",
   "execution_count": null,
   "metadata": {
    "collapsed": true
   },
   "outputs": [],
   "source": [
    "df_players2010 = df_players2010.overall()\n",
    "df_players2010 = df_players2010[df_players2010['GP'] >= 7]\n",
    "df_players2010 = df_players2010[df_players2010['MIN'] >= 5]\n",
    "for i, row in df_players2010.iterrows():\n",
    "    row['PTS'] = row['PTS']/row['MIN']\n",
    "    row['AST'] = row['AST']/row['MIN']\n",
    "    row['REB'] = row['REB']/row['MIN']\n",
    "    row['STL'] = row['STL']/row['MIN']\n",
    "    row['TOV'] = row['TOV']/row['MIN']\n",
    "rosterClean2010 = pd.DataFrame(df_players2010)\n",
    "rosterClean2010.to_csv('clean_players_2010.csv')"
   ]
  },
  {
   "cell_type": "code",
   "execution_count": null,
   "metadata": {
    "collapsed": true
   },
   "outputs": [],
   "source": [
    "df_players2011 = df_players2011.overall()\n",
    "df_players2011 = df_players2011[df_players2011['GP'] >= 7]\n",
    "df_players2011 = df_players2011[df_players2011['MIN'] >= 5]\n",
    "for i, row in df_players2011.iterrows():\n",
    "    row['PTS'] = row['PTS']/row['MIN']\n",
    "    row['AST'] = row['AST']/row['MIN']\n",
    "    row['REB'] = row['REB']/row['MIN']\n",
    "    row['STL'] = row['STL']/row['MIN']\n",
    "    row['TOV'] = row['TOV']/row['MIN']\n",
    "rosterClean2011 = pd.DataFrame(df_players2011)\n",
    "rosterClean2011.to_csv('clean_players_2011.csv')"
   ]
  },
  {
   "cell_type": "code",
   "execution_count": null,
   "metadata": {
    "collapsed": true
   },
   "outputs": [],
   "source": [
    "df_players2012 = df_players2012.overall()\n",
    "df_players2012 = df_players2012[df_players2012['GP'] >= 7]\n",
    "df_players2012 = df_players2012[df_players2012['MIN'] >= 5]\n",
    "for i, row in df_players2012.iterrows():\n",
    "    row['PTS'] = row['PTS']/row['MIN']\n",
    "    row['AST'] = row['AST']/row['MIN']\n",
    "    row['REB'] = row['REB']/row['MIN']\n",
    "    row['STL'] = row['STL']/row['MIN']\n",
    "    row['TOV'] = row['TOV']/row['MIN']\n",
    "rosterClean2012 = pd.DataFrame(df_players2012)\n",
    "rosterClean2012.to_csv('clean_players_2012.csv')"
   ]
  },
  {
   "cell_type": "code",
   "execution_count": null,
   "metadata": {
    "collapsed": true
   },
   "outputs": [],
   "source": [
    "df_players2013 = df_players2013.overall()\n",
    "df_players2013 = df_players2013[df_players2013['GP'] >= 7]\n",
    "df_players2013 = df_players2013[df_players2013['MIN'] >= 5]\n",
    "for i, row in df_players2013.iterrows():\n",
    "    row['PTS'] = row['PTS']/row['MIN']\n",
    "    row['AST'] = row['AST']/row['MIN']\n",
    "    row['REB'] = row['REB']/row['MIN']\n",
    "    row['STL'] = row['STL']/row['MIN']\n",
    "    row['TOV'] = row['TOV']/row['MIN']\n",
    "rosterClean2013 = pd.DataFrame(df_players2013)\n",
    "rosterClean2013.to_csv('clean_players_2013.csv')"
   ]
  },
  {
   "cell_type": "code",
   "execution_count": null,
   "metadata": {
    "collapsed": true
   },
   "outputs": [],
   "source": [
    "df_players2014 = df_players2014.overall()\n",
    "df_players2014 = df_players2014[df_players2014['GP'] >= 7]\n",
    "df_players2014 = df_players2014[df_players2014['MIN'] >= 5]\n",
    "for i, row in df_players2014.iterrows():\n",
    "    row['PTS'] = row['PTS']/row['MIN']\n",
    "    row['AST'] = row['AST']/row['MIN']\n",
    "    row['REB'] = row['REB']/row['MIN']\n",
    "    row['STL'] = row['STL']/row['MIN']\n",
    "    row['TOV'] = row['TOV']/row['MIN']\n",
    "rosterClean2014 = pd.DataFrame(df_players2014)\n",
    "rosterClean2014.to_csv('clean_players_2014.csv')"
   ]
  },
  {
   "cell_type": "code",
   "execution_count": null,
   "metadata": {
    "collapsed": true
   },
   "outputs": [],
   "source": [
    "df_players2015 = df_players2015.overall()\n",
    "df_players2015 = df_players2015[df_players2015['GP'] >= 7]\n",
    "df_players2015 = df_players2015[df_players2015['MIN'] >= 5]\n",
    "for i, row in df_players2015.iterrows():\n",
    "    row['PTS'] = row['PTS']/row['MIN']\n",
    "    row['AST'] = row['AST']/row['MIN']\n",
    "    row['REB'] = row['REB']/row['MIN']\n",
    "    row['STL'] = row['STL']/row['MIN']\n",
    "    row['TOV'] = row['TOV']/row['MIN']\n",
    "rosterClean2015 = pd.DataFrame(df_players2015)\n",
    "rosterClean2015.to_csv('clean_players_2015.csv')"
   ]
  },
  {
   "cell_type": "code",
   "execution_count": null,
   "metadata": {
    "collapsed": true
   },
   "outputs": [],
   "source": [
    "df_players2016 = df_players2016.overall()\n",
    "df_players2016 = df_players2016[df_players2016['GP'] >= 7]\n",
    "df_players2016 = df_players2016[df_players2016['MIN'] >= 5]\n",
    "for i, row in df_players2016.iterrows():\n",
    "    row['PTS'] = row['PTS']/row['MIN']\n",
    "    row['AST'] = row['AST']/row['MIN']\n",
    "    row['REB'] = row['REB']/row['MIN']\n",
    "    row['STL'] = row['STL']/row['MIN']\n",
    "    row['TOV'] = row['TOV']/row['MIN']\n",
    "rosterClean2016 = pd.DataFrame(df_players2016)\n",
    "rosterClean2016.to_csv('clean_players_2016.csv')"
   ]
  },
  {
   "cell_type": "code",
   "execution_count": null,
   "metadata": {
    "collapsed": true
   },
   "outputs": [],
   "source": [
    "#Lets make a dataframe and rank each player. This will eventually be used to filter out all top 8 teams\n",
    "\n",
    "df_RANK2000 = pd.DataFrame()\n",
    "for team in TEAMS:\n",
    "    df_RANK2000 = df_RANK2000.append(TeamStats(team_id = team, season ='2000-01').overall())\n",
    "\n",
    "#df_Rank2000 = pd.DataFrame()\n",
    "#df_RANK2000 = df_RANK2000.append(TeamStats(team_id = '1610612737', season ='2000-01').overall())\n"
   ]
  },
  {
   "cell_type": "code",
   "execution_count": null,
   "metadata": {
    "collapsed": true
   },
   "outputs": [],
   "source": [
    "df_RANK2001 = pd.DataFrame()\n",
    "for team in TEAMS:\n",
    "    df_RANK2001 = df_RANK2001.append(TeamStats(team_id = team, season ='2001-02').overall())"
   ]
  },
  {
   "cell_type": "code",
   "execution_count": null,
   "metadata": {
    "collapsed": true
   },
   "outputs": [],
   "source": [
    "df_RANK2002 = pd.DataFrame()\n",
    "for team in TEAMS:\n",
    "    df_RANK2002 = df_RANK2002.append(TeamStats(team_id = team, season ='2002-03').overall())"
   ]
  },
  {
   "cell_type": "code",
   "execution_count": null,
   "metadata": {
    "collapsed": true
   },
   "outputs": [],
   "source": [
    "df_RANK2003 = pd.DataFrame()\n",
    "for team in TEAMS:\n",
    "    df_RANK2003 = df_RANK2003.append(TeamStats(team_id = team, season ='2003-04').overall())"
   ]
  },
  {
   "cell_type": "code",
   "execution_count": null,
   "metadata": {
    "collapsed": true
   },
   "outputs": [],
   "source": [
    "df_RANK2004 = pd.DataFrame()\n",
    "for team in TEAMS:\n",
    "    df_RANK2004 = df_RANK2004.append(TeamStats(team_id = team, season ='2004-05').overall())"
   ]
  },
  {
   "cell_type": "code",
   "execution_count": null,
   "metadata": {
    "collapsed": true
   },
   "outputs": [],
   "source": [
    "df_RANK2005 = pd.DataFrame()\n",
    "for team in TEAMS:\n",
    "    df_RANK2005 = df_RANK2005.append(TeamStats(team_id = team, season ='2005-06').overall())"
   ]
  },
  {
   "cell_type": "code",
   "execution_count": null,
   "metadata": {
    "collapsed": true
   },
   "outputs": [],
   "source": [
    "df_RANK2006 = pd.DataFrame()\n",
    "for team in TEAMS:\n",
    "    df_RANK2006 = df_RANK2006.append(TeamStats(team_id = team, season ='2006-07').overall())"
   ]
  },
  {
   "cell_type": "code",
   "execution_count": null,
   "metadata": {
    "collapsed": true
   },
   "outputs": [],
   "source": [
    "df_RANK2007 = pd.DataFrame()\n",
    "for team in TEAMS:\n",
    "    df_RANK2007 = df_RANK2007.append(TeamStats(team_id = team, season ='2007-08').overall())"
   ]
  },
  {
   "cell_type": "code",
   "execution_count": null,
   "metadata": {
    "collapsed": true
   },
   "outputs": [],
   "source": [
    "df_RANK2008 = pd.DataFrame()\n",
    "for team in TEAMS:\n",
    "    df_RANK2008 = df_RANK2008.append(TeamStats(team_id = team, season ='2008-09').overall())"
   ]
  },
  {
   "cell_type": "code",
   "execution_count": null,
   "metadata": {
    "collapsed": true
   },
   "outputs": [],
   "source": [
    "df_RANK2009 = pd.DataFrame()\n",
    "for team in TEAMS:\n",
    "    df_RANK2009 = df_RANK2009.append(TeamStats(team_id = team, season ='2009-10').overall())"
   ]
  },
  {
   "cell_type": "code",
   "execution_count": null,
   "metadata": {
    "collapsed": true
   },
   "outputs": [],
   "source": [
    "df_RANK2010 = pd.DataFrame()\n",
    "for team in TEAMS:\n",
    "    df_RANK2010 = df_RANK2010.append(TeamStats(team_id = team, season ='2010-11').overall())"
   ]
  },
  {
   "cell_type": "code",
   "execution_count": null,
   "metadata": {
    "collapsed": true
   },
   "outputs": [],
   "source": [
    "df_RANK2011 = pd.DataFrame()\n",
    "for team in TEAMS:\n",
    "    df_RANK2011 = df_RANK2011.append(TeamStats(team_id = team, season ='2011-12').overall())"
   ]
  },
  {
   "cell_type": "code",
   "execution_count": null,
   "metadata": {
    "collapsed": true
   },
   "outputs": [],
   "source": [
    "df_RANK2012 = pd.DataFrame()\n",
    "for team in TEAMS:\n",
    "    df_RANK2012 = df_RANK2012.append(TeamStats(team_id = team, season ='2012-13').overall())"
   ]
  },
  {
   "cell_type": "code",
   "execution_count": null,
   "metadata": {
    "collapsed": true
   },
   "outputs": [],
   "source": [
    "df_RANK2013 = pd.DataFrame()\n",
    "for team in TEAMS:\n",
    "    df_RANK2013 = df_RANK2013.append(TeamStats(team_id = team, season ='2013-14').overall())"
   ]
  },
  {
   "cell_type": "code",
   "execution_count": null,
   "metadata": {
    "collapsed": true
   },
   "outputs": [],
   "source": [
    "df_RANK2014 = pd.DataFrame()\n",
    "for team in TEAMS:\n",
    "    df_RANK2014 = df_RANK2014.append(TeamStats(team_id = team, season ='2014-15').overall())"
   ]
  },
  {
   "cell_type": "code",
   "execution_count": null,
   "metadata": {
    "collapsed": true
   },
   "outputs": [],
   "source": [
    "df_RANK2015 = pd.DataFrame()\n",
    "for team in TEAMS:\n",
    "    df_RANK2015 = df_RANK2015.append(TeamStats(team_id = team, season ='2015-16').overall())"
   ]
  },
  {
   "cell_type": "code",
   "execution_count": null,
   "metadata": {
    "collapsed": true
   },
   "outputs": [],
   "source": [
    "df_RANK2016 = pd.DataFrame()\n",
    "for team in TEAMS:\n",
    "    df_RANK2016 = df_RANK2016.append(TeamStats(team_id = team, season ='2016-17').overall())"
   ]
  },
  {
   "cell_type": "code",
   "execution_count": null,
   "metadata": {
    "collapsed": true
   },
   "outputs": [],
   "source": [
    "#Now we will sort all the teams into wins(we will use # of wins to determine the \"best\" teams of the season)\n",
    "\n",
    "\n",
    "#type(df_Rank2000)\n",
    "#df_RANK2000\n",
    "#df_RANK2000sort = df_RANK2000.sort_values(by= str, axis = df_RANK2000['3'], inplace=False)\n",
    "df_RANK2000sort = df_RANK2000.sort_values(by=['W'], ascending=False)\n",
    "df_RANK2001sort = df_RANK2001.sort_values(by=['W'], ascending=False)\n",
    "df_RANK2002sort = df_RANK2002.sort_values(by=['W'], ascending=False)\n",
    "df_RANK2003sort = df_RANK2003.sort_values(by=['W'], ascending=False)\n",
    "df_RANK2004sort = df_RANK2004.sort_values(by=['W'], ascending=False)\n",
    "df_RANK2005sort = df_RANK2005.sort_values(by=['W'], ascending=False)\n",
    "df_RANK2006sort = df_RANK2006.sort_values(by=['W'], ascending=False)\n",
    "df_RANK2007sort = df_RANK2007.sort_values(by=['W'], ascending=False)\n",
    "df_RANK2008sort = df_RANK2008.sort_values(by=['W'], ascending=False)\n",
    "df_RANK2009sort = df_RANK2009.sort_values(by=['W'], ascending=False)\n",
    "df_RANK2010sort = df_RANK2010.sort_values(by=['W'], ascending=False)\n",
    "df_RANK2011sort = df_RANK2011.sort_values(by=['W'], ascending=False)\n",
    "df_RANK2012sort = df_RANK2012.sort_values(by=['W'], ascending=False)\n",
    "df_RANK2013sort = df_RANK2013.sort_values(by=['W'], ascending=False)\n",
    "df_RANK2014sort = df_RANK2014.sort_values(by=['W'], ascending=False)\n",
    "df_RANK2015sort = df_RANK2015.sort_values(by=['W'], ascending=False)\n",
    "df_RANK2016sort = df_RANK2016.sort_values(by=['W'], ascending=False)\n",
    "\n",
    "#TeamSummary(team_id = '1610612737', season ='2000-01').season_ranks()\n",
    "#df_RANK2000 = pd.DataFrame(RANK2000.season_ranks())\n",
    "#df_RANK2000.columns\n",
    "#df_RANK2000['W']\n",
    "#df_RANK2000sort"
   ]
  },
  {
   "cell_type": "code",
   "execution_count": null,
   "metadata": {
    "collapsed": true
   },
   "outputs": [],
   "source": [
    "#Let's filter out the teams and leave only the top 8 for each season\n",
    "\n",
    "df_RANK2000Top8 = df_RANK2000sort[0:8]\n",
    "df_RANK2001Top8 = df_RANK2001sort[0:8]\n",
    "df_RANK2002Top8 = df_RANK2002sort[0:8]\n",
    "df_RANK2003Top8 = df_RANK2003sort[0:8]\n",
    "df_RANK2004Top8 = df_RANK2004sort[0:8]\n",
    "df_RANK2005Top8 = df_RANK2005sort[0:8]\n",
    "df_RANK2006Top8 = df_RANK2006sort[0:8]\n",
    "df_RANK2007Top8 = df_RANK2007sort[0:8]\n",
    "df_RANK2008Top8 = df_RANK2008sort[0:8]\n",
    "df_RANK2009Top8 = df_RANK2009sort[0:8]\n",
    "df_RANK2010Top8 = df_RANK2010sort[0:8]\n",
    "df_RANK2011Top8 = df_RANK2011sort[0:8]\n",
    "df_RANK2012Top8 = df_RANK2012sort[0:8]\n",
    "df_RANK2013Top8 = df_RANK2013sort[0:8]\n",
    "df_RANK2014Top8 = df_RANK2014sort[0:8]\n",
    "df_RANK2015Top8 = df_RANK2015sort[0:8]\n",
    "df_RANK2016Top8 = df_RANK2016sort[0:8]\n",
    "\n",
    "\n",
    "\n",
    "#df_RANK2000Top8"
   ]
  },
  {
   "cell_type": "code",
   "execution_count": null,
   "metadata": {
    "collapsed": true
   },
   "outputs": [],
   "source": [
    "# lets save the top 8 teams into a csv\n",
    "Top8_2000 = pd.DataFrame(df_RANK2000Top8)\n",
    "Top8_2000.to_csv('Top8_2000.csv')"
   ]
  },
  {
   "cell_type": "code",
   "execution_count": null,
   "metadata": {
    "collapsed": true
   },
   "outputs": [],
   "source": [
    "Top8_2001 = pd.DataFrame(df_RANK2001Top8)\n",
    "Top8_2001.to_csv('Top8_2001.csv')"
   ]
  },
  {
   "cell_type": "code",
   "execution_count": null,
   "metadata": {
    "collapsed": true
   },
   "outputs": [],
   "source": [
    "Top8_2002 = pd.DataFrame(df_RANK2002Top8)\n",
    "Top8_2002.to_csv('Top8_2002.csv')"
   ]
  },
  {
   "cell_type": "code",
   "execution_count": null,
   "metadata": {
    "collapsed": true
   },
   "outputs": [],
   "source": [
    "Top8_2003 = pd.DataFrame(df_RANK2003Top8)\n",
    "Top8_2003.to_csv('Top8_2003.csv')"
   ]
  },
  {
   "cell_type": "code",
   "execution_count": null,
   "metadata": {
    "collapsed": true
   },
   "outputs": [],
   "source": [
    "Top8_2004 = pd.DataFrame(df_RANK2004Top8)\n",
    "Top8_2004.to_csv('Top8_2004.csv')"
   ]
  },
  {
   "cell_type": "code",
   "execution_count": null,
   "metadata": {
    "collapsed": true
   },
   "outputs": [],
   "source": [
    "Top8_2005 = pd.DataFrame(df_RANK2005Top8)\n",
    "Top8_2005.to_csv('Top8_2005.csv')"
   ]
  },
  {
   "cell_type": "code",
   "execution_count": null,
   "metadata": {
    "collapsed": true
   },
   "outputs": [],
   "source": [
    "Top8_2006 = pd.DataFrame(df_RANK2006Top8)\n",
    "Top8_2006.to_csv('Top8_2006.csv')"
   ]
  },
  {
   "cell_type": "code",
   "execution_count": null,
   "metadata": {
    "collapsed": true
   },
   "outputs": [],
   "source": [
    "Top8_2007 = pd.DataFrame(df_RANK2007Top8)\n",
    "Top8_2007.to_csv('Top8_2007.csv')"
   ]
  },
  {
   "cell_type": "code",
   "execution_count": null,
   "metadata": {
    "collapsed": true
   },
   "outputs": [],
   "source": [
    "Top8_2008 = pd.DataFrame(df_RANK2008Top8)\n",
    "Top8_2008.to_csv('Top8_2008.csv')"
   ]
  },
  {
   "cell_type": "code",
   "execution_count": null,
   "metadata": {
    "collapsed": true
   },
   "outputs": [],
   "source": [
    "Top8_2009 = pd.DataFrame(df_RANK2009Top8)\n",
    "Top8_2009.to_csv('Top8_2009.csv')"
   ]
  },
  {
   "cell_type": "code",
   "execution_count": null,
   "metadata": {
    "collapsed": true
   },
   "outputs": [],
   "source": [
    "Top8_2010 = pd.DataFrame(df_RANK2010Top8)\n",
    "Top8_2010.to_csv('Top8_2010.csv')"
   ]
  },
  {
   "cell_type": "code",
   "execution_count": null,
   "metadata": {
    "collapsed": true
   },
   "outputs": [],
   "source": [
    "Top8_2011 = pd.DataFrame(df_RANK2011Top8)\n",
    "Top8_2011.to_csv('Top8_2011.csv')"
   ]
  },
  {
   "cell_type": "code",
   "execution_count": null,
   "metadata": {
    "collapsed": true
   },
   "outputs": [],
   "source": [
    "Top8_2012 = pd.DataFrame(df_RANK2012Top8)\n",
    "Top8_2012.to_csv('Top8_2012.csv')"
   ]
  },
  {
   "cell_type": "code",
   "execution_count": null,
   "metadata": {
    "collapsed": true
   },
   "outputs": [],
   "source": [
    "Top8_2013 = pd.DataFrame(df_RANK2013Top8)\n",
    "Top8_2013.to_csv('Top8_2013.csv')"
   ]
  },
  {
   "cell_type": "code",
   "execution_count": null,
   "metadata": {
    "collapsed": true
   },
   "outputs": [],
   "source": [
    "Top8_2014 = pd.DataFrame(df_RANK2014Top8)\n",
    "Top8_2014.to_csv('Top8_2014.csv')"
   ]
  },
  {
   "cell_type": "code",
   "execution_count": null,
   "metadata": {
    "collapsed": true
   },
   "outputs": [],
   "source": [
    "Top8_2015 = pd.DataFrame(df_RANK2015Top8)\n",
    "Top8_2015.to_csv('Top8_2015.csv')"
   ]
  },
  {
   "cell_type": "code",
   "execution_count": null,
   "metadata": {
    "collapsed": true
   },
   "outputs": [],
   "source": [
    "Top8_2016 = pd.DataFrame(df_RANK2016Top8)\n",
    "Top8_2016.to_csv('Top8_2016.csv')"
   ]
  },
  {
   "cell_type": "code",
   "execution_count": null,
   "metadata": {
    "collapsed": true
   },
   "outputs": [],
   "source": [
    "#A quicker way to save all ranked seasons\n",
    "\n",
    "lst_ranked_seasons = [df_RANK2000sort, df_RANK2001sort, df_RANK2002sort,\n",
    "                     df_RANK2003sort, df_RANK2004sort, df_RANK2005sort,\n",
    "                     df_RANK2006sort, df_RANK2007sort, df_RANK2008sort,\n",
    "                     df_RANK2009sort, df_RANK2010sort, df_RANK2011sort,\n",
    "                     df_RANK2012sort, df_RANK2013sort, df_RANK2014sort,\n",
    "                     df_RANK2015sort, df_RANK2016sort]\n",
    "index = 0\n",
    "for df in lst_ranked_seasons:\n",
    "    if index < 10:\n",
    "        df.to_csv('ranked_teams_200' + str(index) + '.csv')\n",
    "    else:\n",
    "        df.to_csv('ranked_teams_20' + str(index) + '.csv')\n",
    "    index += 1"
   ]
  },
  {
   "cell_type": "code",
   "execution_count": null,
   "metadata": {
    "collapsed": true
   },
   "outputs": [],
   "source": []
  },
  {
   "cell_type": "code",
   "execution_count": null,
   "metadata": {
    "collapsed": true
   },
   "outputs": [],
   "source": [
    "#Data Visualization from 2016 (we used this info to make our calculations and made one for each year from 2000)\n",
    "df_2016 = pd.read_csv('clean_players_2016.csv')"
   ]
  },
  {
   "cell_type": "code",
   "execution_count": null,
   "metadata": {},
   "outputs": [],
   "source": [
    "df_2016"
   ]
  },
  {
   "cell_type": "code",
   "execution_count": null,
   "metadata": {},
   "outputs": [],
   "source": [
    "df_2016['PTS'].plot.hist(bins=40)"
   ]
  },
  {
   "cell_type": "code",
   "execution_count": null,
   "metadata": {},
   "outputs": [],
   "source": [
    "z,pval = stats.normaltest(df_2016['PTS'])\n",
    "print(z, pval)\n",
    "if(pval < 0.05):\n",
    "    print('PTS Is not from a Normal Dist')\n",
    "else:\n",
    "    print('PTS Is likley from a Normal Dist')\n",
    "\n",
    "size = df_2016['PTS'].size\n",
    "x = scipy.arange(size)\n",
    "param = stats.gamma.fit(df_2016['PTS'])\n",
    "stat, kpval = kstest(df_2016['PTS'], 'gamma', param)\n",
    "print(stat, kpval)\n",
    "if(kpval < 0.05):\n",
    "    print('PTS Is not from a Gamma Dist')\n",
    "else:\n",
    "    print('PTS Is likley from a Gamma Dist')\n",
    "    \n",
    "param = stats.lognorm.fit(df_2016['PTS'])\n",
    "stat, kpval = kstest(df_2016['PTS'], 'lognorm', param)\n",
    "print(stat, kpval)\n",
    "if(kpval < 0.05):\n",
    "    print('PTS Is not from a Log norm Dist')\n",
    "else:\n",
    "    print('PTS Is likley from a Log norm Dist')"
   ]
  },
  {
   "cell_type": "code",
   "execution_count": null,
   "metadata": {},
   "outputs": [],
   "source": [
    "df_2016['BLK'].plot.hist(bins=10)"
   ]
  },
  {
   "cell_type": "code",
   "execution_count": null,
   "metadata": {},
   "outputs": [],
   "source": [
    "z,pval = stats.normaltest(df_2016['BLK'])\n",
    "print(z, pval)\n",
    "if(pval < 0.05):\n",
    "    print('BLK Is not from a Normal Dist')\n",
    "else:\n",
    "    print('BLK Is likley from a Normal Dist')\n",
    "    \n",
    "size = df_2016['BLK'].size\n",
    "x = scipy.arange(size)\n",
    "param = stats.expon.fit(df_2016['BLK'])\n",
    "stat, kpval = kstest(df_2016['BLK'], 'expon', param)\n",
    "print(stat, kpval)\n",
    "if(kpval < 0.05):\n",
    "    print('BLK Is not from a Exponen Dist')\n",
    "else:\n",
    "    print('BLK Is likley from a Exponen Dist')\n",
    "param = stats.gamma.fit(df_2016['BLK'])\n",
    "stat, kpval = kstest(df_2016['BLK'], 'gamma', param)\n",
    "print(stat, kpval)\n",
    "if(kpval < 0.05):\n",
    "    print('BLK Is not from a Gamma Dist')\n",
    "else:\n",
    "    print('BLK Is likley from a Gamma Dist')\n",
    "param = stats.lognorm.fit(df_2016['BLK'])\n",
    "stat, kpval = kstest(df_2016['BLK'], 'lognorm', param)\n",
    "print(stat, kpval)\n",
    "if(kpval < 0.05):\n",
    "    print('BLK Is not from a Log norm Dist')\n",
    "else:\n",
    "    print('BLK Is likley from a Log norm Dist')\n",
    "param = stats.chi2.fit(df_2016['BLK'])\n",
    "stat, kpval = kstest(df_2016['BLK'], 'chi2', param)\n",
    "print(stat, kpval)\n",
    "if(kpval < 0.05):\n",
    "    print('BLK Is not from a Chisq Dist')\n",
    "else:\n",
    "    print('BLK Is likley from a Chisq Dist')"
   ]
  },
  {
   "cell_type": "code",
   "execution_count": null,
   "metadata": {},
   "outputs": [],
   "source": [
    "df_2016['STL'].plot.hist(bins=15)"
   ]
  },
  {
   "cell_type": "code",
   "execution_count": null,
   "metadata": {},
   "outputs": [],
   "source": [
    "z,pval = stats.normaltest(df_2016['STL'])\n",
    "print(z, pval)\n",
    "if(pval < 0.05):\n",
    "    print('STL Is not from a Normal Dist')\n",
    "else:\n",
    "    print('STL Is likley from a Normal Dist')\n",
    "    \n",
    "size = df_2016['STL'].size\n",
    "x = scipy.arange(size)\n",
    "param = stats.gamma.fit(df_2016['STL'])\n",
    "stat, kpval = kstest(df_2016['STL'], 'gamma', param)\n",
    "print(stat, kpval)\n",
    "if(kpval < 0.05):\n",
    "    print('STL Is not from a Gamma Dist')\n",
    "else:\n",
    "    print('STL Is likley from a Gamma Dist')\n",
    "\n",
    "param = stats.expon.fit(df_2016['STL'])\n",
    "stat, kpval = kstest(df_2016['STL'], 'expon', param)\n",
    "print(stat, kpval)\n",
    "if(kpval < 0.05):\n",
    "    print('STL Is not from a Exponen Dist')\n",
    "else:\n",
    "    print('STL Is likley from a Exponen Dist')\n",
    "\n",
    "param = stats.lognorm.fit(df_2016['STL'])\n",
    "stat, kpval = kstest(df_2016['STL'], 'lognorm', param)\n",
    "print(stat, kpval)\n",
    "if(kpval < 0.05):\n",
    "    print('STL Is not from a Log norm Dist')\n",
    "else:\n",
    "    print('STL Is likley from a Log norm Dist')\n",
    "    "
   ]
  },
  {
   "cell_type": "code",
   "execution_count": null,
   "metadata": {},
   "outputs": [],
   "source": [
    "df_2016['TOV'].plot.hist(bins=12)"
   ]
  },
  {
   "cell_type": "code",
   "execution_count": null,
   "metadata": {},
   "outputs": [],
   "source": [
    "z,pval = stats.normaltest(df_2016['TOV'])\n",
    "print(z, pval)\n",
    "if(pval < 0.05):\n",
    "    print('TOV Is not from a Normal Dist')\n",
    "else:\n",
    "    print('TOV Is likley from a Normal Dist')\n",
    "    \n",
    "size = df_2016['TOV'].size\n",
    "x = scipy.arange(size)\n",
    "param = stats.gamma.fit(df_2016['TOV'])\n",
    "stat, kpval = kstest(df_2016['TOV'], 'gamma', param)\n",
    "print(stat, kpval)\n",
    "if(kpval < 0.05):\n",
    "    print('TOV Is not from a Gamma Dist')\n",
    "else:\n",
    "    print('TOV Is likley from a Gamma Dist')\n",
    "    \n",
    "param = stats.lognorm.fit(df_2016['TOV'])\n",
    "stat, kpval = kstest(df_2016['TOV'], 'lognorm', param)\n",
    "print(stat, kpval)\n",
    "if(kpval < 0.05):\n",
    "    print('TOV Is not from a Log norm Dist')\n",
    "else:\n",
    "    print('TOV Is likley from a Log norm Dist')"
   ]
  },
  {
   "cell_type": "code",
   "execution_count": null,
   "metadata": {},
   "outputs": [],
   "source": [
    "df_2016['AST'].plot.hist(bins=20)"
   ]
  },
  {
   "cell_type": "code",
   "execution_count": null,
   "metadata": {},
   "outputs": [],
   "source": [
    "z,pval = stats.normaltest(df_2016['AST'])\n",
    "print(z, pval)\n",
    "if(pval < 0.05):\n",
    "    print('AST Is not from a Normal Dist')\n",
    "else:\n",
    "    print('AST Is likley from a Normal Dist')\n",
    "\n",
    "size = df_2016['AST'].size\n",
    "x = scipy.arange(size)\n",
    "param = stats.gamma.fit(df_2016['AST'])\n",
    "stat, kpval = kstest(df_2016['AST'], 'gamma', param)\n",
    "print(stat, kpval)\n",
    "if(kpval < 0.05):\n",
    "    print('AST Is not from a Gamma Dist')\n",
    "else:\n",
    "    print('AST Is likley from a Gamma Dist')\n",
    "\n",
    "param = stats.lognorm.fit(df_2016['AST'])\n",
    "stat, kpval = kstest(df_2016['AST'], 'lognorm', param)\n",
    "print(stat, kpval)\n",
    "if(kpval < 0.05):\n",
    "    print('AST Is not from a Log norm Dist')\n",
    "else:\n",
    "    print('AST Is likley from a Log norm Dist')"
   ]
  },
  {
   "cell_type": "code",
   "execution_count": null,
   "metadata": {},
   "outputs": [],
   "source": [
    "df_2016['REB'].plot.hist(bins=25)"
   ]
  },
  {
   "cell_type": "code",
   "execution_count": null,
   "metadata": {},
   "outputs": [],
   "source": [
    "z,pval = stats.normaltest(df_2016['REB'])\n",
    "print(z, pval)\n",
    "if(pval < 0.05):\n",
    "    print('REB Is not from a Normal Dist')\n",
    "else:\n",
    "    print('REB Is likley from a Normal Dist')\n",
    "    \n",
    "size = df_2016['REB'].size\n",
    "x = scipy.arange(size)\n",
    "param = stats.gamma.fit(df_2016['REB'])\n",
    "stat, kpval = kstest(df_2016['REB'], 'gamma', param)\n",
    "print(stat, kpval)\n",
    "if(kpval < 0.05):\n",
    "    print('REB Is not from a Gamma Dist')\n",
    "else:\n",
    "    print('REB Is likley from a Gamma Dist')\n",
    "\n",
    "param = stats.lognorm.fit(df_2016['REB'])\n",
    "stat, kpval = kstest(df_2016['REB'], 'lognorm', param)\n",
    "print(stat, kpval)\n",
    "if(kpval < 0.05):\n",
    "    print('REB Is not from a Log norm Dist')\n",
    "else:\n",
    "    print('REB Is likley from a Log norm Dist')"
   ]
  },
  {
   "cell_type": "code",
   "execution_count": null,
   "metadata": {
    "collapsed": true
   },
   "outputs": [],
   "source": []
  },
  {
   "cell_type": "code",
   "execution_count": null,
   "metadata": {
    "collapsed": true
   },
   "outputs": [],
   "source": []
  },
  {
   "cell_type": "markdown",
   "metadata": {},
   "source": [
    "# Data Visualization and Analysis\n",
    "\n",
    "\n"
   ]
  },
  {
   "cell_type": "code",
   "execution_count": null,
   "metadata": {},
   "outputs": [],
   "source": [
    "#list of players stats datafromes\n",
    "lst_players_df = []\n",
    "#over range 0-16 read csv into list\n",
    "for i in range(17):\n",
    "    if i < 10:\n",
    "        lst_players_df.append(pd.read_csv('clean_players_200'+str(i)+'.csv'))\n",
    "    else:\n",
    "        lst_players_df.append(pd.read_csv('clean_players_20'+str(i)+'.csv'))\n",
    "        \n",
    "print(type(lst_players_df[0]))"
   ]
  },
  {
   "cell_type": "code",
   "execution_count": null,
   "metadata": {},
   "outputs": [],
   "source": [
    "for df in lst_players_df: #for each df in list\n",
    "    #Each show to be likley from a LOGNORM distribution\n",
    "    #So we are converting each value to its log value to normalize the \n",
    "    #distribution so that we can use the z-score test for impact calculation\n",
    "    #getting rid of 0's replacing with 1/minplayed ((1/game)/(min/game)) \n",
    "    df['PTS'].replace(0, 1/df['MIN'], inplace = True)\n",
    "    df['AST'].replace(0, 1/df['MIN'], inplace = True)\n",
    "    df['TOV'].replace(0, 1/df['MIN'], inplace = True)\n",
    "    df['REB'].replace(0, 1/df['MIN'], inplace = True)\n",
    "    df['STL'].replace(0, 1/df['MIN'], inplace = True)\n",
    "    df['BLK'].replace(0, 1/df['MIN'], inplace = True)\n",
    "    df['LOGPTS'] = np.log(df['PTS'])\n",
    "    df['LOGAST'] = np.log(df['AST'])\n",
    "    df['LOGTOV'] = np.log(df['TOV'])\n",
    "    df['LOGREB'] = np.log(df['REB'])\n",
    "    df['LOGSTL'] = np.log(df['STL'])\n",
    "    df['LOGBLK'] = np.log(df['BLK'])"
   ]
  },
  {
   "cell_type": "code",
   "execution_count": null,
   "metadata": {
    "collapsed": true
   },
   "outputs": [],
   "source": [
    "#list of average points/pergame for each season\n",
    "lst_yearly_logpts_avg = []\n",
    "#list of points/pergame standard deviation for each season\n",
    "lst_yearly_logpts_stddev = [] \n",
    "for df in lst_players_df: #for each df in list of player stat df\n",
    "    lst_yearly_logpts_avg.append(np.mean(df['LOGPTS']))#calculate avg points and append into list of avgs\n",
    "    lst_yearly_logpts_stddev.append(np.std(df['LOGPTS']))#calculate stddev of points and append into list of stddevs\n",
    "\n",
    "\n",
    "#list of average assist/pergame for each season\n",
    "lst_yearly_logast_avg = [] \n",
    "#list of assist/pergame standard deviation for each season\n",
    "lst_yearly_logast_stddev = [] \n",
    "for df in lst_players_df: #for each df in list of player stat df\n",
    "    lst_yearly_logast_avg.append(np.mean(df['LOGAST']))#calculate avg assist and append into list of avgs\n",
    "    lst_yearly_logast_stddev.append(np.std(df['LOGAST']))#calculate stddev of assist and append into list of stddevs\n",
    "\n",
    "#list of average turnover/pergame for each season\n",
    "lst_yearly_logtov_avg = [] \n",
    "#list of turnover/pergame standard deviation for each season\n",
    "lst_yearly_logtov_stddev = [] \n",
    "for df in lst_players_df: #for each df in list of player stat df\n",
    "    lst_yearly_logtov_avg.append(np.mean(df['LOGTOV']))#calculate avg turnover and append into list of avgs\n",
    "    lst_yearly_logtov_stddev.append(np.std(df['LOGTOV']))#calculate stddev of turnover and append into list of stddevs\n",
    "\n",
    "#list of average rebound/pergame for each season\n",
    "lst_yearly_logreb_avg = [] \n",
    "#list of rebound/pergame standard deviation for each season\n",
    "lst_yearly_logreb_stddev = [] \n",
    "for df in lst_players_df: #for each df in list of player stat df\n",
    "    lst_yearly_logreb_avg.append(np.mean(df['LOGREB']))#calculate avg rebound and append into list of avgs\n",
    "    lst_yearly_logreb_stddev.append(np.std(df['LOGREB']))#calculate stddev of rebound and append into list of stddevs\n",
    "\n",
    "#list of average steal/pergame for each season\n",
    "lst_yearly_logstl_avg = [] \n",
    "#list of steal/pergame standard deviation for each season\n",
    "lst_yearly_logstl_stddev = []\n",
    "for df in lst_players_df: #for each df in list of player stat df\n",
    "    lst_yearly_logstl_avg.append(np.mean(df['LOGSTL']))#calculate avg steal and append into list of avgs\n",
    "    lst_yearly_logstl_stddev.append(np.std(df['LOGSTL']))#calculate stddev of steal and append into list of stddevs\n",
    "\n",
    "#list of average block/pergame for each season\n",
    "lst_yearly_logblk_avg = [] \n",
    "#list of block/pergame standard deviation for each season\n",
    "lst_yearly_logblk_stddev = [] \n",
    "for df in lst_players_df: #for each df in list of player stat df\n",
    "    lst_yearly_logblk_avg.append(np.mean(df['LOGBLK']))#calculate avg block and append into list of avgs\n",
    "    lst_yearly_logblk_stddev.append(np.std(df['LOGBLK']))#calculate stddev of block and append into list of stddevs\n",
    "    "
   ]
  },
  {
   "cell_type": "code",
   "execution_count": null,
   "metadata": {
    "collapsed": true
   },
   "outputs": [],
   "source": [
    "#setting arbitraly weights valued based on consensus of how much each stat was worth in points\n",
    "f_pts_weight = 1.0 #1 point is worth 1 points\n",
    "f_reb_weight = 1.2 #rebounds don't necessarily lead to a score but give more oppotunities for them so estimated by 2.3 * .55(hish est fg%)\n",
    "f_blk_weight = 2.3 #denial of a shot 2-3, twos are more common than threes so that is why it is 2.3 instead of 2.5\n",
    "f_stl_weight = 1.8 #worth more than rebound due to likleyhood of fastbreak\n",
    "f_ast_weight = 2.3 #always leads to a score so opposite of block\n",
    "f_tov_weight = -1.8 #basically opposite of steal"
   ]
  },
  {
   "cell_type": "code",
   "execution_count": null,
   "metadata": {
    "collapsed": true
   },
   "outputs": [],
   "source": [
    "#calculating impact\n",
    "index = 0\n",
    "    \n",
    "for df in lst_players_df:\n",
    "    impact_val = []\n",
    "    for i, row in df.iterrows():\n",
    "        #calculate z-score of normalized distribution\n",
    "        pts_zval = (row['LOGPTS']-lst_yearly_logpts_avg[index])/lst_yearly_logpts_stddev[index]\n",
    "        ast_zval = (row['LOGAST']-lst_yearly_logast_avg[index])/lst_yearly_logast_stddev[index]\n",
    "        reb_zval = (row['LOGREB']-lst_yearly_logreb_avg[index])/lst_yearly_logreb_stddev[index]\n",
    "        blk_zval = (row['LOGBLK']-lst_yearly_logblk_avg[index])/lst_yearly_logblk_stddev[index]\n",
    "        stl_zval = (row['LOGSTL']-lst_yearly_logstl_avg[index])/lst_yearly_logstl_stddev[index]\n",
    "        tov_zval = (row['LOGTOV']-lst_yearly_logtov_avg[index])/lst_yearly_logtov_stddev[index]\n",
    "        impact_val.append((row['LOGPTS']*f_pts_weight*math.e**(pts_zval/2)) +\\\n",
    "                          (row['LOGAST']*f_ast_weight*math.e**(ast_zval/2)) +\\\n",
    "                          (row['LOGREB']*f_reb_weight*math.e**(reb_zval/2)) +\\\n",
    "                          (row['LOGBLK']*f_blk_weight*math.e**(blk_zval/2)) +\\\n",
    "                          (row['LOGSTL']*f_stl_weight*math.e**(stl_zval/2)) +\\\n",
    "                          (row['LOGTOV']*f_tov_weight*math.e**(tov_zval/2)))\n",
    "    df[\"IMPACT\"] = impact_val\n",
    "    index += 1\n",
    "\n"
   ]
  },
  {
   "cell_type": "code",
   "execution_count": null,
   "metadata": {},
   "outputs": [],
   "source": [
    "print(lst_players_df[1]['IMPACT'])\n",
    "lst_players_df[1]['IMPACT'].plot.hist(bins = 40)"
   ]
  },
  {
   "cell_type": "code",
   "execution_count": null,
   "metadata": {
    "collapsed": true
   },
   "outputs": [],
   "source": [
    "#create list each item is a dictionary for each season that contains each teams players individual impact values\n",
    "lst_season_team_player_impacts = []\n",
    "#for each df_season in lst_player_df\n",
    "for df_season in lst_players_df:\n",
    "    #create dictionary ['TEAM_ID'] = list of impact values of players on team\n",
    "    team_impacts_dict = dict()\n",
    "    #for each player in df_season\n",
    "    for i, row in df_season.iterrows():\n",
    "        #grab players team ID\n",
    "        key = row['TEAM_ID']\n",
    "        #check if ID is not a key in the dict\n",
    "        if key not in team_impacts_dict:\n",
    "            #then create key in dict\n",
    "            team_impacts_dict[key] = []\n",
    "        #append value into key array\n",
    "        team_impacts_dict[key].append(row['IMPACT'])\n",
    "    #append dict into list\n",
    "    lst_season_team_player_impacts.append(team_impacts_dict)"
   ]
  },
  {
   "cell_type": "code",
   "execution_count": null,
   "metadata": {
    "collapsed": true
   },
   "outputs": [],
   "source": [
    "#create list each item is a dict for each season that contains impact mean and stddev\n",
    "lst_season_team_impact_meanstddev = []\n",
    "#for each dictionary in lst_season_team_player\n",
    "for season_dict in lst_season_team_player_impacts:\n",
    "    #create df to hold TEAM_ID, IMP_MEAN, IMP_STD\n",
    "    df_team_impact_stats = pd.DataFrame()\n",
    "    lst_team_id = []\n",
    "    lst_imp_mean = []\n",
    "    lst_imp_stddev =[]\n",
    "    #for each key in team players impacts dictionary\n",
    "    for key, values in season_dict.items(): #populate lists\n",
    "        lst_team_id.append(key)\n",
    "        lst_imp_mean.append(np.mean(values))\n",
    "        lst_imp_stddev.append(np.std(values))\n",
    "    #fill df\n",
    "    df_team_impact_stats['TEAM_ID'] = lst_team_id\n",
    "    df_team_impact_stats['IMP_MEAN'] = lst_imp_mean\n",
    "    df_team_impact_stats['IMP_STD'] = lst_imp_stddev\n",
    "    #append df into list\n",
    "    lst_season_team_impact_meanstddev.append(df_team_impact_stats)"
   ]
  },
  {
   "cell_type": "code",
   "execution_count": null,
   "metadata": {},
   "outputs": [],
   "source": [
    "print(lst_season_team_impact_meanstddev[0]['IMP_MEAN'])\n",
    "lst_season_team_impact_meanstddev[0]['IMP_MEAN'].plot.hist()"
   ]
  },
  {
   "cell_type": "code",
   "execution_count": null,
   "metadata": {},
   "outputs": [],
   "source": [
    "print(lst_season_team_impact_meanstddev[0]['IMP_STD'])\n",
    "lst_season_team_impact_meanstddev[0]['IMP_STD'].plot.hist()"
   ]
  },
  {
   "cell_type": "code",
   "execution_count": null,
   "metadata": {},
   "outputs": [],
   "source": [
    "for df in lst_season_team_impact_meanstddev:\n",
    "    print(df.shape)"
   ]
  },
  {
   "cell_type": "code",
   "execution_count": null,
   "metadata": {},
   "outputs": [],
   "source": [
    "lst_ranked_teams_df = []\n",
    "#over range 0-16 read csv into list\n",
    "for i in range(17):\n",
    "    if i < 10:\n",
    "        lst_ranked_teams_df.append(pd.read_csv('ranked_teams_200'+str(i)+'.csv'))\n",
    "    else:\n",
    "        lst_ranked_teams_df.append(pd.read_csv('ranked_teams_20'+str(i)+'.csv'))\n",
    "        \n",
    "print(lst_ranked_teams_df[0])"
   ]
  },
  {
   "cell_type": "code",
   "execution_count": null,
   "metadata": {},
   "outputs": [],
   "source": [
    "lst_ranked_team_impact_df =[]\n",
    "for index in range(len(lst_season_team_impact_meanstddev)):\n",
    "    lst_ranked_team_impact_df.append(pd.merge(lst_ranked_teams_df[index], lst_season_team_impact_meanstddev[index], on= ['TEAM_ID']))\n",
    "\n",
    "print(lst_ranked_team_impact_df[0])"
   ]
  },
  {
   "cell_type": "code",
   "execution_count": null,
   "metadata": {
    "collapsed": true
   },
   "outputs": [],
   "source": []
  },
  {
   "cell_type": "code",
   "execution_count": null,
   "metadata": {
    "collapsed": true
   },
   "outputs": [],
   "source": []
  },
  {
   "cell_type": "code",
   "execution_count": null,
   "metadata": {
    "collapsed": true
   },
   "outputs": [],
   "source": []
  },
  {
   "cell_type": "code",
   "execution_count": null,
   "metadata": {},
   "outputs": [],
   "source": [
    "#Visualization for 2000\n",
    "customers = lst_ranked_team_impact_df[0][['CFPARAMS','IMP_MEAN']]\n",
    "#customers.set_index('CFPARAMS')\n",
    "customers.index = range(1,len(customers)+1)\n",
    "my_plot = customers.plot(kind='bar', title=\"Team Rank v Avg Player Impact 2000\")\n",
    "my_plot.set_xlabel(\"Team Rank\")\n",
    "my_plot.set_ylabel(\"Avg Impact\")\n",
    "deviation_graph = lst_ranked_team_impact_df[0][['CFPARAMS','IMP_STD']]\n",
    "deviation_graph.index = range(1,len(deviation_graph)+1)\n",
    "deviation_graph.set_index('CFPARAMS')\n",
    "my_plot = deviation_graph.plot(kind='bar', title=\"Team Rank v Standard Deviation of Avg Player Impact 2000\")\n",
    "my_plot.set_xlabel(\"Team Rank\")\n",
    "my_plot.set_ylabel(\"Impact Standard Deviation\")\n",
    "\n",
    "#Visualization for 2001\n",
    "customers = lst_ranked_team_impact_df[1][['CFPARAMS','IMP_MEAN']]\n",
    "customers.index = range(1,len(customers)+1)\n",
    "my_plot = customers.plot(kind='bar', title=\"Team Rank v Avg Player Impact 2001\")\n",
    "my_plot.set_xlabel(\"Team Rank\")\n",
    "my_plot.set_ylabel(\"Avg Impact\")\n",
    "\n",
    "deviation_graph = lst_ranked_team_impact_df[1][['CFPARAMS','IMP_STD']]\n",
    "deviation_graph.index = range(1,len(deviation_graph)+1)\n",
    "my_plot = deviation_graph.plot(kind='bar', title=\"Team Rank v Standard Deviation of Avg Player Impact 2001\")\n",
    "my_plot.set_xlabel(\"Team Rank\")\n",
    "my_plot.set_ylabel(\"Impact Standard Deviation\")\n",
    "\n",
    "#Visualization for 2002\n",
    "customers = lst_ranked_team_impact_df[2][['CFPARAMS','IMP_MEAN']]\n",
    "customers.index = range(1,len(customers)+1)\n",
    "my_plot = customers.plot(kind='bar', title=\"Team Rank v Avg Player Impact 2002\")\n",
    "my_plot.set_xlabel(\"Team Rank\")\n",
    "my_plot.set_ylabel(\"Avg Impact\")\n",
    "\n",
    "deviation_graph = lst_ranked_team_impact_df[2][['CFPARAMS','IMP_STD']]\n",
    "deviation_graph.index = range(1,len(deviation_graph)+1)\n",
    "my_plot = deviation_graph.plot(kind='bar', title=\"Team Rank v Standard Deviation of Avg Player Impact 2002\")\n",
    "my_plot.set_xlabel(\"Team Rank\")\n",
    "my_plot.set_ylabel(\"Impact Standard Deviation\")\n",
    "\n",
    "#Visualization for 2003\n",
    "customers = lst_ranked_team_impact_df[3][['CFPARAMS','IMP_MEAN']]\n",
    "customers.index = range(1,len(customers)+1)\n",
    "my_plot = customers.plot(kind='bar', title=\"Team Rank v Avg Player Impact 2003\")\n",
    "my_plot.set_xlabel(\"Team Rank\")\n",
    "my_plot.set_ylabel(\"Avg Impact\")\n",
    "\n",
    "deviation_graph = lst_ranked_team_impact_df[3][['CFPARAMS','IMP_STD']]\n",
    "deviation_graph.index = range(1,len(deviation_graph)+1)\n",
    "my_plot = deviation_graph.plot(kind='bar', title=\"Team Rank v Standard Deviation of Avg Player Impact 2003\")\n",
    "my_plot.set_xlabel(\"Team Rank\")\n",
    "my_plot.set_ylabel(\"Impact Standard Deviation\")\n",
    "\n",
    "#Visualization for 2004\n",
    "customers = lst_ranked_team_impact_df[4][['CFPARAMS','IMP_MEAN']]\n",
    "customers.index = range(1,len(customers)+1)\n",
    "my_plot = customers.plot(kind='bar', title=\"Team Rank v Avg Player Impact 2004\")\n",
    "my_plot.set_xlabel(\"Team Rank\")\n",
    "my_plot.set_ylabel(\"Avg Impact\")\n",
    "\n",
    "deviation_graph = lst_ranked_team_impact_df[4][['CFPARAMS','IMP_STD']]\n",
    "deviation_graph.index = range(1,len(deviation_graph)+1)\n",
    "\n",
    "my_plot = deviation_graph.plot(kind='bar', title=\"Team Rank v Standard Deviation of Avg Player Impact 2004\")\n",
    "my_plot.set_xlabel(\"Team Rank\")\n",
    "my_plot.set_ylabel(\"Impact Standard Deviation\")\n",
    "\n",
    "#Visualization for 2005\n",
    "customers = lst_ranked_team_impact_df[5][['CFPARAMS','IMP_MEAN']]\n",
    "customers.index = range(1,len(customers)+1)\n",
    "\n",
    "my_plot = customers.plot(kind='bar', title=\"Team Rank v Avg Player Impact 2005\")\n",
    "my_plot.set_xlabel(\"Team Rank\")\n",
    "my_plot.set_ylabel(\"Avg Impact\")\n",
    "\n",
    "deviation_graph = lst_ranked_team_impact_df[1][['CFPARAMS','IMP_STD']]\n",
    "deviation_graph.index = range(1,len(deviation_graph)+1)\n",
    "\n",
    "my_plot = deviation_graph.plot(kind='bar', title=\"Team Rank v Standard Deviation of Avg Player Impact 2005\")\n",
    "my_plot.set_xlabel(\"Team Rank\")\n",
    "my_plot.set_ylabel(\"Impact Standard Deviation\")\n",
    "\n",
    "\n",
    "#Visualization for 2006\n",
    "customers = lst_ranked_team_impact_df[6][['CFPARAMS','IMP_MEAN']]\n",
    "customers.index = range(1,len(customers)+1)\n",
    "\n",
    "my_plot = customers.plot(kind='bar', title=\"Team Rank v Avg Player Impact 2006\")\n",
    "my_plot.set_xlabel(\"Team Rank\")\n",
    "my_plot.set_ylabel(\"Avg Impact\")\n",
    "\n",
    "deviation_graph = lst_ranked_team_impact_df[6][['CFPARAMS','IMP_STD']]\n",
    "deviation_graph.index = range(1,len(deviation_graph)+1)\n",
    "\n",
    "my_plot = deviation_graph.plot(kind='bar', title=\"Team Rank v Standard Deviation of Avg Player Impact 2006\")\n",
    "my_plot.set_xlabel(\"Team Rank\")\n",
    "my_plot.set_ylabel(\"Impact Standard Deviation\")\n",
    "\n",
    "#Visualization for 2007\n",
    "customers = lst_ranked_team_impact_df[7][['CFPARAMS','IMP_MEAN']]\n",
    "customers.index = range(1,len(customers)+1)\n",
    "\n",
    "my_plot = customers.plot(kind='bar', title=\"Team Rank v Avg Player Impact 2007\")\n",
    "my_plot.set_xlabel(\"Team Rank\")\n",
    "my_plot.set_ylabel(\"Avg Impact\")\n",
    "\n",
    "deviation_graph = lst_ranked_team_impact_df[7][['CFPARAMS','IMP_STD']]\n",
    "deviation_graph.index = range(1,len(deviation_graph)+1)\n",
    "\n",
    "my_plot = deviation_graph.plot(kind='bar', title=\"Team Rank v Standard Deviation of Avg Player Impact 2007\")\n",
    "my_plot.set_xlabel(\"Team Rank\")\n",
    "my_plot.set_ylabel(\"Impact Standard Deviation\")\n",
    "\n",
    "#Visualization for 2008\n",
    "customers = lst_ranked_team_impact_df[8][['CFPARAMS','IMP_MEAN']]\n",
    "customers.index = range(1,len(customers)+1)\n",
    "\n",
    "my_plot = customers.plot(kind='bar', title=\"Team Rank v Avg Player Impact 2008\")\n",
    "my_plot.set_xlabel(\"Team Rank\")\n",
    "my_plot.set_ylabel(\"Avg Impact\")\n",
    "\n",
    "deviation_graph = lst_ranked_team_impact_df[8][['CFPARAMS','IMP_STD']]\n",
    "deviation_graph.index = range(1,len(deviation_graph)+1)\n",
    "\n",
    "my_plot = deviation_graph.plot(kind='bar', title=\"Team Rank v Standard Deviation of Avg Player Impact 2008\")\n",
    "my_plot.set_xlabel(\"Team Rank\")\n",
    "my_plot.set_ylabel(\"Impact Standard Deviation\")\n",
    "\n",
    "#Visualization for 2009\n",
    "customers = lst_ranked_team_impact_df[9][['CFPARAMS','IMP_MEAN']]\n",
    "customers.index = range(1,len(customers)+1)\n",
    "\n",
    "my_plot = customers.plot(kind='bar', title=\"Team Rank v Avg Player Impact 2009\")\n",
    "my_plot.set_xlabel(\"Team Rank\")\n",
    "my_plot.set_ylabel(\"Avg Impact\")\n",
    "\n",
    "deviation_graph = lst_ranked_team_impact_df[9][['CFPARAMS','IMP_STD']]\n",
    "deviation_graph.index = range(1,len(deviation_graph)+1)\n",
    "\n",
    "my_plot = deviation_graph.plot(kind='bar', title=\"Team Rank v Standard Deviation of Avg Player Impact 2009\")\n",
    "my_plot.set_xlabel(\"Team Rank\")\n",
    "my_plot.set_ylabel(\"Impact Standard Deviation\")\n",
    "\n",
    "#Visualization for 2010\n",
    "customers = lst_ranked_team_impact_df[10][['CFPARAMS','IMP_MEAN']]\n",
    "customers.index = range(1,len(customers)+1)\n",
    "\n",
    "my_plot = customers.plot(kind='bar', title=\"Team Rank v Avg Player Impact 2010\")\n",
    "my_plot.set_xlabel(\"Team Rank\")\n",
    "my_plot.set_ylabel(\"Avg Impact\")\n",
    "\n",
    "deviation_graph = lst_ranked_team_impact_df[10][['CFPARAMS','IMP_STD']]\n",
    "deviation_graph.index = range(1,len(deviation_graph)+1)\n",
    "\n",
    "my_plot = deviation_graph.plot(kind='bar', title=\"Team Rank v Standard Deviation of Avg Player Impact 2010\")\n",
    "my_plot.set_xlabel(\"Team Rank\")\n",
    "my_plot.set_ylabel(\"Impact Standard Deviation\")\n",
    "\n",
    "#Visualization for 2011\n",
    "customers = lst_ranked_team_impact_df[11][['CFPARAMS','IMP_MEAN']]\n",
    "customers.index = range(1,len(customers)+1)\n",
    "\n",
    "my_plot = customers.plot(kind='bar', title=\"Team Rank v Avg Player Impact 2011\")\n",
    "my_plot.set_xlabel(\"Team Rank\")\n",
    "my_plot.set_ylabel(\"Avg Impact\")\n",
    "\n",
    "deviation_graph = lst_ranked_team_impact_df[11][['CFPARAMS','IMP_STD']]\n",
    "deviation_graph.index = range(1,len(deviation_graph)+1)\n",
    "\n",
    "my_plot = deviation_graph.plot(kind='bar', title=\"Team Rank v Standard Deviation of Avg Player Impact 2011\")\n",
    "my_plot.set_xlabel(\"Team Rank\")\n",
    "my_plot.set_ylabel(\"Impact Standard Deviation\")\n",
    "\n",
    "#Visualization for 2012\n",
    "customers = lst_ranked_team_impact_df[12][['CFPARAMS','IMP_MEAN']]\n",
    "customers.index = range(1,len(customers)+1)\n",
    "\n",
    "my_plot = customers.plot(kind='bar', title=\"Team Rank v Avg Player Impact 2012\")\n",
    "my_plot.set_xlabel(\"Team Rank\")\n",
    "my_plot.set_ylabel(\"Avg Impact\")\n",
    "\n",
    "deviation_graph = lst_ranked_team_impact_df[12][['CFPARAMS','IMP_STD']]\n",
    "deviation_graph.index = range(1,len(deviation_graph)+1)\n",
    "\n",
    "my_plot = deviation_graph.plot(kind='bar', title=\"Team Rank v Standard Deviation of Avg Player Impact 2012\")\n",
    "my_plot.set_xlabel(\"Team Rank\")\n",
    "my_plot.set_ylabel(\"Impact Standard Deviation\")\n",
    "\n",
    "#Visualization for 2013\n",
    "customers = lst_ranked_team_impact_df[13][['CFPARAMS','IMP_MEAN']]\n",
    "customers.index = range(1,len(customers)+1)\n",
    "\n",
    "my_plot = customers.plot(kind='bar', title=\"Team Rank v Avg Player Impact 2013\")\n",
    "my_plot.set_xlabel(\"Team Rank\")\n",
    "my_plot.set_ylabel(\"Avg Impact\")\n",
    "\n",
    "deviation_graph = lst_ranked_team_impact_df[13][['CFPARAMS','IMP_STD']]\n",
    "deviation_graph.index = range(1,len(deviation_graph)+1)\n",
    "\n",
    "my_plot = deviation_graph.plot(kind='bar', title=\"Team Rank v Standard Deviation of Avg Player Impact 2013\")\n",
    "my_plot.set_xlabel(\"Team Rank\")\n",
    "my_plot.set_ylabel(\"Impact Standard Deviation\")\n",
    "\n",
    "#Visualization for 2014\n",
    "customers = lst_ranked_team_impact_df[14][['CFPARAMS','IMP_MEAN']]\n",
    "customers.index = range(1,len(customers)+1)\n",
    "\n",
    "my_plot = customers.plot(kind='bar', title=\"Team Rank v Avg Player Impact 2014\")\n",
    "my_plot.set_xlabel(\"Team Rank\")\n",
    "my_plot.set_ylabel(\"Avg Impact\")\n",
    "\n",
    "deviation_graph = lst_ranked_team_impact_df[14][['CFPARAMS','IMP_STD']]\n",
    "deviation_graph.index = range(1,len(deviation_graph)+1)\n",
    "\n",
    "my_plot = deviation_graph.plot(kind='bar', title=\"Team Rank v Standard Deviation of Avg Player Impact 2014\")\n",
    "my_plot.set_xlabel(\"Team Rank\")\n",
    "my_plot.set_ylabel(\"Impact Standard Deviation\")\n",
    "\n",
    "#Visualization for 2015\n",
    "customers = lst_ranked_team_impact_df[15][['CFPARAMS','IMP_MEAN']]\n",
    "customers.index = range(1,len(customers)+1)\n",
    "\n",
    "my_plot = customers.plot(kind='bar', title=\"Team Rank v Avg Player Impact 2015\")\n",
    "my_plot.set_xlabel(\"Team Rank\")\n",
    "my_plot.set_ylabel(\"Avg Impact\")\n",
    "\n",
    "deviation_graph = lst_ranked_team_impact_df[15][['CFPARAMS','IMP_STD']]\n",
    "deviation_graph.index = range(1,len(deviation_graph)+1)\n",
    "\n",
    "my_plot = deviation_graph.plot(kind='bar', title=\"Team Rank v Standard Deviation of Avg Player Impact 2015\")\n",
    "my_plot.set_xlabel(\"Team Rank\")\n",
    "my_plot.set_ylabel(\"Impact Standard Deviation\")\n",
    "\n",
    "#Visualization for 2016\n",
    "\n",
    "customers = lst_ranked_team_impact_df[16][['CFPARAMS','IMP_MEAN']]\n",
    "customers.index = range(1,len(customers)+1)\n",
    "\n",
    "my_plot = customers.plot(kind='bar', title=\"Team Rank v Avg Player Impact 2016\")\n",
    "my_plot.set_xlabel(\"Team Rank\")\n",
    "my_plot.set_ylabel(\"Avg Impact\")\n",
    "\n",
    "deviation_graph = lst_ranked_team_impact_df[16][['CFPARAMS','IMP_STD']]\n",
    "deviation_graph.index = range(1,len(deviation_graph)+1)\n",
    "\n",
    "my_plot = deviation_graph.plot(kind='bar', title=\"Team Rank v Standard Deviation of Avg Player Impact 2016\")\n",
    "my_plot.set_xlabel(\"Team Rank\")\n",
    "my_plot.set_ylabel(\"Impact Standard Deviation\")\n",
    "\n",
    "\n"
   ]
  },
  {
   "cell_type": "markdown",
   "metadata": {},
   "source": []
  },
  {
   "cell_type": "code",
   "execution_count": null,
   "metadata": {
    "collapsed": true
   },
   "outputs": [],
   "source": [
    "# Visualization for 2000\n",
    "\n",
    "plt.scatter(lst_ranked_team_impact_df[0]['W'], lst_ranked_team_impact_df[0][\"IMP_MEAN\"], c = 'blue', label = 'Average Impact')\n",
    "plt.hold\n",
    "plt.scatter(lst_ranked_team_impact_df[0]['W'], lst_ranked_team_impact_df[0][\"IMP_STD\"], c = 'red', label = 'Standard Deviation')\n",
    "\n",
    "plt.title('Wins vs Average Impact/Standard Deviation of Impact in 2000', fontsize=18, fontweight='bold')\n",
    "\n",
    "plt.xlabel('Total Number of Wins', fontsize=8, fontweight='bold')\n",
    "plt.ylabel('Average Impact/Standard Deviation', fontsize=8, fontweight='bold')\n",
    "\n",
    "plt.legend(loc='upper left', scatterpoints=1, frameon=False)\n",
    "\n",
    "\n",
    "# Visualization for 2001\n",
    "\n",
    "plt.scatter(lst_ranked_team_impact_df[1]['W'], lst_ranked_team_impact_df[1][\"IMP_MEAN\"], c = 'blue', label = 'Average Impact')\n",
    "plt.hold\n",
    "plt.scatter(lst_ranked_team_impact_df[1]['W'], lst_ranked_team_impact_df[1][\"IMP_STD\"], c = 'red', label = 'Standard Deviation')\n",
    "\n",
    "plt.title('Wins vs Average Impact/Standard Deviation of Impact in 2001', fontsize=18, fontweight='bold')\n",
    "\n",
    "plt.xlabel('Total Number of Wins', fontsize=8, fontweight='bold')\n",
    "plt.ylabel('Average Impact/Standard Deviation', fontsize=8, fontweight='bold')\n",
    "\n",
    "plt.legend(loc='upper left', scatterpoints=1, frameon=False)\n",
    "\n",
    "\n",
    "# Visualization for 2002\n",
    "\n",
    "plt.scatter(lst_ranked_team_impact_df[2]['W'], lst_ranked_team_impact_df[2][\"IMP_MEAN\"], c = 'blue', label = 'Average Impact')\n",
    "plt.hold\n",
    "plt.scatter(lst_ranked_team_impact_df[2]['W'], lst_ranked_team_impact_df[2][\"IMP_STD\"], c = 'red', label = 'Standard Deviation')\n",
    "\n",
    "plt.title('Wins vs Average Impact/Standard Deviation of Impact in 2002', fontsize=18, fontweight='bold')\n",
    "\n",
    "plt.xlabel('Total Number of Wins', fontsize=8, fontweight='bold')\n",
    "plt.ylabel('Average Impact/Standard Deviation', fontsize=8, fontweight='bold')\n",
    "\n",
    "plt.legend(loc='upper left', scatterpoints=1, frameon=False)\n",
    "\n",
    "\n",
    "# Visualization for 2003\n",
    "\n",
    "plt.scatter(lst_ranked_team_impact_df[3]['W'], lst_ranked_team_impact_df[3][\"IMP_MEAN\"], c = 'blue', label = 'Average Impact')\n",
    "plt.hold\n",
    "plt.scatter(lst_ranked_team_impact_df[3]['W'], lst_ranked_team_impact_df[3][\"IMP_STD\"], c = 'red', label = 'Standard Deviation')\n",
    "\n",
    "plt.title('Wins vs Average Impact/Standard Deviation of Impact in 2003', fontsize=18, fontweight='bold')\n",
    "\n",
    "plt.xlabel('Total Number of Wins', fontsize=8, fontweight='bold')\n",
    "plt.ylabel('Average Impact/Standard Deviation', fontsize=8, fontweight='bold')\n",
    "\n",
    "plt.legend(loc='upper left', scatterpoints=1, frameon=False)\n",
    "\n",
    "\n",
    "# Visualization for 2004\n",
    "\n",
    "plt.scatter(lst_ranked_team_impact_df[4]['W'], lst_ranked_team_impact_df[4][\"IMP_MEAN\"], c = 'blue', label = 'Average Impact')\n",
    "plt.hold\n",
    "plt.scatter(lst_ranked_team_impact_df[4]['W'], lst_ranked_team_impact_df[4][\"IMP_STD\"], c = 'red', label = 'Standard Deviation')\n",
    "\n",
    "plt.title('Wins vs Average Impact/Standard Deviation of Impact in 2004', fontsize=18, fontweight='bold')\n",
    "\n",
    "plt.xlabel('Total Number of Wins', fontsize=8, fontweight='bold')\n",
    "plt.ylabel('Average Impact/Standard Deviation', fontsize=8, fontweight='bold')\n",
    "\n",
    "plt.legend(loc='upper left', scatterpoints=1, frameon=False)\n",
    "\n",
    "\n",
    "# Visualization for 2005\n",
    "\n",
    "plt.scatter(lst_ranked_team_impact_df[5]['W'], lst_ranked_team_impact_df[5][\"IMP_MEAN\"], c = 'blue', label = 'Average Impact')\n",
    "plt.hold\n",
    "plt.scatter(lst_ranked_team_impact_df[5]['W'], lst_ranked_team_impact_df[5][\"IMP_STD\"], c = 'red', label = 'Standard Deviation')\n",
    "\n",
    "plt.title('Wins vs Average Impact/Standard Deviation of Impact in 2005', fontsize=18, fontweight='bold')\n",
    "\n",
    "plt.xlabel('Total Number of Wins', fontsize=8, fontweight='bold')\n",
    "plt.ylabel('Average Impact/Standard Deviation', fontsize=8, fontweight='bold')\n",
    "\n",
    "plt.legend(loc='upper left', scatterpoints=1, frameon=False)\n",
    "\n",
    "\n",
    "# Visualization for 2006\n",
    "\n",
    "plt.scatter(lst_ranked_team_impact_df[6]['W'], lst_ranked_team_impact_df[6][\"IMP_MEAN\"], c = 'blue', label = 'Average Impact')\n",
    "plt.hold\n",
    "plt.scatter(lst_ranked_team_impact_df[6]['W'], lst_ranked_team_impact_df[6][\"IMP_STD\"], c = 'red', label = 'Standard Deviation')\n",
    "\n",
    "plt.title('Wins vs Average Impact/Standard Deviation of Impact in 2006', fontsize=18, fontweight='bold')\n",
    "\n",
    "plt.xlabel('Total Number of Wins', fontsize=8, fontweight='bold')\n",
    "plt.ylabel('Average Impact/Standard Deviation', fontsize=8, fontweight='bold')\n",
    "\n",
    "plt.legend(loc='upper left', scatterpoints=1, frameon=False)\n",
    "\n",
    "\n",
    "# Visualization for 2007\n",
    "\n",
    "plt.scatter(lst_ranked_team_impact_df[7]['W'], lst_ranked_team_impact_df[7][\"IMP_MEAN\"], c = 'blue', label = 'Average Impact')\n",
    "plt.hold\n",
    "plt.scatter(lst_ranked_team_impact_df[7]['W'], lst_ranked_team_impact_df[7][\"IMP_STD\"], c = 'red', label = 'Standard Deviation')\n",
    "\n",
    "plt.title('Wins vs Average Impact/Standard Deviation of Impact in 2007', fontsize=18, fontweight='bold')\n",
    "\n",
    "plt.xlabel('Total Number of Wins', fontsize=8, fontweight='bold')\n",
    "plt.ylabel('Average Impact/Standard Deviation', fontsize=8, fontweight='bold')\n",
    "\n",
    "plt.legend(loc='upper left', scatterpoints=1, frameon=False)\n",
    "\n",
    "\n",
    "# Visualization for 2008\n",
    "\n",
    "plt.scatter(lst_ranked_team_impact_df[8]['W'], lst_ranked_team_impact_df[8][\"IMP_MEAN\"], c = 'blue', label = 'Average Impact')\n",
    "plt.hold\n",
    "plt.scatter(lst_ranked_team_impact_df[8]['W'], lst_ranked_team_impact_df[8][\"IMP_STD\"], c = 'red', label = 'Standard Deviation')\n",
    "\n",
    "plt.title('Wins vs Average Impact/Standard Deviation of Impact in 2008', fontsize=18, fontweight='bold')\n",
    "\n",
    "plt.xlabel('Total Number of Wins', fontsize=8, fontweight='bold')\n",
    "plt.ylabel('Average Impact/Standard Deviation', fontsize=8, fontweight='bold')\n",
    "\n",
    "plt.legend(loc='upper left', scatterpoints=1, frameon=False)\n",
    "\n",
    "\n",
    "# Visualization for 2009\n",
    "\n",
    "plt.scatter(lst_ranked_team_impact_df[9]['W'], lst_ranked_team_impact_df[9][\"IMP_MEAN\"], c = 'blue', label = 'Average Impact')\n",
    "plt.hold\n",
    "plt.scatter(lst_ranked_team_impact_df[9]['W'], lst_ranked_team_impact_df[9][\"IMP_STD\"], c = 'red', label = 'Standard Deviation')\n",
    "\n",
    "plt.title('Wins vs Average Impact/Standard Deviation of Impact in 2009', fontsize=18, fontweight='bold')\n",
    "\n",
    "plt.xlabel('Total Number of Wins', fontsize=8, fontweight='bold')\n",
    "plt.ylabel('Average Impact/Standard Deviation', fontsize=8, fontweight='bold')\n",
    "\n",
    "plt.legend(loc='upper left', scatterpoints=1, frameon=False)\n",
    "\n",
    "\n",
    "# Visualization for 2010\n",
    "\n",
    "plt.scatter(lst_ranked_team_impact_df[10]['W'], lst_ranked_team_impact_df[10][\"IMP_MEAN\"], c = 'blue', label = 'Average Impact')\n",
    "plt.hold\n",
    "plt.scatter(lst_ranked_team_impact_df[10]['W'], lst_ranked_team_impact_df[10][\"IMP_STD\"], c = 'red', label = 'Standard Deviation')\n",
    "\n",
    "plt.title('Wins vs Average Impact/Standard Deviation of Impact in 2010', fontsize=18, fontweight='bold')\n",
    "\n",
    "plt.xlabel('Total Number of Wins', fontsize=8, fontweight='bold')\n",
    "plt.ylabel('Average Impact/Standard Deviation', fontsize=8, fontweight='bold')\n",
    "\n",
    "plt.legend(loc='upper left', scatterpoints=1, frameon=False)\n",
    "\n",
    "\n",
    "# Visualization for 2011\n",
    "\n",
    "plt.scatter(lst_ranked_team_impact_df[11]['W'], lst_ranked_team_impact_df[11][\"IMP_MEAN\"], c = 'blue', label = 'Average Impact')\n",
    "plt.hold\n",
    "plt.scatter(lst_ranked_team_impact_df[11]['W'], lst_ranked_team_impact_df[11][\"IMP_STD\"], c = 'red', label = 'Standard Deviation')\n",
    "\n",
    "plt.title('Wins vs Average Impact/Standard Deviation of Impact in 2011', fontsize=18, fontweight='bold')\n",
    "\n",
    "plt.xlabel('Total Number of Wins', fontsize=8, fontweight='bold')\n",
    "plt.ylabel('Average Impact/Standard Deviation', fontsize=8, fontweight='bold')\n",
    "\n",
    "plt.legend(loc='upper left', scatterpoints=1, frameon=False)\n",
    "\n",
    "\n",
    "# Visualization for 2012\n",
    "\n",
    "plt.scatter(lst_ranked_team_impact_df[12]['W'], lst_ranked_team_impact_df[12][\"IMP_MEAN\"], c = 'blue', label = 'Average Impact')\n",
    "plt.hold\n",
    "plt.scatter(lst_ranked_team_impact_df[12]['W'], lst_ranked_team_impact_df[12][\"IMP_STD\"], c = 'red', label = 'Standard Deviation')\n",
    "\n",
    "plt.title('Wins vs Average Impact/Standard Deviation of Impact in 2012', fontsize=18, fontweight='bold')\n",
    "\n",
    "plt.xlabel('Total Number of Wins', fontsize=8, fontweight='bold')\n",
    "plt.ylabel('Average Impact/Standard Deviation', fontsize=8, fontweight='bold')\n",
    "\n",
    "plt.legend(loc='upper left', scatterpoints=1, frameon=False)\n",
    "\n",
    "\n",
    "# Visualization for 2013\n",
    "\n",
    "plt.scatter(lst_ranked_team_impact_df[13]['W'], lst_ranked_team_impact_df[13][\"IMP_MEAN\"], c = 'blue', label = 'Average Impact')\n",
    "plt.hold\n",
    "plt.scatter(lst_ranked_team_impact_df[13]['W'], lst_ranked_team_impact_df[13][\"IMP_STD\"], c = 'red', label = 'Standard Deviation')\n",
    "\n",
    "plt.title('Wins vs Average Impact/Standard Deviation of Impact in 2013', fontsize=18, fontweight='bold')\n",
    "\n",
    "plt.xlabel('Total Number of Wins', fontsize=8, fontweight='bold')\n",
    "plt.ylabel('Average Impact/Standard Deviation', fontsize=8, fontweight='bold')\n",
    "\n",
    "plt.legend(loc='upper left', scatterpoints=1, frameon=False)\n",
    "\n",
    "\n",
    "# Visualization for 2014\n",
    "\n",
    "plt.scatter(lst_ranked_team_impact_df[14]['W'], lst_ranked_team_impact_df[14][\"IMP_MEAN\"], c = 'blue', label = 'Average Impact')\n",
    "plt.hold\n",
    "plt.scatter(lst_ranked_team_impact_df[14]['W'], lst_ranked_team_impact_df[14][\"IMP_STD\"], c = 'red', label = 'Standard Deviation')\n",
    "\n",
    "plt.title('Wins vs Average Impact/Standard Deviation of Impact in 2014', fontsize=18, fontweight='bold')\n",
    "\n",
    "plt.xlabel('Total Number of Wins', fontsize=8, fontweight='bold')\n",
    "plt.ylabel('Average Impact/Standard Deviation', fontsize=8, fontweight='bold')\n",
    "\n",
    "plt.legend(loc='upper left', scatterpoints=1, frameon=False)\n",
    "\n",
    "\n",
    "# Visualization for 2015\n",
    "\n",
    "plt.scatter(lst_ranked_team_impact_df[15]['W'], lst_ranked_team_impact_df[15][\"IMP_MEAN\"], c = 'blue', label = 'Average Impact')\n",
    "plt.hold\n",
    "plt.scatter(lst_ranked_team_impact_df[15]['W'], lst_ranked_team_impact_df[15][\"IMP_STD\"], c = 'red', label = 'Standard Deviation')\n",
    "\n",
    "plt.title('Wins vs Average Impact/Standard Deviation of Impact in 2015', fontsize=18, fontweight='bold')\n",
    "\n",
    "plt.xlabel('Total Number of Wins', fontsize=8, fontweight='bold')\n",
    "plt.ylabel('Average Impact/Standard Deviation', fontsize=8, fontweight='bold')\n",
    "\n",
    "plt.legend(loc='upper left', scatterpoints=1, frameon=False)\n",
    "\n",
    "\n",
    "# Visualization for 2016\n",
    "\n",
    "plt.scatter(lst_ranked_team_impact_df[16]['W'], lst_ranked_team_impact_df[16][\"IMP_MEAN\"], c = 'blue', label = 'Average Impact')\n",
    "plt.hold\n",
    "plt.scatter(lst_ranked_team_impact_df[16]['W'], lst_ranked_team_impact_df[16][\"IMP_STD\"], c = 'red', label = 'Standard Deviation')\n",
    "\n",
    "plt.title('Wins vs Average Impact/Standard Deviation of Impact in 2016', fontsize=18, fontweight='bold')\n",
    "\n",
    "plt.xlabel('Total Number of Wins', fontsize=8, fontweight='bold')\n",
    "plt.ylabel('Average Impact/Standard Deviation', fontsize=8, fontweight='bold')\n",
    "\n",
    "plt.legend(loc='upper left', scatterpoints=1, frameon=False)\n"
   ]
  },
  {
   "cell_type": "code",
   "execution_count": null,
   "metadata": {
    "collapsed": true
   },
   "outputs": [],
   "source": [
    "# Pearson correlation coefficients for average impact for each year\n",
    "\n",
    "rm0 = pearsonr(lst_ranked_team_impact_df[0]['W'], lst_ranked_team_impact_df[0][\"IMP_MEAN\"])\n",
    "rm1 = pearsonr(lst_ranked_team_impact_df[1]['W'], lst_ranked_team_impact_df[1][\"IMP_MEAN\"])\n",
    "rm2 = pearsonr(lst_ranked_team_impact_df[2]['W'], lst_ranked_team_impact_df[2][\"IMP_MEAN\"])\n",
    "rm3 = pearsonr(lst_ranked_team_impact_df[3]['W'], lst_ranked_team_impact_df[3][\"IMP_MEAN\"])\n",
    "rm4 = pearsonr(lst_ranked_team_impact_df[4]['W'], lst_ranked_team_impact_df[4][\"IMP_MEAN\"])\n",
    "rm5 = pearsonr(lst_ranked_team_impact_df[5]['W'], lst_ranked_team_impact_df[5][\"IMP_MEAN\"])\n",
    "rm6 = pearsonr(lst_ranked_team_impact_df[6]['W'], lst_ranked_team_impact_df[6][\"IMP_MEAN\"])\n",
    "rm7 = pearsonr(lst_ranked_team_impact_df[7]['W'], lst_ranked_team_impact_df[7][\"IMP_MEAN\"])\n",
    "rm8 = pearsonr(lst_ranked_team_impact_df[8]['W'], lst_ranked_team_impact_df[8][\"IMP_MEAN\"])\n",
    "rm9 = pearsonr(lst_ranked_team_impact_df[9]['W'], lst_ranked_team_impact_df[9][\"IMP_MEAN\"])\n",
    "rm10 = pearsonr(lst_ranked_team_impact_df[10]['W'], lst_ranked_team_impact_df[10][\"IMP_MEAN\"])\n",
    "rm11 = pearsonr(lst_ranked_team_impact_df[11]['W'], lst_ranked_team_impact_df[11][\"IMP_MEAN\"])\n",
    "rm12 = pearsonr(lst_ranked_team_impact_df[12]['W'], lst_ranked_team_impact_df[12][\"IMP_MEAN\"])\n",
    "rm13 = pearsonr(lst_ranked_team_impact_df[13]['W'], lst_ranked_team_impact_df[13][\"IMP_MEAN\"])\n",
    "rm14 = pearsonr(lst_ranked_team_impact_df[14]['W'], lst_ranked_team_impact_df[14][\"IMP_MEAN\"])\n",
    "rm15 = pearsonr(lst_ranked_team_impact_df[15]['W'], lst_ranked_team_impact_df[15][\"IMP_MEAN\"])\n",
    "rm16 = pearsonr(lst_ranked_team_impact_df[16]['W'], lst_ranked_team_impact_df[16][\"IMP_MEAN\"])\n",
    "\n",
    "# Average pearson correlation coefficient for average impact for each year\n",
    "\n",
    "a = rm0[0] + rm1[0] + rm2[0] + rm3[0] + rm4[0] + rm5[0] + rm6[0] + rm7[0] + rm8[0] + rm9[0] + rm10[0] + rm11[0] + rm12[0] + rm13[0] + rm14[0] + rm15[0] + rm16[0]\n",
    "avg_mean_r = (a)/(17)\n",
    "\n",
    "\n",
    "\n",
    "# Pearson correlation coefficients for standard deviation of impact for each year\n",
    "\n",
    "rs0 = pearsonr(lst_ranked_team_impact_df[0]['W'], lst_ranked_team_impact_df[0][\"IMP_STD\"])\n",
    "rs1 = pearsonr(lst_ranked_team_impact_df[1]['W'], lst_ranked_team_impact_df[1][\"IMP_STD\"])\n",
    "rs2 = pearsonr(lst_ranked_team_impact_df[2]['W'], lst_ranked_team_impact_df[2][\"IMP_STD\"])\n",
    "rs3 = pearsonr(lst_ranked_team_impact_df[3]['W'], lst_ranked_team_impact_df[3][\"IMP_STD\"])\n",
    "rs4 = pearsonr(lst_ranked_team_impact_df[4]['W'], lst_ranked_team_impact_df[4][\"IMP_STD\"])\n",
    "rs5 = pearsonr(lst_ranked_team_impact_df[5]['W'], lst_ranked_team_impact_df[5][\"IMP_STD\"])\n",
    "rs6 = pearsonr(lst_ranked_team_impact_df[6]['W'], lst_ranked_team_impact_df[6][\"IMP_STD\"])\n",
    "rs7 = pearsonr(lst_ranked_team_impact_df[7]['W'], lst_ranked_team_impact_df[7][\"IMP_STD\"])\n",
    "rs8 = pearsonr(lst_ranked_team_impact_df[8]['W'], lst_ranked_team_impact_df[8][\"IMP_STD\"])\n",
    "rs9 = pearsonr(lst_ranked_team_impact_df[9]['W'], lst_ranked_team_impact_df[9][\"IMP_STD\"])\n",
    "rs10 = pearsonr(lst_ranked_team_impact_df[10]['W'], lst_ranked_team_impact_df[10][\"IMP_STD\"])\n",
    "rs11 = pearsonr(lst_ranked_team_impact_df[11]['W'], lst_ranked_team_impact_df[11][\"IMP_STD\"])\n",
    "rs12 = pearsonr(lst_ranked_team_impact_df[12]['W'], lst_ranked_team_impact_df[12][\"IMP_STD\"])\n",
    "rs13 = pearsonr(lst_ranked_team_impact_df[13]['W'], lst_ranked_team_impact_df[13][\"IMP_STD\"])\n",
    "rs14 = pearsonr(lst_ranked_team_impact_df[14]['W'], lst_ranked_team_impact_df[14][\"IMP_STD\"])\n",
    "rs15 = pearsonr(lst_ranked_team_impact_df[15]['W'], lst_ranked_team_impact_df[15][\"IMP_STD\"])\n",
    "rs16 = pearsonr(lst_ranked_team_impact_df[16]['W'], lst_ranked_team_impact_df[16][\"IMP_STD\"])\n",
    "\n",
    "# Average pearson correlation coefficient for standard deviation of impact for each year\n",
    "\n",
    "b = rs0[0] + rs1[0] + rs2[0] + rs3[0] + rs4[0] + rs5[0] + rs6[0] + rs7[0] + rs8[0] + rs9[0] + rs10[0] + rs11[0] + rs12[0] + rs13[0] + rs14[0] + rs15[0] + rs16[0]\n",
    "avg_std_r = (b)/(17)\n",
    "\n",
    "print(avg_mean_r)\n",
    "print(avg_std_r)"
   ]
  },
  {
   "cell_type": "markdown",
   "metadata": {},
   "source": [
    "# Data Analysis and Results\n",
    "\n"
   ]
  },
  {
   "cell_type": "markdown",
   "metadata": {},
   "source": [
    "# Conclusion and Discussion\n",
    "\n"
   ]
  },
  {
   "cell_type": "code",
   "execution_count": null,
   "metadata": {
    "collapsed": true
   },
   "outputs": [],
   "source": []
  }
 ],
 "metadata": {
  "kernelspec": {
   "display_name": "Python 3",
   "language": "python",
   "name": "python3"
  },
  "language_info": {
   "codemirror_mode": {
    "name": "ipython",
    "version": 3
   },
   "file_extension": ".py",
   "mimetype": "text/x-python",
   "name": "python",
   "nbconvert_exporter": "python",
   "pygments_lexer": "ipython3",
   "version": "3.6.3"
  }
 },
 "nbformat": 4,
 "nbformat_minor": 2
}
