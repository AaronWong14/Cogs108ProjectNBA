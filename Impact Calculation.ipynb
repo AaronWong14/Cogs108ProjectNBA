{
 "cells": [
  {
   "cell_type": "code",
   "execution_count": 9,
   "metadata": {},
   "outputs": [],
   "source": [
    "#Imports\n",
    "%matplotlib inline\n",
    "from scipy import stats\n",
    "\n",
    "import scipy\n",
    "import math\n",
    "import numpy as np\n",
    "import pandas as pd\n",
    "import matplotlib.pyplot as plt"
   ]
  },
  {
   "cell_type": "code",
   "execution_count": 2,
   "metadata": {},
   "outputs": [
    {
     "name": "stdout",
     "output_type": "stream",
     "text": [
      "<class 'pandas.core.frame.DataFrame'>\n"
     ]
    }
   ],
   "source": [
    "#list of players stats datafromes\n",
    "lst_players_df = []\n",
    "#over range 0-16 read csv into list\n",
    "for i in range(17):\n",
    "    if i < 10:\n",
    "        lst_players_df.append(pd.read_csv('clean_players_200'+str(i)+'.csv'))\n",
    "    else:\n",
    "        lst_players_df.append(pd.read_csv('clean_players_20'+str(i)+'.csv'))\n",
    "        \n",
    "print(type(lst_players_df[0]))"
   ]
  },
  {
   "cell_type": "code",
   "execution_count": 25,
   "metadata": {},
   "outputs": [],
   "source": [
    "for df in lst_players_df: #for each df in list\n",
    "    #Each show to be likley from a LOGNORM distrobution\n",
    "    #So we are converting each value to its log value to normalize the \n",
    "    #distribution so that we can use the z-score test for impact calculation\n",
    "    #getting rid of 0's replacing with 1/minplayed ((1/game)/(min/game)) \n",
    "    df['PTS'].replace(0, 1/df['MIN'], inplace = True)\n",
    "    df['AST'].replace(0, 1/df['MIN'], inplace = True)\n",
    "    df['TOV'].replace(0, 1/df['MIN'], inplace = True)\n",
    "    df['REB'].replace(0, 1/df['MIN'], inplace = True)\n",
    "    df['STL'].replace(0, 1/df['MIN'], inplace = True)\n",
    "    df['BLK'].replace(0, 1/df['MIN'], inplace = True)\n",
    "    df['LOGPTS'] = np.log(df['PTS'])\n",
    "    df['LOGAST'] = np.log(df['AST'])\n",
    "    df['LOGTOV'] = np.log(df['TOV'])\n",
    "    df['LOGREB'] = np.log(df['REB'])\n",
    "    df['LOGSTL'] = np.log(df['STL'])\n",
    "    df['LOGBLK'] = np.log(df['BLK'])"
   ]
  },
  {
   "cell_type": "code",
   "execution_count": 26,
   "metadata": {},
   "outputs": [],
   "source": [
    "#list of average points/pergame for each season\n",
    "lst_yearly_logpts_avg = []\n",
    "#list of points/pergame standard deviation for each season\n",
    "lst_yearly_logpts_stddev = [] \n",
    "for df in lst_players_df: #for each df in list of player stat df\n",
    "    lst_yearly_logpts_avg.append(np.mean(df['LOGPTS']))#calculate avg points and append into list of avgs\n",
    "    lst_yearly_logpts_stddev.append(np.std(df['LOGPTS']))#calculate stddev of points and append into list of stddevs\n",
    "\n",
    "\n",
    "#list of average assist/pergame for each season\n",
    "lst_yearly_logast_avg = [] \n",
    "#list of assist/pergame standard deviation for each season\n",
    "lst_yearly_logast_stddev = [] \n",
    "for df in lst_players_df: #for each df in list of player stat df\n",
    "    lst_yearly_logast_avg.append(np.mean(df['LOGAST']))#calculate avg assist and append into list of avgs\n",
    "    lst_yearly_logast_stddev.append(np.std(df['LOGAST']))#calculate stddev of assist and append into list of stddevs\n",
    "\n",
    "#list of average turnover/pergame for each season\n",
    "lst_yearly_logtov_avg = [] \n",
    "#list of turnover/pergame standard deviation for each season\n",
    "lst_yearly_logtov_stddev = [] \n",
    "for df in lst_players_df: #for each df in list of player stat df\n",
    "    lst_yearly_logtov_avg.append(np.mean(df['LOGTOV']))#calculate avg turnover and append into list of avgs\n",
    "    lst_yearly_logtov_stddev.append(np.std(df['LOGTOV']))#calculate stddev of turnover and append into list of stddevs\n",
    "\n",
    "#list of average rebound/pergame for each season\n",
    "lst_yearly_logreb_avg = [] \n",
    "#list of rebound/pergame standard deviation for each season\n",
    "lst_yearly_logreb_stddev = [] \n",
    "for df in lst_players_df: #for each df in list of player stat df\n",
    "    lst_yearly_logreb_avg.append(np.mean(df['LOGREB']))#calculate avg rebound and append into list of avgs\n",
    "    lst_yearly_logreb_stddev.append(np.std(df['LOGREB']))#calculate stddev of rebound and append into list of stddevs\n",
    "\n",
    "#list of average steal/pergame for each season\n",
    "lst_yearly_logstl_avg = [] \n",
    "#list of steal/pergame standard deviation for each season\n",
    "lst_yearly_logstl_stddev = []\n",
    "for df in lst_players_df: #for each df in list of player stat df\n",
    "    lst_yearly_logstl_avg.append(np.mean(df['LOGSTL']))#calculate avg steal and append into list of avgs\n",
    "    lst_yearly_logstl_stddev.append(np.std(df['LOGSTL']))#calculate stddev of steal and append into list of stddevs\n",
    "\n",
    "#list of average block/pergame for each season\n",
    "lst_yearly_logblk_avg = [] \n",
    "#list of block/pergame standard deviation for each season\n",
    "lst_yearly_logblk_stddev = [] \n",
    "for df in lst_players_df: #for each df in list of player stat df\n",
    "    lst_yearly_logblk_avg.append(np.mean(df['LOGBLK']))#calculate avg block and append into list of avgs\n",
    "    lst_yearly_logblk_stddev.append(np.std(df['LOGBLK']))#calculate stddev of block and append into list of stddevs\n",
    "    "
   ]
  },
  {
   "cell_type": "code",
   "execution_count": 31,
   "metadata": {},
   "outputs": [],
   "source": [
    "#setting arbitraty weights valued based on consensus of how much each stat was worth in points\n",
    "f_pts_weight = 1.0 #1 point is worth 1 points\n",
    "f_reb_weight = 1.2 #rebounds don't necessarily lead to a score but give more oppotunities for them so estimated by 2.3 * .55(hish est fg%)\n",
    "f_blk_weight = 2.3 #denial of a shot 2-3, twos are more common than threes so that is why it is 2.3 instead of 2.5\n",
    "f_stl_weight = 1.8 #worth more than rebound due to likleyhood of fastbreak\n",
    "f_ast_weight = 2.3 #always leads to a score so opposite of block\n",
    "f_tov_weight = -1.8 #basically opposite of steal"
   ]
  },
  {
   "cell_type": "code",
   "execution_count": 62,
   "metadata": {},
   "outputs": [],
   "source": [
    "#calculating impact\n",
    "index = 0\n",
    "    \n",
    "for df in lst_players_df:\n",
    "    impact_val = []\n",
    "    for i, row in df.iterrows():\n",
    "        #calculate z-score of normalized distribution\n",
    "        pts_zval = (row['LOGPTS']-lst_yearly_logpts_avg[index])/lst_yearly_logpts_stddev[index]\n",
    "        ast_zval = (row['LOGAST']-lst_yearly_logast_avg[index])/lst_yearly_logast_stddev[index]\n",
    "        reb_zval = (row['LOGREB']-lst_yearly_logreb_avg[index])/lst_yearly_logreb_stddev[index]\n",
    "        blk_zval = (row['LOGBLK']-lst_yearly_logblk_avg[index])/lst_yearly_logblk_stddev[index]\n",
    "        stl_zval = (row['LOGSTL']-lst_yearly_logstl_avg[index])/lst_yearly_logstl_stddev[index]\n",
    "        tov_zval = (row['LOGTOV']-lst_yearly_logtov_avg[index])/lst_yearly_logtov_stddev[index]\n",
    "        impact_val.append((row['LOGPTS']*f_pts_weight*math.e**(pts_zval/6)) +\\\n",
    "                          (row['LOGAST']*f_ast_weight*math.e**(ast_zval/6)) +\\\n",
    "                          (row['LOGREB']*f_reb_weight*math.e**(reb_zval/6)) +\\\n",
    "                          (row['LOGBLK']*f_blk_weight*math.e**(blk_zval/6)) +\\\n",
    "                          (row['LOGSTL']*f_stl_weight*math.e**(stl_zval/6)) +\\\n",
    "                          (row['LOGTOV']*f_tov_weight*math.e**(tov_zval/6)))\n",
    "    df[\"IMPACT\"] = impact_val\n",
    "    index += 1\n"
   ]
  },
  {
   "cell_type": "code",
   "execution_count": 63,
   "metadata": {},
   "outputs": [
    {
     "name": "stdout",
     "output_type": "stream",
     "text": [
      "0      -2.183681\n",
      "1       4.665583\n",
      "2       1.827311\n",
      "3       3.089308\n",
      "4       2.996319\n",
      "5       3.016108\n",
      "6      -0.825868\n",
      "7       0.958333\n",
      "8       7.655255\n",
      "9       6.184167\n",
      "10     -8.197858\n",
      "11     -6.818123\n",
      "12      6.675433\n",
      "13     -6.095111\n",
      "14      9.756816\n",
      "15      6.994901\n",
      "16     -2.567399\n",
      "17      5.618507\n",
      "18     -0.773325\n",
      "19      5.037823\n",
      "20      1.686134\n",
      "21     10.304651\n",
      "22      5.385589\n",
      "23      0.544923\n",
      "24      8.696279\n",
      "25      0.805495\n",
      "26      6.489233\n",
      "27      4.516601\n",
      "28     -3.234039\n",
      "29     -1.531071\n",
      "         ...    \n",
      "381     2.612373\n",
      "382    -6.231000\n",
      "383    11.272528\n",
      "384     3.379433\n",
      "385    -0.061299\n",
      "386    -0.904489\n",
      "387     2.254960\n",
      "388     2.165853\n",
      "389    16.036513\n",
      "390     1.922875\n",
      "391     2.749930\n",
      "392     2.206616\n",
      "393     8.766758\n",
      "394    -2.568678\n",
      "395     8.579893\n",
      "396     1.588283\n",
      "397    -1.657501\n",
      "398    -4.503538\n",
      "399     2.310252\n",
      "400     4.060462\n",
      "401    -0.297576\n",
      "402    -3.568131\n",
      "403    -3.208313\n",
      "404     5.525930\n",
      "405    -2.675358\n",
      "406     7.475141\n",
      "407    -6.151667\n",
      "408     0.620165\n",
      "409    -2.702663\n",
      "410     3.469833\n",
      "Name: IMPACT, Length: 411, dtype: float64\n"
     ]
    },
    {
     "data": {
      "text/plain": [
       "<matplotlib.axes._subplots.AxesSubplot at 0x2e6b9d14c88>"
      ]
     },
     "execution_count": 63,
     "metadata": {},
     "output_type": "execute_result"
    },
    {
     "data": {
      "image/png": "[encoded data removed]",
      "text/plain": [
       "<matplotlib.figure.Figure at 0x2e6b9c28588>"
      ]
     },
     "metadata": {},
     "output_type": "display_data"
    }
   ],
   "source": [
    "print(lst_players_df[1]['IMPACT'])\n",
    "lst_players_df[1]['IMPACT'].plot.hist(bins = 40)"
   ]
  },
  {
   "cell_type": "code",
   "execution_count": null,
   "metadata": {
    "collapsed": true
   },
   "outputs": [],
   "source": []
  }
 ],
 "metadata": {
  "kernelspec": {
   "display_name": "Python 3",
   "language": "python",
   "name": "python3"
  },
  "language_info": {
   "codemirror_mode": {
    "name": "ipython",
    "version": 3
   },
   "file_extension": ".py",
   "mimetype": "text/x-python",
   "name": "python",
   "nbconvert_exporter": "python",
   "pygments_lexer": "ipython3",
   "version": "3.6.4"
  }
 },
 "nbformat": 4,
 "nbformat_minor": 2
}
