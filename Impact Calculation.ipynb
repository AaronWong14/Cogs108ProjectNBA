{
 "cells": [
  {
   "cell_type": "code",
   "execution_count": 1,
   "metadata": {
    "collapsed": true
   },
   "outputs": [],
   "source": [
    "#Imports\n",
    "%matplotlib inline\n",
    "from scipy import stats\n",
    "\n",
    "import scipy\n",
    "import math\n",
    "import numpy as np\n",
    "import pandas as pd\n",
    "import matplotlib.pyplot as plt"
   ]
  },
  {
   "cell_type": "code",
   "execution_count": 2,
   "metadata": {},
   "outputs": [
    {
     "name": "stdout",
     "output_type": "stream",
     "text": [
      "<class 'pandas.core.frame.DataFrame'>\n"
     ]
    }
   ],
   "source": [
    "#list of players stats datafromes\n",
    "lst_players_df = []\n",
    "#over range 0-16 read csv into list\n",
    "for i in range(17):\n",
    "    if i < 10:\n",
    "        lst_players_df.append(pd.read_csv('clean_players_200'+str(i)+'.csv'))\n",
    "    else:\n",
    "        lst_players_df.append(pd.read_csv('clean_players_20'+str(i)+'.csv'))\n",
    "        \n",
    "print(type(lst_players_df[0]))"
   ]
  },
  {
   "cell_type": "code",
   "execution_count": 3,
   "metadata": {
    "collapsed": true
   },
   "outputs": [],
   "source": [
    "for df in lst_players_df: #for each df in list\n",
    "    #Each show to be likley from a LOGNORM distrobution\n",
    "    #So we are converting each value to its log value to normalize the \n",
    "    #distribution so that we can use the z-score test for impact calculation\n",
    "    #getting rid of 0's replacing with 1/minplayed ((1/game)/(min/game)) \n",
    "    df['PTS'].replace(0, 1/df['MIN'], inplace = True)\n",
    "    df['AST'].replace(0, 1/df['MIN'], inplace = True)\n",
    "    df['TOV'].replace(0, 1/df['MIN'], inplace = True)\n",
    "    df['REB'].replace(0, 1/df['MIN'], inplace = True)\n",
    "    df['STL'].replace(0, 1/df['MIN'], inplace = True)\n",
    "    df['BLK'].replace(0, 1/df['MIN'], inplace = True)\n",
    "    df['LOGPTS'] = np.log(df['PTS'])\n",
    "    df['LOGAST'] = np.log(df['AST'])\n",
    "    df['LOGTOV'] = np.log(df['TOV'])\n",
    "    df['LOGREB'] = np.log(df['REB'])\n",
    "    df['LOGSTL'] = np.log(df['STL'])\n",
    "    df['LOGBLK'] = np.log(df['BLK'])"
   ]
  },
  {
   "cell_type": "code",
   "execution_count": 4,
   "metadata": {
    "collapsed": true
   },
   "outputs": [],
   "source": [
    "#list of average points/pergame for each season\n",
    "lst_yearly_logpts_avg = []\n",
    "#list of points/pergame standard deviation for each season\n",
    "lst_yearly_logpts_stddev = [] \n",
    "for df in lst_players_df: #for each df in list of player stat df\n",
    "    lst_yearly_logpts_avg.append(np.mean(df['LOGPTS']))#calculate avg points and append into list of avgs\n",
    "    lst_yearly_logpts_stddev.append(np.std(df['LOGPTS']))#calculate stddev of points and append into list of stddevs\n",
    "\n",
    "\n",
    "#list of average assist/pergame for each season\n",
    "lst_yearly_logast_avg = [] \n",
    "#list of assist/pergame standard deviation for each season\n",
    "lst_yearly_logast_stddev = [] \n",
    "for df in lst_players_df: #for each df in list of player stat df\n",
    "    lst_yearly_logast_avg.append(np.mean(df['LOGAST']))#calculate avg assist and append into list of avgs\n",
    "    lst_yearly_logast_stddev.append(np.std(df['LOGAST']))#calculate stddev of assist and append into list of stddevs\n",
    "\n",
    "#list of average turnover/pergame for each season\n",
    "lst_yearly_logtov_avg = [] \n",
    "#list of turnover/pergame standard deviation for each season\n",
    "lst_yearly_logtov_stddev = [] \n",
    "for df in lst_players_df: #for each df in list of player stat df\n",
    "    lst_yearly_logtov_avg.append(np.mean(df['LOGTOV']))#calculate avg turnover and append into list of avgs\n",
    "    lst_yearly_logtov_stddev.append(np.std(df['LOGTOV']))#calculate stddev of turnover and append into list of stddevs\n",
    "\n",
    "#list of average rebound/pergame for each season\n",
    "lst_yearly_logreb_avg = [] \n",
    "#list of rebound/pergame standard deviation for each season\n",
    "lst_yearly_logreb_stddev = [] \n",
    "for df in lst_players_df: #for each df in list of player stat df\n",
    "    lst_yearly_logreb_avg.append(np.mean(df['LOGREB']))#calculate avg rebound and append into list of avgs\n",
    "    lst_yearly_logreb_stddev.append(np.std(df['LOGREB']))#calculate stddev of rebound and append into list of stddevs\n",
    "\n",
    "#list of average steal/pergame for each season\n",
    "lst_yearly_logstl_avg = [] \n",
    "#list of steal/pergame standard deviation for each season\n",
    "lst_yearly_logstl_stddev = []\n",
    "for df in lst_players_df: #for each df in list of player stat df\n",
    "    lst_yearly_logstl_avg.append(np.mean(df['LOGSTL']))#calculate avg steal and append into list of avgs\n",
    "    lst_yearly_logstl_stddev.append(np.std(df['LOGSTL']))#calculate stddev of steal and append into list of stddevs\n",
    "\n",
    "#list of average block/pergame for each season\n",
    "lst_yearly_logblk_avg = [] \n",
    "#list of block/pergame standard deviation for each season\n",
    "lst_yearly_logblk_stddev = [] \n",
    "for df in lst_players_df: #for each df in list of player stat df\n",
    "    lst_yearly_logblk_avg.append(np.mean(df['LOGBLK']))#calculate avg block and append into list of avgs\n",
    "    lst_yearly_logblk_stddev.append(np.std(df['LOGBLK']))#calculate stddev of block and append into list of stddevs\n",
    "    "
   ]
  },
  {
   "cell_type": "code",
   "execution_count": 5,
   "metadata": {
    "collapsed": true
   },
   "outputs": [],
   "source": [
    "#setting arbitraly weights valued based on consensus of how much each stat was worth in points\n",
    "f_pts_weight = 1.0 #1 point is worth 1 points\n",
    "f_reb_weight = 1.2 #rebounds don't necessarily lead to a score but give more oppotunities for them so estimated by 2.3 * .55(hish est fg%)\n",
    "f_blk_weight = 2.3 #denial of a shot 2-3, twos are more common than threes so that is why it is 2.3 instead of 2.5\n",
    "f_stl_weight = 1.8 #worth more than rebound due to likleyhood of fastbreak\n",
    "f_ast_weight = 2.3 #always leads to a score so opposite of block\n",
    "f_tov_weight = -1.8 #basically opposite of steal"
   ]
  },
  {
   "cell_type": "code",
   "execution_count": 6,
   "metadata": {
    "collapsed": true
   },
   "outputs": [],
   "source": [
    "#calculating impact\n",
    "index = 0\n",
    "    \n",
    "for df in lst_players_df:\n",
    "    impact_val = []\n",
    "    for i, row in df.iterrows():\n",
    "        #calculate z-score of normalized distribution\n",
    "        pts_zval = (row['LOGPTS']-lst_yearly_logpts_avg[index])/lst_yearly_logpts_stddev[index]\n",
    "        ast_zval = (row['LOGAST']-lst_yearly_logast_avg[index])/lst_yearly_logast_stddev[index]\n",
    "        reb_zval = (row['LOGREB']-lst_yearly_logreb_avg[index])/lst_yearly_logreb_stddev[index]\n",
    "        blk_zval = (row['LOGBLK']-lst_yearly_logblk_avg[index])/lst_yearly_logblk_stddev[index]\n",
    "        stl_zval = (row['LOGSTL']-lst_yearly_logstl_avg[index])/lst_yearly_logstl_stddev[index]\n",
    "        tov_zval = (row['LOGTOV']-lst_yearly_logtov_avg[index])/lst_yearly_logtov_stddev[index]\n",
    "        impact_val.append((row['LOGPTS']*f_pts_weight*math.e**(pts_zval/2)) +\\\n",
    "                          (row['LOGAST']*f_ast_weight*math.e**(ast_zval/2)) +\\\n",
    "                          (row['LOGREB']*f_reb_weight*math.e**(reb_zval/2)) +\\\n",
    "                          (row['LOGBLK']*f_blk_weight*math.e**(blk_zval/2)) +\\\n",
    "                          (row['LOGSTL']*f_stl_weight*math.e**(stl_zval/2)) +\\\n",
    "                          (row['LOGTOV']*f_tov_weight*math.e**(tov_zval/2)))\n",
    "    df[\"IMPACT\"] = impact_val\n",
    "    index += 1\n"
   ]
  },
  {
   "cell_type": "code",
   "execution_count": 7,
   "metadata": {},
   "outputs": [
    {
     "name": "stdout",
     "output_type": "stream",
     "text": [
      "0      -0.953317\n",
      "1       6.944188\n",
      "2       2.250186\n",
      "3       6.530354\n",
      "4       4.024322\n",
      "5       4.270271\n",
      "6      -0.573403\n",
      "7       4.714069\n",
      "8      16.269523\n",
      "9      12.850660\n",
      "10     -3.878851\n",
      "11     -4.156092\n",
      "12     11.128466\n",
      "13     -4.250886\n",
      "14     18.677734\n",
      "15     10.679489\n",
      "16     -2.734149\n",
      "17      7.944575\n",
      "18     -1.164696\n",
      "19      7.953219\n",
      "20      5.044428\n",
      "21     -1.240455\n",
      "22      9.191327\n",
      "23      2.529415\n",
      "24     14.716240\n",
      "25      3.247497\n",
      "26     10.219007\n",
      "27      5.347970\n",
      "28     -3.045697\n",
      "29     -1.302799\n",
      "         ...    \n",
      "381     6.350287\n",
      "382    -4.341277\n",
      "383    -1.757746\n",
      "384     3.540196\n",
      "385     2.431887\n",
      "386    -0.693209\n",
      "387     4.623076\n",
      "388     2.247171\n",
      "389     3.356020\n",
      "390     3.152712\n",
      "391    -3.446483\n",
      "392     3.525674\n",
      "393    13.864701\n",
      "394    -1.531110\n",
      "395    12.744611\n",
      "396     1.334061\n",
      "397    -0.669878\n",
      "398    -3.058553\n",
      "399     2.677432\n",
      "400     6.824476\n",
      "401     0.778473\n",
      "402    -2.446698\n",
      "403    -2.513262\n",
      "404     7.125548\n",
      "405    -1.445071\n",
      "406    -2.864546\n",
      "407    -3.970449\n",
      "408     1.428109\n",
      "409    -1.443278\n",
      "410     6.062867\n",
      "Name: IMPACT, Length: 411, dtype: float64\n"
     ]
    },
    {
     "data": {
      "text/plain": [
       "<matplotlib.axes._subplots.AxesSubplot at 0x109a2d128>"
      ]
     },
     "execution_count": 7,
     "metadata": {},
     "output_type": "execute_result"
    },
    {
     "data": {
      "image/png": "[encoded data removed]",
      "text/plain": [
       "<matplotlib.figure.Figure at 0x109a2cc18>"
      ]
     },
     "metadata": {},
     "output_type": "display_data"
    }
   ],
   "source": [
    "print(lst_players_df[1]['IMPACT'])\n",
    "lst_players_df[1]['IMPACT'].plot.hist(bins = 40)"
   ]
  },
  {
   "cell_type": "code",
   "execution_count": 8,
   "metadata": {
    "collapsed": true
   },
   "outputs": [],
   "source": [
    "#create list each item is a dictionary for each season that contains each teams players individual impact values\n",
    "lst_season_team_player_impacts = []\n",
    "#for each df_season in lst_player_df\n",
    "for df_season in lst_players_df:\n",
    "    #create dictionary ['TEAM_ID'] = list of impact values of players on team\n",
    "    team_impacts_dict = dict()\n",
    "    #for each player in df_season\n",
    "    for i, row in df_season.iterrows():\n",
    "        #grab players team ID\n",
    "        key = row['TEAM_ID']\n",
    "        #check if ID is not a key in the dict\n",
    "        if key not in team_impacts_dict:\n",
    "            #then create key in dict\n",
    "            team_impacts_dict[key] = []\n",
    "        #append value into key array\n",
    "        team_impacts_dict[key].append(row['IMPACT'])\n",
    "    #append dict into list\n",
    "    lst_season_team_player_impacts.append(team_impacts_dict)"
   ]
  },
  {
   "cell_type": "code",
   "execution_count": 9,
   "metadata": {
    "collapsed": true
   },
   "outputs": [],
   "source": [
    "#create list each item is a dict for each season that contains impact mean and stddev\n",
    "lst_season_team_impact_meanstddev = []\n",
    "#for each dictionary in lst_season_team_player\n",
    "for season_dict in lst_season_team_player_impacts:\n",
    "    #create df to hold TEAM_ID, IMP_MEAN, IMP_STD\n",
    "    df_team_impact_stats = pd.DataFrame()\n",
    "    lst_team_id = []\n",
    "    lst_imp_mean = []\n",
    "    lst_imp_stddev =[]\n",
    "    #for each key in team players impacts dictionary\n",
    "    for key, values in season_dict.items(): #populate lists\n",
    "        lst_team_id.append(key)\n",
    "        lst_imp_mean.append(np.mean(values))\n",
    "        lst_imp_stddev.append(np.std(values))\n",
    "    #fill df\n",
    "    df_team_impact_stats['TEAM_ID'] = lst_team_id\n",
    "    df_team_impact_stats['IMP_MEAN'] = lst_imp_mean\n",
    "    df_team_impact_stats['IMP_STD'] = lst_imp_stddev\n",
    "    #append df into list\n",
    "    lst_season_team_impact_meanstddev.append(df_team_impact_stats)"
   ]
  },
  {
   "cell_type": "code",
   "execution_count": 10,
   "metadata": {},
   "outputs": [
    {
     "name": "stdout",
     "output_type": "stream",
     "text": [
      "0     2.679691\n",
      "1     2.295261\n",
      "2     4.516480\n",
      "3     2.724042\n",
      "4     3.432748\n",
      "5     2.274397\n",
      "6     2.374848\n",
      "7     1.751362\n",
      "8     2.459293\n",
      "9     4.383524\n",
      "10    2.126196\n",
      "11    3.133415\n",
      "12    4.093001\n",
      "13    3.809379\n",
      "14    2.656002\n",
      "15    4.454801\n",
      "16    3.617052\n",
      "17    1.959801\n",
      "18    3.996218\n",
      "19    3.495920\n",
      "20    3.517127\n",
      "21    2.701743\n",
      "22    2.650901\n",
      "23    2.920672\n",
      "24    4.082740\n",
      "25    2.751035\n",
      "26    3.915756\n",
      "27    1.337545\n",
      "28    3.454460\n",
      "Name: IMP_MEAN, dtype: float64\n"
     ]
    },
    {
     "data": {
      "text/plain": [
       "<matplotlib.axes._subplots.AxesSubplot at 0x109a2c978>"
      ]
     },
     "execution_count": 10,
     "metadata": {},
     "output_type": "execute_result"
    },
    {
     "data": {
      "image/png": "[encoded data removed]",
      "text/plain": [
       "<matplotlib.figure.Figure at 0x106db6d30>"
      ]
     },
     "metadata": {},
     "output_type": "display_data"
    }
   ],
   "source": [
    "print(lst_season_team_impact_meanstddev[0]['IMP_MEAN'])\n",
    "lst_season_team_impact_meanstddev[0]['IMP_MEAN'].plot.hist()"
   ]
  },
  {
   "cell_type": "code",
   "execution_count": 11,
   "metadata": {},
   "outputs": [
    {
     "name": "stdout",
     "output_type": "stream",
     "text": [
      "0     5.559697\n",
      "1     5.591808\n",
      "2     7.288375\n",
      "3     4.897315\n",
      "4     5.672289\n",
      "5     5.641749\n",
      "6     6.245445\n",
      "7     4.298780\n",
      "8     6.195844\n",
      "9     6.737841\n",
      "10    4.532157\n",
      "11    7.109228\n",
      "12    6.732642\n",
      "13    7.682105\n",
      "14    7.281559\n",
      "15    5.359979\n",
      "16    6.741422\n",
      "17    5.903186\n",
      "18    7.486802\n",
      "19    5.697869\n",
      "20    8.086799\n",
      "21    4.696127\n",
      "22    4.946825\n",
      "23    6.116150\n",
      "24    6.575004\n",
      "25    5.475303\n",
      "26    7.156718\n",
      "27    2.866839\n",
      "28    5.258141\n",
      "Name: IMP_STD, dtype: float64\n"
     ]
    },
    {
     "data": {
      "text/plain": [
       "<matplotlib.axes._subplots.AxesSubplot at 0x109a2c908>"
      ]
     },
     "execution_count": 11,
     "metadata": {},
     "output_type": "execute_result"
    },
    {
     "data": {
      "image/png": "[encoded data removed]",
      "text/plain": [
       "<matplotlib.figure.Figure at 0x106eee470>"
      ]
     },
     "metadata": {},
     "output_type": "display_data"
    }
   ],
   "source": [
    "print(lst_season_team_impact_meanstddev[0]['IMP_STD'])\n",
    "lst_season_team_impact_meanstddev[0]['IMP_STD'].plot.hist()"
   ]
  },
  {
   "cell_type": "code",
   "execution_count": 12,
   "metadata": {},
   "outputs": [
    {
     "name": "stdout",
     "output_type": "stream",
     "text": [
      "(29, 3)\n",
      "(29, 3)\n",
      "(29, 3)\n",
      "(29, 3)\n",
      "(30, 3)\n",
      "(30, 3)\n",
      "(30, 3)\n",
      "(30, 3)\n",
      "(30, 3)\n",
      "(30, 3)\n",
      "(30, 3)\n",
      "(30, 3)\n",
      "(30, 3)\n",
      "(30, 3)\n",
      "(30, 3)\n",
      "(30, 3)\n",
      "(30, 3)\n"
     ]
    }
   ],
   "source": [
    "for df in lst_season_team_impact_meanstddev:\n",
    "    print(df.shape)"
   ]
  },
  {
   "cell_type": "code",
   "execution_count": 13,
   "metadata": {},
   "outputs": [
    {
     "name": "stdout",
     "output_type": "stream",
     "text": [
      "    Unnamed: 0     TEAM_ID               TEAM_NAME  GP   W   L  W_PCT   MIN  \\\n",
      "0            0  1610612759       San Antonio Spurs  82  58  24  0.707  48.4   \n",
      "1            0  1610612755      Philadelphia 76ers  82  56  26  0.683  48.4   \n",
      "2            0  1610612747      Los Angeles Lakers  82  56  26  0.683  48.5   \n",
      "3            0  1610612758        Sacramento Kings  82  55  27  0.671  49.0   \n",
      "4            0  1610612762               Utah Jazz  82  53  29  0.646  48.2   \n",
      "5            0  1610612742        Dallas Mavericks  82  53  29  0.646  48.3   \n",
      "6            0  1610612749         Milwaukee Bucks  82  52  30  0.634  48.2   \n",
      "7            0  1610612756            Phoenix Suns  82  51  31  0.622  48.3   \n",
      "8            0  1610612748              Miami Heat  82  50  32  0.610  48.5   \n",
      "9            0  1610612757  Portland Trail Blazers  82  50  32  0.610  48.2   \n",
      "10           0  1610612752         New York Knicks  82  48  34  0.585  48.5   \n",
      "11           0  1610612750  Minnesota Timberwolves  82  47  35  0.573  48.4   \n",
      "12           0  1610612761         Toronto Raptors  82  47  35  0.573  48.7   \n",
      "13           0  1610612766       Charlotte Hornets  82  46  36  0.561  48.5   \n",
      "14           0  1610612745         Houston Rockets  82  45  37  0.549  48.4   \n",
      "15           0  1610612760     Seattle SuperSonics  82  44  38  0.537  48.3   \n",
      "16           0  1610612753           Orlando Magic  82  43  39  0.524  48.7   \n",
      "17           0  1610612754          Indiana Pacers  82  41  41  0.500  48.7   \n",
      "18           0  1610612743          Denver Nuggets  82  40  42  0.488  48.2   \n",
      "19           0  1610612738          Boston Celtics  82  36  46  0.439  48.4   \n",
      "20           0  1610612765         Detroit Pistons  82  32  50  0.390  48.4   \n",
      "21           0  1610612746    Los Angeles Clippers  82  31  51  0.378  48.9   \n",
      "22           0  1610612739     Cleveland Cavaliers  82  30  52  0.366  48.4   \n",
      "23           0  1610612751         New Jersey Nets  82  26  56  0.317  48.1   \n",
      "24           0  1610612737           Atlanta Hawks  82  25  57  0.305  48.1   \n",
      "25           0  1610612763     Vancouver Grizzlies  82  23  59  0.280  48.2   \n",
      "26           0  1610612764      Washington Wizards  82  19  63  0.232  48.0   \n",
      "27           0  1610612744   Golden State Warriors  82  17  65  0.207  48.2   \n",
      "28           0  1610612741           Chicago Bulls  82  15  67  0.183  48.4   \n",
      "\n",
      "     FGM   FGA           ...            TOV_RANK  STL_RANK  BLK_RANK  \\\n",
      "0   35.2  76.4           ...                   1         1         1   \n",
      "1   35.4  79.1           ...                   1         1         1   \n",
      "2   37.9  81.5           ...                   1         1         1   \n",
      "3   38.2  85.0           ...                   1         1         1   \n",
      "4   36.1  76.7           ...                   1         1         1   \n",
      "5   37.6  81.9           ...                   1         1         1   \n",
      "6   38.0  82.9           ...                   1         1         1   \n",
      "7   35.9  82.4           ...                   1         1         1   \n",
      "8   32.9  76.3           ...                   1         1         1   \n",
      "9   36.6  78.3           ...                   1         1         1   \n",
      "10  33.6  75.6           ...                   1         1         1   \n",
      "11  38.4  83.8           ...                   1         1         1   \n",
      "12  37.2  85.0           ...                   1         1         1   \n",
      "13  34.1  79.3           ...                   1         1         1   \n",
      "14  35.9  79.2           ...                   1         1         1   \n",
      "15  36.9  81.1           ...                   1         1         1   \n",
      "16  36.7  83.8           ...                   1         1         1   \n",
      "17  34.5  78.4           ...                   1         1         1   \n",
      "18  36.3  83.9           ...                   1         1         1   \n",
      "19  33.8  79.1           ...                   1         1         1   \n",
      "20  35.6  83.9           ...                   1         1         1   \n",
      "21  35.3  78.9           ...                   1         1         1   \n",
      "22  35.2  79.7           ...                   1         1         1   \n",
      "23  33.9  79.9           ...                   1         1         1   \n",
      "24  35.1  81.3           ...                   1         1         1   \n",
      "25  35.0  79.7           ...                   1         1         1   \n",
      "26  34.5  78.7           ...                   1         1         1   \n",
      "27  35.8  87.5           ...                   1         1         1   \n",
      "28  33.2  78.2           ...                   1         1         1   \n",
      "\n",
      "    BLKA_RANK  PF_RANK  PFD_RANK  PTS_RANK  PLUS_MINUS_RANK  CFID  \\\n",
      "0           1        1         1         1                1    10   \n",
      "1           1        1         1         1                1    10   \n",
      "2           1        1         1         1                1    10   \n",
      "3           1        1         1         1                1    10   \n",
      "4           1        1         1         1                1    10   \n",
      "5           1        1         1         1                1    10   \n",
      "6           1        1         1         1                1    10   \n",
      "7           1        1         1         1                1    10   \n",
      "8           1        1         1         1                1    10   \n",
      "9           1        1         1         1                1    10   \n",
      "10          1        1         1         1                1    10   \n",
      "11          1        1         1         1                1    10   \n",
      "12          1        1         1         1                1    10   \n",
      "13          1        1         1         1                1    10   \n",
      "14          1        1         1         1                1    10   \n",
      "15          1        1         1         1                1    10   \n",
      "16          1        1         1         1                1    10   \n",
      "17          1        1         1         1                1    10   \n",
      "18          1        1         1         1                1    10   \n",
      "19          1        1         1         1                1    10   \n",
      "20          1        1         1         1                1    10   \n",
      "21          1        1         1         1                1    10   \n",
      "22          1        1         1         1                1    10   \n",
      "23          1        1         1         1                1    10   \n",
      "24          1        1         1         1                1    10   \n",
      "25          1        1         1         1                1    10   \n",
      "26          1        1         1         1                1    10   \n",
      "27          1        1         1         1                1    10   \n",
      "28          1        1         1         1                1    10   \n",
      "\n",
      "                  CFPARAMS  \n",
      "0        San Antonio Spurs  \n",
      "1       Philadelphia 76ers  \n",
      "2       Los Angeles Lakers  \n",
      "3         Sacramento Kings  \n",
      "4                Utah Jazz  \n",
      "5         Dallas Mavericks  \n",
      "6          Milwaukee Bucks  \n",
      "7             Phoenix Suns  \n",
      "8               Miami Heat  \n",
      "9   Portland Trail Blazers  \n",
      "10         New York Knicks  \n",
      "11  Minnesota Timberwolves  \n",
      "12         Toronto Raptors  \n",
      "13       Charlotte Hornets  \n",
      "14         Houston Rockets  \n",
      "15     Seattle SuperSonics  \n",
      "16           Orlando Magic  \n",
      "17          Indiana Pacers  \n",
      "18          Denver Nuggets  \n",
      "19          Boston Celtics  \n",
      "20         Detroit Pistons  \n",
      "21    Los Angeles Clippers  \n",
      "22     Cleveland Cavaliers  \n",
      "23         New Jersey Nets  \n",
      "24           Atlanta Hawks  \n",
      "25     Vancouver Grizzlies  \n",
      "26      Washington Wizards  \n",
      "27   Golden State Warriors  \n",
      "28           Chicago Bulls  \n",
      "\n",
      "[29 rows x 57 columns]\n"
     ]
    }
   ],
   "source": [
    "lst_ranked_teams_df = []\n",
    "#over range 0-16 read csv into list\n",
    "for i in range(17):\n",
    "    if i < 10:\n",
    "        lst_ranked_teams_df.append(pd.read_csv('ranked_teams_200'+str(i)+'.csv'))\n",
    "    else:\n",
    "        lst_ranked_teams_df.append(pd.read_csv('ranked_teams_20'+str(i)+'.csv'))\n",
    "        \n",
    "print(lst_ranked_teams_df[0])"
   ]
  },
  {
   "cell_type": "code",
   "execution_count": 14,
   "metadata": {},
   "outputs": [
    {
     "name": "stdout",
     "output_type": "stream",
     "text": [
      "    Unnamed: 0     TEAM_ID               TEAM_NAME  GP   W   L  W_PCT   MIN  \\\n",
      "0            0  1610612759       San Antonio Spurs  82  58  24  0.707  48.4   \n",
      "1            0  1610612755      Philadelphia 76ers  82  56  26  0.683  48.4   \n",
      "2            0  1610612747      Los Angeles Lakers  82  56  26  0.683  48.5   \n",
      "3            0  1610612758        Sacramento Kings  82  55  27  0.671  49.0   \n",
      "4            0  1610612762               Utah Jazz  82  53  29  0.646  48.2   \n",
      "5            0  1610612742        Dallas Mavericks  82  53  29  0.646  48.3   \n",
      "6            0  1610612749         Milwaukee Bucks  82  52  30  0.634  48.2   \n",
      "7            0  1610612756            Phoenix Suns  82  51  31  0.622  48.3   \n",
      "8            0  1610612748              Miami Heat  82  50  32  0.610  48.5   \n",
      "9            0  1610612757  Portland Trail Blazers  82  50  32  0.610  48.2   \n",
      "10           0  1610612752         New York Knicks  82  48  34  0.585  48.5   \n",
      "11           0  1610612750  Minnesota Timberwolves  82  47  35  0.573  48.4   \n",
      "12           0  1610612761         Toronto Raptors  82  47  35  0.573  48.7   \n",
      "13           0  1610612766       Charlotte Hornets  82  46  36  0.561  48.5   \n",
      "14           0  1610612745         Houston Rockets  82  45  37  0.549  48.4   \n",
      "15           0  1610612760     Seattle SuperSonics  82  44  38  0.537  48.3   \n",
      "16           0  1610612753           Orlando Magic  82  43  39  0.524  48.7   \n",
      "17           0  1610612754          Indiana Pacers  82  41  41  0.500  48.7   \n",
      "18           0  1610612743          Denver Nuggets  82  40  42  0.488  48.2   \n",
      "19           0  1610612738          Boston Celtics  82  36  46  0.439  48.4   \n",
      "20           0  1610612765         Detroit Pistons  82  32  50  0.390  48.4   \n",
      "21           0  1610612746    Los Angeles Clippers  82  31  51  0.378  48.9   \n",
      "22           0  1610612739     Cleveland Cavaliers  82  30  52  0.366  48.4   \n",
      "23           0  1610612751         New Jersey Nets  82  26  56  0.317  48.1   \n",
      "24           0  1610612737           Atlanta Hawks  82  25  57  0.305  48.1   \n",
      "25           0  1610612763     Vancouver Grizzlies  82  23  59  0.280  48.2   \n",
      "26           0  1610612764      Washington Wizards  82  19  63  0.232  48.0   \n",
      "27           0  1610612744   Golden State Warriors  82  17  65  0.207  48.2   \n",
      "28           0  1610612741           Chicago Bulls  82  15  67  0.183  48.4   \n",
      "\n",
      "     FGM   FGA    ...     BLK_RANK  BLKA_RANK  PF_RANK  PFD_RANK  PTS_RANK  \\\n",
      "0   35.2  76.4    ...            1          1        1         1         1   \n",
      "1   35.4  79.1    ...            1          1        1         1         1   \n",
      "2   37.9  81.5    ...            1          1        1         1         1   \n",
      "3   38.2  85.0    ...            1          1        1         1         1   \n",
      "4   36.1  76.7    ...            1          1        1         1         1   \n",
      "5   37.6  81.9    ...            1          1        1         1         1   \n",
      "6   38.0  82.9    ...            1          1        1         1         1   \n",
      "7   35.9  82.4    ...            1          1        1         1         1   \n",
      "8   32.9  76.3    ...            1          1        1         1         1   \n",
      "9   36.6  78.3    ...            1          1        1         1         1   \n",
      "10  33.6  75.6    ...            1          1        1         1         1   \n",
      "11  38.4  83.8    ...            1          1        1         1         1   \n",
      "12  37.2  85.0    ...            1          1        1         1         1   \n",
      "13  34.1  79.3    ...            1          1        1         1         1   \n",
      "14  35.9  79.2    ...            1          1        1         1         1   \n",
      "15  36.9  81.1    ...            1          1        1         1         1   \n",
      "16  36.7  83.8    ...            1          1        1         1         1   \n",
      "17  34.5  78.4    ...            1          1        1         1         1   \n",
      "18  36.3  83.9    ...            1          1        1         1         1   \n",
      "19  33.8  79.1    ...            1          1        1         1         1   \n",
      "20  35.6  83.9    ...            1          1        1         1         1   \n",
      "21  35.3  78.9    ...            1          1        1         1         1   \n",
      "22  35.2  79.7    ...            1          1        1         1         1   \n",
      "23  33.9  79.9    ...            1          1        1         1         1   \n",
      "24  35.1  81.3    ...            1          1        1         1         1   \n",
      "25  35.0  79.7    ...            1          1        1         1         1   \n",
      "26  34.5  78.7    ...            1          1        1         1         1   \n",
      "27  35.8  87.5    ...            1          1        1         1         1   \n",
      "28  33.2  78.2    ...            1          1        1         1         1   \n",
      "\n",
      "    PLUS_MINUS_RANK  CFID                CFPARAMS  IMP_MEAN   IMP_STD  \n",
      "0                 1    10       San Antonio Spurs  2.656002  7.281559  \n",
      "1                 1    10      Philadelphia 76ers  4.516480  7.288375  \n",
      "2                 1    10      Los Angeles Lakers  3.517127  8.086799  \n",
      "3                 1    10        Sacramento Kings  3.996218  7.486802  \n",
      "4                 1    10               Utah Jazz  2.920672  6.116150  \n",
      "5                 1    10        Dallas Mavericks  4.082740  6.575004  \n",
      "6                 1    10         Milwaukee Bucks  3.454460  5.258141  \n",
      "7                 1    10            Phoenix Suns  3.915756  7.156718  \n",
      "8                 1    10              Miami Heat  2.679691  5.559697  \n",
      "9                 1    10  Portland Trail Blazers  4.454801  5.359979  \n",
      "10                1    10         New York Knicks  2.459293  6.195844  \n",
      "11                1    10  Minnesota Timberwolves  3.809379  7.682105  \n",
      "12                1    10         Toronto Raptors  4.383524  6.737841  \n",
      "13                1    10       Charlotte Hornets  3.617052  6.741422  \n",
      "14                1    10         Houston Rockets  2.751035  5.475303  \n",
      "15                1    10     Seattle SuperSonics  3.495920  5.697869  \n",
      "16                1    10           Orlando Magic  3.133415  7.109228  \n",
      "17                1    10          Indiana Pacers  2.374848  6.245445  \n",
      "18                1    10          Denver Nuggets  4.093001  6.732642  \n",
      "19                1    10          Boston Celtics  2.274397  5.641749  \n",
      "20                1    10         Detroit Pistons  1.959801  5.903186  \n",
      "21                1    10    Los Angeles Clippers  2.701743  4.696127  \n",
      "22                1    10     Cleveland Cavaliers  2.126196  4.532157  \n",
      "23                1    10         New Jersey Nets  2.724042  4.897315  \n",
      "24                1    10           Atlanta Hawks  1.751362  4.298780  \n",
      "25                1    10     Vancouver Grizzlies  2.650901  4.946825  \n",
      "26                1    10      Washington Wizards  1.337545  2.866839  \n",
      "27                1    10   Golden State Warriors  3.432748  5.672289  \n",
      "28                1    10           Chicago Bulls  2.295261  5.591808  \n",
      "\n",
      "[29 rows x 59 columns]\n"
     ]
    }
   ],
   "source": [
    "lst_ranked_team_impact_df =[]\n",
    "for index in range(len(lst_season_team_impact_meanstddev)):\n",
    "    lst_ranked_team_impact_df.append(pd.merge(lst_ranked_teams_df[index], lst_season_team_impact_meanstddev[index], on= ['TEAM_ID']))\n",
    "\n",
    "print(lst_ranked_team_impact_df[0])"
   ]
  },
  {
   "cell_type": "code",
   "execution_count": 24,
   "metadata": {},
   "outputs": [
    {
     "data": {
      "text/html": [
       "<div>\n",
       "<style>\n",
       "    .dataframe thead tr:only-child th {\n",
       "        text-align: right;\n",
       "    }\n",
       "\n",
       "    .dataframe thead th {\n",
       "        text-align: left;\n",
       "    }\n",
       "\n",
       "    .dataframe tbody tr th {\n",
       "        vertical-align: top;\n",
       "    }\n",
       "</style>\n",
       "<table border=\"1\" class=\"dataframe\">\n",
       "  <thead>\n",
       "    <tr style=\"text-align: right;\">\n",
       "      <th></th>\n",
       "      <th>IMP_MEAN</th>\n",
       "    </tr>\n",
       "    <tr>\n",
       "      <th>CFPARAMS</th>\n",
       "      <th></th>\n",
       "    </tr>\n",
       "  </thead>\n",
       "  <tbody>\n",
       "    <tr>\n",
       "      <th>San Antonio Spurs</th>\n",
       "      <td>2.656002</td>\n",
       "    </tr>\n",
       "    <tr>\n",
       "      <th>Philadelphia 76ers</th>\n",
       "      <td>4.516480</td>\n",
       "    </tr>\n",
       "    <tr>\n",
       "      <th>Los Angeles Lakers</th>\n",
       "      <td>3.517127</td>\n",
       "    </tr>\n",
       "    <tr>\n",
       "      <th>Sacramento Kings</th>\n",
       "      <td>3.996218</td>\n",
       "    </tr>\n",
       "    <tr>\n",
       "      <th>Utah Jazz</th>\n",
       "      <td>2.920672</td>\n",
       "    </tr>\n",
       "    <tr>\n",
       "      <th>Dallas Mavericks</th>\n",
       "      <td>4.082740</td>\n",
       "    </tr>\n",
       "    <tr>\n",
       "      <th>Milwaukee Bucks</th>\n",
       "      <td>3.454460</td>\n",
       "    </tr>\n",
       "    <tr>\n",
       "      <th>Phoenix Suns</th>\n",
       "      <td>3.915756</td>\n",
       "    </tr>\n",
       "    <tr>\n",
       "      <th>Miami Heat</th>\n",
       "      <td>2.679691</td>\n",
       "    </tr>\n",
       "    <tr>\n",
       "      <th>Portland Trail Blazers</th>\n",
       "      <td>4.454801</td>\n",
       "    </tr>\n",
       "    <tr>\n",
       "      <th>New York Knicks</th>\n",
       "      <td>2.459293</td>\n",
       "    </tr>\n",
       "    <tr>\n",
       "      <th>Minnesota Timberwolves</th>\n",
       "      <td>3.809379</td>\n",
       "    </tr>\n",
       "    <tr>\n",
       "      <th>Toronto Raptors</th>\n",
       "      <td>4.383524</td>\n",
       "    </tr>\n",
       "    <tr>\n",
       "      <th>Charlotte Hornets</th>\n",
       "      <td>3.617052</td>\n",
       "    </tr>\n",
       "    <tr>\n",
       "      <th>Houston Rockets</th>\n",
       "      <td>2.751035</td>\n",
       "    </tr>\n",
       "    <tr>\n",
       "      <th>Seattle SuperSonics</th>\n",
       "      <td>3.495920</td>\n",
       "    </tr>\n",
       "    <tr>\n",
       "      <th>Orlando Magic</th>\n",
       "      <td>3.133415</td>\n",
       "    </tr>\n",
       "    <tr>\n",
       "      <th>Indiana Pacers</th>\n",
       "      <td>2.374848</td>\n",
       "    </tr>\n",
       "    <tr>\n",
       "      <th>Denver Nuggets</th>\n",
       "      <td>4.093001</td>\n",
       "    </tr>\n",
       "    <tr>\n",
       "      <th>Boston Celtics</th>\n",
       "      <td>2.274397</td>\n",
       "    </tr>\n",
       "    <tr>\n",
       "      <th>Detroit Pistons</th>\n",
       "      <td>1.959801</td>\n",
       "    </tr>\n",
       "    <tr>\n",
       "      <th>Los Angeles Clippers</th>\n",
       "      <td>2.701743</td>\n",
       "    </tr>\n",
       "    <tr>\n",
       "      <th>Cleveland Cavaliers</th>\n",
       "      <td>2.126196</td>\n",
       "    </tr>\n",
       "    <tr>\n",
       "      <th>New Jersey Nets</th>\n",
       "      <td>2.724042</td>\n",
       "    </tr>\n",
       "    <tr>\n",
       "      <th>Atlanta Hawks</th>\n",
       "      <td>1.751362</td>\n",
       "    </tr>\n",
       "    <tr>\n",
       "      <th>Vancouver Grizzlies</th>\n",
       "      <td>2.650901</td>\n",
       "    </tr>\n",
       "    <tr>\n",
       "      <th>Washington Wizards</th>\n",
       "      <td>1.337545</td>\n",
       "    </tr>\n",
       "    <tr>\n",
       "      <th>Golden State Warriors</th>\n",
       "      <td>3.432748</td>\n",
       "    </tr>\n",
       "    <tr>\n",
       "      <th>Chicago Bulls</th>\n",
       "      <td>2.295261</td>\n",
       "    </tr>\n",
       "  </tbody>\n",
       "</table>\n",
       "</div>"
      ],
      "text/plain": [
       "                        IMP_MEAN\n",
       "CFPARAMS                        \n",
       "San Antonio Spurs       2.656002\n",
       "Philadelphia 76ers      4.516480\n",
       "Los Angeles Lakers      3.517127\n",
       "Sacramento Kings        3.996218\n",
       "Utah Jazz               2.920672\n",
       "Dallas Mavericks        4.082740\n",
       "Milwaukee Bucks         3.454460\n",
       "Phoenix Suns            3.915756\n",
       "Miami Heat              2.679691\n",
       "Portland Trail Blazers  4.454801\n",
       "New York Knicks         2.459293\n",
       "Minnesota Timberwolves  3.809379\n",
       "Toronto Raptors         4.383524\n",
       "Charlotte Hornets       3.617052\n",
       "Houston Rockets         2.751035\n",
       "Seattle SuperSonics     3.495920\n",
       "Orlando Magic           3.133415\n",
       "Indiana Pacers          2.374848\n",
       "Denver Nuggets          4.093001\n",
       "Boston Celtics          2.274397\n",
       "Detroit Pistons         1.959801\n",
       "Los Angeles Clippers    2.701743\n",
       "Cleveland Cavaliers     2.126196\n",
       "New Jersey Nets         2.724042\n",
       "Atlanta Hawks           1.751362\n",
       "Vancouver Grizzlies     2.650901\n",
       "Washington Wizards      1.337545\n",
       "Golden State Warriors   3.432748\n",
       "Chicago Bulls           2.295261"
      ]
     },
     "execution_count": 24,
     "metadata": {},
     "output_type": "execute_result"
    }
   ],
   "source": [
    "customers = lst_ranked_team_impact_df[0][['CFPARAMS','IMP_MEAN']]\n",
    "customers.set_index('CFPARAMS')"
   ]
  },
  {
   "cell_type": "code",
   "execution_count": 27,
   "metadata": {},
   "outputs": [
    {
     "data": {
      "text/plain": [
       "Text(0,0.5,'Avg Impact')"
      ]
     },
     "execution_count": 27,
     "metadata": {},
     "output_type": "execute_result"
    },
    {
     "data": {
      "image/png": "[encoded data removed]",
      "text/plain": [
       "<matplotlib.figure.Figure at 0x1102126a0>"
      ]
     },
     "metadata": {},
     "output_type": "display_data"
    }
   ],
   "source": [
    "my_plot = customers.plot(kind='bar')\n",
    "my_plot.set_xlabel(\"Team Rank\")\n",
    "my_plot.set_ylabel(\"Avg Impact\")"
   ]
  },
  {
   "cell_type": "code",
   "execution_count": 28,
   "metadata": {},
   "outputs": [
    {
     "data": {
      "text/plain": [
       "Text(0,0.5,'Impact Standard Deviation')"
      ]
     },
     "execution_count": 28,
     "metadata": {},
     "output_type": "execute_result"
    },
    {
     "data": {
      "image/png": "[encoded data removed]",
      "text/plain": [
       "<matplotlib.figure.Figure at 0x110336358>"
      ]
     },
     "metadata": {},
     "output_type": "display_data"
    }
   ],
   "source": [
    "deviation_graph = lst_ranked_team_impact_df[0][['CFPARAMS','IMP_STD']]\n",
    "deviation_graph.set_index('CFPARAMS')\n",
    "my_plot = deviation_graph.plot(kind='bar')\n",
    "my_plot.set_xlabel(\"Team Rank\")\n",
    "my_plot.set_ylabel(\"Impact Standard Deviation\")"
   ]
  },
  {
   "cell_type": "code",
   "execution_count": null,
   "metadata": {
    "collapsed": true
   },
   "outputs": [],
   "source": []
  }
 ],
 "metadata": {
  "kernelspec": {
   "display_name": "Python 3",
   "language": "python",
   "name": "python3"
  },
  "language_info": {
   "codemirror_mode": {
    "name": "ipython",
    "version": 3
   },
   "file_extension": ".py",
   "mimetype": "text/x-python",
   "name": "python",
   "nbconvert_exporter": "python",
   "pygments_lexer": "ipython3",
   "version": "3.6.3"
  }
 },
 "nbformat": 4,
 "nbformat_minor": 2
}
