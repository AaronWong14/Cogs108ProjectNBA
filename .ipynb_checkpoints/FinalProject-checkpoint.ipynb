{
 "cells": [
  {
   "cell_type": "markdown",
   "metadata": {},
   "source": [
    "# Team\n",
    "Aaron Wong - A92048617 - Data Cleaning/Analysis/Consolidation\n",
    "<br>\n",
    "Kevin Ramos - A12884910 - Data Cleaning/Analysis\n",
    "<br>\n",
    "Rajiv Sancheti - A13602097 - Data Visualization/Write-up\n",
    "<br>\n",
    "Rachel Reyes - A13736589 - Data Visualization\n",
    "<br>\n",
    "Jonathan Wells - A14733230 - Statistical Analysis/Cleaning\n",
    "<br>\n",
    "Anmol Arora - A13939947 - ???? "
   ]
  },
  {
   "cell_type": "markdown",
   "metadata": {
    "collapsed": true
   },
   "source": [
    "# Introduction and Background\n",
    "__Description:__\n",
    "\n",
    "__Research Question:__\n",
    "\n",
    "__Hypothesis:__\n",
    "\n"
   ]
  },
  {
   "cell_type": "markdown",
   "metadata": {},
   "source": [
    "# Data Description\n",
    "\n",
    "\n"
   ]
  },
  {
   "cell_type": "code",
   "execution_count": 1,
   "metadata": {
    "collapsed": true
   },
   "outputs": [],
   "source": [
    "#First, we need to import all the packages\n",
    "import nba_py\n",
    "import pandas as pd\n",
    "\n",
    "from nba_py import game, player, constants, team, _api_scrape, _get_json\n",
    "from nba_py.player import PlayerList, PlayerCareer\n",
    "from nba_py.league import PlayerStats\n",
    "#from nba_py.league import TeamStats\n",
    "from nba_py.team import TeamCommonRoster\n",
    "\n",
    "%matplotlib inline\n",
    "from scipy import stats\n",
    "\n",
    "import scipy\n",
    "import math\n",
    "import numpy as np\n",
    "import pandas as pd\n",
    "import matplotlib.pyplot as plt\n"
   ]
  },
  {
   "cell_type": "code",
   "execution_count": 8,
   "metadata": {
    "collapsed": true
   },
   "outputs": [],
   "source": [
    "#For some reason, TeamStats from nba_py.league doesn't work, so we need to import the code here\n",
    "'''\n",
    "class TeamStats:\n",
    "    _endpoint = 'leaguedashteamstats'\n",
    "\n",
    "    def __init__(self,\n",
    "                 conference=constants.Conference.Default,\n",
    "                 date_from=constants.DateFrom.Default,\n",
    "                 date_to=constants.DateTo.Default,\n",
    "                 division=constants.Division.Default,\n",
    "                 game_scope=constants.Game_Scope.Default,\n",
    "                 game_segment=constants.GameSegment.Default,\n",
    "                 last_n_games=constants.LastNGames.Default,\n",
    "                 league_id=constants.League.Default,\n",
    "                 location=constants.Location.Default,\n",
    "                 measure_type=constants.MeasureType.Default,\n",
    "                 month=constants.Month.Default,\n",
    "                 opponent_team_id=constants.OpponentTeamID.Default,\n",
    "                 outcome=constants.Outcome.Default,\n",
    "                 playoff_round=constants.PlayoffRound.Default,\n",
    "                 pace_adjust=constants.PaceAdjust.Default,\n",
    "                 per_mode=constants.PerMode.Default,\n",
    "                 period=constants.Period.Default,\n",
    "                 player_experience=constants.PlayerExperience.Default,\n",
    "                 player_position=constants.PlayerPosition.Default,\n",
    "                 plus_minus=constants.PlusMinus.Default,\n",
    "                 rank=constants.Rank.Default,\n",
    "                 season=constants.CURRENT_SEASON,\n",
    "                 season_segment=constants.SeasonSegment.Default,\n",
    "                 season_type=constants.SeasonType.Default,\n",
    "                 shot_clock_range=constants.ShotClockRange.Default,\n",
    "                 starter_bench=constants.StarterBench.Default,\n",
    "                 team_id=constants.TeamID.Default,\n",
    "                 vs_conference=constants.VsConference.Default,\n",
    "                 vs_division=constants.VsDivision.Default\n",
    "                 ):\n",
    "        self.json = _get_json(endpoint=self._endpoint,\n",
    "                              params={'LeagueID': league_id,\n",
    "                                      'SeasonType': season_type,\n",
    "                                      'MeasureType': measure_type,\n",
    "                                      'PerMode': per_mode,\n",
    "                                      'PlusMinus': plus_minus,\n",
    "                                      'PaceAdjust': pace_adjust,\n",
    "                                      'Rank': rank,\n",
    "                                      'Season': season,\n",
    "                                      'PORound': playoff_round,\n",
    "                                      'Outcome': outcome,\n",
    "                                      'Location': location,\n",
    "                                      'Month': month,\n",
    "                                      'SeasonSegment': season_segment,\n",
    "                                      'DateFrom': date_from,\n",
    "                                      'DateTo': date_to,\n",
    "                                      'OpponentTeamID': opponent_team_id,\n",
    "                                      'VsConference': vs_conference,\n",
    "                                      'VsDivision': vs_division,\n",
    "                                      'TeamID': team_id,\n",
    "                                      'Conference': conference,\n",
    "                                      'Division': division,\n",
    "                                      'GameSegment': game_segment,\n",
    "                                      'Period': period,\n",
    "                                      'ShotClockRange': shot_clock_range,\n",
    "                                      'LastNGames': last_n_games,\n",
    "                                      'GameScope': game_scope,\n",
    "                                      'PlayerExperience': player_experience,\n",
    "                                      'PlayerPosition': player_position,\n",
    "                                      'StarterBench': starter_bench,\n",
    "                                      })\n",
    "\n",
    "    def overall(self):\n",
    "        return _api_scrape(self.json, 0)\n",
    "'''"
   ]
  },
  {
   "cell_type": "code",
   "execution_count": 3,
   "metadata": {
    "collapsed": true
   },
   "outputs": [],
   "source": [
    "# Get every player from 2000-2001 to 2016-2017\n",
    "# We break everything into each year since it will be easier to scrape data from the web that way\n",
    "\n",
    "df_players2000 = PlayerStats(season ='2000-01')\n",
    "\n",
    "#df_players2016.overall()"
   ]
  },
  {
   "cell_type": "code",
   "execution_count": null,
   "metadata": {
    "collapsed": true
   },
   "outputs": [],
   "source": [
    "df_players2001 = PlayerStats(season ='2001-02')"
   ]
  },
  {
   "cell_type": "code",
   "execution_count": null,
   "metadata": {
    "collapsed": true
   },
   "outputs": [],
   "source": [
    "df_players2002 = PlayerStats(season ='2002-03')"
   ]
  },
  {
   "cell_type": "code",
   "execution_count": null,
   "metadata": {
    "collapsed": true
   },
   "outputs": [],
   "source": [
    "df_players2003 = PlayerStats(season ='2003-04')"
   ]
  },
  {
   "cell_type": "code",
   "execution_count": null,
   "metadata": {
    "collapsed": true
   },
   "outputs": [],
   "source": [
    "df_players2004 = PlayerStats(season ='2004-05')"
   ]
  },
  {
   "cell_type": "code",
   "execution_count": null,
   "metadata": {
    "collapsed": true
   },
   "outputs": [],
   "source": [
    "df_players2005 = PlayerStats(season ='2005-06')"
   ]
  },
  {
   "cell_type": "code",
   "execution_count": null,
   "metadata": {
    "collapsed": true
   },
   "outputs": [],
   "source": [
    "df_players2006 = PlayerStats(season ='2006-07')"
   ]
  },
  {
   "cell_type": "code",
   "execution_count": null,
   "metadata": {
    "collapsed": true
   },
   "outputs": [],
   "source": [
    "df_players2007 = PlayerStats(season ='2007-08')"
   ]
  },
  {
   "cell_type": "code",
   "execution_count": 2,
   "metadata": {
    "collapsed": true
   },
   "outputs": [],
   "source": [
    "df_players2008 = PlayerStats(season ='2008-09')"
   ]
  },
  {
   "cell_type": "code",
   "execution_count": null,
   "metadata": {
    "collapsed": true
   },
   "outputs": [],
   "source": [
    "df_players2009 = PlayerStats(season ='2009-10')"
   ]
  },
  {
   "cell_type": "code",
   "execution_count": null,
   "metadata": {
    "collapsed": true
   },
   "outputs": [],
   "source": [
    "df_players2010 = PlayerStats(season ='2010-11')"
   ]
  },
  {
   "cell_type": "code",
   "execution_count": null,
   "metadata": {
    "collapsed": true
   },
   "outputs": [],
   "source": [
    "df_players2011 = PlayerStats(season ='2011-12')"
   ]
  },
  {
   "cell_type": "code",
   "execution_count": null,
   "metadata": {
    "collapsed": true
   },
   "outputs": [],
   "source": [
    "df_players2012 = PlayerStats(season ='2012-13')"
   ]
  },
  {
   "cell_type": "code",
   "execution_count": null,
   "metadata": {
    "collapsed": true
   },
   "outputs": [],
   "source": [
    "df_players2013 = PlayerStats(season ='2013-14')"
   ]
  },
  {
   "cell_type": "code",
   "execution_count": null,
   "metadata": {
    "collapsed": true
   },
   "outputs": [],
   "source": [
    "df_players2014 = PlayerStats(season ='2014-15')"
   ]
  },
  {
   "cell_type": "code",
   "execution_count": null,
   "metadata": {
    "collapsed": true
   },
   "outputs": [],
   "source": [
    "df_players2015 = PlayerStats(season ='2015-16')"
   ]
  },
  {
   "cell_type": "code",
   "execution_count": null,
   "metadata": {
    "collapsed": true
   },
   "outputs": [],
   "source": [
    "df_players2016 = PlayerStats(season ='2016-17')"
   ]
  },
  {
   "cell_type": "code",
   "execution_count": null,
   "metadata": {
    "collapsed": true
   },
   "outputs": [],
   "source": [
    "#Now let's import every single roster from every year. We hard coded this since we data for every team for every year\n",
    "#individually\n",
    "\n",
    "#2000 rosters for all the teams\n",
    "df_Hawks2000 = TeamCommonRoster(team_id = '1610612737', season = '2000-01')\n",
    "df_Celtics2000 = TeamCommonRoster(team_id = '1610612738', season = '2000-01')\n",
    "df_Nets2000 = TeamCommonRoster(team_id = '1610612751', season = '2000-01')\n",
    "df_Hornets2000 = TeamCommonRoster(team_id = '1610612766', season = '2000-01')\n",
    "df_Bulls2000 = TeamCommonRoster(team_id = '1610612741', season = '2000-01')\n",
    "df_Cavaliers2000 = TeamCommonRoster(team_id = '1610612739', season = '2000-01')\n",
    "df_Mavericks2000 = TeamCommonRoster(team_id = '1610612742', season = '2000-01')\n",
    "df_Nuggets2000 = TeamCommonRoster(team_id = '1610612743', season = '2000-01')\n",
    "df_Pistons2000 = TeamCommonRoster(team_id = '1610612765', season = '2000-01')\n",
    "df_Warriors2000 = TeamCommonRoster(team_id = '1610612744', season = '2000-01')\n",
    "df_Rockets2000 = TeamCommonRoster(team_id = '1610612745', season = '2000-01')\n",
    "df_Pacers2000 = TeamCommonRoster(team_id = '1610612754', season = '2000-01')\n",
    "df_Clippers2000 = TeamCommonRoster(team_id = '1610612746', season = '2000-01')\n",
    "df_Clippers2000 = TeamCommonRoster(team_id = '1610612746', season = '2000-01')\n",
    "df_Lakers2000 = TeamCommonRoster(team_id = '1610612747', season = '2000-01')\n",
    "df_Heat2000 = TeamCommonRoster(team_id = '1610612748', season = '2000-01')\n",
    "df_Bucks2000 = TeamCommonRoster(team_id = '1610612749', season = '2000-01')\n",
    "df_Timberwolves2000 = TeamCommonRoster(team_id = '1610612750', season = '2000-01')\n",
    "df_Pelicans2000 = TeamCommonRoster(team_id = '1610612740', season = '2000-01')\n",
    "df_Knicks2000 = TeamCommonRoster(team_id = '1610612752', season = '2000-01')\n",
    "df_Thunder2000 = TeamCommonRoster(team_id = '1610612760', season = '2000-01')\n",
    "df_Magic2000 = TeamCommonRoster(team_id = '1610612753', season = '2000-01')\n",
    "df_Sixers2000 = TeamCommonRoster(team_id = '1610612755', season = '2000-01')\n",
    "df_Suns2000 = TeamCommonRoster(team_id = '1610612756', season = '2000-01')\n",
    "df_TrailBlazers2000 = TeamCommonRoster(team_id = '1610612757', season = '2000-01')\n",
    "df_Kings2000 = TeamCommonRoster(team_id = '1610612758', season = '2000-01')\n",
    "df_Spurs2000 = TeamCommonRoster(team_id = '1610612759', season = '2000-01')\n",
    "df_Raptors2000 = TeamCommonRoster(team_id = '1610612761', season = '2000-01')\n",
    "df_Jazz2000 = TeamCommonRoster(team_id = '1610612762', season = '2000-01')\n",
    "df_Wizards2000 = TeamCommonRoster(team_id = '1610612764', season = '2000-01')"
   ]
  },
  {
   "cell_type": "code",
   "execution_count": null,
   "metadata": {
    "collapsed": true
   },
   "outputs": [],
   "source": [
    "#df_Wizards2000.roster()"
   ]
  },
  {
   "cell_type": "code",
   "execution_count": null,
   "metadata": {
    "collapsed": true
   },
   "outputs": [],
   "source": [
    "#2001 rosters for all the teams\n",
    "\n",
    "\n",
    "df_Hawks2001 = TeamCommonRoster(team_id = '1610612737', season = '2001-02')\n",
    "df_Celtics2001 = TeamCommonRoster(team_id = '1610612738', season = '2001-02')\n",
    "df_Nets2001 = TeamCommonRoster(team_id = '1610612751', season = '2001-02')\n",
    "df_Hornets2001 = TeamCommonRoster(team_id = '1610612766', season = '2001-02')\n",
    "df_Bulls2001 = TeamCommonRoster(team_id = '1610612741', season = '2001-02')\n",
    "df_Cavaliers2001 = TeamCommonRoster(team_id = '1610612739', season = '2001-02')\n",
    "df_Mavericks2001 = TeamCommonRoster(team_id = '1610612742', season = '2001-02')\n",
    "df_Nuggets2001 = TeamCommonRoster(team_id = '1610612743', season = '2001-02')\n",
    "df_Pistons2001 = TeamCommonRoster(team_id = '1610612765', season = '2001-02')\n",
    "df_Warriors2001 = TeamCommonRoster(team_id = '1610612744', season = '2001-02')\n",
    "df_Rockets2001 = TeamCommonRoster(team_id = '1610612745', season = '2001-02')\n",
    "df_Pacers2001 = TeamCommonRoster(team_id = '1610612754', season = '2001-02')\n",
    "df_Clippers2001 = TeamCommonRoster(team_id = '1610612746', season = '2001-02')\n",
    "df_Lakers2001 = TeamCommonRoster(team_id = '1610612747', season = '2000-01')\n",
    "df_Grizzlies2001 = TeamCommonRoster(team_id = '1610612763', season = '2001-02')\n",
    "df_Heat2001 = TeamCommonRoster(team_id = '1610612748', season = '2001-02')\n",
    "df_Bucks2001 = TeamCommonRoster(team_id = '1610612749', season = '2001-02')\n",
    "df_Timberwolves2001 = TeamCommonRoster(team_id = '1610612750', season = '2001-02')\n",
    "df_Pelicans2001 = TeamCommonRoster(team_id = '1610612740', season = '2001-02')\n",
    "df_Knicks2001 = TeamCommonRoster(team_id = '1610612752', season = '2001-02')\n",
    "df_Thunder2001 = TeamCommonRoster(team_id = '1610612760', season = '2001-02')\n",
    "df_Magic2001 = TeamCommonRoster(team_id = '1610612753', season = '2001-02')\n",
    "df_Sixers2001 = TeamCommonRoster(team_id = '1610612755', season = '2001-02')\n",
    "df_Suns2001 = TeamCommonRoster(team_id = '1610612756', season = '2001-02')\n",
    "df_TrailBlazers2001 = TeamCommonRoster(team_id = '1610612757', season = '2001-02')\n",
    "df_Kings2001 = TeamCommonRoster(team_id = '1610612758', season = '2001-02')\n",
    "df_Spurs2001 = TeamCommonRoster(team_id = '1610612759', season = '2001-02')\n",
    "df_Raptors2001 = TeamCommonRoster(team_id = '1610612761', season = '2001-02')\n",
    "df_Jazz2001 = TeamCommonRoster(team_id = '1610612762', season = '2001-02')\n",
    "df_Wizards2001 = TeamCommonRoster(team_id = '1610612764', season = '2001-02')"
   ]
  },
  {
   "cell_type": "code",
   "execution_count": null,
   "metadata": {
    "collapsed": true
   },
   "outputs": [],
   "source": [
    "#df_Wizards2001.roster()"
   ]
  },
  {
   "cell_type": "code",
   "execution_count": null,
   "metadata": {
    "collapsed": true
   },
   "outputs": [],
   "source": [
    "#2002 rosters for all the teams\n",
    "\n",
    "df_Hawks2002 = TeamCommonRoster(team_id = '1610612737', season = '2002-03')\n",
    "df_Celtics2002 = TeamCommonRoster(team_id = '1610612738', season = '2002-03')\n",
    "df_Nets2002 = TeamCommonRoster(team_id = '1610612751', season = '2002-03')\n",
    "df_Hornets2002 = TeamCommonRoster(team_id = '1610612766', season = '2002-03')\n",
    "df_Bulls2002 = TeamCommonRoster(team_id = '1610612741', season = '2002-03')\n",
    "df_Cavaliers2002 = TeamCommonRoster(team_id = '1610612739', season = '2002-03')\n",
    "df_Mavericks2002 = TeamCommonRoster(team_id = '1610612742', season = '2002-03')\n",
    "df_Nuggets2002 = TeamCommonRoster(team_id = '1610612743', season = '2002-03')\n",
    "df_Pistons2002 = TeamCommonRoster(team_id = '1610612765', season = '2002-03')\n",
    "df_Warriors2002 = TeamCommonRoster(team_id = '1610612744', season = '2002-03')\n",
    "df_Rockets2002 = TeamCommonRoster(team_id = '1610612745', season = '2002-03')\n",
    "df_Pacers2002 = TeamCommonRoster(team_id = '1610612754', season = '2002-03')\n",
    "df_Clippers2002 = TeamCommonRoster(team_id = '1610612746', season = '2002-03')\n",
    "df_Lakers2002 = TeamCommonRoster(team_id = '1610612747', season = '2002-03')\n",
    "df_Grizzlies2002 = TeamCommonRoster(team_id = '1610612763', season = '2002-03')\n",
    "df_Heat2002 = TeamCommonRoster(team_id = '1610612748', season = '2002-03')\n",
    "df_Bucks2002 = TeamCommonRoster(team_id = '1610612749', season = '2002-03')\n",
    "df_Timberwolves2002 = TeamCommonRoster(team_id = '1610612750', season = '2002-03')\n",
    "df_Pelicans2002 = TeamCommonRoster(team_id = '1610612740', season = '2002-03')\n",
    "df_Knicks2002 = TeamCommonRoster(team_id = '1610612752', season = '2002-03')\n",
    "df_Thunder2002 = TeamCommonRoster(team_id = '1610612760', season = '2002-03')\n",
    "df_Magic2002 = TeamCommonRoster(team_id = '1610612753', season = '2002-03')\n",
    "df_Sixers2002 = TeamCommonRoster(team_id = '1610612755', season = '2002-03')\n",
    "df_Suns2002 = TeamCommonRoster(team_id = '1610612756', season = '2002-03')\n",
    "df_TrailBlazers2002 = TeamCommonRoster(team_id = '1610612757', season = '2002-03')\n",
    "df_Kings2002 = TeamCommonRoster(team_id = '1610612758', season = '2002-03')\n",
    "df_Spurs2002 = TeamCommonRoster(team_id = '1610612759', season = '2002-03')\n",
    "df_Raptors2002 = TeamCommonRoster(team_id = '1610612761', season = '2002-03')\n",
    "df_Jazz2002 = TeamCommonRoster(team_id = '1610612762', season = '2002-03')\n",
    "df_Wizards2002 = TeamCommonRoster(team_id = '1610612764', season = '2002-03')"
   ]
  },
  {
   "cell_type": "code",
   "execution_count": null,
   "metadata": {
    "collapsed": true
   },
   "outputs": [],
   "source": [
    "#df_Wizards2002.roster()"
   ]
  },
  {
   "cell_type": "code",
   "execution_count": null,
   "metadata": {
    "collapsed": true
   },
   "outputs": [],
   "source": [
    "\n",
    "#2003 rosters for all the \n",
    "\n",
    "\n",
    "df_Hawks2003 = TeamCommonRoster(team_id = '1610612737', season = '2003-04')\n",
    "df_Celtics2003 = TeamCommonRoster(team_id = '1610612738', season = '2003-04')\n",
    "df_Nets2003 = TeamCommonRoster(team_id = '1610612751', season = '2003-04')\n",
    "df_Hornets2003 = TeamCommonRoster(team_id = '1610612766', season = '2003-04')\n",
    "df_Bulls2003 = TeamCommonRoster(team_id = '1610612741', season = '2003-04')\n",
    "df_Cavaliers2003 = TeamCommonRoster(team_id = '1610612739', season = '2003-04')\n",
    "df_Mavericks2003 = TeamCommonRoster(team_id = '1610612742', season = '2003-04')\n",
    "df_Nuggets2003 = TeamCommonRoster(team_id = '1610612743', season = '2003-04')\n",
    "df_Pistons2003 = TeamCommonRoster(team_id = '1610612765', season = '2003-04')\n",
    "df_Warriors2003 = TeamCommonRoster(team_id = '1610612744', season = '2003-04')\n",
    "df_Rockets2003 = TeamCommonRoster(team_id = '1610612745', season = '2003-04')\n",
    "df_Pacers2003 = TeamCommonRoster(team_id = '1610612754', season = '2003-04')\n",
    "df_Clippers2003 = TeamCommonRoster(team_id = '1610612746', season = '2003-04')\n",
    "df_Lakers2003 = TeamCommonRoster(team_id = '1610612747', season = '2003-04')\n",
    "df_Grizzlies2003 = TeamCommonRoster(team_id = '1610612763', season = '2003-04')\n",
    "df_Heat2003 = TeamCommonRoster(team_id = '1610612748', season = '2003-04')\n",
    "df_Bucks2003 = TeamCommonRoster(team_id = '1610612749', season = '2003-04')\n",
    "df_Timberwolves2003 = TeamCommonRoster(team_id = '1610612750', season = '2003-04')\n",
    "df_Pelicans2003 = TeamCommonRoster(team_id = '1610612740', season = '2003-04')\n",
    "df_Knicks2003 = TeamCommonRoster(team_id = '1610612752', season = '2003-04')\n",
    "df_Thunder2003 = TeamCommonRoster(team_id = '1610612760', season = '2003-04')\n",
    "df_Magic2003 = TeamCommonRoster(team_id = '1610612753', season = '2003-04')\n",
    "df_Sixers2003 = TeamCommonRoster(team_id = '1610612755', season = '2003-04')\n",
    "df_Suns2003 = TeamCommonRoster(team_id = '1610612756', season = '2003-04')\n",
    "df_TrailBlazers2003 = TeamCommonRoster(team_id = '1610612757', season = '2003-04')\n",
    "df_Kings2003 = TeamCommonRoster(team_id = '1610612758', season = '2003-04')\n",
    "df_Spurs2003 = TeamCommonRoster(team_id = '1610612759', season = '2003-04')\n",
    "df_Raptors2003 = TeamCommonRoster(team_id = '1610612761', season = '2003-04')\n",
    "df_Jazz2003 = TeamCommonRoster(team_id = '1610612762', season = '2003-04')\n",
    "df_Wizards2003 = TeamCommonRoster(team_id = '1610612764', season = '2003-04')"
   ]
  },
  {
   "cell_type": "code",
   "execution_count": null,
   "metadata": {
    "collapsed": true
   },
   "outputs": [],
   "source": [
    "#2004 rosters for all the teams\n",
    "\n",
    "\n",
    "df_Hawks2004 = TeamCommonRoster(team_id = '1610612737', season = '2004-05')\n",
    "df_Celtics2004 = TeamCommonRoster(team_id = '1610612738', season = '2004-05')\n",
    "df_Nets2004 = TeamCommonRoster(team_id = '1610612751', season = '2004-05')\n",
    "df_Hornets2004 = TeamCommonRoster(team_id = '1610612766', season = '2004-05')\n",
    "df_Bulls2004 = TeamCommonRoster(team_id = '1610612741', season = '2004-05')\n",
    "df_Cavaliers2004 = TeamCommonRoster(team_id = '1610612739', season = '2004-05')\n",
    "df_Mavericks2004 = TeamCommonRoster(team_id = '1610612742', season = '2004-05')\n",
    "df_Nuggets2004 = TeamCommonRoster(team_id = '1610612743', season = '2004-05')\n",
    "df_Pistons2004 = TeamCommonRoster(team_id = '1610612765', season = '2004-05')\n",
    "df_Warriors2004 = TeamCommonRoster(team_id = '1610612744', season = '2004-05')\n",
    "df_Rockets2004 = TeamCommonRoster(team_id = '1610612745', season = '2004-05')\n",
    "df_Pacers2004 = TeamCommonRoster(team_id = '1610612754', season = '2004-05')\n",
    "df_Clippers2004 = TeamCommonRoster(team_id = '1610612746', season = '2004-05')\n",
    "df_Lakers2004 = TeamCommonRoster(team_id = '1610612747', season = '2004-05')\n",
    "df_Grizzlies2004 = TeamCommonRoster(team_id = '1610612763', season = '2004-05')\n",
    "df_Heat2004 = TeamCommonRoster(team_id = '1610612748', season = '2004-05')\n",
    "df_Bucks2004 = TeamCommonRoster(team_id = '1610612749', season = '2004-05')\n",
    "df_Timberwolves2004 = TeamCommonRoster(team_id = '1610612750', season = '2004-05')\n",
    "df_Pelicans2004 = TeamCommonRoster(team_id = '1610612740', season = '2004-05')\n",
    "df_Knicks2004 = TeamCommonRoster(team_id = '1610612752', season = '2004-05')\n",
    "df_Thunder2004 = TeamCommonRoster(team_id = '1610612760', season = '2004-05')\n",
    "df_Magic2004 = TeamCommonRoster(team_id = '1610612753', season = '2004-05')\n",
    "df_Sixers2004 = TeamCommonRoster(team_id = '1610612755', season = '2004-05')\n",
    "df_Suns2004 = TeamCommonRoster(team_id = '1610612756', season = '2004-05')\n",
    "df_TrailBlazers2004 = TeamCommonRoster(team_id = '1610612757', season = '2004-05')\n",
    "df_Kings2004 = TeamCommonRoster(team_id = '1610612758', season = '2004-05')\n",
    "df_Spurs2004 = TeamCommonRoster(team_id = '1610612759', season = '2004-05')\n",
    "df_Raptors2004 = TeamCommonRoster(team_id = '1610612761', season = '2004-05')\n",
    "df_Jazz2004 = TeamCommonRoster(team_id = '1610612762', season = '2004-05')\n",
    "df_Wizards2004 = TeamCommonRoster(team_id = '1610612764', season = '2004-05')"
   ]
  },
  {
   "cell_type": "code",
   "execution_count": null,
   "metadata": {
    "collapsed": true
   },
   "outputs": [],
   "source": [
    "#2005 rosters for all the teams\n",
    "\n",
    "df_Hawks2005 = TeamCommonRoster(team_id = '1610612737', season = '2005-06')\n",
    "df_Celtics2005 = TeamCommonRoster(team_id = '1610612738', season = '2005-06')\n",
    "df_Hawks2005 = TeamCommonRoster(team_id = '1610612739', season = '2005-06')\n",
    "df_Nets2005 = TeamCommonRoster(team_id = '1610612751', season = '2005-06')\n",
    "df_Hornets2005 = TeamCommonRoster(team_id = '1610612766', season = '2005-06')\n",
    "df_Bulls2005 = TeamCommonRoster(team_id = '1610612741', season = '2005-06')\n",
    "df_Cavaliers2005 = TeamCommonRoster(team_id = '1610612739', season = '2005-06')\n",
    "df_Mavericks2005 = TeamCommonRoster(team_id = '1610612742', season = '2005-06')\n",
    "df_Nuggets2005 = TeamCommonRoster(team_id = '1610612743', season = '2005-06')\n",
    "df_Pistons2005 = TeamCommonRoster(team_id = '1610612765', season = '2005-06')\n",
    "df_Warriors2005 = TeamCommonRoster(team_id = '1610612744', season = '2005-06')\n",
    "df_Rockets2005 = TeamCommonRoster(team_id = '1610612745', season = '2005-06')\n",
    "df_Pacers2005 = TeamCommonRoster(team_id = '1610612754', season = '2005-06')\n",
    "df_Clippers2005 = TeamCommonRoster(team_id = '1610612746', season = '2005-06')\n",
    "df_Lakers2005 = TeamCommonRoster(team_id = '1610612747', season = '2005-06')\n",
    "df_Grizzlies2005 = TeamCommonRoster(team_id = '1610612763', season = '2005-06')\n",
    "df_Heat2005 = TeamCommonRoster(team_id = '1610612748', season = '2005-06')\n",
    "df_Bucks2005 = TeamCommonRoster(team_id = '1610612749', season = '2005-06')\n",
    "df_Timberwolves2005 = TeamCommonRoster(team_id = '1610612750', season = '2005-06')\n",
    "df_Pelicans2005 = TeamCommonRoster(team_id = '1610612740', season = '2005-06')\n",
    "df_Knicks2005 = TeamCommonRoster(team_id = '1610612752', season = '2005-06')\n",
    "df_Thunder2005 = TeamCommonRoster(team_id = '1610612760', season = '2005-06')\n",
    "df_Magic2005 = TeamCommonRoster(team_id = '1610612753', season = '2005-06')\n",
    "df_Sixers2005 = TeamCommonRoster(team_id = '1610612755', season = '2005-06')\n",
    "df_Suns2005 = TeamCommonRoster(team_id = '1610612756', season = '2005-06')\n",
    "df_TrailBlazers2005 = TeamCommonRoster(team_id = '1610612757', season = '2005-06')\n",
    "df_Kings2005 = TeamCommonRoster(team_id = '1610612758', season = '2005-06')\n",
    "df_Spurs2005 = TeamCommonRoster(team_id = '1610612759', season = '2005-06')\n",
    "df_Raptors2005 = TeamCommonRoster(team_id = '1610612761', season = '2005-06')\n",
    "df_Jazz2005 = TeamCommonRoster(team_id = '1610612762', season = '2005-06')\n",
    "df_Wizards2005 = TeamCommonRoster(team_id = '1610612764', season = '2005-06')"
   ]
  },
  {
   "cell_type": "code",
   "execution_count": null,
   "metadata": {
    "collapsed": true
   },
   "outputs": [],
   "source": [
    "#2006 rosters for all the teams\n",
    "\n",
    "\n",
    "df_Hawks2006 = TeamCommonRoster(team_id = '1610612737', season = '2006-07')\n",
    "df_Celtics2006 = TeamCommonRoster(team_id = '1610612738', season = '2006-07')\n",
    "df_Nets2006 = TeamCommonRoster(team_id = '1610612751', season = '2006-07')\n",
    "df_Hornets2006 = TeamCommonRoster(team_id = '1610612766', season = '2006-07')\n",
    "df_Bulls2006 = TeamCommonRoster(team_id = '1610612741', season = '2006-07')\n",
    "df_Cavaliers2006 = TeamCommonRoster(team_id = '1610612739', season = '2006-07')\n",
    "df_Mavericks2006 = TeamCommonRoster(team_id = '1610612742', season = '2006-07')\n",
    "df_Nuggets2006 = TeamCommonRoster(team_id = '1610612743', season = '2006-07')\n",
    "df_Pistons2006 = TeamCommonRoster(team_id = '1610612765', season = '2006-07')\n",
    "df_Warriors2006 = TeamCommonRoster(team_id = '1610612744', season = '2006-07')\n",
    "df_Rockets2006 = TeamCommonRoster(team_id = '1610612745', season = '2006-07')\n",
    "df_Pacers2006 = TeamCommonRoster(team_id = '1610612754', season = '2006-07')\n",
    "df_Clippers2006 = TeamCommonRoster(team_id = '1610612746', season = '2006-07')\n",
    "df_Grizzlies2006 = TeamCommonRoster(team_id = '1610612763', season = '2006-07')\n",
    "df_Lakers2006 = TeamCommonRoster(team_id = '1610612747', season = '2006-07')\n",
    "df_Heat2006 = TeamCommonRoster(team_id = '1610612748', season = '2006-07')\n",
    "df_Bucks2006 = TeamCommonRoster(team_id = '1610612749', season = '2006-07')\n",
    "df_Timberwolves2006 = TeamCommonRoster(team_id = '1610612750', season = '2006-07')\n",
    "df_Pelicans2006 = TeamCommonRoster(team_id = '1610612740', season = '2006-07')\n",
    "df_Knicks2006 = TeamCommonRoster(team_id = '1610612752', season = '2006-07')\n",
    "df_Thunder2006 = TeamCommonRoster(team_id = '1610612760', season = '2006-07')\n",
    "df_Magic2006 = TeamCommonRoster(team_id = '1610612753', season = '2006-07')\n",
    "df_Sixers2006 = TeamCommonRoster(team_id = '1610612755', season = '2006-07')\n",
    "df_Suns2006 = TeamCommonRoster(team_id = '1610612756', season = '2006-07')\n",
    "df_TrailBlazers2006 = TeamCommonRoster(team_id = '1610612757', season = '2006-07')\n",
    "df_Kings2006 = TeamCommonRoster(team_id = '1610612758', season = '2006-07')\n",
    "df_Spurs2006 = TeamCommonRoster(team_id = '1610612759', season = '2006-07')\n",
    "df_Raptors2006 = TeamCommonRoster(team_id = '1610612761', season = '2006-07')\n",
    "df_Jazz2006 = TeamCommonRoster(team_id = '1610612762', season = '2006-07')\n",
    "df_Wizards2006 = TeamCommonRoster(team_id = '1610612764', season = '2006-07')"
   ]
  },
  {
   "cell_type": "code",
   "execution_count": null,
   "metadata": {
    "collapsed": true
   },
   "outputs": [],
   "source": [
    "#2007 rosters for all the teams\n",
    "\n",
    "\n",
    "df_Hawks2007 = TeamCommonRoster(team_id = '1610612737', season = '2007-08')\n",
    "df_Celtics2007 = TeamCommonRoster(team_id = '1610612738', season = '2007-08')\n",
    "df_Nets2007 = TeamCommonRoster(team_id = '1610612751', season = '2007-08')\n",
    "df_Hornets2007 = TeamCommonRoster(team_id = '1610612766', season = '2007-08')\n",
    "df_Bulls2007 = TeamCommonRoster(team_id = '1610612741', season = '2007-08')\n",
    "df_Cavaliers2007 = TeamCommonRoster(team_id = '1610612739', season = '2007-08')\n",
    "df_Mavericks2007 = TeamCommonRoster(team_id = '1610612742', season = '2007-08')\n",
    "df_Nuggets2007 = TeamCommonRoster(team_id = '1610612743', season = '2007-08')\n",
    "df_Pistons2007 = TeamCommonRoster(team_id = '1610612765', season = '2007-08')\n",
    "df_Warriors2007 = TeamCommonRoster(team_id = '1610612744', season = '2007-08')\n",
    "df_Rockets2007 = TeamCommonRoster(team_id = '1610612745', season = '2007-08')\n",
    "df_Pacers2007 = TeamCommonRoster(team_id = '1610612754', season = '2007-08')\n",
    "df_Clippers2007 = TeamCommonRoster(team_id = '1610612746', season = '2007-08')\n",
    "df_Lakers2007 = TeamCommonRoster(team_id = '1610612747', season = '2007-08')\n",
    "df_Grizzlies2007 = TeamCommonRoster(team_id = '1610612763', season = '2007-08')\n",
    "df_Heat2007 = TeamCommonRoster(team_id = '1610612748', season = '2007-08')\n",
    "df_Bucks2007 = TeamCommonRoster(team_id = '1610612749', season = '2007-08')\n",
    "df_Timberwolves2007 = TeamCommonRoster(team_id = '1610612750', season = '2007-08')\n",
    "df_Pelicans2007 = TeamCommonRoster(team_id = '1610612740', season = '2007-08')\n",
    "df_Knicks2007 = TeamCommonRoster(team_id = '1610612752', season = '2007-08')\n",
    "df_Thunder2007 = TeamCommonRoster(team_id = '1610612760', season = '2007-08')\n",
    "df_Magic2007 = TeamCommonRoster(team_id = '1610612753', season = '2007-08')\n",
    "df_Sixers2007 = TeamCommonRoster(team_id = '1610612755', season = '2007-08')\n",
    "df_Suns2007 = TeamCommonRoster(team_id = '1610612756', season = '2007-08')\n",
    "df_TrailBlazers2007 = TeamCommonRoster(team_id = '1610612757', season = '2007-08')\n",
    "df_Kings2007 = TeamCommonRoster(team_id = '1610612758', season = '2007-08')\n",
    "df_Spurs2007 = TeamCommonRoster(team_id = '1610612759', season = '2007-08')\n",
    "df_Raptors2007 = TeamCommonRoster(team_id = '1610612761', season = '2007-08')\n",
    "df_Jazz2007 = TeamCommonRoster(team_id = '1610612762', season = '2007-08')\n",
    "df_Wizards2007 = TeamCommonRoster(team_id = '1610612764', season = '2007-08')"
   ]
  },
  {
   "cell_type": "code",
   "execution_count": null,
   "metadata": {
    "collapsed": true
   },
   "outputs": [],
   "source": [
    "#2008 rosters for all the teams\n",
    "\n",
    "\n",
    "df_Hawks2008 = TeamCommonRoster(team_id = '1610612737', season = '2008-09')\n",
    "df_Celtics2008 = TeamCommonRoster(team_id = '1610612738', season = '2008-09')\n",
    "df_Nets2008 = TeamCommonRoster(team_id = '1610612751', season = '2008-09')\n",
    "df_Hornets2008 = TeamCommonRoster(team_id = '1610612766', season = '2008-09')\n",
    "df_Bulls2008 = TeamCommonRoster(team_id = '1610612741', season = '2008-09')\n",
    "df_Cavaliers2008 = TeamCommonRoster(team_id = '1610612739', season = '2008-09')\n",
    "df_Mavericks2008 = TeamCommonRoster(team_id = '1610612742', season = '2008-09')\n",
    "df_Nuggets2008 = TeamCommonRoster(team_id = '1610612743', season = '2008-09')\n",
    "df_Pistons2008 = TeamCommonRoster(team_id = '1610612765', season = '2008-09')\n",
    "df_Warriors2008 = TeamCommonRoster(team_id = '1610612744', season = '2008-09')\n",
    "df_Rockets2008 = TeamCommonRoster(team_id = '1610612745', season = '2008-09')\n",
    "df_Pacers2008 = TeamCommonRoster(team_id = '1610612754', season = '2008-09')\n",
    "df_Clippers2008 = TeamCommonRoster(team_id = '1610612746', season = '2008-09')\n",
    "df_Lakers2008 = TeamCommonRoster(team_id = '1610612747', season = '2008-09')\n",
    "df_Grizzlies2008 = TeamCommonRoster(team_id = '1610612763', season = '2008-09')\n",
    "df_Heat2008 = TeamCommonRoster(team_id = '1610612748', season = '2008-09')\n",
    "df_Bucks2008 = TeamCommonRoster(team_id = '1610612749', season = '2008-09')\n",
    "df_Timberwolves2008 = TeamCommonRoster(team_id = '1610612750', season = '2008-09')\n",
    "df_Pelicans2008 = TeamCommonRoster(team_id = '1610612740', season = '2008-09')\n",
    "df_Knicks2008 = TeamCommonRoster(team_id = '1610612752', season = '2008-09')\n",
    "df_Thunder2008 = TeamCommonRoster(team_id = '1610612760', season = '2008-09')\n",
    "df_Magic2008 = TeamCommonRoster(team_id = '1610612753', season = '2008-09')\n",
    "df_Sixers2008 = TeamCommonRoster(team_id = '1610612755', season = '2008-09')\n",
    "df_Suns2008 = TeamCommonRoster(team_id = '1610612756', season = '2008-09')\n",
    "df_TrailBlazers2008 = TeamCommonRoster(team_id = '1610612757', season = '2008-09')\n",
    "df_Kings2008 = TeamCommonRoster(team_id = '1610612758', season = '2008-09')\n",
    "df_Spurs2008 = TeamCommonRoster(team_id = '1610612759', season = '2008-09')\n",
    "df_Raptors2008 = TeamCommonRoster(team_id = '1610612761', season = '2008-09')\n",
    "df_Jazz2008 = TeamCommonRoster(team_id = '1610612762', season = '2008-09')\n",
    "df_Wizards2008 = TeamCommonRoster(team_id = '1610612764', season = '2008-09')"
   ]
  },
  {
   "cell_type": "code",
   "execution_count": null,
   "metadata": {
    "collapsed": true
   },
   "outputs": [],
   "source": [
    "#2009 rosters for all the teams\n",
    "\n",
    "\n",
    "df_Hawks2009 = TeamCommonRoster(team_id = '1610612737', season = '2009-10')\n",
    "df_Celtics2009 = TeamCommonRoster(team_id = '1610612738', season = '2009-10')\n",
    "df_Nets2009 = TeamCommonRoster(team_id = '1610612751', season = '2009-10')\n",
    "df_Hornets2009 = TeamCommonRoster(team_id = '1610612766', season = '2009-10')\n",
    "df_Bulls2009 = TeamCommonRoster(team_id = '1610612741', season = '2009-10')\n",
    "df_Cavaliers2009 = TeamCommonRoster(team_id = '1610612739', season = '2009-10')\n",
    "df_Mavericks2009 = TeamCommonRoster(team_id = '1610612742', season = '2009-10')\n",
    "df_Nuggets2009 = TeamCommonRoster(team_id = '1610612743', season = '2009-10')\n",
    "df_Pistons2009 = TeamCommonRoster(team_id = '1610612765', season = '2009-10')\n",
    "df_Warriors2009 = TeamCommonRoster(team_id = '1610612744', season = '2009-10')\n",
    "df_Rockets2009 = TeamCommonRoster(team_id = '1610612745', season = '2009-10')\n",
    "df_Pacers2009 = TeamCommonRoster(team_id = '1610612754', season = '2009-10')\n",
    "df_Clippers2009 = TeamCommonRoster(team_id = '1610612746', season = '2009-10')\n",
    "df_Lakers2009 = TeamCommonRoster(team_id = '1610612747', season = '2009-10')\n",
    "df_Grizzlies2009 = TeamCommonRoster(team_id = '1610612763', season = '2009-10')\n",
    "df_Heat2009 = TeamCommonRoster(team_id = '1610612748', season = '2009-10')\n",
    "df_Bucks2009 = TeamCommonRoster(team_id = '1610612749', season = '2009-10')\n",
    "df_Timberwolves2009 = TeamCommonRoster(team_id = '1610612750', season = '2009-10')\n",
    "df_Pelicans2009 = TeamCommonRoster(team_id = '1610612740', season = '2009-10')\n",
    "df_Knicks2009 = TeamCommonRoster(team_id = '1610612752', season = '2009-10')\n",
    "df_Thunder2009 = TeamCommonRoster(team_id = '1610612760', season = '2009-10')\n",
    "df_Magic2009 = TeamCommonRoster(team_id = '1610612753', season = '2009-10')\n",
    "df_Sixers2009 = TeamCommonRoster(team_id = '1610612755', season = '2009-10')\n",
    "df_Suns2009 = TeamCommonRoster(team_id = '1610612756', season = '2009-10')\n",
    "df_TrailBlazers2009 = TeamCommonRoster(team_id = '1610612757', season = '2009-10')\n",
    "df_Kings2009 = TeamCommonRoster(team_id = '1610612758', season = '2009-10')\n",
    "df_Spurs2009 = TeamCommonRoster(team_id = '1610612759', season = '2009-10')\n",
    "df_Raptors2009 = TeamCommonRoster(team_id = '1610612761', season = '2009-10')\n",
    "df_Jazz2009 = TeamCommonRoster(team_id = '1610612762', season = '2009-10')\n",
    "df_Wizards2009 = TeamCommonRoster(team_id = '1610612764', season = '2009-10')"
   ]
  },
  {
   "cell_type": "code",
   "execution_count": null,
   "metadata": {
    "collapsed": true
   },
   "outputs": [],
   "source": [
    "#2010 rosters for all the teams\n",
    "\n",
    "\n",
    "df_Hawks2010 = TeamCommonRoster(team_id = '1610612737', season = '2010-11')\n",
    "df_Celtics2010 = TeamCommonRoster(team_id = '1610612738', season = '2010-11')\n",
    "df_Nets2010 = TeamCommonRoster(team_id = '1610612751', season = '2010-11')\n",
    "df_Hornets2010 = TeamCommonRoster(team_id = '1610612766', season = '2010-11')\n",
    "df_Bulls2010 = TeamCommonRoster(team_id = '1610612741', season = '2010-11')\n",
    "df_Cavaliers2010 = TeamCommonRoster(team_id = '1610612739', season = '2010-11')\n",
    "df_Mavericks2010 = TeamCommonRoster(team_id = '1610612742', season = '2010-11')\n",
    "df_Nuggets2010 = TeamCommonRoster(team_id = '1610612743', season = '2010-11')\n",
    "df_Pistons2010 = TeamCommonRoster(team_id = '1610612765', season = '2010-11')\n",
    "df_Warriors2010 = TeamCommonRoster(team_id = '1610612744', season = '2010-11')\n",
    "df_Rockets2010 = TeamCommonRoster(team_id = '1610612745', season = '2010-11')\n",
    "df_Pacers2010 = TeamCommonRoster(team_id = '1610612754', season = '2010-11')\n",
    "df_Clippers2010 = TeamCommonRoster(team_id = '1610612746', season = '2010-11')\n",
    "df_Lakers2010 = TeamCommonRoster(team_id = '1610612747', season = '2010-11')\n",
    "df_Grizzlies2010 = TeamCommonRoster(team_id = '1610612763', season = '2010-11')\n",
    "df_Heat2010 = TeamCommonRoster(team_id = '1610612748', season = '2010-11')\n",
    "df_Bucks2010 = TeamCommonRoster(team_id = '1610612749', season = '2010-11')\n",
    "df_Timberwolves2010 = TeamCommonRoster(team_id = '1610612750', season = '2010-11')\n",
    "df_Pelicans2010 = TeamCommonRoster(team_id = '1610612740', season = '2010-11')\n",
    "df_Knicks2010 = TeamCommonRoster(team_id = '1610612752', season = '2010-11')\n",
    "df_Thunder2010 = TeamCommonRoster(team_id = '1610612760', season = '2010-11')\n",
    "df_Magic2010 = TeamCommonRoster(team_id = '1610612753', season = '2010-11')\n",
    "df_Sixers2010 = TeamCommonRoster(team_id = '1610612755', season = '2010-11')\n",
    "df_Suns2010 = TeamCommonRoster(team_id = '1610612756', season = '2010-11')\n",
    "df_TrailBlazers2010 = TeamCommonRoster(team_id = '1610612757', season = '2010-11')\n",
    "df_Kings2010 = TeamCommonRoster(team_id = '1610612758', season = '2010-11')\n",
    "df_Spurs2010 = TeamCommonRoster(team_id = '1610612759', season = '2010-11')\n",
    "df_Raptors2010 = TeamCommonRoster(team_id = '1610612761', season = '2010-11')\n",
    "df_Jazz2010 = TeamCommonRoster(team_id = '1610612762', season = '2010-11')\n",
    "df_Wizards2010 = TeamCommonRoster(team_id = '1610612764', season = '2010-11')"
   ]
  },
  {
   "cell_type": "code",
   "execution_count": null,
   "metadata": {
    "collapsed": true
   },
   "outputs": [],
   "source": [
    "#2011 rosters for all the teams\n",
    "\n",
    "\n",
    "df_Hawks2011 = TeamCommonRoster(team_id = '1610612737', season = '2011-12')\n",
    "df_Celtics2011 = TeamCommonRoster(team_id = '1610612738', season = '2011-12')\n",
    "df_Nets2011 = TeamCommonRoster(team_id = '1610612751', season = '2011-12')\n",
    "df_Hornets2011 = TeamCommonRoster(team_id = '1610612766', season = '2011-12')\n",
    "df_Bulls2011 = TeamCommonRoster(team_id = '1610612741', season = '2011-12')\n",
    "df_Cavaliers2011 = TeamCommonRoster(team_id = '1610612739', season = '2011-12')\n",
    "df_Mavericks2011 = TeamCommonRoster(team_id = '1610612742', season = '2011-12')\n",
    "df_Nuggets2011 = TeamCommonRoster(team_id = '1610612743', season = '2011-12')\n",
    "df_Pistons2011 = TeamCommonRoster(team_id = '1610612765', season = '2011-12')\n",
    "df_Warriors2011 = TeamCommonRoster(team_id = '1610612744', season = '2011-12')\n",
    "df_Rockets2011 = TeamCommonRoster(team_id = '1610612745', season = '2011-12')\n",
    "df_Pacers2011 = TeamCommonRoster(team_id = '1610612754', season = '2011-12')\n",
    "df_Clippers2011 = TeamCommonRoster(team_id = '1610612746', season = '2011-12')\n",
    "df_Lakers2011 = TeamCommonRoster(team_id = '1610612747', season = '2011-12')\n",
    "df_Grizzlies2011 = TeamCommonRoster(team_id = '1610612763', season = '2011-12')\n",
    "df_Heat2011 = TeamCommonRoster(team_id = '1610612748', season = '2011-12')\n",
    "df_Bucks2011 = TeamCommonRoster(team_id = '1610612749', season = '2011-12')\n",
    "df_Timberwolves2011 = TeamCommonRoster(team_id = '1610612750', season = '2011-12')\n",
    "df_Pelicans2011 = TeamCommonRoster(team_id = '1610612740', season = '2011-12')\n",
    "df_Knicks2011 = TeamCommonRoster(team_id = '1610612752', season = '2011-12')\n",
    "df_Thunder2011 = TeamCommonRoster(team_id = '1610612760', season = '2011-12')\n",
    "df_Magic2011 = TeamCommonRoster(team_id = '1610612753', season = '2011-12')\n",
    "df_Sixers2011 = TeamCommonRoster(team_id = '1610612755', season = '2011-12')\n",
    "df_Suns2011 = TeamCommonRoster(team_id = '1610612756', season = '2011-12')\n",
    "df_TrailBlazers2011 = TeamCommonRoster(team_id = '1610612757', season = '2011-12')\n",
    "df_Kings2011 = TeamCommonRoster(team_id = '1610612758', season = '2011-12')\n",
    "df_Spurs2011 = TeamCommonRoster(team_id = '1610612759', season = '2011-12')\n",
    "df_Raptors2011 = TeamCommonRoster(team_id = '1610612761', season = '2011-12')\n",
    "df_Jazz2011 = TeamCommonRoster(team_id = '1610612762', season = '2011-12')\n",
    "df_Wizards2011 = TeamCommonRoster(team_id = '1610612764', season = '2011-12')"
   ]
  },
  {
   "cell_type": "code",
   "execution_count": null,
   "metadata": {
    "collapsed": true
   },
   "outputs": [],
   "source": [
    "#2012 rosters for all the teams\n",
    "\n",
    "\n",
    "df_Hawks2012 = TeamCommonRoster(team_id = '1610612737', season = '2012-13')\n",
    "df_Celtics2012 = TeamCommonRoster(team_id = '1610612738', season = '2012-13')\n",
    "df_Nets2012 = TeamCommonRoster(team_id = '1610612751', season = '2012-13')\n",
    "df_Hornets2012 = TeamCommonRoster(team_id = '1610612766', season = '2012-13')\n",
    "df_Bulls2012 = TeamCommonRoster(team_id = '1610612741', season = '2012-13')\n",
    "df_Cavaliers2012 = TeamCommonRoster(team_id = '1610612739', season = '2012-13')\n",
    "df_Mavericks2012 = TeamCommonRoster(team_id = '1610612742', season = '2012-13')\n",
    "df_Nuggets2012 = TeamCommonRoster(team_id = '1610612743', season = '2012-13')\n",
    "df_Pistons2012 = TeamCommonRoster(team_id = '1610612765', season = '2012-13')\n",
    "df_Warriors2012 = TeamCommonRoster(team_id = '1610612744', season = '2012-13')\n",
    "df_Rockets2012 = TeamCommonRoster(team_id = '1610612745', season = '2012-13')\n",
    "df_Pacers2012 = TeamCommonRoster(team_id = '1610612754', season = '2012-13')\n",
    "df_Clippers2012 = TeamCommonRoster(team_id = '1610612746', season = '2012-13')\n",
    "df_Lakers2012 = TeamCommonRoster(team_id = '1610612747', season = '2012-13')\n",
    "df_Grizzlies2012 = TeamCommonRoster(team_id = '1610612763', season = '2012-13')\n",
    "df_Heat2012 = TeamCommonRoster(team_id = '1610612748', season = '2012-13')\n",
    "df_Bucks2012 = TeamCommonRoster(team_id = '1610612749', season = '2012-13')\n",
    "df_Timberwolves2012 = TeamCommonRoster(team_id = '1610612750', season = '2012-13')\n",
    "df_Pelicans2012 = TeamCommonRoster(team_id = '1610612740', season = '2012-13')\n",
    "df_Knicks2012 = TeamCommonRoster(team_id = '1610612752', season = '2012-13')\n",
    "df_Thunder2012 = TeamCommonRoster(team_id = '1610612760', season = '2012-13')\n",
    "df_Magic2012 = TeamCommonRoster(team_id = '1610612753', season = '2012-13')\n",
    "df_Sixers2012 = TeamCommonRoster(team_id = '1610612755', season = '2012-13')\n",
    "df_Suns2012 = TeamCommonRoster(team_id = '1610612756', season = '2012-13')\n",
    "df_TrailBlazers2012 = TeamCommonRoster(team_id = '1610612757', season = '2012-13')\n",
    "df_Kings2012 = TeamCommonRoster(team_id = '1610612758', season = '2012-13')\n",
    "df_Spurs2012 = TeamCommonRoster(team_id = '1610612759', season = '2012-13')\n",
    "df_Raptors2012 = TeamCommonRoster(team_id = '1610612761', season = '2012-13')\n",
    "df_Jazz2012 = TeamCommonRoster(team_id = '1610612762', season = '2012-13')\n",
    "df_Wizards2012 = TeamCommonRoster(team_id = '1610612764', season = '2012-13')"
   ]
  },
  {
   "cell_type": "code",
   "execution_count": null,
   "metadata": {
    "collapsed": true
   },
   "outputs": [],
   "source": [
    "#2013 rosters for all the teams\n",
    "\n",
    "\n",
    "df_Hawks2013 = TeamCommonRoster(team_id = '1610612737', season = '2013-14')\n",
    "df_Celtics2013 = TeamCommonRoster(team_id = '1610612738', season = '2013-14')\n",
    "df_Nets2013 = TeamCommonRoster(team_id = '1610612751', season = '2013-14')\n",
    "df_Hornets2013 = TeamCommonRoster(team_id = '1610612766', season = '2013-14')\n",
    "df_Bulls2013 = TeamCommonRoster(team_id = '1610612741', season = '2013-14')\n",
    "df_Cavaliers2013 = TeamCommonRoster(team_id = '1610612739', season = '2013-14')\n",
    "df_Mavericks2013 = TeamCommonRoster(team_id = '1610612742', season = '2013-14')\n",
    "df_Nuggets2013 = TeamCommonRoster(team_id = '1610612743', season = '2013-14')\n",
    "df_Pistons2013 = TeamCommonRoster(team_id = '1610612765', season = '2013-14')\n",
    "df_Warriors2013 = TeamCommonRoster(team_id = '1610612744', season = '2013-14')\n",
    "df_Rockets2013 = TeamCommonRoster(team_id = '1610612745', season = '2013-14')\n",
    "df_Pacers2013 = TeamCommonRoster(team_id = '1610612754', season = '2013-14')\n",
    "df_Clippers2013 = TeamCommonRoster(team_id = '1610612746', season = '2013-14')\n",
    "df_Lakers2013 = TeamCommonRoster(team_id = '1610612747', season = '2013-14')\n",
    "df_Grizzlies2013 = TeamCommonRoster(team_id = '1610612763', season = '2013-14')\n",
    "df_Heat2013 = TeamCommonRoster(team_id = '1610612748', season = '2013-14')\n",
    "df_Bucks2013 = TeamCommonRoster(team_id = '1610612749', season = '2013-14')\n",
    "df_Timberwolves2013 = TeamCommonRoster(team_id = '1610612750', season = '2013-14')\n",
    "df_Pelicans2013 = TeamCommonRoster(team_id = '1610612740', season = '2013-14')\n",
    "df_Knicks2013 = TeamCommonRoster(team_id = '1610612752', season = '2013-14')\n",
    "df_Thunder2013 = TeamCommonRoster(team_id = '1610612760', season = '2013-14')\n",
    "df_Magic2013 = TeamCommonRoster(team_id = '1610612753', season = '2013-14')\n",
    "df_Sixers2013 = TeamCommonRoster(team_id = '1610612755', season = '2013-14')\n",
    "df_Suns2013 = TeamCommonRoster(team_id = '1610612756', season = '2013-14')\n",
    "df_TrailBlazers2013 = TeamCommonRoster(team_id = '1610612757', season = '2013-14')\n",
    "df_Kings2013 = TeamCommonRoster(team_id = '1610612758', season = '2013-14')\n",
    "df_Spurs2013 = TeamCommonRoster(team_id = '1610612759', season = '2013-14')\n",
    "df_Raptors2013 = TeamCommonRoster(team_id = '1610612761', season = '2013-14')\n",
    "df_Jazz2013 = TeamCommonRoster(team_id = '1610612762', season = '2013-14')\n",
    "df_Wizards2013 = TeamCommonRoster(team_id = '1610612764', season = '2013-14')"
   ]
  },
  {
   "cell_type": "code",
   "execution_count": null,
   "metadata": {
    "collapsed": true
   },
   "outputs": [],
   "source": [
    "#df_Wizards2013.roster()"
   ]
  },
  {
   "cell_type": "code",
   "execution_count": null,
   "metadata": {
    "collapsed": true
   },
   "outputs": [],
   "source": [
    "#2014 rosters for all the teams\n",
    "\n",
    "df_Hawks2014 = TeamCommonRoster(team_id = '1610612737', season = '2014-15')\n",
    "df_Celtics2014 = TeamCommonRoster(team_id = '1610612738', season = '2014-15')\n",
    "df_Nets2014 = TeamCommonRoster(team_id = '1610612751', season = '2014-15')\n",
    "df_Hornets2014 = TeamCommonRoster(team_id = '1610612766', season = '2014-15')\n",
    "df_Bulls2014 = TeamCommonRoster(team_id = '1610612741', season = '2014-15')\n",
    "df_Cavaliers2014 = TeamCommonRoster(team_id = '1610612739', season = '2014-15')\n",
    "df_Mavericks2014 = TeamCommonRoster(team_id = '1610612742', season = '2014-15')\n",
    "df_Nuggets2014 = TeamCommonRoster(team_id = '1610612743', season = '2014-15')\n",
    "df_Pistons2014 = TeamCommonRoster(team_id = '1610612765', season = '2014-15')\n",
    "df_Warriors2014 = TeamCommonRoster(team_id = '1610612744', season = '2014-15')\n",
    "df_Rockets2014 = TeamCommonRoster(team_id = '1610612745', season = '2014-15')\n",
    "df_Pacers2014 = TeamCommonRoster(team_id = '1610612754', season = '2014-15')\n",
    "df_Clippers2014 = TeamCommonRoster(team_id = '1610612746', season = '2014-15')\n",
    "df_Lakers2014 = TeamCommonRoster(team_id = '1610612747', season = '2014-15')\n",
    "df_Grizzlies2014 = TeamCommonRoster(team_id = '1610612763', season = '2014-15')\n",
    "df_Heat2014 = TeamCommonRoster(team_id = '1610612748', season = '2014-15')\n",
    "df_Bucks2014 = TeamCommonRoster(team_id = '1610612749', season = '2014-15')\n",
    "df_Timberwolves2014 = TeamCommonRoster(team_id = '1610612750', season = '2014-15')\n",
    "df_Pelicans2014 = TeamCommonRoster(team_id = '1610612740', season = '2014-15')\n",
    "df_Knicks2014 = TeamCommonRoster(team_id = '1610612752', season = '2014-15')\n",
    "df_Thunder2014 = TeamCommonRoster(team_id = '1610612760', season = '2014-15')\n",
    "df_Magic2014 = TeamCommonRoster(team_id = '1610612753', season = '2014-15')\n",
    "df_Sixers2014 = TeamCommonRoster(team_id = '1610612755', season = '2014-15')\n",
    "df_Suns2014 = TeamCommonRoster(team_id = '1610612756', season = '2014-15')\n",
    "df_TrailBlazers2014 = TeamCommonRoster(team_id = '1610612757', season = '2014-15')\n",
    "df_Kings2014 = TeamCommonRoster(team_id = '1610612758', season = '2014-15')\n",
    "df_Spurs2014 = TeamCommonRoster(team_id = '1610612759', season = '2014-15')\n",
    "df_Raptors2014 = TeamCommonRoster(team_id = '1610612761', season = '2014-15')\n",
    "df_Jazz2014 = TeamCommonRoster(team_id = '1610612762', season = '2014-15')\n",
    "df_Wizards2014 = TeamCommonRoster(team_id = '1610612764', season = '2014-15')"
   ]
  },
  {
   "cell_type": "code",
   "execution_count": null,
   "metadata": {
    "collapsed": true
   },
   "outputs": [],
   "source": [
    "#2015 rosters for all the teams\n",
    "\n",
    "df_Hawks2013 = TeamCommonRoster(team_id = '1610612737', season = '2015-16')\n",
    "df_Celtics2015 = TeamCommonRoster(team_id = '1610612738', season = '2015-16')\n",
    "df_Nets2015 = TeamCommonRoster(team_id = '1610612751', season = '2015-16')\n",
    "df_Hornets2015 = TeamCommonRoster(team_id = '1610612766', season = '2015-16')\n",
    "df_Bulls2015 = TeamCommonRoster(team_id = '1610612741', season = '2015-16')\n",
    "df_Cavaliers2015 = TeamCommonRoster(team_id = '1610612739', season = '2015-16')\n",
    "df_Mavericks2015 = TeamCommonRoster(team_id = '1610612742', season = '2015-16')\n",
    "df_Nuggets2015 = TeamCommonRoster(team_id = '1610612743', season = '2015-16')\n",
    "df_Pistons2015 = TeamCommonRoster(team_id = '1610612765', season = '2015-16')\n",
    "df_Warriors2015 = TeamCommonRoster(team_id = '1610612744', season = '2015-16')\n",
    "df_Rockets2015 = TeamCommonRoster(team_id = '1610612745', season = '2015-16')\n",
    "df_Pacers2015 = TeamCommonRoster(team_id = '1610612754', season = '2015-16')\n",
    "df_Clippers2015 = TeamCommonRoster(team_id = '1610612746', season = '2015-16')\n",
    "df_Lakers2015 = TeamCommonRoster(team_id = '1610612747', season = '2015-16')\n",
    "df_Grizzlies2015 = TeamCommonRoster(team_id = '1610612763', season = '2015-16')\n",
    "df_Heat2015 = TeamCommonRoster(team_id = '1610612748', season = '2015-16')\n",
    "df_Bucks2015 = TeamCommonRoster(team_id = '1610612749', season = '2015-16')\n",
    "df_Timberwolves2015 = TeamCommonRoster(team_id = '1610612750', season = '2015-16')\n",
    "df_Pelicans2015 = TeamCommonRoster(team_id = '1610612740', season = '2015-16')\n",
    "df_Knicks2015 = TeamCommonRoster(team_id = '1610612752', season = '2015-16')\n",
    "df_Thunder2015 = TeamCommonRoster(team_id = '1610612760', season = '2015-16')\n",
    "df_Magic2015 = TeamCommonRoster(team_id = '1610612753', season = '2015-16')\n",
    "df_Sixers2015 = TeamCommonRoster(team_id = '1610612755', season = '2015-16')\n",
    "df_Suns2015 = TeamCommonRoster(team_id = '1610612756', season = '2015-16')\n",
    "df_TrailBlazers2015 = TeamCommonRoster(team_id = '1610612757', season = '2015-16')\n",
    "df_Kings2015 = TeamCommonRoster(team_id = '1610612758', season = '2015-16')\n",
    "df_Spurs2015 = TeamCommonRoster(team_id = '1610612759', season = '2015-16')\n",
    "df_Raptors2015 = TeamCommonRoster(team_id = '1610612761', season = '2015-16')\n",
    "df_Jazz2015 = TeamCommonRoster(team_id = '1610612762', season = '2015-16')\n",
    "df_Wizards2015 = TeamCommonRoster(team_id = '1610612764', season = '2015-16')\n"
   ]
  },
  {
   "cell_type": "code",
   "execution_count": null,
   "metadata": {
    "collapsed": true
   },
   "outputs": [],
   "source": [
    "#2016 rosters for all the teams\n",
    "\n",
    "df_Hawks2016 = TeamCommonRoster(team_id = '1610612737', season = '2016-17')\n",
    "df_Celtics2016 = TeamCommonRoster(team_id = '1610612738', season = '2016-17')\n",
    "df_Nets2016 = TeamCommonRoster(team_id = '1610612751', season = '2016-17')\n",
    "df_Hornets2016 = TeamCommonRoster(team_id = '1610612766', season = '2016-17')\n",
    "df_Bulls2016 = TeamCommonRoster(team_id = '1610612741', season = '2016-17')\n",
    "df_Cavaliers2016 = TeamCommonRoster(team_id = '1610612739', season = '2016-17')\n",
    "df_Mavericks2016 = TeamCommonRoster(team_id = '1610612742', season = '2016-17')\n",
    "df_Nuggets2016 = TeamCommonRoster(team_id = '1610612743', season = '2016-17')\n",
    "df_Pistons2016 = TeamCommonRoster(team_id = '1610612765', season = '2016-17')\n",
    "df_Warriors2016 = TeamCommonRoster(team_id = '1610612744', season = '2016-17')\n",
    "df_Rockets2016 = TeamCommonRoster(team_id = '1610612745', season = '2016-17')\n",
    "df_Pacers2016 = TeamCommonRoster(team_id = '1610612754', season = '2016-17')\n",
    "df_Clippers2016 = TeamCommonRoster(team_id = '1610612746', season = '2016-17')\n",
    "df_Lakers2016 = TeamCommonRoster(team_id = '1610612747', season = '2016-17')\n",
    "df_Grizzlies2016 = TeamCommonRoster(team_id = '1610612763', season = '2016-17')\n",
    "df_Heat2016 = TeamCommonRoster(team_id = '1610612748', season = '2016-17')\n",
    "df_Bucks2016 = TeamCommonRoster(team_id = '1610612749', season = '2016-17')\n",
    "df_Timberwolves2016 = TeamCommonRoster(team_id = '1610612750', season = '2016-17')\n",
    "df_Pelicans2016 = TeamCommonRoster(team_id = '1610612740', season = '2016-17')\n",
    "df_Knicks2016 = TeamCommonRoster(team_id = '1610612752', season = '2016-17')\n",
    "df_Thunder2016 = TeamCommonRoster(team_id = '1610612760', season = '2016-17')\n",
    "df_Magic2016 = TeamCommonRoster(team_id = '1610612753', season = '2016-17')\n",
    "df_Sixers2016 = TeamCommonRoster(team_id = '1610612755', season = '2016-17')\n",
    "df_Suns2016 = TeamCommonRoster(team_id = '1610612756', season = '2016-17')\n",
    "df_TrailBlazers2016 = TeamCommonRoster(team_id = '1610612757', season = '2016-17')\n",
    "df_Kings2016 = TeamCommonRoster(team_id = '1610612758', season = '2016-17')\n",
    "df_Spurs2016 = TeamCommonRoster(team_id = '1610612759', season = '2016-17')\n",
    "df_Raptors2016 = TeamCommonRoster(team_id = '1610612761', season = '2016-17')\n",
    "df_Jazz2016 = TeamCommonRoster(team_id = '1610612762', season = '2016-17')\n",
    "df_Wizards2016 = TeamCommonRoster(team_id = '1610612764', season = '2016-17')"
   ]
  },
  {
   "cell_type": "code",
   "execution_count": null,
   "metadata": {
    "collapsed": true
   },
   "outputs": [],
   "source": []
  },
  {
   "cell_type": "markdown",
   "metadata": {},
   "source": [
    "# Data Cleaning/Pre-processing\n",
    "\n"
   ]
  },
  {
   "cell_type": "code",
   "execution_count": 4,
   "metadata": {
    "collapsed": true
   },
   "outputs": [],
   "source": [
    "# now lets store all the teams in a list to make our lives much easier\n",
    "TEAMS = ['1610612737','1610612738','1610612751','1610612766','1610612741', \n",
    "         '1610612739', '1610612742' , '1610612743', '1610612765','1610612744',\n",
    "         '1610612745', '1610612754', '1610612746', '1610612747', '1610612763', \n",
    "         '1610612748', '1610612749', '1610612750', '1610612740', '1610612752',\n",
    "         '1610612760', '1610612753', '1610612755', '1610612756', '1610612757', \n",
    "         '1610612758', '1610612759', '1610612761', '1610612762', '1610612764']\n"
   ]
  },
  {
   "cell_type": "code",
   "execution_count": 5,
   "metadata": {
    "collapsed": true
   },
   "outputs": [],
   "source": [
    "#for each roster, we will be cleaning it as well as saving it to a csv file\n",
    "\n",
    "roster2000 = []\n",
    "#for team in TEAMS: #takes too long\n",
    "    #roster2000.append(TeamCommonRoster(team_id = team, season = '2000-01').roster())\n",
    "df_players2000 = df_players2000.overall()\n",
    "df_players2000 = df_players2000[df_players2000['GP'] >= 7]\n",
    "df_players2000 = df_players2000[df_players2000['MIN'] >= 5]\n",
    "for i, row in df_players2000.iterrows():\n",
    "    row['PTS'] = row['PTS']/row['MIN']\n",
    "    row['AST'] = row['AST']/row['MIN']\n",
    "    row['REB'] = row['REB']/row['MIN']\n",
    "    row['STL'] = row['STL']/row['MIN']\n",
    "    row['TOV'] = row['TOV']/row['MIN']\n",
    "rosterClean2000 = pd.DataFrame(df_players2000)\n",
    "rosterClean2000.to_csv('clean_players_2000.csv')\n",
    "    "
   ]
  },
  {
   "cell_type": "code",
   "execution_count": null,
   "metadata": {
    "collapsed": true
   },
   "outputs": [],
   "source": [
    "df_players2001 = df_players2001.overall()\n",
    "df_players2001 = df_players2001[df_players2001['GP'] >= 7]\n",
    "df_players2001 = df_players2001[df_players2001['MIN'] >= 5]\n",
    "for i, row in df_players2001.iterrows():\n",
    "    row['PTS'] = row['PTS']/row['MIN']\n",
    "    row['AST'] = row['AST']/row['MIN']\n",
    "    row['REB'] = row['REB']/row['MIN']\n",
    "    row['STL'] = row['STL']/row['MIN']\n",
    "    row['TOV'] = row['TOV']/row['MIN']\n",
    "rosterClean2001 = pd.DataFrame(df_players2001)\n",
    "rosterClean2001.to_csv('clean_players_2001.csv')"
   ]
  },
  {
   "cell_type": "code",
   "execution_count": null,
   "metadata": {
    "collapsed": true
   },
   "outputs": [],
   "source": [
    "df_players2002 = df_players2002.overall()\n",
    "df_players2002 = df_players2002[df_players2002['GP'] >= 7]\n",
    "df_players2002 = df_players2002[df_players2002['MIN'] >= 5]\n",
    "for i, row in df_players2002.iterrows():\n",
    "    row['PTS'] = row['PTS']/row['MIN']\n",
    "    row['AST'] = row['AST']/row['MIN']\n",
    "    row['REB'] = row['REB']/row['MIN']\n",
    "    row['STL'] = row['STL']/row['MIN']\n",
    "    row['TOV'] = row['TOV']/row['MIN']\n",
    "rosterClean2002 = pd.DataFrame(df_players2002)\n",
    "rosterClean2002.to_csv('clean_players_2002.csv')"
   ]
  },
  {
   "cell_type": "code",
   "execution_count": null,
   "metadata": {
    "collapsed": true
   },
   "outputs": [],
   "source": [
    "df_players2003 = df_players2003.overall()\n",
    "df_players2003 = df_players2003[df_players2003['GP'] >= 7]\n",
    "df_players2003 = df_players2003[df_players2003['MIN'] >= 5]\n",
    "for i, row in df_players2003.iterrows():\n",
    "    row['PTS'] = row['PTS']/row['MIN']\n",
    "    row['AST'] = row['AST']/row['MIN']\n",
    "    row['REB'] = row['REB']/row['MIN']\n",
    "    row['STL'] = row['STL']/row['MIN']\n",
    "    row['TOV'] = row['TOV']/row['MIN']\n",
    "rosterClean2003 = pd.DataFrame(df_players2003)\n",
    "rosterClean2003.to_csv('clean_players_2003.csv')"
   ]
  },
  {
   "cell_type": "code",
   "execution_count": null,
   "metadata": {
    "collapsed": true
   },
   "outputs": [],
   "source": [
    "df_players2004 = df_players2004.overall()\n",
    "df_players2004 = df_players2004[df_players2004['GP'] >= 7]\n",
    "df_players2004 = df_players2004[df_players2004['MIN'] >= 5]\n",
    "for i, row in df_players2004.iterrows():\n",
    "    row['PTS'] = row['PTS']/row['MIN']\n",
    "    row['AST'] = row['AST']/row['MIN']\n",
    "    row['REB'] = row['REB']/row['MIN']\n",
    "    row['STL'] = row['STL']/row['MIN']\n",
    "    row['TOV'] = row['TOV']/row['MIN']\n",
    "rosterClean2004 = pd.DataFrame(df_players2004)\n",
    "rosterClean2004.to_csv('clean_players_2004.csv')"
   ]
  },
  {
   "cell_type": "code",
   "execution_count": null,
   "metadata": {
    "collapsed": true
   },
   "outputs": [],
   "source": [
    "df_players2005 = df_players2005.overall()\n",
    "df_players2005 = df_players2005[df_players2005['GP'] >= 7]\n",
    "df_players2005 = df_players2005[df_players2005['MIN'] >= 5]\n",
    "for i, row in df_players2005.iterrows():\n",
    "    row['PTS'] = row['PTS']/row['MIN']\n",
    "    row['AST'] = row['AST']/row['MIN']\n",
    "    row['REB'] = row['REB']/row['MIN']\n",
    "    row['STL'] = row['STL']/row['MIN']\n",
    "    row['TOV'] = row['TOV']/row['MIN']\n",
    "rosterClean2005 = pd.DataFrame(df_players2005)\n",
    "rosterClean2005.to_csv('clean_players_2005.csv')"
   ]
  },
  {
   "cell_type": "code",
   "execution_count": null,
   "metadata": {
    "collapsed": true
   },
   "outputs": [],
   "source": [
    "df_players2006 = df_players2006.overall()\n",
    "df_players2006 = df_players2006[df_players2006['GP'] >= 7]\n",
    "df_players2006 = df_players2006[df_players2006['MIN'] >= 5]\n",
    "for i, row in df_players2006.iterrows():\n",
    "    row['PTS'] = row['PTS']/row['MIN']\n",
    "    row['AST'] = row['AST']/row['MIN']\n",
    "    row['REB'] = row['REB']/row['MIN']\n",
    "    row['STL'] = row['STL']/row['MIN']\n",
    "    row['TOV'] = row['TOV']/row['MIN']\n",
    "rosterClean2006 = pd.DataFrame(df_players2006)\n",
    "rosterClean2006.to_csv('clean_players_2006.csv')"
   ]
  },
  {
   "cell_type": "code",
   "execution_count": null,
   "metadata": {
    "collapsed": true
   },
   "outputs": [],
   "source": [
    "df_players2007 = df_players2007.overall()\n",
    "df_players2007 = df_players2007[df_players2007['GP'] >= 7]\n",
    "df_players2007 = df_players2007[df_players2007['MIN'] >= 5]\n",
    "for i, row in df_players2007.iterrows():\n",
    "    row['PTS'] = row['PTS']/row['MIN']\n",
    "    row['AST'] = row['AST']/row['MIN']\n",
    "    row['REB'] = row['REB']/row['MIN']\n",
    "    row['STL'] = row['STL']/row['MIN']\n",
    "    row['TOV'] = row['TOV']/row['MIN']\n",
    "rosterClean2007 = pd.DataFrame(df_players2007)\n",
    "rosterClean2007.to_csv('clean_players_2007.csv')"
   ]
  },
  {
   "cell_type": "code",
   "execution_count": 3,
   "metadata": {
    "collapsed": true
   },
   "outputs": [],
   "source": [
    "df_players2008 = df_players2008.overall()\n",
    "df_players2008 = df_players2008[df_players2008['GP'] >= 7]\n",
    "df_players2008 = df_players2008[df_players2008['MIN'] >= 5]\n",
    "for i, row in df_players2008.iterrows():\n",
    "    row['PTS'] = row['PTS']/row['MIN']\n",
    "    row['AST'] = row['AST']/row['MIN']\n",
    "    row['REB'] = row['REB']/row['MIN']\n",
    "    row['STL'] = row['STL']/row['MIN']\n",
    "    row['TOV'] = row['TOV']/row['MIN']\n",
    "rosterClean2008 = pd.DataFrame(df_players2008)\n",
    "rosterClean2008.to_csv('clean_players_2008.csv')"
   ]
  },
  {
   "cell_type": "code",
   "execution_count": null,
   "metadata": {
    "collapsed": true
   },
   "outputs": [],
   "source": [
    "df_players2009 = df_players2009.overall()\n",
    "df_players2009 = df_players2009[df_players2009['GP'] >= 7]\n",
    "df_players2009 = df_players2009[df_players2009['MIN'] >= 5]\n",
    "for i, row in df_players2009.iterrows():\n",
    "    row['PTS'] = row['PTS']/row['MIN']\n",
    "    row['AST'] = row['AST']/row['MIN']\n",
    "    row['REB'] = row['REB']/row['MIN']\n",
    "    row['STL'] = row['STL']/row['MIN']\n",
    "    row['TOV'] = row['TOV']/row['MIN']\n",
    "rosterClean2009 = pd.DataFrame(df_players2009)\n",
    "rosterClean2009.to_csv('clean_players_2009.csv')"
   ]
  },
  {
   "cell_type": "code",
   "execution_count": null,
   "metadata": {
    "collapsed": true
   },
   "outputs": [],
   "source": [
    "df_players2010 = df_players2010.overall()\n",
    "df_players2010 = df_players2010[df_players2010['GP'] >= 7]\n",
    "df_players2010 = df_players2010[df_players2010['MIN'] >= 5]\n",
    "for i, row in df_players2010.iterrows():\n",
    "    row['PTS'] = row['PTS']/row['MIN']\n",
    "    row['AST'] = row['AST']/row['MIN']\n",
    "    row['REB'] = row['REB']/row['MIN']\n",
    "    row['STL'] = row['STL']/row['MIN']\n",
    "    row['TOV'] = row['TOV']/row['MIN']\n",
    "rosterClean2010 = pd.DataFrame(df_players2010)\n",
    "rosterClean2010.to_csv('clean_players_2010.csv')"
   ]
  },
  {
   "cell_type": "code",
   "execution_count": null,
   "metadata": {
    "collapsed": true
   },
   "outputs": [],
   "source": [
    "df_players2011 = df_players2011.overall()\n",
    "df_players2011 = df_players2011[df_players2011['GP'] >= 7]\n",
    "df_players2011 = df_players2011[df_players2011['MIN'] >= 5]\n",
    "for i, row in df_players2011.iterrows():\n",
    "    row['PTS'] = row['PTS']/row['MIN']\n",
    "    row['AST'] = row['AST']/row['MIN']\n",
    "    row['REB'] = row['REB']/row['MIN']\n",
    "    row['STL'] = row['STL']/row['MIN']\n",
    "    row['TOV'] = row['TOV']/row['MIN']\n",
    "rosterClean2011 = pd.DataFrame(df_players2011)\n",
    "rosterClean2011.to_csv('clean_players_2011.csv')"
   ]
  },
  {
   "cell_type": "code",
   "execution_count": null,
   "metadata": {
    "collapsed": true
   },
   "outputs": [],
   "source": [
    "df_players2012 = df_players2012.overall()\n",
    "df_players2012 = df_players2012[df_players2012['GP'] >= 7]\n",
    "df_players2012 = df_players2012[df_players2012['MIN'] >= 5]\n",
    "for i, row in df_players2012.iterrows():\n",
    "    row['PTS'] = row['PTS']/row['MIN']\n",
    "    row['AST'] = row['AST']/row['MIN']\n",
    "    row['REB'] = row['REB']/row['MIN']\n",
    "    row['STL'] = row['STL']/row['MIN']\n",
    "    row['TOV'] = row['TOV']/row['MIN']\n",
    "rosterClean2012 = pd.DataFrame(df_players2012)\n",
    "rosterClean2012.to_csv('clean_players_2012.csv')"
   ]
  },
  {
   "cell_type": "code",
   "execution_count": null,
   "metadata": {
    "collapsed": true
   },
   "outputs": [],
   "source": [
    "df_players2013 = df_players2013.overall()\n",
    "df_players2013 = df_players2013[df_players2013['GP'] >= 7]\n",
    "df_players2013 = df_players2013[df_players2013['MIN'] >= 5]\n",
    "for i, row in df_players2013.iterrows():\n",
    "    row['PTS'] = row['PTS']/row['MIN']\n",
    "    row['AST'] = row['AST']/row['MIN']\n",
    "    row['REB'] = row['REB']/row['MIN']\n",
    "    row['STL'] = row['STL']/row['MIN']\n",
    "    row['TOV'] = row['TOV']/row['MIN']\n",
    "rosterClean2013 = pd.DataFrame(df_players2013)\n",
    "rosterClean2013.to_csv('clean_players_2013.csv')"
   ]
  },
  {
   "cell_type": "code",
   "execution_count": null,
   "metadata": {
    "collapsed": true
   },
   "outputs": [],
   "source": [
    "df_players2014 = df_players2014.overall()\n",
    "df_players2014 = df_players2014[df_players2014['GP'] >= 7]\n",
    "df_players2014 = df_players2014[df_players2014['MIN'] >= 5]\n",
    "for i, row in df_players2014.iterrows():\n",
    "    row['PTS'] = row['PTS']/row['MIN']\n",
    "    row['AST'] = row['AST']/row['MIN']\n",
    "    row['REB'] = row['REB']/row['MIN']\n",
    "    row['STL'] = row['STL']/row['MIN']\n",
    "    row['TOV'] = row['TOV']/row['MIN']\n",
    "rosterClean2014 = pd.DataFrame(df_players2014)\n",
    "rosterClean2014.to_csv('clean_players_2014.csv')"
   ]
  },
  {
   "cell_type": "code",
   "execution_count": null,
   "metadata": {
    "collapsed": true
   },
   "outputs": [],
   "source": [
    "df_players2015 = df_players2015.overall()\n",
    "df_players2015 = df_players2015[df_players2015['GP'] >= 7]\n",
    "df_players2015 = df_players2015[df_players2015['MIN'] >= 5]\n",
    "for i, row in df_players2015.iterrows():\n",
    "    row['PTS'] = row['PTS']/row['MIN']\n",
    "    row['AST'] = row['AST']/row['MIN']\n",
    "    row['REB'] = row['REB']/row['MIN']\n",
    "    row['STL'] = row['STL']/row['MIN']\n",
    "    row['TOV'] = row['TOV']/row['MIN']\n",
    "rosterClean2015 = pd.DataFrame(df_players2015)\n",
    "rosterClean2015.to_csv('clean_players_2015.csv')"
   ]
  },
  {
   "cell_type": "code",
   "execution_count": null,
   "metadata": {
    "collapsed": true
   },
   "outputs": [],
   "source": [
    "df_players2016 = df_players2016.overall()\n",
    "df_players2016 = df_players2016[df_players2016['GP'] >= 7]\n",
    "df_players2016 = df_players2016[df_players2016['MIN'] >= 5]\n",
    "for i, row in df_players2016.iterrows():\n",
    "    row['PTS'] = row['PTS']/row['MIN']\n",
    "    row['AST'] = row['AST']/row['MIN']\n",
    "    row['REB'] = row['REB']/row['MIN']\n",
    "    row['STL'] = row['STL']/row['MIN']\n",
    "    row['TOV'] = row['TOV']/row['MIN']\n",
    "rosterClean2016 = pd.DataFrame(df_players2016)\n",
    "rosterClean2016.to_csv('clean_players_2016.csv')"
   ]
  },
  {
   "cell_type": "code",
   "execution_count": 9,
   "metadata": {
    "collapsed": true
   },
   "outputs": [],
   "source": [
    "#Lets make a dataframe and rank each player. This will eventually be used to filter out all top 8 teams\n",
    "\n",
    "df_RANK2000 = pd.DataFrame()\n",
    "for team in TEAMS:\n",
    "    df_RANK2000 = df_RANK2000.append(TeamStats(team_id = team, season ='2000-01').overall())\n",
    "\n",
    "#df_Rank2000 = pd.DataFrame()\n",
    "#df_RANK2000 = df_RANK2000.append(TeamStats(team_id = '1610612737', season ='2000-01').overall())\n"
   ]
  },
  {
   "cell_type": "code",
   "execution_count": 3,
   "metadata": {
    "collapsed": true
   },
   "outputs": [],
   "source": [
    "df_RANK2001 = pd.DataFrame()\n",
    "for team in TEAMS:\n",
    "    df_RANK2001 = df_RANK2001.append(TeamStats(team_id = team, season ='2001-02').overall())"
   ]
  },
  {
   "cell_type": "code",
   "execution_count": 4,
   "metadata": {
    "collapsed": true
   },
   "outputs": [],
   "source": [
    "df_RANK2002 = pd.DataFrame()\n",
    "for team in TEAMS:\n",
    "    df_RANK2002 = df_RANK2002.append(TeamStats(team_id = team, season ='2002-03').overall())"
   ]
  },
  {
   "cell_type": "code",
   "execution_count": 5,
   "metadata": {
    "collapsed": true
   },
   "outputs": [],
   "source": [
    "df_RANK2003 = pd.DataFrame()\n",
    "for team in TEAMS:\n",
    "    df_RANK2003 = df_RANK2003.append(TeamStats(team_id = team, season ='2003-04').overall())"
   ]
  },
  {
   "cell_type": "code",
   "execution_count": 6,
   "metadata": {
    "collapsed": true
   },
   "outputs": [],
   "source": [
    "df_RANK2004 = pd.DataFrame()\n",
    "for team in TEAMS:\n",
    "    df_RANK2004 = df_RANK2004.append(TeamStats(team_id = team, season ='2004-05').overall())"
   ]
  },
  {
   "cell_type": "code",
   "execution_count": 7,
   "metadata": {
    "collapsed": true
   },
   "outputs": [],
   "source": [
    "df_RANK2005 = pd.DataFrame()\n",
    "for team in TEAMS:\n",
    "    df_RANK2005 = df_RANK2005.append(TeamStats(team_id = team, season ='2005-06').overall())"
   ]
  },
  {
   "cell_type": "code",
   "execution_count": 8,
   "metadata": {
    "collapsed": true
   },
   "outputs": [],
   "source": [
    "df_RANK2006 = pd.DataFrame()\n",
    "for team in TEAMS:\n",
    "    df_RANK2006 = df_RANK2006.append(TeamStats(team_id = team, season ='2006-07').overall())"
   ]
  },
  {
   "cell_type": "code",
   "execution_count": 9,
   "metadata": {
    "collapsed": true
   },
   "outputs": [],
   "source": [
    "df_RANK2007 = pd.DataFrame()\n",
    "for team in TEAMS:\n",
    "    df_RANK2007 = df_RANK2007.append(TeamStats(team_id = team, season ='2007-08').overall())"
   ]
  },
  {
   "cell_type": "code",
   "execution_count": 10,
   "metadata": {
    "collapsed": true
   },
   "outputs": [],
   "source": [
    "df_RANK2008 = pd.DataFrame()\n",
    "for team in TEAMS:\n",
    "    df_RANK2008 = df_RANK2008.append(TeamStats(team_id = team, season ='2008-09').overall())"
   ]
  },
  {
   "cell_type": "code",
   "execution_count": null,
   "metadata": {
    "collapsed": true
   },
   "outputs": [],
   "source": [
    "df_RANK2009 = pd.DataFrame()\n",
    "for team in TEAMS:\n",
    "    df_RANK2009 = df_RANK2009.append(TeamStats(team_id = team, season ='2009-10').overall())"
   ]
  },
  {
   "cell_type": "code",
   "execution_count": null,
   "metadata": {
    "collapsed": true
   },
   "outputs": [],
   "source": [
    "df_RANK2010 = pd.DataFrame()\n",
    "for team in TEAMS:\n",
    "    df_RANK2010 = df_RANK2010.append(TeamStats(team_id = team, season ='2010-11').overall())"
   ]
  },
  {
   "cell_type": "code",
   "execution_count": null,
   "metadata": {
    "collapsed": true
   },
   "outputs": [],
   "source": [
    "df_RANK2011 = pd.DataFrame()\n",
    "for team in TEAMS:\n",
    "    df_RANK2011 = df_RANK2011.append(TeamStats(team_id = team, season ='2011-12').overall())"
   ]
  },
  {
   "cell_type": "code",
   "execution_count": null,
   "metadata": {
    "collapsed": true
   },
   "outputs": [],
   "source": [
    "df_RANK2012 = pd.DataFrame()\n",
    "for team in TEAMS:\n",
    "    df_RANK2012 = df_RANK2012.append(TeamStats(team_id = team, season ='2012-13').overall())"
   ]
  },
  {
   "cell_type": "code",
   "execution_count": null,
   "metadata": {
    "collapsed": true
   },
   "outputs": [],
   "source": [
    "df_RANK2013 = pd.DataFrame()\n",
    "for team in TEAMS:\n",
    "    df_RANK2013 = df_RANK2013.append(TeamStats(team_id = team, season ='2013-14').overall())"
   ]
  },
  {
   "cell_type": "code",
   "execution_count": null,
   "metadata": {
    "collapsed": true
   },
   "outputs": [],
   "source": [
    "df_RANK2014 = pd.DataFrame()\n",
    "for team in TEAMS:\n",
    "    df_RANK2014 = df_RANK2014.append(TeamStats(team_id = team, season ='2014-15').overall())"
   ]
  },
  {
   "cell_type": "code",
   "execution_count": null,
   "metadata": {
    "collapsed": true
   },
   "outputs": [],
   "source": [
    "df_RANK2015 = pd.DataFrame()\n",
    "for team in TEAMS:\n",
    "    df_RANK2015 = df_RANK2015.append(TeamStats(team_id = team, season ='2015-16').overall())"
   ]
  },
  {
   "cell_type": "code",
   "execution_count": null,
   "metadata": {
    "collapsed": true
   },
   "outputs": [],
   "source": [
    "df_RANK2016 = pd.DataFrame()\n",
    "for team in TEAMS:\n",
    "    df_RANK2016 = df_RANK2016.append(TeamStats(team_id = team, season ='2016-17').overall())"
   ]
  },
  {
   "cell_type": "code",
   "execution_count": null,
   "metadata": {
    "collapsed": true
   },
   "outputs": [],
   "source": [
    "#Now we will sort all the teams into wins(we will use # of wins to determine the \"best\" teams of the season)\n",
    "\n",
    "\n",
    "#type(df_Rank2000)\n",
    "#df_RANK2000\n",
    "#df_RANK2000sort = df_RANK2000.sort_values(by= str, axis = df_RANK2000['3'], inplace=False)\n",
    "df_RANK2000sort = df_RANK2000.sort_values(by=['W'], ascending=False)\n",
    "df_RANK2001sort = df_RANK2001.sort_values(by=['W'], ascending=False)\n",
    "df_RANK2002sort = df_RANK2002.sort_values(by=['W'], ascending=False)\n",
    "df_RANK2003sort = df_RANK2003.sort_values(by=['W'], ascending=False)\n",
    "df_RANK2004sort = df_RANK2004.sort_values(by=['W'], ascending=False)\n",
    "df_RANK2005sort = df_RANK2005.sort_values(by=['W'], ascending=False)\n",
    "df_RANK2006sort = df_RANK2006.sort_values(by=['W'], ascending=False)\n",
    "df_RANK2007sort = df_RANK2007.sort_values(by=['W'], ascending=False)\n",
    "df_RANK2008sort = df_RANK2008.sort_values(by=['W'], ascending=False)\n",
    "df_RANK2009sort = df_RANK2009.sort_values(by=['W'], ascending=False)\n",
    "df_RANK2010sort = df_RANK2010.sort_values(by=['W'], ascending=False)\n",
    "df_RANK2011sort = df_RANK2011.sort_values(by=['W'], ascending=False)\n",
    "df_RANK2012sort = df_RANK2012.sort_values(by=['W'], ascending=False)\n",
    "df_RANK2013sort = df_RANK2013.sort_values(by=['W'], ascending=False)\n",
    "df_RANK2014sort = df_RANK2014.sort_values(by=['W'], ascending=False)\n",
    "df_RANK2015sort = df_RANK2015.sort_values(by=['W'], ascending=False)\n",
    "df_RANK2016sort = df_RANK2016.sort_values(by=['W'], ascending=False)\n",
    "\n",
    "#TeamSummary(team_id = '1610612737', season ='2000-01').season_ranks()\n",
    "#df_RANK2000 = pd.DataFrame(RANK2000.season_ranks())\n",
    "#df_RANK2000.columns\n",
    "#df_RANK2000['W']\n",
    "#df_RANK2000sort"
   ]
  },
  {
   "cell_type": "code",
   "execution_count": null,
   "metadata": {
    "collapsed": true
   },
   "outputs": [],
   "source": [
    "#Let's filter out the teams and leave only the top 8 for each season\n",
    "\n",
    "df_RANK2000Top8 = df_RANK2000sort[0:8]\n",
    "df_RANK2001Top8 = df_RANK2001sort[0:8]\n",
    "df_RANK2002Top8 = df_RANK2002sort[0:8]\n",
    "df_RANK2003Top8 = df_RANK2003sort[0:8]\n",
    "df_RANK2004Top8 = df_RANK2004sort[0:8]\n",
    "df_RANK2005Top8 = df_RANK2005sort[0:8]\n",
    "df_RANK2006Top8 = df_RANK2006sort[0:8]\n",
    "df_RANK2007Top8 = df_RANK2007sort[0:8]\n",
    "df_RANK2008Top8 = df_RANK2008sort[0:8]\n",
    "df_RANK2009Top8 = df_RANK2009sort[0:8]\n",
    "df_RANK2010Top8 = df_RANK2010sort[0:8]\n",
    "df_RANK2011Top8 = df_RANK2011sort[0:8]\n",
    "df_RANK2012Top8 = df_RANK2012sort[0:8]\n",
    "df_RANK2013Top8 = df_RANK2013sort[0:8]\n",
    "df_RANK2014Top8 = df_RANK2014sort[0:8]\n",
    "df_RANK2015Top8 = df_RANK2015sort[0:8]\n",
    "df_RANK2016Top8 = df_RANK2016sort[0:8]\n",
    "\n",
    "\n",
    "\n",
    "#df_RANK2000Top8"
   ]
  },
  {
   "cell_type": "code",
   "execution_count": null,
   "metadata": {
    "collapsed": true
   },
   "outputs": [],
   "source": [
    "# lets save the top 8 teams into a csv\n",
    "Top8_2000 = pd.DataFrame(df_RANK2000Top8)\n",
    "Top8_2000.to_csv('Top8_2000.csv')"
   ]
  },
  {
   "cell_type": "code",
   "execution_count": null,
   "metadata": {
    "collapsed": true
   },
   "outputs": [],
   "source": [
    "Top8_2001 = pd.DataFrame(df_RANK2001Top8)\n",
    "Top8_2001.to_csv('Top8_2001.csv')"
   ]
  },
  {
   "cell_type": "code",
   "execution_count": null,
   "metadata": {
    "collapsed": true
   },
   "outputs": [],
   "source": [
    "Top8_2002 = pd.DataFrame(df_RANK2002Top8)\n",
    "Top8_2002.to_csv('Top8_2002.csv')"
   ]
  },
  {
   "cell_type": "code",
   "execution_count": null,
   "metadata": {
    "collapsed": true
   },
   "outputs": [],
   "source": [
    "Top8_2003 = pd.DataFrame(df_RANK2003Top8)\n",
    "Top8_2003.to_csv('Top8_2003.csv')"
   ]
  },
  {
   "cell_type": "code",
   "execution_count": null,
   "metadata": {
    "collapsed": true
   },
   "outputs": [],
   "source": [
    "Top8_2004 = pd.DataFrame(df_RANK2004Top8)\n",
    "Top8_2004.to_csv('Top8_2004.csv')"
   ]
  },
  {
   "cell_type": "code",
   "execution_count": null,
   "metadata": {
    "collapsed": true
   },
   "outputs": [],
   "source": [
    "Top8_2005 = pd.DataFrame(df_RANK2005Top8)\n",
    "Top8_2005.to_csv('Top8_2005.csv')"
   ]
  },
  {
   "cell_type": "code",
   "execution_count": null,
   "metadata": {
    "collapsed": true
   },
   "outputs": [],
   "source": [
    "Top8_2006 = pd.DataFrame(df_RANK2006Top8)\n",
    "Top8_2006.to_csv('Top8_2006.csv')"
   ]
  },
  {
   "cell_type": "code",
   "execution_count": null,
   "metadata": {
    "collapsed": true
   },
   "outputs": [],
   "source": [
    "Top8_2007 = pd.DataFrame(df_RANK2007Top8)\n",
    "Top8_2007.to_csv('Top8_2007.csv')"
   ]
  },
  {
   "cell_type": "code",
   "execution_count": null,
   "metadata": {
    "collapsed": true
   },
   "outputs": [],
   "source": [
    "Top8_2008 = pd.DataFrame(df_RANK2008Top8)\n",
    "Top8_2008.to_csv('Top8_2008.csv')"
   ]
  },
  {
   "cell_type": "code",
   "execution_count": null,
   "metadata": {
    "collapsed": true
   },
   "outputs": [],
   "source": [
    "Top8_2009 = pd.DataFrame(df_RANK2009Top8)\n",
    "Top8_2009.to_csv('Top8_2009.csv')"
   ]
  },
  {
   "cell_type": "code",
   "execution_count": null,
   "metadata": {
    "collapsed": true
   },
   "outputs": [],
   "source": [
    "Top8_2010 = pd.DataFrame(df_RANK2010Top8)\n",
    "Top8_2010.to_csv('Top8_2010.csv')"
   ]
  },
  {
   "cell_type": "code",
   "execution_count": null,
   "metadata": {
    "collapsed": true
   },
   "outputs": [],
   "source": [
    "Top8_2011 = pd.DataFrame(df_RANK2011Top8)\n",
    "Top8_2011.to_csv('Top8_2011.csv')"
   ]
  },
  {
   "cell_type": "code",
   "execution_count": null,
   "metadata": {
    "collapsed": true
   },
   "outputs": [],
   "source": [
    "Top8_2012 = pd.DataFrame(df_RANK2012Top8)\n",
    "Top8_2012.to_csv('Top8_2012.csv')"
   ]
  },
  {
   "cell_type": "code",
   "execution_count": null,
   "metadata": {
    "collapsed": true
   },
   "outputs": [],
   "source": [
    "Top8_2013 = pd.DataFrame(df_RANK2013Top8)\n",
    "Top8_2013.to_csv('Top8_2013.csv')"
   ]
  },
  {
   "cell_type": "code",
   "execution_count": null,
   "metadata": {
    "collapsed": true
   },
   "outputs": [],
   "source": [
    "Top8_2014 = pd.DataFrame(df_RANK2014Top8)\n",
    "Top8_2014.to_csv('Top8_2014.csv')"
   ]
  },
  {
   "cell_type": "code",
   "execution_count": null,
   "metadata": {
    "collapsed": true
   },
   "outputs": [],
   "source": [
    "Top8_2015 = pd.DataFrame(df_RANK2015Top8)\n",
    "Top8_2015.to_csv('Top8_2015.csv')"
   ]
  },
  {
   "cell_type": "code",
   "execution_count": null,
   "metadata": {
    "collapsed": true
   },
   "outputs": [],
   "source": [
    "Top8_2016 = pd.DataFrame(df_RANK2016Top8)\n",
    "Top8_2016.to_csv('Top8_2016.csv')"
   ]
  },
  {
   "cell_type": "code",
   "execution_count": null,
   "metadata": {
    "collapsed": true
   },
   "outputs": [],
   "source": [
    "#A quicker way to save all ranked seasons\n",
    "\n",
    "lst_ranked_seasons = [df_RANK2000sort, df_RANK2001sort, df_RANK2002sort,\n",
    "                     df_RANK2003sort, df_RANK2004sort, df_RANK2005sort,\n",
    "                     df_RANK2006sort, df_RANK2007sort, df_RANK2008sort,\n",
    "                     df_RANK2009sort, df_RANK2010sort, df_RANK2011sort,\n",
    "                     df_RANK2012sort, df_RANK2013sort, df_RANK2014sort,\n",
    "                     df_RANK2015sort, df_RANK2016sort]\n",
    "index = 0\n",
    "for df in lst_ranked_seasons:\n",
    "    if index < 10:\n",
    "        df.to_csv('ranked_teams_200' + str(index) + '.csv')\n",
    "    else:\n",
    "        df.to_csv('ranked_teams_20' + str(index) + '.csv')\n",
    "    index += 1"
   ]
  },
  {
   "cell_type": "code",
   "execution_count": null,
   "metadata": {
    "collapsed": true
   },
   "outputs": [],
   "source": []
  },
  {
   "cell_type": "markdown",
   "metadata": {},
   "source": [
    "# Data Visualization\n",
    "\n"
   ]
  },
  {
   "cell_type": "code",
   "execution_count": null,
   "metadata": {
    "collapsed": true
   },
   "outputs": [],
   "source": [
    "#Visualization for 2000\n",
    "customers = lst_ranked_team_impact_df[0][['CFPARAMS','IMP_MEAN']]\n",
    "#customers.set_index('CFPARAMS')\n",
    "customers.index = range(1,len(customers)+1)\n",
    "my_plot = customers.plot(kind='bar', title=\"Team Rank v Avg Player Impact 2000\")\n",
    "my_plot.set_xlabel(\"Team Rank\")\n",
    "my_plot.set_ylabel(\"Avg Impact\")\n",
    "deviation_graph = lst_ranked_team_impact_df[0][['CFPARAMS','IMP_STD']]\n",
    "deviation_graph.index = range(1,len(deviation_graph)+1)\n",
    "deviation_graph.set_index('CFPARAMS')\n",
    "my_plot = deviation_graph.plot(kind='bar', title=\"Team Rank v Standard Deviation of Avg Player Impact 2000\")\n",
    "my_plot.set_xlabel(\"Team Rank\")\n",
    "my_plot.set_ylabel(\"Impact Standard Deviation\")\n",
    "\n",
    "#Visualization for 2001\n",
    "customers = lst_ranked_team_impact_df[1][['CFPARAMS','IMP_MEAN']]\n",
    "customers.index = range(1,len(customers)+1)\n",
    "my_plot = customers.plot(kind='bar', title=\"Team Rank v Avg Player Impact 2001\")\n",
    "my_plot.set_xlabel(\"Team Rank\")\n",
    "my_plot.set_ylabel(\"Avg Impact\")\n",
    "\n",
    "deviation_graph = lst_ranked_team_impact_df[1][['CFPARAMS','IMP_STD']]\n",
    "deviation_graph.index = range(1,len(deviation_graph)+1)\n",
    "my_plot = deviation_graph.plot(kind='bar', title=\"Team Rank v Standard Deviation of Avg Player Impact 2001\")\n",
    "my_plot.set_xlabel(\"Team Rank\")\n",
    "my_plot.set_ylabel(\"Impact Standard Deviation\")\n",
    "\n",
    "#Visualization for 2002\n",
    "customers = lst_ranked_team_impact_df[2][['CFPARAMS','IMP_MEAN']]\n",
    "customers.index = range(1,len(customers)+1)\n",
    "my_plot = customers.plot(kind='bar', title=\"Team Rank v Avg Player Impact 2002\")\n",
    "my_plot.set_xlabel(\"Team Rank\")\n",
    "my_plot.set_ylabel(\"Avg Impact\")\n",
    "\n",
    "deviation_graph = lst_ranked_team_impact_df[2][['CFPARAMS','IMP_STD']]\n",
    "deviation_graph.index = range(1,len(deviation_graph)+1)\n",
    "my_plot = deviation_graph.plot(kind='bar', title=\"Team Rank v Standard Deviation of Avg Player Impact 2002\")\n",
    "my_plot.set_xlabel(\"Team Rank\")\n",
    "my_plot.set_ylabel(\"Impact Standard Deviation\")\n",
    "\n",
    "#Visualization for 2003\n",
    "customers = lst_ranked_team_impact_df[3][['CFPARAMS','IMP_MEAN']]\n",
    "customers.index = range(1,len(customers)+1)\n",
    "my_plot = customers.plot(kind='bar', title=\"Team Rank v Avg Player Impact 2003\")\n",
    "my_plot.set_xlabel(\"Team Rank\")\n",
    "my_plot.set_ylabel(\"Avg Impact\")\n",
    "\n",
    "deviation_graph = lst_ranked_team_impact_df[3][['CFPARAMS','IMP_STD']]\n",
    "deviation_graph.index = range(1,len(deviation_graph)+1)\n",
    "my_plot = deviation_graph.plot(kind='bar', title=\"Team Rank v Standard Deviation of Avg Player Impact 2003\")\n",
    "my_plot.set_xlabel(\"Team Rank\")\n",
    "my_plot.set_ylabel(\"Impact Standard Deviation\")\n",
    "\n",
    "#Visualization for 2004\n",
    "customers = lst_ranked_team_impact_df[4][['CFPARAMS','IMP_MEAN']]\n",
    "customers.index = range(1,len(customers)+1)\n",
    "my_plot = customers.plot(kind='bar', title=\"Team Rank v Avg Player Impact 2004\")\n",
    "my_plot.set_xlabel(\"Team Rank\")\n",
    "my_plot.set_ylabel(\"Avg Impact\")\n",
    "\n",
    "deviation_graph = lst_ranked_team_impact_df[4][['CFPARAMS','IMP_STD']]\n",
    "deviation_graph.index = range(1,len(deviation_graph)+1)\n",
    "\n",
    "my_plot = deviation_graph.plot(kind='bar', title=\"Team Rank v Standard Deviation of Avg Player Impact 2004\")\n",
    "my_plot.set_xlabel(\"Team Rank\")\n",
    "my_plot.set_ylabel(\"Impact Standard Deviation\")\n",
    "\n",
    "#Visualization for 2005\n",
    "customers = lst_ranked_team_impact_df[5][['CFPARAMS','IMP_MEAN']]\n",
    "customers.index = range(1,len(customers)+1)\n",
    "\n",
    "my_plot = customers.plot(kind='bar', title=\"Team Rank v Avg Player Impact 2005\")\n",
    "my_plot.set_xlabel(\"Team Rank\")\n",
    "my_plot.set_ylabel(\"Avg Impact\")\n",
    "\n",
    "deviation_graph = lst_ranked_team_impact_df[1][['CFPARAMS','IMP_STD']]\n",
    "deviation_graph.index = range(1,len(deviation_graph)+1)\n",
    "\n",
    "my_plot = deviation_graph.plot(kind='bar', title=\"Team Rank v Standard Deviation of Avg Player Impact 2005\")\n",
    "my_plot.set_xlabel(\"Team Rank\")\n",
    "my_plot.set_ylabel(\"Impact Standard Deviation\")\n",
    "\n",
    "\n",
    "#Visualization for 2006\n",
    "customers = lst_ranked_team_impact_df[6][['CFPARAMS','IMP_MEAN']]\n",
    "customers.index = range(1,len(customers)+1)\n",
    "\n",
    "my_plot = customers.plot(kind='bar', title=\"Team Rank v Avg Player Impact 2006\")\n",
    "my_plot.set_xlabel(\"Team Rank\")\n",
    "my_plot.set_ylabel(\"Avg Impact\")\n",
    "\n",
    "deviation_graph = lst_ranked_team_impact_df[6][['CFPARAMS','IMP_STD']]\n",
    "deviation_graph.index = range(1,len(deviation_graph)+1)\n",
    "\n",
    "my_plot = deviation_graph.plot(kind='bar', title=\"Team Rank v Standard Deviation of Avg Player Impact 2006\")\n",
    "my_plot.set_xlabel(\"Team Rank\")\n",
    "my_plot.set_ylabel(\"Impact Standard Deviation\")\n",
    "\n",
    "#Visualization for 2007\n",
    "customers = lst_ranked_team_impact_df[7][['CFPARAMS','IMP_MEAN']]\n",
    "customers.index = range(1,len(customers)+1)\n",
    "\n",
    "my_plot = customers.plot(kind='bar', title=\"Team Rank v Avg Player Impact 2007\")\n",
    "my_plot.set_xlabel(\"Team Rank\")\n",
    "my_plot.set_ylabel(\"Avg Impact\")\n",
    "\n",
    "deviation_graph = lst_ranked_team_impact_df[7][['CFPARAMS','IMP_STD']]\n",
    "deviation_graph.index = range(1,len(deviation_graph)+1)\n",
    "\n",
    "my_plot = deviation_graph.plot(kind='bar', title=\"Team Rank v Standard Deviation of Avg Player Impact 2007\")\n",
    "my_plot.set_xlabel(\"Team Rank\")\n",
    "my_plot.set_ylabel(\"Impact Standard Deviation\")\n",
    "\n",
    "#Visualization for 2008\n",
    "customers = lst_ranked_team_impact_df[8][['CFPARAMS','IMP_MEAN']]\n",
    "customers.index = range(1,len(customers)+1)\n",
    "\n",
    "my_plot = customers.plot(kind='bar', title=\"Team Rank v Avg Player Impact 2008\")\n",
    "my_plot.set_xlabel(\"Team Rank\")\n",
    "my_plot.set_ylabel(\"Avg Impact\")\n",
    "\n",
    "deviation_graph = lst_ranked_team_impact_df[8][['CFPARAMS','IMP_STD']]\n",
    "deviation_graph.index = range(1,len(deviation_graph)+1)\n",
    "\n",
    "my_plot = deviation_graph.plot(kind='bar', title=\"Team Rank v Standard Deviation of Avg Player Impact 2008\")\n",
    "my_plot.set_xlabel(\"Team Rank\")\n",
    "my_plot.set_ylabel(\"Impact Standard Deviation\")\n",
    "\n",
    "#Visualization for 2009\n",
    "customers = lst_ranked_team_impact_df[9][['CFPARAMS','IMP_MEAN']]\n",
    "customers.index = range(1,len(customers)+1)\n",
    "\n",
    "my_plot = customers.plot(kind='bar', title=\"Team Rank v Avg Player Impact 2009\")\n",
    "my_plot.set_xlabel(\"Team Rank\")\n",
    "my_plot.set_ylabel(\"Avg Impact\")\n",
    "\n",
    "deviation_graph = lst_ranked_team_impact_df[9][['CFPARAMS','IMP_STD']]\n",
    "deviation_graph.index = range(1,len(deviation_graph)+1)\n",
    "\n",
    "my_plot = deviation_graph.plot(kind='bar', title=\"Team Rank v Standard Deviation of Avg Player Impact 2009\")\n",
    "my_plot.set_xlabel(\"Team Rank\")\n",
    "my_plot.set_ylabel(\"Impact Standard Deviation\")\n",
    "\n",
    "#Visualization for 2010\n",
    "customers = lst_ranked_team_impact_df[10][['CFPARAMS','IMP_MEAN']]\n",
    "customers.index = range(1,len(customers)+1)\n",
    "\n",
    "my_plot = customers.plot(kind='bar', title=\"Team Rank v Avg Player Impact 2010\")\n",
    "my_plot.set_xlabel(\"Team Rank\")\n",
    "my_plot.set_ylabel(\"Avg Impact\")\n",
    "\n",
    "deviation_graph = lst_ranked_team_impact_df[10][['CFPARAMS','IMP_STD']]\n",
    "deviation_graph.index = range(1,len(deviation_graph)+1)\n",
    "\n",
    "my_plot = deviation_graph.plot(kind='bar', title=\"Team Rank v Standard Deviation of Avg Player Impact 2010\")\n",
    "my_plot.set_xlabel(\"Team Rank\")\n",
    "my_plot.set_ylabel(\"Impact Standard Deviation\")\n",
    "\n",
    "#Visualization for 2011\n",
    "customers = lst_ranked_team_impact_df[11][['CFPARAMS','IMP_MEAN']]\n",
    "customers.index = range(1,len(customers)+1)\n",
    "\n",
    "my_plot = customers.plot(kind='bar', title=\"Team Rank v Avg Player Impact 2011\")\n",
    "my_plot.set_xlabel(\"Team Rank\")\n",
    "my_plot.set_ylabel(\"Avg Impact\")\n",
    "\n",
    "deviation_graph = lst_ranked_team_impact_df[11][['CFPARAMS','IMP_STD']]\n",
    "deviation_graph.index = range(1,len(deviation_graph)+1)\n",
    "\n",
    "my_plot = deviation_graph.plot(kind='bar', title=\"Team Rank v Standard Deviation of Avg Player Impact 2011\")\n",
    "my_plot.set_xlabel(\"Team Rank\")\n",
    "my_plot.set_ylabel(\"Impact Standard Deviation\")\n",
    "\n",
    "#Visualization for 2012\n",
    "customers = lst_ranked_team_impact_df[12][['CFPARAMS','IMP_MEAN']]\n",
    "customers.index = range(1,len(customers)+1)\n",
    "\n",
    "my_plot = customers.plot(kind='bar', title=\"Team Rank v Avg Player Impact 2012\")\n",
    "my_plot.set_xlabel(\"Team Rank\")\n",
    "my_plot.set_ylabel(\"Avg Impact\")\n",
    "\n",
    "deviation_graph = lst_ranked_team_impact_df[12][['CFPARAMS','IMP_STD']]\n",
    "deviation_graph.index = range(1,len(deviation_graph)+1)\n",
    "\n",
    "my_plot = deviation_graph.plot(kind='bar', title=\"Team Rank v Standard Deviation of Avg Player Impact 2012\")\n",
    "my_plot.set_xlabel(\"Team Rank\")\n",
    "my_plot.set_ylabel(\"Impact Standard Deviation\")\n",
    "\n",
    "#Visualization for 2013\n",
    "customers = lst_ranked_team_impact_df[13][['CFPARAMS','IMP_MEAN']]\n",
    "customers.index = range(1,len(customers)+1)\n",
    "\n",
    "my_plot = customers.plot(kind='bar', title=\"Team Rank v Avg Player Impact 2013\")\n",
    "my_plot.set_xlabel(\"Team Rank\")\n",
    "my_plot.set_ylabel(\"Avg Impact\")\n",
    "\n",
    "deviation_graph = lst_ranked_team_impact_df[13][['CFPARAMS','IMP_STD']]\n",
    "deviation_graph.index = range(1,len(deviation_graph)+1)\n",
    "\n",
    "my_plot = deviation_graph.plot(kind='bar', title=\"Team Rank v Standard Deviation of Avg Player Impact 2013\")\n",
    "my_plot.set_xlabel(\"Team Rank\")\n",
    "my_plot.set_ylabel(\"Impact Standard Deviation\")\n",
    "\n",
    "#Visualization for 2014\n",
    "customers = lst_ranked_team_impact_df[14][['CFPARAMS','IMP_MEAN']]\n",
    "customers.index = range(1,len(customers)+1)\n",
    "\n",
    "my_plot = customers.plot(kind='bar', title=\"Team Rank v Avg Player Impact 2014\")\n",
    "my_plot.set_xlabel(\"Team Rank\")\n",
    "my_plot.set_ylabel(\"Avg Impact\")\n",
    "\n",
    "deviation_graph = lst_ranked_team_impact_df[14][['CFPARAMS','IMP_STD']]\n",
    "deviation_graph.index = range(1,len(deviation_graph)+1)\n",
    "\n",
    "my_plot = deviation_graph.plot(kind='bar', title=\"Team Rank v Standard Deviation of Avg Player Impact 2014\")\n",
    "my_plot.set_xlabel(\"Team Rank\")\n",
    "my_plot.set_ylabel(\"Impact Standard Deviation\")\n",
    "\n",
    "#Visualization for 2015\n",
    "customers = lst_ranked_team_impact_df[15][['CFPARAMS','IMP_MEAN']]\n",
    "customers.index = range(1,len(customers)+1)\n",
    "\n",
    "my_plot = customers.plot(kind='bar', title=\"Team Rank v Avg Player Impact 2015\")\n",
    "my_plot.set_xlabel(\"Team Rank\")\n",
    "my_plot.set_ylabel(\"Avg Impact\")\n",
    "\n",
    "deviation_graph = lst_ranked_team_impact_df[15][['CFPARAMS','IMP_STD']]\n",
    "deviation_graph.index = range(1,len(deviation_graph)+1)\n",
    "\n",
    "my_plot = deviation_graph.plot(kind='bar', title=\"Team Rank v Standard Deviation of Avg Player Impact 2015\")\n",
    "my_plot.set_xlabel(\"Team Rank\")\n",
    "my_plot.set_ylabel(\"Impact Standard Deviation\")\n",
    "\n",
    "#Visualization for 2016\n",
    "\n",
    "customers = lst_ranked_team_impact_df[16][['CFPARAMS','IMP_MEAN']]\n",
    "customers.index = range(1,len(customers)+1)\n",
    "\n",
    "my_plot = customers.plot(kind='bar', title=\"Team Rank v Avg Player Impact 2016\")\n",
    "my_plot.set_xlabel(\"Team Rank\")\n",
    "my_plot.set_ylabel(\"Avg Impact\")\n",
    "\n",
    "deviation_graph = lst_ranked_team_impact_df[16][['CFPARAMS','IMP_STD']]\n",
    "deviation_graph.index = range(1,len(deviation_graph)+1)\n",
    "\n",
    "my_plot = deviation_graph.plot(kind='bar', title=\"Team Rank v Standard Deviation of Avg Player Impact 2026\")\n",
    "my_plot.set_xlabel(\"Team Rank\")\n",
    "my_plot.set_ylabel(\"Impact Standard Deviation\")\n",
    "\n",
    "\n"
   ]
  },
  {
   "cell_type": "markdown",
   "metadata": {},
   "source": [
    "# Data Analysis and Results\n",
    "\n"
   ]
  },
  {
   "cell_type": "markdown",
   "metadata": {},
   "source": [
    "# Data Analysis and Results\n",
    "\n"
   ]
  },
  {
   "cell_type": "markdown",
   "metadata": {},
   "source": [
    "# Conclusion and Discussion\n",
    "\n"
   ]
  },
  {
   "cell_type": "code",
   "execution_count": null,
   "metadata": {
    "collapsed": true
   },
   "outputs": [],
   "source": []
  }
 ],
 "metadata": {
  "kernelspec": {
   "display_name": "Python 3",
   "language": "python",
   "name": "python3"
  },
  "language_info": {
   "codemirror_mode": {
    "name": "ipython",
    "version": 3
   },
   "file_extension": ".py",
   "mimetype": "text/x-python",
   "name": "python",
   "nbconvert_exporter": "python",
   "pygments_lexer": "ipython3",
   "version": "3.6.3"
  }
 },
 "nbformat": 4,
 "nbformat_minor": 2
}
