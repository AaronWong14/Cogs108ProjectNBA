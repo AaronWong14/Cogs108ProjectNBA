{
 "cells": [
  {
   "cell_type": "code",
   "execution_count": 1,
   "metadata": {},
   "outputs": [],
   "source": [
    "import nba_py\n",
    "import pandas as pd\n",
    "\n",
    "from nba_py import game, player, constants, team\n",
    "from nba_py.player import PlayerList, PlayerCareer\n",
    "from nba_py.league import PlayerStats\n",
    "from nba_py.team import TeamCommonRoster, TeamSummary"
   ]
  },
  {
   "cell_type": "code",
   "execution_count": null,
   "metadata": {},
   "outputs": [],
   "source": [
    "\n",
    "TEAMS = ['1610612737','1610612738','1610612751','1610612766','1610612741', '1610612739', '1610612742' , '1610612743', '1610612765','1610612744','1610612745', '1610612754', '1610612746', '1610612747', '1610612763', '1610612748', '1610612749', '1610612750', '1610612740', '1610612752', '1610612760','1610612753', '1610612755', '1610612756', '1610612757', '1610612758', '1610612759', '1610612761', '1610612762', '1610612764']\n",
    "df_RANK2000 = pd.DataFrame()\n",
    "for team in TEAMS:\n",
    "    df_RANK2000.append(TeamSummary(team_id = team, season ='2000-01').season_ranks(), ignore_index=True)\n"
   ]
  },
  {
   "cell_type": "code",
   "execution_count": 6,
   "metadata": {},
   "outputs": [
    {
     "ename": "AttributeError",
     "evalue": "'list' object has no attribute 'season_ranks'",
     "output_type": "error",
     "traceback": [
      "\u001b[1;31m---------------------------------------------------------------------------\u001b[0m",
      "\u001b[1;31mAttributeError\u001b[0m                            Traceback (most recent call last)",
      "\u001b[1;32m<ipython-input-6-1751b9933697>\u001b[0m in \u001b[0;36m<module>\u001b[1;34m()\u001b[0m\n\u001b[0;32m      1\u001b[0m \u001b[1;31m#TeamSummary(team_id = '1610612737', season ='2000-01').season_ranks()\u001b[0m\u001b[1;33m\u001b[0m\u001b[1;33m\u001b[0m\u001b[0m\n\u001b[1;32m----> 2\u001b[1;33m \u001b[0mdf_RANK2000\u001b[0m \u001b[1;33m=\u001b[0m \u001b[0mpd\u001b[0m\u001b[1;33m.\u001b[0m\u001b[0mDataFrame\u001b[0m\u001b[1;33m(\u001b[0m\u001b[0mRANK2000\u001b[0m\u001b[1;33m.\u001b[0m\u001b[0mseason_ranks\u001b[0m\u001b[1;33m(\u001b[0m\u001b[1;33m)\u001b[0m\u001b[1;33m)\u001b[0m\u001b[1;33m\u001b[0m\u001b[0m\n\u001b[0m\u001b[0;32m      3\u001b[0m \u001b[0mdf_RANK2000\u001b[0m\u001b[1;33m\u001b[0m\u001b[0m\n",
      "\u001b[1;31mAttributeError\u001b[0m: 'list' object has no attribute 'season_ranks'"
     ]
    }
   ],
   "source": [
    "#TeamSummary(team_id = '1610612737', season ='2000-01').season_ranks()\n",
    "#df_RANK2000 = pd.DataFrame(RANK2000.season_ranks())\n",
    "df_RANK2000"
   ]
  },
  {
   "cell_type": "code",
   "execution_count": null,
   "metadata": {},
   "outputs": [],
   "source": []
  }
 ],
 "metadata": {
  "kernelspec": {
   "display_name": "Python 3",
   "language": "python",
   "name": "python3"
  },
  "language_info": {
   "codemirror_mode": {
    "name": "ipython",
    "version": 3
   },
   "file_extension": ".py",
   "mimetype": "text/x-python",
   "name": "python",
   "nbconvert_exporter": "python",
   "pygments_lexer": "ipython3",
   "version": "3.6.4"
  }
 },
 "nbformat": 4,
 "nbformat_minor": 2
}
