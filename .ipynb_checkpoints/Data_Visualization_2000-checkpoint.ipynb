{
 "cells": [
  {
   "cell_type": "code",
   "execution_count": 1,
   "metadata": {
    "collapsed": true
   },
   "outputs": [],
   "source": [
    "# Imports - these are all the imports needed for the assignment\n",
    "%matplotlib inline\n",
    "from scipy import stats\n",
    "import numpy.ma as ma\n",
    "from scipy.stats import mstats\n",
    "\n",
    "import numpy as np\n",
    "import pandas as pd\n",
    "import matplotlib.pyplot as plt"
   ]
  },
  {
   "cell_type": "code",
   "execution_count": 2,
   "metadata": {
    "collapsed": true
   },
   "outputs": [],
   "source": [
    "# 1a) Load the nba csv files\n",
    "\n",
    "# YOUR CODE HERE\n",
    "df_2000 = pd.read_csv('clean_players_2000.csv')"
   ]
  },
  {
   "cell_type": "code",
   "execution_count": 3,
   "metadata": {},
   "outputs": [
    {
     "data": {
      "text/html": [
       "<div>\n",
       "<style>\n",
       "    .dataframe thead tr:only-child th {\n",
       "        text-align: right;\n",
       "    }\n",
       "\n",
       "    .dataframe thead th {\n",
       "        text-align: left;\n",
       "    }\n",
       "\n",
       "    .dataframe tbody tr th {\n",
       "        vertical-align: top;\n",
       "    }\n",
       "</style>\n",
       "<table border=\"1\" class=\"dataframe\">\n",
       "  <thead>\n",
       "    <tr style=\"text-align: right;\">\n",
       "      <th></th>\n",
       "      <th>Unnamed: 0</th>\n",
       "      <th>PLAYER_ID</th>\n",
       "      <th>PLAYER_NAME</th>\n",
       "      <th>TEAM_ID</th>\n",
       "      <th>TEAM_ABBREVIATION</th>\n",
       "      <th>AGE</th>\n",
       "      <th>GP</th>\n",
       "      <th>W</th>\n",
       "      <th>L</th>\n",
       "      <th>W_PCT</th>\n",
       "      <th>...</th>\n",
       "      <th>FTA</th>\n",
       "      <th>FT_PCT</th>\n",
       "      <th>OREB</th>\n",
       "      <th>DREB</th>\n",
       "      <th>REB</th>\n",
       "      <th>AST</th>\n",
       "      <th>TOV</th>\n",
       "      <th>STL</th>\n",
       "      <th>BLK</th>\n",
       "      <th>PTS</th>\n",
       "    </tr>\n",
       "  </thead>\n",
       "  <tbody>\n",
       "    <tr>\n",
       "      <th>0</th>\n",
       "      <td>0</td>\n",
       "      <td>920</td>\n",
       "      <td>A.C. Green</td>\n",
       "      <td>1610612748</td>\n",
       "      <td>MIA</td>\n",
       "      <td>37.0</td>\n",
       "      <td>82</td>\n",
       "      <td>50</td>\n",
       "      <td>32</td>\n",
       "      <td>0.610</td>\n",
       "      <td>...</td>\n",
       "      <td>1.4</td>\n",
       "      <td>0.712</td>\n",
       "      <td>1.3</td>\n",
       "      <td>2.5</td>\n",
       "      <td>3.8</td>\n",
       "      <td>0.5</td>\n",
       "      <td>0.5</td>\n",
       "      <td>0.4</td>\n",
       "      <td>0.1</td>\n",
       "      <td>4.5</td>\n",
       "    </tr>\n",
       "    <tr>\n",
       "      <th>1</th>\n",
       "      <td>1</td>\n",
       "      <td>2062</td>\n",
       "      <td>A.J. Guyton</td>\n",
       "      <td>1610612741</td>\n",
       "      <td>CHI</td>\n",
       "      <td>23.0</td>\n",
       "      <td>33</td>\n",
       "      <td>6</td>\n",
       "      <td>27</td>\n",
       "      <td>0.182</td>\n",
       "      <td>...</td>\n",
       "      <td>0.5</td>\n",
       "      <td>0.833</td>\n",
       "      <td>0.3</td>\n",
       "      <td>0.8</td>\n",
       "      <td>1.1</td>\n",
       "      <td>1.9</td>\n",
       "      <td>0.7</td>\n",
       "      <td>0.3</td>\n",
       "      <td>0.2</td>\n",
       "      <td>6.0</td>\n",
       "    </tr>\n",
       "    <tr>\n",
       "      <th>2</th>\n",
       "      <td>2</td>\n",
       "      <td>243</td>\n",
       "      <td>Aaron McKie</td>\n",
       "      <td>1610612755</td>\n",
       "      <td>PHI</td>\n",
       "      <td>28.0</td>\n",
       "      <td>76</td>\n",
       "      <td>51</td>\n",
       "      <td>25</td>\n",
       "      <td>0.671</td>\n",
       "      <td>...</td>\n",
       "      <td>2.6</td>\n",
       "      <td>0.768</td>\n",
       "      <td>0.4</td>\n",
       "      <td>3.7</td>\n",
       "      <td>4.1</td>\n",
       "      <td>5.0</td>\n",
       "      <td>2.7</td>\n",
       "      <td>1.4</td>\n",
       "      <td>0.1</td>\n",
       "      <td>11.6</td>\n",
       "    </tr>\n",
       "    <tr>\n",
       "      <th>3</th>\n",
       "      <td>3</td>\n",
       "      <td>1425</td>\n",
       "      <td>Aaron Williams</td>\n",
       "      <td>1610612751</td>\n",
       "      <td>NJN</td>\n",
       "      <td>29.0</td>\n",
       "      <td>82</td>\n",
       "      <td>26</td>\n",
       "      <td>56</td>\n",
       "      <td>0.317</td>\n",
       "      <td>...</td>\n",
       "      <td>3.8</td>\n",
       "      <td>0.787</td>\n",
       "      <td>2.6</td>\n",
       "      <td>4.6</td>\n",
       "      <td>7.2</td>\n",
       "      <td>1.1</td>\n",
       "      <td>1.6</td>\n",
       "      <td>0.7</td>\n",
       "      <td>1.4</td>\n",
       "      <td>10.2</td>\n",
       "    </tr>\n",
       "    <tr>\n",
       "      <th>4</th>\n",
       "      <td>4</td>\n",
       "      <td>228</td>\n",
       "      <td>Adam Keefe</td>\n",
       "      <td>1610612744</td>\n",
       "      <td>GSW</td>\n",
       "      <td>31.0</td>\n",
       "      <td>67</td>\n",
       "      <td>14</td>\n",
       "      <td>53</td>\n",
       "      <td>0.209</td>\n",
       "      <td>...</td>\n",
       "      <td>0.9</td>\n",
       "      <td>0.619</td>\n",
       "      <td>1.3</td>\n",
       "      <td>1.8</td>\n",
       "      <td>3.1</td>\n",
       "      <td>0.5</td>\n",
       "      <td>0.6</td>\n",
       "      <td>0.4</td>\n",
       "      <td>0.3</td>\n",
       "      <td>2.5</td>\n",
       "    </tr>\n",
       "    <tr>\n",
       "      <th>5</th>\n",
       "      <td>5</td>\n",
       "      <td>1502</td>\n",
       "      <td>Adonal Foyle</td>\n",
       "      <td>1610612744</td>\n",
       "      <td>GSW</td>\n",
       "      <td>26.0</td>\n",
       "      <td>58</td>\n",
       "      <td>8</td>\n",
       "      <td>50</td>\n",
       "      <td>0.138</td>\n",
       "      <td>...</td>\n",
       "      <td>1.2</td>\n",
       "      <td>0.441</td>\n",
       "      <td>2.7</td>\n",
       "      <td>4.3</td>\n",
       "      <td>7.0</td>\n",
       "      <td>0.8</td>\n",
       "      <td>1.4</td>\n",
       "      <td>0.5</td>\n",
       "      <td>2.7</td>\n",
       "      <td>5.9</td>\n",
       "    </tr>\n",
       "    <tr>\n",
       "      <th>6</th>\n",
       "      <td>6</td>\n",
       "      <td>1559</td>\n",
       "      <td>Adrian Griffin</td>\n",
       "      <td>1610612738</td>\n",
       "      <td>BOS</td>\n",
       "      <td>26.0</td>\n",
       "      <td>44</td>\n",
       "      <td>16</td>\n",
       "      <td>28</td>\n",
       "      <td>0.364</td>\n",
       "      <td>...</td>\n",
       "      <td>0.5</td>\n",
       "      <td>0.750</td>\n",
       "      <td>0.6</td>\n",
       "      <td>1.4</td>\n",
       "      <td>2.0</td>\n",
       "      <td>0.6</td>\n",
       "      <td>0.4</td>\n",
       "      <td>0.4</td>\n",
       "      <td>0.1</td>\n",
       "      <td>2.1</td>\n",
       "    </tr>\n",
       "    <tr>\n",
       "      <th>7</th>\n",
       "      <td>7</td>\n",
       "      <td>1733</td>\n",
       "      <td>Al Harrington</td>\n",
       "      <td>1610612754</td>\n",
       "      <td>IND</td>\n",
       "      <td>21.0</td>\n",
       "      <td>78</td>\n",
       "      <td>39</td>\n",
       "      <td>39</td>\n",
       "      <td>0.500</td>\n",
       "      <td>...</td>\n",
       "      <td>2.0</td>\n",
       "      <td>0.656</td>\n",
       "      <td>1.5</td>\n",
       "      <td>3.4</td>\n",
       "      <td>4.9</td>\n",
       "      <td>1.7</td>\n",
       "      <td>1.9</td>\n",
       "      <td>0.8</td>\n",
       "      <td>0.2</td>\n",
       "      <td>7.5</td>\n",
       "    </tr>\n",
       "    <tr>\n",
       "      <th>8</th>\n",
       "      <td>8</td>\n",
       "      <td>673</td>\n",
       "      <td>Alan Henderson</td>\n",
       "      <td>1610612737</td>\n",
       "      <td>ATL</td>\n",
       "      <td>28.0</td>\n",
       "      <td>73</td>\n",
       "      <td>20</td>\n",
       "      <td>53</td>\n",
       "      <td>0.274</td>\n",
       "      <td>...</td>\n",
       "      <td>3.7</td>\n",
       "      <td>0.638</td>\n",
       "      <td>2.5</td>\n",
       "      <td>3.1</td>\n",
       "      <td>5.6</td>\n",
       "      <td>0.7</td>\n",
       "      <td>1.7</td>\n",
       "      <td>0.7</td>\n",
       "      <td>0.4</td>\n",
       "      <td>10.5</td>\n",
       "    </tr>\n",
       "    <tr>\n",
       "      <th>9</th>\n",
       "      <td>9</td>\n",
       "      <td>275</td>\n",
       "      <td>Allan Houston</td>\n",
       "      <td>1610612752</td>\n",
       "      <td>NYK</td>\n",
       "      <td>30.0</td>\n",
       "      <td>78</td>\n",
       "      <td>45</td>\n",
       "      <td>33</td>\n",
       "      <td>0.577</td>\n",
       "      <td>...</td>\n",
       "      <td>3.9</td>\n",
       "      <td>0.909</td>\n",
       "      <td>0.3</td>\n",
       "      <td>3.4</td>\n",
       "      <td>3.6</td>\n",
       "      <td>2.2</td>\n",
       "      <td>2.1</td>\n",
       "      <td>0.7</td>\n",
       "      <td>0.1</td>\n",
       "      <td>18.7</td>\n",
       "    </tr>\n",
       "    <tr>\n",
       "      <th>10</th>\n",
       "      <td>10</td>\n",
       "      <td>947</td>\n",
       "      <td>Allen Iverson</td>\n",
       "      <td>1610612755</td>\n",
       "      <td>PHI</td>\n",
       "      <td>26.0</td>\n",
       "      <td>71</td>\n",
       "      <td>50</td>\n",
       "      <td>21</td>\n",
       "      <td>0.704</td>\n",
       "      <td>...</td>\n",
       "      <td>10.1</td>\n",
       "      <td>0.814</td>\n",
       "      <td>0.7</td>\n",
       "      <td>3.1</td>\n",
       "      <td>3.8</td>\n",
       "      <td>4.6</td>\n",
       "      <td>3.3</td>\n",
       "      <td>2.5</td>\n",
       "      <td>0.3</td>\n",
       "      <td>31.1</td>\n",
       "    </tr>\n",
       "    <tr>\n",
       "      <th>11</th>\n",
       "      <td>11</td>\n",
       "      <td>297</td>\n",
       "      <td>Alonzo Mourning</td>\n",
       "      <td>1610612748</td>\n",
       "      <td>MIA</td>\n",
       "      <td>31.0</td>\n",
       "      <td>13</td>\n",
       "      <td>8</td>\n",
       "      <td>5</td>\n",
       "      <td>0.615</td>\n",
       "      <td>...</td>\n",
       "      <td>4.2</td>\n",
       "      <td>0.564</td>\n",
       "      <td>2.7</td>\n",
       "      <td>5.1</td>\n",
       "      <td>7.8</td>\n",
       "      <td>0.9</td>\n",
       "      <td>2.2</td>\n",
       "      <td>0.3</td>\n",
       "      <td>2.4</td>\n",
       "      <td>13.6</td>\n",
       "    </tr>\n",
       "    <tr>\n",
       "      <th>12</th>\n",
       "      <td>12</td>\n",
       "      <td>1541</td>\n",
       "      <td>Alvin Williams</td>\n",
       "      <td>1610612761</td>\n",
       "      <td>TOR</td>\n",
       "      <td>26.0</td>\n",
       "      <td>82</td>\n",
       "      <td>47</td>\n",
       "      <td>35</td>\n",
       "      <td>0.573</td>\n",
       "      <td>...</td>\n",
       "      <td>1.8</td>\n",
       "      <td>0.752</td>\n",
       "      <td>0.6</td>\n",
       "      <td>2.0</td>\n",
       "      <td>2.6</td>\n",
       "      <td>5.0</td>\n",
       "      <td>1.3</td>\n",
       "      <td>1.5</td>\n",
       "      <td>0.3</td>\n",
       "      <td>9.8</td>\n",
       "    </tr>\n",
       "    <tr>\n",
       "      <th>13</th>\n",
       "      <td>13</td>\n",
       "      <td>1889</td>\n",
       "      <td>Andre Miller</td>\n",
       "      <td>1610612739</td>\n",
       "      <td>CLE</td>\n",
       "      <td>25.0</td>\n",
       "      <td>82</td>\n",
       "      <td>30</td>\n",
       "      <td>52</td>\n",
       "      <td>0.366</td>\n",
       "      <td>...</td>\n",
       "      <td>5.5</td>\n",
       "      <td>0.833</td>\n",
       "      <td>1.1</td>\n",
       "      <td>3.2</td>\n",
       "      <td>4.4</td>\n",
       "      <td>8.0</td>\n",
       "      <td>3.2</td>\n",
       "      <td>1.5</td>\n",
       "      <td>0.3</td>\n",
       "      <td>15.8</td>\n",
       "    </tr>\n",
       "    <tr>\n",
       "      <th>14</th>\n",
       "      <td>14</td>\n",
       "      <td>692</td>\n",
       "      <td>Andrew DeClercq</td>\n",
       "      <td>1610612753</td>\n",
       "      <td>ORL</td>\n",
       "      <td>28.0</td>\n",
       "      <td>67</td>\n",
       "      <td>37</td>\n",
       "      <td>30</td>\n",
       "      <td>0.552</td>\n",
       "      <td>...</td>\n",
       "      <td>1.2</td>\n",
       "      <td>0.573</td>\n",
       "      <td>1.4</td>\n",
       "      <td>2.2</td>\n",
       "      <td>3.5</td>\n",
       "      <td>0.5</td>\n",
       "      <td>0.8</td>\n",
       "      <td>0.6</td>\n",
       "      <td>0.5</td>\n",
       "      <td>3.9</td>\n",
       "    </tr>\n",
       "    <tr>\n",
       "      <th>15</th>\n",
       "      <td>15</td>\n",
       "      <td>1950</td>\n",
       "      <td>Andy Panko</td>\n",
       "      <td>1610612737</td>\n",
       "      <td>ATL</td>\n",
       "      <td>23.0</td>\n",
       "      <td>1</td>\n",
       "      <td>1</td>\n",
       "      <td>0</td>\n",
       "      <td>1.000</td>\n",
       "      <td>...</td>\n",
       "      <td>0.0</td>\n",
       "      <td>0.000</td>\n",
       "      <td>0.0</td>\n",
       "      <td>0.0</td>\n",
       "      <td>0.0</td>\n",
       "      <td>0.0</td>\n",
       "      <td>0.0</td>\n",
       "      <td>0.0</td>\n",
       "      <td>0.0</td>\n",
       "      <td>0.0</td>\n",
       "    </tr>\n",
       "    <tr>\n",
       "      <th>16</th>\n",
       "      <td>16</td>\n",
       "      <td>358</td>\n",
       "      <td>Anfernee Hardaway</td>\n",
       "      <td>1610612756</td>\n",
       "      <td>PHX</td>\n",
       "      <td>29.0</td>\n",
       "      <td>4</td>\n",
       "      <td>2</td>\n",
       "      <td>2</td>\n",
       "      <td>0.500</td>\n",
       "      <td>...</td>\n",
       "      <td>2.8</td>\n",
       "      <td>0.636</td>\n",
       "      <td>1.3</td>\n",
       "      <td>3.3</td>\n",
       "      <td>4.5</td>\n",
       "      <td>3.8</td>\n",
       "      <td>0.8</td>\n",
       "      <td>1.5</td>\n",
       "      <td>0.3</td>\n",
       "      <td>9.8</td>\n",
       "    </tr>\n",
       "    <tr>\n",
       "      <th>17</th>\n",
       "      <td>17</td>\n",
       "      <td>1712</td>\n",
       "      <td>Antawn Jamison</td>\n",
       "      <td>1610612744</td>\n",
       "      <td>GSW</td>\n",
       "      <td>25.0</td>\n",
       "      <td>82</td>\n",
       "      <td>17</td>\n",
       "      <td>65</td>\n",
       "      <td>0.207</td>\n",
       "      <td>...</td>\n",
       "      <td>6.5</td>\n",
       "      <td>0.715</td>\n",
       "      <td>3.4</td>\n",
       "      <td>5.3</td>\n",
       "      <td>8.7</td>\n",
       "      <td>2.0</td>\n",
       "      <td>2.4</td>\n",
       "      <td>1.4</td>\n",
       "      <td>0.3</td>\n",
       "      <td>24.9</td>\n",
       "    </tr>\n",
       "    <tr>\n",
       "      <th>18</th>\n",
       "      <td>18</td>\n",
       "      <td>1853</td>\n",
       "      <td>Anthony Carter</td>\n",
       "      <td>1610612748</td>\n",
       "      <td>MIA</td>\n",
       "      <td>26.0</td>\n",
       "      <td>72</td>\n",
       "      <td>43</td>\n",
       "      <td>29</td>\n",
       "      <td>0.597</td>\n",
       "      <td>...</td>\n",
       "      <td>1.4</td>\n",
       "      <td>0.631</td>\n",
       "      <td>0.6</td>\n",
       "      <td>1.9</td>\n",
       "      <td>2.5</td>\n",
       "      <td>3.7</td>\n",
       "      <td>1.7</td>\n",
       "      <td>1.0</td>\n",
       "      <td>0.1</td>\n",
       "      <td>6.4</td>\n",
       "    </tr>\n",
       "    <tr>\n",
       "      <th>19</th>\n",
       "      <td>19</td>\n",
       "      <td>924</td>\n",
       "      <td>Anthony Goldwire</td>\n",
       "      <td>1610612743</td>\n",
       "      <td>DEN</td>\n",
       "      <td>29.0</td>\n",
       "      <td>20</td>\n",
       "      <td>8</td>\n",
       "      <td>12</td>\n",
       "      <td>0.400</td>\n",
       "      <td>...</td>\n",
       "      <td>0.9</td>\n",
       "      <td>0.765</td>\n",
       "      <td>0.1</td>\n",
       "      <td>0.6</td>\n",
       "      <td>0.6</td>\n",
       "      <td>1.7</td>\n",
       "      <td>0.8</td>\n",
       "      <td>0.5</td>\n",
       "      <td>0.0</td>\n",
       "      <td>4.1</td>\n",
       "    </tr>\n",
       "    <tr>\n",
       "      <th>20</th>\n",
       "      <td>20</td>\n",
       "      <td>1533</td>\n",
       "      <td>Anthony Johnson</td>\n",
       "      <td>1610612739</td>\n",
       "      <td>CLE</td>\n",
       "      <td>26.0</td>\n",
       "      <td>53</td>\n",
       "      <td>16</td>\n",
       "      <td>37</td>\n",
       "      <td>0.302</td>\n",
       "      <td>...</td>\n",
       "      <td>0.6</td>\n",
       "      <td>0.697</td>\n",
       "      <td>0.2</td>\n",
       "      <td>0.6</td>\n",
       "      <td>0.8</td>\n",
       "      <td>1.5</td>\n",
       "      <td>0.6</td>\n",
       "      <td>0.4</td>\n",
       "      <td>0.1</td>\n",
       "      <td>2.5</td>\n",
       "    </tr>\n",
       "    <tr>\n",
       "      <th>21</th>\n",
       "      <td>21</td>\n",
       "      <td>193</td>\n",
       "      <td>Anthony Mason</td>\n",
       "      <td>1610612748</td>\n",
       "      <td>MIA</td>\n",
       "      <td>34.0</td>\n",
       "      <td>80</td>\n",
       "      <td>49</td>\n",
       "      <td>31</td>\n",
       "      <td>0.613</td>\n",
       "      <td>...</td>\n",
       "      <td>5.9</td>\n",
       "      <td>0.781</td>\n",
       "      <td>2.1</td>\n",
       "      <td>7.5</td>\n",
       "      <td>9.6</td>\n",
       "      <td>3.1</td>\n",
       "      <td>2.2</td>\n",
       "      <td>1.0</td>\n",
       "      <td>0.3</td>\n",
       "      <td>16.1</td>\n",
       "    </tr>\n",
       "    <tr>\n",
       "      <th>22</th>\n",
       "      <td>22</td>\n",
       "      <td>292</td>\n",
       "      <td>Anthony Miller</td>\n",
       "      <td>1610612755</td>\n",
       "      <td>PHI</td>\n",
       "      <td>29.0</td>\n",
       "      <td>4</td>\n",
       "      <td>1</td>\n",
       "      <td>3</td>\n",
       "      <td>0.250</td>\n",
       "      <td>...</td>\n",
       "      <td>0.0</td>\n",
       "      <td>0.000</td>\n",
       "      <td>0.0</td>\n",
       "      <td>0.5</td>\n",
       "      <td>0.5</td>\n",
       "      <td>0.0</td>\n",
       "      <td>0.3</td>\n",
       "      <td>0.0</td>\n",
       "      <td>0.0</td>\n",
       "      <td>0.5</td>\n",
       "    </tr>\n",
       "    <tr>\n",
       "      <th>23</th>\n",
       "      <td>23</td>\n",
       "      <td>324</td>\n",
       "      <td>Anthony Peeler</td>\n",
       "      <td>1610612750</td>\n",
       "      <td>MIN</td>\n",
       "      <td>31.0</td>\n",
       "      <td>75</td>\n",
       "      <td>42</td>\n",
       "      <td>33</td>\n",
       "      <td>0.560</td>\n",
       "      <td>...</td>\n",
       "      <td>1.2</td>\n",
       "      <td>0.862</td>\n",
       "      <td>0.6</td>\n",
       "      <td>2.0</td>\n",
       "      <td>2.6</td>\n",
       "      <td>2.6</td>\n",
       "      <td>1.4</td>\n",
       "      <td>1.2</td>\n",
       "      <td>0.2</td>\n",
       "      <td>10.5</td>\n",
       "    </tr>\n",
       "    <tr>\n",
       "      <th>24</th>\n",
       "      <td>24</td>\n",
       "      <td>952</td>\n",
       "      <td>Antoine Walker</td>\n",
       "      <td>1610612738</td>\n",
       "      <td>BOS</td>\n",
       "      <td>24.0</td>\n",
       "      <td>81</td>\n",
       "      <td>35</td>\n",
       "      <td>46</td>\n",
       "      <td>0.432</td>\n",
       "      <td>...</td>\n",
       "      <td>4.3</td>\n",
       "      <td>0.716</td>\n",
       "      <td>1.9</td>\n",
       "      <td>7.0</td>\n",
       "      <td>8.9</td>\n",
       "      <td>5.5</td>\n",
       "      <td>3.7</td>\n",
       "      <td>1.7</td>\n",
       "      <td>0.6</td>\n",
       "      <td>23.4</td>\n",
       "    </tr>\n",
       "    <tr>\n",
       "      <th>25</th>\n",
       "      <td>25</td>\n",
       "      <td>1498</td>\n",
       "      <td>Antonio Daniels</td>\n",
       "      <td>1610612759</td>\n",
       "      <td>SAS</td>\n",
       "      <td>26.0</td>\n",
       "      <td>79</td>\n",
       "      <td>55</td>\n",
       "      <td>24</td>\n",
       "      <td>0.696</td>\n",
       "      <td>...</td>\n",
       "      <td>2.0</td>\n",
       "      <td>0.776</td>\n",
       "      <td>0.3</td>\n",
       "      <td>1.7</td>\n",
       "      <td>2.1</td>\n",
       "      <td>3.8</td>\n",
       "      <td>1.4</td>\n",
       "      <td>0.8</td>\n",
       "      <td>0.2</td>\n",
       "      <td>9.4</td>\n",
       "    </tr>\n",
       "    <tr>\n",
       "      <th>26</th>\n",
       "      <td>26</td>\n",
       "      <td>213</td>\n",
       "      <td>Antonio Davis</td>\n",
       "      <td>1610612761</td>\n",
       "      <td>TOR</td>\n",
       "      <td>32.0</td>\n",
       "      <td>78</td>\n",
       "      <td>46</td>\n",
       "      <td>32</td>\n",
       "      <td>0.590</td>\n",
       "      <td>...</td>\n",
       "      <td>5.4</td>\n",
       "      <td>0.754</td>\n",
       "      <td>3.5</td>\n",
       "      <td>6.6</td>\n",
       "      <td>10.1</td>\n",
       "      <td>1.4</td>\n",
       "      <td>1.7</td>\n",
       "      <td>0.3</td>\n",
       "      <td>1.9</td>\n",
       "      <td>13.7</td>\n",
       "    </tr>\n",
       "    <tr>\n",
       "      <th>27</th>\n",
       "      <td>27</td>\n",
       "      <td>176</td>\n",
       "      <td>Antonio Harvey</td>\n",
       "      <td>1610612757</td>\n",
       "      <td>POR</td>\n",
       "      <td>30.0</td>\n",
       "      <td>12</td>\n",
       "      <td>6</td>\n",
       "      <td>6</td>\n",
       "      <td>0.500</td>\n",
       "      <td>...</td>\n",
       "      <td>0.5</td>\n",
       "      <td>0.833</td>\n",
       "      <td>0.4</td>\n",
       "      <td>0.8</td>\n",
       "      <td>1.2</td>\n",
       "      <td>0.3</td>\n",
       "      <td>0.3</td>\n",
       "      <td>0.1</td>\n",
       "      <td>0.5</td>\n",
       "      <td>2.6</td>\n",
       "    </tr>\n",
       "    <tr>\n",
       "      <th>28</th>\n",
       "      <td>28</td>\n",
       "      <td>686</td>\n",
       "      <td>Antonio McDyess</td>\n",
       "      <td>1610612743</td>\n",
       "      <td>DEN</td>\n",
       "      <td>26.0</td>\n",
       "      <td>70</td>\n",
       "      <td>34</td>\n",
       "      <td>36</td>\n",
       "      <td>0.486</td>\n",
       "      <td>...</td>\n",
       "      <td>6.2</td>\n",
       "      <td>0.700</td>\n",
       "      <td>3.4</td>\n",
       "      <td>8.6</td>\n",
       "      <td>12.1</td>\n",
       "      <td>2.1</td>\n",
       "      <td>2.3</td>\n",
       "      <td>0.6</td>\n",
       "      <td>1.5</td>\n",
       "      <td>20.8</td>\n",
       "    </tr>\n",
       "    <tr>\n",
       "      <th>29</th>\n",
       "      <td>29</td>\n",
       "      <td>1609</td>\n",
       "      <td>Art Long</td>\n",
       "      <td>1610612758</td>\n",
       "      <td>SAC</td>\n",
       "      <td>28.0</td>\n",
       "      <td>9</td>\n",
       "      <td>8</td>\n",
       "      <td>1</td>\n",
       "      <td>0.889</td>\n",
       "      <td>...</td>\n",
       "      <td>0.2</td>\n",
       "      <td>0.000</td>\n",
       "      <td>0.2</td>\n",
       "      <td>0.7</td>\n",
       "      <td>0.9</td>\n",
       "      <td>0.1</td>\n",
       "      <td>0.2</td>\n",
       "      <td>0.0</td>\n",
       "      <td>0.3</td>\n",
       "      <td>0.0</td>\n",
       "    </tr>\n",
       "    <tr>\n",
       "      <th>...</th>\n",
       "      <td>...</td>\n",
       "      <td>...</td>\n",
       "      <td>...</td>\n",
       "      <td>...</td>\n",
       "      <td>...</td>\n",
       "      <td>...</td>\n",
       "      <td>...</td>\n",
       "      <td>...</td>\n",
       "      <td>...</td>\n",
       "      <td>...</td>\n",
       "      <td>...</td>\n",
       "      <td>...</td>\n",
       "      <td>...</td>\n",
       "      <td>...</td>\n",
       "      <td>...</td>\n",
       "      <td>...</td>\n",
       "      <td>...</td>\n",
       "      <td>...</td>\n",
       "      <td>...</td>\n",
       "      <td>...</td>\n",
       "      <td>...</td>\n",
       "    </tr>\n",
       "    <tr>\n",
       "      <th>411</th>\n",
       "      <td>411</td>\n",
       "      <td>1503</td>\n",
       "      <td>Tracy McGrady</td>\n",
       "      <td>1610612753</td>\n",
       "      <td>ORL</td>\n",
       "      <td>22.0</td>\n",
       "      <td>77</td>\n",
       "      <td>39</td>\n",
       "      <td>38</td>\n",
       "      <td>0.506</td>\n",
       "      <td>...</td>\n",
       "      <td>7.6</td>\n",
       "      <td>0.733</td>\n",
       "      <td>2.5</td>\n",
       "      <td>5.0</td>\n",
       "      <td>7.5</td>\n",
       "      <td>4.6</td>\n",
       "      <td>2.6</td>\n",
       "      <td>1.5</td>\n",
       "      <td>1.5</td>\n",
       "      <td>26.8</td>\n",
       "    </tr>\n",
       "    <tr>\n",
       "      <th>412</th>\n",
       "      <td>412</td>\n",
       "      <td>145</td>\n",
       "      <td>Tracy Murray</td>\n",
       "      <td>1610612761</td>\n",
       "      <td>TOR</td>\n",
       "      <td>29.0</td>\n",
       "      <td>51</td>\n",
       "      <td>26</td>\n",
       "      <td>25</td>\n",
       "      <td>0.510</td>\n",
       "      <td>...</td>\n",
       "      <td>0.8</td>\n",
       "      <td>0.786</td>\n",
       "      <td>0.4</td>\n",
       "      <td>1.2</td>\n",
       "      <td>1.6</td>\n",
       "      <td>0.5</td>\n",
       "      <td>0.5</td>\n",
       "      <td>0.2</td>\n",
       "      <td>0.1</td>\n",
       "      <td>5.0</td>\n",
       "    </tr>\n",
       "    <tr>\n",
       "      <th>413</th>\n",
       "      <td>413</td>\n",
       "      <td>1892</td>\n",
       "      <td>Trajan Langdon</td>\n",
       "      <td>1610612739</td>\n",
       "      <td>CLE</td>\n",
       "      <td>25.0</td>\n",
       "      <td>65</td>\n",
       "      <td>21</td>\n",
       "      <td>44</td>\n",
       "      <td>0.323</td>\n",
       "      <td>...</td>\n",
       "      <td>1.2</td>\n",
       "      <td>0.895</td>\n",
       "      <td>0.2</td>\n",
       "      <td>1.2</td>\n",
       "      <td>1.4</td>\n",
       "      <td>1.2</td>\n",
       "      <td>0.8</td>\n",
       "      <td>0.6</td>\n",
       "      <td>0.1</td>\n",
       "      <td>6.0</td>\n",
       "    </tr>\n",
       "    <tr>\n",
       "      <th>414</th>\n",
       "      <td>414</td>\n",
       "      <td>696</td>\n",
       "      <td>Travis Best</td>\n",
       "      <td>1610612754</td>\n",
       "      <td>IND</td>\n",
       "      <td>28.0</td>\n",
       "      <td>77</td>\n",
       "      <td>38</td>\n",
       "      <td>39</td>\n",
       "      <td>0.494</td>\n",
       "      <td>...</td>\n",
       "      <td>2.9</td>\n",
       "      <td>0.827</td>\n",
       "      <td>0.5</td>\n",
       "      <td>2.4</td>\n",
       "      <td>2.9</td>\n",
       "      <td>6.1</td>\n",
       "      <td>1.6</td>\n",
       "      <td>1.4</td>\n",
       "      <td>0.1</td>\n",
       "      <td>11.9</td>\n",
       "    </tr>\n",
       "    <tr>\n",
       "      <th>415</th>\n",
       "      <td>415</td>\n",
       "      <td>969</td>\n",
       "      <td>Travis Knight</td>\n",
       "      <td>1610612752</td>\n",
       "      <td>NYK</td>\n",
       "      <td>26.0</td>\n",
       "      <td>45</td>\n",
       "      <td>29</td>\n",
       "      <td>16</td>\n",
       "      <td>0.644</td>\n",
       "      <td>...</td>\n",
       "      <td>0.4</td>\n",
       "      <td>0.500</td>\n",
       "      <td>0.4</td>\n",
       "      <td>0.8</td>\n",
       "      <td>1.2</td>\n",
       "      <td>0.1</td>\n",
       "      <td>0.2</td>\n",
       "      <td>0.1</td>\n",
       "      <td>0.2</td>\n",
       "      <td>0.6</td>\n",
       "    </tr>\n",
       "    <tr>\n",
       "      <th>416</th>\n",
       "      <td>416</td>\n",
       "      <td>1607</td>\n",
       "      <td>Troy Hudson</td>\n",
       "      <td>1610612753</td>\n",
       "      <td>ORL</td>\n",
       "      <td>25.0</td>\n",
       "      <td>75</td>\n",
       "      <td>38</td>\n",
       "      <td>37</td>\n",
       "      <td>0.507</td>\n",
       "      <td>...</td>\n",
       "      <td>1.4</td>\n",
       "      <td>0.817</td>\n",
       "      <td>0.5</td>\n",
       "      <td>0.9</td>\n",
       "      <td>1.4</td>\n",
       "      <td>2.2</td>\n",
       "      <td>1.2</td>\n",
       "      <td>0.5</td>\n",
       "      <td>0.0</td>\n",
       "      <td>4.8</td>\n",
       "    </tr>\n",
       "    <tr>\n",
       "      <th>417</th>\n",
       "      <td>417</td>\n",
       "      <td>895</td>\n",
       "      <td>Tyrone Corbin</td>\n",
       "      <td>1610612761</td>\n",
       "      <td>TOR</td>\n",
       "      <td>38.0</td>\n",
       "      <td>15</td>\n",
       "      <td>8</td>\n",
       "      <td>7</td>\n",
       "      <td>0.533</td>\n",
       "      <td>...</td>\n",
       "      <td>0.3</td>\n",
       "      <td>0.500</td>\n",
       "      <td>0.2</td>\n",
       "      <td>0.7</td>\n",
       "      <td>0.9</td>\n",
       "      <td>0.3</td>\n",
       "      <td>0.2</td>\n",
       "      <td>0.1</td>\n",
       "      <td>0.0</td>\n",
       "      <td>1.3</td>\n",
       "    </tr>\n",
       "    <tr>\n",
       "      <th>418</th>\n",
       "      <td>418</td>\n",
       "      <td>238</td>\n",
       "      <td>Tyrone Hill</td>\n",
       "      <td>1610612755</td>\n",
       "      <td>PHI</td>\n",
       "      <td>33.0</td>\n",
       "      <td>76</td>\n",
       "      <td>51</td>\n",
       "      <td>25</td>\n",
       "      <td>0.671</td>\n",
       "      <td>...</td>\n",
       "      <td>3.6</td>\n",
       "      <td>0.630</td>\n",
       "      <td>3.1</td>\n",
       "      <td>5.9</td>\n",
       "      <td>9.0</td>\n",
       "      <td>0.6</td>\n",
       "      <td>1.7</td>\n",
       "      <td>0.5</td>\n",
       "      <td>0.4</td>\n",
       "      <td>9.6</td>\n",
       "    </tr>\n",
       "    <tr>\n",
       "      <th>419</th>\n",
       "      <td>419</td>\n",
       "      <td>1838</td>\n",
       "      <td>Tyrone Nesby</td>\n",
       "      <td>1610612764</td>\n",
       "      <td>WAS</td>\n",
       "      <td>25.0</td>\n",
       "      <td>62</td>\n",
       "      <td>13</td>\n",
       "      <td>49</td>\n",
       "      <td>0.210</td>\n",
       "      <td>...</td>\n",
       "      <td>1.7</td>\n",
       "      <td>0.802</td>\n",
       "      <td>0.8</td>\n",
       "      <td>2.0</td>\n",
       "      <td>2.8</td>\n",
       "      <td>1.2</td>\n",
       "      <td>1.0</td>\n",
       "      <td>0.8</td>\n",
       "      <td>0.3</td>\n",
       "      <td>8.3</td>\n",
       "    </tr>\n",
       "    <tr>\n",
       "      <th>420</th>\n",
       "      <td>420</td>\n",
       "      <td>1731</td>\n",
       "      <td>Tyronn Lue</td>\n",
       "      <td>1610612747</td>\n",
       "      <td>LAL</td>\n",
       "      <td>24.0</td>\n",
       "      <td>38</td>\n",
       "      <td>25</td>\n",
       "      <td>13</td>\n",
       "      <td>0.658</td>\n",
       "      <td>...</td>\n",
       "      <td>0.6</td>\n",
       "      <td>0.792</td>\n",
       "      <td>0.1</td>\n",
       "      <td>0.7</td>\n",
       "      <td>0.8</td>\n",
       "      <td>1.2</td>\n",
       "      <td>0.7</td>\n",
       "      <td>0.5</td>\n",
       "      <td>0.0</td>\n",
       "      <td>3.4</td>\n",
       "    </tr>\n",
       "    <tr>\n",
       "      <th>421</th>\n",
       "      <td>421</td>\n",
       "      <td>721</td>\n",
       "      <td>Tyus Edney</td>\n",
       "      <td>1610612754</td>\n",
       "      <td>IND</td>\n",
       "      <td>28.0</td>\n",
       "      <td>24</td>\n",
       "      <td>16</td>\n",
       "      <td>8</td>\n",
       "      <td>0.667</td>\n",
       "      <td>...</td>\n",
       "      <td>1.6</td>\n",
       "      <td>0.897</td>\n",
       "      <td>0.2</td>\n",
       "      <td>0.8</td>\n",
       "      <td>1.0</td>\n",
       "      <td>2.3</td>\n",
       "      <td>1.0</td>\n",
       "      <td>0.7</td>\n",
       "      <td>0.0</td>\n",
       "      <td>4.4</td>\n",
       "    </tr>\n",
       "    <tr>\n",
       "      <th>422</th>\n",
       "      <td>422</td>\n",
       "      <td>137</td>\n",
       "      <td>Vernon Maxwell</td>\n",
       "      <td>1610612742</td>\n",
       "      <td>DAL</td>\n",
       "      <td>35.0</td>\n",
       "      <td>43</td>\n",
       "      <td>31</td>\n",
       "      <td>12</td>\n",
       "      <td>0.721</td>\n",
       "      <td>...</td>\n",
       "      <td>0.7</td>\n",
       "      <td>0.656</td>\n",
       "      <td>0.1</td>\n",
       "      <td>1.4</td>\n",
       "      <td>1.5</td>\n",
       "      <td>1.1</td>\n",
       "      <td>0.8</td>\n",
       "      <td>0.5</td>\n",
       "      <td>0.1</td>\n",
       "      <td>4.7</td>\n",
       "    </tr>\n",
       "    <tr>\n",
       "      <th>423</th>\n",
       "      <td>423</td>\n",
       "      <td>452</td>\n",
       "      <td>Vin Baker</td>\n",
       "      <td>1610612760</td>\n",
       "      <td>SEA</td>\n",
       "      <td>29.0</td>\n",
       "      <td>76</td>\n",
       "      <td>40</td>\n",
       "      <td>36</td>\n",
       "      <td>0.526</td>\n",
       "      <td>...</td>\n",
       "      <td>4.2</td>\n",
       "      <td>0.723</td>\n",
       "      <td>2.4</td>\n",
       "      <td>3.3</td>\n",
       "      <td>5.7</td>\n",
       "      <td>1.2</td>\n",
       "      <td>2.1</td>\n",
       "      <td>0.5</td>\n",
       "      <td>1.0</td>\n",
       "      <td>12.2</td>\n",
       "    </tr>\n",
       "    <tr>\n",
       "      <th>424</th>\n",
       "      <td>424</td>\n",
       "      <td>1713</td>\n",
       "      <td>Vince Carter</td>\n",
       "      <td>1610612761</td>\n",
       "      <td>TOR</td>\n",
       "      <td>24.0</td>\n",
       "      <td>75</td>\n",
       "      <td>45</td>\n",
       "      <td>30</td>\n",
       "      <td>0.600</td>\n",
       "      <td>...</td>\n",
       "      <td>6.7</td>\n",
       "      <td>0.765</td>\n",
       "      <td>2.3</td>\n",
       "      <td>3.2</td>\n",
       "      <td>5.5</td>\n",
       "      <td>3.9</td>\n",
       "      <td>2.2</td>\n",
       "      <td>1.5</td>\n",
       "      <td>1.1</td>\n",
       "      <td>27.6</td>\n",
       "    </tr>\n",
       "    <tr>\n",
       "      <th>425</th>\n",
       "      <td>425</td>\n",
       "      <td>219</td>\n",
       "      <td>Vinny Del Negro</td>\n",
       "      <td>1610612756</td>\n",
       "      <td>PHX</td>\n",
       "      <td>34.0</td>\n",
       "      <td>65</td>\n",
       "      <td>28</td>\n",
       "      <td>37</td>\n",
       "      <td>0.431</td>\n",
       "      <td>...</td>\n",
       "      <td>0.7</td>\n",
       "      <td>0.932</td>\n",
       "      <td>0.2</td>\n",
       "      <td>1.1</td>\n",
       "      <td>1.3</td>\n",
       "      <td>1.9</td>\n",
       "      <td>0.5</td>\n",
       "      <td>0.4</td>\n",
       "      <td>0.0</td>\n",
       "      <td>3.9</td>\n",
       "    </tr>\n",
       "    <tr>\n",
       "      <th>426</th>\n",
       "      <td>426</td>\n",
       "      <td>958</td>\n",
       "      <td>Vitaly Potapenko</td>\n",
       "      <td>1610612738</td>\n",
       "      <td>BOS</td>\n",
       "      <td>26.0</td>\n",
       "      <td>82</td>\n",
       "      <td>36</td>\n",
       "      <td>46</td>\n",
       "      <td>0.439</td>\n",
       "      <td>...</td>\n",
       "      <td>1.9</td>\n",
       "      <td>0.728</td>\n",
       "      <td>2.5</td>\n",
       "      <td>3.5</td>\n",
       "      <td>6.0</td>\n",
       "      <td>0.8</td>\n",
       "      <td>1.3</td>\n",
       "      <td>0.6</td>\n",
       "      <td>0.3</td>\n",
       "      <td>7.5</td>\n",
       "    </tr>\n",
       "    <tr>\n",
       "      <th>427</th>\n",
       "      <td>427</td>\n",
       "      <td>124</td>\n",
       "      <td>Vlade Divac</td>\n",
       "      <td>1610612758</td>\n",
       "      <td>SAC</td>\n",
       "      <td>33.0</td>\n",
       "      <td>81</td>\n",
       "      <td>55</td>\n",
       "      <td>26</td>\n",
       "      <td>0.679</td>\n",
       "      <td>...</td>\n",
       "      <td>4.3</td>\n",
       "      <td>0.691</td>\n",
       "      <td>2.6</td>\n",
       "      <td>5.8</td>\n",
       "      <td>8.3</td>\n",
       "      <td>2.9</td>\n",
       "      <td>2.4</td>\n",
       "      <td>1.1</td>\n",
       "      <td>1.1</td>\n",
       "      <td>12.0</td>\n",
       "    </tr>\n",
       "    <tr>\n",
       "      <th>428</th>\n",
       "      <td>428</td>\n",
       "      <td>1735</td>\n",
       "      <td>Vladimir Stepania</td>\n",
       "      <td>1610612751</td>\n",
       "      <td>NJN</td>\n",
       "      <td>25.0</td>\n",
       "      <td>29</td>\n",
       "      <td>6</td>\n",
       "      <td>23</td>\n",
       "      <td>0.207</td>\n",
       "      <td>...</td>\n",
       "      <td>1.2</td>\n",
       "      <td>0.735</td>\n",
       "      <td>1.2</td>\n",
       "      <td>2.6</td>\n",
       "      <td>3.8</td>\n",
       "      <td>0.6</td>\n",
       "      <td>0.7</td>\n",
       "      <td>0.3</td>\n",
       "      <td>0.4</td>\n",
       "      <td>2.8</td>\n",
       "    </tr>\n",
       "    <tr>\n",
       "      <th>429</th>\n",
       "      <td>429</td>\n",
       "      <td>1907</td>\n",
       "      <td>Vonteego Cummings</td>\n",
       "      <td>1610612744</td>\n",
       "      <td>GSW</td>\n",
       "      <td>25.0</td>\n",
       "      <td>66</td>\n",
       "      <td>13</td>\n",
       "      <td>53</td>\n",
       "      <td>0.197</td>\n",
       "      <td>...</td>\n",
       "      <td>1.8</td>\n",
       "      <td>0.681</td>\n",
       "      <td>0.7</td>\n",
       "      <td>1.4</td>\n",
       "      <td>2.1</td>\n",
       "      <td>3.4</td>\n",
       "      <td>1.4</td>\n",
       "      <td>1.0</td>\n",
       "      <td>0.2</td>\n",
       "      <td>7.3</td>\n",
       "    </tr>\n",
       "    <tr>\n",
       "      <th>430</th>\n",
       "      <td>430</td>\n",
       "      <td>702</td>\n",
       "      <td>Voshon Lenard</td>\n",
       "      <td>1610612743</td>\n",
       "      <td>DEN</td>\n",
       "      <td>28.0</td>\n",
       "      <td>80</td>\n",
       "      <td>40</td>\n",
       "      <td>40</td>\n",
       "      <td>0.500</td>\n",
       "      <td>...</td>\n",
       "      <td>2.4</td>\n",
       "      <td>0.797</td>\n",
       "      <td>0.6</td>\n",
       "      <td>2.3</td>\n",
       "      <td>2.9</td>\n",
       "      <td>2.4</td>\n",
       "      <td>1.3</td>\n",
       "      <td>0.8</td>\n",
       "      <td>0.2</td>\n",
       "      <td>12.2</td>\n",
       "    </tr>\n",
       "    <tr>\n",
       "      <th>431</th>\n",
       "      <td>431</td>\n",
       "      <td>1887</td>\n",
       "      <td>Wally Szczerbiak</td>\n",
       "      <td>1610612750</td>\n",
       "      <td>MIN</td>\n",
       "      <td>24.0</td>\n",
       "      <td>82</td>\n",
       "      <td>47</td>\n",
       "      <td>35</td>\n",
       "      <td>0.573</td>\n",
       "      <td>...</td>\n",
       "      <td>2.5</td>\n",
       "      <td>0.870</td>\n",
       "      <td>1.6</td>\n",
       "      <td>3.8</td>\n",
       "      <td>5.5</td>\n",
       "      <td>3.2</td>\n",
       "      <td>1.7</td>\n",
       "      <td>0.7</td>\n",
       "      <td>0.4</td>\n",
       "      <td>14.0</td>\n",
       "    </tr>\n",
       "    <tr>\n",
       "      <th>432</th>\n",
       "      <td>432</td>\n",
       "      <td>1005</td>\n",
       "      <td>Walt Williams</td>\n",
       "      <td>1610612745</td>\n",
       "      <td>HOU</td>\n",
       "      <td>31.0</td>\n",
       "      <td>72</td>\n",
       "      <td>39</td>\n",
       "      <td>33</td>\n",
       "      <td>0.542</td>\n",
       "      <td>...</td>\n",
       "      <td>1.8</td>\n",
       "      <td>0.770</td>\n",
       "      <td>0.4</td>\n",
       "      <td>3.0</td>\n",
       "      <td>3.4</td>\n",
       "      <td>1.3</td>\n",
       "      <td>1.0</td>\n",
       "      <td>0.4</td>\n",
       "      <td>0.4</td>\n",
       "      <td>8.3</td>\n",
       "    </tr>\n",
       "    <tr>\n",
       "      <th>433</th>\n",
       "      <td>433</td>\n",
       "      <td>962</td>\n",
       "      <td>Walter McCarty</td>\n",
       "      <td>1610612738</td>\n",
       "      <td>BOS</td>\n",
       "      <td>27.0</td>\n",
       "      <td>60</td>\n",
       "      <td>25</td>\n",
       "      <td>35</td>\n",
       "      <td>0.417</td>\n",
       "      <td>...</td>\n",
       "      <td>0.5</td>\n",
       "      <td>0.786</td>\n",
       "      <td>0.4</td>\n",
       "      <td>1.0</td>\n",
       "      <td>1.4</td>\n",
       "      <td>0.7</td>\n",
       "      <td>0.3</td>\n",
       "      <td>0.2</td>\n",
       "      <td>0.1</td>\n",
       "      <td>2.2</td>\n",
       "    </tr>\n",
       "    <tr>\n",
       "      <th>434</th>\n",
       "      <td>434</td>\n",
       "      <td>1917</td>\n",
       "      <td>Wang Zhi-zhi</td>\n",
       "      <td>1610612742</td>\n",
       "      <td>DAL</td>\n",
       "      <td>23.0</td>\n",
       "      <td>5</td>\n",
       "      <td>3</td>\n",
       "      <td>2</td>\n",
       "      <td>0.600</td>\n",
       "      <td>...</td>\n",
       "      <td>2.0</td>\n",
       "      <td>0.800</td>\n",
       "      <td>0.2</td>\n",
       "      <td>1.2</td>\n",
       "      <td>1.4</td>\n",
       "      <td>0.0</td>\n",
       "      <td>0.2</td>\n",
       "      <td>0.0</td>\n",
       "      <td>0.0</td>\n",
       "      <td>4.8</td>\n",
       "    </tr>\n",
       "    <tr>\n",
       "      <th>435</th>\n",
       "      <td>435</td>\n",
       "      <td>445</td>\n",
       "      <td>Wesley Person</td>\n",
       "      <td>1610612739</td>\n",
       "      <td>CLE</td>\n",
       "      <td>30.0</td>\n",
       "      <td>44</td>\n",
       "      <td>17</td>\n",
       "      <td>27</td>\n",
       "      <td>0.386</td>\n",
       "      <td>...</td>\n",
       "      <td>0.7</td>\n",
       "      <td>0.800</td>\n",
       "      <td>0.3</td>\n",
       "      <td>2.7</td>\n",
       "      <td>3.0</td>\n",
       "      <td>1.5</td>\n",
       "      <td>0.9</td>\n",
       "      <td>0.6</td>\n",
       "      <td>0.3</td>\n",
       "      <td>7.1</td>\n",
       "    </tr>\n",
       "    <tr>\n",
       "      <th>436</th>\n",
       "      <td>436</td>\n",
       "      <td>781</td>\n",
       "      <td>Will Perdue</td>\n",
       "      <td>1610612757</td>\n",
       "      <td>POR</td>\n",
       "      <td>35.0</td>\n",
       "      <td>13</td>\n",
       "      <td>10</td>\n",
       "      <td>3</td>\n",
       "      <td>0.769</td>\n",
       "      <td>...</td>\n",
       "      <td>0.3</td>\n",
       "      <td>0.500</td>\n",
       "      <td>0.5</td>\n",
       "      <td>0.9</td>\n",
       "      <td>1.4</td>\n",
       "      <td>0.2</td>\n",
       "      <td>0.0</td>\n",
       "      <td>0.2</td>\n",
       "      <td>0.2</td>\n",
       "      <td>1.1</td>\n",
       "    </tr>\n",
       "    <tr>\n",
       "      <th>437</th>\n",
       "      <td>437</td>\n",
       "      <td>1895</td>\n",
       "      <td>William Avery</td>\n",
       "      <td>1610612750</td>\n",
       "      <td>MIN</td>\n",
       "      <td>21.0</td>\n",
       "      <td>55</td>\n",
       "      <td>32</td>\n",
       "      <td>23</td>\n",
       "      <td>0.582</td>\n",
       "      <td>...</td>\n",
       "      <td>0.7</td>\n",
       "      <td>0.778</td>\n",
       "      <td>0.1</td>\n",
       "      <td>0.4</td>\n",
       "      <td>0.5</td>\n",
       "      <td>1.4</td>\n",
       "      <td>0.8</td>\n",
       "      <td>0.2</td>\n",
       "      <td>0.1</td>\n",
       "      <td>2.8</td>\n",
       "    </tr>\n",
       "    <tr>\n",
       "      <th>438</th>\n",
       "      <td>438</td>\n",
       "      <td>440</td>\n",
       "      <td>Zan Tabak</td>\n",
       "      <td>1610612754</td>\n",
       "      <td>IND</td>\n",
       "      <td>31.0</td>\n",
       "      <td>55</td>\n",
       "      <td>29</td>\n",
       "      <td>26</td>\n",
       "      <td>0.527</td>\n",
       "      <td>...</td>\n",
       "      <td>0.9</td>\n",
       "      <td>0.426</td>\n",
       "      <td>1.2</td>\n",
       "      <td>2.7</td>\n",
       "      <td>3.9</td>\n",
       "      <td>0.6</td>\n",
       "      <td>1.0</td>\n",
       "      <td>0.2</td>\n",
       "      <td>0.5</td>\n",
       "      <td>3.9</td>\n",
       "    </tr>\n",
       "    <tr>\n",
       "      <th>439</th>\n",
       "      <td>439</td>\n",
       "      <td>1985</td>\n",
       "      <td>Zendon Hamilton</td>\n",
       "      <td>1610612746</td>\n",
       "      <td>LAC</td>\n",
       "      <td>26.0</td>\n",
       "      <td>3</td>\n",
       "      <td>1</td>\n",
       "      <td>2</td>\n",
       "      <td>0.333</td>\n",
       "      <td>...</td>\n",
       "      <td>2.7</td>\n",
       "      <td>0.625</td>\n",
       "      <td>1.0</td>\n",
       "      <td>1.7</td>\n",
       "      <td>2.7</td>\n",
       "      <td>0.0</td>\n",
       "      <td>0.7</td>\n",
       "      <td>0.0</td>\n",
       "      <td>0.0</td>\n",
       "      <td>3.0</td>\n",
       "    </tr>\n",
       "    <tr>\n",
       "      <th>440</th>\n",
       "      <td>440</td>\n",
       "      <td>980</td>\n",
       "      <td>Zydrunas Ilgauskas</td>\n",
       "      <td>1610612739</td>\n",
       "      <td>CLE</td>\n",
       "      <td>26.0</td>\n",
       "      <td>24</td>\n",
       "      <td>15</td>\n",
       "      <td>9</td>\n",
       "      <td>0.625</td>\n",
       "      <td>...</td>\n",
       "      <td>3.3</td>\n",
       "      <td>0.679</td>\n",
       "      <td>2.7</td>\n",
       "      <td>4.0</td>\n",
       "      <td>6.7</td>\n",
       "      <td>0.8</td>\n",
       "      <td>2.5</td>\n",
       "      <td>0.6</td>\n",
       "      <td>1.5</td>\n",
       "      <td>11.7</td>\n",
       "    </tr>\n",
       "  </tbody>\n",
       "</table>\n",
       "<p>441 rows × 28 columns</p>\n",
       "</div>"
      ],
      "text/plain": [
       "     Unnamed: 0  PLAYER_ID         PLAYER_NAME     TEAM_ID TEAM_ABBREVIATION  \\\n",
       "0             0        920          A.C. Green  1610612748               MIA   \n",
       "1             1       2062         A.J. Guyton  1610612741               CHI   \n",
       "2             2        243         Aaron McKie  1610612755               PHI   \n",
       "3             3       1425      Aaron Williams  1610612751               NJN   \n",
       "4             4        228          Adam Keefe  1610612744               GSW   \n",
       "5             5       1502        Adonal Foyle  1610612744               GSW   \n",
       "6             6       1559      Adrian Griffin  1610612738               BOS   \n",
       "7             7       1733       Al Harrington  1610612754               IND   \n",
       "8             8        673      Alan Henderson  1610612737               ATL   \n",
       "9             9        275       Allan Houston  1610612752               NYK   \n",
       "10           10        947       Allen Iverson  1610612755               PHI   \n",
       "11           11        297     Alonzo Mourning  1610612748               MIA   \n",
       "12           12       1541      Alvin Williams  1610612761               TOR   \n",
       "13           13       1889        Andre Miller  1610612739               CLE   \n",
       "14           14        692     Andrew DeClercq  1610612753               ORL   \n",
       "15           15       1950          Andy Panko  1610612737               ATL   \n",
       "16           16        358   Anfernee Hardaway  1610612756               PHX   \n",
       "17           17       1712      Antawn Jamison  1610612744               GSW   \n",
       "18           18       1853      Anthony Carter  1610612748               MIA   \n",
       "19           19        924    Anthony Goldwire  1610612743               DEN   \n",
       "20           20       1533     Anthony Johnson  1610612739               CLE   \n",
       "21           21        193       Anthony Mason  1610612748               MIA   \n",
       "22           22        292      Anthony Miller  1610612755               PHI   \n",
       "23           23        324      Anthony Peeler  1610612750               MIN   \n",
       "24           24        952      Antoine Walker  1610612738               BOS   \n",
       "25           25       1498     Antonio Daniels  1610612759               SAS   \n",
       "26           26        213       Antonio Davis  1610612761               TOR   \n",
       "27           27        176      Antonio Harvey  1610612757               POR   \n",
       "28           28        686     Antonio McDyess  1610612743               DEN   \n",
       "29           29       1609            Art Long  1610612758               SAC   \n",
       "..          ...        ...                 ...         ...               ...   \n",
       "411         411       1503       Tracy McGrady  1610612753               ORL   \n",
       "412         412        145        Tracy Murray  1610612761               TOR   \n",
       "413         413       1892      Trajan Langdon  1610612739               CLE   \n",
       "414         414        696         Travis Best  1610612754               IND   \n",
       "415         415        969       Travis Knight  1610612752               NYK   \n",
       "416         416       1607         Troy Hudson  1610612753               ORL   \n",
       "417         417        895       Tyrone Corbin  1610612761               TOR   \n",
       "418         418        238         Tyrone Hill  1610612755               PHI   \n",
       "419         419       1838        Tyrone Nesby  1610612764               WAS   \n",
       "420         420       1731          Tyronn Lue  1610612747               LAL   \n",
       "421         421        721          Tyus Edney  1610612754               IND   \n",
       "422         422        137      Vernon Maxwell  1610612742               DAL   \n",
       "423         423        452           Vin Baker  1610612760               SEA   \n",
       "424         424       1713        Vince Carter  1610612761               TOR   \n",
       "425         425        219     Vinny Del Negro  1610612756               PHX   \n",
       "426         426        958    Vitaly Potapenko  1610612738               BOS   \n",
       "427         427        124         Vlade Divac  1610612758               SAC   \n",
       "428         428       1735   Vladimir Stepania  1610612751               NJN   \n",
       "429         429       1907   Vonteego Cummings  1610612744               GSW   \n",
       "430         430        702       Voshon Lenard  1610612743               DEN   \n",
       "431         431       1887    Wally Szczerbiak  1610612750               MIN   \n",
       "432         432       1005       Walt Williams  1610612745               HOU   \n",
       "433         433        962      Walter McCarty  1610612738               BOS   \n",
       "434         434       1917        Wang Zhi-zhi  1610612742               DAL   \n",
       "435         435        445       Wesley Person  1610612739               CLE   \n",
       "436         436        781         Will Perdue  1610612757               POR   \n",
       "437         437       1895       William Avery  1610612750               MIN   \n",
       "438         438        440           Zan Tabak  1610612754               IND   \n",
       "439         439       1985     Zendon Hamilton  1610612746               LAC   \n",
       "440         440        980  Zydrunas Ilgauskas  1610612739               CLE   \n",
       "\n",
       "      AGE  GP   W   L  W_PCT  ...    FTA  FT_PCT  OREB  DREB   REB  AST  TOV  \\\n",
       "0    37.0  82  50  32  0.610  ...    1.4   0.712   1.3   2.5   3.8  0.5  0.5   \n",
       "1    23.0  33   6  27  0.182  ...    0.5   0.833   0.3   0.8   1.1  1.9  0.7   \n",
       "2    28.0  76  51  25  0.671  ...    2.6   0.768   0.4   3.7   4.1  5.0  2.7   \n",
       "3    29.0  82  26  56  0.317  ...    3.8   0.787   2.6   4.6   7.2  1.1  1.6   \n",
       "4    31.0  67  14  53  0.209  ...    0.9   0.619   1.3   1.8   3.1  0.5  0.6   \n",
       "5    26.0  58   8  50  0.138  ...    1.2   0.441   2.7   4.3   7.0  0.8  1.4   \n",
       "6    26.0  44  16  28  0.364  ...    0.5   0.750   0.6   1.4   2.0  0.6  0.4   \n",
       "7    21.0  78  39  39  0.500  ...    2.0   0.656   1.5   3.4   4.9  1.7  1.9   \n",
       "8    28.0  73  20  53  0.274  ...    3.7   0.638   2.5   3.1   5.6  0.7  1.7   \n",
       "9    30.0  78  45  33  0.577  ...    3.9   0.909   0.3   3.4   3.6  2.2  2.1   \n",
       "10   26.0  71  50  21  0.704  ...   10.1   0.814   0.7   3.1   3.8  4.6  3.3   \n",
       "11   31.0  13   8   5  0.615  ...    4.2   0.564   2.7   5.1   7.8  0.9  2.2   \n",
       "12   26.0  82  47  35  0.573  ...    1.8   0.752   0.6   2.0   2.6  5.0  1.3   \n",
       "13   25.0  82  30  52  0.366  ...    5.5   0.833   1.1   3.2   4.4  8.0  3.2   \n",
       "14   28.0  67  37  30  0.552  ...    1.2   0.573   1.4   2.2   3.5  0.5  0.8   \n",
       "15   23.0   1   1   0  1.000  ...    0.0   0.000   0.0   0.0   0.0  0.0  0.0   \n",
       "16   29.0   4   2   2  0.500  ...    2.8   0.636   1.3   3.3   4.5  3.8  0.8   \n",
       "17   25.0  82  17  65  0.207  ...    6.5   0.715   3.4   5.3   8.7  2.0  2.4   \n",
       "18   26.0  72  43  29  0.597  ...    1.4   0.631   0.6   1.9   2.5  3.7  1.7   \n",
       "19   29.0  20   8  12  0.400  ...    0.9   0.765   0.1   0.6   0.6  1.7  0.8   \n",
       "20   26.0  53  16  37  0.302  ...    0.6   0.697   0.2   0.6   0.8  1.5  0.6   \n",
       "21   34.0  80  49  31  0.613  ...    5.9   0.781   2.1   7.5   9.6  3.1  2.2   \n",
       "22   29.0   4   1   3  0.250  ...    0.0   0.000   0.0   0.5   0.5  0.0  0.3   \n",
       "23   31.0  75  42  33  0.560  ...    1.2   0.862   0.6   2.0   2.6  2.6  1.4   \n",
       "24   24.0  81  35  46  0.432  ...    4.3   0.716   1.9   7.0   8.9  5.5  3.7   \n",
       "25   26.0  79  55  24  0.696  ...    2.0   0.776   0.3   1.7   2.1  3.8  1.4   \n",
       "26   32.0  78  46  32  0.590  ...    5.4   0.754   3.5   6.6  10.1  1.4  1.7   \n",
       "27   30.0  12   6   6  0.500  ...    0.5   0.833   0.4   0.8   1.2  0.3  0.3   \n",
       "28   26.0  70  34  36  0.486  ...    6.2   0.700   3.4   8.6  12.1  2.1  2.3   \n",
       "29   28.0   9   8   1  0.889  ...    0.2   0.000   0.2   0.7   0.9  0.1  0.2   \n",
       "..    ...  ..  ..  ..    ...  ...    ...     ...   ...   ...   ...  ...  ...   \n",
       "411  22.0  77  39  38  0.506  ...    7.6   0.733   2.5   5.0   7.5  4.6  2.6   \n",
       "412  29.0  51  26  25  0.510  ...    0.8   0.786   0.4   1.2   1.6  0.5  0.5   \n",
       "413  25.0  65  21  44  0.323  ...    1.2   0.895   0.2   1.2   1.4  1.2  0.8   \n",
       "414  28.0  77  38  39  0.494  ...    2.9   0.827   0.5   2.4   2.9  6.1  1.6   \n",
       "415  26.0  45  29  16  0.644  ...    0.4   0.500   0.4   0.8   1.2  0.1  0.2   \n",
       "416  25.0  75  38  37  0.507  ...    1.4   0.817   0.5   0.9   1.4  2.2  1.2   \n",
       "417  38.0  15   8   7  0.533  ...    0.3   0.500   0.2   0.7   0.9  0.3  0.2   \n",
       "418  33.0  76  51  25  0.671  ...    3.6   0.630   3.1   5.9   9.0  0.6  1.7   \n",
       "419  25.0  62  13  49  0.210  ...    1.7   0.802   0.8   2.0   2.8  1.2  1.0   \n",
       "420  24.0  38  25  13  0.658  ...    0.6   0.792   0.1   0.7   0.8  1.2  0.7   \n",
       "421  28.0  24  16   8  0.667  ...    1.6   0.897   0.2   0.8   1.0  2.3  1.0   \n",
       "422  35.0  43  31  12  0.721  ...    0.7   0.656   0.1   1.4   1.5  1.1  0.8   \n",
       "423  29.0  76  40  36  0.526  ...    4.2   0.723   2.4   3.3   5.7  1.2  2.1   \n",
       "424  24.0  75  45  30  0.600  ...    6.7   0.765   2.3   3.2   5.5  3.9  2.2   \n",
       "425  34.0  65  28  37  0.431  ...    0.7   0.932   0.2   1.1   1.3  1.9  0.5   \n",
       "426  26.0  82  36  46  0.439  ...    1.9   0.728   2.5   3.5   6.0  0.8  1.3   \n",
       "427  33.0  81  55  26  0.679  ...    4.3   0.691   2.6   5.8   8.3  2.9  2.4   \n",
       "428  25.0  29   6  23  0.207  ...    1.2   0.735   1.2   2.6   3.8  0.6  0.7   \n",
       "429  25.0  66  13  53  0.197  ...    1.8   0.681   0.7   1.4   2.1  3.4  1.4   \n",
       "430  28.0  80  40  40  0.500  ...    2.4   0.797   0.6   2.3   2.9  2.4  1.3   \n",
       "431  24.0  82  47  35  0.573  ...    2.5   0.870   1.6   3.8   5.5  3.2  1.7   \n",
       "432  31.0  72  39  33  0.542  ...    1.8   0.770   0.4   3.0   3.4  1.3  1.0   \n",
       "433  27.0  60  25  35  0.417  ...    0.5   0.786   0.4   1.0   1.4  0.7  0.3   \n",
       "434  23.0   5   3   2  0.600  ...    2.0   0.800   0.2   1.2   1.4  0.0  0.2   \n",
       "435  30.0  44  17  27  0.386  ...    0.7   0.800   0.3   2.7   3.0  1.5  0.9   \n",
       "436  35.0  13  10   3  0.769  ...    0.3   0.500   0.5   0.9   1.4  0.2  0.0   \n",
       "437  21.0  55  32  23  0.582  ...    0.7   0.778   0.1   0.4   0.5  1.4  0.8   \n",
       "438  31.0  55  29  26  0.527  ...    0.9   0.426   1.2   2.7   3.9  0.6  1.0   \n",
       "439  26.0   3   1   2  0.333  ...    2.7   0.625   1.0   1.7   2.7  0.0  0.7   \n",
       "440  26.0  24  15   9  0.625  ...    3.3   0.679   2.7   4.0   6.7  0.8  2.5   \n",
       "\n",
       "     STL  BLK   PTS  \n",
       "0    0.4  0.1   4.5  \n",
       "1    0.3  0.2   6.0  \n",
       "2    1.4  0.1  11.6  \n",
       "3    0.7  1.4  10.2  \n",
       "4    0.4  0.3   2.5  \n",
       "5    0.5  2.7   5.9  \n",
       "6    0.4  0.1   2.1  \n",
       "7    0.8  0.2   7.5  \n",
       "8    0.7  0.4  10.5  \n",
       "9    0.7  0.1  18.7  \n",
       "10   2.5  0.3  31.1  \n",
       "11   0.3  2.4  13.6  \n",
       "12   1.5  0.3   9.8  \n",
       "13   1.5  0.3  15.8  \n",
       "14   0.6  0.5   3.9  \n",
       "15   0.0  0.0   0.0  \n",
       "16   1.5  0.3   9.8  \n",
       "17   1.4  0.3  24.9  \n",
       "18   1.0  0.1   6.4  \n",
       "19   0.5  0.0   4.1  \n",
       "20   0.4  0.1   2.5  \n",
       "21   1.0  0.3  16.1  \n",
       "22   0.0  0.0   0.5  \n",
       "23   1.2  0.2  10.5  \n",
       "24   1.7  0.6  23.4  \n",
       "25   0.8  0.2   9.4  \n",
       "26   0.3  1.9  13.7  \n",
       "27   0.1  0.5   2.6  \n",
       "28   0.6  1.5  20.8  \n",
       "29   0.0  0.3   0.0  \n",
       "..   ...  ...   ...  \n",
       "411  1.5  1.5  26.8  \n",
       "412  0.2  0.1   5.0  \n",
       "413  0.6  0.1   6.0  \n",
       "414  1.4  0.1  11.9  \n",
       "415  0.1  0.2   0.6  \n",
       "416  0.5  0.0   4.8  \n",
       "417  0.1  0.0   1.3  \n",
       "418  0.5  0.4   9.6  \n",
       "419  0.8  0.3   8.3  \n",
       "420  0.5  0.0   3.4  \n",
       "421  0.7  0.0   4.4  \n",
       "422  0.5  0.1   4.7  \n",
       "423  0.5  1.0  12.2  \n",
       "424  1.5  1.1  27.6  \n",
       "425  0.4  0.0   3.9  \n",
       "426  0.6  0.3   7.5  \n",
       "427  1.1  1.1  12.0  \n",
       "428  0.3  0.4   2.8  \n",
       "429  1.0  0.2   7.3  \n",
       "430  0.8  0.2  12.2  \n",
       "431  0.7  0.4  14.0  \n",
       "432  0.4  0.4   8.3  \n",
       "433  0.2  0.1   2.2  \n",
       "434  0.0  0.0   4.8  \n",
       "435  0.6  0.3   7.1  \n",
       "436  0.2  0.2   1.1  \n",
       "437  0.2  0.1   2.8  \n",
       "438  0.2  0.5   3.9  \n",
       "439  0.0  0.0   3.0  \n",
       "440  0.6  1.5  11.7  \n",
       "\n",
       "[441 rows x 28 columns]"
      ]
     },
     "execution_count": 3,
     "metadata": {},
     "output_type": "execute_result"
    }
   ],
   "source": [
    "df_2000"
   ]
  },
  {
   "cell_type": "code",
   "execution_count": 4,
   "metadata": {},
   "outputs": [
    {
     "data": {
      "text/plain": [
       "<matplotlib.axes._subplots.AxesSubplot at 0x111b562e8>"
      ]
     },
     "execution_count": 4,
     "metadata": {},
     "output_type": "execute_result"
    },
    {
     "data": {
      "image/png": "[encoded data removed]",
      "text/plain": [
       "<matplotlib.figure.Figure at 0x111b56c88>"
      ]
     },
     "metadata": {},
     "output_type": "display_data"
    }
   ],
   "source": [
    "df_2000['PTS'].plot.hist(bins=40)"
   ]
  },
  {
   "cell_type": "code",
   "execution_count": 5,
   "metadata": {},
   "outputs": [
    {
     "data": {
      "text/plain": [
       "Index(['PLAYER_ID', 'PLAYER_NAME', 'TEAM_ID', 'TEAM_ABBREVIATION', 'AGE', 'GP',\n",
       "       'W', 'L', 'W_PCT', 'MIN', 'FGM', 'FGA', 'FG_PCT', 'FG3M', 'FG3A',\n",
       "       'FG3_PCT', 'FTM', 'FTA', 'FT_PCT', 'OREB', 'DREB', 'REB', 'AST', 'TOV',\n",
       "       'STL', 'BLK', 'PTS'],\n",
       "      dtype='object')"
      ]
     },
     "execution_count": 5,
     "metadata": {},
     "output_type": "execute_result"
    }
   ],
   "source": [
    "df_2000.columns[1:]\n",
    "#pts_2016 = df_2016.as_matrix(columns=df_2016.columns[27:])\n",
    "#x = pts_2016 #The array needs to be larger than 20, just an example\n",
    "#mx = ma.masked_array(x)\n",
    "#z,pval = mstats.normaltest(mx)\n",
    "\n",
    "#if(pval < 0.055):\n",
    "#   print(\"Not normal distribution\")"
   ]
  },
  {
   "cell_type": "code",
   "execution_count": 6,
   "metadata": {},
   "outputs": [
    {
     "name": "stdout",
     "output_type": "stream",
     "text": [
      "97.4043721338 7.06170115282e-22\n",
      "PTS Is Normal Dist\n"
     ]
    }
   ],
   "source": [
    "z,pval = mstats.normaltest(df_2000['PTS'])\n",
    "print(z, pval)\n",
    "if(pval < 0.001):\n",
    "    print('PTS Is Normal Dist')\n",
    "else:\n",
    "    print('PTS Is not Normal Dist')"
   ]
  },
  {
   "cell_type": "code",
   "execution_count": 7,
   "metadata": {},
   "outputs": [
    {
     "data": {
      "text/plain": [
       "<matplotlib.axes._subplots.AxesSubplot at 0x10c614208>"
      ]
     },
     "execution_count": 7,
     "metadata": {},
     "output_type": "execute_result"
    },
    {
     "data": {
      "image/png": "[encoded data removed]",
      "text/plain": [
       "<matplotlib.figure.Figure at 0x111bee780>"
      ]
     },
     "metadata": {},
     "output_type": "display_data"
    }
   ],
   "source": [
    "df_2000['BLK'].plot.hist(bins=10)"
   ]
  },
  {
   "cell_type": "code",
   "execution_count": 8,
   "metadata": {},
   "outputs": [
    {
     "name": "stdout",
     "output_type": "stream",
     "text": [
      "242.822208849 1.86993842829e-53\n",
      "BLK Is Normal Dist\n"
     ]
    }
   ],
   "source": [
    "z,pval = mstats.normaltest(df_2000['BLK'])\n",
    "print(z, pval)\n",
    "if(pval < 0.001):\n",
    "    print('BLK Is Normal Dist')\n",
    "else:\n",
    "    print('BLK Is not Normal Dist')"
   ]
  },
  {
   "cell_type": "code",
   "execution_count": 9,
   "metadata": {},
   "outputs": [
    {
     "data": {
      "text/plain": [
       "<matplotlib.axes._subplots.AxesSubplot at 0x10c62b2e8>"
      ]
     },
     "execution_count": 9,
     "metadata": {},
     "output_type": "execute_result"
    },
    {
     "data": {
      "image/png": "[encoded data removed]",
      "text/plain": [
       "<matplotlib.figure.Figure at 0x10c5b7550>"
      ]
     },
     "metadata": {},
     "output_type": "display_data"
    }
   ],
   "source": [
    "df_2000['STL'].plot.hist(bins=15)"
   ]
  },
  {
   "cell_type": "code",
   "execution_count": 10,
   "metadata": {},
   "outputs": [
    {
     "name": "stdout",
     "output_type": "stream",
     "text": [
      "63.920239582 1.31794210788e-14\n",
      "STL Is Normal Dist\n"
     ]
    }
   ],
   "source": [
    "z,pval = mstats.normaltest(df_2000['STL'])\n",
    "print(z, pval)\n",
    "if(pval < 0.001):\n",
    "    print('STL Is Normal Dist')\n",
    "else:\n",
    "    print('STL Is not Normal Dist')"
   ]
  },
  {
   "cell_type": "code",
   "execution_count": 11,
   "metadata": {},
   "outputs": [
    {
     "data": {
      "text/plain": [
       "<matplotlib.axes._subplots.AxesSubplot at 0x113b4a438>"
      ]
     },
     "execution_count": 11,
     "metadata": {},
     "output_type": "execute_result"
    },
    {
     "data": {
      "image/png": "[encoded data removed]",
      "text/plain": [
       "<matplotlib.figure.Figure at 0x113b44c88>"
      ]
     },
     "metadata": {},
     "output_type": "display_data"
    }
   ],
   "source": [
    "df_2000['TOV'].plot.hist(bins=12)"
   ]
  },
  {
   "cell_type": "code",
   "execution_count": 12,
   "metadata": {},
   "outputs": [
    {
     "name": "stdout",
     "output_type": "stream",
     "text": [
      "45.7931364101 1.13801182296e-10\n",
      "TOV Is Normal Dist\n"
     ]
    }
   ],
   "source": [
    "z,pval = mstats.normaltest(df_2000['TOV'])\n",
    "print(z, pval)\n",
    "if(pval < 0.001):\n",
    "    print('TOV Is Normal Dist')\n",
    "else:\n",
    "    print('TOV Is not Normal Dist')"
   ]
  },
  {
   "cell_type": "code",
   "execution_count": 13,
   "metadata": {},
   "outputs": [
    {
     "data": {
      "text/plain": [
       "<matplotlib.axes._subplots.AxesSubplot at 0x113b44a20>"
      ]
     },
     "execution_count": 13,
     "metadata": {},
     "output_type": "execute_result"
    },
    {
     "data": {
      "image/png": "[encoded data removed]",
      "text/plain": [
       "<matplotlib.figure.Figure at 0x113c5cc88>"
      ]
     },
     "metadata": {},
     "output_type": "display_data"
    }
   ],
   "source": [
    "df_2000['AST'].plot.hist(bins=20)"
   ]
  },
  {
   "cell_type": "code",
   "execution_count": 14,
   "metadata": {},
   "outputs": [
    {
     "name": "stdout",
     "output_type": "stream",
     "text": [
      "147.319918516 1.02302478843e-32\n",
      "AST Is Normal Dist\n"
     ]
    }
   ],
   "source": [
    "z,pval = mstats.normaltest(df_2000['AST'])\n",
    "print(z, pval)\n",
    "if(pval < 0.001):\n",
    "    print('AST Is Normal Dist')\n",
    "else:\n",
    "    print('AST Is not Normal Dist')"
   ]
  },
  {
   "cell_type": "code",
   "execution_count": 15,
   "metadata": {},
   "outputs": [
    {
     "data": {
      "text/plain": [
       "<matplotlib.axes._subplots.AxesSubplot at 0x10c614dd8>"
      ]
     },
     "execution_count": 15,
     "metadata": {},
     "output_type": "execute_result"
    },
    {
     "data": {
      "image/png": "[encoded data removed]",
      "text/plain": [
       "<matplotlib.figure.Figure at 0x1a1ac7bba8>"
      ]
     },
     "metadata": {},
     "output_type": "display_data"
    }
   ],
   "source": [
    "df_2000['REB'].plot.hist(bins=25)"
   ]
  },
  {
   "cell_type": "code",
   "execution_count": 16,
   "metadata": {},
   "outputs": [
    {
     "name": "stdout",
     "output_type": "stream",
     "text": [
      "111.436539543 6.33669635653e-25\n",
      "REB Is Normal Dist\n"
     ]
    }
   ],
   "source": [
    "z,pval = mstats.normaltest(df_2000['REB'])\n",
    "print(z, pval)\n",
    "if(pval < 0.001):\n",
    "    print('REB Is Normal Dist')\n",
    "else:\n",
    "    print('REB Is not Normal Dist')"
   ]
  },
  {
   "cell_type": "code",
   "execution_count": 17,
   "metadata": {},
   "outputs": [
    {
     "data": {
      "text/plain": [
       "<matplotlib.axes._subplots.AxesSubplot at 0x1a1accd0b8>"
      ]
     },
     "execution_count": 17,
     "metadata": {},
     "output_type": "execute_result"
    },
    {
     "data": {
      "image/png": "[encoded data removed]",
      "text/plain": [
       "<matplotlib.figure.Figure at 0x1a1ac914a8>"
      ]
     },
     "metadata": {},
     "output_type": "display_data"
    }
   ],
   "source": [
    "df_2000['DREB'].plot.hist(bins=25)"
   ]
  },
  {
   "cell_type": "code",
   "execution_count": 18,
   "metadata": {},
   "outputs": [
    {
     "name": "stdout",
     "output_type": "stream",
     "text": [
      "118.515017613 1.83988599695e-26\n",
      "DREB Is Normal Dist\n"
     ]
    }
   ],
   "source": [
    "z,pval = mstats.normaltest(df_2000['DREB'])\n",
    "print(z, pval)\n",
    "if(pval < 0.001):\n",
    "    print('DREB Is Normal Dist')\n",
    "else:\n",
    "    print('DREB Is not Normal Dist')"
   ]
  },
  {
   "cell_type": "code",
   "execution_count": 19,
   "metadata": {},
   "outputs": [
    {
     "data": {
      "text/plain": [
       "<matplotlib.axes._subplots.AxesSubplot at 0x1a1afd7198>"
      ]
     },
     "execution_count": 19,
     "metadata": {},
     "output_type": "execute_result"
    },
    {
     "data": {
      "image/png": "[encoded data removed]",
      "text/plain": [
       "<matplotlib.figure.Figure at 0x1a1afcd198>"
      ]
     },
     "metadata": {},
     "output_type": "display_data"
    }
   ],
   "source": [
    "df_2000['OREB'].plot.hist(bins=20)"
   ]
  },
  {
   "cell_type": "code",
   "execution_count": 20,
   "metadata": {},
   "outputs": [
    {
     "name": "stdout",
     "output_type": "stream",
     "text": [
      "90.7237156761 1.9934045814e-20\n",
      "OREB Is Normal Dist\n"
     ]
    }
   ],
   "source": [
    "z,pval = mstats.normaltest(df_2000['OREB'])\n",
    "print(z, pval)\n",
    "if(pval < 0.001):\n",
    "    print('OREB Is Normal Dist')\n",
    "else:\n",
    "    print('OREB Is not Normal Dist')"
   ]
  },
  {
   "cell_type": "code",
   "execution_count": 21,
   "metadata": {},
   "outputs": [
    {
     "data": {
      "text/plain": [
       "<matplotlib.axes._subplots.AxesSubplot at 0x1a1b00d278>"
      ]
     },
     "execution_count": 21,
     "metadata": {},
     "output_type": "execute_result"
    },
    {
     "data": {
      "image/png": "[encoded data removed]",
      "text/plain": [
       "<matplotlib.figure.Figure at 0x1a1ad826d8>"
      ]
     },
     "metadata": {},
     "output_type": "display_data"
    }
   ],
   "source": [
    "df_2000['FT_PCT'].plot.hist(bins=15)"
   ]
  },
  {
   "cell_type": "code",
   "execution_count": 22,
   "metadata": {},
   "outputs": [
    {
     "name": "stdout",
     "output_type": "stream",
     "text": [
      "190.085970487 5.28878564277e-42\n",
      "FT_PCT Is Normal Dist\n"
     ]
    }
   ],
   "source": [
    "z,pval = mstats.normaltest(df_2000['FT_PCT'])\n",
    "print(z, pval)\n",
    "if(pval < 0.001):\n",
    "    print('FT_PCT Is Normal Dist')\n",
    "else:\n",
    "    print('FT_PCT Is not Normal Dist')"
   ]
  },
  {
   "cell_type": "code",
   "execution_count": 23,
   "metadata": {},
   "outputs": [
    {
     "data": {
      "text/plain": [
       "<matplotlib.axes._subplots.AxesSubplot at 0x1a1b16d908>"
      ]
     },
     "execution_count": 23,
     "metadata": {},
     "output_type": "execute_result"
    },
    {
     "data": {
      "image/png": "[encoded data removed]",
      "text/plain": [
       "<matplotlib.figure.Figure at 0x1a1b11d780>"
      ]
     },
     "metadata": {},
     "output_type": "display_data"
    }
   ],
   "source": [
    "df_2000['FTA'].plot.hist(bins=15)"
   ]
  },
  {
   "cell_type": "code",
   "execution_count": 24,
   "metadata": {},
   "outputs": [
    {
     "name": "stdout",
     "output_type": "stream",
     "text": [
      "185.430176767 5.42436276081e-41\n",
      "FTA Is Normal Dist\n"
     ]
    }
   ],
   "source": [
    "z,pval = mstats.normaltest(df_2000['FTA'])\n",
    "print(z, pval)\n",
    "if(pval < 0.001):\n",
    "    print('FTA Is Normal Dist')\n",
    "else:\n",
    "    print('FTA Is not Normal Dist')"
   ]
  },
  {
   "cell_type": "code",
   "execution_count": 25,
   "metadata": {},
   "outputs": [
    {
     "data": {
      "text/plain": [
       "<matplotlib.axes._subplots.AxesSubplot at 0x1a1b1047f0>"
      ]
     },
     "execution_count": 25,
     "metadata": {},
     "output_type": "execute_result"
    },
    {
     "data": {
      "image/png": "[encoded data removed]",
      "text/plain": [
       "<matplotlib.figure.Figure at 0x1a1b32dfd0>"
      ]
     },
     "metadata": {},
     "output_type": "display_data"
    }
   ],
   "source": [
    "df_2000['FTM'].plot.hist(bins=15)"
   ]
  },
  {
   "cell_type": "code",
   "execution_count": 26,
   "metadata": {},
   "outputs": [
    {
     "name": "stdout",
     "output_type": "stream",
     "text": [
      "157.157187874 7.47739386587e-35\n",
      "FTM Is Normal Dist\n"
     ]
    }
   ],
   "source": [
    "z,pval = mstats.normaltest(df_2000['FTM'])\n",
    "print(z, pval)\n",
    "if(pval < 0.001):\n",
    "    print('FTM Is Normal Dist')\n",
    "else:\n",
    "    print('FTM Is not Normal Dist')"
   ]
  },
  {
   "cell_type": "code",
   "execution_count": 27,
   "metadata": {},
   "outputs": [
    {
     "data": {
      "text/plain": [
       "<matplotlib.axes._subplots.AxesSubplot at 0x1a1b3aaeb8>"
      ]
     },
     "execution_count": 27,
     "metadata": {},
     "output_type": "execute_result"
    },
    {
     "data": {
      "image/png": "[encoded data removed]",
      "text/plain": [
       "<matplotlib.figure.Figure at 0x1a1b36ae80>"
      ]
     },
     "metadata": {},
     "output_type": "display_data"
    }
   ],
   "source": [
    "df_2000['FG3_PCT'].plot.hist(bins=10)"
   ]
  },
  {
   "cell_type": "code",
   "execution_count": 28,
   "metadata": {},
   "outputs": [
    {
     "name": "stdout",
     "output_type": "stream",
     "text": [
      "37.3962721106 7.57709424843e-09\n",
      "FG3_PCT Is Normal Dist\n"
     ]
    }
   ],
   "source": [
    "z,pval = mstats.normaltest(df_2000['FG3_PCT'])\n",
    "print(z, pval)\n",
    "if(pval < 0.001):\n",
    "    print('FG3_PCT Is Normal Dist')\n",
    "else:\n",
    "    print('FG3_PCT Is not Normal Dist')"
   ]
  },
  {
   "cell_type": "code",
   "execution_count": 29,
   "metadata": {},
   "outputs": [
    {
     "data": {
      "text/plain": [
       "<matplotlib.axes._subplots.AxesSubplot at 0x1a1b4a56a0>"
      ]
     },
     "execution_count": 29,
     "metadata": {},
     "output_type": "execute_result"
    },
    {
     "data": {
      "image/png": "[encoded data removed]",
      "text/plain": [
       "<matplotlib.figure.Figure at 0x1a1b4b8438>"
      ]
     },
     "metadata": {},
     "output_type": "display_data"
    }
   ],
   "source": [
    "df_2000['FG3A'].plot.hist(bins=15)"
   ]
  },
  {
   "cell_type": "code",
   "execution_count": 30,
   "metadata": {},
   "outputs": [
    {
     "name": "stdout",
     "output_type": "stream",
     "text": [
      "108.17373716 3.23870530268e-24\n",
      "FG3A Is Normal Dist\n"
     ]
    }
   ],
   "source": [
    "z,pval = mstats.normaltest(df_2000['FG3A'])\n",
    "print(z, pval)\n",
    "if(pval < 0.001):\n",
    "    print('FG3A Is Normal Dist')\n",
    "else:\n",
    "    print('FG3A Is not Normal Dist')"
   ]
  },
  {
   "cell_type": "code",
   "execution_count": 31,
   "metadata": {},
   "outputs": [
    {
     "data": {
      "text/plain": [
       "<matplotlib.axes._subplots.AxesSubplot at 0x1a1b5cc2b0>"
      ]
     },
     "execution_count": 31,
     "metadata": {},
     "output_type": "execute_result"
    },
    {
     "data": {
      "image/png": "[encoded data removed]",
      "text/plain": [
       "<matplotlib.figure.Figure at 0x1a1b5b41d0>"
      ]
     },
     "metadata": {},
     "output_type": "display_data"
    }
   ],
   "source": [
    "df_2000['FG3M'].plot.hist(bins=15)"
   ]
  },
  {
   "cell_type": "code",
   "execution_count": 32,
   "metadata": {},
   "outputs": [
    {
     "name": "stdout",
     "output_type": "stream",
     "text": [
      "121.50188513 4.13238592498e-27\n",
      "FG3M Is Normal Dist\n"
     ]
    }
   ],
   "source": [
    "z,pval = mstats.normaltest(df_2000['FG3M'])\n",
    "print(z, pval)\n",
    "if(pval < 0.001):\n",
    "    print('FG3M Is Normal Dist')\n",
    "else:\n",
    "    print('FG3M Is not Normal Dist')"
   ]
  },
  {
   "cell_type": "code",
   "execution_count": 33,
   "metadata": {},
   "outputs": [
    {
     "data": {
      "text/plain": [
       "<matplotlib.axes._subplots.AxesSubplot at 0x1a1b6e8b00>"
      ]
     },
     "execution_count": 33,
     "metadata": {},
     "output_type": "execute_result"
    },
    {
     "data": {
      "image/png": "[encoded data removed]",
      "text/plain": [
       "<matplotlib.figure.Figure at 0x1a1b5db080>"
      ]
     },
     "metadata": {},
     "output_type": "display_data"
    }
   ],
   "source": [
    "df_2000['FG_PCT'].plot.hist(bins=12)"
   ]
  },
  {
   "cell_type": "code",
   "execution_count": 34,
   "metadata": {},
   "outputs": [
    {
     "name": "stdout",
     "output_type": "stream",
     "text": [
      "106.702034712 6.76001342451e-24\n",
      "FG_PCT Is Normal Dist\n"
     ]
    }
   ],
   "source": [
    "z,pval = mstats.normaltest(df_2000['FG_PCT'])\n",
    "print(z, pval)\n",
    "if(pval < 0.001):\n",
    "    print('FG_PCT Is Normal Dist')\n",
    "else:\n",
    "    print('FG_PCT Is not Normal Dist')"
   ]
  },
  {
   "cell_type": "code",
   "execution_count": 35,
   "metadata": {},
   "outputs": [
    {
     "data": {
      "text/plain": [
       "<matplotlib.axes._subplots.AxesSubplot at 0x1a1b680d68>"
      ]
     },
     "execution_count": 35,
     "metadata": {},
     "output_type": "execute_result"
    },
    {
     "data": {
      "image/png": "[encoded data removed]",
      "text/plain": [
       "<matplotlib.figure.Figure at 0x1a1b7abbe0>"
      ]
     },
     "metadata": {},
     "output_type": "display_data"
    }
   ],
   "source": [
    "df_2000['FGA'].plot.hist(bins=15)"
   ]
  },
  {
   "cell_type": "code",
   "execution_count": 36,
   "metadata": {},
   "outputs": [
    {
     "name": "stdout",
     "output_type": "stream",
     "text": [
      "90.277038526 2.49224172567e-20\n",
      "FGA Is Normal Dist\n"
     ]
    }
   ],
   "source": [
    "z,pval = mstats.normaltest(df_2000['FGA'])\n",
    "print(z, pval)\n",
    "if(pval < 0.001):\n",
    "    print('FGA Is Normal Dist')\n",
    "else:\n",
    "    print('FGA Is not Normal Dist')"
   ]
  },
  {
   "cell_type": "code",
   "execution_count": 37,
   "metadata": {},
   "outputs": [
    {
     "data": {
      "text/plain": [
       "<matplotlib.axes._subplots.AxesSubplot at 0x1a1b9bd5c0>"
      ]
     },
     "execution_count": 37,
     "metadata": {},
     "output_type": "execute_result"
    },
    {
     "data": {
      "image/png": "[encoded data removed]",
      "text/plain": [
       "<matplotlib.figure.Figure at 0x1a1b9a42b0>"
      ]
     },
     "metadata": {},
     "output_type": "display_data"
    }
   ],
   "source": [
    "df_2000['FGM'].plot.hist(bins=25)"
   ]
  },
  {
   "cell_type": "code",
   "execution_count": 38,
   "metadata": {},
   "outputs": [
    {
     "name": "stdout",
     "output_type": "stream",
     "text": [
      "93.8719468291 4.13014922511e-21\n",
      "FGM Is Normal Dist\n"
     ]
    }
   ],
   "source": [
    "z,pval = mstats.normaltest(df_2000['FGM'])\n",
    "print(z, pval)\n",
    "if(pval < 0.001):\n",
    "    print('FGM Is Normal Dist')\n",
    "else:\n",
    "    print('FGM Is not Normal Dist')"
   ]
  },
  {
   "cell_type": "code",
   "execution_count": 39,
   "metadata": {},
   "outputs": [
    {
     "data": {
      "text/plain": [
       "<matplotlib.axes._subplots.AxesSubplot at 0x1a1b9fe710>"
      ]
     },
     "execution_count": 39,
     "metadata": {},
     "output_type": "execute_result"
    },
    {
     "data": {
      "image/png": "[encoded data removed]",
      "text/plain": [
       "<matplotlib.figure.Figure at 0x1a1b9e8400>"
      ]
     },
     "metadata": {},
     "output_type": "display_data"
    }
   ],
   "source": [
    "df_2000['MIN'].plot.hist(bins=25)"
   ]
  },
  {
   "cell_type": "code",
   "execution_count": 40,
   "metadata": {},
   "outputs": [
    {
     "name": "stdout",
     "output_type": "stream",
     "text": [
      "90.0469976432 2.79603694637e-20\n",
      "MIN Is Normal Dist\n"
     ]
    }
   ],
   "source": [
    "z,pval = mstats.normaltest(df_2000['MIN'])\n",
    "print(z, pval)\n",
    "if(pval < 0.001):\n",
    "    print('MIN Is Normal Dist')\n",
    "else:\n",
    "    print('MIN Is not Normal Dist')"
   ]
  },
  {
   "cell_type": "code",
   "execution_count": null,
   "metadata": {
    "collapsed": true
   },
   "outputs": [],
   "source": []
  }
 ],
 "metadata": {
  "kernelspec": {
   "display_name": "Python 3",
   "language": "python",
   "name": "python3"
  },
  "language_info": {
   "codemirror_mode": {
    "name": "ipython",
    "version": 3
   },
   "file_extension": ".py",
   "mimetype": "text/x-python",
   "name": "python",
   "nbconvert_exporter": "python",
   "pygments_lexer": "ipython3",
   "version": "3.6.3"
  }
 },
 "nbformat": 4,
 "nbformat_minor": 2
}
