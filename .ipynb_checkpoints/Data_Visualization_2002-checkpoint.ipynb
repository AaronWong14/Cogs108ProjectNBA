{
 "cells": [
  {
   "cell_type": "code",
   "execution_count": 2,
   "metadata": {
    "collapsed": true
   },
   "outputs": [],
   "source": [
    "# Imports - these are all the imports needed for the assignment\n",
    "%matplotlib inline\n",
    "from scipy import stats\n",
    "import numpy.ma as ma\n",
    "from scipy.stats import mstats\n",
    "\n",
    "import numpy as np\n",
    "import pandas as pd\n",
    "import matplotlib.pyplot as plt"
   ]
  },
  {
   "cell_type": "code",
   "execution_count": 4,
   "metadata": {},
   "outputs": [],
   "source": [
    "# 1a) Load the nba csv files\n",
    "\n",
    "# YOUR CODE HERE\n",
    "df_2002 = pd.read_csv('clean_players_2002.csv')"
   ]
  },
  {
   "cell_type": "code",
   "execution_count": 5,
   "metadata": {},
   "outputs": [
    {
     "data": {
      "text/html": [
       "<div>\n",
       "<style>\n",
       "    .dataframe thead tr:only-child th {\n",
       "        text-align: right;\n",
       "    }\n",
       "\n",
       "    .dataframe thead th {\n",
       "        text-align: left;\n",
       "    }\n",
       "\n",
       "    .dataframe tbody tr th {\n",
       "        vertical-align: top;\n",
       "    }\n",
       "</style>\n",
       "<table border=\"1\" class=\"dataframe\">\n",
       "  <thead>\n",
       "    <tr style=\"text-align: right;\">\n",
       "      <th></th>\n",
       "      <th>Unnamed: 0</th>\n",
       "      <th>PLAYER_ID</th>\n",
       "      <th>PLAYER_NAME</th>\n",
       "      <th>TEAM_ID</th>\n",
       "      <th>TEAM_ABBREVIATION</th>\n",
       "      <th>AGE</th>\n",
       "      <th>GP</th>\n",
       "      <th>W</th>\n",
       "      <th>L</th>\n",
       "      <th>W_PCT</th>\n",
       "      <th>...</th>\n",
       "      <th>FTA</th>\n",
       "      <th>FT_PCT</th>\n",
       "      <th>OREB</th>\n",
       "      <th>DREB</th>\n",
       "      <th>REB</th>\n",
       "      <th>AST</th>\n",
       "      <th>TOV</th>\n",
       "      <th>STL</th>\n",
       "      <th>BLK</th>\n",
       "      <th>PTS</th>\n",
       "    </tr>\n",
       "  </thead>\n",
       "  <tbody>\n",
       "    <tr>\n",
       "      <th>0</th>\n",
       "      <td>0</td>\n",
       "      <td>2062</td>\n",
       "      <td>A.J. Guyton</td>\n",
       "      <td>1610612744</td>\n",
       "      <td>GSW</td>\n",
       "      <td>25.0</td>\n",
       "      <td>2</td>\n",
       "      <td>1</td>\n",
       "      <td>1</td>\n",
       "      <td>0.500</td>\n",
       "      <td>...</td>\n",
       "      <td>0.0</td>\n",
       "      <td>0.000</td>\n",
       "      <td>0.0</td>\n",
       "      <td>0.0</td>\n",
       "      <td>0.0</td>\n",
       "      <td>1.0</td>\n",
       "      <td>0.5</td>\n",
       "      <td>0.5</td>\n",
       "      <td>0.0</td>\n",
       "      <td>0.0</td>\n",
       "    </tr>\n",
       "    <tr>\n",
       "      <th>1</th>\n",
       "      <td>1</td>\n",
       "      <td>243</td>\n",
       "      <td>Aaron McKie</td>\n",
       "      <td>1610612755</td>\n",
       "      <td>PHI</td>\n",
       "      <td>30.0</td>\n",
       "      <td>80</td>\n",
       "      <td>47</td>\n",
       "      <td>33</td>\n",
       "      <td>0.588</td>\n",
       "      <td>...</td>\n",
       "      <td>1.7</td>\n",
       "      <td>0.836</td>\n",
       "      <td>0.8</td>\n",
       "      <td>3.6</td>\n",
       "      <td>4.4</td>\n",
       "      <td>3.5</td>\n",
       "      <td>1.4</td>\n",
       "      <td>1.6</td>\n",
       "      <td>0.1</td>\n",
       "      <td>9.0</td>\n",
       "    </tr>\n",
       "    <tr>\n",
       "      <th>2</th>\n",
       "      <td>2</td>\n",
       "      <td>1425</td>\n",
       "      <td>Aaron Williams</td>\n",
       "      <td>1610612751</td>\n",
       "      <td>NJN</td>\n",
       "      <td>31.0</td>\n",
       "      <td>81</td>\n",
       "      <td>49</td>\n",
       "      <td>32</td>\n",
       "      <td>0.605</td>\n",
       "      <td>...</td>\n",
       "      <td>1.6</td>\n",
       "      <td>0.785</td>\n",
       "      <td>1.7</td>\n",
       "      <td>2.4</td>\n",
       "      <td>4.1</td>\n",
       "      <td>1.1</td>\n",
       "      <td>1.0</td>\n",
       "      <td>0.3</td>\n",
       "      <td>0.7</td>\n",
       "      <td>6.2</td>\n",
       "    </tr>\n",
       "    <tr>\n",
       "      <th>3</th>\n",
       "      <td>3</td>\n",
       "      <td>2492</td>\n",
       "      <td>Adam Harrington</td>\n",
       "      <td>1610612743</td>\n",
       "      <td>DEN</td>\n",
       "      <td>22.0</td>\n",
       "      <td>19</td>\n",
       "      <td>13</td>\n",
       "      <td>6</td>\n",
       "      <td>0.684</td>\n",
       "      <td>...</td>\n",
       "      <td>0.2</td>\n",
       "      <td>0.750</td>\n",
       "      <td>0.1</td>\n",
       "      <td>0.4</td>\n",
       "      <td>0.4</td>\n",
       "      <td>0.6</td>\n",
       "      <td>0.1</td>\n",
       "      <td>0.1</td>\n",
       "      <td>0.1</td>\n",
       "      <td>1.6</td>\n",
       "    </tr>\n",
       "    <tr>\n",
       "      <th>4</th>\n",
       "      <td>4</td>\n",
       "      <td>1502</td>\n",
       "      <td>Adonal Foyle</td>\n",
       "      <td>1610612744</td>\n",
       "      <td>GSW</td>\n",
       "      <td>28.0</td>\n",
       "      <td>82</td>\n",
       "      <td>38</td>\n",
       "      <td>44</td>\n",
       "      <td>0.463</td>\n",
       "      <td>...</td>\n",
       "      <td>1.3</td>\n",
       "      <td>0.673</td>\n",
       "      <td>2.1</td>\n",
       "      <td>3.8</td>\n",
       "      <td>6.0</td>\n",
       "      <td>0.5</td>\n",
       "      <td>0.9</td>\n",
       "      <td>0.5</td>\n",
       "      <td>2.5</td>\n",
       "      <td>5.4</td>\n",
       "    </tr>\n",
       "    <tr>\n",
       "      <th>5</th>\n",
       "      <td>5</td>\n",
       "      <td>1559</td>\n",
       "      <td>Adrian Griffin</td>\n",
       "      <td>1610612742</td>\n",
       "      <td>DAL</td>\n",
       "      <td>28.0</td>\n",
       "      <td>74</td>\n",
       "      <td>56</td>\n",
       "      <td>18</td>\n",
       "      <td>0.757</td>\n",
       "      <td>...</td>\n",
       "      <td>0.4</td>\n",
       "      <td>0.844</td>\n",
       "      <td>1.2</td>\n",
       "      <td>2.4</td>\n",
       "      <td>3.6</td>\n",
       "      <td>1.4</td>\n",
       "      <td>0.6</td>\n",
       "      <td>1.0</td>\n",
       "      <td>0.1</td>\n",
       "      <td>4.4</td>\n",
       "    </tr>\n",
       "    <tr>\n",
       "      <th>6</th>\n",
       "      <td>6</td>\n",
       "      <td>1733</td>\n",
       "      <td>Al Harrington</td>\n",
       "      <td>1610612754</td>\n",
       "      <td>IND</td>\n",
       "      <td>23.0</td>\n",
       "      <td>82</td>\n",
       "      <td>48</td>\n",
       "      <td>34</td>\n",
       "      <td>0.585</td>\n",
       "      <td>...</td>\n",
       "      <td>3.3</td>\n",
       "      <td>0.770</td>\n",
       "      <td>1.9</td>\n",
       "      <td>4.3</td>\n",
       "      <td>6.2</td>\n",
       "      <td>1.5</td>\n",
       "      <td>2.0</td>\n",
       "      <td>0.9</td>\n",
       "      <td>0.4</td>\n",
       "      <td>12.2</td>\n",
       "    </tr>\n",
       "    <tr>\n",
       "      <th>7</th>\n",
       "      <td>7</td>\n",
       "      <td>673</td>\n",
       "      <td>Alan Henderson</td>\n",
       "      <td>1610612737</td>\n",
       "      <td>ATL</td>\n",
       "      <td>30.0</td>\n",
       "      <td>82</td>\n",
       "      <td>35</td>\n",
       "      <td>47</td>\n",
       "      <td>0.427</td>\n",
       "      <td>...</td>\n",
       "      <td>1.7</td>\n",
       "      <td>0.638</td>\n",
       "      <td>1.9</td>\n",
       "      <td>3.0</td>\n",
       "      <td>4.9</td>\n",
       "      <td>0.5</td>\n",
       "      <td>0.7</td>\n",
       "      <td>0.4</td>\n",
       "      <td>0.4</td>\n",
       "      <td>4.8</td>\n",
       "    </tr>\n",
       "    <tr>\n",
       "      <th>8</th>\n",
       "      <td>8</td>\n",
       "      <td>275</td>\n",
       "      <td>Allan Houston</td>\n",
       "      <td>1610612752</td>\n",
       "      <td>NYK</td>\n",
       "      <td>32.0</td>\n",
       "      <td>82</td>\n",
       "      <td>37</td>\n",
       "      <td>45</td>\n",
       "      <td>0.451</td>\n",
       "      <td>...</td>\n",
       "      <td>4.8</td>\n",
       "      <td>0.919</td>\n",
       "      <td>0.3</td>\n",
       "      <td>2.5</td>\n",
       "      <td>2.8</td>\n",
       "      <td>2.7</td>\n",
       "      <td>2.2</td>\n",
       "      <td>0.7</td>\n",
       "      <td>0.1</td>\n",
       "      <td>22.5</td>\n",
       "    </tr>\n",
       "    <tr>\n",
       "      <th>9</th>\n",
       "      <td>9</td>\n",
       "      <td>947</td>\n",
       "      <td>Allen Iverson</td>\n",
       "      <td>1610612755</td>\n",
       "      <td>PHI</td>\n",
       "      <td>28.0</td>\n",
       "      <td>82</td>\n",
       "      <td>48</td>\n",
       "      <td>34</td>\n",
       "      <td>0.585</td>\n",
       "      <td>...</td>\n",
       "      <td>9.0</td>\n",
       "      <td>0.774</td>\n",
       "      <td>0.8</td>\n",
       "      <td>3.4</td>\n",
       "      <td>4.2</td>\n",
       "      <td>5.5</td>\n",
       "      <td>3.5</td>\n",
       "      <td>2.7</td>\n",
       "      <td>0.2</td>\n",
       "      <td>27.6</td>\n",
       "    </tr>\n",
       "    <tr>\n",
       "      <th>10</th>\n",
       "      <td>10</td>\n",
       "      <td>2228</td>\n",
       "      <td>Alton Ford</td>\n",
       "      <td>1610612756</td>\n",
       "      <td>PHX</td>\n",
       "      <td>22.0</td>\n",
       "      <td>11</td>\n",
       "      <td>3</td>\n",
       "      <td>8</td>\n",
       "      <td>0.273</td>\n",
       "      <td>...</td>\n",
       "      <td>0.3</td>\n",
       "      <td>0.333</td>\n",
       "      <td>0.0</td>\n",
       "      <td>0.5</td>\n",
       "      <td>0.5</td>\n",
       "      <td>0.1</td>\n",
       "      <td>0.2</td>\n",
       "      <td>0.0</td>\n",
       "      <td>0.0</td>\n",
       "      <td>0.6</td>\n",
       "    </tr>\n",
       "    <tr>\n",
       "      <th>11</th>\n",
       "      <td>11</td>\n",
       "      <td>1541</td>\n",
       "      <td>Alvin Williams</td>\n",
       "      <td>1610612761</td>\n",
       "      <td>TOR</td>\n",
       "      <td>28.0</td>\n",
       "      <td>78</td>\n",
       "      <td>24</td>\n",
       "      <td>54</td>\n",
       "      <td>0.308</td>\n",
       "      <td>...</td>\n",
       "      <td>3.1</td>\n",
       "      <td>0.782</td>\n",
       "      <td>0.7</td>\n",
       "      <td>2.4</td>\n",
       "      <td>3.1</td>\n",
       "      <td>5.3</td>\n",
       "      <td>1.6</td>\n",
       "      <td>1.4</td>\n",
       "      <td>0.3</td>\n",
       "      <td>13.2</td>\n",
       "    </tr>\n",
       "    <tr>\n",
       "      <th>12</th>\n",
       "      <td>12</td>\n",
       "      <td>1043</td>\n",
       "      <td>Amal McCaskill</td>\n",
       "      <td>1610612737</td>\n",
       "      <td>ATL</td>\n",
       "      <td>29.0</td>\n",
       "      <td>11</td>\n",
       "      <td>4</td>\n",
       "      <td>7</td>\n",
       "      <td>0.364</td>\n",
       "      <td>...</td>\n",
       "      <td>0.4</td>\n",
       "      <td>0.750</td>\n",
       "      <td>0.6</td>\n",
       "      <td>1.4</td>\n",
       "      <td>2.0</td>\n",
       "      <td>0.5</td>\n",
       "      <td>0.2</td>\n",
       "      <td>0.3</td>\n",
       "      <td>0.1</td>\n",
       "      <td>1.0</td>\n",
       "    </tr>\n",
       "    <tr>\n",
       "      <th>13</th>\n",
       "      <td>13</td>\n",
       "      <td>2405</td>\n",
       "      <td>Amar'e Stoudemire</td>\n",
       "      <td>1610612756</td>\n",
       "      <td>PHX</td>\n",
       "      <td>20.0</td>\n",
       "      <td>82</td>\n",
       "      <td>44</td>\n",
       "      <td>38</td>\n",
       "      <td>0.537</td>\n",
       "      <td>...</td>\n",
       "      <td>5.9</td>\n",
       "      <td>0.661</td>\n",
       "      <td>3.0</td>\n",
       "      <td>5.7</td>\n",
       "      <td>8.8</td>\n",
       "      <td>1.0</td>\n",
       "      <td>2.3</td>\n",
       "      <td>0.8</td>\n",
       "      <td>1.1</td>\n",
       "      <td>13.5</td>\n",
       "    </tr>\n",
       "    <tr>\n",
       "      <th>14</th>\n",
       "      <td>14</td>\n",
       "      <td>1889</td>\n",
       "      <td>Andre Miller</td>\n",
       "      <td>1610612746</td>\n",
       "      <td>LAC</td>\n",
       "      <td>27.0</td>\n",
       "      <td>80</td>\n",
       "      <td>27</td>\n",
       "      <td>53</td>\n",
       "      <td>0.338</td>\n",
       "      <td>...</td>\n",
       "      <td>4.9</td>\n",
       "      <td>0.795</td>\n",
       "      <td>1.1</td>\n",
       "      <td>2.9</td>\n",
       "      <td>4.0</td>\n",
       "      <td>6.7</td>\n",
       "      <td>2.6</td>\n",
       "      <td>1.2</td>\n",
       "      <td>0.1</td>\n",
       "      <td>13.6</td>\n",
       "    </tr>\n",
       "    <tr>\n",
       "      <th>15</th>\n",
       "      <td>15</td>\n",
       "      <td>1905</td>\n",
       "      <td>Andrei Kirilenko</td>\n",
       "      <td>1610612762</td>\n",
       "      <td>UTA</td>\n",
       "      <td>22.0</td>\n",
       "      <td>80</td>\n",
       "      <td>46</td>\n",
       "      <td>34</td>\n",
       "      <td>0.575</td>\n",
       "      <td>...</td>\n",
       "      <td>4.6</td>\n",
       "      <td>0.800</td>\n",
       "      <td>1.8</td>\n",
       "      <td>3.4</td>\n",
       "      <td>5.3</td>\n",
       "      <td>1.7</td>\n",
       "      <td>1.7</td>\n",
       "      <td>1.5</td>\n",
       "      <td>2.2</td>\n",
       "      <td>12.0</td>\n",
       "    </tr>\n",
       "    <tr>\n",
       "      <th>16</th>\n",
       "      <td>16</td>\n",
       "      <td>692</td>\n",
       "      <td>Andrew DeClercq</td>\n",
       "      <td>1610612753</td>\n",
       "      <td>ORL</td>\n",
       "      <td>30.0</td>\n",
       "      <td>77</td>\n",
       "      <td>38</td>\n",
       "      <td>39</td>\n",
       "      <td>0.494</td>\n",
       "      <td>...</td>\n",
       "      <td>1.4</td>\n",
       "      <td>0.644</td>\n",
       "      <td>1.8</td>\n",
       "      <td>2.6</td>\n",
       "      <td>4.4</td>\n",
       "      <td>0.7</td>\n",
       "      <td>1.1</td>\n",
       "      <td>0.5</td>\n",
       "      <td>0.5</td>\n",
       "      <td>4.7</td>\n",
       "    </tr>\n",
       "    <tr>\n",
       "      <th>17</th>\n",
       "      <td>17</td>\n",
       "      <td>358</td>\n",
       "      <td>Anfernee Hardaway</td>\n",
       "      <td>1610612756</td>\n",
       "      <td>PHX</td>\n",
       "      <td>31.0</td>\n",
       "      <td>58</td>\n",
       "      <td>34</td>\n",
       "      <td>24</td>\n",
       "      <td>0.586</td>\n",
       "      <td>...</td>\n",
       "      <td>1.7</td>\n",
       "      <td>0.794</td>\n",
       "      <td>1.1</td>\n",
       "      <td>3.3</td>\n",
       "      <td>4.4</td>\n",
       "      <td>4.1</td>\n",
       "      <td>2.5</td>\n",
       "      <td>1.1</td>\n",
       "      <td>0.4</td>\n",
       "      <td>10.6</td>\n",
       "    </tr>\n",
       "    <tr>\n",
       "      <th>18</th>\n",
       "      <td>18</td>\n",
       "      <td>1738</td>\n",
       "      <td>Ansu Sesay</td>\n",
       "      <td>1610612760</td>\n",
       "      <td>SEA</td>\n",
       "      <td>26.0</td>\n",
       "      <td>45</td>\n",
       "      <td>21</td>\n",
       "      <td>24</td>\n",
       "      <td>0.467</td>\n",
       "      <td>...</td>\n",
       "      <td>0.5</td>\n",
       "      <td>0.571</td>\n",
       "      <td>0.8</td>\n",
       "      <td>0.9</td>\n",
       "      <td>1.6</td>\n",
       "      <td>0.5</td>\n",
       "      <td>0.6</td>\n",
       "      <td>0.3</td>\n",
       "      <td>0.1</td>\n",
       "      <td>2.1</td>\n",
       "    </tr>\n",
       "    <tr>\n",
       "      <th>19</th>\n",
       "      <td>19</td>\n",
       "      <td>1712</td>\n",
       "      <td>Antawn Jamison</td>\n",
       "      <td>1610612744</td>\n",
       "      <td>GSW</td>\n",
       "      <td>27.0</td>\n",
       "      <td>82</td>\n",
       "      <td>38</td>\n",
       "      <td>44</td>\n",
       "      <td>0.463</td>\n",
       "      <td>...</td>\n",
       "      <td>5.8</td>\n",
       "      <td>0.789</td>\n",
       "      <td>2.4</td>\n",
       "      <td>4.7</td>\n",
       "      <td>7.0</td>\n",
       "      <td>1.9</td>\n",
       "      <td>2.2</td>\n",
       "      <td>0.9</td>\n",
       "      <td>0.5</td>\n",
       "      <td>22.2</td>\n",
       "    </tr>\n",
       "    <tr>\n",
       "      <th>20</th>\n",
       "      <td>20</td>\n",
       "      <td>1853</td>\n",
       "      <td>Anthony Carter</td>\n",
       "      <td>1610612748</td>\n",
       "      <td>MIA</td>\n",
       "      <td>28.0</td>\n",
       "      <td>49</td>\n",
       "      <td>11</td>\n",
       "      <td>38</td>\n",
       "      <td>0.224</td>\n",
       "      <td>...</td>\n",
       "      <td>1.0</td>\n",
       "      <td>0.660</td>\n",
       "      <td>0.2</td>\n",
       "      <td>1.4</td>\n",
       "      <td>1.7</td>\n",
       "      <td>4.1</td>\n",
       "      <td>1.7</td>\n",
       "      <td>0.9</td>\n",
       "      <td>0.1</td>\n",
       "      <td>4.1</td>\n",
       "    </tr>\n",
       "    <tr>\n",
       "      <th>21</th>\n",
       "      <td>21</td>\n",
       "      <td>924</td>\n",
       "      <td>Anthony Goldwire</td>\n",
       "      <td>1610612764</td>\n",
       "      <td>WAS</td>\n",
       "      <td>31.0</td>\n",
       "      <td>15</td>\n",
       "      <td>9</td>\n",
       "      <td>6</td>\n",
       "      <td>0.600</td>\n",
       "      <td>...</td>\n",
       "      <td>0.5</td>\n",
       "      <td>0.571</td>\n",
       "      <td>0.0</td>\n",
       "      <td>0.4</td>\n",
       "      <td>0.4</td>\n",
       "      <td>0.3</td>\n",
       "      <td>0.4</td>\n",
       "      <td>0.2</td>\n",
       "      <td>0.0</td>\n",
       "      <td>1.7</td>\n",
       "    </tr>\n",
       "    <tr>\n",
       "      <th>22</th>\n",
       "      <td>22</td>\n",
       "      <td>1533</td>\n",
       "      <td>Anthony Johnson</td>\n",
       "      <td>1610612751</td>\n",
       "      <td>NJN</td>\n",
       "      <td>28.0</td>\n",
       "      <td>66</td>\n",
       "      <td>41</td>\n",
       "      <td>25</td>\n",
       "      <td>0.621</td>\n",
       "      <td>...</td>\n",
       "      <td>1.1</td>\n",
       "      <td>0.689</td>\n",
       "      <td>0.2</td>\n",
       "      <td>1.0</td>\n",
       "      <td>1.2</td>\n",
       "      <td>1.3</td>\n",
       "      <td>0.6</td>\n",
       "      <td>0.6</td>\n",
       "      <td>0.1</td>\n",
       "      <td>4.1</td>\n",
       "    </tr>\n",
       "    <tr>\n",
       "      <th>23</th>\n",
       "      <td>23</td>\n",
       "      <td>193</td>\n",
       "      <td>Anthony Mason</td>\n",
       "      <td>1610612749</td>\n",
       "      <td>MIL</td>\n",
       "      <td>36.0</td>\n",
       "      <td>65</td>\n",
       "      <td>33</td>\n",
       "      <td>32</td>\n",
       "      <td>0.508</td>\n",
       "      <td>...</td>\n",
       "      <td>1.8</td>\n",
       "      <td>0.718</td>\n",
       "      <td>1.4</td>\n",
       "      <td>5.0</td>\n",
       "      <td>6.4</td>\n",
       "      <td>3.2</td>\n",
       "      <td>1.2</td>\n",
       "      <td>0.5</td>\n",
       "      <td>0.2</td>\n",
       "      <td>7.2</td>\n",
       "    </tr>\n",
       "    <tr>\n",
       "      <th>24</th>\n",
       "      <td>24</td>\n",
       "      <td>324</td>\n",
       "      <td>Anthony Peeler</td>\n",
       "      <td>1610612750</td>\n",
       "      <td>MIN</td>\n",
       "      <td>33.0</td>\n",
       "      <td>82</td>\n",
       "      <td>51</td>\n",
       "      <td>31</td>\n",
       "      <td>0.622</td>\n",
       "      <td>...</td>\n",
       "      <td>0.6</td>\n",
       "      <td>0.780</td>\n",
       "      <td>0.5</td>\n",
       "      <td>2.5</td>\n",
       "      <td>2.9</td>\n",
       "      <td>3.0</td>\n",
       "      <td>1.0</td>\n",
       "      <td>0.9</td>\n",
       "      <td>0.2</td>\n",
       "      <td>7.7</td>\n",
       "    </tr>\n",
       "    <tr>\n",
       "      <th>25</th>\n",
       "      <td>25</td>\n",
       "      <td>2541</td>\n",
       "      <td>Antoine Rigaudeau</td>\n",
       "      <td>1610612742</td>\n",
       "      <td>DAL</td>\n",
       "      <td>31.0</td>\n",
       "      <td>11</td>\n",
       "      <td>8</td>\n",
       "      <td>3</td>\n",
       "      <td>0.727</td>\n",
       "      <td>...</td>\n",
       "      <td>0.0</td>\n",
       "      <td>0.000</td>\n",
       "      <td>0.4</td>\n",
       "      <td>0.4</td>\n",
       "      <td>0.7</td>\n",
       "      <td>0.5</td>\n",
       "      <td>0.5</td>\n",
       "      <td>0.3</td>\n",
       "      <td>0.0</td>\n",
       "      <td>1.5</td>\n",
       "    </tr>\n",
       "    <tr>\n",
       "      <th>26</th>\n",
       "      <td>26</td>\n",
       "      <td>952</td>\n",
       "      <td>Antoine Walker</td>\n",
       "      <td>1610612738</td>\n",
       "      <td>BOS</td>\n",
       "      <td>26.0</td>\n",
       "      <td>78</td>\n",
       "      <td>42</td>\n",
       "      <td>36</td>\n",
       "      <td>0.538</td>\n",
       "      <td>...</td>\n",
       "      <td>3.7</td>\n",
       "      <td>0.615</td>\n",
       "      <td>1.3</td>\n",
       "      <td>5.9</td>\n",
       "      <td>7.2</td>\n",
       "      <td>4.8</td>\n",
       "      <td>3.3</td>\n",
       "      <td>1.5</td>\n",
       "      <td>0.4</td>\n",
       "      <td>20.1</td>\n",
       "    </tr>\n",
       "    <tr>\n",
       "      <th>27</th>\n",
       "      <td>27</td>\n",
       "      <td>1498</td>\n",
       "      <td>Antonio Daniels</td>\n",
       "      <td>1610612757</td>\n",
       "      <td>POR</td>\n",
       "      <td>28.0</td>\n",
       "      <td>67</td>\n",
       "      <td>39</td>\n",
       "      <td>28</td>\n",
       "      <td>0.582</td>\n",
       "      <td>...</td>\n",
       "      <td>1.1</td>\n",
       "      <td>0.855</td>\n",
       "      <td>0.2</td>\n",
       "      <td>0.9</td>\n",
       "      <td>1.1</td>\n",
       "      <td>1.3</td>\n",
       "      <td>0.5</td>\n",
       "      <td>0.5</td>\n",
       "      <td>0.1</td>\n",
       "      <td>3.7</td>\n",
       "    </tr>\n",
       "    <tr>\n",
       "      <th>28</th>\n",
       "      <td>28</td>\n",
       "      <td>213</td>\n",
       "      <td>Antonio Davis</td>\n",
       "      <td>1610612761</td>\n",
       "      <td>TOR</td>\n",
       "      <td>34.0</td>\n",
       "      <td>53</td>\n",
       "      <td>19</td>\n",
       "      <td>34</td>\n",
       "      <td>0.358</td>\n",
       "      <td>...</td>\n",
       "      <td>5.3</td>\n",
       "      <td>0.771</td>\n",
       "      <td>2.5</td>\n",
       "      <td>5.8</td>\n",
       "      <td>8.2</td>\n",
       "      <td>2.5</td>\n",
       "      <td>2.2</td>\n",
       "      <td>0.4</td>\n",
       "      <td>1.2</td>\n",
       "      <td>13.9</td>\n",
       "    </tr>\n",
       "    <tr>\n",
       "      <th>29</th>\n",
       "      <td>29</td>\n",
       "      <td>176</td>\n",
       "      <td>Antonio Harvey</td>\n",
       "      <td>1610612737</td>\n",
       "      <td>ATL</td>\n",
       "      <td>32.0</td>\n",
       "      <td>4</td>\n",
       "      <td>3</td>\n",
       "      <td>1</td>\n",
       "      <td>0.750</td>\n",
       "      <td>...</td>\n",
       "      <td>0.0</td>\n",
       "      <td>0.000</td>\n",
       "      <td>0.3</td>\n",
       "      <td>1.3</td>\n",
       "      <td>1.5</td>\n",
       "      <td>0.0</td>\n",
       "      <td>0.8</td>\n",
       "      <td>0.3</td>\n",
       "      <td>1.0</td>\n",
       "      <td>1.0</td>\n",
       "    </tr>\n",
       "    <tr>\n",
       "      <th>...</th>\n",
       "      <td>...</td>\n",
       "      <td>...</td>\n",
       "      <td>...</td>\n",
       "      <td>...</td>\n",
       "      <td>...</td>\n",
       "      <td>...</td>\n",
       "      <td>...</td>\n",
       "      <td>...</td>\n",
       "      <td>...</td>\n",
       "      <td>...</td>\n",
       "      <td>...</td>\n",
       "      <td>...</td>\n",
       "      <td>...</td>\n",
       "      <td>...</td>\n",
       "      <td>...</td>\n",
       "      <td>...</td>\n",
       "      <td>...</td>\n",
       "      <td>...</td>\n",
       "      <td>...</td>\n",
       "      <td>...</td>\n",
       "      <td>...</td>\n",
       "    </tr>\n",
       "    <tr>\n",
       "      <th>398</th>\n",
       "      <td>398</td>\n",
       "      <td>2225</td>\n",
       "      <td>Tony Parker</td>\n",
       "      <td>1610612759</td>\n",
       "      <td>SAS</td>\n",
       "      <td>21.0</td>\n",
       "      <td>82</td>\n",
       "      <td>60</td>\n",
       "      <td>22</td>\n",
       "      <td>0.732</td>\n",
       "      <td>...</td>\n",
       "      <td>3.5</td>\n",
       "      <td>0.755</td>\n",
       "      <td>0.4</td>\n",
       "      <td>2.2</td>\n",
       "      <td>2.6</td>\n",
       "      <td>5.3</td>\n",
       "      <td>2.4</td>\n",
       "      <td>0.9</td>\n",
       "      <td>0.0</td>\n",
       "      <td>15.5</td>\n",
       "    </tr>\n",
       "    <tr>\n",
       "      <th>399</th>\n",
       "      <td>399</td>\n",
       "      <td>1503</td>\n",
       "      <td>Tracy McGrady</td>\n",
       "      <td>1610612753</td>\n",
       "      <td>ORL</td>\n",
       "      <td>24.0</td>\n",
       "      <td>75</td>\n",
       "      <td>39</td>\n",
       "      <td>36</td>\n",
       "      <td>0.520</td>\n",
       "      <td>...</td>\n",
       "      <td>9.7</td>\n",
       "      <td>0.793</td>\n",
       "      <td>1.6</td>\n",
       "      <td>4.9</td>\n",
       "      <td>6.5</td>\n",
       "      <td>5.5</td>\n",
       "      <td>2.6</td>\n",
       "      <td>1.7</td>\n",
       "      <td>0.8</td>\n",
       "      <td>32.1</td>\n",
       "    </tr>\n",
       "    <tr>\n",
       "      <th>400</th>\n",
       "      <td>400</td>\n",
       "      <td>145</td>\n",
       "      <td>Tracy Murray</td>\n",
       "      <td>1610612747</td>\n",
       "      <td>LAL</td>\n",
       "      <td>31.0</td>\n",
       "      <td>31</td>\n",
       "      <td>17</td>\n",
       "      <td>14</td>\n",
       "      <td>0.548</td>\n",
       "      <td>...</td>\n",
       "      <td>0.3</td>\n",
       "      <td>0.778</td>\n",
       "      <td>0.2</td>\n",
       "      <td>0.6</td>\n",
       "      <td>0.7</td>\n",
       "      <td>0.4</td>\n",
       "      <td>0.5</td>\n",
       "      <td>0.2</td>\n",
       "      <td>0.1</td>\n",
       "      <td>2.0</td>\n",
       "    </tr>\n",
       "    <tr>\n",
       "      <th>401</th>\n",
       "      <td>401</td>\n",
       "      <td>696</td>\n",
       "      <td>Travis Best</td>\n",
       "      <td>1610612748</td>\n",
       "      <td>MIA</td>\n",
       "      <td>30.0</td>\n",
       "      <td>72</td>\n",
       "      <td>24</td>\n",
       "      <td>48</td>\n",
       "      <td>0.333</td>\n",
       "      <td>...</td>\n",
       "      <td>1.7</td>\n",
       "      <td>0.854</td>\n",
       "      <td>0.4</td>\n",
       "      <td>1.7</td>\n",
       "      <td>2.0</td>\n",
       "      <td>3.5</td>\n",
       "      <td>1.5</td>\n",
       "      <td>0.6</td>\n",
       "      <td>0.1</td>\n",
       "      <td>8.4</td>\n",
       "    </tr>\n",
       "    <tr>\n",
       "      <th>402</th>\n",
       "      <td>402</td>\n",
       "      <td>969</td>\n",
       "      <td>Travis Knight</td>\n",
       "      <td>1610612752</td>\n",
       "      <td>NYK</td>\n",
       "      <td>28.0</td>\n",
       "      <td>32</td>\n",
       "      <td>14</td>\n",
       "      <td>18</td>\n",
       "      <td>0.438</td>\n",
       "      <td>...</td>\n",
       "      <td>0.4</td>\n",
       "      <td>0.769</td>\n",
       "      <td>0.6</td>\n",
       "      <td>1.4</td>\n",
       "      <td>1.9</td>\n",
       "      <td>0.4</td>\n",
       "      <td>0.3</td>\n",
       "      <td>0.3</td>\n",
       "      <td>0.3</td>\n",
       "      <td>1.9</td>\n",
       "    </tr>\n",
       "    <tr>\n",
       "      <th>403</th>\n",
       "      <td>403</td>\n",
       "      <td>1762</td>\n",
       "      <td>Tremaine Fowlkes</td>\n",
       "      <td>1610612746</td>\n",
       "      <td>LAC</td>\n",
       "      <td>27.0</td>\n",
       "      <td>37</td>\n",
       "      <td>13</td>\n",
       "      <td>24</td>\n",
       "      <td>0.351</td>\n",
       "      <td>...</td>\n",
       "      <td>1.6</td>\n",
       "      <td>0.847</td>\n",
       "      <td>1.1</td>\n",
       "      <td>1.7</td>\n",
       "      <td>2.8</td>\n",
       "      <td>0.6</td>\n",
       "      <td>0.5</td>\n",
       "      <td>0.7</td>\n",
       "      <td>0.1</td>\n",
       "      <td>4.4</td>\n",
       "    </tr>\n",
       "    <tr>\n",
       "      <th>404</th>\n",
       "      <td>404</td>\n",
       "      <td>2239</td>\n",
       "      <td>Trenton Hassell</td>\n",
       "      <td>1610612741</td>\n",
       "      <td>CHI</td>\n",
       "      <td>24.0</td>\n",
       "      <td>82</td>\n",
       "      <td>30</td>\n",
       "      <td>52</td>\n",
       "      <td>0.366</td>\n",
       "      <td>...</td>\n",
       "      <td>0.7</td>\n",
       "      <td>0.745</td>\n",
       "      <td>0.5</td>\n",
       "      <td>2.7</td>\n",
       "      <td>3.1</td>\n",
       "      <td>1.8</td>\n",
       "      <td>1.0</td>\n",
       "      <td>0.5</td>\n",
       "      <td>0.7</td>\n",
       "      <td>4.2</td>\n",
       "    </tr>\n",
       "    <tr>\n",
       "      <th>405</th>\n",
       "      <td>405</td>\n",
       "      <td>1607</td>\n",
       "      <td>Troy Hudson</td>\n",
       "      <td>1610612750</td>\n",
       "      <td>MIN</td>\n",
       "      <td>27.0</td>\n",
       "      <td>79</td>\n",
       "      <td>49</td>\n",
       "      <td>30</td>\n",
       "      <td>0.620</td>\n",
       "      <td>...</td>\n",
       "      <td>2.9</td>\n",
       "      <td>0.900</td>\n",
       "      <td>0.5</td>\n",
       "      <td>1.8</td>\n",
       "      <td>2.3</td>\n",
       "      <td>5.7</td>\n",
       "      <td>2.3</td>\n",
       "      <td>0.8</td>\n",
       "      <td>0.1</td>\n",
       "      <td>14.2</td>\n",
       "    </tr>\n",
       "    <tr>\n",
       "      <th>406</th>\n",
       "      <td>406</td>\n",
       "      <td>2211</td>\n",
       "      <td>Troy Murphy</td>\n",
       "      <td>1610612744</td>\n",
       "      <td>GSW</td>\n",
       "      <td>23.0</td>\n",
       "      <td>79</td>\n",
       "      <td>37</td>\n",
       "      <td>42</td>\n",
       "      <td>0.468</td>\n",
       "      <td>...</td>\n",
       "      <td>3.7</td>\n",
       "      <td>0.841</td>\n",
       "      <td>2.9</td>\n",
       "      <td>7.3</td>\n",
       "      <td>10.2</td>\n",
       "      <td>1.3</td>\n",
       "      <td>1.4</td>\n",
       "      <td>0.8</td>\n",
       "      <td>0.4</td>\n",
       "      <td>11.7</td>\n",
       "    </tr>\n",
       "    <tr>\n",
       "      <th>407</th>\n",
       "      <td>407</td>\n",
       "      <td>238</td>\n",
       "      <td>Tyrone Hill</td>\n",
       "      <td>1610612755</td>\n",
       "      <td>PHI</td>\n",
       "      <td>35.0</td>\n",
       "      <td>56</td>\n",
       "      <td>21</td>\n",
       "      <td>35</td>\n",
       "      <td>0.375</td>\n",
       "      <td>...</td>\n",
       "      <td>1.4</td>\n",
       "      <td>0.675</td>\n",
       "      <td>2.3</td>\n",
       "      <td>4.7</td>\n",
       "      <td>7.0</td>\n",
       "      <td>0.7</td>\n",
       "      <td>1.2</td>\n",
       "      <td>0.8</td>\n",
       "      <td>0.5</td>\n",
       "      <td>5.6</td>\n",
       "    </tr>\n",
       "    <tr>\n",
       "      <th>408</th>\n",
       "      <td>408</td>\n",
       "      <td>1731</td>\n",
       "      <td>Tyronn Lue</td>\n",
       "      <td>1610612764</td>\n",
       "      <td>WAS</td>\n",
       "      <td>26.0</td>\n",
       "      <td>75</td>\n",
       "      <td>34</td>\n",
       "      <td>41</td>\n",
       "      <td>0.453</td>\n",
       "      <td>...</td>\n",
       "      <td>1.4</td>\n",
       "      <td>0.875</td>\n",
       "      <td>0.3</td>\n",
       "      <td>1.7</td>\n",
       "      <td>2.0</td>\n",
       "      <td>3.5</td>\n",
       "      <td>1.0</td>\n",
       "      <td>0.6</td>\n",
       "      <td>0.0</td>\n",
       "      <td>8.6</td>\n",
       "    </tr>\n",
       "    <tr>\n",
       "      <th>409</th>\n",
       "      <td>409</td>\n",
       "      <td>2199</td>\n",
       "      <td>Tyson Chandler</td>\n",
       "      <td>1610612741</td>\n",
       "      <td>CHI</td>\n",
       "      <td>20.0</td>\n",
       "      <td>75</td>\n",
       "      <td>28</td>\n",
       "      <td>47</td>\n",
       "      <td>0.373</td>\n",
       "      <td>...</td>\n",
       "      <td>3.9</td>\n",
       "      <td>0.608</td>\n",
       "      <td>2.3</td>\n",
       "      <td>4.6</td>\n",
       "      <td>6.9</td>\n",
       "      <td>1.0</td>\n",
       "      <td>1.8</td>\n",
       "      <td>0.5</td>\n",
       "      <td>1.4</td>\n",
       "      <td>9.2</td>\n",
       "    </tr>\n",
       "    <tr>\n",
       "      <th>410</th>\n",
       "      <td>410</td>\n",
       "      <td>452</td>\n",
       "      <td>Vin Baker</td>\n",
       "      <td>1610612738</td>\n",
       "      <td>BOS</td>\n",
       "      <td>31.0</td>\n",
       "      <td>52</td>\n",
       "      <td>30</td>\n",
       "      <td>22</td>\n",
       "      <td>0.577</td>\n",
       "      <td>...</td>\n",
       "      <td>2.1</td>\n",
       "      <td>0.673</td>\n",
       "      <td>1.7</td>\n",
       "      <td>2.1</td>\n",
       "      <td>3.8</td>\n",
       "      <td>0.6</td>\n",
       "      <td>1.2</td>\n",
       "      <td>0.4</td>\n",
       "      <td>0.6</td>\n",
       "      <td>5.2</td>\n",
       "    </tr>\n",
       "    <tr>\n",
       "      <th>411</th>\n",
       "      <td>411</td>\n",
       "      <td>1713</td>\n",
       "      <td>Vince Carter</td>\n",
       "      <td>1610612761</td>\n",
       "      <td>TOR</td>\n",
       "      <td>26.0</td>\n",
       "      <td>43</td>\n",
       "      <td>18</td>\n",
       "      <td>25</td>\n",
       "      <td>0.419</td>\n",
       "      <td>...</td>\n",
       "      <td>3.7</td>\n",
       "      <td>0.806</td>\n",
       "      <td>1.4</td>\n",
       "      <td>3.0</td>\n",
       "      <td>4.4</td>\n",
       "      <td>3.3</td>\n",
       "      <td>1.7</td>\n",
       "      <td>1.1</td>\n",
       "      <td>1.0</td>\n",
       "      <td>20.6</td>\n",
       "    </tr>\n",
       "    <tr>\n",
       "      <th>412</th>\n",
       "      <td>412</td>\n",
       "      <td>2428</td>\n",
       "      <td>Vincent Yarbrough</td>\n",
       "      <td>1610612743</td>\n",
       "      <td>DEN</td>\n",
       "      <td>22.0</td>\n",
       "      <td>59</td>\n",
       "      <td>9</td>\n",
       "      <td>50</td>\n",
       "      <td>0.153</td>\n",
       "      <td>...</td>\n",
       "      <td>1.1</td>\n",
       "      <td>0.790</td>\n",
       "      <td>0.6</td>\n",
       "      <td>2.1</td>\n",
       "      <td>2.7</td>\n",
       "      <td>2.2</td>\n",
       "      <td>1.4</td>\n",
       "      <td>1.0</td>\n",
       "      <td>0.6</td>\n",
       "      <td>6.9</td>\n",
       "    </tr>\n",
       "    <tr>\n",
       "      <th>413</th>\n",
       "      <td>413</td>\n",
       "      <td>958</td>\n",
       "      <td>Vitaly Potapenko</td>\n",
       "      <td>1610612760</td>\n",
       "      <td>SEA</td>\n",
       "      <td>28.0</td>\n",
       "      <td>26</td>\n",
       "      <td>8</td>\n",
       "      <td>18</td>\n",
       "      <td>0.308</td>\n",
       "      <td>...</td>\n",
       "      <td>1.1</td>\n",
       "      <td>0.759</td>\n",
       "      <td>1.0</td>\n",
       "      <td>2.5</td>\n",
       "      <td>3.4</td>\n",
       "      <td>0.2</td>\n",
       "      <td>1.0</td>\n",
       "      <td>0.3</td>\n",
       "      <td>0.3</td>\n",
       "      <td>4.0</td>\n",
       "    </tr>\n",
       "    <tr>\n",
       "      <th>414</th>\n",
       "      <td>414</td>\n",
       "      <td>124</td>\n",
       "      <td>Vlade Divac</td>\n",
       "      <td>1610612758</td>\n",
       "      <td>SAC</td>\n",
       "      <td>35.0</td>\n",
       "      <td>80</td>\n",
       "      <td>59</td>\n",
       "      <td>21</td>\n",
       "      <td>0.738</td>\n",
       "      <td>...</td>\n",
       "      <td>3.1</td>\n",
       "      <td>0.713</td>\n",
       "      <td>2.0</td>\n",
       "      <td>5.2</td>\n",
       "      <td>7.2</td>\n",
       "      <td>3.4</td>\n",
       "      <td>1.9</td>\n",
       "      <td>1.0</td>\n",
       "      <td>1.3</td>\n",
       "      <td>9.9</td>\n",
       "    </tr>\n",
       "    <tr>\n",
       "      <th>415</th>\n",
       "      <td>415</td>\n",
       "      <td>2209</td>\n",
       "      <td>Vladimir Radmanovic</td>\n",
       "      <td>1610612760</td>\n",
       "      <td>SEA</td>\n",
       "      <td>22.0</td>\n",
       "      <td>72</td>\n",
       "      <td>36</td>\n",
       "      <td>36</td>\n",
       "      <td>0.500</td>\n",
       "      <td>...</td>\n",
       "      <td>1.4</td>\n",
       "      <td>0.706</td>\n",
       "      <td>1.1</td>\n",
       "      <td>3.4</td>\n",
       "      <td>4.5</td>\n",
       "      <td>1.3</td>\n",
       "      <td>1.4</td>\n",
       "      <td>0.9</td>\n",
       "      <td>0.3</td>\n",
       "      <td>10.1</td>\n",
       "    </tr>\n",
       "    <tr>\n",
       "      <th>416</th>\n",
       "      <td>416</td>\n",
       "      <td>1735</td>\n",
       "      <td>Vladimir Stepania</td>\n",
       "      <td>1610612748</td>\n",
       "      <td>MIA</td>\n",
       "      <td>27.0</td>\n",
       "      <td>79</td>\n",
       "      <td>24</td>\n",
       "      <td>55</td>\n",
       "      <td>0.304</td>\n",
       "      <td>...</td>\n",
       "      <td>1.7</td>\n",
       "      <td>0.530</td>\n",
       "      <td>2.7</td>\n",
       "      <td>4.3</td>\n",
       "      <td>7.0</td>\n",
       "      <td>0.3</td>\n",
       "      <td>0.9</td>\n",
       "      <td>0.6</td>\n",
       "      <td>0.5</td>\n",
       "      <td>5.6</td>\n",
       "    </tr>\n",
       "    <tr>\n",
       "      <th>417</th>\n",
       "      <td>417</td>\n",
       "      <td>702</td>\n",
       "      <td>Voshon Lenard</td>\n",
       "      <td>1610612761</td>\n",
       "      <td>TOR</td>\n",
       "      <td>30.0</td>\n",
       "      <td>63</td>\n",
       "      <td>21</td>\n",
       "      <td>42</td>\n",
       "      <td>0.333</td>\n",
       "      <td>...</td>\n",
       "      <td>3.1</td>\n",
       "      <td>0.804</td>\n",
       "      <td>0.8</td>\n",
       "      <td>2.6</td>\n",
       "      <td>3.4</td>\n",
       "      <td>2.3</td>\n",
       "      <td>1.6</td>\n",
       "      <td>0.9</td>\n",
       "      <td>0.3</td>\n",
       "      <td>14.3</td>\n",
       "    </tr>\n",
       "    <tr>\n",
       "      <th>418</th>\n",
       "      <td>418</td>\n",
       "      <td>1887</td>\n",
       "      <td>Wally Szczerbiak</td>\n",
       "      <td>1610612750</td>\n",
       "      <td>MIN</td>\n",
       "      <td>26.0</td>\n",
       "      <td>52</td>\n",
       "      <td>35</td>\n",
       "      <td>17</td>\n",
       "      <td>0.673</td>\n",
       "      <td>...</td>\n",
       "      <td>3.3</td>\n",
       "      <td>0.867</td>\n",
       "      <td>1.0</td>\n",
       "      <td>3.6</td>\n",
       "      <td>4.6</td>\n",
       "      <td>2.6</td>\n",
       "      <td>1.7</td>\n",
       "      <td>0.8</td>\n",
       "      <td>0.4</td>\n",
       "      <td>17.6</td>\n",
       "    </tr>\n",
       "    <tr>\n",
       "      <th>419</th>\n",
       "      <td>419</td>\n",
       "      <td>1005</td>\n",
       "      <td>Walt Williams</td>\n",
       "      <td>1610612742</td>\n",
       "      <td>DAL</td>\n",
       "      <td>33.0</td>\n",
       "      <td>66</td>\n",
       "      <td>49</td>\n",
       "      <td>17</td>\n",
       "      <td>0.742</td>\n",
       "      <td>...</td>\n",
       "      <td>0.8</td>\n",
       "      <td>0.620</td>\n",
       "      <td>0.8</td>\n",
       "      <td>2.3</td>\n",
       "      <td>3.1</td>\n",
       "      <td>0.9</td>\n",
       "      <td>0.5</td>\n",
       "      <td>0.6</td>\n",
       "      <td>0.4</td>\n",
       "      <td>5.5</td>\n",
       "    </tr>\n",
       "    <tr>\n",
       "      <th>420</th>\n",
       "      <td>420</td>\n",
       "      <td>962</td>\n",
       "      <td>Walter McCarty</td>\n",
       "      <td>1610612738</td>\n",
       "      <td>BOS</td>\n",
       "      <td>29.0</td>\n",
       "      <td>82</td>\n",
       "      <td>44</td>\n",
       "      <td>38</td>\n",
       "      <td>0.537</td>\n",
       "      <td>...</td>\n",
       "      <td>1.2</td>\n",
       "      <td>0.622</td>\n",
       "      <td>0.8</td>\n",
       "      <td>2.7</td>\n",
       "      <td>3.5</td>\n",
       "      <td>1.3</td>\n",
       "      <td>0.8</td>\n",
       "      <td>1.0</td>\n",
       "      <td>0.3</td>\n",
       "      <td>6.1</td>\n",
       "    </tr>\n",
       "    <tr>\n",
       "      <th>421</th>\n",
       "      <td>421</td>\n",
       "      <td>1917</td>\n",
       "      <td>Wang Zhi-zhi</td>\n",
       "      <td>1610612746</td>\n",
       "      <td>LAC</td>\n",
       "      <td>25.0</td>\n",
       "      <td>41</td>\n",
       "      <td>13</td>\n",
       "      <td>28</td>\n",
       "      <td>0.317</td>\n",
       "      <td>...</td>\n",
       "      <td>1.4</td>\n",
       "      <td>0.724</td>\n",
       "      <td>0.6</td>\n",
       "      <td>1.2</td>\n",
       "      <td>1.9</td>\n",
       "      <td>0.2</td>\n",
       "      <td>0.8</td>\n",
       "      <td>0.2</td>\n",
       "      <td>0.2</td>\n",
       "      <td>4.4</td>\n",
       "    </tr>\n",
       "    <tr>\n",
       "      <th>422</th>\n",
       "      <td>422</td>\n",
       "      <td>445</td>\n",
       "      <td>Wesley Person</td>\n",
       "      <td>1610612763</td>\n",
       "      <td>MEM</td>\n",
       "      <td>32.0</td>\n",
       "      <td>66</td>\n",
       "      <td>23</td>\n",
       "      <td>43</td>\n",
       "      <td>0.348</td>\n",
       "      <td>...</td>\n",
       "      <td>1.5</td>\n",
       "      <td>0.814</td>\n",
       "      <td>0.4</td>\n",
       "      <td>2.5</td>\n",
       "      <td>2.9</td>\n",
       "      <td>1.7</td>\n",
       "      <td>0.8</td>\n",
       "      <td>0.6</td>\n",
       "      <td>0.3</td>\n",
       "      <td>11.0</td>\n",
       "    </tr>\n",
       "    <tr>\n",
       "      <th>423</th>\n",
       "      <td>423</td>\n",
       "      <td>2397</td>\n",
       "      <td>Yao Ming</td>\n",
       "      <td>1610612745</td>\n",
       "      <td>HOU</td>\n",
       "      <td>22.0</td>\n",
       "      <td>82</td>\n",
       "      <td>43</td>\n",
       "      <td>39</td>\n",
       "      <td>0.524</td>\n",
       "      <td>...</td>\n",
       "      <td>4.5</td>\n",
       "      <td>0.811</td>\n",
       "      <td>2.4</td>\n",
       "      <td>5.8</td>\n",
       "      <td>8.2</td>\n",
       "      <td>1.7</td>\n",
       "      <td>2.1</td>\n",
       "      <td>0.4</td>\n",
       "      <td>1.8</td>\n",
       "      <td>13.5</td>\n",
       "    </tr>\n",
       "    <tr>\n",
       "      <th>424</th>\n",
       "      <td>424</td>\n",
       "      <td>2216</td>\n",
       "      <td>Zach Randolph</td>\n",
       "      <td>1610612757</td>\n",
       "      <td>POR</td>\n",
       "      <td>21.0</td>\n",
       "      <td>77</td>\n",
       "      <td>48</td>\n",
       "      <td>29</td>\n",
       "      <td>0.623</td>\n",
       "      <td>...</td>\n",
       "      <td>2.1</td>\n",
       "      <td>0.758</td>\n",
       "      <td>1.8</td>\n",
       "      <td>2.6</td>\n",
       "      <td>4.5</td>\n",
       "      <td>0.5</td>\n",
       "      <td>0.8</td>\n",
       "      <td>0.5</td>\n",
       "      <td>0.2</td>\n",
       "      <td>8.4</td>\n",
       "    </tr>\n",
       "    <tr>\n",
       "      <th>425</th>\n",
       "      <td>425</td>\n",
       "      <td>1442</td>\n",
       "      <td>Zeljko Rebraca</td>\n",
       "      <td>1610612765</td>\n",
       "      <td>DET</td>\n",
       "      <td>31.0</td>\n",
       "      <td>30</td>\n",
       "      <td>20</td>\n",
       "      <td>10</td>\n",
       "      <td>0.667</td>\n",
       "      <td>...</td>\n",
       "      <td>1.6</td>\n",
       "      <td>0.792</td>\n",
       "      <td>0.9</td>\n",
       "      <td>2.2</td>\n",
       "      <td>3.1</td>\n",
       "      <td>0.3</td>\n",
       "      <td>1.0</td>\n",
       "      <td>0.2</td>\n",
       "      <td>0.6</td>\n",
       "      <td>6.6</td>\n",
       "    </tr>\n",
       "    <tr>\n",
       "      <th>426</th>\n",
       "      <td>426</td>\n",
       "      <td>1985</td>\n",
       "      <td>Zendon Hamilton</td>\n",
       "      <td>1610612761</td>\n",
       "      <td>TOR</td>\n",
       "      <td>28.0</td>\n",
       "      <td>3</td>\n",
       "      <td>2</td>\n",
       "      <td>1</td>\n",
       "      <td>0.667</td>\n",
       "      <td>...</td>\n",
       "      <td>0.7</td>\n",
       "      <td>1.000</td>\n",
       "      <td>0.3</td>\n",
       "      <td>1.0</td>\n",
       "      <td>1.3</td>\n",
       "      <td>0.0</td>\n",
       "      <td>0.3</td>\n",
       "      <td>0.3</td>\n",
       "      <td>0.0</td>\n",
       "      <td>2.0</td>\n",
       "    </tr>\n",
       "    <tr>\n",
       "      <th>427</th>\n",
       "      <td>427</td>\n",
       "      <td>980</td>\n",
       "      <td>Zydrunas Ilgauskas</td>\n",
       "      <td>1610612739</td>\n",
       "      <td>CLE</td>\n",
       "      <td>28.0</td>\n",
       "      <td>81</td>\n",
       "      <td>17</td>\n",
       "      <td>64</td>\n",
       "      <td>0.210</td>\n",
       "      <td>...</td>\n",
       "      <td>6.3</td>\n",
       "      <td>0.781</td>\n",
       "      <td>3.0</td>\n",
       "      <td>4.6</td>\n",
       "      <td>7.5</td>\n",
       "      <td>1.6</td>\n",
       "      <td>2.6</td>\n",
       "      <td>0.7</td>\n",
       "      <td>1.9</td>\n",
       "      <td>17.2</td>\n",
       "    </tr>\n",
       "  </tbody>\n",
       "</table>\n",
       "<p>428 rows × 28 columns</p>\n",
       "</div>"
      ],
      "text/plain": [
       "     Unnamed: 0  PLAYER_ID          PLAYER_NAME     TEAM_ID TEAM_ABBREVIATION  \\\n",
       "0             0       2062          A.J. Guyton  1610612744               GSW   \n",
       "1             1        243          Aaron McKie  1610612755               PHI   \n",
       "2             2       1425       Aaron Williams  1610612751               NJN   \n",
       "3             3       2492      Adam Harrington  1610612743               DEN   \n",
       "4             4       1502         Adonal Foyle  1610612744               GSW   \n",
       "5             5       1559       Adrian Griffin  1610612742               DAL   \n",
       "6             6       1733        Al Harrington  1610612754               IND   \n",
       "7             7        673       Alan Henderson  1610612737               ATL   \n",
       "8             8        275        Allan Houston  1610612752               NYK   \n",
       "9             9        947        Allen Iverson  1610612755               PHI   \n",
       "10           10       2228           Alton Ford  1610612756               PHX   \n",
       "11           11       1541       Alvin Williams  1610612761               TOR   \n",
       "12           12       1043       Amal McCaskill  1610612737               ATL   \n",
       "13           13       2405    Amar'e Stoudemire  1610612756               PHX   \n",
       "14           14       1889         Andre Miller  1610612746               LAC   \n",
       "15           15       1905     Andrei Kirilenko  1610612762               UTA   \n",
       "16           16        692      Andrew DeClercq  1610612753               ORL   \n",
       "17           17        358    Anfernee Hardaway  1610612756               PHX   \n",
       "18           18       1738           Ansu Sesay  1610612760               SEA   \n",
       "19           19       1712       Antawn Jamison  1610612744               GSW   \n",
       "20           20       1853       Anthony Carter  1610612748               MIA   \n",
       "21           21        924     Anthony Goldwire  1610612764               WAS   \n",
       "22           22       1533      Anthony Johnson  1610612751               NJN   \n",
       "23           23        193        Anthony Mason  1610612749               MIL   \n",
       "24           24        324       Anthony Peeler  1610612750               MIN   \n",
       "25           25       2541    Antoine Rigaudeau  1610612742               DAL   \n",
       "26           26        952       Antoine Walker  1610612738               BOS   \n",
       "27           27       1498      Antonio Daniels  1610612757               POR   \n",
       "28           28        213        Antonio Davis  1610612761               TOR   \n",
       "29           29        176       Antonio Harvey  1610612737               ATL   \n",
       "..          ...        ...                  ...         ...               ...   \n",
       "398         398       2225          Tony Parker  1610612759               SAS   \n",
       "399         399       1503        Tracy McGrady  1610612753               ORL   \n",
       "400         400        145         Tracy Murray  1610612747               LAL   \n",
       "401         401        696          Travis Best  1610612748               MIA   \n",
       "402         402        969        Travis Knight  1610612752               NYK   \n",
       "403         403       1762     Tremaine Fowlkes  1610612746               LAC   \n",
       "404         404       2239      Trenton Hassell  1610612741               CHI   \n",
       "405         405       1607          Troy Hudson  1610612750               MIN   \n",
       "406         406       2211          Troy Murphy  1610612744               GSW   \n",
       "407         407        238          Tyrone Hill  1610612755               PHI   \n",
       "408         408       1731           Tyronn Lue  1610612764               WAS   \n",
       "409         409       2199       Tyson Chandler  1610612741               CHI   \n",
       "410         410        452            Vin Baker  1610612738               BOS   \n",
       "411         411       1713         Vince Carter  1610612761               TOR   \n",
       "412         412       2428    Vincent Yarbrough  1610612743               DEN   \n",
       "413         413        958     Vitaly Potapenko  1610612760               SEA   \n",
       "414         414        124          Vlade Divac  1610612758               SAC   \n",
       "415         415       2209  Vladimir Radmanovic  1610612760               SEA   \n",
       "416         416       1735    Vladimir Stepania  1610612748               MIA   \n",
       "417         417        702        Voshon Lenard  1610612761               TOR   \n",
       "418         418       1887     Wally Szczerbiak  1610612750               MIN   \n",
       "419         419       1005        Walt Williams  1610612742               DAL   \n",
       "420         420        962       Walter McCarty  1610612738               BOS   \n",
       "421         421       1917         Wang Zhi-zhi  1610612746               LAC   \n",
       "422         422        445        Wesley Person  1610612763               MEM   \n",
       "423         423       2397             Yao Ming  1610612745               HOU   \n",
       "424         424       2216        Zach Randolph  1610612757               POR   \n",
       "425         425       1442       Zeljko Rebraca  1610612765               DET   \n",
       "426         426       1985      Zendon Hamilton  1610612761               TOR   \n",
       "427         427        980   Zydrunas Ilgauskas  1610612739               CLE   \n",
       "\n",
       "      AGE  GP   W   L  W_PCT  ...   FTA  FT_PCT  OREB  DREB   REB  AST  TOV  \\\n",
       "0    25.0   2   1   1  0.500  ...   0.0   0.000   0.0   0.0   0.0  1.0  0.5   \n",
       "1    30.0  80  47  33  0.588  ...   1.7   0.836   0.8   3.6   4.4  3.5  1.4   \n",
       "2    31.0  81  49  32  0.605  ...   1.6   0.785   1.7   2.4   4.1  1.1  1.0   \n",
       "3    22.0  19  13   6  0.684  ...   0.2   0.750   0.1   0.4   0.4  0.6  0.1   \n",
       "4    28.0  82  38  44  0.463  ...   1.3   0.673   2.1   3.8   6.0  0.5  0.9   \n",
       "5    28.0  74  56  18  0.757  ...   0.4   0.844   1.2   2.4   3.6  1.4  0.6   \n",
       "6    23.0  82  48  34  0.585  ...   3.3   0.770   1.9   4.3   6.2  1.5  2.0   \n",
       "7    30.0  82  35  47  0.427  ...   1.7   0.638   1.9   3.0   4.9  0.5  0.7   \n",
       "8    32.0  82  37  45  0.451  ...   4.8   0.919   0.3   2.5   2.8  2.7  2.2   \n",
       "9    28.0  82  48  34  0.585  ...   9.0   0.774   0.8   3.4   4.2  5.5  3.5   \n",
       "10   22.0  11   3   8  0.273  ...   0.3   0.333   0.0   0.5   0.5  0.1  0.2   \n",
       "11   28.0  78  24  54  0.308  ...   3.1   0.782   0.7   2.4   3.1  5.3  1.6   \n",
       "12   29.0  11   4   7  0.364  ...   0.4   0.750   0.6   1.4   2.0  0.5  0.2   \n",
       "13   20.0  82  44  38  0.537  ...   5.9   0.661   3.0   5.7   8.8  1.0  2.3   \n",
       "14   27.0  80  27  53  0.338  ...   4.9   0.795   1.1   2.9   4.0  6.7  2.6   \n",
       "15   22.0  80  46  34  0.575  ...   4.6   0.800   1.8   3.4   5.3  1.7  1.7   \n",
       "16   30.0  77  38  39  0.494  ...   1.4   0.644   1.8   2.6   4.4  0.7  1.1   \n",
       "17   31.0  58  34  24  0.586  ...   1.7   0.794   1.1   3.3   4.4  4.1  2.5   \n",
       "18   26.0  45  21  24  0.467  ...   0.5   0.571   0.8   0.9   1.6  0.5  0.6   \n",
       "19   27.0  82  38  44  0.463  ...   5.8   0.789   2.4   4.7   7.0  1.9  2.2   \n",
       "20   28.0  49  11  38  0.224  ...   1.0   0.660   0.2   1.4   1.7  4.1  1.7   \n",
       "21   31.0  15   9   6  0.600  ...   0.5   0.571   0.0   0.4   0.4  0.3  0.4   \n",
       "22   28.0  66  41  25  0.621  ...   1.1   0.689   0.2   1.0   1.2  1.3  0.6   \n",
       "23   36.0  65  33  32  0.508  ...   1.8   0.718   1.4   5.0   6.4  3.2  1.2   \n",
       "24   33.0  82  51  31  0.622  ...   0.6   0.780   0.5   2.5   2.9  3.0  1.0   \n",
       "25   31.0  11   8   3  0.727  ...   0.0   0.000   0.4   0.4   0.7  0.5  0.5   \n",
       "26   26.0  78  42  36  0.538  ...   3.7   0.615   1.3   5.9   7.2  4.8  3.3   \n",
       "27   28.0  67  39  28  0.582  ...   1.1   0.855   0.2   0.9   1.1  1.3  0.5   \n",
       "28   34.0  53  19  34  0.358  ...   5.3   0.771   2.5   5.8   8.2  2.5  2.2   \n",
       "29   32.0   4   3   1  0.750  ...   0.0   0.000   0.3   1.3   1.5  0.0  0.8   \n",
       "..    ...  ..  ..  ..    ...  ...   ...     ...   ...   ...   ...  ...  ...   \n",
       "398  21.0  82  60  22  0.732  ...   3.5   0.755   0.4   2.2   2.6  5.3  2.4   \n",
       "399  24.0  75  39  36  0.520  ...   9.7   0.793   1.6   4.9   6.5  5.5  2.6   \n",
       "400  31.0  31  17  14  0.548  ...   0.3   0.778   0.2   0.6   0.7  0.4  0.5   \n",
       "401  30.0  72  24  48  0.333  ...   1.7   0.854   0.4   1.7   2.0  3.5  1.5   \n",
       "402  28.0  32  14  18  0.438  ...   0.4   0.769   0.6   1.4   1.9  0.4  0.3   \n",
       "403  27.0  37  13  24  0.351  ...   1.6   0.847   1.1   1.7   2.8  0.6  0.5   \n",
       "404  24.0  82  30  52  0.366  ...   0.7   0.745   0.5   2.7   3.1  1.8  1.0   \n",
       "405  27.0  79  49  30  0.620  ...   2.9   0.900   0.5   1.8   2.3  5.7  2.3   \n",
       "406  23.0  79  37  42  0.468  ...   3.7   0.841   2.9   7.3  10.2  1.3  1.4   \n",
       "407  35.0  56  21  35  0.375  ...   1.4   0.675   2.3   4.7   7.0  0.7  1.2   \n",
       "408  26.0  75  34  41  0.453  ...   1.4   0.875   0.3   1.7   2.0  3.5  1.0   \n",
       "409  20.0  75  28  47  0.373  ...   3.9   0.608   2.3   4.6   6.9  1.0  1.8   \n",
       "410  31.0  52  30  22  0.577  ...   2.1   0.673   1.7   2.1   3.8  0.6  1.2   \n",
       "411  26.0  43  18  25  0.419  ...   3.7   0.806   1.4   3.0   4.4  3.3  1.7   \n",
       "412  22.0  59   9  50  0.153  ...   1.1   0.790   0.6   2.1   2.7  2.2  1.4   \n",
       "413  28.0  26   8  18  0.308  ...   1.1   0.759   1.0   2.5   3.4  0.2  1.0   \n",
       "414  35.0  80  59  21  0.738  ...   3.1   0.713   2.0   5.2   7.2  3.4  1.9   \n",
       "415  22.0  72  36  36  0.500  ...   1.4   0.706   1.1   3.4   4.5  1.3  1.4   \n",
       "416  27.0  79  24  55  0.304  ...   1.7   0.530   2.7   4.3   7.0  0.3  0.9   \n",
       "417  30.0  63  21  42  0.333  ...   3.1   0.804   0.8   2.6   3.4  2.3  1.6   \n",
       "418  26.0  52  35  17  0.673  ...   3.3   0.867   1.0   3.6   4.6  2.6  1.7   \n",
       "419  33.0  66  49  17  0.742  ...   0.8   0.620   0.8   2.3   3.1  0.9  0.5   \n",
       "420  29.0  82  44  38  0.537  ...   1.2   0.622   0.8   2.7   3.5  1.3  0.8   \n",
       "421  25.0  41  13  28  0.317  ...   1.4   0.724   0.6   1.2   1.9  0.2  0.8   \n",
       "422  32.0  66  23  43  0.348  ...   1.5   0.814   0.4   2.5   2.9  1.7  0.8   \n",
       "423  22.0  82  43  39  0.524  ...   4.5   0.811   2.4   5.8   8.2  1.7  2.1   \n",
       "424  21.0  77  48  29  0.623  ...   2.1   0.758   1.8   2.6   4.5  0.5  0.8   \n",
       "425  31.0  30  20  10  0.667  ...   1.6   0.792   0.9   2.2   3.1  0.3  1.0   \n",
       "426  28.0   3   2   1  0.667  ...   0.7   1.000   0.3   1.0   1.3  0.0  0.3   \n",
       "427  28.0  81  17  64  0.210  ...   6.3   0.781   3.0   4.6   7.5  1.6  2.6   \n",
       "\n",
       "     STL  BLK   PTS  \n",
       "0    0.5  0.0   0.0  \n",
       "1    1.6  0.1   9.0  \n",
       "2    0.3  0.7   6.2  \n",
       "3    0.1  0.1   1.6  \n",
       "4    0.5  2.5   5.4  \n",
       "5    1.0  0.1   4.4  \n",
       "6    0.9  0.4  12.2  \n",
       "7    0.4  0.4   4.8  \n",
       "8    0.7  0.1  22.5  \n",
       "9    2.7  0.2  27.6  \n",
       "10   0.0  0.0   0.6  \n",
       "11   1.4  0.3  13.2  \n",
       "12   0.3  0.1   1.0  \n",
       "13   0.8  1.1  13.5  \n",
       "14   1.2  0.1  13.6  \n",
       "15   1.5  2.2  12.0  \n",
       "16   0.5  0.5   4.7  \n",
       "17   1.1  0.4  10.6  \n",
       "18   0.3  0.1   2.1  \n",
       "19   0.9  0.5  22.2  \n",
       "20   0.9  0.1   4.1  \n",
       "21   0.2  0.0   1.7  \n",
       "22   0.6  0.1   4.1  \n",
       "23   0.5  0.2   7.2  \n",
       "24   0.9  0.2   7.7  \n",
       "25   0.3  0.0   1.5  \n",
       "26   1.5  0.4  20.1  \n",
       "27   0.5  0.1   3.7  \n",
       "28   0.4  1.2  13.9  \n",
       "29   0.3  1.0   1.0  \n",
       "..   ...  ...   ...  \n",
       "398  0.9  0.0  15.5  \n",
       "399  1.7  0.8  32.1  \n",
       "400  0.2  0.1   2.0  \n",
       "401  0.6  0.1   8.4  \n",
       "402  0.3  0.3   1.9  \n",
       "403  0.7  0.1   4.4  \n",
       "404  0.5  0.7   4.2  \n",
       "405  0.8  0.1  14.2  \n",
       "406  0.8  0.4  11.7  \n",
       "407  0.8  0.5   5.6  \n",
       "408  0.6  0.0   8.6  \n",
       "409  0.5  1.4   9.2  \n",
       "410  0.4  0.6   5.2  \n",
       "411  1.1  1.0  20.6  \n",
       "412  1.0  0.6   6.9  \n",
       "413  0.3  0.3   4.0  \n",
       "414  1.0  1.3   9.9  \n",
       "415  0.9  0.3  10.1  \n",
       "416  0.6  0.5   5.6  \n",
       "417  0.9  0.3  14.3  \n",
       "418  0.8  0.4  17.6  \n",
       "419  0.6  0.4   5.5  \n",
       "420  1.0  0.3   6.1  \n",
       "421  0.2  0.2   4.4  \n",
       "422  0.6  0.3  11.0  \n",
       "423  0.4  1.8  13.5  \n",
       "424  0.5  0.2   8.4  \n",
       "425  0.2  0.6   6.6  \n",
       "426  0.3  0.0   2.0  \n",
       "427  0.7  1.9  17.2  \n",
       "\n",
       "[428 rows x 28 columns]"
      ]
     },
     "execution_count": 5,
     "metadata": {},
     "output_type": "execute_result"
    }
   ],
   "source": [
    "df_2002"
   ]
  },
  {
   "cell_type": "code",
   "execution_count": 6,
   "metadata": {},
   "outputs": [
    {
     "data": {
      "text/plain": [
       "<matplotlib.axes._subplots.AxesSubplot at 0x1a16e80470>"
      ]
     },
     "execution_count": 6,
     "metadata": {},
     "output_type": "execute_result"
    },
    {
     "data": {
      "image/png": "[encoded data removed]",
      "text/plain": [
       "<matplotlib.figure.Figure at 0x1a16e80ef0>"
      ]
     },
     "metadata": {},
     "output_type": "display_data"
    }
   ],
   "source": [
    "df_2002['PTS'].plot.hist(bins=40)"
   ]
  },
  {
   "cell_type": "code",
   "execution_count": 7,
   "metadata": {},
   "outputs": [
    {
     "data": {
      "text/plain": [
       "Index(['PLAYER_ID', 'PLAYER_NAME', 'TEAM_ID', 'TEAM_ABBREVIATION', 'AGE', 'GP',\n",
       "       'W', 'L', 'W_PCT', 'MIN', 'FGM', 'FGA', 'FG_PCT', 'FG3M', 'FG3A',\n",
       "       'FG3_PCT', 'FTM', 'FTA', 'FT_PCT', 'OREB', 'DREB', 'REB', 'AST', 'TOV',\n",
       "       'STL', 'BLK', 'PTS'],\n",
       "      dtype='object')"
      ]
     },
     "execution_count": 7,
     "metadata": {},
     "output_type": "execute_result"
    }
   ],
   "source": [
    "df_2002.columns[1:]\n",
    "#pts_2016 = df_2016.as_matrix(columns=df_2016.columns[27:])\n",
    "#x = pts_2016 #The array needs to be larger than 20, just an example\n",
    "#mx = ma.masked_array(x)\n",
    "#z,pval = mstats.normaltest(mx)\n",
    "\n",
    "#if(pval < 0.055):\n",
    "#   print(\"Not normal distribution\")"
   ]
  },
  {
   "cell_type": "code",
   "execution_count": 8,
   "metadata": {},
   "outputs": [
    {
     "name": "stdout",
     "output_type": "stream",
     "text": [
      "78.4220475308 9.35123021528e-18\n",
      "PTS Is Normal Dist\n"
     ]
    }
   ],
   "source": [
    "z,pval = mstats.normaltest(df_2002['PTS'])\n",
    "print(z, pval)\n",
    "if(pval < 0.001):\n",
    "    print('PTS Is Normal Dist')\n",
    "else:\n",
    "    print('PTS Is not Normal Dist')"
   ]
  },
  {
   "cell_type": "code",
   "execution_count": 9,
   "metadata": {},
   "outputs": [
    {
     "data": {
      "text/plain": [
       "<matplotlib.axes._subplots.AxesSubplot at 0x110f7f278>"
      ]
     },
     "execution_count": 9,
     "metadata": {},
     "output_type": "execute_result"
    },
    {
     "data": {
      "image/png": "[encoded data removed]",
      "text/plain": [
       "<matplotlib.figure.Figure at 0x110f37710>"
      ]
     },
     "metadata": {},
     "output_type": "display_data"
    }
   ],
   "source": [
    "df_2002['BLK'].plot.hist(bins=10)"
   ]
  },
  {
   "cell_type": "code",
   "execution_count": 10,
   "metadata": {},
   "outputs": [
    {
     "name": "stdout",
     "output_type": "stream",
     "text": [
      "225.680812715 9.86357118338e-50\n",
      "BLK Is Normal Dist\n"
     ]
    }
   ],
   "source": [
    "z,pval = mstats.normaltest(df_2002['BLK'])\n",
    "print(z, pval)\n",
    "if(pval < 0.001):\n",
    "    print('BLK Is Normal Dist')\n",
    "else:\n",
    "    print('BLK Is not Normal Dist')"
   ]
  },
  {
   "cell_type": "code",
   "execution_count": 11,
   "metadata": {},
   "outputs": [
    {
     "data": {
      "text/plain": [
       "<matplotlib.axes._subplots.AxesSubplot at 0x110f378d0>"
      ]
     },
     "execution_count": 11,
     "metadata": {},
     "output_type": "execute_result"
    },
    {
     "data": {
      "image/png": "[encoded data removed]",
      "text/plain": [
       "<matplotlib.figure.Figure at 0x1a1f2e2a58>"
      ]
     },
     "metadata": {},
     "output_type": "display_data"
    }
   ],
   "source": [
    "df_2002['STL'].plot.hist(bins=15)"
   ]
  },
  {
   "cell_type": "code",
   "execution_count": 12,
   "metadata": {},
   "outputs": [
    {
     "name": "stdout",
     "output_type": "stream",
     "text": [
      "66.8733496984 3.01048605481e-15\n",
      "STL Is Normal Dist\n"
     ]
    }
   ],
   "source": [
    "z,pval = mstats.normaltest(df_2002['STL'])\n",
    "print(z, pval)\n",
    "if(pval < 0.001):\n",
    "    print('STL Is Normal Dist')\n",
    "else:\n",
    "    print('STL Is not Normal Dist')"
   ]
  },
  {
   "cell_type": "code",
   "execution_count": 13,
   "metadata": {},
   "outputs": [
    {
     "data": {
      "text/plain": [
       "<matplotlib.axes._subplots.AxesSubplot at 0x1a1f402a20>"
      ]
     },
     "execution_count": 13,
     "metadata": {},
     "output_type": "execute_result"
    },
    {
     "data": {
      "image/png": "[encoded data removed]",
      "text/plain": [
       "<matplotlib.figure.Figure at 0x1a16e7bd68>"
      ]
     },
     "metadata": {},
     "output_type": "display_data"
    }
   ],
   "source": [
    "df_2002['TOV'].plot.hist(bins=12)"
   ]
  },
  {
   "cell_type": "code",
   "execution_count": 14,
   "metadata": {},
   "outputs": [
    {
     "name": "stdout",
     "output_type": "stream",
     "text": [
      "53.1242243744 2.91220034781e-12\n",
      "TOV Is Normal Dist\n"
     ]
    }
   ],
   "source": [
    "z,pval = mstats.normaltest(df_2002['TOV'])\n",
    "print(z, pval)\n",
    "if(pval < 0.001):\n",
    "    print('TOV Is Normal Dist')\n",
    "else:\n",
    "    print('TOV Is not Normal Dist')"
   ]
  },
  {
   "cell_type": "code",
   "execution_count": 15,
   "metadata": {},
   "outputs": [
    {
     "data": {
      "text/plain": [
       "<matplotlib.axes._subplots.AxesSubplot at 0x1a1f513ba8>"
      ]
     },
     "execution_count": 15,
     "metadata": {},
     "output_type": "execute_result"
    },
    {
     "data": {
      "image/png": "[encoded data removed]",
      "text/plain": [
       "<matplotlib.figure.Figure at 0x1a1f520b00>"
      ]
     },
     "metadata": {},
     "output_type": "display_data"
    }
   ],
   "source": [
    "df_2002['AST'].plot.hist(bins=20)"
   ]
  },
  {
   "cell_type": "code",
   "execution_count": 16,
   "metadata": {},
   "outputs": [
    {
     "name": "stdout",
     "output_type": "stream",
     "text": [
      "129.70247454 6.84645107416e-29\n",
      "AST Is Normal Dist\n"
     ]
    }
   ],
   "source": [
    "z,pval = mstats.normaltest(df_2002['AST'])\n",
    "print(z, pval)\n",
    "if(pval < 0.001):\n",
    "    print('AST Is Normal Dist')\n",
    "else:\n",
    "    print('AST Is not Normal Dist')"
   ]
  },
  {
   "cell_type": "code",
   "execution_count": 17,
   "metadata": {},
   "outputs": [
    {
     "data": {
      "text/plain": [
       "<matplotlib.axes._subplots.AxesSubplot at 0x1a1f6fcba8>"
      ]
     },
     "execution_count": 17,
     "metadata": {},
     "output_type": "execute_result"
    },
    {
     "data": {
      "image/png": "[encoded data removed]",
      "text/plain": [
       "<matplotlib.figure.Figure at 0x1a1f70b470>"
      ]
     },
     "metadata": {},
     "output_type": "display_data"
    }
   ],
   "source": [
    "df_2002['REB'].plot.hist(bins=25)"
   ]
  },
  {
   "cell_type": "code",
   "execution_count": 18,
   "metadata": {},
   "outputs": [
    {
     "name": "stdout",
     "output_type": "stream",
     "text": [
      "87.0392693649 1.25794833017e-19\n",
      "REB Is Normal Dist\n"
     ]
    }
   ],
   "source": [
    "z,pval = mstats.normaltest(df_2002['REB'])\n",
    "print(z, pval)\n",
    "if(pval < 0.001):\n",
    "    print('REB Is Normal Dist')\n",
    "else:\n",
    "    print('REB Is not Normal Dist')"
   ]
  },
  {
   "cell_type": "code",
   "execution_count": 19,
   "metadata": {},
   "outputs": [
    {
     "data": {
      "text/plain": [
       "<matplotlib.axes._subplots.AxesSubplot at 0x1a1f765d30>"
      ]
     },
     "execution_count": 19,
     "metadata": {},
     "output_type": "execute_result"
    },
    {
     "data": {
      "image/png": "[encoded data removed]",
      "text/plain": [
       "<matplotlib.figure.Figure at 0x1a1f70bd30>"
      ]
     },
     "metadata": {},
     "output_type": "display_data"
    }
   ],
   "source": [
    "df_2002['DREB'].plot.hist(bins=25)"
   ]
  },
  {
   "cell_type": "code",
   "execution_count": 20,
   "metadata": {},
   "outputs": [
    {
     "name": "stdout",
     "output_type": "stream",
     "text": [
      "108.884337037 2.27021312188e-24\n",
      "DREB Is Normal Dist\n"
     ]
    }
   ],
   "source": [
    "z,pval = mstats.normaltest(df_2002['DREB'])\n",
    "print(z, pval)\n",
    "if(pval < 0.001):\n",
    "    print('DREB Is Normal Dist')\n",
    "else:\n",
    "    print('DREB Is not Normal Dist')"
   ]
  },
  {
   "cell_type": "code",
   "execution_count": 21,
   "metadata": {},
   "outputs": [
    {
     "data": {
      "text/plain": [
       "<matplotlib.axes._subplots.AxesSubplot at 0x1a1f75e9b0>"
      ]
     },
     "execution_count": 21,
     "metadata": {},
     "output_type": "execute_result"
    },
    {
     "data": {
      "image/png": "[encoded data removed]",
      "text/plain": [
       "<matplotlib.figure.Figure at 0x1a1f982668>"
      ]
     },
     "metadata": {},
     "output_type": "display_data"
    }
   ],
   "source": [
    "df_2002['OREB'].plot.hist(bins=20)"
   ]
  },
  {
   "cell_type": "code",
   "execution_count": 22,
   "metadata": {},
   "outputs": [
    {
     "name": "stdout",
     "output_type": "stream",
     "text": [
      "71.9630732457 2.36274685789e-16\n",
      "OREB Is Normal Dist\n"
     ]
    }
   ],
   "source": [
    "z,pval = mstats.normaltest(df_2002['OREB'])\n",
    "print(z, pval)\n",
    "if(pval < 0.001):\n",
    "    print('OREB Is Normal Dist')\n",
    "else:\n",
    "    print('OREB Is not Normal Dist')"
   ]
  },
  {
   "cell_type": "code",
   "execution_count": 23,
   "metadata": {},
   "outputs": [
    {
     "data": {
      "text/plain": [
       "<matplotlib.axes._subplots.AxesSubplot at 0x1a1f5eb320>"
      ]
     },
     "execution_count": 23,
     "metadata": {},
     "output_type": "execute_result"
    },
    {
     "data": {
      "image/png": "[encoded data removed]",
      "text/plain": [
       "<matplotlib.figure.Figure at 0x1a1f9e3e80>"
      ]
     },
     "metadata": {},
     "output_type": "display_data"
    }
   ],
   "source": [
    "df_2002['FT_PCT'].plot.hist(bins=15)"
   ]
  },
  {
   "cell_type": "code",
   "execution_count": 24,
   "metadata": {},
   "outputs": [
    {
     "name": "stdout",
     "output_type": "stream",
     "text": [
      "210.737825342 1.73325580271e-46\n",
      "FT_PCT Is Normal Dist\n"
     ]
    }
   ],
   "source": [
    "z,pval = mstats.normaltest(df_2002['FT_PCT'])\n",
    "print(z, pval)\n",
    "if(pval < 0.001):\n",
    "    print('FT_PCT Is Normal Dist')\n",
    "else:\n",
    "    print('FT_PCT Is not Normal Dist')"
   ]
  },
  {
   "cell_type": "code",
   "execution_count": 25,
   "metadata": {},
   "outputs": [
    {
     "data": {
      "text/plain": [
       "<matplotlib.axes._subplots.AxesSubplot at 0x1a1fb43b38>"
      ]
     },
     "execution_count": 25,
     "metadata": {},
     "output_type": "execute_result"
    },
    {
     "data": {
      "image/png": "[encoded data removed]",
      "text/plain": [
       "<matplotlib.figure.Figure at 0x1a1faef668>"
      ]
     },
     "metadata": {},
     "output_type": "display_data"
    }
   ],
   "source": [
    "df_2002['FTA'].plot.hist(bins=15)"
   ]
  },
  {
   "cell_type": "code",
   "execution_count": 26,
   "metadata": {},
   "outputs": [
    {
     "name": "stdout",
     "output_type": "stream",
     "text": [
      "152.438701728 7.91327950296e-34\n",
      "FTA Is Normal Dist\n"
     ]
    }
   ],
   "source": [
    "z,pval = mstats.normaltest(df_2002['FTA'])\n",
    "print(z, pval)\n",
    "if(pval < 0.001):\n",
    "    print('FTA Is Normal Dist')\n",
    "else:\n",
    "    print('FTA Is not Normal Dist')"
   ]
  },
  {
   "cell_type": "code",
   "execution_count": 27,
   "metadata": {},
   "outputs": [
    {
     "data": {
      "text/plain": [
       "<matplotlib.axes._subplots.AxesSubplot at 0x1a1fb3d4e0>"
      ]
     },
     "execution_count": 27,
     "metadata": {},
     "output_type": "execute_result"
    },
    {
     "data": {
      "image/png": "[encoded data removed]",
      "text/plain": [
       "<matplotlib.figure.Figure at 0x1a1fc02550>"
      ]
     },
     "metadata": {},
     "output_type": "display_data"
    }
   ],
   "source": [
    "df_2002['FTM'].plot.hist(bins=15)"
   ]
  },
  {
   "cell_type": "code",
   "execution_count": 28,
   "metadata": {},
   "outputs": [
    {
     "name": "stdout",
     "output_type": "stream",
     "text": [
      "147.909406222 7.61869395395e-33\n",
      "FTM Is Normal Dist\n"
     ]
    }
   ],
   "source": [
    "z,pval = mstats.normaltest(df_2002['FTM'])\n",
    "print(z, pval)\n",
    "if(pval < 0.001):\n",
    "    print('FTM Is Normal Dist')\n",
    "else:\n",
    "    print('FTM Is not Normal Dist')"
   ]
  },
  {
   "cell_type": "code",
   "execution_count": 29,
   "metadata": {},
   "outputs": [
    {
     "data": {
      "text/plain": [
       "<matplotlib.axes._subplots.AxesSubplot at 0x1a1fde3198>"
      ]
     },
     "execution_count": 29,
     "metadata": {},
     "output_type": "execute_result"
    },
    {
     "data": {
      "image/png": "[encoded data removed]",
      "text/plain": [
       "<matplotlib.figure.Figure at 0x1a1fcc92e8>"
      ]
     },
     "metadata": {},
     "output_type": "display_data"
    }
   ],
   "source": [
    "df_2002['FG3_PCT'].plot.hist(bins=10)"
   ]
  },
  {
   "cell_type": "code",
   "execution_count": 30,
   "metadata": {},
   "outputs": [
    {
     "name": "stdout",
     "output_type": "stream",
     "text": [
      "5.65072396403 0.0592871920474\n",
      "FG3_PCT Is not Normal Dist\n"
     ]
    }
   ],
   "source": [
    "z,pval = mstats.normaltest(df_2002['FG3_PCT'])\n",
    "print(z, pval)\n",
    "if(pval < 0.001):\n",
    "    print('FG3_PCT Is Normal Dist')\n",
    "else:\n",
    "    print('FG3_PCT Is not Normal Dist')"
   ]
  },
  {
   "cell_type": "code",
   "execution_count": 31,
   "metadata": {},
   "outputs": [
    {
     "data": {
      "text/plain": [
       "<matplotlib.axes._subplots.AxesSubplot at 0x1a1fe34c50>"
      ]
     },
     "execution_count": 31,
     "metadata": {},
     "output_type": "execute_result"
    },
    {
     "data": {
      "image/png": "[encoded data removed]",
      "text/plain": [
       "<matplotlib.figure.Figure at 0x1a1fcd8cf8>"
      ]
     },
     "metadata": {},
     "output_type": "display_data"
    }
   ],
   "source": [
    "df_2002['FG3A'].plot.hist(bins=15)"
   ]
  },
  {
   "cell_type": "code",
   "execution_count": 32,
   "metadata": {},
   "outputs": [
    {
     "name": "stdout",
     "output_type": "stream",
     "text": [
      "91.3502030966 1.45732171836e-20\n",
      "FG3A Is Normal Dist\n"
     ]
    }
   ],
   "source": [
    "z,pval = mstats.normaltest(df_2002['FG3A'])\n",
    "print(z, pval)\n",
    "if(pval < 0.001):\n",
    "    print('FG3A Is Normal Dist')\n",
    "else:\n",
    "    print('FG3A Is not Normal Dist')"
   ]
  },
  {
   "cell_type": "code",
   "execution_count": 33,
   "metadata": {},
   "outputs": [
    {
     "data": {
      "text/plain": [
       "<matplotlib.axes._subplots.AxesSubplot at 0x1a1fe27470>"
      ]
     },
     "execution_count": 33,
     "metadata": {},
     "output_type": "execute_result"
    },
    {
     "data": {
      "image/png": "[encoded data removed]",
      "text/plain": [
       "<matplotlib.figure.Figure at 0x1a20017d30>"
      ]
     },
     "metadata": {},
     "output_type": "display_data"
    }
   ],
   "source": [
    "df_2002['FG3M'].plot.hist(bins=15)"
   ]
  },
  {
   "cell_type": "code",
   "execution_count": 34,
   "metadata": {},
   "outputs": [
    {
     "name": "stdout",
     "output_type": "stream",
     "text": [
      "103.693766136 3.04217910944e-23\n",
      "FG3M Is Normal Dist\n"
     ]
    }
   ],
   "source": [
    "z,pval = mstats.normaltest(df_2002['FG3M'])\n",
    "print(z, pval)\n",
    "if(pval < 0.001):\n",
    "    print('FG3M Is Normal Dist')\n",
    "else:\n",
    "    print('FG3M Is not Normal Dist')"
   ]
  },
  {
   "cell_type": "code",
   "execution_count": 35,
   "metadata": {},
   "outputs": [
    {
     "data": {
      "text/plain": [
       "<matplotlib.axes._subplots.AxesSubplot at 0x1a20131710>"
      ]
     },
     "execution_count": 35,
     "metadata": {},
     "output_type": "execute_result"
    },
    {
     "data": {
      "image/png": "[encoded data removed]",
      "text/plain": [
       "<matplotlib.figure.Figure at 0x1a20034160>"
      ]
     },
     "metadata": {},
     "output_type": "display_data"
    }
   ],
   "source": [
    "df_2002['FG_PCT'].plot.hist(bins=12)"
   ]
  },
  {
   "cell_type": "code",
   "execution_count": 36,
   "metadata": {},
   "outputs": [
    {
     "name": "stdout",
     "output_type": "stream",
     "text": [
      "220.880749027 1.0873134732e-48\n",
      "FG_PCT Is Normal Dist\n"
     ]
    }
   ],
   "source": [
    "z,pval = mstats.normaltest(df_2002['FG_PCT'])\n",
    "print(z, pval)\n",
    "if(pval < 0.001):\n",
    "    print('FG_PCT Is Normal Dist')\n",
    "else:\n",
    "    print('FG_PCT Is not Normal Dist')"
   ]
  },
  {
   "cell_type": "code",
   "execution_count": 37,
   "metadata": {},
   "outputs": [
    {
     "data": {
      "text/plain": [
       "<matplotlib.axes._subplots.AxesSubplot at 0x1a20131a90>"
      ]
     },
     "execution_count": 37,
     "metadata": {},
     "output_type": "execute_result"
    },
    {
     "data": {
      "image/png": "[encoded data removed]",
      "text/plain": [
       "<matplotlib.figure.Figure at 0x1a2025d7f0>"
      ]
     },
     "metadata": {},
     "output_type": "display_data"
    }
   ],
   "source": [
    "df_2002['FGA'].plot.hist(bins=15)"
   ]
  },
  {
   "cell_type": "code",
   "execution_count": 38,
   "metadata": {},
   "outputs": [
    {
     "name": "stdout",
     "output_type": "stream",
     "text": [
      "70.9315215697 3.95745326326e-16\n",
      "FGA Is Normal Dist\n"
     ]
    }
   ],
   "source": [
    "z,pval = mstats.normaltest(df_2002['FGA'])\n",
    "print(z, pval)\n",
    "if(pval < 0.001):\n",
    "    print('FGA Is Normal Dist')\n",
    "else:\n",
    "    print('FGA Is not Normal Dist')"
   ]
  },
  {
   "cell_type": "code",
   "execution_count": 39,
   "metadata": {},
   "outputs": [
    {
     "data": {
      "text/plain": [
       "<matplotlib.axes._subplots.AxesSubplot at 0x1a20276cc0>"
      ]
     },
     "execution_count": 39,
     "metadata": {},
     "output_type": "execute_result"
    },
    {
     "data": {
      "image/png": "[encoded data removed]",
      "text/plain": [
       "<matplotlib.figure.Figure at 0x1a1fe10ba8>"
      ]
     },
     "metadata": {},
     "output_type": "display_data"
    }
   ],
   "source": [
    "df_2002['FGM'].plot.hist(bins=25)"
   ]
  },
  {
   "cell_type": "code",
   "execution_count": 40,
   "metadata": {},
   "outputs": [
    {
     "name": "stdout",
     "output_type": "stream",
     "text": [
      "69.5537632511 7.88119752404e-16\n",
      "FGM Is Normal Dist\n"
     ]
    }
   ],
   "source": [
    "z,pval = mstats.normaltest(df_2002['FGM'])\n",
    "print(z, pval)\n",
    "if(pval < 0.001):\n",
    "    print('FGM Is Normal Dist')\n",
    "else:\n",
    "    print('FGM Is not Normal Dist')"
   ]
  },
  {
   "cell_type": "code",
   "execution_count": 41,
   "metadata": {},
   "outputs": [
    {
     "data": {
      "text/plain": [
       "<matplotlib.axes._subplots.AxesSubplot at 0x1a20498828>"
      ]
     },
     "execution_count": 41,
     "metadata": {},
     "output_type": "execute_result"
    },
    {
     "data": {
      "image/png": "[encoded data removed]",
      "text/plain": [
       "<matplotlib.figure.Figure at 0x1a1fe27550>"
      ]
     },
     "metadata": {},
     "output_type": "display_data"
    }
   ],
   "source": [
    "df_2002['MIN'].plot.hist(bins=25)"
   ]
  },
  {
   "cell_type": "code",
   "execution_count": 42,
   "metadata": {},
   "outputs": [
    {
     "name": "stdout",
     "output_type": "stream",
     "text": [
      "85.8439853843 2.2867328018e-19\n",
      "MIN Is Normal Dist\n"
     ]
    }
   ],
   "source": [
    "z,pval = mstats.normaltest(df_2002['MIN'])\n",
    "print(z, pval)\n",
    "if(pval < 0.001):\n",
    "    print('MIN Is Normal Dist')\n",
    "else:\n",
    "    print('MIN Is not Normal Dist')"
   ]
  },
  {
   "cell_type": "code",
   "execution_count": null,
   "metadata": {
    "collapsed": true
   },
   "outputs": [],
   "source": []
  }
 ],
 "metadata": {
  "kernelspec": {
   "display_name": "Python 3",
   "language": "python",
   "name": "python3"
  },
  "language_info": {
   "codemirror_mode": {
    "name": "ipython",
    "version": 3
   },
   "file_extension": ".py",
   "mimetype": "text/x-python",
   "name": "python",
   "nbconvert_exporter": "python",
   "pygments_lexer": "ipython3",
   "version": "3.6.3"
  }
 },
 "nbformat": 4,
 "nbformat_minor": 2
}
