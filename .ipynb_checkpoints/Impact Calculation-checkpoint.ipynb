{
 "cells": [
  {
   "cell_type": "code",
   "execution_count": null,
   "metadata": {},
   "outputs": [],
   "source": [
    "#Imports\n",
    "%matlibplot inline\n",
    "from scipy import stats\n",
    "\n",
    "import numpy as np\n",
    "import pandas as pd\n",
    "import matplotlib.pyplot as plt"
   ]
  },
  {
   "cell_type": "code",
   "execution_count": null,
   "metadata": {},
   "outputs": [],
   "source": [
    "#list of players stats datafromes\n",
    "lst_players_df = []\n",
    "#over range 0-16 read csv into list\n",
    "for i in range(17):\n",
    "    if i < 10:\n",
    "        lst_players_df.append(pd.read_csv('clean_players_200'+str(i)+'.csv'))\n",
    "    else:\n",
    "        lst_players_df.append(pd.read_csv('clean_players_20'+str(i)+'.csv'))"
   ]
  },
  {
   "cell_type": "code",
   "execution_count": null,
   "metadata": {},
   "outputs": [],
   "source": [
    "#list of average points/pergame for each season\n",
    "lst_yearly_pts_avg = []\n",
    "#list of points/pergame standard deviation for each season\n",
    "lst_yearly_pts_stddev = [] \n",
    "for df in lst_players_df: #for each df in list of player stat df\n",
    "    lst_yearly_pts_avg.append(np.mean(df['PTS']))#calculate avg points and append into list of avgs\n",
    "    lst_yearly_pts_stddev.append(np.std(df['PTS']))#calculate stddev of points and append into list of stddevs\n",
    "\n",
    "\n",
    "#list of average assist/pergame for each season\n",
    "lst_yearly_ast_avg = [] \n",
    "#list of assist/pergame standard deviation for each season\n",
    "lst_yearly_ast_stddev = [] \n",
    "for df in lst_players_df: #for each df in list of player stat df\n",
    "    lst_yearly_ast_avg.append(np.mean(df['AST']))#calculate avg assist and append into list of avgs\n",
    "    lst_yearly_ast_stddev.append(np.std(df['AST']))#calculate stddev of assist and append into list of stddevs\n",
    "\n",
    "#list of average turnover/pergame for each season\n",
    "lst_yearly_tov_avg = [] \n",
    "#list of turnover/pergame standard deviation for each season\n",
    "lst_yearly_tov_stddev = [] \n",
    "for df in lst_players_df: #for each df in list of player stat df\n",
    "    lst_yearly_tov_avg.append(np.mean(df['TOV']))#calculate avg turnover and append into list of avgs\n",
    "    lst_yearly_tov_stddev.append(np.std(df['TOV']))#calculate stddev of turnover and append into list of stddevs\n",
    "\n",
    "#list of average rebound/pergame for each season\n",
    "lst_yearly_reb_avg = [] \n",
    "#list of rebound/pergame standard deviation for each season\n",
    "lst_yearly_reb_stddev = [] \n",
    "for df in lst_players_df: #for each df in list of player stat df\n",
    "    lst_yearly_reb_avg.append(np.mean(df['REB']))#calculate avg rebound and append into list of avgs\n",
    "    lst_yearly_reb_stddev.append(np.std(df['REB']))#calculate stddev of rebound and append into list of stddevs\n",
    "\n",
    "#list of average steal/pergame for each season\n",
    "lst_yearly_stl_avg = [] \n",
    "#list of steal/pergame standard deviation for each season\n",
    "lst_yearly_stl_stddev = []\n",
    "for df in lst_players_df: #for each df in list of player stat df\n",
    "    lst_yearly_stl_avg.append(np.mean(df['STL']))#calculate avg steal and append into list of avgs\n",
    "    lst_yearly_stl_stddev.append(np.std(df['STL']))#calculate stddev of steal and append into list of stddevs\n",
    "\n",
    "#list of average block/pergame for each season\n",
    "lst_yearly_blk_avg = [] \n",
    "#list of block/pergame standard deviation for each season\n",
    "lst_yearly_blk_stddev = [] \n",
    "for df in lst_players_df: #for each df in list of player stat df\n",
    "    lst_yearly_blk_avg.append(np.mean(df['BLK']))#calculate avg block and append into list of avgs\n",
    "    lst_yearly_blk_stddev.append(np.std(df['BLK']))#calculate stddev of block and append into list of stddevs"
   ]
  }
 ],
 "metadata": {
  "kernelspec": {
   "display_name": "Python 3",
   "language": "python",
   "name": "python3"
  },
  "language_info": {
   "codemirror_mode": {
    "name": "ipython",
    "version": 3
   },
   "file_extension": ".py",
   "mimetype": "text/x-python",
   "name": "python",
   "nbconvert_exporter": "python",
   "pygments_lexer": "ipython3",
   "version": "3.6.4"
  }
 },
 "nbformat": 4,
 "nbformat_minor": 2
}
