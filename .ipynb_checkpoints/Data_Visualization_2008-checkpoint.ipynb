{
 "cells": [
  {
   "cell_type": "code",
   "execution_count": 1,
   "metadata": {
    "collapsed": true
   },
   "outputs": [],
   "source": [
    "# Imports - these are all the imports needed for the assignment\n",
    "%matplotlib inline\n",
    "from scipy import stats\n",
    "import numpy.ma as ma\n",
    "from scipy.stats import mstats\n",
    "\n",
    "import numpy as np\n",
    "import pandas as pd\n",
    "import matplotlib.pyplot as plt"
   ]
  },
  {
   "cell_type": "code",
   "execution_count": 2,
   "metadata": {
    "collapsed": true
   },
   "outputs": [],
   "source": [
    "# 1a) Load the nba csv files\n",
    "\n",
    "# YOUR CODE HERE\n",
    "df_2008 = pd.read_csv('clean_players_2008.csv')"
   ]
  },
  {
   "cell_type": "code",
   "execution_count": 3,
   "metadata": {},
   "outputs": [
    {
     "data": {
      "text/html": [
       "<div>\n",
       "<style>\n",
       "    .dataframe thead tr:only-child th {\n",
       "        text-align: right;\n",
       "    }\n",
       "\n",
       "    .dataframe thead th {\n",
       "        text-align: left;\n",
       "    }\n",
       "\n",
       "    .dataframe tbody tr th {\n",
       "        vertical-align: top;\n",
       "    }\n",
       "</style>\n",
       "<table border=\"1\" class=\"dataframe\">\n",
       "  <thead>\n",
       "    <tr style=\"text-align: right;\">\n",
       "      <th></th>\n",
       "      <th>Unnamed: 0</th>\n",
       "      <th>PLAYER_ID</th>\n",
       "      <th>PLAYER_NAME</th>\n",
       "      <th>TEAM_ID</th>\n",
       "      <th>TEAM_ABBREVIATION</th>\n",
       "      <th>AGE</th>\n",
       "      <th>GP</th>\n",
       "      <th>W</th>\n",
       "      <th>L</th>\n",
       "      <th>W_PCT</th>\n",
       "      <th>...</th>\n",
       "      <th>FTA</th>\n",
       "      <th>FT_PCT</th>\n",
       "      <th>OREB</th>\n",
       "      <th>DREB</th>\n",
       "      <th>REB</th>\n",
       "      <th>AST</th>\n",
       "      <th>TOV</th>\n",
       "      <th>STL</th>\n",
       "      <th>BLK</th>\n",
       "      <th>PTS</th>\n",
       "    </tr>\n",
       "  </thead>\n",
       "  <tbody>\n",
       "    <tr>\n",
       "      <th>0</th>\n",
       "      <td>0</td>\n",
       "      <td>1627773</td>\n",
       "      <td>AJ Hammons</td>\n",
       "      <td>1610612742</td>\n",
       "      <td>DAL</td>\n",
       "      <td>24.0</td>\n",
       "      <td>22</td>\n",
       "      <td>4</td>\n",
       "      <td>18</td>\n",
       "      <td>0.182</td>\n",
       "      <td>...</td>\n",
       "      <td>0.9</td>\n",
       "      <td>0.450</td>\n",
       "      <td>0.4</td>\n",
       "      <td>1.3</td>\n",
       "      <td>1.6</td>\n",
       "      <td>0.2</td>\n",
       "      <td>0.5</td>\n",
       "      <td>0.0</td>\n",
       "      <td>0.6</td>\n",
       "      <td>2.2</td>\n",
       "    </tr>\n",
       "    <tr>\n",
       "      <th>1</th>\n",
       "      <td>1</td>\n",
       "      <td>201166</td>\n",
       "      <td>Aaron Brooks</td>\n",
       "      <td>1610612754</td>\n",
       "      <td>IND</td>\n",
       "      <td>32.0</td>\n",
       "      <td>65</td>\n",
       "      <td>36</td>\n",
       "      <td>29</td>\n",
       "      <td>0.554</td>\n",
       "      <td>...</td>\n",
       "      <td>0.6</td>\n",
       "      <td>0.800</td>\n",
       "      <td>0.3</td>\n",
       "      <td>0.8</td>\n",
       "      <td>1.1</td>\n",
       "      <td>1.9</td>\n",
       "      <td>1.0</td>\n",
       "      <td>0.4</td>\n",
       "      <td>0.1</td>\n",
       "      <td>5.0</td>\n",
       "    </tr>\n",
       "    <tr>\n",
       "      <th>2</th>\n",
       "      <td>2</td>\n",
       "      <td>203932</td>\n",
       "      <td>Aaron Gordon</td>\n",
       "      <td>1610612753</td>\n",
       "      <td>ORL</td>\n",
       "      <td>21.0</td>\n",
       "      <td>80</td>\n",
       "      <td>29</td>\n",
       "      <td>51</td>\n",
       "      <td>0.363</td>\n",
       "      <td>...</td>\n",
       "      <td>2.7</td>\n",
       "      <td>0.719</td>\n",
       "      <td>1.5</td>\n",
       "      <td>3.6</td>\n",
       "      <td>5.1</td>\n",
       "      <td>1.9</td>\n",
       "      <td>1.1</td>\n",
       "      <td>0.8</td>\n",
       "      <td>0.5</td>\n",
       "      <td>12.7</td>\n",
       "    </tr>\n",
       "    <tr>\n",
       "      <th>3</th>\n",
       "      <td>3</td>\n",
       "      <td>1626151</td>\n",
       "      <td>Aaron Harrison</td>\n",
       "      <td>1610612766</td>\n",
       "      <td>CHA</td>\n",
       "      <td>22.0</td>\n",
       "      <td>5</td>\n",
       "      <td>2</td>\n",
       "      <td>3</td>\n",
       "      <td>0.400</td>\n",
       "      <td>...</td>\n",
       "      <td>0.4</td>\n",
       "      <td>0.500</td>\n",
       "      <td>0.0</td>\n",
       "      <td>0.6</td>\n",
       "      <td>0.6</td>\n",
       "      <td>0.6</td>\n",
       "      <td>0.0</td>\n",
       "      <td>0.0</td>\n",
       "      <td>0.0</td>\n",
       "      <td>0.2</td>\n",
       "    </tr>\n",
       "    <tr>\n",
       "      <th>4</th>\n",
       "      <td>4</td>\n",
       "      <td>203940</td>\n",
       "      <td>Adreian Payne</td>\n",
       "      <td>1610612750</td>\n",
       "      <td>MIN</td>\n",
       "      <td>26.0</td>\n",
       "      <td>18</td>\n",
       "      <td>5</td>\n",
       "      <td>13</td>\n",
       "      <td>0.278</td>\n",
       "      <td>...</td>\n",
       "      <td>1.1</td>\n",
       "      <td>0.737</td>\n",
       "      <td>0.5</td>\n",
       "      <td>1.3</td>\n",
       "      <td>1.8</td>\n",
       "      <td>0.4</td>\n",
       "      <td>0.4</td>\n",
       "      <td>0.4</td>\n",
       "      <td>0.4</td>\n",
       "      <td>3.5</td>\n",
       "    </tr>\n",
       "    <tr>\n",
       "      <th>5</th>\n",
       "      <td>5</td>\n",
       "      <td>201143</td>\n",
       "      <td>Al Horford</td>\n",
       "      <td>1610612738</td>\n",
       "      <td>BOS</td>\n",
       "      <td>31.0</td>\n",
       "      <td>68</td>\n",
       "      <td>46</td>\n",
       "      <td>22</td>\n",
       "      <td>0.676</td>\n",
       "      <td>...</td>\n",
       "      <td>2.0</td>\n",
       "      <td>0.800</td>\n",
       "      <td>1.4</td>\n",
       "      <td>5.4</td>\n",
       "      <td>6.8</td>\n",
       "      <td>5.0</td>\n",
       "      <td>1.7</td>\n",
       "      <td>0.8</td>\n",
       "      <td>1.3</td>\n",
       "      <td>14.0</td>\n",
       "    </tr>\n",
       "    <tr>\n",
       "      <th>6</th>\n",
       "      <td>6</td>\n",
       "      <td>2744</td>\n",
       "      <td>Al Jefferson</td>\n",
       "      <td>1610612754</td>\n",
       "      <td>IND</td>\n",
       "      <td>32.0</td>\n",
       "      <td>66</td>\n",
       "      <td>33</td>\n",
       "      <td>33</td>\n",
       "      <td>0.500</td>\n",
       "      <td>...</td>\n",
       "      <td>1.3</td>\n",
       "      <td>0.765</td>\n",
       "      <td>1.1</td>\n",
       "      <td>3.1</td>\n",
       "      <td>4.2</td>\n",
       "      <td>0.9</td>\n",
       "      <td>0.5</td>\n",
       "      <td>0.3</td>\n",
       "      <td>0.2</td>\n",
       "      <td>8.1</td>\n",
       "    </tr>\n",
       "    <tr>\n",
       "      <th>7</th>\n",
       "      <td>7</td>\n",
       "      <td>202329</td>\n",
       "      <td>Al-Farouq Aminu</td>\n",
       "      <td>1610612757</td>\n",
       "      <td>POR</td>\n",
       "      <td>26.0</td>\n",
       "      <td>61</td>\n",
       "      <td>33</td>\n",
       "      <td>28</td>\n",
       "      <td>0.541</td>\n",
       "      <td>...</td>\n",
       "      <td>2.2</td>\n",
       "      <td>0.706</td>\n",
       "      <td>1.3</td>\n",
       "      <td>6.1</td>\n",
       "      <td>7.4</td>\n",
       "      <td>1.6</td>\n",
       "      <td>1.5</td>\n",
       "      <td>1.0</td>\n",
       "      <td>0.7</td>\n",
       "      <td>8.7</td>\n",
       "    </tr>\n",
       "    <tr>\n",
       "      <th>8</th>\n",
       "      <td>8</td>\n",
       "      <td>101187</td>\n",
       "      <td>Alan Anderson</td>\n",
       "      <td>1610612746</td>\n",
       "      <td>LAC</td>\n",
       "      <td>34.0</td>\n",
       "      <td>30</td>\n",
       "      <td>20</td>\n",
       "      <td>10</td>\n",
       "      <td>0.667</td>\n",
       "      <td>...</td>\n",
       "      <td>0.5</td>\n",
       "      <td>0.750</td>\n",
       "      <td>0.1</td>\n",
       "      <td>0.7</td>\n",
       "      <td>0.8</td>\n",
       "      <td>0.4</td>\n",
       "      <td>0.2</td>\n",
       "      <td>0.1</td>\n",
       "      <td>0.0</td>\n",
       "      <td>2.9</td>\n",
       "    </tr>\n",
       "    <tr>\n",
       "      <th>9</th>\n",
       "      <td>9</td>\n",
       "      <td>1626210</td>\n",
       "      <td>Alan Williams</td>\n",
       "      <td>1610612756</td>\n",
       "      <td>PHX</td>\n",
       "      <td>24.0</td>\n",
       "      <td>47</td>\n",
       "      <td>11</td>\n",
       "      <td>36</td>\n",
       "      <td>0.234</td>\n",
       "      <td>...</td>\n",
       "      <td>2.4</td>\n",
       "      <td>0.625</td>\n",
       "      <td>2.0</td>\n",
       "      <td>4.2</td>\n",
       "      <td>6.2</td>\n",
       "      <td>0.5</td>\n",
       "      <td>0.8</td>\n",
       "      <td>0.6</td>\n",
       "      <td>0.7</td>\n",
       "      <td>7.4</td>\n",
       "    </tr>\n",
       "    <tr>\n",
       "      <th>10</th>\n",
       "      <td>10</td>\n",
       "      <td>202692</td>\n",
       "      <td>Alec Burks</td>\n",
       "      <td>1610612762</td>\n",
       "      <td>UTA</td>\n",
       "      <td>25.0</td>\n",
       "      <td>42</td>\n",
       "      <td>26</td>\n",
       "      <td>16</td>\n",
       "      <td>0.619</td>\n",
       "      <td>...</td>\n",
       "      <td>1.9</td>\n",
       "      <td>0.769</td>\n",
       "      <td>0.4</td>\n",
       "      <td>2.5</td>\n",
       "      <td>2.9</td>\n",
       "      <td>0.7</td>\n",
       "      <td>0.8</td>\n",
       "      <td>0.4</td>\n",
       "      <td>0.1</td>\n",
       "      <td>6.7</td>\n",
       "    </tr>\n",
       "    <tr>\n",
       "      <th>11</th>\n",
       "      <td>11</td>\n",
       "      <td>203518</td>\n",
       "      <td>Alex Abrines</td>\n",
       "      <td>1610612760</td>\n",
       "      <td>OKC</td>\n",
       "      <td>23.0</td>\n",
       "      <td>68</td>\n",
       "      <td>37</td>\n",
       "      <td>31</td>\n",
       "      <td>0.544</td>\n",
       "      <td>...</td>\n",
       "      <td>0.7</td>\n",
       "      <td>0.898</td>\n",
       "      <td>0.3</td>\n",
       "      <td>1.0</td>\n",
       "      <td>1.3</td>\n",
       "      <td>0.6</td>\n",
       "      <td>0.5</td>\n",
       "      <td>0.5</td>\n",
       "      <td>0.1</td>\n",
       "      <td>6.0</td>\n",
       "    </tr>\n",
       "    <tr>\n",
       "      <th>12</th>\n",
       "      <td>12</td>\n",
       "      <td>203458</td>\n",
       "      <td>Alex Len</td>\n",
       "      <td>1610612756</td>\n",
       "      <td>PHX</td>\n",
       "      <td>24.0</td>\n",
       "      <td>77</td>\n",
       "      <td>21</td>\n",
       "      <td>56</td>\n",
       "      <td>0.273</td>\n",
       "      <td>...</td>\n",
       "      <td>2.7</td>\n",
       "      <td>0.721</td>\n",
       "      <td>2.0</td>\n",
       "      <td>4.6</td>\n",
       "      <td>6.6</td>\n",
       "      <td>0.6</td>\n",
       "      <td>1.3</td>\n",
       "      <td>0.5</td>\n",
       "      <td>1.3</td>\n",
       "      <td>8.0</td>\n",
       "    </tr>\n",
       "    <tr>\n",
       "      <th>13</th>\n",
       "      <td>13</td>\n",
       "      <td>1627816</td>\n",
       "      <td>Alex Poythress</td>\n",
       "      <td>1610612755</td>\n",
       "      <td>PHI</td>\n",
       "      <td>23.0</td>\n",
       "      <td>6</td>\n",
       "      <td>0</td>\n",
       "      <td>6</td>\n",
       "      <td>0.000</td>\n",
       "      <td>...</td>\n",
       "      <td>1.7</td>\n",
       "      <td>0.800</td>\n",
       "      <td>1.8</td>\n",
       "      <td>3.0</td>\n",
       "      <td>4.8</td>\n",
       "      <td>0.8</td>\n",
       "      <td>0.5</td>\n",
       "      <td>0.5</td>\n",
       "      <td>0.3</td>\n",
       "      <td>10.7</td>\n",
       "    </tr>\n",
       "    <tr>\n",
       "      <th>14</th>\n",
       "      <td>14</td>\n",
       "      <td>201582</td>\n",
       "      <td>Alexis Ajinca</td>\n",
       "      <td>1610612740</td>\n",
       "      <td>NOP</td>\n",
       "      <td>29.0</td>\n",
       "      <td>39</td>\n",
       "      <td>15</td>\n",
       "      <td>24</td>\n",
       "      <td>0.385</td>\n",
       "      <td>...</td>\n",
       "      <td>1.0</td>\n",
       "      <td>0.725</td>\n",
       "      <td>1.2</td>\n",
       "      <td>3.4</td>\n",
       "      <td>4.5</td>\n",
       "      <td>0.3</td>\n",
       "      <td>0.8</td>\n",
       "      <td>0.5</td>\n",
       "      <td>0.6</td>\n",
       "      <td>5.3</td>\n",
       "    </tr>\n",
       "    <tr>\n",
       "      <th>15</th>\n",
       "      <td>15</td>\n",
       "      <td>203459</td>\n",
       "      <td>Allen Crabbe</td>\n",
       "      <td>1610612757</td>\n",
       "      <td>POR</td>\n",
       "      <td>25.0</td>\n",
       "      <td>79</td>\n",
       "      <td>39</td>\n",
       "      <td>40</td>\n",
       "      <td>0.494</td>\n",
       "      <td>...</td>\n",
       "      <td>1.6</td>\n",
       "      <td>0.847</td>\n",
       "      <td>0.2</td>\n",
       "      <td>2.6</td>\n",
       "      <td>2.9</td>\n",
       "      <td>1.2</td>\n",
       "      <td>0.8</td>\n",
       "      <td>0.7</td>\n",
       "      <td>0.3</td>\n",
       "      <td>10.7</td>\n",
       "    </tr>\n",
       "    <tr>\n",
       "      <th>16</th>\n",
       "      <td>16</td>\n",
       "      <td>202087</td>\n",
       "      <td>Alonzo Gee</td>\n",
       "      <td>1610612743</td>\n",
       "      <td>DEN</td>\n",
       "      <td>30.0</td>\n",
       "      <td>13</td>\n",
       "      <td>4</td>\n",
       "      <td>9</td>\n",
       "      <td>0.308</td>\n",
       "      <td>...</td>\n",
       "      <td>0.7</td>\n",
       "      <td>0.556</td>\n",
       "      <td>0.3</td>\n",
       "      <td>0.8</td>\n",
       "      <td>1.2</td>\n",
       "      <td>0.5</td>\n",
       "      <td>0.3</td>\n",
       "      <td>0.4</td>\n",
       "      <td>0.1</td>\n",
       "      <td>0.8</td>\n",
       "    </tr>\n",
       "    <tr>\n",
       "      <th>17</th>\n",
       "      <td>17</td>\n",
       "      <td>101161</td>\n",
       "      <td>Amir Johnson</td>\n",
       "      <td>1610612738</td>\n",
       "      <td>BOS</td>\n",
       "      <td>30.0</td>\n",
       "      <td>80</td>\n",
       "      <td>51</td>\n",
       "      <td>29</td>\n",
       "      <td>0.638</td>\n",
       "      <td>...</td>\n",
       "      <td>1.3</td>\n",
       "      <td>0.670</td>\n",
       "      <td>1.5</td>\n",
       "      <td>3.1</td>\n",
       "      <td>4.6</td>\n",
       "      <td>1.8</td>\n",
       "      <td>1.0</td>\n",
       "      <td>0.6</td>\n",
       "      <td>0.8</td>\n",
       "      <td>6.5</td>\n",
       "    </tr>\n",
       "    <tr>\n",
       "      <th>18</th>\n",
       "      <td>18</td>\n",
       "      <td>2760</td>\n",
       "      <td>Anderson Varejao</td>\n",
       "      <td>1610612744</td>\n",
       "      <td>GSW</td>\n",
       "      <td>34.0</td>\n",
       "      <td>14</td>\n",
       "      <td>12</td>\n",
       "      <td>2</td>\n",
       "      <td>0.857</td>\n",
       "      <td>...</td>\n",
       "      <td>0.8</td>\n",
       "      <td>0.727</td>\n",
       "      <td>0.9</td>\n",
       "      <td>1.1</td>\n",
       "      <td>1.9</td>\n",
       "      <td>0.7</td>\n",
       "      <td>0.6</td>\n",
       "      <td>0.2</td>\n",
       "      <td>0.2</td>\n",
       "      <td>1.3</td>\n",
       "    </tr>\n",
       "    <tr>\n",
       "      <th>19</th>\n",
       "      <td>19</td>\n",
       "      <td>203083</td>\n",
       "      <td>Andre Drummond</td>\n",
       "      <td>1610612765</td>\n",
       "      <td>DET</td>\n",
       "      <td>23.0</td>\n",
       "      <td>81</td>\n",
       "      <td>36</td>\n",
       "      <td>45</td>\n",
       "      <td>0.444</td>\n",
       "      <td>...</td>\n",
       "      <td>4.4</td>\n",
       "      <td>0.386</td>\n",
       "      <td>4.3</td>\n",
       "      <td>9.5</td>\n",
       "      <td>13.8</td>\n",
       "      <td>1.1</td>\n",
       "      <td>1.9</td>\n",
       "      <td>1.5</td>\n",
       "      <td>1.1</td>\n",
       "      <td>13.6</td>\n",
       "    </tr>\n",
       "    <tr>\n",
       "      <th>20</th>\n",
       "      <td>20</td>\n",
       "      <td>2738</td>\n",
       "      <td>Andre Iguodala</td>\n",
       "      <td>1610612744</td>\n",
       "      <td>GSW</td>\n",
       "      <td>33.0</td>\n",
       "      <td>76</td>\n",
       "      <td>64</td>\n",
       "      <td>12</td>\n",
       "      <td>0.842</td>\n",
       "      <td>...</td>\n",
       "      <td>1.3</td>\n",
       "      <td>0.706</td>\n",
       "      <td>0.7</td>\n",
       "      <td>3.3</td>\n",
       "      <td>4.0</td>\n",
       "      <td>3.4</td>\n",
       "      <td>0.8</td>\n",
       "      <td>1.0</td>\n",
       "      <td>0.5</td>\n",
       "      <td>7.6</td>\n",
       "    </tr>\n",
       "    <tr>\n",
       "      <th>21</th>\n",
       "      <td>21</td>\n",
       "      <td>203460</td>\n",
       "      <td>Andre Roberson</td>\n",
       "      <td>1610612760</td>\n",
       "      <td>OKC</td>\n",
       "      <td>25.0</td>\n",
       "      <td>79</td>\n",
       "      <td>46</td>\n",
       "      <td>33</td>\n",
       "      <td>0.582</td>\n",
       "      <td>...</td>\n",
       "      <td>1.4</td>\n",
       "      <td>0.423</td>\n",
       "      <td>1.2</td>\n",
       "      <td>3.9</td>\n",
       "      <td>5.1</td>\n",
       "      <td>1.0</td>\n",
       "      <td>0.6</td>\n",
       "      <td>1.2</td>\n",
       "      <td>1.0</td>\n",
       "      <td>6.6</td>\n",
       "    </tr>\n",
       "    <tr>\n",
       "      <th>22</th>\n",
       "      <td>22</td>\n",
       "      <td>101106</td>\n",
       "      <td>Andrew Bogut</td>\n",
       "      <td>1610612739</td>\n",
       "      <td>CLE</td>\n",
       "      <td>32.0</td>\n",
       "      <td>27</td>\n",
       "      <td>8</td>\n",
       "      <td>19</td>\n",
       "      <td>0.296</td>\n",
       "      <td>...</td>\n",
       "      <td>0.4</td>\n",
       "      <td>0.273</td>\n",
       "      <td>2.1</td>\n",
       "      <td>6.0</td>\n",
       "      <td>8.1</td>\n",
       "      <td>1.8</td>\n",
       "      <td>1.6</td>\n",
       "      <td>0.5</td>\n",
       "      <td>0.9</td>\n",
       "      <td>2.9</td>\n",
       "    </tr>\n",
       "    <tr>\n",
       "      <th>23</th>\n",
       "      <td>23</td>\n",
       "      <td>1626150</td>\n",
       "      <td>Andrew Harrison</td>\n",
       "      <td>1610612763</td>\n",
       "      <td>MEM</td>\n",
       "      <td>22.0</td>\n",
       "      <td>72</td>\n",
       "      <td>38</td>\n",
       "      <td>34</td>\n",
       "      <td>0.528</td>\n",
       "      <td>...</td>\n",
       "      <td>2.7</td>\n",
       "      <td>0.763</td>\n",
       "      <td>0.3</td>\n",
       "      <td>1.6</td>\n",
       "      <td>1.9</td>\n",
       "      <td>2.8</td>\n",
       "      <td>1.2</td>\n",
       "      <td>0.7</td>\n",
       "      <td>0.3</td>\n",
       "      <td>5.9</td>\n",
       "    </tr>\n",
       "    <tr>\n",
       "      <th>24</th>\n",
       "      <td>24</td>\n",
       "      <td>203094</td>\n",
       "      <td>Andrew Nicholson</td>\n",
       "      <td>1610612751</td>\n",
       "      <td>BKN</td>\n",
       "      <td>27.0</td>\n",
       "      <td>38</td>\n",
       "      <td>20</td>\n",
       "      <td>18</td>\n",
       "      <td>0.526</td>\n",
       "      <td>...</td>\n",
       "      <td>0.4</td>\n",
       "      <td>0.643</td>\n",
       "      <td>0.4</td>\n",
       "      <td>1.2</td>\n",
       "      <td>1.6</td>\n",
       "      <td>0.3</td>\n",
       "      <td>0.4</td>\n",
       "      <td>0.4</td>\n",
       "      <td>0.2</td>\n",
       "      <td>2.6</td>\n",
       "    </tr>\n",
       "    <tr>\n",
       "      <th>25</th>\n",
       "      <td>25</td>\n",
       "      <td>203952</td>\n",
       "      <td>Andrew Wiggins</td>\n",
       "      <td>1610612750</td>\n",
       "      <td>MIN</td>\n",
       "      <td>22.0</td>\n",
       "      <td>82</td>\n",
       "      <td>31</td>\n",
       "      <td>51</td>\n",
       "      <td>0.378</td>\n",
       "      <td>...</td>\n",
       "      <td>6.6</td>\n",
       "      <td>0.760</td>\n",
       "      <td>1.2</td>\n",
       "      <td>2.8</td>\n",
       "      <td>4.0</td>\n",
       "      <td>2.3</td>\n",
       "      <td>2.3</td>\n",
       "      <td>1.0</td>\n",
       "      <td>0.4</td>\n",
       "      <td>23.6</td>\n",
       "    </tr>\n",
       "    <tr>\n",
       "      <th>26</th>\n",
       "      <td>26</td>\n",
       "      <td>203461</td>\n",
       "      <td>Anthony Bennett</td>\n",
       "      <td>1610612751</td>\n",
       "      <td>BKN</td>\n",
       "      <td>24.0</td>\n",
       "      <td>23</td>\n",
       "      <td>3</td>\n",
       "      <td>20</td>\n",
       "      <td>0.130</td>\n",
       "      <td>...</td>\n",
       "      <td>1.6</td>\n",
       "      <td>0.722</td>\n",
       "      <td>1.1</td>\n",
       "      <td>2.3</td>\n",
       "      <td>3.4</td>\n",
       "      <td>0.5</td>\n",
       "      <td>0.5</td>\n",
       "      <td>0.2</td>\n",
       "      <td>0.1</td>\n",
       "      <td>5.0</td>\n",
       "    </tr>\n",
       "    <tr>\n",
       "      <th>27</th>\n",
       "      <td>27</td>\n",
       "      <td>1626148</td>\n",
       "      <td>Anthony Brown</td>\n",
       "      <td>1610612753</td>\n",
       "      <td>ORL</td>\n",
       "      <td>24.0</td>\n",
       "      <td>11</td>\n",
       "      <td>3</td>\n",
       "      <td>8</td>\n",
       "      <td>0.273</td>\n",
       "      <td>...</td>\n",
       "      <td>0.0</td>\n",
       "      <td>0.000</td>\n",
       "      <td>0.7</td>\n",
       "      <td>2.3</td>\n",
       "      <td>3.0</td>\n",
       "      <td>0.7</td>\n",
       "      <td>0.5</td>\n",
       "      <td>0.5</td>\n",
       "      <td>0.1</td>\n",
       "      <td>3.9</td>\n",
       "    </tr>\n",
       "    <tr>\n",
       "      <th>28</th>\n",
       "      <td>28</td>\n",
       "      <td>203076</td>\n",
       "      <td>Anthony Davis</td>\n",
       "      <td>1610612740</td>\n",
       "      <td>NOP</td>\n",
       "      <td>24.0</td>\n",
       "      <td>75</td>\n",
       "      <td>31</td>\n",
       "      <td>44</td>\n",
       "      <td>0.413</td>\n",
       "      <td>...</td>\n",
       "      <td>8.6</td>\n",
       "      <td>0.802</td>\n",
       "      <td>2.3</td>\n",
       "      <td>9.5</td>\n",
       "      <td>11.8</td>\n",
       "      <td>2.1</td>\n",
       "      <td>2.4</td>\n",
       "      <td>1.3</td>\n",
       "      <td>2.2</td>\n",
       "      <td>28.0</td>\n",
       "    </tr>\n",
       "    <tr>\n",
       "      <th>29</th>\n",
       "      <td>29</td>\n",
       "      <td>201627</td>\n",
       "      <td>Anthony Morrow</td>\n",
       "      <td>1610612741</td>\n",
       "      <td>CHI</td>\n",
       "      <td>31.0</td>\n",
       "      <td>49</td>\n",
       "      <td>25</td>\n",
       "      <td>24</td>\n",
       "      <td>0.510</td>\n",
       "      <td>...</td>\n",
       "      <td>0.8</td>\n",
       "      <td>0.919</td>\n",
       "      <td>0.2</td>\n",
       "      <td>0.4</td>\n",
       "      <td>0.6</td>\n",
       "      <td>0.5</td>\n",
       "      <td>0.1</td>\n",
       "      <td>0.5</td>\n",
       "      <td>0.0</td>\n",
       "      <td>5.5</td>\n",
       "    </tr>\n",
       "    <tr>\n",
       "      <th>...</th>\n",
       "      <td>...</td>\n",
       "      <td>...</td>\n",
       "      <td>...</td>\n",
       "      <td>...</td>\n",
       "      <td>...</td>\n",
       "      <td>...</td>\n",
       "      <td>...</td>\n",
       "      <td>...</td>\n",
       "      <td>...</td>\n",
       "      <td>...</td>\n",
       "      <td>...</td>\n",
       "      <td>...</td>\n",
       "      <td>...</td>\n",
       "      <td>...</td>\n",
       "      <td>...</td>\n",
       "      <td>...</td>\n",
       "      <td>...</td>\n",
       "      <td>...</td>\n",
       "      <td>...</td>\n",
       "      <td>...</td>\n",
       "      <td>...</td>\n",
       "    </tr>\n",
       "    <tr>\n",
       "      <th>456</th>\n",
       "      <td>456</td>\n",
       "      <td>203504</td>\n",
       "      <td>Trey Burke</td>\n",
       "      <td>1610612764</td>\n",
       "      <td>WAS</td>\n",
       "      <td>24.0</td>\n",
       "      <td>57</td>\n",
       "      <td>35</td>\n",
       "      <td>22</td>\n",
       "      <td>0.614</td>\n",
       "      <td>...</td>\n",
       "      <td>0.5</td>\n",
       "      <td>0.759</td>\n",
       "      <td>0.1</td>\n",
       "      <td>0.7</td>\n",
       "      <td>0.8</td>\n",
       "      <td>1.8</td>\n",
       "      <td>0.8</td>\n",
       "      <td>0.2</td>\n",
       "      <td>0.1</td>\n",
       "      <td>5.0</td>\n",
       "    </tr>\n",
       "    <tr>\n",
       "      <th>457</th>\n",
       "      <td>457</td>\n",
       "      <td>1626168</td>\n",
       "      <td>Trey Lyles</td>\n",
       "      <td>1610612762</td>\n",
       "      <td>UTA</td>\n",
       "      <td>21.0</td>\n",
       "      <td>71</td>\n",
       "      <td>43</td>\n",
       "      <td>28</td>\n",
       "      <td>0.606</td>\n",
       "      <td>...</td>\n",
       "      <td>1.1</td>\n",
       "      <td>0.722</td>\n",
       "      <td>0.7</td>\n",
       "      <td>2.6</td>\n",
       "      <td>3.3</td>\n",
       "      <td>1.0</td>\n",
       "      <td>0.9</td>\n",
       "      <td>0.4</td>\n",
       "      <td>0.3</td>\n",
       "      <td>6.2</td>\n",
       "    </tr>\n",
       "    <tr>\n",
       "      <th>458</th>\n",
       "      <td>458</td>\n",
       "      <td>202684</td>\n",
       "      <td>Tristan Thompson</td>\n",
       "      <td>1610612739</td>\n",
       "      <td>CLE</td>\n",
       "      <td>26.0</td>\n",
       "      <td>78</td>\n",
       "      <td>50</td>\n",
       "      <td>28</td>\n",
       "      <td>0.641</td>\n",
       "      <td>...</td>\n",
       "      <td>2.7</td>\n",
       "      <td>0.498</td>\n",
       "      <td>3.7</td>\n",
       "      <td>5.5</td>\n",
       "      <td>9.2</td>\n",
       "      <td>1.0</td>\n",
       "      <td>0.8</td>\n",
       "      <td>0.5</td>\n",
       "      <td>1.1</td>\n",
       "      <td>8.1</td>\n",
       "    </tr>\n",
       "    <tr>\n",
       "      <th>459</th>\n",
       "      <td>459</td>\n",
       "      <td>203584</td>\n",
       "      <td>Troy Daniels</td>\n",
       "      <td>1610612763</td>\n",
       "      <td>MEM</td>\n",
       "      <td>25.0</td>\n",
       "      <td>67</td>\n",
       "      <td>33</td>\n",
       "      <td>34</td>\n",
       "      <td>0.493</td>\n",
       "      <td>...</td>\n",
       "      <td>0.8</td>\n",
       "      <td>0.796</td>\n",
       "      <td>0.3</td>\n",
       "      <td>1.2</td>\n",
       "      <td>1.5</td>\n",
       "      <td>0.7</td>\n",
       "      <td>0.7</td>\n",
       "      <td>0.3</td>\n",
       "      <td>0.1</td>\n",
       "      <td>8.2</td>\n",
       "    </tr>\n",
       "    <tr>\n",
       "      <th>460</th>\n",
       "      <td>460</td>\n",
       "      <td>1627786</td>\n",
       "      <td>Troy Williams</td>\n",
       "      <td>1610612745</td>\n",
       "      <td>HOU</td>\n",
       "      <td>22.0</td>\n",
       "      <td>30</td>\n",
       "      <td>19</td>\n",
       "      <td>11</td>\n",
       "      <td>0.633</td>\n",
       "      <td>...</td>\n",
       "      <td>1.1</td>\n",
       "      <td>0.656</td>\n",
       "      <td>0.5</td>\n",
       "      <td>1.8</td>\n",
       "      <td>2.3</td>\n",
       "      <td>0.8</td>\n",
       "      <td>1.1</td>\n",
       "      <td>0.9</td>\n",
       "      <td>0.3</td>\n",
       "      <td>6.2</td>\n",
       "    </tr>\n",
       "    <tr>\n",
       "      <th>461</th>\n",
       "      <td>461</td>\n",
       "      <td>201951</td>\n",
       "      <td>Ty Lawson</td>\n",
       "      <td>1610612758</td>\n",
       "      <td>SAC</td>\n",
       "      <td>29.0</td>\n",
       "      <td>69</td>\n",
       "      <td>25</td>\n",
       "      <td>44</td>\n",
       "      <td>0.362</td>\n",
       "      <td>...</td>\n",
       "      <td>3.1</td>\n",
       "      <td>0.797</td>\n",
       "      <td>0.6</td>\n",
       "      <td>2.0</td>\n",
       "      <td>2.6</td>\n",
       "      <td>4.8</td>\n",
       "      <td>1.9</td>\n",
       "      <td>1.1</td>\n",
       "      <td>0.1</td>\n",
       "      <td>9.9</td>\n",
       "    </tr>\n",
       "    <tr>\n",
       "      <th>462</th>\n",
       "      <td>462</td>\n",
       "      <td>203898</td>\n",
       "      <td>Tyler Ennis</td>\n",
       "      <td>1610612747</td>\n",
       "      <td>LAL</td>\n",
       "      <td>22.0</td>\n",
       "      <td>53</td>\n",
       "      <td>28</td>\n",
       "      <td>25</td>\n",
       "      <td>0.528</td>\n",
       "      <td>...</td>\n",
       "      <td>0.5</td>\n",
       "      <td>0.840</td>\n",
       "      <td>0.2</td>\n",
       "      <td>0.7</td>\n",
       "      <td>0.8</td>\n",
       "      <td>1.6</td>\n",
       "      <td>0.8</td>\n",
       "      <td>0.5</td>\n",
       "      <td>0.0</td>\n",
       "      <td>4.3</td>\n",
       "    </tr>\n",
       "    <tr>\n",
       "      <th>463</th>\n",
       "      <td>463</td>\n",
       "      <td>204020</td>\n",
       "      <td>Tyler Johnson</td>\n",
       "      <td>1610612748</td>\n",
       "      <td>MIA</td>\n",
       "      <td>25.0</td>\n",
       "      <td>73</td>\n",
       "      <td>35</td>\n",
       "      <td>38</td>\n",
       "      <td>0.479</td>\n",
       "      <td>...</td>\n",
       "      <td>3.5</td>\n",
       "      <td>0.768</td>\n",
       "      <td>0.7</td>\n",
       "      <td>3.3</td>\n",
       "      <td>4.0</td>\n",
       "      <td>3.2</td>\n",
       "      <td>1.2</td>\n",
       "      <td>1.2</td>\n",
       "      <td>0.6</td>\n",
       "      <td>13.7</td>\n",
       "    </tr>\n",
       "    <tr>\n",
       "      <th>464</th>\n",
       "      <td>464</td>\n",
       "      <td>1627755</td>\n",
       "      <td>Tyler Ulis</td>\n",
       "      <td>1610612756</td>\n",
       "      <td>PHX</td>\n",
       "      <td>21.0</td>\n",
       "      <td>61</td>\n",
       "      <td>15</td>\n",
       "      <td>46</td>\n",
       "      <td>0.246</td>\n",
       "      <td>...</td>\n",
       "      <td>1.2</td>\n",
       "      <td>0.775</td>\n",
       "      <td>0.3</td>\n",
       "      <td>1.2</td>\n",
       "      <td>1.6</td>\n",
       "      <td>3.7</td>\n",
       "      <td>1.3</td>\n",
       "      <td>0.8</td>\n",
       "      <td>0.1</td>\n",
       "      <td>7.3</td>\n",
       "    </tr>\n",
       "    <tr>\n",
       "      <th>465</th>\n",
       "      <td>465</td>\n",
       "      <td>203092</td>\n",
       "      <td>Tyler Zeller</td>\n",
       "      <td>1610612738</td>\n",
       "      <td>BOS</td>\n",
       "      <td>27.0</td>\n",
       "      <td>51</td>\n",
       "      <td>32</td>\n",
       "      <td>19</td>\n",
       "      <td>0.627</td>\n",
       "      <td>...</td>\n",
       "      <td>0.8</td>\n",
       "      <td>0.564</td>\n",
       "      <td>0.8</td>\n",
       "      <td>1.6</td>\n",
       "      <td>2.4</td>\n",
       "      <td>0.8</td>\n",
       "      <td>0.4</td>\n",
       "      <td>0.1</td>\n",
       "      <td>0.4</td>\n",
       "      <td>3.5</td>\n",
       "    </tr>\n",
       "    <tr>\n",
       "      <th>466</th>\n",
       "      <td>466</td>\n",
       "      <td>201936</td>\n",
       "      <td>Tyreke Evans</td>\n",
       "      <td>1610612758</td>\n",
       "      <td>SAC</td>\n",
       "      <td>27.0</td>\n",
       "      <td>40</td>\n",
       "      <td>17</td>\n",
       "      <td>23</td>\n",
       "      <td>0.425</td>\n",
       "      <td>...</td>\n",
       "      <td>2.3</td>\n",
       "      <td>0.750</td>\n",
       "      <td>0.3</td>\n",
       "      <td>3.1</td>\n",
       "      <td>3.4</td>\n",
       "      <td>3.1</td>\n",
       "      <td>1.5</td>\n",
       "      <td>0.9</td>\n",
       "      <td>0.2</td>\n",
       "      <td>10.3</td>\n",
       "    </tr>\n",
       "    <tr>\n",
       "      <th>467</th>\n",
       "      <td>467</td>\n",
       "      <td>2199</td>\n",
       "      <td>Tyson Chandler</td>\n",
       "      <td>1610612756</td>\n",
       "      <td>PHX</td>\n",
       "      <td>34.0</td>\n",
       "      <td>47</td>\n",
       "      <td>15</td>\n",
       "      <td>32</td>\n",
       "      <td>0.319</td>\n",
       "      <td>...</td>\n",
       "      <td>2.6</td>\n",
       "      <td>0.734</td>\n",
       "      <td>3.3</td>\n",
       "      <td>8.2</td>\n",
       "      <td>11.5</td>\n",
       "      <td>0.6</td>\n",
       "      <td>1.4</td>\n",
       "      <td>0.7</td>\n",
       "      <td>0.5</td>\n",
       "      <td>8.4</td>\n",
       "    </tr>\n",
       "    <tr>\n",
       "      <th>468</th>\n",
       "      <td>468</td>\n",
       "      <td>1626145</td>\n",
       "      <td>Tyus Jones</td>\n",
       "      <td>1610612750</td>\n",
       "      <td>MIN</td>\n",
       "      <td>21.0</td>\n",
       "      <td>60</td>\n",
       "      <td>23</td>\n",
       "      <td>37</td>\n",
       "      <td>0.383</td>\n",
       "      <td>...</td>\n",
       "      <td>0.7</td>\n",
       "      <td>0.767</td>\n",
       "      <td>0.2</td>\n",
       "      <td>1.0</td>\n",
       "      <td>1.1</td>\n",
       "      <td>2.6</td>\n",
       "      <td>0.6</td>\n",
       "      <td>0.8</td>\n",
       "      <td>0.1</td>\n",
       "      <td>3.5</td>\n",
       "    </tr>\n",
       "    <tr>\n",
       "      <th>469</th>\n",
       "      <td>469</td>\n",
       "      <td>2617</td>\n",
       "      <td>Udonis Haslem</td>\n",
       "      <td>1610612748</td>\n",
       "      <td>MIA</td>\n",
       "      <td>37.0</td>\n",
       "      <td>16</td>\n",
       "      <td>6</td>\n",
       "      <td>10</td>\n",
       "      <td>0.375</td>\n",
       "      <td>...</td>\n",
       "      <td>0.9</td>\n",
       "      <td>0.600</td>\n",
       "      <td>0.5</td>\n",
       "      <td>1.8</td>\n",
       "      <td>2.3</td>\n",
       "      <td>0.4</td>\n",
       "      <td>0.5</td>\n",
       "      <td>0.4</td>\n",
       "      <td>0.1</td>\n",
       "      <td>1.9</td>\n",
       "    </tr>\n",
       "    <tr>\n",
       "      <th>470</th>\n",
       "      <td>470</td>\n",
       "      <td>203506</td>\n",
       "      <td>Victor Oladipo</td>\n",
       "      <td>1610612760</td>\n",
       "      <td>OKC</td>\n",
       "      <td>25.0</td>\n",
       "      <td>67</td>\n",
       "      <td>39</td>\n",
       "      <td>28</td>\n",
       "      <td>0.582</td>\n",
       "      <td>...</td>\n",
       "      <td>2.3</td>\n",
       "      <td>0.753</td>\n",
       "      <td>0.6</td>\n",
       "      <td>3.8</td>\n",
       "      <td>4.3</td>\n",
       "      <td>2.6</td>\n",
       "      <td>1.8</td>\n",
       "      <td>1.2</td>\n",
       "      <td>0.3</td>\n",
       "      <td>15.9</td>\n",
       "    </tr>\n",
       "    <tr>\n",
       "      <th>471</th>\n",
       "      <td>471</td>\n",
       "      <td>1713</td>\n",
       "      <td>Vince Carter</td>\n",
       "      <td>1610612763</td>\n",
       "      <td>MEM</td>\n",
       "      <td>40.0</td>\n",
       "      <td>73</td>\n",
       "      <td>36</td>\n",
       "      <td>37</td>\n",
       "      <td>0.493</td>\n",
       "      <td>...</td>\n",
       "      <td>1.6</td>\n",
       "      <td>0.765</td>\n",
       "      <td>0.5</td>\n",
       "      <td>2.6</td>\n",
       "      <td>3.1</td>\n",
       "      <td>1.8</td>\n",
       "      <td>0.7</td>\n",
       "      <td>0.8</td>\n",
       "      <td>0.5</td>\n",
       "      <td>8.0</td>\n",
       "    </tr>\n",
       "    <tr>\n",
       "      <th>472</th>\n",
       "      <td>472</td>\n",
       "      <td>1627735</td>\n",
       "      <td>Wade Baldwin IV</td>\n",
       "      <td>1610612763</td>\n",
       "      <td>MEM</td>\n",
       "      <td>21.0</td>\n",
       "      <td>33</td>\n",
       "      <td>18</td>\n",
       "      <td>15</td>\n",
       "      <td>0.545</td>\n",
       "      <td>...</td>\n",
       "      <td>1.1</td>\n",
       "      <td>0.838</td>\n",
       "      <td>0.3</td>\n",
       "      <td>1.1</td>\n",
       "      <td>1.4</td>\n",
       "      <td>1.8</td>\n",
       "      <td>1.2</td>\n",
       "      <td>0.5</td>\n",
       "      <td>0.2</td>\n",
       "      <td>3.2</td>\n",
       "    </tr>\n",
       "    <tr>\n",
       "      <th>473</th>\n",
       "      <td>473</td>\n",
       "      <td>201961</td>\n",
       "      <td>Wayne Ellington</td>\n",
       "      <td>1610612748</td>\n",
       "      <td>MIA</td>\n",
       "      <td>29.0</td>\n",
       "      <td>62</td>\n",
       "      <td>35</td>\n",
       "      <td>27</td>\n",
       "      <td>0.565</td>\n",
       "      <td>...</td>\n",
       "      <td>0.7</td>\n",
       "      <td>0.860</td>\n",
       "      <td>0.3</td>\n",
       "      <td>1.8</td>\n",
       "      <td>2.1</td>\n",
       "      <td>1.1</td>\n",
       "      <td>0.5</td>\n",
       "      <td>0.6</td>\n",
       "      <td>0.1</td>\n",
       "      <td>10.5</td>\n",
       "    </tr>\n",
       "    <tr>\n",
       "      <th>474</th>\n",
       "      <td>474</td>\n",
       "      <td>1627782</td>\n",
       "      <td>Wayne Selden</td>\n",
       "      <td>1610612763</td>\n",
       "      <td>MEM</td>\n",
       "      <td>22.0</td>\n",
       "      <td>14</td>\n",
       "      <td>6</td>\n",
       "      <td>8</td>\n",
       "      <td>0.429</td>\n",
       "      <td>...</td>\n",
       "      <td>1.6</td>\n",
       "      <td>0.636</td>\n",
       "      <td>0.1</td>\n",
       "      <td>1.1</td>\n",
       "      <td>1.1</td>\n",
       "      <td>0.9</td>\n",
       "      <td>0.9</td>\n",
       "      <td>0.4</td>\n",
       "      <td>0.1</td>\n",
       "      <td>5.1</td>\n",
       "    </tr>\n",
       "    <tr>\n",
       "      <th>475</th>\n",
       "      <td>475</td>\n",
       "      <td>202325</td>\n",
       "      <td>Wesley Johnson</td>\n",
       "      <td>1610612746</td>\n",
       "      <td>LAC</td>\n",
       "      <td>29.0</td>\n",
       "      <td>68</td>\n",
       "      <td>40</td>\n",
       "      <td>28</td>\n",
       "      <td>0.588</td>\n",
       "      <td>...</td>\n",
       "      <td>0.3</td>\n",
       "      <td>0.647</td>\n",
       "      <td>0.4</td>\n",
       "      <td>2.3</td>\n",
       "      <td>2.7</td>\n",
       "      <td>0.3</td>\n",
       "      <td>0.3</td>\n",
       "      <td>0.4</td>\n",
       "      <td>0.4</td>\n",
       "      <td>2.7</td>\n",
       "    </tr>\n",
       "    <tr>\n",
       "      <th>476</th>\n",
       "      <td>476</td>\n",
       "      <td>202083</td>\n",
       "      <td>Wesley Matthews</td>\n",
       "      <td>1610612742</td>\n",
       "      <td>DAL</td>\n",
       "      <td>30.0</td>\n",
       "      <td>73</td>\n",
       "      <td>29</td>\n",
       "      <td>44</td>\n",
       "      <td>0.397</td>\n",
       "      <td>...</td>\n",
       "      <td>2.5</td>\n",
       "      <td>0.816</td>\n",
       "      <td>0.2</td>\n",
       "      <td>3.3</td>\n",
       "      <td>3.5</td>\n",
       "      <td>2.9</td>\n",
       "      <td>1.4</td>\n",
       "      <td>1.1</td>\n",
       "      <td>0.2</td>\n",
       "      <td>13.5</td>\n",
       "    </tr>\n",
       "    <tr>\n",
       "      <th>477</th>\n",
       "      <td>477</td>\n",
       "      <td>203115</td>\n",
       "      <td>Will Barton</td>\n",
       "      <td>1610612743</td>\n",
       "      <td>DEN</td>\n",
       "      <td>26.0</td>\n",
       "      <td>60</td>\n",
       "      <td>31</td>\n",
       "      <td>29</td>\n",
       "      <td>0.517</td>\n",
       "      <td>...</td>\n",
       "      <td>3.2</td>\n",
       "      <td>0.753</td>\n",
       "      <td>1.0</td>\n",
       "      <td>3.4</td>\n",
       "      <td>4.3</td>\n",
       "      <td>3.4</td>\n",
       "      <td>1.6</td>\n",
       "      <td>0.8</td>\n",
       "      <td>0.5</td>\n",
       "      <td>13.7</td>\n",
       "    </tr>\n",
       "    <tr>\n",
       "      <th>478</th>\n",
       "      <td>478</td>\n",
       "      <td>1626161</td>\n",
       "      <td>Willie Cauley-Stein</td>\n",
       "      <td>1610612758</td>\n",
       "      <td>SAC</td>\n",
       "      <td>23.0</td>\n",
       "      <td>75</td>\n",
       "      <td>29</td>\n",
       "      <td>46</td>\n",
       "      <td>0.387</td>\n",
       "      <td>...</td>\n",
       "      <td>2.0</td>\n",
       "      <td>0.669</td>\n",
       "      <td>1.1</td>\n",
       "      <td>3.4</td>\n",
       "      <td>4.5</td>\n",
       "      <td>1.1</td>\n",
       "      <td>0.9</td>\n",
       "      <td>0.7</td>\n",
       "      <td>0.6</td>\n",
       "      <td>8.1</td>\n",
       "    </tr>\n",
       "    <tr>\n",
       "      <th>479</th>\n",
       "      <td>479</td>\n",
       "      <td>203186</td>\n",
       "      <td>Willie Reed</td>\n",
       "      <td>1610612748</td>\n",
       "      <td>MIA</td>\n",
       "      <td>27.0</td>\n",
       "      <td>71</td>\n",
       "      <td>39</td>\n",
       "      <td>32</td>\n",
       "      <td>0.549</td>\n",
       "      <td>...</td>\n",
       "      <td>1.2</td>\n",
       "      <td>0.557</td>\n",
       "      <td>1.8</td>\n",
       "      <td>2.9</td>\n",
       "      <td>4.7</td>\n",
       "      <td>0.4</td>\n",
       "      <td>0.4</td>\n",
       "      <td>0.3</td>\n",
       "      <td>0.7</td>\n",
       "      <td>5.3</td>\n",
       "    </tr>\n",
       "    <tr>\n",
       "      <th>480</th>\n",
       "      <td>480</td>\n",
       "      <td>1626195</td>\n",
       "      <td>Willy Hernangomez</td>\n",
       "      <td>1610612752</td>\n",
       "      <td>NYK</td>\n",
       "      <td>23.0</td>\n",
       "      <td>72</td>\n",
       "      <td>27</td>\n",
       "      <td>45</td>\n",
       "      <td>0.375</td>\n",
       "      <td>...</td>\n",
       "      <td>1.7</td>\n",
       "      <td>0.728</td>\n",
       "      <td>2.4</td>\n",
       "      <td>4.6</td>\n",
       "      <td>7.0</td>\n",
       "      <td>1.3</td>\n",
       "      <td>1.4</td>\n",
       "      <td>0.6</td>\n",
       "      <td>0.5</td>\n",
       "      <td>8.2</td>\n",
       "    </tr>\n",
       "    <tr>\n",
       "      <th>481</th>\n",
       "      <td>481</td>\n",
       "      <td>201163</td>\n",
       "      <td>Wilson Chandler</td>\n",
       "      <td>1610612743</td>\n",
       "      <td>DEN</td>\n",
       "      <td>30.0</td>\n",
       "      <td>71</td>\n",
       "      <td>35</td>\n",
       "      <td>36</td>\n",
       "      <td>0.493</td>\n",
       "      <td>...</td>\n",
       "      <td>2.7</td>\n",
       "      <td>0.727</td>\n",
       "      <td>1.5</td>\n",
       "      <td>5.0</td>\n",
       "      <td>6.5</td>\n",
       "      <td>2.0</td>\n",
       "      <td>1.6</td>\n",
       "      <td>0.7</td>\n",
       "      <td>0.4</td>\n",
       "      <td>15.7</td>\n",
       "    </tr>\n",
       "    <tr>\n",
       "      <th>482</th>\n",
       "      <td>482</td>\n",
       "      <td>1627812</td>\n",
       "      <td>Yogi Ferrell</td>\n",
       "      <td>1610612742</td>\n",
       "      <td>DAL</td>\n",
       "      <td>24.0</td>\n",
       "      <td>46</td>\n",
       "      <td>18</td>\n",
       "      <td>28</td>\n",
       "      <td>0.391</td>\n",
       "      <td>...</td>\n",
       "      <td>1.9</td>\n",
       "      <td>0.831</td>\n",
       "      <td>0.4</td>\n",
       "      <td>2.0</td>\n",
       "      <td>2.4</td>\n",
       "      <td>3.7</td>\n",
       "      <td>1.5</td>\n",
       "      <td>0.9</td>\n",
       "      <td>0.2</td>\n",
       "      <td>10.0</td>\n",
       "    </tr>\n",
       "    <tr>\n",
       "      <th>483</th>\n",
       "      <td>483</td>\n",
       "      <td>203897</td>\n",
       "      <td>Zach LaVine</td>\n",
       "      <td>1610612750</td>\n",
       "      <td>MIN</td>\n",
       "      <td>22.0</td>\n",
       "      <td>47</td>\n",
       "      <td>16</td>\n",
       "      <td>31</td>\n",
       "      <td>0.340</td>\n",
       "      <td>...</td>\n",
       "      <td>3.0</td>\n",
       "      <td>0.836</td>\n",
       "      <td>0.4</td>\n",
       "      <td>3.0</td>\n",
       "      <td>3.4</td>\n",
       "      <td>3.0</td>\n",
       "      <td>1.8</td>\n",
       "      <td>0.9</td>\n",
       "      <td>0.2</td>\n",
       "      <td>18.9</td>\n",
       "    </tr>\n",
       "    <tr>\n",
       "      <th>484</th>\n",
       "      <td>484</td>\n",
       "      <td>2216</td>\n",
       "      <td>Zach Randolph</td>\n",
       "      <td>1610612763</td>\n",
       "      <td>MEM</td>\n",
       "      <td>35.0</td>\n",
       "      <td>73</td>\n",
       "      <td>38</td>\n",
       "      <td>35</td>\n",
       "      <td>0.521</td>\n",
       "      <td>...</td>\n",
       "      <td>2.6</td>\n",
       "      <td>0.731</td>\n",
       "      <td>2.5</td>\n",
       "      <td>5.7</td>\n",
       "      <td>8.2</td>\n",
       "      <td>1.7</td>\n",
       "      <td>1.4</td>\n",
       "      <td>0.5</td>\n",
       "      <td>0.1</td>\n",
       "      <td>14.1</td>\n",
       "    </tr>\n",
       "    <tr>\n",
       "      <th>485</th>\n",
       "      <td>485</td>\n",
       "      <td>2585</td>\n",
       "      <td>Zaza Pachulia</td>\n",
       "      <td>1610612744</td>\n",
       "      <td>GSW</td>\n",
       "      <td>33.0</td>\n",
       "      <td>70</td>\n",
       "      <td>58</td>\n",
       "      <td>12</td>\n",
       "      <td>0.829</td>\n",
       "      <td>...</td>\n",
       "      <td>1.8</td>\n",
       "      <td>0.778</td>\n",
       "      <td>2.0</td>\n",
       "      <td>3.9</td>\n",
       "      <td>5.9</td>\n",
       "      <td>1.9</td>\n",
       "      <td>1.2</td>\n",
       "      <td>0.8</td>\n",
       "      <td>0.5</td>\n",
       "      <td>6.1</td>\n",
       "    </tr>\n",
       "  </tbody>\n",
       "</table>\n",
       "<p>486 rows × 28 columns</p>\n",
       "</div>"
      ],
      "text/plain": [
       "     Unnamed: 0  PLAYER_ID          PLAYER_NAME     TEAM_ID TEAM_ABBREVIATION  \\\n",
       "0             0    1627773           AJ Hammons  1610612742               DAL   \n",
       "1             1     201166         Aaron Brooks  1610612754               IND   \n",
       "2             2     203932         Aaron Gordon  1610612753               ORL   \n",
       "3             3    1626151       Aaron Harrison  1610612766               CHA   \n",
       "4             4     203940        Adreian Payne  1610612750               MIN   \n",
       "5             5     201143           Al Horford  1610612738               BOS   \n",
       "6             6       2744         Al Jefferson  1610612754               IND   \n",
       "7             7     202329      Al-Farouq Aminu  1610612757               POR   \n",
       "8             8     101187        Alan Anderson  1610612746               LAC   \n",
       "9             9    1626210        Alan Williams  1610612756               PHX   \n",
       "10           10     202692           Alec Burks  1610612762               UTA   \n",
       "11           11     203518         Alex Abrines  1610612760               OKC   \n",
       "12           12     203458             Alex Len  1610612756               PHX   \n",
       "13           13    1627816       Alex Poythress  1610612755               PHI   \n",
       "14           14     201582        Alexis Ajinca  1610612740               NOP   \n",
       "15           15     203459         Allen Crabbe  1610612757               POR   \n",
       "16           16     202087           Alonzo Gee  1610612743               DEN   \n",
       "17           17     101161         Amir Johnson  1610612738               BOS   \n",
       "18           18       2760     Anderson Varejao  1610612744               GSW   \n",
       "19           19     203083       Andre Drummond  1610612765               DET   \n",
       "20           20       2738       Andre Iguodala  1610612744               GSW   \n",
       "21           21     203460       Andre Roberson  1610612760               OKC   \n",
       "22           22     101106         Andrew Bogut  1610612739               CLE   \n",
       "23           23    1626150      Andrew Harrison  1610612763               MEM   \n",
       "24           24     203094     Andrew Nicholson  1610612751               BKN   \n",
       "25           25     203952       Andrew Wiggins  1610612750               MIN   \n",
       "26           26     203461      Anthony Bennett  1610612751               BKN   \n",
       "27           27    1626148        Anthony Brown  1610612753               ORL   \n",
       "28           28     203076        Anthony Davis  1610612740               NOP   \n",
       "29           29     201627       Anthony Morrow  1610612741               CHI   \n",
       "..          ...        ...                  ...         ...               ...   \n",
       "456         456     203504           Trey Burke  1610612764               WAS   \n",
       "457         457    1626168           Trey Lyles  1610612762               UTA   \n",
       "458         458     202684     Tristan Thompson  1610612739               CLE   \n",
       "459         459     203584         Troy Daniels  1610612763               MEM   \n",
       "460         460    1627786        Troy Williams  1610612745               HOU   \n",
       "461         461     201951            Ty Lawson  1610612758               SAC   \n",
       "462         462     203898          Tyler Ennis  1610612747               LAL   \n",
       "463         463     204020        Tyler Johnson  1610612748               MIA   \n",
       "464         464    1627755           Tyler Ulis  1610612756               PHX   \n",
       "465         465     203092         Tyler Zeller  1610612738               BOS   \n",
       "466         466     201936         Tyreke Evans  1610612758               SAC   \n",
       "467         467       2199       Tyson Chandler  1610612756               PHX   \n",
       "468         468    1626145           Tyus Jones  1610612750               MIN   \n",
       "469         469       2617        Udonis Haslem  1610612748               MIA   \n",
       "470         470     203506       Victor Oladipo  1610612760               OKC   \n",
       "471         471       1713         Vince Carter  1610612763               MEM   \n",
       "472         472    1627735      Wade Baldwin IV  1610612763               MEM   \n",
       "473         473     201961      Wayne Ellington  1610612748               MIA   \n",
       "474         474    1627782         Wayne Selden  1610612763               MEM   \n",
       "475         475     202325       Wesley Johnson  1610612746               LAC   \n",
       "476         476     202083      Wesley Matthews  1610612742               DAL   \n",
       "477         477     203115          Will Barton  1610612743               DEN   \n",
       "478         478    1626161  Willie Cauley-Stein  1610612758               SAC   \n",
       "479         479     203186          Willie Reed  1610612748               MIA   \n",
       "480         480    1626195    Willy Hernangomez  1610612752               NYK   \n",
       "481         481     201163      Wilson Chandler  1610612743               DEN   \n",
       "482         482    1627812         Yogi Ferrell  1610612742               DAL   \n",
       "483         483     203897          Zach LaVine  1610612750               MIN   \n",
       "484         484       2216        Zach Randolph  1610612763               MEM   \n",
       "485         485       2585        Zaza Pachulia  1610612744               GSW   \n",
       "\n",
       "      AGE  GP   W   L  W_PCT  ...   FTA  FT_PCT  OREB  DREB   REB  AST  TOV  \\\n",
       "0    24.0  22   4  18  0.182  ...   0.9   0.450   0.4   1.3   1.6  0.2  0.5   \n",
       "1    32.0  65  36  29  0.554  ...   0.6   0.800   0.3   0.8   1.1  1.9  1.0   \n",
       "2    21.0  80  29  51  0.363  ...   2.7   0.719   1.5   3.6   5.1  1.9  1.1   \n",
       "3    22.0   5   2   3  0.400  ...   0.4   0.500   0.0   0.6   0.6  0.6  0.0   \n",
       "4    26.0  18   5  13  0.278  ...   1.1   0.737   0.5   1.3   1.8  0.4  0.4   \n",
       "5    31.0  68  46  22  0.676  ...   2.0   0.800   1.4   5.4   6.8  5.0  1.7   \n",
       "6    32.0  66  33  33  0.500  ...   1.3   0.765   1.1   3.1   4.2  0.9  0.5   \n",
       "7    26.0  61  33  28  0.541  ...   2.2   0.706   1.3   6.1   7.4  1.6  1.5   \n",
       "8    34.0  30  20  10  0.667  ...   0.5   0.750   0.1   0.7   0.8  0.4  0.2   \n",
       "9    24.0  47  11  36  0.234  ...   2.4   0.625   2.0   4.2   6.2  0.5  0.8   \n",
       "10   25.0  42  26  16  0.619  ...   1.9   0.769   0.4   2.5   2.9  0.7  0.8   \n",
       "11   23.0  68  37  31  0.544  ...   0.7   0.898   0.3   1.0   1.3  0.6  0.5   \n",
       "12   24.0  77  21  56  0.273  ...   2.7   0.721   2.0   4.6   6.6  0.6  1.3   \n",
       "13   23.0   6   0   6  0.000  ...   1.7   0.800   1.8   3.0   4.8  0.8  0.5   \n",
       "14   29.0  39  15  24  0.385  ...   1.0   0.725   1.2   3.4   4.5  0.3  0.8   \n",
       "15   25.0  79  39  40  0.494  ...   1.6   0.847   0.2   2.6   2.9  1.2  0.8   \n",
       "16   30.0  13   4   9  0.308  ...   0.7   0.556   0.3   0.8   1.2  0.5  0.3   \n",
       "17   30.0  80  51  29  0.638  ...   1.3   0.670   1.5   3.1   4.6  1.8  1.0   \n",
       "18   34.0  14  12   2  0.857  ...   0.8   0.727   0.9   1.1   1.9  0.7  0.6   \n",
       "19   23.0  81  36  45  0.444  ...   4.4   0.386   4.3   9.5  13.8  1.1  1.9   \n",
       "20   33.0  76  64  12  0.842  ...   1.3   0.706   0.7   3.3   4.0  3.4  0.8   \n",
       "21   25.0  79  46  33  0.582  ...   1.4   0.423   1.2   3.9   5.1  1.0  0.6   \n",
       "22   32.0  27   8  19  0.296  ...   0.4   0.273   2.1   6.0   8.1  1.8  1.6   \n",
       "23   22.0  72  38  34  0.528  ...   2.7   0.763   0.3   1.6   1.9  2.8  1.2   \n",
       "24   27.0  38  20  18  0.526  ...   0.4   0.643   0.4   1.2   1.6  0.3  0.4   \n",
       "25   22.0  82  31  51  0.378  ...   6.6   0.760   1.2   2.8   4.0  2.3  2.3   \n",
       "26   24.0  23   3  20  0.130  ...   1.6   0.722   1.1   2.3   3.4  0.5  0.5   \n",
       "27   24.0  11   3   8  0.273  ...   0.0   0.000   0.7   2.3   3.0  0.7  0.5   \n",
       "28   24.0  75  31  44  0.413  ...   8.6   0.802   2.3   9.5  11.8  2.1  2.4   \n",
       "29   31.0  49  25  24  0.510  ...   0.8   0.919   0.2   0.4   0.6  0.5  0.1   \n",
       "..    ...  ..  ..  ..    ...  ...   ...     ...   ...   ...   ...  ...  ...   \n",
       "456  24.0  57  35  22  0.614  ...   0.5   0.759   0.1   0.7   0.8  1.8  0.8   \n",
       "457  21.0  71  43  28  0.606  ...   1.1   0.722   0.7   2.6   3.3  1.0  0.9   \n",
       "458  26.0  78  50  28  0.641  ...   2.7   0.498   3.7   5.5   9.2  1.0  0.8   \n",
       "459  25.0  67  33  34  0.493  ...   0.8   0.796   0.3   1.2   1.5  0.7  0.7   \n",
       "460  22.0  30  19  11  0.633  ...   1.1   0.656   0.5   1.8   2.3  0.8  1.1   \n",
       "461  29.0  69  25  44  0.362  ...   3.1   0.797   0.6   2.0   2.6  4.8  1.9   \n",
       "462  22.0  53  28  25  0.528  ...   0.5   0.840   0.2   0.7   0.8  1.6  0.8   \n",
       "463  25.0  73  35  38  0.479  ...   3.5   0.768   0.7   3.3   4.0  3.2  1.2   \n",
       "464  21.0  61  15  46  0.246  ...   1.2   0.775   0.3   1.2   1.6  3.7  1.3   \n",
       "465  27.0  51  32  19  0.627  ...   0.8   0.564   0.8   1.6   2.4  0.8  0.4   \n",
       "466  27.0  40  17  23  0.425  ...   2.3   0.750   0.3   3.1   3.4  3.1  1.5   \n",
       "467  34.0  47  15  32  0.319  ...   2.6   0.734   3.3   8.2  11.5  0.6  1.4   \n",
       "468  21.0  60  23  37  0.383  ...   0.7   0.767   0.2   1.0   1.1  2.6  0.6   \n",
       "469  37.0  16   6  10  0.375  ...   0.9   0.600   0.5   1.8   2.3  0.4  0.5   \n",
       "470  25.0  67  39  28  0.582  ...   2.3   0.753   0.6   3.8   4.3  2.6  1.8   \n",
       "471  40.0  73  36  37  0.493  ...   1.6   0.765   0.5   2.6   3.1  1.8  0.7   \n",
       "472  21.0  33  18  15  0.545  ...   1.1   0.838   0.3   1.1   1.4  1.8  1.2   \n",
       "473  29.0  62  35  27  0.565  ...   0.7   0.860   0.3   1.8   2.1  1.1  0.5   \n",
       "474  22.0  14   6   8  0.429  ...   1.6   0.636   0.1   1.1   1.1  0.9  0.9   \n",
       "475  29.0  68  40  28  0.588  ...   0.3   0.647   0.4   2.3   2.7  0.3  0.3   \n",
       "476  30.0  73  29  44  0.397  ...   2.5   0.816   0.2   3.3   3.5  2.9  1.4   \n",
       "477  26.0  60  31  29  0.517  ...   3.2   0.753   1.0   3.4   4.3  3.4  1.6   \n",
       "478  23.0  75  29  46  0.387  ...   2.0   0.669   1.1   3.4   4.5  1.1  0.9   \n",
       "479  27.0  71  39  32  0.549  ...   1.2   0.557   1.8   2.9   4.7  0.4  0.4   \n",
       "480  23.0  72  27  45  0.375  ...   1.7   0.728   2.4   4.6   7.0  1.3  1.4   \n",
       "481  30.0  71  35  36  0.493  ...   2.7   0.727   1.5   5.0   6.5  2.0  1.6   \n",
       "482  24.0  46  18  28  0.391  ...   1.9   0.831   0.4   2.0   2.4  3.7  1.5   \n",
       "483  22.0  47  16  31  0.340  ...   3.0   0.836   0.4   3.0   3.4  3.0  1.8   \n",
       "484  35.0  73  38  35  0.521  ...   2.6   0.731   2.5   5.7   8.2  1.7  1.4   \n",
       "485  33.0  70  58  12  0.829  ...   1.8   0.778   2.0   3.9   5.9  1.9  1.2   \n",
       "\n",
       "     STL  BLK   PTS  \n",
       "0    0.0  0.6   2.2  \n",
       "1    0.4  0.1   5.0  \n",
       "2    0.8  0.5  12.7  \n",
       "3    0.0  0.0   0.2  \n",
       "4    0.4  0.4   3.5  \n",
       "5    0.8  1.3  14.0  \n",
       "6    0.3  0.2   8.1  \n",
       "7    1.0  0.7   8.7  \n",
       "8    0.1  0.0   2.9  \n",
       "9    0.6  0.7   7.4  \n",
       "10   0.4  0.1   6.7  \n",
       "11   0.5  0.1   6.0  \n",
       "12   0.5  1.3   8.0  \n",
       "13   0.5  0.3  10.7  \n",
       "14   0.5  0.6   5.3  \n",
       "15   0.7  0.3  10.7  \n",
       "16   0.4  0.1   0.8  \n",
       "17   0.6  0.8   6.5  \n",
       "18   0.2  0.2   1.3  \n",
       "19   1.5  1.1  13.6  \n",
       "20   1.0  0.5   7.6  \n",
       "21   1.2  1.0   6.6  \n",
       "22   0.5  0.9   2.9  \n",
       "23   0.7  0.3   5.9  \n",
       "24   0.4  0.2   2.6  \n",
       "25   1.0  0.4  23.6  \n",
       "26   0.2  0.1   5.0  \n",
       "27   0.5  0.1   3.9  \n",
       "28   1.3  2.2  28.0  \n",
       "29   0.5  0.0   5.5  \n",
       "..   ...  ...   ...  \n",
       "456  0.2  0.1   5.0  \n",
       "457  0.4  0.3   6.2  \n",
       "458  0.5  1.1   8.1  \n",
       "459  0.3  0.1   8.2  \n",
       "460  0.9  0.3   6.2  \n",
       "461  1.1  0.1   9.9  \n",
       "462  0.5  0.0   4.3  \n",
       "463  1.2  0.6  13.7  \n",
       "464  0.8  0.1   7.3  \n",
       "465  0.1  0.4   3.5  \n",
       "466  0.9  0.2  10.3  \n",
       "467  0.7  0.5   8.4  \n",
       "468  0.8  0.1   3.5  \n",
       "469  0.4  0.1   1.9  \n",
       "470  1.2  0.3  15.9  \n",
       "471  0.8  0.5   8.0  \n",
       "472  0.5  0.2   3.2  \n",
       "473  0.6  0.1  10.5  \n",
       "474  0.4  0.1   5.1  \n",
       "475  0.4  0.4   2.7  \n",
       "476  1.1  0.2  13.5  \n",
       "477  0.8  0.5  13.7  \n",
       "478  0.7  0.6   8.1  \n",
       "479  0.3  0.7   5.3  \n",
       "480  0.6  0.5   8.2  \n",
       "481  0.7  0.4  15.7  \n",
       "482  0.9  0.2  10.0  \n",
       "483  0.9  0.2  18.9  \n",
       "484  0.5  0.1  14.1  \n",
       "485  0.8  0.5   6.1  \n",
       "\n",
       "[486 rows x 28 columns]"
      ]
     },
     "execution_count": 3,
     "metadata": {},
     "output_type": "execute_result"
    }
   ],
   "source": [
    "df_2008"
   ]
  },
  {
   "cell_type": "code",
   "execution_count": 4,
   "metadata": {},
   "outputs": [
    {
     "data": {
      "text/plain": [
       "<matplotlib.axes._subplots.AxesSubplot at 0x1a1028b400>"
      ]
     },
     "execution_count": 4,
     "metadata": {},
     "output_type": "execute_result"
    },
    {
     "data": {
      "image/png": "[encoded data removed]",
      "text/plain": [
       "<matplotlib.figure.Figure at 0x1a1028be10>"
      ]
     },
     "metadata": {},
     "output_type": "display_data"
    }
   ],
   "source": [
    "df_2008['PTS'].plot.hist(bins=40)"
   ]
  },
  {
   "cell_type": "code",
   "execution_count": 5,
   "metadata": {},
   "outputs": [
    {
     "data": {
      "text/plain": [
       "Index(['PLAYER_ID', 'PLAYER_NAME', 'TEAM_ID', 'TEAM_ABBREVIATION', 'AGE', 'GP',\n",
       "       'W', 'L', 'W_PCT', 'MIN', 'FGM', 'FGA', 'FG_PCT', 'FG3M', 'FG3A',\n",
       "       'FG3_PCT', 'FTM', 'FTA', 'FT_PCT', 'OREB', 'DREB', 'REB', 'AST', 'TOV',\n",
       "       'STL', 'BLK', 'PTS'],\n",
       "      dtype='object')"
      ]
     },
     "execution_count": 5,
     "metadata": {},
     "output_type": "execute_result"
    }
   ],
   "source": [
    "df_2008.columns[1:]\n",
    "#pts_2016 = df_2016.as_matrix(columns=df_2016.columns[27:])\n",
    "#x = pts_2016 #The array needs to be larger than 20, just an example\n",
    "#mx = ma.masked_array(x)\n",
    "#z,pval = mstats.normaltest(mx)\n",
    "\n",
    "#if(pval < 0.055):\n",
    "#   print(\"Not normal distribution\")"
   ]
  },
  {
   "cell_type": "code",
   "execution_count": 6,
   "metadata": {},
   "outputs": [
    {
     "name": "stdout",
     "output_type": "stream",
     "text": [
      "98.1455603565 4.87486234742e-22\n",
      "PTS Is Normal Dist\n"
     ]
    }
   ],
   "source": [
    "z,pval = mstats.normaltest(df_2008['PTS'])\n",
    "print(z, pval)\n",
    "if(pval < 0.001):\n",
    "    print('PTS Is Normal Dist')\n",
    "else:\n",
    "    print('PTS Is not Normal Dist')"
   ]
  },
  {
   "cell_type": "code",
   "execution_count": 7,
   "metadata": {},
   "outputs": [
    {
     "data": {
      "text/plain": [
       "<matplotlib.axes._subplots.AxesSubplot at 0x10a3673c8>"
      ]
     },
     "execution_count": 7,
     "metadata": {},
     "output_type": "execute_result"
    },
    {
     "data": {
      "image/png": "[encoded data removed]",
      "text/plain": [
       "<matplotlib.figure.Figure at 0x10a2f3eb8>"
      ]
     },
     "metadata": {},
     "output_type": "display_data"
    }
   ],
   "source": [
    "df_2008['BLK'].plot.hist(bins=10)"
   ]
  },
  {
   "cell_type": "code",
   "execution_count": 8,
   "metadata": {},
   "outputs": [
    {
     "name": "stdout",
     "output_type": "stream",
     "text": [
      "263.520663614 5.98707863879e-58\n",
      "BLK Is Normal Dist\n"
     ]
    }
   ],
   "source": [
    "z,pval = mstats.normaltest(df_2008['BLK'])\n",
    "print(z, pval)\n",
    "if(pval < 0.001):\n",
    "    print('BLK Is Normal Dist')\n",
    "else:\n",
    "    print('BLK Is not Normal Dist')"
   ]
  },
  {
   "cell_type": "code",
   "execution_count": 9,
   "metadata": {},
   "outputs": [
    {
     "data": {
      "text/plain": [
       "<matplotlib.axes._subplots.AxesSubplot at 0x1091b7080>"
      ]
     },
     "execution_count": 9,
     "metadata": {},
     "output_type": "execute_result"
    },
    {
     "data": {
      "image/png": "[encoded data removed]",
      "text/plain": [
       "<matplotlib.figure.Figure at 0x1a102bd0f0>"
      ]
     },
     "metadata": {},
     "output_type": "display_data"
    }
   ],
   "source": [
    "df_2008['STL'].plot.hist(bins=15)"
   ]
  },
  {
   "cell_type": "code",
   "execution_count": 10,
   "metadata": {},
   "outputs": [
    {
     "name": "stdout",
     "output_type": "stream",
     "text": [
      "50.8951974239 8.87663375924e-12\n",
      "STL Is Normal Dist\n"
     ]
    }
   ],
   "source": [
    "z,pval = mstats.normaltest(df_2008['STL'])\n",
    "print(z, pval)\n",
    "if(pval < 0.001):\n",
    "    print('STL Is Normal Dist')\n",
    "else:\n",
    "    print('STL Is not Normal Dist')"
   ]
  },
  {
   "cell_type": "code",
   "execution_count": 11,
   "metadata": {},
   "outputs": [
    {
     "data": {
      "text/plain": [
       "<matplotlib.axes._subplots.AxesSubplot at 0x1a1889c400>"
      ]
     },
     "execution_count": 11,
     "metadata": {},
     "output_type": "execute_result"
    },
    {
     "data": {
      "image/png": "[encoded data removed]",
      "text/plain": [
       "<matplotlib.figure.Figure at 0x1a18896438>"
      ]
     },
     "metadata": {},
     "output_type": "display_data"
    }
   ],
   "source": [
    "df_2008['TOV'].plot.hist(bins=12)"
   ]
  },
  {
   "cell_type": "code",
   "execution_count": 12,
   "metadata": {},
   "outputs": [
    {
     "name": "stdout",
     "output_type": "stream",
     "text": [
      "175.158959487 9.21966666551e-39\n",
      "TOV Is Normal Dist\n"
     ]
    }
   ],
   "source": [
    "z,pval = mstats.normaltest(df_2008['TOV'])\n",
    "print(z, pval)\n",
    "if(pval < 0.001):\n",
    "    print('TOV Is Normal Dist')\n",
    "else:\n",
    "    print('TOV Is not Normal Dist')"
   ]
  },
  {
   "cell_type": "code",
   "execution_count": 13,
   "metadata": {},
   "outputs": [
    {
     "data": {
      "text/plain": [
       "<matplotlib.axes._subplots.AxesSubplot at 0x1a189c5470>"
      ]
     },
     "execution_count": 13,
     "metadata": {},
     "output_type": "execute_result"
    },
    {
     "data": {
      "image/png": "[encoded data removed]",
      "text/plain": [
       "<matplotlib.figure.Figure at 0x1a189a3e80>"
      ]
     },
     "metadata": {},
     "output_type": "display_data"
    }
   ],
   "source": [
    "df_2008['AST'].plot.hist(bins=20)"
   ]
  },
  {
   "cell_type": "code",
   "execution_count": 14,
   "metadata": {},
   "outputs": [
    {
     "name": "stdout",
     "output_type": "stream",
     "text": [
      "220.100448127 1.60618274859e-48\n",
      "AST Is Normal Dist\n"
     ]
    }
   ],
   "source": [
    "z,pval = mstats.normaltest(df_2008['AST'])\n",
    "print(z, pval)\n",
    "if(pval < 0.001):\n",
    "    print('AST Is Normal Dist')\n",
    "else:\n",
    "    print('AST Is not Normal Dist')"
   ]
  },
  {
   "cell_type": "code",
   "execution_count": 15,
   "metadata": {},
   "outputs": [
    {
     "data": {
      "text/plain": [
       "<matplotlib.axes._subplots.AxesSubplot at 0x1a18ae0fd0>"
      ]
     },
     "execution_count": 15,
     "metadata": {},
     "output_type": "execute_result"
    },
    {
     "data": {
      "image/png": "[encoded data removed]",
      "text/plain": [
       "<matplotlib.figure.Figure at 0x1a18ac5ef0>"
      ]
     },
     "metadata": {},
     "output_type": "display_data"
    }
   ],
   "source": [
    "df_2008['REB'].plot.hist(bins=25)"
   ]
  },
  {
   "cell_type": "code",
   "execution_count": 16,
   "metadata": {},
   "outputs": [
    {
     "name": "stdout",
     "output_type": "stream",
     "text": [
      "138.81528619 7.18858813753e-31\n",
      "REB Is Normal Dist\n"
     ]
    }
   ],
   "source": [
    "z,pval = mstats.normaltest(df_2008['REB'])\n",
    "print(z, pval)\n",
    "if(pval < 0.001):\n",
    "    print('REB Is Normal Dist')\n",
    "else:\n",
    "    print('REB Is not Normal Dist')"
   ]
  },
  {
   "cell_type": "code",
   "execution_count": 17,
   "metadata": {},
   "outputs": [
    {
     "data": {
      "text/plain": [
       "<matplotlib.axes._subplots.AxesSubplot at 0x1a18bf6748>"
      ]
     },
     "execution_count": 17,
     "metadata": {},
     "output_type": "execute_result"
    },
    {
     "data": {
      "image/png": "[encoded data removed]",
      "text/plain": [
       "<matplotlib.figure.Figure at 0x1a18be1e80>"
      ]
     },
     "metadata": {},
     "output_type": "display_data"
    }
   ],
   "source": [
    "df_2008['DREB'].plot.hist(bins=25)"
   ]
  },
  {
   "cell_type": "code",
   "execution_count": 18,
   "metadata": {},
   "outputs": [
    {
     "name": "stdout",
     "output_type": "stream",
     "text": [
      "129.162285452 8.96945549018e-29\n",
      "DREB Is Normal Dist\n"
     ]
    }
   ],
   "source": [
    "z,pval = mstats.normaltest(df_2008['DREB'])\n",
    "print(z, pval)\n",
    "if(pval < 0.001):\n",
    "    print('DREB Is Normal Dist')\n",
    "else:\n",
    "    print('DREB Is not Normal Dist')"
   ]
  },
  {
   "cell_type": "code",
   "execution_count": 19,
   "metadata": {},
   "outputs": [
    {
     "data": {
      "text/plain": [
       "<matplotlib.axes._subplots.AxesSubplot at 0x1a18ca02b0>"
      ]
     },
     "execution_count": 19,
     "metadata": {},
     "output_type": "execute_result"
    },
    {
     "data": {
      "image/png": "[encoded data removed]",
      "text/plain": [
       "<matplotlib.figure.Figure at 0x1a18d00198>"
      ]
     },
     "metadata": {},
     "output_type": "display_data"
    }
   ],
   "source": [
    "df_2008['OREB'].plot.hist(bins=20)"
   ]
  },
  {
   "cell_type": "code",
   "execution_count": 20,
   "metadata": {},
   "outputs": [
    {
     "name": "stdout",
     "output_type": "stream",
     "text": [
      "160.841789408 1.18481133487e-35\n",
      "OREB Is Normal Dist\n"
     ]
    }
   ],
   "source": [
    "z,pval = mstats.normaltest(df_2008['OREB'])\n",
    "print(z, pval)\n",
    "if(pval < 0.001):\n",
    "    print('OREB Is Normal Dist')\n",
    "else:\n",
    "    print('OREB Is not Normal Dist')"
   ]
  },
  {
   "cell_type": "code",
   "execution_count": 21,
   "metadata": {},
   "outputs": [
    {
     "data": {
      "text/plain": [
       "<matplotlib.axes._subplots.AxesSubplot at 0x1a18f10be0>"
      ]
     },
     "execution_count": 21,
     "metadata": {},
     "output_type": "execute_result"
    },
    {
     "data": {
      "image/png": "[encoded data removed]",
      "text/plain": [
       "<matplotlib.figure.Figure at 0x1a18e070b8>"
      ]
     },
     "metadata": {},
     "output_type": "display_data"
    }
   ],
   "source": [
    "df_2008['FT_PCT'].plot.hist(bins=15)"
   ]
  },
  {
   "cell_type": "code",
   "execution_count": 22,
   "metadata": {},
   "outputs": [
    {
     "name": "stdout",
     "output_type": "stream",
     "text": [
      "236.724704171 3.94351615298e-52\n",
      "FT_PCT Is Normal Dist\n"
     ]
    }
   ],
   "source": [
    "z,pval = mstats.normaltest(df_2008['FT_PCT'])\n",
    "print(z, pval)\n",
    "if(pval < 0.001):\n",
    "    print('FT_PCT Is Normal Dist')\n",
    "else:\n",
    "    print('FT_PCT Is not Normal Dist')"
   ]
  },
  {
   "cell_type": "code",
   "execution_count": 23,
   "metadata": {},
   "outputs": [
    {
     "data": {
      "text/plain": [
       "<matplotlib.axes._subplots.AxesSubplot at 0x1a18f769e8>"
      ]
     },
     "execution_count": 23,
     "metadata": {},
     "output_type": "execute_result"
    },
    {
     "data": {
      "image/png": "[encoded data removed]",
      "text/plain": [
       "<matplotlib.figure.Figure at 0x1a18e0aac8>"
      ]
     },
     "metadata": {},
     "output_type": "display_data"
    }
   ],
   "source": [
    "df_2008['FTA'].plot.hist(bins=15)"
   ]
  },
  {
   "cell_type": "code",
   "execution_count": 24,
   "metadata": {},
   "outputs": [
    {
     "name": "stdout",
     "output_type": "stream",
     "text": [
      "222.092444136 5.93251055618e-49\n",
      "FTA Is Normal Dist\n"
     ]
    }
   ],
   "source": [
    "z,pval = mstats.normaltest(df_2008['FTA'])\n",
    "print(z, pval)\n",
    "if(pval < 0.001):\n",
    "    print('FTA Is Normal Dist')\n",
    "else:\n",
    "    print('FTA Is not Normal Dist')"
   ]
  },
  {
   "cell_type": "code",
   "execution_count": 25,
   "metadata": {},
   "outputs": [
    {
     "data": {
      "text/plain": [
       "<matplotlib.axes._subplots.AxesSubplot at 0x1a19080320>"
      ]
     },
     "execution_count": 25,
     "metadata": {},
     "output_type": "execute_result"
    },
    {
     "data": {
      "image/png": "[encoded data removed]",
      "text/plain": [
       "<matplotlib.figure.Figure at 0x1a190290f0>"
      ]
     },
     "metadata": {},
     "output_type": "display_data"
    }
   ],
   "source": [
    "df_2008['FTM'].plot.hist(bins=15)"
   ]
  },
  {
   "cell_type": "code",
   "execution_count": 26,
   "metadata": {},
   "outputs": [
    {
     "name": "stdout",
     "output_type": "stream",
     "text": [
      "247.278561851 2.01438531881e-54\n",
      "FTM Is Normal Dist\n"
     ]
    }
   ],
   "source": [
    "z,pval = mstats.normaltest(df_2008['FTM'])\n",
    "print(z, pval)\n",
    "if(pval < 0.001):\n",
    "    print('FTM Is Normal Dist')\n",
    "else:\n",
    "    print('FTM Is not Normal Dist')"
   ]
  },
  {
   "cell_type": "code",
   "execution_count": 27,
   "metadata": {},
   "outputs": [
    {
     "data": {
      "text/plain": [
       "<matplotlib.axes._subplots.AxesSubplot at 0x1a19090a20>"
      ]
     },
     "execution_count": 27,
     "metadata": {},
     "output_type": "execute_result"
    },
    {
     "data": {
      "image/png": "[encoded data removed]",
      "text/plain": [
       "<matplotlib.figure.Figure at 0x1a191aeb70>"
      ]
     },
     "metadata": {},
     "output_type": "display_data"
    }
   ],
   "source": [
    "df_2008['FG3_PCT'].plot.hist(bins=10)"
   ]
  },
  {
   "cell_type": "code",
   "execution_count": 28,
   "metadata": {},
   "outputs": [
    {
     "name": "stdout",
     "output_type": "stream",
     "text": [
      "38.8400393207 3.68122720649e-09\n",
      "FG3_PCT Is Normal Dist\n"
     ]
    }
   ],
   "source": [
    "z,pval = mstats.normaltest(df_2008['FG3_PCT'])\n",
    "print(z, pval)\n",
    "if(pval < 0.001):\n",
    "    print('FG3_PCT Is Normal Dist')\n",
    "else:\n",
    "    print('FG3_PCT Is not Normal Dist')"
   ]
  },
  {
   "cell_type": "code",
   "execution_count": 29,
   "metadata": {},
   "outputs": [
    {
     "data": {
      "text/plain": [
       "<matplotlib.axes._subplots.AxesSubplot at 0x1a18d09828>"
      ]
     },
     "execution_count": 29,
     "metadata": {},
     "output_type": "execute_result"
    },
    {
     "data": {
      "image/png": "[encoded data removed]",
      "text/plain": [
       "<matplotlib.figure.Figure at 0x1a19285550>"
      ]
     },
     "metadata": {},
     "output_type": "display_data"
    }
   ],
   "source": [
    "df_2008['FG3A'].plot.hist(bins=15)"
   ]
  },
  {
   "cell_type": "code",
   "execution_count": 30,
   "metadata": {},
   "outputs": [
    {
     "name": "stdout",
     "output_type": "stream",
     "text": [
      "69.1231219776 9.7747301474e-16\n",
      "FG3A Is Normal Dist\n"
     ]
    }
   ],
   "source": [
    "z,pval = mstats.normaltest(df_2008['FG3A'])\n",
    "print(z, pval)\n",
    "if(pval < 0.001):\n",
    "    print('FG3A Is Normal Dist')\n",
    "else:\n",
    "    print('FG3A Is not Normal Dist')"
   ]
  },
  {
   "cell_type": "code",
   "execution_count": 31,
   "metadata": {},
   "outputs": [
    {
     "data": {
      "text/plain": [
       "<matplotlib.axes._subplots.AxesSubplot at 0x1a18e53fd0>"
      ]
     },
     "execution_count": 31,
     "metadata": {},
     "output_type": "execute_result"
    },
    {
     "data": {
      "image/png": "[encoded data removed]",
      "text/plain": [
       "<matplotlib.figure.Figure at 0x1a19395c18>"
      ]
     },
     "metadata": {},
     "output_type": "display_data"
    }
   ],
   "source": [
    "df_2008['FG3M'].plot.hist(bins=15)"
   ]
  },
  {
   "cell_type": "code",
   "execution_count": 32,
   "metadata": {},
   "outputs": [
    {
     "name": "stdout",
     "output_type": "stream",
     "text": [
      "88.5256118893 5.9828432524e-20\n",
      "FG3M Is Normal Dist\n"
     ]
    }
   ],
   "source": [
    "z,pval = mstats.normaltest(df_2008['FG3M'])\n",
    "print(z, pval)\n",
    "if(pval < 0.001):\n",
    "    print('FG3M Is Normal Dist')\n",
    "else:\n",
    "    print('FG3M Is not Normal Dist')"
   ]
  },
  {
   "cell_type": "code",
   "execution_count": 33,
   "metadata": {},
   "outputs": [
    {
     "data": {
      "text/plain": [
       "<matplotlib.axes._subplots.AxesSubplot at 0x1a194bada0>"
      ]
     },
     "execution_count": 33,
     "metadata": {},
     "output_type": "execute_result"
    },
    {
     "data": {
      "image/png": "[encoded data removed]",
      "text/plain": [
       "<matplotlib.figure.Figure at 0x1a19090358>"
      ]
     },
     "metadata": {},
     "output_type": "display_data"
    }
   ],
   "source": [
    "df_2008['FG_PCT'].plot.hist(bins=12)"
   ]
  },
  {
   "cell_type": "code",
   "execution_count": 34,
   "metadata": {},
   "outputs": [
    {
     "name": "stdout",
     "output_type": "stream",
     "text": [
      "94.5554985589 2.93450173847e-21\n",
      "FG_PCT Is Normal Dist\n"
     ]
    }
   ],
   "source": [
    "z,pval = mstats.normaltest(df_2008['FG_PCT'])\n",
    "print(z, pval)\n",
    "if(pval < 0.001):\n",
    "    print('FG_PCT Is Normal Dist')\n",
    "else:\n",
    "    print('FG_PCT Is not Normal Dist')"
   ]
  },
  {
   "cell_type": "code",
   "execution_count": 35,
   "metadata": {},
   "outputs": [
    {
     "data": {
      "text/plain": [
       "<matplotlib.axes._subplots.AxesSubplot at 0x1a19636470>"
      ]
     },
     "execution_count": 35,
     "metadata": {},
     "output_type": "execute_result"
    },
    {
     "data": {
      "image/png": "[encoded data removed]",
      "text/plain": [
       "<matplotlib.figure.Figure at 0x1a195c35c0>"
      ]
     },
     "metadata": {},
     "output_type": "display_data"
    }
   ],
   "source": [
    "df_2008['FGA'].plot.hist(bins=15)"
   ]
  },
  {
   "cell_type": "code",
   "execution_count": 36,
   "metadata": {},
   "outputs": [
    {
     "name": "stdout",
     "output_type": "stream",
     "text": [
      "68.5555161211 1.29825146785e-15\n",
      "FGA Is Normal Dist\n"
     ]
    }
   ],
   "source": [
    "z,pval = mstats.normaltest(df_2008['FGA'])\n",
    "print(z, pval)\n",
    "if(pval < 0.001):\n",
    "    print('FGA Is Normal Dist')\n",
    "else:\n",
    "    print('FGA Is not Normal Dist')"
   ]
  },
  {
   "cell_type": "code",
   "execution_count": 37,
   "metadata": {},
   "outputs": [
    {
     "data": {
      "text/plain": [
       "<matplotlib.axes._subplots.AxesSubplot at 0x1a195c33c8>"
      ]
     },
     "execution_count": 37,
     "metadata": {},
     "output_type": "execute_result"
    },
    {
     "data": {
      "image/png": "[encoded data removed]",
      "text/plain": [
       "<matplotlib.figure.Figure at 0x1a196ef4a8>"
      ]
     },
     "metadata": {},
     "output_type": "display_data"
    }
   ],
   "source": [
    "df_2008['FGM'].plot.hist(bins=25)"
   ]
  },
  {
   "cell_type": "code",
   "execution_count": 38,
   "metadata": {},
   "outputs": [
    {
     "name": "stdout",
     "output_type": "stream",
     "text": [
      "69.4265640221 8.39872137356e-16\n",
      "FGM Is Normal Dist\n"
     ]
    }
   ],
   "source": [
    "z,pval = mstats.normaltest(df_2008['FGM'])\n",
    "print(z, pval)\n",
    "if(pval < 0.001):\n",
    "    print('FGM Is Normal Dist')\n",
    "else:\n",
    "    print('FGM Is not Normal Dist')"
   ]
  },
  {
   "cell_type": "code",
   "execution_count": 39,
   "metadata": {},
   "outputs": [
    {
     "data": {
      "text/plain": [
       "<matplotlib.axes._subplots.AxesSubplot at 0x1a198ddeb8>"
      ]
     },
     "execution_count": 39,
     "metadata": {},
     "output_type": "execute_result"
    },
    {
     "data": {
      "image/png": "[encoded data removed]",
      "text/plain": [
       "<matplotlib.figure.Figure at 0x1a198e9588>"
      ]
     },
     "metadata": {},
     "output_type": "display_data"
    }
   ],
   "source": [
    "df_2008['MIN'].plot.hist(bins=25)"
   ]
  },
  {
   "cell_type": "code",
   "execution_count": 40,
   "metadata": {},
   "outputs": [
    {
     "name": "stdout",
     "output_type": "stream",
     "text": [
      "92.288648697 9.11537551172e-21\n",
      "MIN Is Normal Dist\n"
     ]
    }
   ],
   "source": [
    "z,pval = mstats.normaltest(df_2008['MIN'])\n",
    "print(z, pval)\n",
    "if(pval < 0.001):\n",
    "    print('MIN Is Normal Dist')\n",
    "else:\n",
    "    print('MIN Is not Normal Dist')"
   ]
  },
  {
   "cell_type": "code",
   "execution_count": null,
   "metadata": {
    "collapsed": true
   },
   "outputs": [],
   "source": []
  }
 ],
 "metadata": {
  "kernelspec": {
   "display_name": "Python 3",
   "language": "python",
   "name": "python3"
  },
  "language_info": {
   "codemirror_mode": {
    "name": "ipython",
    "version": 3
   },
   "file_extension": ".py",
   "mimetype": "text/x-python",
   "name": "python",
   "nbconvert_exporter": "python",
   "pygments_lexer": "ipython3",
   "version": "3.6.3"
  }
 },
 "nbformat": 4,
 "nbformat_minor": 2
}
