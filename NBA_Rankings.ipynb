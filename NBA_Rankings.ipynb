{
 "cells": [
  {
   "cell_type": "code",
   "execution_count": 57,
   "metadata": {
    "collapsed": true
   },
   "outputs": [],
   "source": [
    "import nba_py\n",
    "import pandas as pd\n",
    "\n",
    "from nba_py import game, player, constants, team\n",
    "from nba_py.player import PlayerList, PlayerCareer\n",
    "from nba_py.league import PlayerStats, TeamStats\n",
    "from nba_py.team import TeamCommonRoster, TeamSummary"
   ]
  },
  {
   "cell_type": "code",
   "execution_count": 58,
   "metadata": {},
   "outputs": [],
   "source": [
    "\n",
    "TEAMS = ['1610612737','1610612738','1610612751','1610612766','1610612741', '1610612739', '1610612742' , '1610612743', '1610612765','1610612744','1610612745', '1610612754', '1610612746', '1610612747', '1610612763', '1610612748', '1610612749', '1610612750', '1610612740', '1610612752', '1610612760','1610612753', '1610612755', '1610612756', '1610612757', '1610612758', '1610612759', '1610612761', '1610612762', '1610612764']\n",
    "\n",
    "df_RANK2000 = pd.DataFrame()\n",
    "for team in TEAMS:\n",
    "    df_RANK2000 = df_RANK2000.append(TeamStats(team_id = team, season ='2000-01').overall())\n",
    "\n",
    "#df_Rank2000 = pd.DataFrame()\n",
    "#df_RANK2000 = df_RANK2000.append(TeamStats(team_id = '1610612737', season ='2000-01').overall())\n"
   ]
  },
  {
   "cell_type": "code",
   "execution_count": 83,
   "metadata": {
    "collapsed": true
   },
   "outputs": [],
   "source": [
    "df_RANK2001 = pd.DataFrame()\n",
    "for team in TEAMS:\n",
    "    df_RANK2001 = df_RANK2001.append(TeamStats(team_id = team, season ='2001-02').overall())"
   ]
  },
  {
   "cell_type": "code",
   "execution_count": 84,
   "metadata": {
    "collapsed": true
   },
   "outputs": [],
   "source": [
    "df_RANK2002 = pd.DataFrame()\n",
    "for team in TEAMS:\n",
    "    df_RANK2002 = df_RANK2002.append(TeamStats(team_id = team, season ='2002-03').overall())"
   ]
  },
  {
   "cell_type": "code",
   "execution_count": 85,
   "metadata": {
    "collapsed": true
   },
   "outputs": [],
   "source": [
    "df_RANK2003 = pd.DataFrame()\n",
    "for team in TEAMS:\n",
    "    df_RANK2003 = df_RANK2003.append(TeamStats(team_id = team, season ='2003-04').overall())"
   ]
  },
  {
   "cell_type": "code",
   "execution_count": 86,
   "metadata": {
    "collapsed": true
   },
   "outputs": [],
   "source": [
    "df_RANK2004 = pd.DataFrame()\n",
    "for team in TEAMS:\n",
    "    df_RANK2004 = df_RANK2004.append(TeamStats(team_id = team, season ='2004-05').overall())"
   ]
  },
  {
   "cell_type": "code",
   "execution_count": 87,
   "metadata": {
    "collapsed": true
   },
   "outputs": [],
   "source": [
    "df_RANK2005 = pd.DataFrame()\n",
    "for team in TEAMS:\n",
    "    df_RANK2005 = df_RANK2005.append(TeamStats(team_id = team, season ='2005-06').overall())"
   ]
  },
  {
   "cell_type": "code",
   "execution_count": 88,
   "metadata": {
    "collapsed": true
   },
   "outputs": [],
   "source": [
    "df_RANK2006 = pd.DataFrame()\n",
    "for team in TEAMS:\n",
    "    df_RANK2006 = df_RANK2006.append(TeamStats(team_id = team, season ='2006-07').overall())"
   ]
  },
  {
   "cell_type": "code",
   "execution_count": 89,
   "metadata": {
    "collapsed": true
   },
   "outputs": [],
   "source": [
    "df_RANK2007 = pd.DataFrame()\n",
    "for team in TEAMS:\n",
    "    df_RANK2007 = df_RANK2007.append(TeamStats(team_id = team, season ='2007-08').overall())"
   ]
  },
  {
   "cell_type": "code",
   "execution_count": 90,
   "metadata": {
    "collapsed": true
   },
   "outputs": [],
   "source": [
    "df_RANK2008 = pd.DataFrame()\n",
    "for team in TEAMS:\n",
    "    df_RANK2008 = df_RANK2008.append(TeamStats(team_id = team, season ='2008-09').overall())"
   ]
  },
  {
   "cell_type": "code",
   "execution_count": 91,
   "metadata": {
    "collapsed": true
   },
   "outputs": [],
   "source": [
    "df_RANK2009 = pd.DataFrame()\n",
    "for team in TEAMS:\n",
    "    df_RANK2009 = df_RANK2009.append(TeamStats(team_id = team, season ='2009-10').overall())"
   ]
  },
  {
   "cell_type": "code",
   "execution_count": 92,
   "metadata": {
    "collapsed": true
   },
   "outputs": [],
   "source": [
    "df_RANK2010 = pd.DataFrame()\n",
    "for team in TEAMS:\n",
    "    df_RANK2010 = df_RANK2010.append(TeamStats(team_id = team, season ='2010-11').overall())"
   ]
  },
  {
   "cell_type": "code",
   "execution_count": 93,
   "metadata": {
    "collapsed": true
   },
   "outputs": [],
   "source": [
    "df_RANK2011 = pd.DataFrame()\n",
    "for team in TEAMS:\n",
    "    df_RANK2011 = df_RANK2011.append(TeamStats(team_id = team, season ='2011-12').overall())"
   ]
  },
  {
   "cell_type": "code",
   "execution_count": 94,
   "metadata": {
    "collapsed": true
   },
   "outputs": [],
   "source": [
    "df_RANK2012 = pd.DataFrame()\n",
    "for team in TEAMS:\n",
    "    df_RANK2012 = df_RANK2012.append(TeamStats(team_id = team, season ='2012-13').overall())"
   ]
  },
  {
   "cell_type": "code",
   "execution_count": 95,
   "metadata": {
    "collapsed": true
   },
   "outputs": [],
   "source": [
    "df_RANK2013 = pd.DataFrame()\n",
    "for team in TEAMS:\n",
    "    df_RANK2013 = df_RANK2013.append(TeamStats(team_id = team, season ='2013-14').overall())"
   ]
  },
  {
   "cell_type": "code",
   "execution_count": 96,
   "metadata": {
    "collapsed": true
   },
   "outputs": [],
   "source": [
    "df_RANK2014 = pd.DataFrame()\n",
    "for team in TEAMS:\n",
    "    df_RANK2014 = df_RANK2014.append(TeamStats(team_id = team, season ='2014-15').overall())"
   ]
  },
  {
   "cell_type": "code",
   "execution_count": 97,
   "metadata": {
    "collapsed": true
   },
   "outputs": [],
   "source": [
    "df_RANK2015 = pd.DataFrame()\n",
    "for team in TEAMS:\n",
    "    df_RANK2015 = df_RANK2015.append(TeamStats(team_id = team, season ='2015-16').overall())"
   ]
  },
  {
   "cell_type": "code",
   "execution_count": 98,
   "metadata": {
    "collapsed": true
   },
   "outputs": [],
   "source": [
    "df_RANK2016 = pd.DataFrame()\n",
    "for team in TEAMS:\n",
    "    df_RANK2016 = df_RANK2016.append(TeamStats(team_id = team, season ='2016-17').overall())"
   ]
  },
  {
   "cell_type": "code",
   "execution_count": 101,
   "metadata": {
    "collapsed": true
   },
   "outputs": [],
   "source": [
    "#type(df_Rank2000)\n",
    "#df_RANK2000\n",
    "#df_RANK2000sort = df_RANK2000.sort_values(by= str, axis = df_RANK2000['3'], inplace=False)\n",
    "df_RANK2000sort = df_RANK2000.sort_values(by=['W'], ascending=False)\n",
    "df_RANK2001sort = df_RANK2001.sort_values(by=['W'], ascending=False)\n",
    "df_RANK2002sort = df_RANK2002.sort_values(by=['W'], ascending=False)\n",
    "df_RANK2003sort = df_RANK2003.sort_values(by=['W'], ascending=False)\n",
    "df_RANK2004sort = df_RANK2004.sort_values(by=['W'], ascending=False)\n",
    "df_RANK2005sort = df_RANK2005.sort_values(by=['W'], ascending=False)\n",
    "df_RANK2006sort = df_RANK2006.sort_values(by=['W'], ascending=False)\n",
    "df_RANK2007sort = df_RANK2007.sort_values(by=['W'], ascending=False)\n",
    "df_RANK2008sort = df_RANK2008.sort_values(by=['W'], ascending=False)\n",
    "df_RANK2009sort = df_RANK2009.sort_values(by=['W'], ascending=False)\n",
    "df_RANK2010sort = df_RANK2010.sort_values(by=['W'], ascending=False)\n",
    "df_RANK2011sort = df_RANK2011.sort_values(by=['W'], ascending=False)\n",
    "df_RANK2012sort = df_RANK2012.sort_values(by=['W'], ascending=False)\n",
    "df_RANK2013sort = df_RANK2013.sort_values(by=['W'], ascending=False)\n",
    "df_RANK2014sort = df_RANK2014.sort_values(by=['W'], ascending=False)\n",
    "df_RANK2015sort = df_RANK2015.sort_values(by=['W'], ascending=False)\n",
    "df_RANK2016sort = df_RANK2016.sort_values(by=['W'], ascending=False)\n",
    "\n",
    "#TeamSummary(team_id = '1610612737', season ='2000-01').season_ranks()\n",
    "#df_RANK2000 = pd.DataFrame(RANK2000.season_ranks())\n",
    "#df_RANK2000.columns\n",
    "#df_RANK2000['W']\n",
    "#df_RANK2000sort"
   ]
  },
  {
   "cell_type": "code",
   "execution_count": 102,
   "metadata": {},
   "outputs": [],
   "source": [
    "df_RANK2000Top8 = df_RANK2000sort[0:8]\n",
    "df_RANK2001Top8 = df_RANK2001sort[0:8]\n",
    "df_RANK2002Top8 = df_RANK2002sort[0:8]\n",
    "df_RANK2003Top8 = df_RANK2003sort[0:8]\n",
    "df_RANK2004Top8 = df_RANK2004sort[0:8]\n",
    "df_RANK2005Top8 = df_RANK2005sort[0:8]\n",
    "df_RANK2006Top8 = df_RANK2006sort[0:8]\n",
    "df_RANK2007Top8 = df_RANK2007sort[0:8]\n",
    "df_RANK2008Top8 = df_RANK2008sort[0:8]\n",
    "df_RANK2009Top8 = df_RANK2009sort[0:8]\n",
    "df_RANK2010Top8 = df_RANK2010sort[0:8]\n",
    "df_RANK2011Top8 = df_RANK2011sort[0:8]\n",
    "df_RANK2012Top8 = df_RANK2012sort[0:8]\n",
    "df_RANK2013Top8 = df_RANK2013sort[0:8]\n",
    "df_RANK2014Top8 = df_RANK2014sort[0:8]\n",
    "df_RANK2015Top8 = df_RANK2015sort[0:8]\n",
    "df_RANK2016Top8 = df_RANK2016sort[0:8]\n",
    "\n",
    "\n",
    "\n",
    "#df_RANK2000Top8"
   ]
  },
  {
   "cell_type": "code",
   "execution_count": 103,
   "metadata": {},
   "outputs": [
    {
     "data": {
      "text/html": [
       "<div>\n",
       "<style>\n",
       "    .dataframe thead tr:only-child th {\n",
       "        text-align: right;\n",
       "    }\n",
       "\n",
       "    .dataframe thead th {\n",
       "        text-align: left;\n",
       "    }\n",
       "\n",
       "    .dataframe tbody tr th {\n",
       "        vertical-align: top;\n",
       "    }\n",
       "</style>\n",
       "<table border=\"1\" class=\"dataframe\">\n",
       "  <thead>\n",
       "    <tr style=\"text-align: right;\">\n",
       "      <th></th>\n",
       "      <th>TEAM_ID</th>\n",
       "      <th>TEAM_NAME</th>\n",
       "      <th>GP</th>\n",
       "      <th>W</th>\n",
       "      <th>L</th>\n",
       "      <th>W_PCT</th>\n",
       "      <th>MIN</th>\n",
       "      <th>FGM</th>\n",
       "      <th>FGA</th>\n",
       "      <th>FG_PCT</th>\n",
       "      <th>...</th>\n",
       "      <th>TOV_RANK</th>\n",
       "      <th>STL_RANK</th>\n",
       "      <th>BLK_RANK</th>\n",
       "      <th>BLKA_RANK</th>\n",
       "      <th>PF_RANK</th>\n",
       "      <th>PFD_RANK</th>\n",
       "      <th>PTS_RANK</th>\n",
       "      <th>PLUS_MINUS_RANK</th>\n",
       "      <th>CFID</th>\n",
       "      <th>CFPARAMS</th>\n",
       "    </tr>\n",
       "  </thead>\n",
       "  <tbody>\n",
       "    <tr>\n",
       "      <th>0</th>\n",
       "      <td>1610612744</td>\n",
       "      <td>Golden State Warriors</td>\n",
       "      <td>82</td>\n",
       "      <td>67</td>\n",
       "      <td>15</td>\n",
       "      <td>0.817</td>\n",
       "      <td>48.2</td>\n",
       "      <td>43.1</td>\n",
       "      <td>87.1</td>\n",
       "      <td>0.495</td>\n",
       "      <td>...</td>\n",
       "      <td>1</td>\n",
       "      <td>1</td>\n",
       "      <td>1</td>\n",
       "      <td>1</td>\n",
       "      <td>1</td>\n",
       "      <td>1</td>\n",
       "      <td>1</td>\n",
       "      <td>1</td>\n",
       "      <td>10</td>\n",
       "      <td>Golden State Warriors</td>\n",
       "    </tr>\n",
       "    <tr>\n",
       "      <th>0</th>\n",
       "      <td>1610612759</td>\n",
       "      <td>San Antonio Spurs</td>\n",
       "      <td>82</td>\n",
       "      <td>61</td>\n",
       "      <td>21</td>\n",
       "      <td>0.744</td>\n",
       "      <td>48.3</td>\n",
       "      <td>39.3</td>\n",
       "      <td>83.7</td>\n",
       "      <td>0.469</td>\n",
       "      <td>...</td>\n",
       "      <td>1</td>\n",
       "      <td>1</td>\n",
       "      <td>1</td>\n",
       "      <td>1</td>\n",
       "      <td>1</td>\n",
       "      <td>1</td>\n",
       "      <td>1</td>\n",
       "      <td>1</td>\n",
       "      <td>10</td>\n",
       "      <td>San Antonio Spurs</td>\n",
       "    </tr>\n",
       "    <tr>\n",
       "      <th>0</th>\n",
       "      <td>1610612745</td>\n",
       "      <td>Houston Rockets</td>\n",
       "      <td>82</td>\n",
       "      <td>55</td>\n",
       "      <td>27</td>\n",
       "      <td>0.671</td>\n",
       "      <td>48.2</td>\n",
       "      <td>40.3</td>\n",
       "      <td>87.2</td>\n",
       "      <td>0.462</td>\n",
       "      <td>...</td>\n",
       "      <td>1</td>\n",
       "      <td>1</td>\n",
       "      <td>1</td>\n",
       "      <td>1</td>\n",
       "      <td>1</td>\n",
       "      <td>1</td>\n",
       "      <td>1</td>\n",
       "      <td>1</td>\n",
       "      <td>10</td>\n",
       "      <td>Houston Rockets</td>\n",
       "    </tr>\n",
       "    <tr>\n",
       "      <th>0</th>\n",
       "      <td>1610612738</td>\n",
       "      <td>Boston Celtics</td>\n",
       "      <td>82</td>\n",
       "      <td>53</td>\n",
       "      <td>29</td>\n",
       "      <td>0.646</td>\n",
       "      <td>48.2</td>\n",
       "      <td>38.6</td>\n",
       "      <td>85.1</td>\n",
       "      <td>0.454</td>\n",
       "      <td>...</td>\n",
       "      <td>1</td>\n",
       "      <td>1</td>\n",
       "      <td>1</td>\n",
       "      <td>1</td>\n",
       "      <td>1</td>\n",
       "      <td>1</td>\n",
       "      <td>1</td>\n",
       "      <td>1</td>\n",
       "      <td>10</td>\n",
       "      <td>Boston Celtics</td>\n",
       "    </tr>\n",
       "    <tr>\n",
       "      <th>0</th>\n",
       "      <td>1610612746</td>\n",
       "      <td>LA Clippers</td>\n",
       "      <td>82</td>\n",
       "      <td>51</td>\n",
       "      <td>31</td>\n",
       "      <td>0.622</td>\n",
       "      <td>48.2</td>\n",
       "      <td>39.5</td>\n",
       "      <td>83.2</td>\n",
       "      <td>0.475</td>\n",
       "      <td>...</td>\n",
       "      <td>1</td>\n",
       "      <td>1</td>\n",
       "      <td>1</td>\n",
       "      <td>1</td>\n",
       "      <td>1</td>\n",
       "      <td>1</td>\n",
       "      <td>1</td>\n",
       "      <td>1</td>\n",
       "      <td>10</td>\n",
       "      <td>LA Clippers</td>\n",
       "    </tr>\n",
       "    <tr>\n",
       "      <th>0</th>\n",
       "      <td>1610612762</td>\n",
       "      <td>Utah Jazz</td>\n",
       "      <td>82</td>\n",
       "      <td>51</td>\n",
       "      <td>31</td>\n",
       "      <td>0.622</td>\n",
       "      <td>48.2</td>\n",
       "      <td>37.0</td>\n",
       "      <td>79.5</td>\n",
       "      <td>0.466</td>\n",
       "      <td>...</td>\n",
       "      <td>1</td>\n",
       "      <td>1</td>\n",
       "      <td>1</td>\n",
       "      <td>1</td>\n",
       "      <td>1</td>\n",
       "      <td>1</td>\n",
       "      <td>1</td>\n",
       "      <td>1</td>\n",
       "      <td>10</td>\n",
       "      <td>Utah Jazz</td>\n",
       "    </tr>\n",
       "    <tr>\n",
       "      <th>0</th>\n",
       "      <td>1610612761</td>\n",
       "      <td>Toronto Raptors</td>\n",
       "      <td>82</td>\n",
       "      <td>51</td>\n",
       "      <td>31</td>\n",
       "      <td>0.622</td>\n",
       "      <td>48.2</td>\n",
       "      <td>39.2</td>\n",
       "      <td>84.4</td>\n",
       "      <td>0.464</td>\n",
       "      <td>...</td>\n",
       "      <td>1</td>\n",
       "      <td>1</td>\n",
       "      <td>1</td>\n",
       "      <td>1</td>\n",
       "      <td>1</td>\n",
       "      <td>1</td>\n",
       "      <td>1</td>\n",
       "      <td>1</td>\n",
       "      <td>10</td>\n",
       "      <td>Toronto Raptors</td>\n",
       "    </tr>\n",
       "    <tr>\n",
       "      <th>0</th>\n",
       "      <td>1610612739</td>\n",
       "      <td>Cleveland Cavaliers</td>\n",
       "      <td>82</td>\n",
       "      <td>51</td>\n",
       "      <td>31</td>\n",
       "      <td>0.622</td>\n",
       "      <td>48.5</td>\n",
       "      <td>39.9</td>\n",
       "      <td>84.9</td>\n",
       "      <td>0.470</td>\n",
       "      <td>...</td>\n",
       "      <td>1</td>\n",
       "      <td>1</td>\n",
       "      <td>1</td>\n",
       "      <td>1</td>\n",
       "      <td>1</td>\n",
       "      <td>1</td>\n",
       "      <td>1</td>\n",
       "      <td>1</td>\n",
       "      <td>10</td>\n",
       "      <td>Cleveland Cavaliers</td>\n",
       "    </tr>\n",
       "  </tbody>\n",
       "</table>\n",
       "<p>8 rows × 56 columns</p>\n",
       "</div>"
      ],
      "text/plain": [
       "      TEAM_ID              TEAM_NAME  GP   W   L  W_PCT   MIN   FGM   FGA  \\\n",
       "0  1610612744  Golden State Warriors  82  67  15  0.817  48.2  43.1  87.1   \n",
       "0  1610612759      San Antonio Spurs  82  61  21  0.744  48.3  39.3  83.7   \n",
       "0  1610612745        Houston Rockets  82  55  27  0.671  48.2  40.3  87.2   \n",
       "0  1610612738         Boston Celtics  82  53  29  0.646  48.2  38.6  85.1   \n",
       "0  1610612746            LA Clippers  82  51  31  0.622  48.2  39.5  83.2   \n",
       "0  1610612762              Utah Jazz  82  51  31  0.622  48.2  37.0  79.5   \n",
       "0  1610612761        Toronto Raptors  82  51  31  0.622  48.2  39.2  84.4   \n",
       "0  1610612739    Cleveland Cavaliers  82  51  31  0.622  48.5  39.9  84.9   \n",
       "\n",
       "   FG_PCT          ...            TOV_RANK  STL_RANK  BLK_RANK  BLKA_RANK  \\\n",
       "0   0.495          ...                   1         1         1          1   \n",
       "0   0.469          ...                   1         1         1          1   \n",
       "0   0.462          ...                   1         1         1          1   \n",
       "0   0.454          ...                   1         1         1          1   \n",
       "0   0.475          ...                   1         1         1          1   \n",
       "0   0.466          ...                   1         1         1          1   \n",
       "0   0.464          ...                   1         1         1          1   \n",
       "0   0.470          ...                   1         1         1          1   \n",
       "\n",
       "   PF_RANK  PFD_RANK  PTS_RANK  PLUS_MINUS_RANK  CFID               CFPARAMS  \n",
       "0        1         1         1                1    10  Golden State Warriors  \n",
       "0        1         1         1                1    10      San Antonio Spurs  \n",
       "0        1         1         1                1    10        Houston Rockets  \n",
       "0        1         1         1                1    10         Boston Celtics  \n",
       "0        1         1         1                1    10            LA Clippers  \n",
       "0        1         1         1                1    10              Utah Jazz  \n",
       "0        1         1         1                1    10        Toronto Raptors  \n",
       "0        1         1         1                1    10    Cleveland Cavaliers  \n",
       "\n",
       "[8 rows x 56 columns]"
      ]
     },
     "execution_count": 103,
     "metadata": {},
     "output_type": "execute_result"
    }
   ],
   "source": [
    "df_RANK2016Top8"
   ]
  },
  {
   "cell_type": "code",
   "execution_count": 104,
   "metadata": {},
   "outputs": [
    {
     "data": {
      "text/plain": [
       "Index(['TEAM_ID', 'TEAM_NAME', 'GP', 'W', 'L', 'W_PCT', 'MIN', 'FGM', 'FGA',\n",
       "       'FG_PCT', 'FG3M', 'FG3A', 'FG3_PCT', 'FTM', 'FTA', 'FT_PCT', 'OREB',\n",
       "       'DREB', 'REB', 'AST', 'TOV', 'STL', 'BLK', 'BLKA', 'PF', 'PFD', 'PTS',\n",
       "       'PLUS_MINUS', 'GP_RANK', 'W_RANK', 'L_RANK', 'W_PCT_RANK', 'MIN_RANK',\n",
       "       'FGM_RANK', 'FGA_RANK', 'FG_PCT_RANK', 'FG3M_RANK', 'FG3A_RANK',\n",
       "       'FG3_PCT_RANK', 'FTM_RANK', 'FTA_RANK', 'FT_PCT_RANK', 'OREB_RANK',\n",
       "       'DREB_RANK', 'REB_RANK', 'AST_RANK', 'TOV_RANK', 'STL_RANK', 'BLK_RANK',\n",
       "       'BLKA_RANK', 'PF_RANK', 'PFD_RANK', 'PTS_RANK', 'PLUS_MINUS_RANK',\n",
       "       'CFID', 'CFPARAMS'],\n",
       "      dtype='object')"
      ]
     },
     "execution_count": 104,
     "metadata": {},
     "output_type": "execute_result"
    }
   ],
   "source": [
    "df_RANK2016.columns"
   ]
  },
  {
   "cell_type": "code",
   "execution_count": null,
   "metadata": {
    "collapsed": true
   },
   "outputs": [],
   "source": []
  }
 ],
 "metadata": {
  "kernelspec": {
   "display_name": "Python 3",
   "language": "python",
   "name": "python3"
  },
  "language_info": {
   "codemirror_mode": {
    "name": "ipython",
    "version": 3
   },
   "file_extension": ".py",
   "mimetype": "text/x-python",
   "name": "python",
   "nbconvert_exporter": "python",
   "pygments_lexer": "ipython3",
   "version": "3.6.3"
  }
 },
 "nbformat": 4,
 "nbformat_minor": 2
}
