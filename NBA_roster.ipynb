{
 "cells": [
  {
   "cell_type": "code",
   "execution_count": null,
   "metadata": {
    "collapsed": true
   },
   "outputs": [],
   "source": [
    "import nba_py\n",
    "import pandas as pd\n",
    "\n",
    "from nba_py import game, player, constants, team\n",
    "from nba_py.player import PlayerList, PlayerCareer\n",
    "from nba_py.league import PlayerStats\n",
    "from nba_py.team import TeamCommonRoster"
   ]
  },
  {
   "cell_type": "code",
   "execution_count": null,
   "metadata": {
    "collapsed": true
   },
   "outputs": [],
   "source": [
    "# Get every player from 2000-2001 to 2016-2017\n",
    "\n",
    "df_players2000 = PlayerStats(season ='2000-01')\n",
    "df_players2001 = PlayerStats(season ='2001-02')\n",
    "df_players2002 = PlayerStats(season ='2002-03')\n",
    "df_players2003 = PlayerStats(season ='2003-04')\n",
    "df_players2004 = PlayerStats(season ='2004-05')\n",
    "df_players2005 = PlayerStats(season ='2005-06')\n",
    "df_players2006 = PlayerStats(season ='2006-07')\n",
    "df_players2007 = PlayerStats(season ='2007-08')\n",
    "df_players2008 = PlayerStats(season ='2008-09')\n",
    "df_players2009 = PlayerStats(season ='2009-10')\n",
    "df_players2010 = PlayerStats(season ='2010-11')\n",
    "df_players2011 = PlayerStats(season ='2011-12')\n",
    "df_players2012 = PlayerStats(season ='2012-13')\n",
    "df_players2013 = PlayerStats(season ='2013-14')\n",
    "df_players2014 = PlayerStats(season ='2014-15')\n",
    "df_players2015 = PlayerStats(season ='2015-16')\n",
    "df_players2016 = PlayerStats(season ='2016-17')\n",
    "\n",
    "\n",
    "#df_players2016.overall()"
   ]
  },
  {
   "cell_type": "code",
   "execution_count": null,
   "metadata": {
    "collapsed": true
   },
   "outputs": [],
   "source": []
  },
  {
   "cell_type": "code",
   "execution_count": null,
   "metadata": {
    "collapsed": true
   },
   "outputs": [],
   "source": []
  },
  {
   "cell_type": "code",
   "execution_count": null,
   "metadata": {
    "collapsed": true
   },
   "outputs": [],
   "source": []
  },
  {
   "cell_type": "code",
   "execution_count": null,
   "metadata": {
    "collapsed": true
   },
   "outputs": [],
   "source": []
  },
  {
   "cell_type": "code",
   "execution_count": null,
   "metadata": {
    "collapsed": true
   },
   "outputs": [],
   "source": []
  },
  {
   "cell_type": "code",
   "execution_count": null,
   "metadata": {
    "collapsed": true
   },
   "outputs": [],
   "source": []
  },
  {
   "cell_type": "code",
   "execution_count": null,
   "metadata": {
    "collapsed": true
   },
   "outputs": [],
   "source": []
  },
  {
   "cell_type": "code",
   "execution_count": null,
   "metadata": {
    "collapsed": true
   },
   "outputs": [],
   "source": []
  }
 ],
 "metadata": {
  "kernelspec": {
   "display_name": "Python 3",
   "language": "python",
   "name": "python3"
  },
  "language_info": {
   "codemirror_mode": {
    "name": "ipython",
    "version": 3
   },
   "file_extension": ".py",
   "mimetype": "text/x-python",
   "name": "python",
   "nbconvert_exporter": "python",
   "pygments_lexer": "ipython3",
   "version": "3.6.3"
  }
 },
 "nbformat": 4,
 "nbformat_minor": 2
}
